{
 "cells": [
  {
   "cell_type": "code",
   "execution_count": 1,
   "metadata": {},
   "outputs": [],
   "source": [
    "%load_ext autoreload\n",
    "%autoreload 2\n",
    "%matplotlib inline"
   ]
  },
  {
   "cell_type": "code",
   "execution_count": 75,
   "metadata": {},
   "outputs": [],
   "source": [
    "import pandas as pd\n",
    "import pickle\n",
    "\n",
    "import matplotlib.cm as cm\n",
    "\n",
    "from fastai import *\n",
    "from fastai.text import *\n",
    "\n",
    "from pathlib import Path\n",
    "\n",
    "from sklearn.feature_extraction.text import CountVectorizer, TfidfVectorizer\n",
    "from sklearn.pipeline import Pipeline\n",
    "from sklearn.svm import LinearSVC\n",
    "from sklearn.naive_bayes import MultinomialNB\n",
    "from sklearn.model_selection import RandomizedSearchCV\n",
    "from sklearn.metrics import confusion_matrix, classification_report, hamming_loss, zero_one_loss, accuracy_score\n",
    "from sklearn.model_selection import train_test_split"
   ]
  },
  {
   "cell_type": "code",
   "execution_count": 3,
   "metadata": {},
   "outputs": [],
   "source": [
    "seed = 42\n",
    "\n",
    "# python RNG\n",
    "import random\n",
    "random.seed(seed)\n",
    "\n",
    "# pytorch RNGs\n",
    "import torch\n",
    "torch.manual_seed(seed)\n",
    "torch.backends.cudnn.deterministic = True\n",
    "if torch.cuda.is_available(): torch.cuda.manual_seed_all(seed)\n",
    "\n",
    "# numpy RNG\n",
    "import numpy as np\n",
    "np.random.seed(seed)"
   ]
  },
  {
   "cell_type": "code",
   "execution_count": 4,
   "metadata": {},
   "outputs": [
    {
     "name": "stdout",
     "output_type": "stream",
     "text": [
      "\r\n",
      "\r\n",
      "```text\r\n",
      "=== Software === \r\n",
      "python        : 3.7.4\r\n",
      "fastai        : 1.0.57\r\n",
      "fastprogress  : 0.1.21\r\n",
      "torch         : 1.0.1.post2\r\n",
      "nvidia driver : 410.72\r\n",
      "torch cuda    : 10.0.130 / is available\r\n",
      "torch cudnn   : 7402 / is enabled\r\n",
      "\r\n",
      "=== Hardware === \r\n",
      "nvidia gpus   : 1\r\n",
      "torch devices : 1\r\n",
      "  - gpu0      : 7611MB | Tesla P4\r\n",
      "\r\n",
      "=== Environment === \r\n",
      "platform      : Linux-4.9.0-8-amd64-x86_64-with-debian-9.8\r\n",
      "distro        : #1 SMP Debian 4.9.130-2 (2018-10-27)\r\n",
      "conda env     : base\r\n",
      "python        : /opt/anaconda3/bin/python\r\n",
      "sys.path      : /home/jupyter/kneedle-exploration\r\n",
      "/opt/anaconda3/lib/python37.zip\r\n",
      "/opt/anaconda3/lib/python3.7\r\n",
      "/opt/anaconda3/lib/python3.7/lib-dynload\r\n",
      "/opt/anaconda3/lib/python3.7/site-packages\r\n",
      "/opt/anaconda3/lib/python3.7/site-packages/IPython/extensions\r\n",
      "```\r\n",
      "\r\n",
      "Please make sure to include opening/closing ``` when you paste into forums/github to make the reports appear formatted as code sections.\r\n",
      "\r\n",
      "Optional package(s) to enhance the diagnostics can be installed with:\r\n",
      "pip install distro\r\n",
      "Once installed, re-run this utility to get the additional information\r\n"
     ]
    }
   ],
   "source": [
    "!python -m fastai.utils.show_install"
   ]
  },
  {
   "cell_type": "code",
   "execution_count": 89,
   "metadata": {},
   "outputs": [],
   "source": [
    "bs=32"
   ]
  },
  {
   "cell_type": "markdown",
   "metadata": {},
   "source": [
    "## Loading Data"
   ]
  },
  {
   "cell_type": "code",
   "execution_count": 86,
   "metadata": {},
   "outputs": [],
   "source": [
    "path = Path(\".\")"
   ]
  },
  {
   "cell_type": "code",
   "execution_count": 87,
   "metadata": {},
   "outputs": [],
   "source": [
    "df = pd.read_csv(path/\"data/clean/train.csv\")"
   ]
  },
  {
   "cell_type": "code",
   "execution_count": 88,
   "metadata": {
    "scrolled": true
   },
   "outputs": [
    {
     "data": {
      "text/html": [
       "<div>\n",
       "<style scoped>\n",
       "    .dataframe tbody tr th:only-of-type {\n",
       "        vertical-align: middle;\n",
       "    }\n",
       "\n",
       "    .dataframe tbody tr th {\n",
       "        vertical-align: top;\n",
       "    }\n",
       "\n",
       "    .dataframe thead th {\n",
       "        text-align: right;\n",
       "    }\n",
       "</style>\n",
       "<table border=\"1\" class=\"dataframe\">\n",
       "  <thead>\n",
       "    <tr style=\"text-align: right;\">\n",
       "      <th></th>\n",
       "      <th>label</th>\n",
       "      <th>text</th>\n",
       "      <th>is_valid</th>\n",
       "    </tr>\n",
       "  </thead>\n",
       "  <tbody>\n",
       "    <tr>\n",
       "      <td>0</td>\n",
       "      <td>SECRETARIA DE ESTADO DE SEGURANÇA PÚBLICA</td>\n",
       "      <td>O DIRETOR-GERAL DO DEPARTAMENTO DE TRÂNSITO DO...</td>\n",
       "      <td>False</td>\n",
       "    </tr>\n",
       "    <tr>\n",
       "      <td>1</td>\n",
       "      <td>SECRETARIA DE ESTADO DE CULTURA</td>\n",
       "      <td>PROCESSO: 00150-00010629/2018-72; NOTA DE EMPE...</td>\n",
       "      <td>False</td>\n",
       "    </tr>\n",
       "    <tr>\n",
       "      <td>2</td>\n",
       "      <td>SECRETARIA DE ESTADO DE SEGURANÇA PÚBLICA</td>\n",
       "      <td>O DIRETOR-GERAL DO DEPARTAMENTO DE TRÂNSITO DO...</td>\n",
       "      <td>False</td>\n",
       "    </tr>\n",
       "    <tr>\n",
       "      <td>3</td>\n",
       "      <td>SECRETARIA DE ESTADO DE FAZENDA, PLANEJAMENTO,...</td>\n",
       "      <td>A Comissão Permanente de Licitação do BRB - BA...</td>\n",
       "      <td>False</td>\n",
       "    </tr>\n",
       "    <tr>\n",
       "      <td>4</td>\n",
       "      <td>CASA CIVIL</td>\n",
       "      <td>A ADMINISTRADORA REGIONAL DE TAGUATINGA DO DIS...</td>\n",
       "      <td>False</td>\n",
       "    </tr>\n",
       "    <tr>\n",
       "      <td>...</td>\n",
       "      <td>...</td>\n",
       "      <td>...</td>\n",
       "      <td>...</td>\n",
       "    </tr>\n",
       "    <tr>\n",
       "      <td>712</td>\n",
       "      <td>SECRETARIA DE ESTADO DE OBRAS E INFRAESTRUTURA</td>\n",
       "      <td>O Pregoeiro da CAESB no uso de suas atribuiçõe...</td>\n",
       "      <td>True</td>\n",
       "    </tr>\n",
       "    <tr>\n",
       "      <td>713</td>\n",
       "      <td>SECRETARIA DE ESTADO DE DESENVOLVIMENTO ECONÔMICO</td>\n",
       "      <td>O SUBSECRETÁRIO DE ADMINISTRAÇÃO GERAL, DA SEC...</td>\n",
       "      <td>True</td>\n",
       "    </tr>\n",
       "    <tr>\n",
       "      <td>714</td>\n",
       "      <td>SECRETARIA DE ESTADO DE SEGURANÇA PÚBLICA</td>\n",
       "      <td>O DIRETOR DO DEPARTAMENTO DE GESTÃO DE PESSOAS...</td>\n",
       "      <td>True</td>\n",
       "    </tr>\n",
       "    <tr>\n",
       "      <td>715</td>\n",
       "      <td>SECRETARIA DE ESTADO DE SEGURANÇA PÚBLICA</td>\n",
       "      <td>PROCESSO: 00054-00027353/2018-03. PARTES: DF/P...</td>\n",
       "      <td>True</td>\n",
       "    </tr>\n",
       "    <tr>\n",
       "      <td>716</td>\n",
       "      <td>SECRETARIA DE ESTADO DE SAÚDE</td>\n",
       "      <td>Espécie: Primeiro Termo Aditivo à Ata de Regis...</td>\n",
       "      <td>True</td>\n",
       "    </tr>\n",
       "  </tbody>\n",
       "</table>\n",
       "<p>717 rows × 3 columns</p>\n",
       "</div>"
      ],
      "text/plain": [
       "                                                 label  \\\n",
       "0            SECRETARIA DE ESTADO DE SEGURANÇA PÚBLICA   \n",
       "1                      SECRETARIA DE ESTADO DE CULTURA   \n",
       "2            SECRETARIA DE ESTADO DE SEGURANÇA PÚBLICA   \n",
       "3    SECRETARIA DE ESTADO DE FAZENDA, PLANEJAMENTO,...   \n",
       "4                                           CASA CIVIL   \n",
       "..                                                 ...   \n",
       "712     SECRETARIA DE ESTADO DE OBRAS E INFRAESTRUTURA   \n",
       "713  SECRETARIA DE ESTADO DE DESENVOLVIMENTO ECONÔMICO   \n",
       "714          SECRETARIA DE ESTADO DE SEGURANÇA PÚBLICA   \n",
       "715          SECRETARIA DE ESTADO DE SEGURANÇA PÚBLICA   \n",
       "716                      SECRETARIA DE ESTADO DE SAÚDE   \n",
       "\n",
       "                                                  text  is_valid  \n",
       "0    O DIRETOR-GERAL DO DEPARTAMENTO DE TRÂNSITO DO...     False  \n",
       "1    PROCESSO: 00150-00010629/2018-72; NOTA DE EMPE...     False  \n",
       "2    O DIRETOR-GERAL DO DEPARTAMENTO DE TRÂNSITO DO...     False  \n",
       "3    A Comissão Permanente de Licitação do BRB - BA...     False  \n",
       "4    A ADMINISTRADORA REGIONAL DE TAGUATINGA DO DIS...     False  \n",
       "..                                                 ...       ...  \n",
       "712  O Pregoeiro da CAESB no uso de suas atribuiçõe...      True  \n",
       "713  O SUBSECRETÁRIO DE ADMINISTRAÇÃO GERAL, DA SEC...      True  \n",
       "714  O DIRETOR DO DEPARTAMENTO DE GESTÃO DE PESSOAS...      True  \n",
       "715  PROCESSO: 00054-00027353/2018-03. PARTES: DF/P...      True  \n",
       "716  Espécie: Primeiro Termo Aditivo à Ata de Regis...      True  \n",
       "\n",
       "[717 rows x 3 columns]"
      ]
     },
     "execution_count": 88,
     "metadata": {},
     "output_type": "execute_result"
    }
   ],
   "source": [
    "df"
   ]
  },
  {
   "cell_type": "code",
   "execution_count": 90,
   "metadata": {},
   "outputs": [
    {
     "data": {
      "text/html": [
       "<div>\n",
       "<style scoped>\n",
       "    .dataframe tbody tr th:only-of-type {\n",
       "        vertical-align: middle;\n",
       "    }\n",
       "\n",
       "    .dataframe tbody tr th {\n",
       "        vertical-align: top;\n",
       "    }\n",
       "\n",
       "    .dataframe thead th {\n",
       "        text-align: right;\n",
       "    }\n",
       "</style>\n",
       "<table border=\"1\" class=\"dataframe\">\n",
       "  <thead>\n",
       "    <tr style=\"text-align: right;\">\n",
       "      <th></th>\n",
       "      <th>label</th>\n",
       "      <th>text</th>\n",
       "      <th>is_valid</th>\n",
       "    </tr>\n",
       "  </thead>\n",
       "  <tbody>\n",
       "    <tr>\n",
       "      <td>0</td>\n",
       "      <td>SECRETARIA DE ESTADO DE SEGURANÇA PÚBLICA</td>\n",
       "      <td>O DIRETOR-GERAL DO DEPARTAMENTO DE TRÂNSITO DO...</td>\n",
       "      <td>False</td>\n",
       "    </tr>\n",
       "    <tr>\n",
       "      <td>1</td>\n",
       "      <td>SECRETARIA DE ESTADO DE CULTURA</td>\n",
       "      <td>PROCESSO: 00150-00010629/2018-72; NOTA DE EMPE...</td>\n",
       "      <td>False</td>\n",
       "    </tr>\n",
       "    <tr>\n",
       "      <td>2</td>\n",
       "      <td>SECRETARIA DE ESTADO DE SEGURANÇA PÚBLICA</td>\n",
       "      <td>O DIRETOR-GERAL DO DEPARTAMENTO DE TRÂNSITO DO...</td>\n",
       "      <td>False</td>\n",
       "    </tr>\n",
       "    <tr>\n",
       "      <td>3</td>\n",
       "      <td>SECRETARIA DE ESTADO DE FAZENDA, PLANEJAMENTO,...</td>\n",
       "      <td>A Comissão Permanente de Licitação do BRB - BA...</td>\n",
       "      <td>False</td>\n",
       "    </tr>\n",
       "    <tr>\n",
       "      <td>4</td>\n",
       "      <td>CASA CIVIL</td>\n",
       "      <td>A ADMINISTRADORA REGIONAL DE TAGUATINGA DO DIS...</td>\n",
       "      <td>False</td>\n",
       "    </tr>\n",
       "    <tr>\n",
       "      <td>...</td>\n",
       "      <td>...</td>\n",
       "      <td>...</td>\n",
       "      <td>...</td>\n",
       "    </tr>\n",
       "    <tr>\n",
       "      <td>475</td>\n",
       "      <td>SECRETARIA DE ESTADO DE FAZENDA, PLANEJAMENTO,...</td>\n",
       "      <td>A DIRETORA PRESIDENTE DO INSTITUTO DE PREVIDÊN...</td>\n",
       "      <td>False</td>\n",
       "    </tr>\n",
       "    <tr>\n",
       "      <td>476</td>\n",
       "      <td>SECRETARIA DE ESTADO DE SAÚDE</td>\n",
       "      <td>A DIRETORA DO HOSPITAL MATERNO INFANTIL DE BRA...</td>\n",
       "      <td>False</td>\n",
       "    </tr>\n",
       "    <tr>\n",
       "      <td>477</td>\n",
       "      <td>SECRETARIA DE ESTADO DE SEGURANÇA PÚBLICA</td>\n",
       "      <td>O DIRETOR-GERAL DO DEPARTAMENTO DE TRÂNSITO DO...</td>\n",
       "      <td>False</td>\n",
       "    </tr>\n",
       "    <tr>\n",
       "      <td>478</td>\n",
       "      <td>SECRETARIA DE ESTADO DE AGRICULTURA, ABASTECIM...</td>\n",
       "      <td>O SUBSECRETÁRIO DE ADMINISTRAÇÃO GERAL, DA SEC...</td>\n",
       "      <td>False</td>\n",
       "    </tr>\n",
       "    <tr>\n",
       "      <td>479</td>\n",
       "      <td>SECRETARIA DE ESTADO DE SEGURANÇA PÚBLICA</td>\n",
       "      <td>PROCESSO: 0052.001.240/2012 - PARTES: Distrito...</td>\n",
       "      <td>False</td>\n",
       "    </tr>\n",
       "  </tbody>\n",
       "</table>\n",
       "<p>480 rows × 3 columns</p>\n",
       "</div>"
      ],
      "text/plain": [
       "                                                 label  \\\n",
       "0            SECRETARIA DE ESTADO DE SEGURANÇA PÚBLICA   \n",
       "1                      SECRETARIA DE ESTADO DE CULTURA   \n",
       "2            SECRETARIA DE ESTADO DE SEGURANÇA PÚBLICA   \n",
       "3    SECRETARIA DE ESTADO DE FAZENDA, PLANEJAMENTO,...   \n",
       "4                                           CASA CIVIL   \n",
       "..                                                 ...   \n",
       "475  SECRETARIA DE ESTADO DE FAZENDA, PLANEJAMENTO,...   \n",
       "476                      SECRETARIA DE ESTADO DE SAÚDE   \n",
       "477          SECRETARIA DE ESTADO DE SEGURANÇA PÚBLICA   \n",
       "478  SECRETARIA DE ESTADO DE AGRICULTURA, ABASTECIM...   \n",
       "479          SECRETARIA DE ESTADO DE SEGURANÇA PÚBLICA   \n",
       "\n",
       "                                                  text  is_valid  \n",
       "0    O DIRETOR-GERAL DO DEPARTAMENTO DE TRÂNSITO DO...     False  \n",
       "1    PROCESSO: 00150-00010629/2018-72; NOTA DE EMPE...     False  \n",
       "2    O DIRETOR-GERAL DO DEPARTAMENTO DE TRÂNSITO DO...     False  \n",
       "3    A Comissão Permanente de Licitação do BRB - BA...     False  \n",
       "4    A ADMINISTRADORA REGIONAL DE TAGUATINGA DO DIS...     False  \n",
       "..                                                 ...       ...  \n",
       "475  A DIRETORA PRESIDENTE DO INSTITUTO DE PREVIDÊN...     False  \n",
       "476  A DIRETORA DO HOSPITAL MATERNO INFANTIL DE BRA...     False  \n",
       "477  O DIRETOR-GERAL DO DEPARTAMENTO DE TRÂNSITO DO...     False  \n",
       "478  O SUBSECRETÁRIO DE ADMINISTRAÇÃO GERAL, DA SEC...     False  \n",
       "479  PROCESSO: 0052.001.240/2012 - PARTES: Distrito...     False  \n",
       "\n",
       "[480 rows x 3 columns]"
      ]
     },
     "execution_count": 90,
     "metadata": {},
     "output_type": "execute_result"
    }
   ],
   "source": [
    "df_train = df[df[\"is_valid\"] == False]; df_train"
   ]
  },
  {
   "cell_type": "code",
   "execution_count": 91,
   "metadata": {},
   "outputs": [
    {
     "data": {
      "text/html": [
       "<div>\n",
       "<style scoped>\n",
       "    .dataframe tbody tr th:only-of-type {\n",
       "        vertical-align: middle;\n",
       "    }\n",
       "\n",
       "    .dataframe tbody tr th {\n",
       "        vertical-align: top;\n",
       "    }\n",
       "\n",
       "    .dataframe thead th {\n",
       "        text-align: right;\n",
       "    }\n",
       "</style>\n",
       "<table border=\"1\" class=\"dataframe\">\n",
       "  <thead>\n",
       "    <tr style=\"text-align: right;\">\n",
       "      <th></th>\n",
       "      <th>label</th>\n",
       "      <th>text</th>\n",
       "      <th>is_valid</th>\n",
       "    </tr>\n",
       "  </thead>\n",
       "  <tbody>\n",
       "    <tr>\n",
       "      <td>480</td>\n",
       "      <td>CASA CIVIL</td>\n",
       "      <td>A COORDENADORA DE ADMINISTRAÇÃO GERAL, DA ADMI...</td>\n",
       "      <td>True</td>\n",
       "    </tr>\n",
       "    <tr>\n",
       "      <td>481</td>\n",
       "      <td>SECRETARIA DE ESTADO DE SEGURANÇA PÚBLICA</td>\n",
       "      <td>O DIRETOR-GERAL DO DEPARTAMENTO DE TRÂNSITO DO...</td>\n",
       "      <td>True</td>\n",
       "    </tr>\n",
       "    <tr>\n",
       "      <td>482</td>\n",
       "      <td>SECRETARIA DE ESTADO DE TRANSPORTE E MOBILIDADE</td>\n",
       "      <td>O SUPERINTENDENTE DE OPERAÇÕES, DO DEPARTAMENT...</td>\n",
       "      <td>True</td>\n",
       "    </tr>\n",
       "    <tr>\n",
       "      <td>483</td>\n",
       "      <td>SECRETARIA DE ESTADO DE SAÚDE</td>\n",
       "      <td>O Subsecretário de Administração Geral, Substi...</td>\n",
       "      <td>True</td>\n",
       "    </tr>\n",
       "    <tr>\n",
       "      <td>484</td>\n",
       "      <td>SECRETARIA DE ESTADO DE SEGURANÇA PÚBLICA</td>\n",
       "      <td>O DIRETOR-GERAL DO DEPARTAMENTO DE TRÂNSITO DO...</td>\n",
       "      <td>True</td>\n",
       "    </tr>\n",
       "    <tr>\n",
       "      <td>...</td>\n",
       "      <td>...</td>\n",
       "      <td>...</td>\n",
       "      <td>...</td>\n",
       "    </tr>\n",
       "    <tr>\n",
       "      <td>712</td>\n",
       "      <td>SECRETARIA DE ESTADO DE OBRAS E INFRAESTRUTURA</td>\n",
       "      <td>O Pregoeiro da CAESB no uso de suas atribuiçõe...</td>\n",
       "      <td>True</td>\n",
       "    </tr>\n",
       "    <tr>\n",
       "      <td>713</td>\n",
       "      <td>SECRETARIA DE ESTADO DE DESENVOLVIMENTO ECONÔMICO</td>\n",
       "      <td>O SUBSECRETÁRIO DE ADMINISTRAÇÃO GERAL, DA SEC...</td>\n",
       "      <td>True</td>\n",
       "    </tr>\n",
       "    <tr>\n",
       "      <td>714</td>\n",
       "      <td>SECRETARIA DE ESTADO DE SEGURANÇA PÚBLICA</td>\n",
       "      <td>O DIRETOR DO DEPARTAMENTO DE GESTÃO DE PESSOAS...</td>\n",
       "      <td>True</td>\n",
       "    </tr>\n",
       "    <tr>\n",
       "      <td>715</td>\n",
       "      <td>SECRETARIA DE ESTADO DE SEGURANÇA PÚBLICA</td>\n",
       "      <td>PROCESSO: 00054-00027353/2018-03. PARTES: DF/P...</td>\n",
       "      <td>True</td>\n",
       "    </tr>\n",
       "    <tr>\n",
       "      <td>716</td>\n",
       "      <td>SECRETARIA DE ESTADO DE SAÚDE</td>\n",
       "      <td>Espécie: Primeiro Termo Aditivo à Ata de Regis...</td>\n",
       "      <td>True</td>\n",
       "    </tr>\n",
       "  </tbody>\n",
       "</table>\n",
       "<p>237 rows × 3 columns</p>\n",
       "</div>"
      ],
      "text/plain": [
       "                                                 label  \\\n",
       "480                                         CASA CIVIL   \n",
       "481          SECRETARIA DE ESTADO DE SEGURANÇA PÚBLICA   \n",
       "482    SECRETARIA DE ESTADO DE TRANSPORTE E MOBILIDADE   \n",
       "483                      SECRETARIA DE ESTADO DE SAÚDE   \n",
       "484          SECRETARIA DE ESTADO DE SEGURANÇA PÚBLICA   \n",
       "..                                                 ...   \n",
       "712     SECRETARIA DE ESTADO DE OBRAS E INFRAESTRUTURA   \n",
       "713  SECRETARIA DE ESTADO DE DESENVOLVIMENTO ECONÔMICO   \n",
       "714          SECRETARIA DE ESTADO DE SEGURANÇA PÚBLICA   \n",
       "715          SECRETARIA DE ESTADO DE SEGURANÇA PÚBLICA   \n",
       "716                      SECRETARIA DE ESTADO DE SAÚDE   \n",
       "\n",
       "                                                  text  is_valid  \n",
       "480  A COORDENADORA DE ADMINISTRAÇÃO GERAL, DA ADMI...      True  \n",
       "481  O DIRETOR-GERAL DO DEPARTAMENTO DE TRÂNSITO DO...      True  \n",
       "482  O SUPERINTENDENTE DE OPERAÇÕES, DO DEPARTAMENT...      True  \n",
       "483  O Subsecretário de Administração Geral, Substi...      True  \n",
       "484  O DIRETOR-GERAL DO DEPARTAMENTO DE TRÂNSITO DO...      True  \n",
       "..                                                 ...       ...  \n",
       "712  O Pregoeiro da CAESB no uso de suas atribuiçõe...      True  \n",
       "713  O SUBSECRETÁRIO DE ADMINISTRAÇÃO GERAL, DA SEC...      True  \n",
       "714  O DIRETOR DO DEPARTAMENTO DE GESTÃO DE PESSOAS...      True  \n",
       "715  PROCESSO: 00054-00027353/2018-03. PARTES: DF/P...      True  \n",
       "716  Espécie: Primeiro Termo Aditivo à Ata de Regis...      True  \n",
       "\n",
       "[237 rows x 3 columns]"
      ]
     },
     "execution_count": 91,
     "metadata": {},
     "output_type": "execute_result"
    }
   ],
   "source": [
    "df_test = df[df[\"is_valid\"] == True]; df_test"
   ]
  },
  {
   "cell_type": "code",
   "execution_count": 92,
   "metadata": {},
   "outputs": [
    {
     "data": {
      "text/html": [
       "<div>\n",
       "<style scoped>\n",
       "    .dataframe tbody tr th:only-of-type {\n",
       "        vertical-align: middle;\n",
       "    }\n",
       "\n",
       "    .dataframe tbody tr th {\n",
       "        vertical-align: top;\n",
       "    }\n",
       "\n",
       "    .dataframe thead th {\n",
       "        text-align: right;\n",
       "    }\n",
       "</style>\n",
       "<table border=\"1\" class=\"dataframe\">\n",
       "  <thead>\n",
       "    <tr style=\"text-align: right;\">\n",
       "      <th></th>\n",
       "      <th>text</th>\n",
       "    </tr>\n",
       "  </thead>\n",
       "  <tbody>\n",
       "    <tr>\n",
       "      <td>0</td>\n",
       "      <td>O DIRETOR-GERAL DO DEPARTAMENTO DE TRÂNSITO DO...</td>\n",
       "    </tr>\n",
       "    <tr>\n",
       "      <td>1</td>\n",
       "      <td>A Comissão Permanente de Licitação da BRB ADMI...</td>\n",
       "    </tr>\n",
       "    <tr>\n",
       "      <td>2</td>\n",
       "      <td>PROCESSO Nº 00095-00002392/2018-12.\\nO DIRETOR...</td>\n",
       "    </tr>\n",
       "    <tr>\n",
       "      <td>3</td>\n",
       "      <td>Partes: DETRAN-DF e a empresa SINASC SINALIZAÇ...</td>\n",
       "    </tr>\n",
       "    <tr>\n",
       "      <td>4</td>\n",
       "      <td>Espécie: Contrato nº 647/2018-CEB DISTRIBUIÇÃO...</td>\n",
       "    </tr>\n",
       "    <tr>\n",
       "      <td>...</td>\n",
       "      <td>...</td>\n",
       "    </tr>\n",
       "    <tr>\n",
       "      <td>1921</td>\n",
       "      <td>O Secretário de Estado de Cultura do Distrito ...</td>\n",
       "    </tr>\n",
       "    <tr>\n",
       "      <td>1922</td>\n",
       "      <td>PROCESSO Nº 00150-00010640/2018-32\\nCLÁUSULA P...</td>\n",
       "    </tr>\n",
       "    <tr>\n",
       "      <td>1923</td>\n",
       "      <td>Processo: 00220-00005431/2018-32 - Das Partes:...</td>\n",
       "    </tr>\n",
       "    <tr>\n",
       "      <td>1924</td>\n",
       "      <td>Processo: PROCESSO 00220-00005706/2018-38. Par...</td>\n",
       "    </tr>\n",
       "    <tr>\n",
       "      <td>1925</td>\n",
       "      <td>Objeto: Contratação de empresa especializada p...</td>\n",
       "    </tr>\n",
       "  </tbody>\n",
       "</table>\n",
       "<p>1926 rows × 1 columns</p>\n",
       "</div>"
      ],
      "text/plain": [
       "                                                   text\n",
       "0     O DIRETOR-GERAL DO DEPARTAMENTO DE TRÂNSITO DO...\n",
       "1     A Comissão Permanente de Licitação da BRB ADMI...\n",
       "2     PROCESSO Nº 00095-00002392/2018-12.\\nO DIRETOR...\n",
       "3     Partes: DETRAN-DF e a empresa SINASC SINALIZAÇ...\n",
       "4     Espécie: Contrato nº 647/2018-CEB DISTRIBUIÇÃO...\n",
       "...                                                 ...\n",
       "1921  O Secretário de Estado de Cultura do Distrito ...\n",
       "1922  PROCESSO Nº 00150-00010640/2018-32\\nCLÁUSULA P...\n",
       "1923  Processo: 00220-00005431/2018-32 - Das Partes:...\n",
       "1924  Processo: PROCESSO 00220-00005706/2018-38. Par...\n",
       "1925  Objeto: Contratação de empresa especializada p...\n",
       "\n",
       "[1926 rows x 1 columns]"
      ]
     },
     "execution_count": 92,
     "metadata": {},
     "output_type": "execute_result"
    }
   ],
   "source": [
    "df_lm = pd.read_csv(path/'data/clean/unsup/unsup.csv'); df_lm"
   ]
  },
  {
   "cell_type": "code",
   "execution_count": 93,
   "metadata": {},
   "outputs": [],
   "source": [
    "X, y = df_train[\"text\"].to_list(), df_train[\"label\"].to_list()"
   ]
  },
  {
   "cell_type": "code",
   "execution_count": 94,
   "metadata": {},
   "outputs": [],
   "source": [
    "X_train, X_valid, y_train, y_valid = train_test_split(X, y, test_size=0.2, random_state=42, stratify=y)"
   ]
  },
  {
   "cell_type": "code",
   "execution_count": 95,
   "metadata": {},
   "outputs": [],
   "source": [
    "df_train = pd.DataFrame()\n",
    "df_valid = pd.DataFrame()"
   ]
  },
  {
   "cell_type": "code",
   "execution_count": 96,
   "metadata": {},
   "outputs": [],
   "source": [
    "df_train[\"label\"], df_train[\"text\"] = y_train, X_train"
   ]
  },
  {
   "cell_type": "code",
   "execution_count": 97,
   "metadata": {},
   "outputs": [],
   "source": [
    "df_valid[\"label\"], df_valid[\"text\"] = y_valid, X_valid"
   ]
  },
  {
   "cell_type": "code",
   "execution_count": 98,
   "metadata": {},
   "outputs": [
    {
     "data": {
      "text/html": [
       "<div>\n",
       "<style scoped>\n",
       "    .dataframe tbody tr th:only-of-type {\n",
       "        vertical-align: middle;\n",
       "    }\n",
       "\n",
       "    .dataframe tbody tr th {\n",
       "        vertical-align: top;\n",
       "    }\n",
       "\n",
       "    .dataframe thead th {\n",
       "        text-align: right;\n",
       "    }\n",
       "</style>\n",
       "<table border=\"1\" class=\"dataframe\">\n",
       "  <thead>\n",
       "    <tr style=\"text-align: right;\">\n",
       "      <th></th>\n",
       "      <th>label</th>\n",
       "      <th>text</th>\n",
       "    </tr>\n",
       "  </thead>\n",
       "  <tbody>\n",
       "    <tr>\n",
       "      <td>0</td>\n",
       "      <td>SECRETARIA DE ESTADO DE FAZENDA, PLANEJAMENTO,...</td>\n",
       "      <td>Contratante: BANCO DE BRASÍLIA S.A. - BRB - Pr...</td>\n",
       "    </tr>\n",
       "    <tr>\n",
       "      <td>1</td>\n",
       "      <td>SECRETARIA DE ESTADO DE SEGURANÇA PÚBLICA</td>\n",
       "      <td>Na Portaria nº 174, de 13 de setembro de 2018,...</td>\n",
       "    </tr>\n",
       "    <tr>\n",
       "      <td>2</td>\n",
       "      <td>SECRETARIA DE ESTADO DE SEGURANÇA PÚBLICA</td>\n",
       "      <td>PROCESSO: 052.002.326/2016. OBJETO: Contrataçã...</td>\n",
       "    </tr>\n",
       "    <tr>\n",
       "      <td>3</td>\n",
       "      <td>SECRETARIA DE ESTADO DE SEGURANÇA PÚBLICA</td>\n",
       "      <td>O PRESIDENTE DA COMISSÃO PERMANENTE DE CONCURS...</td>\n",
       "    </tr>\n",
       "    <tr>\n",
       "      <td>4</td>\n",
       "      <td>SECRETARIA DE ESTADO DE SEGURANÇA PÚBLICA</td>\n",
       "      <td>O DIRETOR-GERAL DO DEPARTAMENTO DE TRÂNSITO DO...</td>\n",
       "    </tr>\n",
       "    <tr>\n",
       "      <td>...</td>\n",
       "      <td>...</td>\n",
       "      <td>...</td>\n",
       "    </tr>\n",
       "    <tr>\n",
       "      <td>379</td>\n",
       "      <td>SECRETARIA DE ESTADO DE OBRAS E INFRAESTRUTURA</td>\n",
       "      <td>O PRESIDENTE DA COMPANHIA DE SANEAMENTO AMBIEN...</td>\n",
       "    </tr>\n",
       "    <tr>\n",
       "      <td>380</td>\n",
       "      <td>SECRETARIA DE ESTADO DE SEGURANÇA PÚBLICA</td>\n",
       "      <td>O Diretor-Geral do Detran/DF, em cumprimento a...</td>\n",
       "    </tr>\n",
       "    <tr>\n",
       "      <td>381</td>\n",
       "      <td>SECRETARIA DE ESTADO DE DESENVOLVIMENTO URBANO...</td>\n",
       "      <td>Aos três dias do mês de janeiro do ano de dois...</td>\n",
       "    </tr>\n",
       "    <tr>\n",
       "      <td>382</td>\n",
       "      <td>SECRETARIA DE ESTADO DE SEGURANÇA PÚBLICA</td>\n",
       "      <td>PROCESSO: 052.002.276/2016. PARTES: Distrito F...</td>\n",
       "    </tr>\n",
       "    <tr>\n",
       "      <td>383</td>\n",
       "      <td>SECRETARIA DE ESTADO DE SAÚDE</td>\n",
       "      <td>A DIRETORA DE ADMINISTRAÇÃO DE PROFISSIONAIS, ...</td>\n",
       "    </tr>\n",
       "  </tbody>\n",
       "</table>\n",
       "<p>384 rows × 2 columns</p>\n",
       "</div>"
      ],
      "text/plain": [
       "                                                 label  \\\n",
       "0    SECRETARIA DE ESTADO DE FAZENDA, PLANEJAMENTO,...   \n",
       "1            SECRETARIA DE ESTADO DE SEGURANÇA PÚBLICA   \n",
       "2            SECRETARIA DE ESTADO DE SEGURANÇA PÚBLICA   \n",
       "3            SECRETARIA DE ESTADO DE SEGURANÇA PÚBLICA   \n",
       "4            SECRETARIA DE ESTADO DE SEGURANÇA PÚBLICA   \n",
       "..                                                 ...   \n",
       "379     SECRETARIA DE ESTADO DE OBRAS E INFRAESTRUTURA   \n",
       "380          SECRETARIA DE ESTADO DE SEGURANÇA PÚBLICA   \n",
       "381  SECRETARIA DE ESTADO DE DESENVOLVIMENTO URBANO...   \n",
       "382          SECRETARIA DE ESTADO DE SEGURANÇA PÚBLICA   \n",
       "383                      SECRETARIA DE ESTADO DE SAÚDE   \n",
       "\n",
       "                                                  text  \n",
       "0    Contratante: BANCO DE BRASÍLIA S.A. - BRB - Pr...  \n",
       "1    Na Portaria nº 174, de 13 de setembro de 2018,...  \n",
       "2    PROCESSO: 052.002.326/2016. OBJETO: Contrataçã...  \n",
       "3    O PRESIDENTE DA COMISSÃO PERMANENTE DE CONCURS...  \n",
       "4    O DIRETOR-GERAL DO DEPARTAMENTO DE TRÂNSITO DO...  \n",
       "..                                                 ...  \n",
       "379  O PRESIDENTE DA COMPANHIA DE SANEAMENTO AMBIEN...  \n",
       "380  O Diretor-Geral do Detran/DF, em cumprimento a...  \n",
       "381  Aos três dias do mês de janeiro do ano de dois...  \n",
       "382  PROCESSO: 052.002.276/2016. PARTES: Distrito F...  \n",
       "383  A DIRETORA DE ADMINISTRAÇÃO DE PROFISSIONAIS, ...  \n",
       "\n",
       "[384 rows x 2 columns]"
      ]
     },
     "execution_count": 98,
     "metadata": {},
     "output_type": "execute_result"
    }
   ],
   "source": [
    "df_train"
   ]
  },
  {
   "cell_type": "code",
   "execution_count": 99,
   "metadata": {},
   "outputs": [
    {
     "data": {
      "text/html": [
       "<div>\n",
       "<style scoped>\n",
       "    .dataframe tbody tr th:only-of-type {\n",
       "        vertical-align: middle;\n",
       "    }\n",
       "\n",
       "    .dataframe tbody tr th {\n",
       "        vertical-align: top;\n",
       "    }\n",
       "\n",
       "    .dataframe thead th {\n",
       "        text-align: right;\n",
       "    }\n",
       "</style>\n",
       "<table border=\"1\" class=\"dataframe\">\n",
       "  <thead>\n",
       "    <tr style=\"text-align: right;\">\n",
       "      <th></th>\n",
       "      <th>label</th>\n",
       "      <th>text</th>\n",
       "    </tr>\n",
       "  </thead>\n",
       "  <tbody>\n",
       "    <tr>\n",
       "      <td>0</td>\n",
       "      <td>SECRETARIA DE ESTADO DE EDUCAÇÃO</td>\n",
       "      <td>Processo: 00080-00204312/2018-30: Reconhecimen...</td>\n",
       "    </tr>\n",
       "    <tr>\n",
       "      <td>1</td>\n",
       "      <td>SECRETARIA DE ESTADO DE SAÚDE</td>\n",
       "      <td>A SECRETARIA DE ESTADO DE SAÚDE DO DISTRITO FE...</td>\n",
       "    </tr>\n",
       "    <tr>\n",
       "      <td>2</td>\n",
       "      <td>PODER EXECUTIVO</td>\n",
       "      <td>O GOVERNADOR DO DISTRITO FEDERAL, no uso das a...</td>\n",
       "    </tr>\n",
       "    <tr>\n",
       "      <td>3</td>\n",
       "      <td>SECRETARIA DE ESTADO DE SEGURANÇA PÚBLICA</td>\n",
       "      <td>O DIRETOR DE INATIVOS, PENSIONISTAS E CIVIS, D...</td>\n",
       "    </tr>\n",
       "    <tr>\n",
       "      <td>4</td>\n",
       "      <td>SECRETARIA DE ESTADO DE TRANSPORTE E MOBILIDADE</td>\n",
       "      <td>O SUPERINTENDENTE DE OPERAÇÕES, DO DEPARTAMENT...</td>\n",
       "    </tr>\n",
       "    <tr>\n",
       "      <td>...</td>\n",
       "      <td>...</td>\n",
       "      <td>...</td>\n",
       "    </tr>\n",
       "    <tr>\n",
       "      <td>91</td>\n",
       "      <td>SECRETARIA DE ESTADO DE SAÚDE</td>\n",
       "      <td>O SECRETÁRIO DE ESTADO DE SAÚDE DO DISTRITO FE...</td>\n",
       "    </tr>\n",
       "    <tr>\n",
       "      <td>92</td>\n",
       "      <td>PODER EXECUTIVO</td>\n",
       "      <td>O GOVERNADOR DO DISTRITO FEDERAL, no uso das a...</td>\n",
       "    </tr>\n",
       "    <tr>\n",
       "      <td>93</td>\n",
       "      <td>SECRETARIA DE ESTADO DE DESENVOLVIMENTO URBANO...</td>\n",
       "      <td>O DISTRITO FEDERAL, representado pela COMPANHI...</td>\n",
       "    </tr>\n",
       "    <tr>\n",
       "      <td>94</td>\n",
       "      <td>CASA CIVIL</td>\n",
       "      <td>O ADMINISTRADOR REGIONAL DO CRUZEIRO DO DISTRI...</td>\n",
       "    </tr>\n",
       "    <tr>\n",
       "      <td>95</td>\n",
       "      <td>SECRETARIA DE ESTADO DE TRANSPORTE E MOBILIDADE</td>\n",
       "      <td>O DIRETOR-GERAL DO DEPARTAMENTO DE ESTRADAS DE...</td>\n",
       "    </tr>\n",
       "  </tbody>\n",
       "</table>\n",
       "<p>96 rows × 2 columns</p>\n",
       "</div>"
      ],
      "text/plain": [
       "                                                label  \\\n",
       "0                    SECRETARIA DE ESTADO DE EDUCAÇÃO   \n",
       "1                       SECRETARIA DE ESTADO DE SAÚDE   \n",
       "2                                     PODER EXECUTIVO   \n",
       "3           SECRETARIA DE ESTADO DE SEGURANÇA PÚBLICA   \n",
       "4     SECRETARIA DE ESTADO DE TRANSPORTE E MOBILIDADE   \n",
       "..                                                ...   \n",
       "91                      SECRETARIA DE ESTADO DE SAÚDE   \n",
       "92                                    PODER EXECUTIVO   \n",
       "93  SECRETARIA DE ESTADO DE DESENVOLVIMENTO URBANO...   \n",
       "94                                         CASA CIVIL   \n",
       "95    SECRETARIA DE ESTADO DE TRANSPORTE E MOBILIDADE   \n",
       "\n",
       "                                                 text  \n",
       "0   Processo: 00080-00204312/2018-30: Reconhecimen...  \n",
       "1   A SECRETARIA DE ESTADO DE SAÚDE DO DISTRITO FE...  \n",
       "2   O GOVERNADOR DO DISTRITO FEDERAL, no uso das a...  \n",
       "3   O DIRETOR DE INATIVOS, PENSIONISTAS E CIVIS, D...  \n",
       "4   O SUPERINTENDENTE DE OPERAÇÕES, DO DEPARTAMENT...  \n",
       "..                                                ...  \n",
       "91  O SECRETÁRIO DE ESTADO DE SAÚDE DO DISTRITO FE...  \n",
       "92  O GOVERNADOR DO DISTRITO FEDERAL, no uso das a...  \n",
       "93  O DISTRITO FEDERAL, representado pela COMPANHI...  \n",
       "94  O ADMINISTRADOR REGIONAL DO CRUZEIRO DO DISTRI...  \n",
       "95  O DIRETOR-GERAL DO DEPARTAMENTO DE ESTRADAS DE...  \n",
       "\n",
       "[96 rows x 2 columns]"
      ]
     },
     "execution_count": 99,
     "metadata": {},
     "output_type": "execute_result"
    }
   ],
   "source": [
    "df_valid"
   ]
  },
  {
   "cell_type": "code",
   "execution_count": 100,
   "metadata": {},
   "outputs": [
    {
     "data": {
      "text/plain": [
       "(SECRETARIA DE ESTADO DE SEGURANÇA PÚBLICA                                            82\n",
       " SECRETARIA DE ESTADO DE SAÚDE                                                        52\n",
       " SECRETARIA DE ESTADO DE FAZENDA, PLANEJAMENTO, ORÇAMENTO E GESTÃO                    34\n",
       " SECRETARIA DE ESTADO DE TRANSPORTE E MOBILIDADE                                      32\n",
       " CASA CIVIL                                                                           30\n",
       " SECRETARIA DE ESTADO DE OBRAS E INFRAESTRUTURA                                       30\n",
       " SECRETARIA DE ESTADO DE EDUCAÇÃO                                                     22\n",
       " SECRETARIA DE ESTADO DE CULTURA                                                      22\n",
       " TRIBUNAL DE CONTAS DO DISTRITO FEDERAL                                               17\n",
       " PODER EXECUTIVO                                                                      17\n",
       " DEFENSORIA PÚBLICA DO DISTRITO FEDERAL                                               12\n",
       " SECRETARIA DE ESTADO DE JUSTIÇA E CIDADANIA                                           7\n",
       " SECRETARIA DE ESTADO DE DESENVOLVIMENTO URBANO E HABITAÇÃO                            6\n",
       " SECRETARIA DE ESTADO DE DESENVOLVIMENTO ECONÔMICO                                     6\n",
       " SECRETARIA DE ESTADO DE AGRICULTURA, ABASTECIMENTO E DESENVOLVIMENTO RURAL            6\n",
       " CONTROLADORIA GERAL DO DISTRITO FEDERAL                                               3\n",
       " PODER LEGISLATIVO                                                                     2\n",
       " SECRETARIA DE ESTADO DO MEIO AMBIENTE                                                 2\n",
       " SECRETARIA DE ESTADO DE ECONOMIA, DESENVOLVIMENTO, INOVAÇÃO, CIÊNCIA E TECNOLOGIA     2\n",
       " Name: label, dtype: int64,\n",
       " SECRETARIA DE ESTADO DE SEGURANÇA PÚBLICA                                            20\n",
       " SECRETARIA DE ESTADO DE SAÚDE                                                        13\n",
       " SECRETARIA DE ESTADO DE TRANSPORTE E MOBILIDADE                                       8\n",
       " SECRETARIA DE ESTADO DE OBRAS E INFRAESTRUTURA                                        8\n",
       " SECRETARIA DE ESTADO DE FAZENDA, PLANEJAMENTO, ORÇAMENTO E GESTÃO                     8\n",
       " CASA CIVIL                                                                            8\n",
       " SECRETARIA DE ESTADO DE CULTURA                                                       5\n",
       " SECRETARIA DE ESTADO DE EDUCAÇÃO                                                      5\n",
       " PODER EXECUTIVO                                                                       4\n",
       " TRIBUNAL DE CONTAS DO DISTRITO FEDERAL                                                4\n",
       " DEFENSORIA PÚBLICA DO DISTRITO FEDERAL                                                3\n",
       " SECRETARIA DE ESTADO DE JUSTIÇA E CIDADANIA                                           2\n",
       " SECRETARIA DE ESTADO DE DESENVOLVIMENTO URBANO E HABITAÇÃO                            2\n",
       " SECRETARIA DE ESTADO DO MEIO AMBIENTE                                                 1\n",
       " SECRETARIA DE ESTADO DE AGRICULTURA, ABASTECIMENTO E DESENVOLVIMENTO RURAL            1\n",
       " SECRETARIA DE ESTADO DE DESENVOLVIMENTO ECONÔMICO                                     1\n",
       " CONTROLADORIA GERAL DO DISTRITO FEDERAL                                               1\n",
       " SECRETARIA DE ESTADO DE ECONOMIA, DESENVOLVIMENTO, INOVAÇÃO, CIÊNCIA E TECNOLOGIA     1\n",
       " PODER LEGISLATIVO                                                                     1\n",
       " Name: label, dtype: int64)"
      ]
     },
     "execution_count": 100,
     "metadata": {},
     "output_type": "execute_result"
    }
   ],
   "source": [
    "df_train.label.value_counts(), df_valid.label.value_counts()"
   ]
  },
  {
   "cell_type": "code",
   "execution_count": 102,
   "metadata": {},
   "outputs": [],
   "source": [
    "df_train[\"is_valid\"] = False\n",
    "df_valid[\"is_valid\"] = True"
   ]
  },
  {
   "cell_type": "code",
   "execution_count": 103,
   "metadata": {},
   "outputs": [],
   "source": [
    "df_train_val = pd.concat([df_train, df_valid])"
   ]
  },
  {
   "cell_type": "code",
   "execution_count": 261,
   "metadata": {},
   "outputs": [],
   "source": [
    "df_train_val.to_csv(path/\"data/clean/train_val.csv\", index=False)"
   ]
  },
  {
   "cell_type": "code",
   "execution_count": null,
   "metadata": {},
   "outputs": [],
   "source": [
    "df_train_val"
   ]
  },
  {
   "cell_type": "code",
   "execution_count": 12,
   "metadata": {},
   "outputs": [],
   "source": [
    "data_lm = (TextList.from_df(df_lm,cols='text', processor=SPProcessor(max_vocab_sz=15000))\n",
    "                           .split_by_rand_pct(0.2, seed=seed)\n",
    "                           .label_for_lm()\n",
    "                           .databunch(bs=bs))"
   ]
  },
  {
   "cell_type": "code",
   "execution_count": 13,
   "metadata": {},
   "outputs": [
    {
     "data": {
      "text/html": [
       "<table border=\"1\" class=\"dataframe\">\n",
       "  <thead>\n",
       "    <tr style=\"text-align: right;\">\n",
       "      <th>idx</th>\n",
       "      <th>text</th>\n",
       "    </tr>\n",
       "  </thead>\n",
       "  <tbody>\n",
       "    <tr>\n",
       "      <td>0</td>\n",
       "      <td>▁2011, ▁e ▁conforme ▁xxmaj ▁processo ▁xxup ▁sei ▁no ▁00055-001 65 43 7 ▁/ ▁2018-16 , ▁resolve : ▁xxup ▁designar ▁xxup ▁edson ▁xxup ▁de ▁xxup ▁campos ▁xxup ▁júnior , ▁xxmaj ▁assistente ▁de ▁xxmaj ▁trânsito , ▁matrícula ▁1.2 03 -3, ▁para ▁substituir ▁xxup ▁francisco ▁xxup ▁de r i ck ▁xxup ▁sousa ▁xxup ▁carvalho , ▁xxmaj ▁assistente ▁de ▁xxmaj ▁trânsito , ▁matrícula ▁250.44 1-3, ▁chefe , ▁símbolo ▁xxup ▁dfg -12, ▁do ▁xxmaj ▁núcleo</td>\n",
       "    </tr>\n",
       "    <tr>\n",
       "      <td>1</td>\n",
       "      <td>▁xxmaj ▁vida ▁xxmaj ▁pre gressa ▁e ▁xxmaj ▁investigação ▁xxmaj ▁social ▁e ▁xxmaj ▁funcional , ▁for ▁considerado ▁contraindicado . ▁ 3.11 ▁xxmaj ▁será ▁eliminado ▁do ▁xxmaj ▁concurso ▁o ▁candidato ▁que ▁deix ar ▁de ▁faze r ▁a ▁entrega ▁de ▁um ▁ou ▁mais ▁documentos ▁exigido s ▁no ▁presente ▁edital , ▁o mit ir ▁informação ▁solicitada ▁ou ▁prestar ▁informação ▁fal s a . ▁3.1 2 ▁xxmaj ▁a pós ▁a ▁sindicância ▁da ▁vida ▁pre gressa</td>\n",
       "    </tr>\n",
       "    <tr>\n",
       "      <td>2</td>\n",
       "      <td>▁xxup ▁silva ▁xxup ▁alexandre , ▁matr . ▁14 04 19 3; ▁xxup ▁jos é ▁xxup ▁carlo s ▁xxup ▁xavier ▁xxup ▁de ▁xxup ▁lima , ▁matr . ▁14 041 95 ; ▁xxup ▁wander ▁xxup ▁ribeiro ▁xxup ▁da ▁xxup ▁silva , ▁matr . ▁14 04 196 ; ▁xxup ▁jos é ▁xxup ▁ ni lson ▁xxup ▁rodrigues ▁xxup ▁da ▁xxup ▁silva , ▁matr . ▁14 041 99 ; ▁xxup ▁di lson ▁xxup ▁fernandes</td>\n",
       "    </tr>\n",
       "    <tr>\n",
       "      <td>3</td>\n",
       "      <td>▁no ▁xxup ▁dodf ▁n ° ▁117 ▁de ▁10 ▁de ▁junho ▁de ▁2013, ▁pág . ▁55, ▁o ▁ato ▁que ▁averb ou ▁o ▁tempo ▁de ▁serviço ▁do ▁servidor ▁xxup ▁an isio ▁xxup ▁sousa ▁xxup ▁neto , ▁matrícula ▁xxup ▁129 .010- x , ▁xxmaj ▁odontólog o , ▁xxmaj ▁secretaria ▁de ▁xxmaj ▁estado ▁de ▁xxmaj ▁saúde ▁do ▁xxup ▁df . ▁xxup ▁onde ▁xxup ▁se ▁xxup ▁lê : ▁\"...1.5 41 ▁dias , ▁ou ▁seja ,</td>\n",
       "    </tr>\n",
       "    <tr>\n",
       "      <td>4</td>\n",
       "      <td>▁19 ▁de ▁ju lho ▁de ▁2018, ▁publicada ▁no ▁xxup ▁dodf ▁no ▁ 137 , ▁de ▁20 ▁de ▁ju lho ▁de ▁2018. ▁xxmaj ▁art . ▁2 o ▁xxmaj ▁designar ▁xxup ▁fernand o ▁xxup ▁mendes ▁xxup ▁rodrigues ▁xxup ▁para gu assu , ▁matrícula ▁no ▁79. 25 3-5, ▁xxmaj ▁analista ▁em ▁xxmaj ▁políticas ▁xxmaj ▁públicas ▁e ▁xxmaj ▁gestão ▁xxmaj ▁governamental , ▁e ▁xxup ▁robert son ▁xxup ▁freitas ▁xxup ▁lima , ▁matrícula ▁no ▁267.73</td>\n",
       "    </tr>\n",
       "  </tbody>\n",
       "</table>"
      ],
      "text/plain": [
       "<IPython.core.display.HTML object>"
      ]
     },
     "metadata": {},
     "output_type": "display_data"
    }
   ],
   "source": [
    "data_lm.show_batch()"
   ]
  },
  {
   "cell_type": "code",
   "execution_count": 14,
   "metadata": {},
   "outputs": [],
   "source": [
    "data_lm.save('data/data_lm_export.pkl')"
   ]
  },
  {
   "cell_type": "code",
   "execution_count": 15,
   "metadata": {},
   "outputs": [],
   "source": [
    "config = awd_lstm_lm_config.copy()\n",
    "config['qrnn'] = True\n",
    "config['n_hid'] = 1550 #default 1152\n",
    "config['n_layers'] = 4 #default 3"
   ]
  },
  {
   "cell_type": "code",
   "execution_count": 11,
   "metadata": {},
   "outputs": [],
   "source": [
    "perplexity = Perplexity()\n",
    "f1 = FBeta(beta=1, average=\"weighted\")"
   ]
  },
  {
   "cell_type": "code",
   "execution_count": 17,
   "metadata": {},
   "outputs": [],
   "source": [
    "lm_fns3 = ['pt_wt_sp15_multifit', 'pt_wt_vocab_sp15_multifit']\n",
    "lm_fns3_bwd = ['pt_wt_sp15_multifit_bwd', 'pt_wt_vocab_sp15_multifit_bwd']"
   ]
  },
  {
   "cell_type": "markdown",
   "metadata": {},
   "source": [
    "## Fine-tune forward LM"
   ]
  },
  {
   "cell_type": "code",
   "execution_count": 18,
   "metadata": {},
   "outputs": [],
   "source": [
    "learn_lm = language_model_learner(data_lm, AWD_LSTM, config=config, pretrained_fnames=lm_fns3, drop_mult=1., \n",
    "                                  metrics=[error_rate, accuracy, perplexity])"
   ]
  },
  {
   "cell_type": "code",
   "execution_count": 20,
   "metadata": {},
   "outputs": [
    {
     "data": {
      "text/plain": [
       "'O Governo ▁xxmaj ▁federal ▁de ▁xxmaj ▁santa ▁xxmaj ▁catarina ▁ - ▁xxup ▁sp ▁é ▁um ▁órgão ▁que ▁foi ▁realizado ▁pela ▁xxmaj ▁união'"
      ]
     },
     "execution_count": 20,
     "metadata": {},
     "output_type": "execute_result"
    }
   ],
   "source": [
    "learn_lm.predict(\"O Governo\", n_words=20)"
   ]
  },
  {
   "cell_type": "code",
   "execution_count": 21,
   "metadata": {},
   "outputs": [
    {
     "data": {
      "text/html": [],
      "text/plain": [
       "<IPython.core.display.HTML object>"
      ]
     },
     "metadata": {},
     "output_type": "display_data"
    },
    {
     "name": "stdout",
     "output_type": "stream",
     "text": [
      "LR Finder is complete, type {learner_name}.recorder.plot() to see the graph.\n"
     ]
    }
   ],
   "source": [
    "learn_lm.lr_find()"
   ]
  },
  {
   "cell_type": "code",
   "execution_count": 22,
   "metadata": {},
   "outputs": [
    {
     "data": {
      "image/png": "[encoded data removed]",
      "text/plain": [
       "<Figure size 432x288 with 1 Axes>"
      ]
     },
     "metadata": {
      "needs_background": "light"
     },
     "output_type": "display_data"
    }
   ],
   "source": [
    "learn_lm.recorder.plot()"
   ]
  },
  {
   "cell_type": "code",
   "execution_count": 23,
   "metadata": {},
   "outputs": [],
   "source": [
    "lr = 1e-1"
   ]
  },
  {
   "cell_type": "code",
   "execution_count": 24,
   "metadata": {
    "scrolled": true
   },
   "outputs": [
    {
     "data": {
      "text/html": [
       "<table border=\"1\" class=\"dataframe\">\n",
       "  <thead>\n",
       "    <tr style=\"text-align: left;\">\n",
       "      <th>epoch</th>\n",
       "      <th>train_loss</th>\n",
       "      <th>valid_loss</th>\n",
       "      <th>error_rate</th>\n",
       "      <th>accuracy</th>\n",
       "      <th>perplexity</th>\n",
       "      <th>time</th>\n",
       "    </tr>\n",
       "  </thead>\n",
       "  <tbody>\n",
       "    <tr>\n",
       "      <td>0</td>\n",
       "      <td>8.167725</td>\n",
       "      <td>4.989687</td>\n",
       "      <td>0.871429</td>\n",
       "      <td>0.128571</td>\n",
       "      <td>146.890518</td>\n",
       "      <td>00:31</td>\n",
       "    </tr>\n",
       "    <tr>\n",
       "      <td>1</td>\n",
       "      <td>5.184942</td>\n",
       "      <td>3.518033</td>\n",
       "      <td>0.628571</td>\n",
       "      <td>0.371429</td>\n",
       "      <td>33.718025</td>\n",
       "      <td>00:32</td>\n",
       "    </tr>\n",
       "  </tbody>\n",
       "</table>"
      ],
      "text/plain": [
       "<IPython.core.display.HTML object>"
      ]
     },
     "metadata": {},
     "output_type": "display_data"
    }
   ],
   "source": [
    "learn_lm.fit_one_cycle(2, lr, wd=0.1, moms=(0.8,0.7))"
   ]
  },
  {
   "cell_type": "code",
   "execution_count": 25,
   "metadata": {},
   "outputs": [],
   "source": [
    "learn_lm.save('fine_tune_lm')\n",
    "learn_lm.save_encoder('fine_tune_enc')"
   ]
  },
  {
   "cell_type": "code",
   "execution_count": 26,
   "metadata": {},
   "outputs": [
    {
     "data": {
      "text/html": [],
      "text/plain": [
       "<IPython.core.display.HTML object>"
      ]
     },
     "metadata": {},
     "output_type": "display_data"
    },
    {
     "name": "stdout",
     "output_type": "stream",
     "text": [
      "LR Finder is complete, type {learner_name}.recorder.plot() to see the graph.\n"
     ]
    }
   ],
   "source": [
    "learn_lm.unfreeze()\n",
    "learn_lm.lr_find()"
   ]
  },
  {
   "cell_type": "code",
   "execution_count": 27,
   "metadata": {},
   "outputs": [
    {
     "data": {
      "image/png": "[encoded data removed]",
      "text/plain": [
       "<Figure size 432x288 with 1 Axes>"
      ]
     },
     "metadata": {
      "needs_background": "light"
     },
     "output_type": "display_data"
    }
   ],
   "source": [
    "learn_lm.recorder.plot()"
   ]
  },
  {
   "cell_type": "code",
   "execution_count": 28,
   "metadata": {},
   "outputs": [],
   "source": [
    "lr = 1e-2"
   ]
  },
  {
   "cell_type": "code",
   "execution_count": 29,
   "metadata": {
    "scrolled": false
   },
   "outputs": [
    {
     "data": {
      "text/html": [
       "<table border=\"1\" class=\"dataframe\">\n",
       "  <thead>\n",
       "    <tr style=\"text-align: left;\">\n",
       "      <th>epoch</th>\n",
       "      <th>train_loss</th>\n",
       "      <th>valid_loss</th>\n",
       "      <th>error_rate</th>\n",
       "      <th>accuracy</th>\n",
       "      <th>perplexity</th>\n",
       "      <th>time</th>\n",
       "    </tr>\n",
       "  </thead>\n",
       "  <tbody>\n",
       "    <tr>\n",
       "      <td>0</td>\n",
       "      <td>3.990016</td>\n",
       "      <td>1.942214</td>\n",
       "      <td>0.428571</td>\n",
       "      <td>0.571429</td>\n",
       "      <td>6.974174</td>\n",
       "      <td>00:47</td>\n",
       "    </tr>\n",
       "    <tr>\n",
       "      <td>1</td>\n",
       "      <td>2.871821</td>\n",
       "      <td>0.718581</td>\n",
       "      <td>0.185714</td>\n",
       "      <td>0.814286</td>\n",
       "      <td>2.051521</td>\n",
       "      <td>00:47</td>\n",
       "    </tr>\n",
       "    <tr>\n",
       "      <td>2</td>\n",
       "      <td>2.491171</td>\n",
       "      <td>0.470399</td>\n",
       "      <td>0.157143</td>\n",
       "      <td>0.842857</td>\n",
       "      <td>1.600633</td>\n",
       "      <td>00:47</td>\n",
       "    </tr>\n",
       "    <tr>\n",
       "      <td>3</td>\n",
       "      <td>2.102498</td>\n",
       "      <td>0.303143</td>\n",
       "      <td>0.085714</td>\n",
       "      <td>0.914286</td>\n",
       "      <td>1.354108</td>\n",
       "      <td>00:47</td>\n",
       "    </tr>\n",
       "    <tr>\n",
       "      <td>4</td>\n",
       "      <td>1.960301</td>\n",
       "      <td>0.253956</td>\n",
       "      <td>0.100000</td>\n",
       "      <td>0.900000</td>\n",
       "      <td>1.289115</td>\n",
       "      <td>00:47</td>\n",
       "    </tr>\n",
       "    <tr>\n",
       "      <td>5</td>\n",
       "      <td>1.909165</td>\n",
       "      <td>0.197701</td>\n",
       "      <td>0.071429</td>\n",
       "      <td>0.928571</td>\n",
       "      <td>1.218598</td>\n",
       "      <td>00:47</td>\n",
       "    </tr>\n",
       "    <tr>\n",
       "      <td>6</td>\n",
       "      <td>1.647301</td>\n",
       "      <td>0.164117</td>\n",
       "      <td>0.057143</td>\n",
       "      <td>0.942857</td>\n",
       "      <td>1.178352</td>\n",
       "      <td>00:47</td>\n",
       "    </tr>\n",
       "    <tr>\n",
       "      <td>7</td>\n",
       "      <td>1.592349</td>\n",
       "      <td>0.130880</td>\n",
       "      <td>0.042857</td>\n",
       "      <td>0.957143</td>\n",
       "      <td>1.139831</td>\n",
       "      <td>00:47</td>\n",
       "    </tr>\n",
       "    <tr>\n",
       "      <td>8</td>\n",
       "      <td>1.504651</td>\n",
       "      <td>0.140475</td>\n",
       "      <td>0.042857</td>\n",
       "      <td>0.957143</td>\n",
       "      <td>1.150821</td>\n",
       "      <td>00:47</td>\n",
       "    </tr>\n",
       "    <tr>\n",
       "      <td>9</td>\n",
       "      <td>1.426316</td>\n",
       "      <td>0.129106</td>\n",
       "      <td>0.028571</td>\n",
       "      <td>0.971429</td>\n",
       "      <td>1.137810</td>\n",
       "      <td>00:47</td>\n",
       "    </tr>\n",
       "  </tbody>\n",
       "</table>"
      ],
      "text/plain": [
       "<IPython.core.display.HTML object>"
      ]
     },
     "metadata": {},
     "output_type": "display_data"
    },
    {
     "data": {
      "image/png": "[encoded data removed]",
      "text/plain": [
       "<Figure size 432x288 with 1 Axes>"
      ]
     },
     "metadata": {},
     "output_type": "display_data"
    }
   ],
   "source": [
    "learn_lm.fit_one_cycle(10, lr, wd=0.1, moms=(0.8,0.7), callbacks=[ShowGraph(learn_lm)])"
   ]
  },
  {
   "cell_type": "code",
   "execution_count": 30,
   "metadata": {},
   "outputs": [
    {
     "data": {
      "image/png": "[encoded data removed]",
      "text/plain": [
       "<Figure size 432x288 with 1 Axes>"
      ]
     },
     "metadata": {
      "needs_background": "light"
     },
     "output_type": "display_data"
    }
   ],
   "source": [
    "learn_lm.recorder.plot_lr()"
   ]
  },
  {
   "cell_type": "code",
   "execution_count": 31,
   "metadata": {},
   "outputs": [
    {
     "data": {
      "text/plain": [
       "'O Governo ▁do ▁xxmaj ▁distrito ▁xxmaj ▁federal , ▁no ▁uso ▁das ▁atribuições ▁que ▁lhe ▁confere m ▁os ▁artigos ▁20, ▁incisos ▁xxup ▁ii , ▁xxup ▁iii , ▁xxup ▁iv , ▁i ▁e ▁xxup'"
      ]
     },
     "execution_count": 31,
     "metadata": {},
     "output_type": "execute_result"
    }
   ],
   "source": [
    "learn_lm.predict(\"O Governo\", n_words=30)"
   ]
  },
  {
   "cell_type": "code",
   "execution_count": 32,
   "metadata": {},
   "outputs": [],
   "source": [
    "learn_lm.save('fine_tune_lm')\n",
    "learn_lm.save_encoder('fine_tune_enc')"
   ]
  },
  {
   "cell_type": "markdown",
   "metadata": {},
   "source": [
    "## Fine-tune backward LM"
   ]
  },
  {
   "cell_type": "code",
   "execution_count": 33,
   "metadata": {},
   "outputs": [],
   "source": [
    "data_lm = (TextList.from_df(df_lm,cols='text', processor=SPProcessor.load(path))\n",
    "                           .split_by_rand_pct(0.2, seed=seed)\n",
    "                           .label_for_lm()\n",
    "                           .databunch(bs=bs, backwards=True))"
   ]
  },
  {
   "cell_type": "code",
   "execution_count": 34,
   "metadata": {},
   "outputs": [
    {
     "data": {
      "text/html": [
       "<table border=\"1\" class=\"dataframe\">\n",
       "  <thead>\n",
       "    <tr style=\"text-align: right;\">\n",
       "      <th>idx</th>\n",
       "      <th>text</th>\n",
       "    </tr>\n",
       "  </thead>\n",
       "  <tbody>\n",
       "    <tr>\n",
       "      <td>0</td>\n",
       "      <td>▁do ▁termos ▁nos , comprasnet ▁ ▁do ▁sítio ▁no ada ▁process ▁será ▁pública ▁xxmaj ▁sessão ▁xxmaj ▁a ). 3 ▁97400 : uasg ▁( ▁xxup br . gov . comprasnet . ww ▁w ▁e br . gov . df . tc . ww ▁w : ▁sítios ▁pelos ▁ou 742 ▁3314-2 61) ▁( ▁telefone , ▁tcdf ▁xxup ▁do ▁anexo ▁xxmaj . ▁ed ▁xxmaj ▁do ▁andar ▁xxmaj o ▁2 ▁no ▁localizado , ▁licitação</td>\n",
       "    </tr>\n",
       "    <tr>\n",
       "      <td>1</td>\n",
       "      <td>s ▁regra ▁as ▁e ▁pertinente ▁legislação ▁a ▁com sonância ▁con ▁em ▁mencionadas ▁acima ▁disposições ▁das ância ▁observ ▁fiel ▁da os ▁incumbid ▁servidores ▁mencionados ▁os ▁ficam ▁xxmaj o ▁2 . ▁art ▁xxmaj . financeira - ▁administrativo ▁atividades ▁xxmaj ▁das ▁coordenação ▁xxmaj ▁na ém b ▁tam á ▁atuar ▁fiscalização ▁na ▁atuar ▁de ém ▁al ▁lopes ▁xxmaj s ▁marti ▁xxmaj ▁rodrigues ▁xxmaj ▁paiva ▁xxmaj ▁de ▁thais ▁xxmaj ▁servidora ▁a ▁que ▁sendo , ▁83.359-2</td>\n",
       "    </tr>\n",
       "    <tr>\n",
       "      <td>2</td>\n",
       "      <td>, ▁03 - ▁cnp ▁xxup ▁símbolo ▁xxmaj , ▁política ▁xxmaj ▁natureza ▁xxmaj ▁de ▁cargo ▁xxmaj ▁do , ▁silva ▁xxup ▁da ▁xxup ▁martins ▁xxup ileu rg ▁a ▁xxup , ▁pedido ▁a , ▁exonerar ▁xxup . ▁federal ▁distrito ▁xxmaj ▁do ▁comunicação ▁xxmaj ▁de ▁estado ▁xxmaj ▁de ▁secretaria ▁xxmaj ▁da , ▁estado ▁xxmaj ▁de ▁secretário ▁xxmaj ▁de , -03 ▁cnp ▁xxup ▁símbolo ▁xxmaj , ▁política ▁xxmaj ▁natureza ▁xxmaj ▁de ▁cargo ▁xxmaj ▁do ,</td>\n",
       "    </tr>\n",
       "    <tr>\n",
       "      <td>3</td>\n",
       "      <td>i ▁fil ▁xxup 31, 71 ▁19713 ; ▁moura ▁xxup ▁moreira ▁xxup ▁borges ▁xxup pe i ▁fil ▁xxup 74, 74 ▁19712 ; la ndo ▁espi ▁xxup da e bi ▁ ▁xxup pe i ▁fil ▁xxup 75, 26 10 ▁197 ; cao ▁concei ▁xxup ▁da ▁xxup ▁barbosa ▁xxup pe i ▁fil ▁xxup 83, 11 ▁19712 ; ▁fernandes ▁xxup ▁alencar ▁xxup pe i ▁fil ▁xxup 104, 0 ▁19713 ; ▁cardoso ▁xxup ▁ribeiro ▁xxup</td>\n",
       "    </tr>\n",
       "    <tr>\n",
       "      <td>4</td>\n",
       "      <td>▁xxmaj ▁de ▁comissão ▁xxmaj stituírem ▁con , ▁primeiro ▁do ▁presidência ▁a ▁sob , ▁para -4; 45 ▁215.7 ▁no ▁matrícula , ▁ambiente ▁xxmaj ▁meio ▁xxmaj ▁do ▁atividades ▁xxmaj ▁de ▁analista ▁xxmaj , ▁mesquita ▁xxup ▁de ▁xxup ▁gonçalves ▁xxup o ▁fábi ▁xxup ▁luis ▁xxup ▁e ; x .259- 4 ▁26 ▁xxup ▁no ▁matrícula , ▁urbanas ▁xxmaj ▁atividades ▁xxmaj ▁de ▁fiscal ▁xxmaj ▁auditora ▁xxmaj , ▁mendes ▁xxup ▁moraes ▁xxup ▁de ▁xxup a ▁flávi</td>\n",
       "    </tr>\n",
       "  </tbody>\n",
       "</table>"
      ],
      "text/plain": [
       "<IPython.core.display.HTML object>"
      ]
     },
     "metadata": {},
     "output_type": "display_data"
    }
   ],
   "source": [
    "data_lm.show_batch()"
   ]
  },
  {
   "cell_type": "code",
   "execution_count": 35,
   "metadata": {},
   "outputs": [],
   "source": [
    "data_lm.save('./data/data_lm_back.pkl')"
   ]
  },
  {
   "cell_type": "code",
   "execution_count": 36,
   "metadata": {},
   "outputs": [],
   "source": [
    "learn_lm = language_model_learner(data_lm, AWD_LSTM, config=config, pretrained_fnames=lm_fns3_bwd, drop_mult=1., \n",
    "                                  metrics=[error_rate, accuracy, perplexity])"
   ]
  },
  {
   "cell_type": "code",
   "execution_count": 37,
   "metadata": {},
   "outputs": [
    {
     "data": {
      "text/html": [],
      "text/plain": [
       "<IPython.core.display.HTML object>"
      ]
     },
     "metadata": {},
     "output_type": "display_data"
    },
    {
     "name": "stdout",
     "output_type": "stream",
     "text": [
      "LR Finder is complete, type {learner_name}.recorder.plot() to see the graph.\n"
     ]
    }
   ],
   "source": [
    "learn_lm.lr_find()"
   ]
  },
  {
   "cell_type": "code",
   "execution_count": 38,
   "metadata": {},
   "outputs": [
    {
     "data": {
      "image/png": "[encoded data removed]",
      "text/plain": [
       "<Figure size 432x288 with 1 Axes>"
      ]
     },
     "metadata": {
      "needs_background": "light"
     },
     "output_type": "display_data"
    }
   ],
   "source": [
    "learn_lm.recorder.plot()"
   ]
  },
  {
   "cell_type": "code",
   "execution_count": 39,
   "metadata": {},
   "outputs": [],
   "source": [
    "lr=1e-1"
   ]
  },
  {
   "cell_type": "code",
   "execution_count": 40,
   "metadata": {},
   "outputs": [
    {
     "data": {
      "text/html": [
       "<table border=\"1\" class=\"dataframe\">\n",
       "  <thead>\n",
       "    <tr style=\"text-align: left;\">\n",
       "      <th>epoch</th>\n",
       "      <th>train_loss</th>\n",
       "      <th>valid_loss</th>\n",
       "      <th>error_rate</th>\n",
       "      <th>accuracy</th>\n",
       "      <th>perplexity</th>\n",
       "      <th>time</th>\n",
       "    </tr>\n",
       "  </thead>\n",
       "  <tbody>\n",
       "    <tr>\n",
       "      <td>0</td>\n",
       "      <td>10.990892</td>\n",
       "      <td>6.967726</td>\n",
       "      <td>0.893869</td>\n",
       "      <td>0.106131</td>\n",
       "      <td>1061.806641</td>\n",
       "      <td>00:37</td>\n",
       "    </tr>\n",
       "    <tr>\n",
       "      <td>1</td>\n",
       "      <td>6.019197</td>\n",
       "      <td>5.803520</td>\n",
       "      <td>0.876508</td>\n",
       "      <td>0.123492</td>\n",
       "      <td>331.464020</td>\n",
       "      <td>00:37</td>\n",
       "    </tr>\n",
       "  </tbody>\n",
       "</table>"
      ],
      "text/plain": [
       "<IPython.core.display.HTML object>"
      ]
     },
     "metadata": {},
     "output_type": "display_data"
    }
   ],
   "source": [
    "learn_lm.fit_one_cycle(2, lr, wd=0.1, moms=(0.8,0.7))"
   ]
  },
  {
   "cell_type": "code",
   "execution_count": 41,
   "metadata": {},
   "outputs": [],
   "source": [
    "learn_lm.save('fine_tune_lm_bwd')\n",
    "learn_lm.save_encoder('fine_tune_enc_bwd')"
   ]
  },
  {
   "cell_type": "code",
   "execution_count": 42,
   "metadata": {},
   "outputs": [
    {
     "data": {
      "text/html": [],
      "text/plain": [
       "<IPython.core.display.HTML object>"
      ]
     },
     "metadata": {},
     "output_type": "display_data"
    },
    {
     "name": "stdout",
     "output_type": "stream",
     "text": [
      "LR Finder is complete, type {learner_name}.recorder.plot() to see the graph.\n"
     ]
    }
   ],
   "source": [
    "learn_lm.unfreeze()\n",
    "learn_lm.lr_find()"
   ]
  },
  {
   "cell_type": "code",
   "execution_count": 43,
   "metadata": {},
   "outputs": [
    {
     "data": {
      "image/png": "[encoded data removed]",
      "text/plain": [
       "<Figure size 432x288 with 1 Axes>"
      ]
     },
     "metadata": {
      "needs_background": "light"
     },
     "output_type": "display_data"
    }
   ],
   "source": [
    "learn_lm.recorder.plot()"
   ]
  },
  {
   "cell_type": "code",
   "execution_count": 44,
   "metadata": {},
   "outputs": [],
   "source": [
    "lr=1e-2"
   ]
  },
  {
   "cell_type": "code",
   "execution_count": 45,
   "metadata": {},
   "outputs": [
    {
     "data": {
      "text/html": [
       "<table border=\"1\" class=\"dataframe\">\n",
       "  <thead>\n",
       "    <tr style=\"text-align: left;\">\n",
       "      <th>epoch</th>\n",
       "      <th>train_loss</th>\n",
       "      <th>valid_loss</th>\n",
       "      <th>error_rate</th>\n",
       "      <th>accuracy</th>\n",
       "      <th>perplexity</th>\n",
       "      <th>time</th>\n",
       "    </tr>\n",
       "  </thead>\n",
       "  <tbody>\n",
       "    <tr>\n",
       "      <td>0</td>\n",
       "      <td>5.191076</td>\n",
       "      <td>5.076291</td>\n",
       "      <td>0.757674</td>\n",
       "      <td>0.242326</td>\n",
       "      <td>160.178864</td>\n",
       "      <td>00:51</td>\n",
       "    </tr>\n",
       "    <tr>\n",
       "      <td>1</td>\n",
       "      <td>3.419759</td>\n",
       "      <td>3.568627</td>\n",
       "      <td>0.567158</td>\n",
       "      <td>0.432842</td>\n",
       "      <td>35.467808</td>\n",
       "      <td>00:51</td>\n",
       "    </tr>\n",
       "    <tr>\n",
       "      <td>2</td>\n",
       "      <td>2.583399</td>\n",
       "      <td>2.996648</td>\n",
       "      <td>0.499315</td>\n",
       "      <td>0.500685</td>\n",
       "      <td>20.018311</td>\n",
       "      <td>00:51</td>\n",
       "    </tr>\n",
       "    <tr>\n",
       "      <td>3</td>\n",
       "      <td>2.250463</td>\n",
       "      <td>2.721676</td>\n",
       "      <td>0.466091</td>\n",
       "      <td>0.533909</td>\n",
       "      <td>15.205795</td>\n",
       "      <td>00:51</td>\n",
       "    </tr>\n",
       "    <tr>\n",
       "      <td>4</td>\n",
       "      <td>2.143383</td>\n",
       "      <td>2.579690</td>\n",
       "      <td>0.446171</td>\n",
       "      <td>0.553829</td>\n",
       "      <td>13.193041</td>\n",
       "      <td>00:51</td>\n",
       "    </tr>\n",
       "    <tr>\n",
       "      <td>5</td>\n",
       "      <td>1.924962</td>\n",
       "      <td>2.459377</td>\n",
       "      <td>0.426850</td>\n",
       "      <td>0.573150</td>\n",
       "      <td>11.697512</td>\n",
       "      <td>00:51</td>\n",
       "    </tr>\n",
       "    <tr>\n",
       "      <td>6</td>\n",
       "      <td>1.729249</td>\n",
       "      <td>2.360579</td>\n",
       "      <td>0.409846</td>\n",
       "      <td>0.590154</td>\n",
       "      <td>10.597078</td>\n",
       "      <td>00:51</td>\n",
       "    </tr>\n",
       "    <tr>\n",
       "      <td>7</td>\n",
       "      <td>1.701375</td>\n",
       "      <td>2.285222</td>\n",
       "      <td>0.395030</td>\n",
       "      <td>0.604970</td>\n",
       "      <td>9.827866</td>\n",
       "      <td>00:51</td>\n",
       "    </tr>\n",
       "    <tr>\n",
       "      <td>8</td>\n",
       "      <td>1.479915</td>\n",
       "      <td>2.245331</td>\n",
       "      <td>0.389380</td>\n",
       "      <td>0.610620</td>\n",
       "      <td>9.443537</td>\n",
       "      <td>00:51</td>\n",
       "    </tr>\n",
       "    <tr>\n",
       "      <td>9</td>\n",
       "      <td>1.495988</td>\n",
       "      <td>2.241518</td>\n",
       "      <td>0.387480</td>\n",
       "      <td>0.612520</td>\n",
       "      <td>9.407595</td>\n",
       "      <td>00:51</td>\n",
       "    </tr>\n",
       "  </tbody>\n",
       "</table>"
      ],
      "text/plain": [
       "<IPython.core.display.HTML object>"
      ]
     },
     "metadata": {},
     "output_type": "display_data"
    },
    {
     "data": {
      "image/png": "[encoded data removed]",
      "text/plain": [
       "<Figure size 432x288 with 1 Axes>"
      ]
     },
     "metadata": {},
     "output_type": "display_data"
    }
   ],
   "source": [
    "learn_lm.fit_one_cycle(10, lr, wd=0.1, moms=(0.8,0.7), callbacks=[ShowGraph(learn_lm)])"
   ]
  },
  {
   "cell_type": "code",
   "execution_count": 46,
   "metadata": {},
   "outputs": [],
   "source": [
    "learn_lm.save('fine_tune_lm_bwd')\n",
    "learn_lm.save_encoder('fine_tune_enc_bwd')"
   ]
  },
  {
   "cell_type": "markdown",
   "metadata": {},
   "source": [
    "## Train forward classifier"
   ]
  },
  {
   "cell_type": "code",
   "execution_count": 194,
   "metadata": {},
   "outputs": [],
   "source": [
    "bs=8"
   ]
  },
  {
   "cell_type": "code",
   "execution_count": 195,
   "metadata": {},
   "outputs": [],
   "source": [
    "data_lm = load_data(\"data/\", \"data_lm_export.pkl\", bs=bs)"
   ]
  },
  {
   "cell_type": "code",
   "execution_count": 196,
   "metadata": {},
   "outputs": [],
   "source": [
    "data_clas = (TextList.from_df(df_train_val, path, cols='text',\n",
    "                              processor=SPProcessor.load(path))\n",
    "                         .split_from_df(col=2)\n",
    "                         .label_from_df(cols=0)\n",
    "                         .databunch(bs=bs))"
   ]
  },
  {
   "cell_type": "code",
   "execution_count": 197,
   "metadata": {},
   "outputs": [
    {
     "data": {
      "text/plain": [
       "(8552, 8552)"
      ]
     },
     "execution_count": 197,
     "metadata": {},
     "output_type": "execute_result"
    }
   ],
   "source": [
    "len(data_clas.vocab.itos), len(data_lm.vocab.itos)"
   ]
  },
  {
   "cell_type": "code",
   "execution_count": 198,
   "metadata": {},
   "outputs": [],
   "source": [
    "data_clas.save(path/'data/data_clas_export.pkl')"
   ]
  },
  {
   "cell_type": "code",
   "execution_count": 199,
   "metadata": {},
   "outputs": [
    {
     "data": {
      "text/html": [
       "<table border=\"1\" class=\"dataframe\">\n",
       "  <thead>\n",
       "    <tr style=\"text-align: right;\">\n",
       "      <th>text</th>\n",
       "      <th>target</th>\n",
       "    </tr>\n",
       "  </thead>\n",
       "  <tbody>\n",
       "    <tr>\n",
       "      <td>▁xxbos ▁o ▁xxup ▁subsecretário ▁xxup ▁de ▁xxup ▁administração ▁xxup ▁geral , ▁xxup ▁da ▁xxup ▁secretaria ▁xxup ▁de ▁xxup ▁estado ▁xxup ▁de ▁xxup ▁seg ura n ▁xxup ▁ ç a ▁xxup ▁pública ▁xxup ▁do ▁xxup ▁distrito ▁xxup ▁federal , ▁no ▁uso ▁de ▁suas ▁atribuições ▁previstas ▁no ▁art . ▁30 ▁do ▁xxmaj ▁decreto ▁32.598 ▁/ ▁2010, ▁e ▁visa ndo ▁a ▁instrução ▁dos ▁autos ▁do ▁xxmaj ▁processo ▁no ▁xxrep ▁4 ▁0 ▁ 9</td>\n",
       "      <td>SECRETARIA DE ESTADO DE SEGURANÇA PÚBLICA</td>\n",
       "    </tr>\n",
       "    <tr>\n",
       "      <td>▁xxbos ▁o ▁xxup ▁governador ▁xxup ▁do ▁xxup ▁distrito ▁xxup ▁federal , ▁no ▁uso ▁de ▁suas ▁atribuições ▁legais , ▁e s - ▁ pe cial mente ▁as ▁previstas ▁no ▁art . ▁100, ▁incisos ▁xxup ▁xxvi ▁e ▁xxup ▁xxvii , ▁da ▁xxmaj ▁lei ▁xxmaj ▁orgânica ▁do ▁xxmaj ▁distrito ▁xxmaj ▁federal , ▁xxup ▁resolve : ▁xxup ▁exonerar , ▁por ▁estar ▁sendo ▁nomead a ▁para ▁outro ▁cargo , ▁xxup ▁raphael a ▁xxup ▁santos ▁xxup</td>\n",
       "      <td>PODER EXECUTIVO</td>\n",
       "    </tr>\n",
       "    <tr>\n",
       "      <td>▁xxbos ▁o ▁xxup ▁governador ▁xxup ▁do ▁xxup ▁distrito ▁xxup ▁federal , ▁no ▁uso ▁das ▁atribuições ▁que ▁lhe ▁confere ▁o ▁artigo ▁100, ▁incisos ▁xxup ▁xxvi ▁e ▁xxup ▁xxvii , ▁da ▁xxmaj ▁lei ▁xxmaj ▁orgânica ▁do ▁xxmaj ▁distrito ▁xxmaj ▁federal , ▁resolve : ▁xxup ▁nomear ▁xxup ▁cristian e ▁xxup ▁ge is s ▁xxup ▁na r des ▁para ▁exercer ▁o ▁xxmaj ▁cargo ▁de ▁xxmaj ▁natureza ▁xxmaj ▁especial , ▁xxmaj ▁símbolo ▁xxup ▁cne -01,</td>\n",
       "      <td>PODER EXECUTIVO</td>\n",
       "    </tr>\n",
       "    <tr>\n",
       "      <td>▁xxbos ▁o ▁xxup ▁governador ▁xxup ▁do ▁xxup ▁distrito ▁xxup ▁federal , ▁no ▁uso ▁das ▁atribuições ▁que ▁lhe ▁confere ▁o ▁artigo ▁100, ▁incisos ▁xxup ▁xxvi ▁e ▁xxup ▁xxvii , ▁da ▁xxmaj ▁lei ▁xxmaj ▁orgânica ▁do ▁xxmaj ▁distrito ▁xxmaj ▁federal , ▁resolve : ▁xxup ▁nomear ▁xxup ▁camil a ▁xxup ▁beatri z ▁xxup ▁da ▁xxup ▁silva ▁xxup ▁oliveira ▁para ▁exercer ▁o ▁xxmaj ▁cargo ▁de ▁xxmaj ▁natureza ▁xxmaj ▁especial , ▁xxmaj ▁símbolo ▁xxup ▁cne</td>\n",
       "      <td>PODER EXECUTIVO</td>\n",
       "    </tr>\n",
       "    <tr>\n",
       "      <td>▁xxbos ▁o ▁xxup ▁governador ▁xxup ▁do ▁xxup ▁distrito ▁xxup ▁federal , ▁no ▁uso ▁das ▁atribuições ▁que ▁lhe ▁confere ▁o ▁artigo ▁100, ▁incisos ▁xxup ▁iii , ▁xxup ▁xxvi ▁e ▁xxup ▁xxvii , ▁da ▁xxmaj ▁lei ▁xxmaj ▁orgânica ▁do ▁xxmaj ▁distrito ▁xxmaj ▁federal , ▁resolve : ▁xxup ▁nomear ▁xxup ▁ s ever ino ▁xxup ▁de ▁xxup ▁sousa ▁xxup ▁oliveira ▁para ▁exercer ▁o ▁xxmaj ▁cargo ▁de ▁xxmaj ▁natureza ▁xxmaj ▁política , ▁xxmaj ▁símbolo</td>\n",
       "      <td>PODER EXECUTIVO</td>\n",
       "    </tr>\n",
       "  </tbody>\n",
       "</table>"
      ],
      "text/plain": [
       "<IPython.core.display.HTML object>"
      ]
     },
     "metadata": {},
     "output_type": "display_data"
    }
   ],
   "source": [
    "data_clas.show_batch()"
   ]
  },
  {
   "cell_type": "code",
   "execution_count": 200,
   "metadata": {},
   "outputs": [],
   "source": [
    "config = awd_lstm_clas_config.copy()\n",
    "config['qrnn'] = True\n",
    "config['n_hid'] = 1550 #default 1152\n",
    "config['n_layers'] = 4 #default 3"
   ]
  },
  {
   "cell_type": "code",
   "execution_count": 201,
   "metadata": {},
   "outputs": [],
   "source": [
    "learn_c = text_classifier_learner(data_clas, AWD_LSTM, config=config, pretrained=False, drop_mult=0.5, \n",
    "                                  metrics=[accuracy,f1])\n",
    "learn_c.load_encoder(\"fine_tune_enc\");"
   ]
  },
  {
   "cell_type": "code",
   "execution_count": 202,
   "metadata": {
    "scrolled": true
   },
   "outputs": [
    {
     "data": {
      "text/html": [],
      "text/plain": [
       "<IPython.core.display.HTML object>"
      ]
     },
     "metadata": {},
     "output_type": "display_data"
    },
    {
     "name": "stdout",
     "output_type": "stream",
     "text": [
      "LR Finder is complete, type {learner_name}.recorder.plot() to see the graph.\n"
     ]
    }
   ],
   "source": [
    "learn_c.freeze()\n",
    "learn_c.lr_find()"
   ]
  },
  {
   "cell_type": "code",
   "execution_count": 203,
   "metadata": {
    "scrolled": true
   },
   "outputs": [
    {
     "data": {
      "image/png": "[encoded data removed]",
      "text/plain": [
       "<Figure size 432x288 with 1 Axes>"
      ]
     },
     "metadata": {
      "needs_background": "light"
     },
     "output_type": "display_data"
    }
   ],
   "source": [
    "learn_c.recorder.plot()"
   ]
  },
  {
   "cell_type": "code",
   "execution_count": 204,
   "metadata": {},
   "outputs": [],
   "source": [
    "lr=2e-2"
   ]
  },
  {
   "cell_type": "code",
   "execution_count": 205,
   "metadata": {},
   "outputs": [
    {
     "data": {
      "text/html": [
       "<table border=\"1\" class=\"dataframe\">\n",
       "  <thead>\n",
       "    <tr style=\"text-align: left;\">\n",
       "      <th>epoch</th>\n",
       "      <th>train_loss</th>\n",
       "      <th>valid_loss</th>\n",
       "      <th>accuracy</th>\n",
       "      <th>f_beta</th>\n",
       "      <th>time</th>\n",
       "    </tr>\n",
       "  </thead>\n",
       "  <tbody>\n",
       "    <tr>\n",
       "      <td>0</td>\n",
       "      <td>2.630551</td>\n",
       "      <td>2.195881</td>\n",
       "      <td>0.614583</td>\n",
       "      <td>0.587653</td>\n",
       "      <td>00:09</td>\n",
       "    </tr>\n",
       "    <tr>\n",
       "      <td>1</td>\n",
       "      <td>2.056357</td>\n",
       "      <td>1.455999</td>\n",
       "      <td>0.583333</td>\n",
       "      <td>0.555476</td>\n",
       "      <td>00:09</td>\n",
       "    </tr>\n",
       "    <tr>\n",
       "      <td>2</td>\n",
       "      <td>1.819164</td>\n",
       "      <td>1.565841</td>\n",
       "      <td>0.562500</td>\n",
       "      <td>0.488445</td>\n",
       "      <td>00:09</td>\n",
       "    </tr>\n",
       "    <tr>\n",
       "      <td>3</td>\n",
       "      <td>1.741062</td>\n",
       "      <td>1.544836</td>\n",
       "      <td>0.531250</td>\n",
       "      <td>0.466933</td>\n",
       "      <td>00:09</td>\n",
       "    </tr>\n",
       "    <tr>\n",
       "      <td>4</td>\n",
       "      <td>1.698061</td>\n",
       "      <td>1.461062</td>\n",
       "      <td>0.645833</td>\n",
       "      <td>0.619942</td>\n",
       "      <td>00:09</td>\n",
       "    </tr>\n",
       "    <tr>\n",
       "      <td>5</td>\n",
       "      <td>1.581578</td>\n",
       "      <td>1.409277</td>\n",
       "      <td>0.583333</td>\n",
       "      <td>0.532724</td>\n",
       "      <td>00:09</td>\n",
       "    </tr>\n",
       "    <tr>\n",
       "      <td>6</td>\n",
       "      <td>1.412424</td>\n",
       "      <td>1.254317</td>\n",
       "      <td>0.604167</td>\n",
       "      <td>0.581575</td>\n",
       "      <td>00:09</td>\n",
       "    </tr>\n",
       "    <tr>\n",
       "      <td>7</td>\n",
       "      <td>1.214700</td>\n",
       "      <td>1.144410</td>\n",
       "      <td>0.656250</td>\n",
       "      <td>0.620797</td>\n",
       "      <td>00:09</td>\n",
       "    </tr>\n",
       "    <tr>\n",
       "      <td>8</td>\n",
       "      <td>1.021408</td>\n",
       "      <td>1.039249</td>\n",
       "      <td>0.729167</td>\n",
       "      <td>0.695671</td>\n",
       "      <td>00:09</td>\n",
       "    </tr>\n",
       "    <tr>\n",
       "      <td>9</td>\n",
       "      <td>0.896726</td>\n",
       "      <td>1.016436</td>\n",
       "      <td>0.750000</td>\n",
       "      <td>0.722247</td>\n",
       "      <td>00:09</td>\n",
       "    </tr>\n",
       "  </tbody>\n",
       "</table>"
      ],
      "text/plain": [
       "<IPython.core.display.HTML object>"
      ]
     },
     "metadata": {},
     "output_type": "display_data"
    }
   ],
   "source": [
    "learn_c.fit_one_cycle(10, lr, wd=0.6, moms=(0.8,0.7))"
   ]
  },
  {
   "cell_type": "code",
   "execution_count": 206,
   "metadata": {},
   "outputs": [],
   "source": [
    "learn_c.save(\"clf_fwd\")"
   ]
  },
  {
   "cell_type": "code",
   "execution_count": 207,
   "metadata": {},
   "outputs": [
    {
     "data": {
      "text/html": [
       "<table border=\"1\" class=\"dataframe\">\n",
       "  <thead>\n",
       "    <tr style=\"text-align: left;\">\n",
       "      <th>epoch</th>\n",
       "      <th>train_loss</th>\n",
       "      <th>valid_loss</th>\n",
       "      <th>accuracy</th>\n",
       "      <th>f_beta</th>\n",
       "      <th>time</th>\n",
       "    </tr>\n",
       "  </thead>\n",
       "  <tbody>\n",
       "    <tr>\n",
       "      <td>0</td>\n",
       "      <td>0.771980</td>\n",
       "      <td>1.060852</td>\n",
       "      <td>0.666667</td>\n",
       "      <td>0.641510</td>\n",
       "      <td>00:09</td>\n",
       "    </tr>\n",
       "    <tr>\n",
       "      <td>1</td>\n",
       "      <td>0.994300</td>\n",
       "      <td>1.124875</td>\n",
       "      <td>0.687500</td>\n",
       "      <td>0.659984</td>\n",
       "      <td>00:09</td>\n",
       "    </tr>\n",
       "    <tr>\n",
       "      <td>2</td>\n",
       "      <td>1.203073</td>\n",
       "      <td>1.417367</td>\n",
       "      <td>0.572917</td>\n",
       "      <td>0.548285</td>\n",
       "      <td>00:09</td>\n",
       "    </tr>\n",
       "    <tr>\n",
       "      <td>3</td>\n",
       "      <td>1.259215</td>\n",
       "      <td>1.472903</td>\n",
       "      <td>0.541667</td>\n",
       "      <td>0.516492</td>\n",
       "      <td>00:09</td>\n",
       "    </tr>\n",
       "    <tr>\n",
       "      <td>4</td>\n",
       "      <td>1.117360</td>\n",
       "      <td>1.166645</td>\n",
       "      <td>0.656250</td>\n",
       "      <td>0.639751</td>\n",
       "      <td>00:09</td>\n",
       "    </tr>\n",
       "    <tr>\n",
       "      <td>5</td>\n",
       "      <td>0.896710</td>\n",
       "      <td>0.928392</td>\n",
       "      <td>0.739583</td>\n",
       "      <td>0.716260</td>\n",
       "      <td>00:09</td>\n",
       "    </tr>\n",
       "    <tr>\n",
       "      <td>6</td>\n",
       "      <td>0.773546</td>\n",
       "      <td>0.804045</td>\n",
       "      <td>0.812500</td>\n",
       "      <td>0.779618</td>\n",
       "      <td>00:09</td>\n",
       "    </tr>\n",
       "    <tr>\n",
       "      <td>7</td>\n",
       "      <td>0.553752</td>\n",
       "      <td>0.739757</td>\n",
       "      <td>0.854167</td>\n",
       "      <td>0.836665</td>\n",
       "      <td>00:09</td>\n",
       "    </tr>\n",
       "    <tr>\n",
       "      <td>8</td>\n",
       "      <td>0.395924</td>\n",
       "      <td>0.705050</td>\n",
       "      <td>0.854167</td>\n",
       "      <td>0.839506</td>\n",
       "      <td>00:09</td>\n",
       "    </tr>\n",
       "    <tr>\n",
       "      <td>9</td>\n",
       "      <td>0.304491</td>\n",
       "      <td>0.708161</td>\n",
       "      <td>0.854167</td>\n",
       "      <td>0.837400</td>\n",
       "      <td>00:09</td>\n",
       "    </tr>\n",
       "  </tbody>\n",
       "</table>"
      ],
      "text/plain": [
       "<IPython.core.display.HTML object>"
      ]
     },
     "metadata": {},
     "output_type": "display_data"
    }
   ],
   "source": [
    "learn_c.freeze_to(-2)\n",
    "learn_c.fit_one_cycle(10, slice(lr/(2.6**4),lr), wd=0.6, moms=(0.8,0.7))"
   ]
  },
  {
   "cell_type": "code",
   "execution_count": 208,
   "metadata": {},
   "outputs": [],
   "source": [
    "learn_c.save(\"clf_fwd\")"
   ]
  },
  {
   "cell_type": "code",
   "execution_count": 209,
   "metadata": {},
   "outputs": [
    {
     "data": {
      "text/html": [
       "<table border=\"1\" class=\"dataframe\">\n",
       "  <thead>\n",
       "    <tr style=\"text-align: left;\">\n",
       "      <th>epoch</th>\n",
       "      <th>train_loss</th>\n",
       "      <th>valid_loss</th>\n",
       "      <th>accuracy</th>\n",
       "      <th>f_beta</th>\n",
       "      <th>time</th>\n",
       "    </tr>\n",
       "  </thead>\n",
       "  <tbody>\n",
       "    <tr>\n",
       "      <td>0</td>\n",
       "      <td>0.255059</td>\n",
       "      <td>0.676060</td>\n",
       "      <td>0.854167</td>\n",
       "      <td>0.838392</td>\n",
       "      <td>00:11</td>\n",
       "    </tr>\n",
       "    <tr>\n",
       "      <td>1</td>\n",
       "      <td>0.282703</td>\n",
       "      <td>1.063507</td>\n",
       "      <td>0.770833</td>\n",
       "      <td>0.756162</td>\n",
       "      <td>00:11</td>\n",
       "    </tr>\n",
       "    <tr>\n",
       "      <td>2</td>\n",
       "      <td>0.592253</td>\n",
       "      <td>1.232754</td>\n",
       "      <td>0.645833</td>\n",
       "      <td>0.650512</td>\n",
       "      <td>00:11</td>\n",
       "    </tr>\n",
       "    <tr>\n",
       "      <td>3</td>\n",
       "      <td>0.596687</td>\n",
       "      <td>0.882408</td>\n",
       "      <td>0.739583</td>\n",
       "      <td>0.698110</td>\n",
       "      <td>00:11</td>\n",
       "    </tr>\n",
       "    <tr>\n",
       "      <td>4</td>\n",
       "      <td>0.471752</td>\n",
       "      <td>0.698612</td>\n",
       "      <td>0.843750</td>\n",
       "      <td>0.827937</td>\n",
       "      <td>00:11</td>\n",
       "    </tr>\n",
       "    <tr>\n",
       "      <td>5</td>\n",
       "      <td>0.391450</td>\n",
       "      <td>0.627542</td>\n",
       "      <td>0.833333</td>\n",
       "      <td>0.821411</td>\n",
       "      <td>00:11</td>\n",
       "    </tr>\n",
       "    <tr>\n",
       "      <td>6</td>\n",
       "      <td>0.305205</td>\n",
       "      <td>0.559692</td>\n",
       "      <td>0.875000</td>\n",
       "      <td>0.858286</td>\n",
       "      <td>00:11</td>\n",
       "    </tr>\n",
       "    <tr>\n",
       "      <td>7</td>\n",
       "      <td>0.225110</td>\n",
       "      <td>0.491442</td>\n",
       "      <td>0.895833</td>\n",
       "      <td>0.878665</td>\n",
       "      <td>00:11</td>\n",
       "    </tr>\n",
       "    <tr>\n",
       "      <td>8</td>\n",
       "      <td>0.166730</td>\n",
       "      <td>0.466851</td>\n",
       "      <td>0.885417</td>\n",
       "      <td>0.869273</td>\n",
       "      <td>00:11</td>\n",
       "    </tr>\n",
       "    <tr>\n",
       "      <td>9</td>\n",
       "      <td>0.131717</td>\n",
       "      <td>0.468414</td>\n",
       "      <td>0.885417</td>\n",
       "      <td>0.868839</td>\n",
       "      <td>00:11</td>\n",
       "    </tr>\n",
       "  </tbody>\n",
       "</table>"
      ],
      "text/plain": [
       "<IPython.core.display.HTML object>"
      ]
     },
     "metadata": {},
     "output_type": "display_data"
    }
   ],
   "source": [
    "learn_c.freeze_to(-3)\n",
    "learn_c.fit_one_cycle(10, slice(lr/2/(2.6**4),lr/2), wd=0.6, moms=(0.8,0.7))"
   ]
  },
  {
   "cell_type": "code",
   "execution_count": 210,
   "metadata": {},
   "outputs": [],
   "source": [
    "learn_c.save(\"clf_fwd\")"
   ]
  },
  {
   "cell_type": "code",
   "execution_count": 211,
   "metadata": {},
   "outputs": [
    {
     "data": {
      "text/html": [
       "<table border=\"1\" class=\"dataframe\">\n",
       "  <thead>\n",
       "    <tr style=\"text-align: left;\">\n",
       "      <th>epoch</th>\n",
       "      <th>train_loss</th>\n",
       "      <th>valid_loss</th>\n",
       "      <th>accuracy</th>\n",
       "      <th>f_beta</th>\n",
       "      <th>time</th>\n",
       "    </tr>\n",
       "  </thead>\n",
       "  <tbody>\n",
       "    <tr>\n",
       "      <td>0</td>\n",
       "      <td>0.113623</td>\n",
       "      <td>0.458883</td>\n",
       "      <td>0.875000</td>\n",
       "      <td>0.858061</td>\n",
       "      <td>00:16</td>\n",
       "    </tr>\n",
       "    <tr>\n",
       "      <td>1</td>\n",
       "      <td>0.110014</td>\n",
       "      <td>0.481784</td>\n",
       "      <td>0.875000</td>\n",
       "      <td>0.857359</td>\n",
       "      <td>00:16</td>\n",
       "    </tr>\n",
       "    <tr>\n",
       "      <td>2</td>\n",
       "      <td>0.100500</td>\n",
       "      <td>0.442128</td>\n",
       "      <td>0.875000</td>\n",
       "      <td>0.859316</td>\n",
       "      <td>00:16</td>\n",
       "    </tr>\n",
       "    <tr>\n",
       "      <td>3</td>\n",
       "      <td>0.092831</td>\n",
       "      <td>0.462088</td>\n",
       "      <td>0.885417</td>\n",
       "      <td>0.871673</td>\n",
       "      <td>00:16</td>\n",
       "    </tr>\n",
       "    <tr>\n",
       "      <td>4</td>\n",
       "      <td>0.082872</td>\n",
       "      <td>0.475614</td>\n",
       "      <td>0.875000</td>\n",
       "      <td>0.866371</td>\n",
       "      <td>00:16</td>\n",
       "    </tr>\n",
       "    <tr>\n",
       "      <td>5</td>\n",
       "      <td>0.071879</td>\n",
       "      <td>0.433550</td>\n",
       "      <td>0.895833</td>\n",
       "      <td>0.884864</td>\n",
       "      <td>00:16</td>\n",
       "    </tr>\n",
       "    <tr>\n",
       "      <td>6</td>\n",
       "      <td>0.065237</td>\n",
       "      <td>0.446039</td>\n",
       "      <td>0.875000</td>\n",
       "      <td>0.857662</td>\n",
       "      <td>00:16</td>\n",
       "    </tr>\n",
       "    <tr>\n",
       "      <td>7</td>\n",
       "      <td>0.061014</td>\n",
       "      <td>0.446230</td>\n",
       "      <td>0.895833</td>\n",
       "      <td>0.882832</td>\n",
       "      <td>00:16</td>\n",
       "    </tr>\n",
       "    <tr>\n",
       "      <td>8</td>\n",
       "      <td>0.053629</td>\n",
       "      <td>0.434617</td>\n",
       "      <td>0.895833</td>\n",
       "      <td>0.882832</td>\n",
       "      <td>00:16</td>\n",
       "    </tr>\n",
       "    <tr>\n",
       "      <td>9</td>\n",
       "      <td>0.047307</td>\n",
       "      <td>0.438850</td>\n",
       "      <td>0.885417</td>\n",
       "      <td>0.871790</td>\n",
       "      <td>00:16</td>\n",
       "    </tr>\n",
       "  </tbody>\n",
       "</table>"
      ],
      "text/plain": [
       "<IPython.core.display.HTML object>"
      ]
     },
     "metadata": {},
     "output_type": "display_data"
    }
   ],
   "source": [
    "learn_c.unfreeze()\n",
    "learn_c.fit_one_cycle(10, slice(lr/10/(2.6**4),lr/10), wd=0.6, moms=(0.8,0.7))"
   ]
  },
  {
   "cell_type": "code",
   "execution_count": 212,
   "metadata": {},
   "outputs": [],
   "source": [
    "learn_c.save(\"clf_fwd\")"
   ]
  },
  {
   "cell_type": "markdown",
   "metadata": {},
   "source": [
    "## Evaluate Forward CLF"
   ]
  },
  {
   "cell_type": "code",
   "execution_count": 213,
   "metadata": {},
   "outputs": [],
   "source": [
    "data_clas = load_data(path/\"data\", \"data_clas_export.pkl\")"
   ]
  },
  {
   "cell_type": "code",
   "execution_count": 214,
   "metadata": {},
   "outputs": [],
   "source": [
    "data_lm = load_data(path/\"data\", \"data_lm_export.pkl\")"
   ]
  },
  {
   "cell_type": "code",
   "execution_count": 215,
   "metadata": {},
   "outputs": [],
   "source": [
    "data_test = (TextList.from_df(df_test, path, cols='text',\n",
    "                              processor=SPProcessor.load(path))\n",
    "                         .split_none()\n",
    "                         .label_from_df(cols=0)\n",
    "                         .databunch(bs=bs))"
   ]
  },
  {
   "cell_type": "code",
   "execution_count": 216,
   "metadata": {},
   "outputs": [
    {
     "data": {
      "text/html": [
       "<table border=\"1\" class=\"dataframe\">\n",
       "  <thead>\n",
       "    <tr style=\"text-align: right;\">\n",
       "      <th>text</th>\n",
       "      <th>target</th>\n",
       "    </tr>\n",
       "  </thead>\n",
       "  <tbody>\n",
       "    <tr>\n",
       "      <td>▁xxbos ▁o ▁xxup ▁coordenador ▁xxup ▁de ▁xxup ▁inovação ▁e ▁xxup ▁gestão ▁xxup ▁do ▁xxup ▁conhecimento , ▁xxup ▁da ▁xxup ▁subsecretaria ▁xxup ▁de ▁xxup ▁gestão ▁xxup ▁de ▁xxup ▁pessoas ▁xxup ▁da ▁xxup ▁secretaria ▁xxup ▁de ▁xxup ▁estado ▁xxup ▁de ▁xxup ▁saúde ▁xxup ▁do ▁xxup ▁distrito ▁xxup ▁federal , ▁xxmaj ▁substituto , ▁no ▁uso ▁de ▁suas ▁atribuições ▁regimentais ▁e ▁considerando ▁o ▁disposto ▁no ▁xxmaj ▁art . ▁3° ▁do ▁xxmaj ▁decreto ▁no ▁39.61</td>\n",
       "      <td>SECRETARIA DE ESTADO DE SAÚDE</td>\n",
       "    </tr>\n",
       "    <tr>\n",
       "      <td>▁xxbos ▁o ▁xxup ▁governador ▁xxup ▁do ▁xxup ▁distrito ▁xxup ▁federal , ▁no ▁uso ▁das ▁atribuições ▁que ▁lhe ▁confere m ▁os ▁incisos ▁xxup ▁xxvi ▁e ▁xxup ▁xxvii , ▁do ▁artigo ▁100, ▁da ▁xxmaj ▁lei ▁xxmaj ▁orgânica ▁do ▁xxmaj ▁distrito ▁xxmaj ▁federal , ▁resolve : ▁xxup ▁nomear ▁o ▁xxup ▁ma j ▁xxup ▁qopm ▁xxup ▁peter c ley ▁xxup ▁franco ▁xxup ▁alves , ▁matrícula ▁ 50. 64 1 -9, ▁para ▁exercer ▁o ▁xxmaj</td>\n",
       "      <td>PODER EXECUTIVO</td>\n",
       "    </tr>\n",
       "    <tr>\n",
       "      <td>▁xxbos ▁o ▁xxup ▁governador ▁xxup ▁do ▁xxup ▁distrito ▁xxup ▁federal , ▁no ▁uso ▁das ▁atribuições ▁que ▁lhe ▁confere ▁o ▁artigo ▁100, ▁incisos ▁xxup ▁xxvi ▁e ▁xxup ▁xxvii , ▁da ▁xxmaj ▁lei ▁xxmaj ▁orgânica ▁do ▁xxmaj ▁distrito ▁xxmaj ▁federal , ▁resolve : ▁xxup ▁nomear ▁xxup ▁jos é ▁xxup ▁pereira ▁xxup ▁oliveira ▁para ▁exercer ▁o ▁xxmaj ▁cargo ▁em ▁xxmaj ▁comissão , ▁xxmaj ▁símbolo ▁xxup ▁df a - ▁10 , ▁de ▁xxmaj ▁assessor</td>\n",
       "      <td>PODER EXECUTIVO</td>\n",
       "    </tr>\n",
       "    <tr>\n",
       "      <td>▁xxbos ▁o ▁xxup ▁governador ▁xxup ▁do ▁xxup ▁distrito ▁xxup ▁federal , ▁no ▁uso ▁das ▁atribuições ▁que ▁lhe ▁confere ▁o ▁artigo ▁100, ▁incisos ▁xxup ▁xxvi ▁e ▁xxup ▁xxvii , ▁da ▁xxmaj ▁lei ▁xxmaj ▁orgânica ▁do ▁xxmaj ▁distrito ▁xxmaj ▁federal , ▁resolve : ▁xxup ▁tornar ▁xxup ▁sem ▁xxup ▁efeito ▁no ▁xxmaj ▁decreto ▁de ▁08 ▁de ▁janeiro ▁de ▁2019, ▁publicado ▁no ▁xxup ▁dodf ▁no ▁06 , ▁de ▁09 ▁de ▁janeiro ▁de ▁2019, ▁página</td>\n",
       "      <td>PODER EXECUTIVO</td>\n",
       "    </tr>\n",
       "    <tr>\n",
       "      <td>▁xxbos ▁o ▁xxup ▁governador ▁xxup ▁do ▁xxup ▁distrito ▁xxup ▁federal , ▁no ▁uso ▁das ▁atribuições ▁que ▁lhe ▁confere ▁o ▁artigo ▁100, ▁incisos ▁xxup ▁xxvi ▁e ▁xxup ▁xxvii , ▁da ▁xxmaj ▁lei ▁xxmaj ▁orgânica ▁do ▁xxmaj ▁distrito ▁xxmaj ▁federal , ▁resolve : ▁xxup ▁nomear ▁xxup ▁da vid ▁xxup ▁donizett i ▁xxup ▁da ▁xxup ▁silva , ▁para ▁exercer ▁o ▁xxmaj ▁cargo ▁em ▁xxmaj ▁comissão , ▁xxmaj ▁símbolo ▁xxup ▁dfg -12, ▁de ▁xxmaj</td>\n",
       "      <td>PODER EXECUTIVO</td>\n",
       "    </tr>\n",
       "  </tbody>\n",
       "</table>"
      ],
      "text/plain": [
       "<IPython.core.display.HTML object>"
      ]
     },
     "metadata": {},
     "output_type": "display_data"
    }
   ],
   "source": [
    "data_test.show_batch()"
   ]
  },
  {
   "cell_type": "code",
   "execution_count": 217,
   "metadata": {},
   "outputs": [
    {
     "data": {
      "text/plain": [
       "(19, 19)"
      ]
     },
     "execution_count": 217,
     "metadata": {},
     "output_type": "execute_result"
    }
   ],
   "source": [
    "data_test.c, data_clas.c"
   ]
  },
  {
   "cell_type": "code",
   "execution_count": 218,
   "metadata": {},
   "outputs": [
    {
     "data": {
      "text/plain": [
       "(8552, 8552)"
      ]
     },
     "execution_count": 218,
     "metadata": {},
     "output_type": "execute_result"
    }
   ],
   "source": [
    "len(data_test.vocab.itos), len(data_clas.vocab.itos)"
   ]
  },
  {
   "cell_type": "code",
   "execution_count": 219,
   "metadata": {},
   "outputs": [],
   "source": [
    "data_test.save(path/\"data/test_data.pkl\")"
   ]
  },
  {
   "cell_type": "code",
   "execution_count": 220,
   "metadata": {},
   "outputs": [],
   "source": [
    "learn_c.load(path/\"clf_fwd\");"
   ]
  },
  {
   "cell_type": "code",
   "execution_count": 221,
   "metadata": {},
   "outputs": [],
   "source": [
    "learn_c.data.valid_dl = data_test.fix_dl"
   ]
  },
  {
   "cell_type": "code",
   "execution_count": 222,
   "metadata": {},
   "outputs": [
    {
     "name": "stderr",
     "output_type": "stream",
     "text": [
      "/opt/anaconda3/lib/python3.7/site-packages/fastai/train.py:200: UserWarning: Tight layout not applied. The left and right margins cannot be made large enough to accommodate all axes decorations. \n",
      "  plt.tight_layout()\n"
     ]
    },
    {
     "data": {
      "image/png": "[encoded data removed]",
      "text/plain": [
       "<Figure size 432x288 with 1 Axes>"
      ]
     },
     "metadata": {
      "needs_background": "light"
     },
     "output_type": "display_data"
    }
   ],
   "source": [
    "preds,y,losses = learn_c.get_preds(with_loss=True)\n",
    "predictions = np.argmax(preds, axis = 1)\n",
    "\n",
    "interp = ClassificationInterpretation(learn_c, preds, y, losses)\n",
    "interp.plot_confusion_matrix()"
   ]
  },
  {
   "cell_type": "code",
   "execution_count": 223,
   "metadata": {},
   "outputs": [
    {
     "data": {
      "text/plain": [
       "(tensor([15,  3, 15,  3,  3, 11,  6, 10, 10,  3, 15, 14, 14, 15, 15]),\n",
       " tensor([14,  3,  3,  3,  3, 10, 13, 10, 10,  3, 15, 14, 14, 15, 15]),\n",
       " torch.Size([237]),\n",
       " torch.Size([237]))"
      ]
     },
     "execution_count": 223,
     "metadata": {},
     "output_type": "execute_result"
    }
   ],
   "source": [
    "predictions[:15], y[:15], predictions.shape, y.shape"
   ]
  },
  {
   "cell_type": "code",
   "execution_count": 224,
   "metadata": {},
   "outputs": [
    {
     "name": "stdout",
     "output_type": "stream",
     "text": [
      "                                                                                   precision    recall  f1-score   support\n",
      "\n",
      "                                                                       CASA CIVIL     0.9333    0.7778    0.8485        18\n",
      "                                          CONTROLADORIA GERAL DO DISTRITO FEDERAL     0.5000    0.5000    0.5000         2\n",
      "                                           DEFENSORIA PÚBLICA DO DISTRITO FEDERAL     1.0000    1.0000    1.0000         8\n",
      "                                                                  PODER EXECUTIVO     0.6923    0.9000    0.7826        10\n",
      "                                                                PODER LEGISLATIVO     1.0000    1.0000    1.0000         1\n",
      "       SECRETARIA DE ESTADO DE AGRICULTURA, ABASTECIMENTO E DESENVOLVIMENTO RURAL     1.0000    0.7500    0.8571         4\n",
      "                                                  SECRETARIA DE ESTADO DE CULTURA     0.9167    0.8462    0.8800        13\n",
      "                                SECRETARIA DE ESTADO DE DESENVOLVIMENTO ECONÔMICO     0.5000    0.5000    0.5000         4\n",
      "                       SECRETARIA DE ESTADO DE DESENVOLVIMENTO URBANO E HABITAÇÃO     1.0000    0.7500    0.8571         4\n",
      "SECRETARIA DE ESTADO DE ECONOMIA, DESENVOLVIMENTO, INOVAÇÃO, CIÊNCIA E TECNOLOGIA     1.0000    1.0000    1.0000         1\n",
      "                                                 SECRETARIA DE ESTADO DE EDUCAÇÃO     0.7500    0.6923    0.7200        13\n",
      "                SECRETARIA DE ESTADO DE FAZENDA, PLANEJAMENTO, ORÇAMENTO E GESTÃO     0.8261    0.9048    0.8636        21\n",
      "                                      SECRETARIA DE ESTADO DE JUSTIÇA E CIDADANIA     0.7500    0.6000    0.6667         5\n",
      "                                   SECRETARIA DE ESTADO DE OBRAS E INFRAESTRUTURA     1.0000    0.7778    0.8750        18\n",
      "                                                    SECRETARIA DE ESTADO DE SAÚDE     0.9394    0.9688    0.9538        32\n",
      "                                        SECRETARIA DE ESTADO DE SEGURANÇA PÚBLICA     0.8772    1.0000    0.9346        50\n",
      "                                  SECRETARIA DE ESTADO DE TRANSPORTE E MOBILIDADE     0.8500    0.8500    0.8500        20\n",
      "                                            SECRETARIA DE ESTADO DO MEIO AMBIENTE     1.0000    0.5000    0.6667         2\n",
      "                                           TRIBUNAL DE CONTAS DO DISTRITO FEDERAL     1.0000    1.0000    1.0000        11\n",
      "\n",
      "                                                                        micro avg     0.8776    0.8776    0.8776       237\n",
      "                                                                        macro avg     0.8703    0.8062    0.8293       237\n",
      "                                                                     weighted avg     0.8836    0.8776    0.8758       237\n",
      "\n",
      "0.8776371308016878\n"
     ]
    }
   ],
   "source": [
    "print(classification_report(y, predictions, target_names=learn_c.data.classes, digits=4))\n",
    "print(accuracy_score(y, predictions))"
   ]
  },
  {
   "cell_type": "code",
   "execution_count": 145,
   "metadata": {},
   "outputs": [
    {
     "data": {
      "text/html": [
       "<table border=\"1\" class=\"dataframe\">\n",
       "  <thead>\n",
       "    <tr style=\"text-align: right;\">\n",
       "      <th>text</th>\n",
       "      <th>target</th>\n",
       "      <th>prediction</th>\n",
       "    </tr>\n",
       "  </thead>\n",
       "  <tbody>\n",
       "    <tr>\n",
       "      <td>▁xxbos ▁o ▁xxup ▁coordenador ▁xxup ▁de ▁xxup ▁inovação ▁e ▁xxup ▁gestão ▁xxup ▁do ▁xxup ▁conhecimento , ▁xxup ▁da ▁xxup ▁subsecretaria ▁xxup ▁de ▁xxup ▁gestão ▁xxup ▁de ▁xxup ▁pessoas ▁xxup ▁da ▁xxup ▁secretaria ▁xxup ▁de ▁xxup ▁estado ▁xxup ▁de ▁xxup ▁saúde ▁xxup ▁do ▁xxup ▁distrito ▁xxup ▁federal , ▁xxmaj ▁substituto , ▁no ▁uso ▁de ▁suas ▁atribuições ▁regimentais ▁e ▁considerando ▁o ▁disposto ▁no ▁xxmaj ▁art . ▁3° ▁do ▁xxmaj ▁decreto ▁no ▁39.61</td>\n",
       "      <td>SECRETARIA DE ESTADO DE SAÚDE</td>\n",
       "      <td>SECRETARIA DE ESTADO DE SEGURANÇA PÚBLICA</td>\n",
       "    </tr>\n",
       "    <tr>\n",
       "      <td>▁xxbos ▁o ▁xxup ▁governador ▁xxup ▁do ▁xxup ▁distrito ▁xxup ▁federal , ▁no ▁uso ▁das ▁atribuições ▁que ▁lhe ▁confere m ▁os ▁incisos ▁xxup ▁xxvi ▁e ▁xxup ▁xxvii , ▁do ▁artigo ▁100, ▁da ▁xxmaj ▁lei ▁xxmaj ▁orgânica ▁do ▁xxmaj ▁distrito ▁xxmaj ▁federal , ▁resolve : ▁xxup ▁nomear ▁o ▁xxup ▁ma j ▁xxup ▁qopm ▁xxup ▁peter c ley ▁xxup ▁franco ▁xxup ▁alves , ▁matrícula ▁ 50. 64 1 -9, ▁para ▁exercer ▁o ▁xxmaj</td>\n",
       "      <td>PODER EXECUTIVO</td>\n",
       "      <td>PODER EXECUTIVO</td>\n",
       "    </tr>\n",
       "    <tr>\n",
       "      <td>▁xxbos ▁o ▁xxup ▁governador ▁xxup ▁do ▁xxup ▁distrito ▁xxup ▁federal , ▁no ▁uso ▁das ▁atribuições ▁que ▁lhe ▁confere ▁o ▁artigo ▁100, ▁incisos ▁xxup ▁xxvi ▁e ▁xxup ▁xxvii , ▁da ▁xxmaj ▁lei ▁xxmaj ▁orgânica ▁do ▁xxmaj ▁distrito ▁xxmaj ▁federal , ▁resolve : ▁xxup ▁nomear ▁xxup ▁jos é ▁xxup ▁pereira ▁xxup ▁oliveira ▁para ▁exercer ▁o ▁xxmaj ▁cargo ▁em ▁xxmaj ▁comissão , ▁xxmaj ▁símbolo ▁xxup ▁df a - ▁10 , ▁de ▁xxmaj ▁assessor</td>\n",
       "      <td>PODER EXECUTIVO</td>\n",
       "      <td>SECRETARIA DE ESTADO DE SEGURANÇA PÚBLICA</td>\n",
       "    </tr>\n",
       "    <tr>\n",
       "      <td>▁xxbos ▁o ▁xxup ▁governador ▁xxup ▁do ▁xxup ▁distrito ▁xxup ▁federal , ▁no ▁uso ▁das ▁atribuições ▁que ▁lhe ▁confere ▁o ▁artigo ▁100, ▁incisos ▁xxup ▁xxvi ▁e ▁xxup ▁xxvii , ▁da ▁xxmaj ▁lei ▁xxmaj ▁orgânica ▁do ▁xxmaj ▁distrito ▁xxmaj ▁federal , ▁resolve : ▁xxup ▁tornar ▁xxup ▁sem ▁xxup ▁efeito ▁no ▁xxmaj ▁decreto ▁de ▁08 ▁de ▁janeiro ▁de ▁2019, ▁publicado ▁no ▁xxup ▁dodf ▁no ▁06 , ▁de ▁09 ▁de ▁janeiro ▁de ▁2019, ▁página</td>\n",
       "      <td>PODER EXECUTIVO</td>\n",
       "      <td>PODER EXECUTIVO</td>\n",
       "    </tr>\n",
       "    <tr>\n",
       "      <td>▁xxbos ▁o ▁xxup ▁governador ▁xxup ▁do ▁xxup ▁distrito ▁xxup ▁federal , ▁no ▁uso ▁das ▁atribuições ▁que ▁lhe ▁confere ▁o ▁artigo ▁100, ▁incisos ▁xxup ▁xxvi ▁e ▁xxup ▁xxvii , ▁da ▁xxmaj ▁lei ▁xxmaj ▁orgânica ▁do ▁xxmaj ▁distrito ▁xxmaj ▁federal , ▁resolve : ▁xxup ▁nomear ▁xxup ▁da vid ▁xxup ▁donizett i ▁xxup ▁da ▁xxup ▁silva , ▁para ▁exercer ▁o ▁xxmaj ▁cargo ▁em ▁xxmaj ▁comissão , ▁xxmaj ▁símbolo ▁xxup ▁dfg -12, ▁de ▁xxmaj</td>\n",
       "      <td>PODER EXECUTIVO</td>\n",
       "      <td>PODER EXECUTIVO</td>\n",
       "    </tr>\n",
       "  </tbody>\n",
       "</table>"
      ],
      "text/plain": [
       "<IPython.core.display.HTML object>"
      ]
     },
     "metadata": {},
     "output_type": "display_data"
    }
   ],
   "source": [
    "learn_c.show_results()"
   ]
  },
  {
   "cell_type": "code",
   "execution_count": 78,
   "metadata": {},
   "outputs": [],
   "source": [
    "txt_ci = TextClassificationInterpretation.from_learner(learn_c)"
   ]
  },
  {
   "cell_type": "code",
   "execution_count": 79,
   "metadata": {},
   "outputs": [
    {
     "data": {
      "text/html": [
       "<table border=\"1\" class=\"dataframe\">\n",
       "  <thead>\n",
       "    <tr style=\"text-align: right;\">\n",
       "      <th>Text</th>\n",
       "      <th>Prediction</th>\n",
       "      <th>Actual</th>\n",
       "      <th>Loss</th>\n",
       "      <th>Probability</th>\n",
       "    </tr>\n",
       "  </thead>\n",
       "  <tbody>\n",
       "    <tr>\n",
       "      <td>▁xxbos ▁o ▁xxup ▁brb ▁- ▁xxup ▁banco ▁xxup ▁de ▁xxup ▁brasília ▁xxup ▁ s . a . ▁torna ▁público ▁que ▁a ▁xxmaj ▁comissão ▁xxmaj ▁administrativa ▁da ▁xxup ▁dipe s ▁ratifico u ▁o ▁ato ▁de ▁dispensa ▁de ▁licitação , ▁em ▁15.0 1. 19 , ▁nos ▁termos ▁do ▁artigo ▁6° ▁do ▁xxmaj ▁regulamento ▁de ▁xxmaj ▁licitações ▁e ▁xxmaj ▁contratos ▁xxup ▁( r lc - brb ), ▁para ▁a li enação ▁de ▁imóveis</td>\n",
       "      <td>SECRETARIA DE ESTADO DE SAÚDE</td>\n",
       "      <td>SECRETARIA DE ESTADO DE FAZENDA, PLANEJAMENTO, ORÇAMENTO E GESTÃO</td>\n",
       "      <td>8.21</td>\n",
       "      <td>0.02</td>\n",
       "    </tr>\n",
       "    <tr>\n",
       "      <td>▁xxbos ▁o ▁xxup ▁subsecretário ▁xxup ▁de ▁xxup ▁administração ▁xxup ▁geral , ▁xxup ▁da ▁xxup ▁secretaria ▁xxup ▁de ▁xxup ▁estado ▁xxup ▁de ▁xxup ▁justiça ▁e ▁xxup ▁cidadania ▁xxup ▁do ▁xxup ▁distrito ▁xxup ▁federal , ▁no ▁uso ▁das ▁atribuições ▁da ▁delega ção ▁de ▁competência ▁que ▁trata ▁o ▁artigo ▁2 o , ▁inciso ▁xxup ▁i , ▁alínea ▁\" j \" ▁da ▁xxmaj ▁portaria ▁n ° ▁65, ▁de ▁13 ▁de ▁maio ▁de ▁2013, ▁publicada</td>\n",
       "      <td>PODER EXECUTIVO</td>\n",
       "      <td>SECRETARIA DE ESTADO DE JUSTIÇA E CIDADANIA</td>\n",
       "      <td>6.74</td>\n",
       "      <td>0.00</td>\n",
       "    </tr>\n",
       "    <tr>\n",
       "      <td>▁xxbos ▁a ▁xxup ▁subsecretária ▁xxup ▁de ▁xxup ▁gestão ▁xxup ▁de ▁xxup ▁pessoas , ▁xxup ▁da ▁xxup ▁secretaria ▁xxup ▁de ▁xxup ▁estado ▁xxup ▁de ▁xxup ▁educação ▁xxup ▁do ▁xxup ▁distrito ▁xxup ▁federal , ▁no ▁uso ▁das ▁atribuições ▁que ▁lhe ▁são ▁conferida s ▁pelo ▁artigo ▁4 o , ▁inciso ▁xxup ▁iii , ▁da ▁xxmaj ▁portaria ▁no ▁376 , ▁de ▁13 .11.2018 , ▁resolve : ▁xxup ▁homologar ▁o ▁resultado ▁da ▁avaliação ▁final ▁do</td>\n",
       "      <td>PODER EXECUTIVO</td>\n",
       "      <td>SECRETARIA DE ESTADO DE EDUCAÇÃO</td>\n",
       "      <td>6.70</td>\n",
       "      <td>0.01</td>\n",
       "    </tr>\n",
       "    <tr>\n",
       "      <td>▁xxbos ▁o ▁xxup ▁secretário ▁xxup ▁de ▁xxup ▁estado ▁xxup ▁de ▁xxup ▁educação ▁xxup ▁do ▁xxup ▁distrito ▁xxup ▁federal , ▁no ▁uso ▁das ▁atribuições ▁regimentais ▁que ▁lhe ▁são ▁conferida s ▁pelo ▁xxmaj ▁decreto ▁no ▁38.6 31, ▁de ▁20 ▁de ▁novembro ▁de ▁2017 ▁e ▁pelo ▁xxmaj ▁decreto ▁no ▁39.002 , ▁de ▁24 ▁de ▁abri l ▁de ▁2018, ▁e ▁considerando ▁o ▁disposto ▁no ▁art . ▁44, ▁da ▁xxmaj ▁lei ▁xxmaj ▁complementar ▁no ▁</td>\n",
       "      <td>SECRETARIA DE ESTADO DE TRANSPORTE E MOBILIDADE</td>\n",
       "      <td>SECRETARIA DE ESTADO DE EDUCAÇÃO</td>\n",
       "      <td>6.51</td>\n",
       "      <td>0.01</td>\n",
       "    </tr>\n",
       "    <tr>\n",
       "      <td>▁xxbos ▁xxmaj ▁contratante : ▁xxup ▁brb ▁- ▁xxup ▁banco ▁xxup ▁de ▁xxup ▁brasília ▁xxup ▁ s . a . ▁xxmaj ▁contratada : ▁xxup ▁ lo rinald o ▁xxup ▁batista ▁xxup ▁de ▁xxup ▁carvalho . ▁xxmaj ▁contrato ▁xxup ▁brb ▁- ▁2018 ▁/ ▁ 262 . ▁xxmaj ▁modalidade : ▁xxmaj ▁credenciamento ▁xxup ▁brb ▁no ▁001 ▁/ ▁2018. ▁xxmaj ▁objeto : ▁xxmaj ▁prestação ▁de ▁serviços ▁de ▁intermediação ▁de ▁venda ▁de ▁imóveis ▁não ▁de</td>\n",
       "      <td>TRIBUNAL DE CONTAS DO DISTRITO FEDERAL</td>\n",
       "      <td>SECRETARIA DE ESTADO DE FAZENDA, PLANEJAMENTO, ORÇAMENTO E GESTÃO</td>\n",
       "      <td>5.83</td>\n",
       "      <td>0.02</td>\n",
       "    </tr>\n",
       "  </tbody>\n",
       "</table>"
      ],
      "text/plain": [
       "<IPython.core.display.HTML object>"
      ]
     },
     "metadata": {},
     "output_type": "display_data"
    }
   ],
   "source": [
    "txt_ci.show_top_losses(5)"
   ]
  },
  {
   "cell_type": "markdown",
   "metadata": {},
   "source": [
    "## Train backwards classifier"
   ]
  },
  {
   "cell_type": "code",
   "execution_count": 145,
   "metadata": {},
   "outputs": [],
   "source": [
    "bs=8"
   ]
  },
  {
   "cell_type": "code",
   "execution_count": 146,
   "metadata": {},
   "outputs": [],
   "source": [
    "data_lm = load_data(\"data/\", \"data_lm_back.pkl\", bs=bs, backwards=True)"
   ]
  },
  {
   "cell_type": "code",
   "execution_count": 147,
   "metadata": {},
   "outputs": [
    {
     "data": {
      "text/html": [
       "<table border=\"1\" class=\"dataframe\">\n",
       "  <thead>\n",
       "    <tr style=\"text-align: right;\">\n",
       "      <th>idx</th>\n",
       "      <th>text</th>\n",
       "    </tr>\n",
       "  </thead>\n",
       "  <tbody>\n",
       "    <tr>\n",
       "      <td>0</td>\n",
       "      <td>▁do ▁termos ▁nos , comprasnet ▁ ▁do ▁sítio ▁no ada ▁process ▁será ▁pública ▁xxmaj ▁sessão ▁xxmaj ▁a ). 3 ▁97400 : uasg ▁( ▁xxup br . gov . comprasnet . ww ▁w ▁e br . gov . df . tc . ww ▁w : ▁sítios ▁pelos ▁ou 742 ▁3314-2 61) ▁( ▁telefone , ▁tcdf ▁xxup ▁do ▁anexo ▁xxmaj . ▁ed ▁xxmaj ▁do ▁andar ▁xxmaj o ▁2 ▁no ▁localizado , ▁licitação</td>\n",
       "    </tr>\n",
       "    <tr>\n",
       "      <td>1</td>\n",
       "      <td>▁xxmaj ▁de ▁comissão ▁xxmaj stituírem ▁con , ▁primeiro ▁do ▁presidência ▁a ▁sob , ▁para -4; 45 ▁215.7 ▁no ▁matrícula , ▁ambiente ▁xxmaj ▁meio ▁xxmaj ▁do ▁atividades ▁xxmaj ▁de ▁analista ▁xxmaj , ▁mesquita ▁xxup ▁de ▁xxup ▁gonçalves ▁xxup o ▁fábi ▁xxup ▁luis ▁xxup ▁e ; x .259- 4 ▁26 ▁xxup ▁no ▁matrícula , ▁urbanas ▁xxmaj ▁atividades ▁xxmaj ▁de ▁fiscal ▁xxmaj ▁auditora ▁xxmaj , ▁mendes ▁xxup ▁moraes ▁xxup ▁de ▁xxup a ▁flávi</td>\n",
       "    </tr>\n",
       "    <tr>\n",
       "      <td>2</td>\n",
       "      <td>▁especial ▁xxmaj ▁natureza ▁xxmaj ▁de ▁cargo ▁xxmaj ▁o ▁exercer ▁para 88-2, 4 ▁39. ▁no ▁matrícula , ▁professor ▁xxmaj , ▁aguiar ▁xxup ▁de ▁xxup ▁domingues ▁xxup line ke ▁jac ▁xxup ▁nomear ▁xxup . ▁federal ▁xxmaj ▁distrito ▁xxmaj ▁do ▁educação ▁xxmaj ▁de ▁estado ▁xxmaj ▁de ▁secretaria ▁xxmaj ▁da , ▁básica ▁xxmaj ▁educação ▁xxmaj ▁de ▁subsecretaria ▁xxmaj ▁da , is versa ▁trans ▁xxmaj is ▁educaciona ▁xxmaj ▁políticas ▁xxmaj ▁de ▁coordenação ▁xxmaj ▁da ,</td>\n",
       "    </tr>\n",
       "    <tr>\n",
       "      <td>3</td>\n",
       "      <td>▁ ▁matricula ▁araujo ▁xxup ▁de ▁xxup ▁rodolfo ▁xxup ▁a ▁aposentadoria ▁concedeu ▁que ▁ato ▁o ▁2018, ▁de ▁dezembro ▁de ▁27 ▁de , ▁federal ▁xxmaj ▁distrito ▁xxmaj ▁do ▁oficial ▁xxmaj ▁diário ▁xxmaj ▁no ▁publicada ▁2018, ▁de ▁dezembro ▁de ▁26 ▁de , ▁serviço ▁xxmaj ▁de ▁ordem ▁xxmaj ▁na ▁retificar ▁xxup . ▁2018-00 ▁/ 28 ▁61 ▁0 ▁4 ▁xxrep ▁00410- ▁processo ▁xxmaj ▁2018. ▁de lho ▁ju ▁de ▁04 ▁de ▁contar ▁a ▁efeitos ▁seus ▁com</td>\n",
       "    </tr>\n",
       "    <tr>\n",
       "      <td>4</td>\n",
       "      <td>▁xxmaj , ▁próprios ▁xxup ▁recursos ▁xxup : ▁recursos ▁xxup ▁de ▁xxup ▁fonte ▁xxup ; 33.90.30 . ▁6977 ▁/ 17.122.6001.8517 ▁ : ▁despesa ▁xxup ▁de ▁xxup ▁natureza ▁xxup ▁/ ▁trabalho ▁xxup ▁de ▁xxup ▁programa ▁xxup . ▁22.202 : ▁uo ▁xxup : ▁orçamentária ▁xxup ▁dotação ▁xxup . o ug tar ▁ ▁e \" u ▁\" ▁xxup ▁em il perf ▁ , o ç ▁a ▁em on ▁metal , to cha ▁ ▁ferro</td>\n",
       "    </tr>\n",
       "  </tbody>\n",
       "</table>"
      ],
      "text/plain": [
       "<IPython.core.display.HTML object>"
      ]
     },
     "metadata": {},
     "output_type": "display_data"
    }
   ],
   "source": [
    "data_lm.show_batch()"
   ]
  },
  {
   "cell_type": "code",
   "execution_count": 148,
   "metadata": {},
   "outputs": [],
   "source": [
    "data_clas = (TextList.from_df(df_train_val, path, cols='text',\n",
    "                              processor=SPProcessor.load(path))\n",
    "                         .split_from_df(col=2)\n",
    "                         .label_from_df(cols=0)\n",
    "                         .databunch(bs=bs, backwards=True))"
   ]
  },
  {
   "cell_type": "code",
   "execution_count": 149,
   "metadata": {},
   "outputs": [
    {
     "data": {
      "text/plain": [
       "(8552, 8552)"
      ]
     },
     "execution_count": 149,
     "metadata": {},
     "output_type": "execute_result"
    }
   ],
   "source": [
    "len(data_clas.vocab.itos), len(data_lm.vocab.itos)"
   ]
  },
  {
   "cell_type": "code",
   "execution_count": 152,
   "metadata": {},
   "outputs": [],
   "source": [
    "data_clas.save(path/'data/data_clas_bwd.pkl')"
   ]
  },
  {
   "cell_type": "code",
   "execution_count": 153,
   "metadata": {},
   "outputs": [
    {
     "data": {
      "text/html": [
       "<table border=\"1\" class=\"dataframe\">\n",
       "  <thead>\n",
       "    <tr style=\"text-align: right;\">\n",
       "      <th>text</th>\n",
       "      <th>target</th>\n",
       "    </tr>\n",
       "  </thead>\n",
       "  <tbody>\n",
       "    <tr>\n",
       "      <td>, no ▁maria ▁xxup ▁silva ▁xxup ▁da ▁xxup ▁rodrigo ▁xxup 5; 11 941 02 730 ▁ , ▁gomes ▁xxup ▁silva ▁xxup ▁da ▁xxup ▁rodrigo ▁xxup 3; 316 21 094 ▁04 , ▁azevedo ▁xxup ▁barros ▁xxup ▁silva ▁xxup ▁da ▁xxup ▁rodrigo ▁xxup ; 172 51 73 46 71 ▁ , ▁silva ▁xxup ▁da ▁xxup to ara chi ▁ ▁xxup ▁rodrigo ▁xxup ; 00 61 553 82 ▁68 , ▁paiva ▁xxup ▁de</td>\n",
       "      <td>SECRETARIA DE ESTADO DE SEGURANÇA PÚBLICA</td>\n",
       "    </tr>\n",
       "    <tr>\n",
       "      <td>▁a ▁da , ▁assessor ▁xxmaj ▁de -12, a ▁df ▁xxup ▁símbolo ▁xxmaj , ▁comissão ▁xxmaj ▁em ▁cargo ▁xxmaj ▁no ▁pereira ▁xxup ▁oliveira ▁xxup ▁de ▁xxup e ▁dayan ▁xxup ▁nomear ▁xxup . ▁df ▁xxup ▁/ slu - ▁federal ▁distrito ▁xxmaj ▁do ▁urbana ▁xxmaj ▁limpeza ▁xxmaj ▁de ▁serviço ▁xxmaj ▁do , ▁mobilização ▁xxmaj ▁e ▁comunicação ▁xxmaj ▁de ▁assessoria ▁xxmaj ▁da , ▁especial ▁xxmaj ▁assessor ▁xxmaj ▁de , -06 ▁cne ▁xxup ▁símbolo ▁xxmaj</td>\n",
       "      <td>PODER EXECUTIVO</td>\n",
       "    </tr>\n",
       "    <tr>\n",
       "      <td>▁e ▁para 3-2 73 ▁1.680. ▁matrícula , ▁rodrigues ▁xxup ▁reis ▁xxup ian ▁ ▁xxup ▁nomear ▁xxup . ▁federal ▁xxmaj ▁distrito ▁xxmaj ▁do ▁saúde ▁xxmaj ▁de ▁estado ▁xxmaj ▁de ▁secretaria ▁xxmaj ▁da , ▁gabinete ▁xxmaj ▁do , ▁assessor ▁xxmaj ▁de -14, a ▁df ▁xxup ▁símbolo ▁xxmaj , ▁comissão ▁xxmaj ▁em ▁cargo ▁xxmaj ▁o ▁exercer ▁para , ▁oliveira ▁xxup ▁de ▁xxup ▁barbosa ▁xxup ica ▁jess ▁xxup ▁nomear ▁xxup . ▁federal ▁xxmaj ▁distrito</td>\n",
       "      <td>PODER EXECUTIVO</td>\n",
       "    </tr>\n",
       "    <tr>\n",
       "      <td>no ▁bren ▁xxup ▁nomear ▁xxup . ▁federal ▁xxmaj ▁distrito ▁xxmaj ▁do ▁educação ▁xxmaj ▁de ▁estado ▁xxmaj ▁de ▁secretaria ▁xxmaj ▁da , ▁tecnologia ▁xxmaj ▁e ▁modernização ▁xxmaj ▁de ▁subsecretaria ▁xxmaj ▁da , ▁informática ▁xxmaj ▁de ▁coordenação ▁xxmaj ▁da , ▁sistemas ▁xxmaj ▁de ▁desenvolvimento ▁xxmaj ▁de ▁diretoria ▁xxmaj ▁da , ▁diretor ▁xxmaj ▁de -07, ▁cne ▁xxup ▁símbolo ▁xxmaj , ▁especial ▁xxmaj ▁natureza ▁xxmaj ▁de ▁cargo ▁xxmaj ▁o ▁exercer ▁para ▁mello ▁xxup ▁silveira</td>\n",
       "      <td>PODER EXECUTIVO</td>\n",
       "    </tr>\n",
       "    <tr>\n",
       "      <td>▁ger ▁xxmaj ▁da , ▁gerente ▁xxmaj ▁de -14, ▁dfg ▁xxup ▁símbolo ▁xxmaj , ▁comissão ▁xxmaj ▁em ▁cargo ▁xxmaj ▁o ▁exercer ▁para ▁araujo ▁xxup ▁de ▁xxup ▁conceição ▁xxup ▁da ▁xxup mar ▁ed ▁xxup ▁nomear ▁xxup . ▁federal ▁xxmaj ▁distrito ▁xxmaj ▁do ▁abastecimento ▁xxmaj ▁e ▁indústria ▁xxmaj ▁de ▁complementar ▁xxmaj ▁setor ▁xxmaj ▁do ▁regional ▁xxmaj ▁administração ▁xxmaj ▁da , ▁manutenção ▁xxmaj ▁e ▁obras ▁xxmaj , ▁licenciamento ▁xxmaj ▁de ▁coordenação ▁xxmaj ▁da ,</td>\n",
       "      <td>PODER EXECUTIVO</td>\n",
       "    </tr>\n",
       "  </tbody>\n",
       "</table>"
      ],
      "text/plain": [
       "<IPython.core.display.HTML object>"
      ]
     },
     "metadata": {},
     "output_type": "display_data"
    }
   ],
   "source": [
    "data_clas.show_batch()"
   ]
  },
  {
   "cell_type": "code",
   "execution_count": 154,
   "metadata": {},
   "outputs": [],
   "source": [
    "config = awd_lstm_clas_config.copy()\n",
    "config['qrnn'] = True\n",
    "config['n_hid'] = 1550 #default 1152\n",
    "config['n_layers'] = 4 #default 3"
   ]
  },
  {
   "cell_type": "code",
   "execution_count": 173,
   "metadata": {},
   "outputs": [],
   "source": [
    "learn_c = text_classifier_learner(data_clas, AWD_LSTM, config=config, pretrained=False, drop_mult=0.5, \n",
    "                                  metrics=[accuracy,f1])\n",
    "learn_c.load_encoder(\"fine_tune_enc_bwd\");"
   ]
  },
  {
   "cell_type": "code",
   "execution_count": 170,
   "metadata": {},
   "outputs": [],
   "source": [
    "learn_c.freeze()\n",
    "learn_c.lr_find()"
   ]
  },
  {
   "cell_type": "code",
   "execution_count": 157,
   "metadata": {
    "scrolled": true
   },
   "outputs": [
    {
     "data": {
      "image/png": "[encoded data removed]",
      "text/plain": [
       "<Figure size 432x288 with 1 Axes>"
      ]
     },
     "metadata": {
      "needs_background": "light"
     },
     "output_type": "display_data"
    }
   ],
   "source": [
    "learn_c.recorder.plot()"
   ]
  },
  {
   "cell_type": "code",
   "execution_count": 171,
   "metadata": {},
   "outputs": [],
   "source": [
    "lr=3e-2"
   ]
  },
  {
   "cell_type": "code",
   "execution_count": 174,
   "metadata": {},
   "outputs": [
    {
     "data": {
      "text/html": [
       "<table border=\"1\" class=\"dataframe\">\n",
       "  <thead>\n",
       "    <tr style=\"text-align: left;\">\n",
       "      <th>epoch</th>\n",
       "      <th>train_loss</th>\n",
       "      <th>valid_loss</th>\n",
       "      <th>accuracy</th>\n",
       "      <th>f_beta</th>\n",
       "      <th>time</th>\n",
       "    </tr>\n",
       "  </thead>\n",
       "  <tbody>\n",
       "    <tr>\n",
       "      <td>0</td>\n",
       "      <td>2.654674</td>\n",
       "      <td>2.240384</td>\n",
       "      <td>0.489583</td>\n",
       "      <td>0.426270</td>\n",
       "      <td>00:09</td>\n",
       "    </tr>\n",
       "    <tr>\n",
       "      <td>1</td>\n",
       "      <td>2.178673</td>\n",
       "      <td>1.637609</td>\n",
       "      <td>0.500000</td>\n",
       "      <td>0.446262</td>\n",
       "      <td>00:09</td>\n",
       "    </tr>\n",
       "    <tr>\n",
       "      <td>2</td>\n",
       "      <td>2.023208</td>\n",
       "      <td>2.123257</td>\n",
       "      <td>0.406250</td>\n",
       "      <td>0.325539</td>\n",
       "      <td>00:09</td>\n",
       "    </tr>\n",
       "    <tr>\n",
       "      <td>3</td>\n",
       "      <td>2.036914</td>\n",
       "      <td>1.935760</td>\n",
       "      <td>0.395833</td>\n",
       "      <td>0.306850</td>\n",
       "      <td>00:09</td>\n",
       "    </tr>\n",
       "    <tr>\n",
       "      <td>4</td>\n",
       "      <td>1.980758</td>\n",
       "      <td>1.710790</td>\n",
       "      <td>0.447917</td>\n",
       "      <td>0.376135</td>\n",
       "      <td>00:09</td>\n",
       "    </tr>\n",
       "    <tr>\n",
       "      <td>5</td>\n",
       "      <td>1.862272</td>\n",
       "      <td>1.760820</td>\n",
       "      <td>0.479167</td>\n",
       "      <td>0.408335</td>\n",
       "      <td>00:09</td>\n",
       "    </tr>\n",
       "    <tr>\n",
       "      <td>6</td>\n",
       "      <td>1.707838</td>\n",
       "      <td>1.511752</td>\n",
       "      <td>0.583333</td>\n",
       "      <td>0.556964</td>\n",
       "      <td>00:09</td>\n",
       "    </tr>\n",
       "    <tr>\n",
       "      <td>7</td>\n",
       "      <td>1.547507</td>\n",
       "      <td>1.417861</td>\n",
       "      <td>0.562500</td>\n",
       "      <td>0.529153</td>\n",
       "      <td>00:09</td>\n",
       "    </tr>\n",
       "    <tr>\n",
       "      <td>8</td>\n",
       "      <td>1.284207</td>\n",
       "      <td>1.238267</td>\n",
       "      <td>0.677083</td>\n",
       "      <td>0.643503</td>\n",
       "      <td>00:09</td>\n",
       "    </tr>\n",
       "    <tr>\n",
       "      <td>9</td>\n",
       "      <td>1.089987</td>\n",
       "      <td>1.200093</td>\n",
       "      <td>0.708333</td>\n",
       "      <td>0.684803</td>\n",
       "      <td>00:09</td>\n",
       "    </tr>\n",
       "  </tbody>\n",
       "</table>"
      ],
      "text/plain": [
       "<IPython.core.display.HTML object>"
      ]
     },
     "metadata": {},
     "output_type": "display_data"
    }
   ],
   "source": [
    "learn_c.fit_one_cycle(10, lr, wd=0.6, moms=(0.8,0.7))"
   ]
  },
  {
   "cell_type": "code",
   "execution_count": 175,
   "metadata": {},
   "outputs": [],
   "source": [
    "learn_c.save(\"clf_bwd\")"
   ]
  },
  {
   "cell_type": "code",
   "execution_count": 176,
   "metadata": {},
   "outputs": [
    {
     "data": {
      "text/html": [
       "<table border=\"1\" class=\"dataframe\">\n",
       "  <thead>\n",
       "    <tr style=\"text-align: left;\">\n",
       "      <th>epoch</th>\n",
       "      <th>train_loss</th>\n",
       "      <th>valid_loss</th>\n",
       "      <th>accuracy</th>\n",
       "      <th>f_beta</th>\n",
       "      <th>time</th>\n",
       "    </tr>\n",
       "  </thead>\n",
       "  <tbody>\n",
       "    <tr>\n",
       "      <td>0</td>\n",
       "      <td>1.018053</td>\n",
       "      <td>1.226744</td>\n",
       "      <td>0.666667</td>\n",
       "      <td>0.632794</td>\n",
       "      <td>00:09</td>\n",
       "    </tr>\n",
       "    <tr>\n",
       "      <td>1</td>\n",
       "      <td>1.263559</td>\n",
       "      <td>1.742160</td>\n",
       "      <td>0.489583</td>\n",
       "      <td>0.468020</td>\n",
       "      <td>00:09</td>\n",
       "    </tr>\n",
       "    <tr>\n",
       "      <td>2</td>\n",
       "      <td>1.558349</td>\n",
       "      <td>1.999299</td>\n",
       "      <td>0.406250</td>\n",
       "      <td>0.327988</td>\n",
       "      <td>00:09</td>\n",
       "    </tr>\n",
       "    <tr>\n",
       "      <td>3</td>\n",
       "      <td>1.640244</td>\n",
       "      <td>1.524066</td>\n",
       "      <td>0.500000</td>\n",
       "      <td>0.460251</td>\n",
       "      <td>00:09</td>\n",
       "    </tr>\n",
       "    <tr>\n",
       "      <td>4</td>\n",
       "      <td>1.574572</td>\n",
       "      <td>1.632228</td>\n",
       "      <td>0.500000</td>\n",
       "      <td>0.448191</td>\n",
       "      <td>00:09</td>\n",
       "    </tr>\n",
       "    <tr>\n",
       "      <td>5</td>\n",
       "      <td>1.418227</td>\n",
       "      <td>1.556764</td>\n",
       "      <td>0.531250</td>\n",
       "      <td>0.520354</td>\n",
       "      <td>00:09</td>\n",
       "    </tr>\n",
       "    <tr>\n",
       "      <td>6</td>\n",
       "      <td>1.294398</td>\n",
       "      <td>0.995769</td>\n",
       "      <td>0.739583</td>\n",
       "      <td>0.708979</td>\n",
       "      <td>00:09</td>\n",
       "    </tr>\n",
       "    <tr>\n",
       "      <td>7</td>\n",
       "      <td>0.958220</td>\n",
       "      <td>0.814558</td>\n",
       "      <td>0.812500</td>\n",
       "      <td>0.775405</td>\n",
       "      <td>00:09</td>\n",
       "    </tr>\n",
       "    <tr>\n",
       "      <td>8</td>\n",
       "      <td>0.686886</td>\n",
       "      <td>0.685082</td>\n",
       "      <td>0.843750</td>\n",
       "      <td>0.818001</td>\n",
       "      <td>00:09</td>\n",
       "    </tr>\n",
       "    <tr>\n",
       "      <td>9</td>\n",
       "      <td>0.510896</td>\n",
       "      <td>0.664853</td>\n",
       "      <td>0.843750</td>\n",
       "      <td>0.815045</td>\n",
       "      <td>00:09</td>\n",
       "    </tr>\n",
       "  </tbody>\n",
       "</table>"
      ],
      "text/plain": [
       "<IPython.core.display.HTML object>"
      ]
     },
     "metadata": {},
     "output_type": "display_data"
    }
   ],
   "source": [
    "learn_c.freeze_to(-2)\n",
    "learn_c.fit_one_cycle(10, slice(lr/(2.6**4),lr), wd=0.6, moms=(0.8,0.7))"
   ]
  },
  {
   "cell_type": "code",
   "execution_count": 177,
   "metadata": {},
   "outputs": [],
   "source": [
    "learn_c.save(\"clf_bwd\")"
   ]
  },
  {
   "cell_type": "code",
   "execution_count": 178,
   "metadata": {},
   "outputs": [
    {
     "data": {
      "text/html": [
       "<table border=\"1\" class=\"dataframe\">\n",
       "  <thead>\n",
       "    <tr style=\"text-align: left;\">\n",
       "      <th>epoch</th>\n",
       "      <th>train_loss</th>\n",
       "      <th>valid_loss</th>\n",
       "      <th>accuracy</th>\n",
       "      <th>f_beta</th>\n",
       "      <th>time</th>\n",
       "    </tr>\n",
       "  </thead>\n",
       "  <tbody>\n",
       "    <tr>\n",
       "      <td>0</td>\n",
       "      <td>0.422177</td>\n",
       "      <td>0.641152</td>\n",
       "      <td>0.843750</td>\n",
       "      <td>0.816505</td>\n",
       "      <td>00:11</td>\n",
       "    </tr>\n",
       "    <tr>\n",
       "      <td>1</td>\n",
       "      <td>0.538343</td>\n",
       "      <td>0.960743</td>\n",
       "      <td>0.718750</td>\n",
       "      <td>0.674124</td>\n",
       "      <td>00:11</td>\n",
       "    </tr>\n",
       "    <tr>\n",
       "      <td>2</td>\n",
       "      <td>0.823561</td>\n",
       "      <td>1.693926</td>\n",
       "      <td>0.562500</td>\n",
       "      <td>0.494983</td>\n",
       "      <td>00:11</td>\n",
       "    </tr>\n",
       "    <tr>\n",
       "      <td>3</td>\n",
       "      <td>0.921766</td>\n",
       "      <td>1.057121</td>\n",
       "      <td>0.697917</td>\n",
       "      <td>0.661027</td>\n",
       "      <td>00:11</td>\n",
       "    </tr>\n",
       "    <tr>\n",
       "      <td>4</td>\n",
       "      <td>0.814194</td>\n",
       "      <td>0.914879</td>\n",
       "      <td>0.729167</td>\n",
       "      <td>0.721198</td>\n",
       "      <td>00:11</td>\n",
       "    </tr>\n",
       "    <tr>\n",
       "      <td>5</td>\n",
       "      <td>0.670809</td>\n",
       "      <td>0.676098</td>\n",
       "      <td>0.833333</td>\n",
       "      <td>0.818619</td>\n",
       "      <td>00:11</td>\n",
       "    </tr>\n",
       "    <tr>\n",
       "      <td>6</td>\n",
       "      <td>0.533732</td>\n",
       "      <td>0.631610</td>\n",
       "      <td>0.854167</td>\n",
       "      <td>0.823021</td>\n",
       "      <td>00:11</td>\n",
       "    </tr>\n",
       "    <tr>\n",
       "      <td>7</td>\n",
       "      <td>0.407005</td>\n",
       "      <td>0.594171</td>\n",
       "      <td>0.854167</td>\n",
       "      <td>0.824327</td>\n",
       "      <td>00:11</td>\n",
       "    </tr>\n",
       "    <tr>\n",
       "      <td>8</td>\n",
       "      <td>0.297274</td>\n",
       "      <td>0.498939</td>\n",
       "      <td>0.895833</td>\n",
       "      <td>0.878914</td>\n",
       "      <td>00:11</td>\n",
       "    </tr>\n",
       "    <tr>\n",
       "      <td>9</td>\n",
       "      <td>0.233165</td>\n",
       "      <td>0.498775</td>\n",
       "      <td>0.885417</td>\n",
       "      <td>0.867373</td>\n",
       "      <td>00:11</td>\n",
       "    </tr>\n",
       "  </tbody>\n",
       "</table>"
      ],
      "text/plain": [
       "<IPython.core.display.HTML object>"
      ]
     },
     "metadata": {},
     "output_type": "display_data"
    }
   ],
   "source": [
    "learn_c.freeze_to(-3)\n",
    "learn_c.fit_one_cycle(10, slice(lr/2/(2.6**4),lr/2), wd=0.6, moms=(0.8,0.7))"
   ]
  },
  {
   "cell_type": "code",
   "execution_count": 179,
   "metadata": {},
   "outputs": [],
   "source": [
    "learn_c.save(\"clf_bwd\")"
   ]
  },
  {
   "cell_type": "code",
   "execution_count": 180,
   "metadata": {},
   "outputs": [
    {
     "data": {
      "text/html": [
       "<table border=\"1\" class=\"dataframe\">\n",
       "  <thead>\n",
       "    <tr style=\"text-align: left;\">\n",
       "      <th>epoch</th>\n",
       "      <th>train_loss</th>\n",
       "      <th>valid_loss</th>\n",
       "      <th>accuracy</th>\n",
       "      <th>f_beta</th>\n",
       "      <th>time</th>\n",
       "    </tr>\n",
       "  </thead>\n",
       "  <tbody>\n",
       "    <tr>\n",
       "      <td>0</td>\n",
       "      <td>0.180650</td>\n",
       "      <td>0.483626</td>\n",
       "      <td>0.885417</td>\n",
       "      <td>0.867900</td>\n",
       "      <td>00:16</td>\n",
       "    </tr>\n",
       "    <tr>\n",
       "      <td>1</td>\n",
       "      <td>0.180352</td>\n",
       "      <td>0.448628</td>\n",
       "      <td>0.906250</td>\n",
       "      <td>0.889935</td>\n",
       "      <td>00:16</td>\n",
       "    </tr>\n",
       "    <tr>\n",
       "      <td>2</td>\n",
       "      <td>0.167000</td>\n",
       "      <td>0.484669</td>\n",
       "      <td>0.864583</td>\n",
       "      <td>0.846474</td>\n",
       "      <td>00:16</td>\n",
       "    </tr>\n",
       "    <tr>\n",
       "      <td>3</td>\n",
       "      <td>0.161652</td>\n",
       "      <td>0.465851</td>\n",
       "      <td>0.885417</td>\n",
       "      <td>0.864269</td>\n",
       "      <td>00:16</td>\n",
       "    </tr>\n",
       "    <tr>\n",
       "      <td>4</td>\n",
       "      <td>0.165604</td>\n",
       "      <td>0.473360</td>\n",
       "      <td>0.885417</td>\n",
       "      <td>0.868195</td>\n",
       "      <td>00:16</td>\n",
       "    </tr>\n",
       "    <tr>\n",
       "      <td>5</td>\n",
       "      <td>0.131241</td>\n",
       "      <td>0.446940</td>\n",
       "      <td>0.875000</td>\n",
       "      <td>0.857679</td>\n",
       "      <td>00:16</td>\n",
       "    </tr>\n",
       "    <tr>\n",
       "      <td>6</td>\n",
       "      <td>0.115796</td>\n",
       "      <td>0.421299</td>\n",
       "      <td>0.885417</td>\n",
       "      <td>0.867436</td>\n",
       "      <td>00:16</td>\n",
       "    </tr>\n",
       "    <tr>\n",
       "      <td>7</td>\n",
       "      <td>0.095009</td>\n",
       "      <td>0.401436</td>\n",
       "      <td>0.895833</td>\n",
       "      <td>0.878651</td>\n",
       "      <td>00:16</td>\n",
       "    </tr>\n",
       "    <tr>\n",
       "      <td>8</td>\n",
       "      <td>0.081139</td>\n",
       "      <td>0.403335</td>\n",
       "      <td>0.885417</td>\n",
       "      <td>0.867867</td>\n",
       "      <td>00:16</td>\n",
       "    </tr>\n",
       "    <tr>\n",
       "      <td>9</td>\n",
       "      <td>0.076374</td>\n",
       "      <td>0.397023</td>\n",
       "      <td>0.885417</td>\n",
       "      <td>0.867867</td>\n",
       "      <td>00:16</td>\n",
       "    </tr>\n",
       "  </tbody>\n",
       "</table>"
      ],
      "text/plain": [
       "<IPython.core.display.HTML object>"
      ]
     },
     "metadata": {},
     "output_type": "display_data"
    }
   ],
   "source": [
    "learn_c.unfreeze()\n",
    "learn_c.fit_one_cycle(10, slice(lr/10/(2.6**4),lr/10), wd=0.6, moms=(0.8,0.7))"
   ]
  },
  {
   "cell_type": "code",
   "execution_count": 182,
   "metadata": {},
   "outputs": [],
   "source": [
    "learn_c.save(\"clf_bwd\")"
   ]
  },
  {
   "cell_type": "markdown",
   "metadata": {},
   "source": [
    "## Evaluate bwd clf"
   ]
  },
  {
   "cell_type": "code",
   "execution_count": 183,
   "metadata": {},
   "outputs": [],
   "source": [
    "data_clas = load_data(path/\"data\", \"data_clas_bwd.pkl\", backwards=True)"
   ]
  },
  {
   "cell_type": "code",
   "execution_count": 184,
   "metadata": {},
   "outputs": [],
   "source": [
    "data_test = (TextList.from_df(df_test, path, cols='text',\n",
    "                              processor=SPProcessor.load(path))\n",
    "                         .split_none()\n",
    "                         .label_from_df(cols=0)\n",
    "                         .databunch(bs=bs, backwards=True))"
   ]
  },
  {
   "cell_type": "code",
   "execution_count": 185,
   "metadata": {},
   "outputs": [
    {
     "data": {
      "text/html": [
       "<table border=\"1\" class=\"dataframe\">\n",
       "  <thead>\n",
       "    <tr style=\"text-align: right;\">\n",
       "      <th>text</th>\n",
       "      <th>target</th>\n",
       "    </tr>\n",
       "  </thead>\n",
       "  <tbody>\n",
       "    <tr>\n",
       "      <td>▁c ▁costa ▁xxup lio ▁aure ▁xxup ▁marco ▁xxup ; x - 53 28 ▁015 ▁xxup ▁- ; ▁enfermagem ▁xxup ▁de ▁xxup ▁auxiliar ▁xxup ▁- 02 - 10 80 ▁ &lt;unk&gt; ▁ ▁2019 ▁/ ▁01 ▁/ ▁12 ; ▁iv ▁xxup ▁segunda ▁xxup ; ▁iii ▁xxup ▁segunda ▁xxup ; ▁silva ▁xxup ▁da ▁xxup ▁cunha ▁xxup a ▁renat ▁xxup 9-7; 00 75 ▁01 ▁- ▁2019; ▁/ ▁01 ▁/ ▁12 ; ▁iv ▁xxup ▁segunda</td>\n",
       "      <td>SECRETARIA DE ESTADO DE SAÚDE</td>\n",
       "    </tr>\n",
       "    <tr>\n",
       "      <td>er ▁ex ▁para 8, 085 74 ▁16 gdf ▁ ▁xxup ▁matrícula , do e ▁figuer ▁xxup ▁de ▁xxup no ja tra ▁ ▁xxup ▁joão ▁xxup ▁nomear ▁xxup . ▁federal ▁xxmaj ▁distrito ▁xxmaj ▁do ▁militar ▁xxmaj ▁casa ▁xxmaj ▁da , ▁serviços ▁xxmaj ▁de ▁gestão ▁xxmaj ▁de a fi e h c ▁sub ▁xxmaj ▁da , ▁buriti ▁xxmaj ▁do ácio ▁pal ▁xxmaj ▁do ▁manutenção ▁xxmaj ▁e imento r sup ▁ ▁xxmaj ▁de</td>\n",
       "      <td>PODER EXECUTIVO</td>\n",
       "    </tr>\n",
       "    <tr>\n",
       "      <td>í ▁matr , ▁moura ▁xxup ▁de ▁xxup ▁fernandes ▁xxup las ug ▁do ▁xxup ▁polícia ▁xxmaj ▁de legado ▁de ▁xxmaj ▁o ▁nomear ▁xxup . ▁federal ▁xxmaj ▁distrito ▁xxmaj ▁do ▁civil ▁xxmaj ▁polícia ▁xxmaj ▁da , cional cri ▁circuns ▁xxmaj ▁polícia ▁xxmaj ▁de ▁departamento ▁xxmaj ▁do , ▁polícia ▁xxmaj ▁de cia ▁delega ▁xxmaj a ▁4 ▁da ▁chefe ▁xxmaj legado ▁de ▁xxmaj ▁de 17, - ▁dfg ▁xxup ▁símbolo ▁xxmaj , ▁comissão ▁xxmaj ▁em</td>\n",
       "      <td>PODER EXECUTIVO</td>\n",
       "    </tr>\n",
       "    <tr>\n",
       "      <td>▁empregador ▁xxmaj ▁e r ▁trabalhado ▁xxmaj ▁ao ▁atendimento ▁xxmaj ▁de ▁subsecretaria ▁xxmaj ▁da , ▁empregador ▁xxmaj ▁o ▁e r ▁trabalhado ▁xxmaj ▁o ▁para ▁ações ▁xxmaj ▁de ▁coordenação ▁xxmaj ▁da , r ▁trabalhado ▁xxmaj ▁o ▁para ▁ações ▁xxmaj ▁de ▁diretoria ▁xxmaj ▁da , ▁maria ▁xxmaj ▁santa ▁xxmaj ▁de r ▁trabalhado ▁xxmaj ▁ao ▁atendimento ▁xxmaj ▁de ▁agência ▁xxmaj ▁da , ▁assessor ▁xxmaj ▁de -12, a ▁df ▁xxup ▁símbolo ▁xxmaj , ▁comissão ▁xxmaj</td>\n",
       "      <td>PODER EXECUTIVO</td>\n",
       "    </tr>\n",
       "    <tr>\n",
       "      <td>▁de -12, ▁dfg ▁xxup ▁símbolo ▁xxmaj , ▁comissão ▁xxmaj ▁em ▁cargo ▁xxmaj ▁o ▁exercer ▁para -0, .556 ▁175 ▁matrícula , gi bia ▁ ▁xxup ▁maciel ▁xxup ▁costa ▁xxup ▁regina ▁xxup a e h d y l ▁ ▁xxup ▁nomear ▁xxup . ▁federal ▁xxmaj ▁distrito ▁xxmaj ▁do l na go o ct ▁o ▁xxmaj ▁/ ▁sudoeste ▁xxmaj ▁do ▁regional ▁xxmaj ▁administração ▁xxmaj ▁da , ▁gabinete ▁xxmaj ▁do , ▁planejamento ▁xxmaj ▁de</td>\n",
       "      <td>PODER EXECUTIVO</td>\n",
       "    </tr>\n",
       "  </tbody>\n",
       "</table>"
      ],
      "text/plain": [
       "<IPython.core.display.HTML object>"
      ]
     },
     "metadata": {},
     "output_type": "display_data"
    }
   ],
   "source": [
    "data_test.show_batch()"
   ]
  },
  {
   "cell_type": "code",
   "execution_count": 186,
   "metadata": {},
   "outputs": [
    {
     "data": {
      "text/plain": [
       "(19, 19)"
      ]
     },
     "execution_count": 186,
     "metadata": {},
     "output_type": "execute_result"
    }
   ],
   "source": [
    "data_test.c, data_clas.c"
   ]
  },
  {
   "cell_type": "code",
   "execution_count": 187,
   "metadata": {},
   "outputs": [
    {
     "data": {
      "text/plain": [
       "(8552, 8552)"
      ]
     },
     "execution_count": 187,
     "metadata": {},
     "output_type": "execute_result"
    }
   ],
   "source": [
    "len(data_test.vocab.itos), len(data_clas.vocab.itos)"
   ]
  },
  {
   "cell_type": "code",
   "execution_count": 188,
   "metadata": {},
   "outputs": [],
   "source": [
    "data_test.save(path/\"data/test_data_bwd.pkl\")"
   ]
  },
  {
   "cell_type": "code",
   "execution_count": 189,
   "metadata": {},
   "outputs": [],
   "source": [
    "learn_c.load(path/\"clf_bwd\");"
   ]
  },
  {
   "cell_type": "code",
   "execution_count": 190,
   "metadata": {},
   "outputs": [],
   "source": [
    "learn_c.data.valid_dl = data_test.fix_dl"
   ]
  },
  {
   "cell_type": "code",
   "execution_count": 191,
   "metadata": {},
   "outputs": [
    {
     "name": "stderr",
     "output_type": "stream",
     "text": [
      "/opt/anaconda3/lib/python3.7/site-packages/fastai/train.py:200: UserWarning: Tight layout not applied. The left and right margins cannot be made large enough to accommodate all axes decorations. \n",
      "  plt.tight_layout()\n"
     ]
    },
    {
     "data": {
      "image/png": "[encoded data removed]",
      "text/plain": [
       "<Figure size 432x288 with 1 Axes>"
      ]
     },
     "metadata": {
      "needs_background": "light"
     },
     "output_type": "display_data"
    }
   ],
   "source": [
    "preds,y,losses = learn_c.get_preds(with_loss=True)\n",
    "predictions = np.argmax(preds, axis = 1)\n",
    "\n",
    "interp = ClassificationInterpretation(learn_c, preds, y, losses)\n",
    "interp.plot_confusion_matrix()"
   ]
  },
  {
   "cell_type": "code",
   "execution_count": 192,
   "metadata": {},
   "outputs": [
    {
     "data": {
      "text/plain": [
       "(tensor([14,  3,  3,  3,  3, 14, 14, 10, 10,  3, 15, 14, 14, 15, 15]),\n",
       " tensor([14,  3,  3,  3,  3, 10, 13, 10, 10,  3, 15, 14, 14, 15, 15]),\n",
       " torch.Size([237]),\n",
       " torch.Size([237]))"
      ]
     },
     "execution_count": 192,
     "metadata": {},
     "output_type": "execute_result"
    }
   ],
   "source": [
    "predictions[:15], y[:15], predictions.shape, y.shape"
   ]
  },
  {
   "cell_type": "code",
   "execution_count": 193,
   "metadata": {},
   "outputs": [
    {
     "name": "stdout",
     "output_type": "stream",
     "text": [
      "                                                                                   precision    recall  f1-score   support\n",
      "\n",
      "                                                                       CASA CIVIL     0.8333    0.8333    0.8333        18\n",
      "                                          CONTROLADORIA GERAL DO DISTRITO FEDERAL     0.0000    0.0000    0.0000         2\n",
      "                                           DEFENSORIA PÚBLICA DO DISTRITO FEDERAL     1.0000    1.0000    1.0000         8\n",
      "                                                                  PODER EXECUTIVO     0.8333    1.0000    0.9091        10\n",
      "                                                                PODER LEGISLATIVO     1.0000    1.0000    1.0000         1\n",
      "       SECRETARIA DE ESTADO DE AGRICULTURA, ABASTECIMENTO E DESENVOLVIMENTO RURAL     0.7500    0.7500    0.7500         4\n",
      "                                                  SECRETARIA DE ESTADO DE CULTURA     1.0000    0.8462    0.9167        13\n",
      "                                SECRETARIA DE ESTADO DE DESENVOLVIMENTO ECONÔMICO     0.5000    0.2500    0.3333         4\n",
      "                       SECRETARIA DE ESTADO DE DESENVOLVIMENTO URBANO E HABITAÇÃO     1.0000    0.5000    0.6667         4\n",
      "SECRETARIA DE ESTADO DE ECONOMIA, DESENVOLVIMENTO, INOVAÇÃO, CIÊNCIA E TECNOLOGIA     1.0000    1.0000    1.0000         1\n",
      "                                                 SECRETARIA DE ESTADO DE EDUCAÇÃO     0.6429    0.6923    0.6667        13\n",
      "                SECRETARIA DE ESTADO DE FAZENDA, PLANEJAMENTO, ORÇAMENTO E GESTÃO     0.9048    0.9048    0.9048        21\n",
      "                                      SECRETARIA DE ESTADO DE JUSTIÇA E CIDADANIA     1.0000    0.6000    0.7500         5\n",
      "                                   SECRETARIA DE ESTADO DE OBRAS E INFRAESTRUTURA     1.0000    0.7778    0.8750        18\n",
      "                                                    SECRETARIA DE ESTADO DE SAÚDE     0.8421    1.0000    0.9143        32\n",
      "                                        SECRETARIA DE ESTADO DE SEGURANÇA PÚBLICA     0.9259    1.0000    0.9615        50\n",
      "                                  SECRETARIA DE ESTADO DE TRANSPORTE E MOBILIDADE     0.9091    1.0000    0.9524        20\n",
      "                                            SECRETARIA DE ESTADO DO MEIO AMBIENTE     1.0000    0.5000    0.6667         2\n",
      "                                           TRIBUNAL DE CONTAS DO DISTRITO FEDERAL     1.0000    1.0000    1.0000        11\n",
      "\n",
      "                                                                        micro avg     0.8903    0.8903    0.8903       237\n",
      "                                                                        macro avg     0.8495    0.7713    0.7948       237\n",
      "                                                                     weighted avg     0.8866    0.8903    0.8814       237\n",
      "\n",
      "0.890295358649789\n"
     ]
    },
    {
     "name": "stderr",
     "output_type": "stream",
     "text": [
      "/opt/anaconda3/lib/python3.7/site-packages/sklearn/metrics/classification.py:1143: UndefinedMetricWarning: Precision and F-score are ill-defined and being set to 0.0 in labels with no predicted samples.\n",
      "  'precision', 'predicted', average, warn_for)\n"
     ]
    }
   ],
   "source": [
    "print(classification_report(y, predictions, target_names=learn_c.data.classes, digits=4))\n",
    "print(accuracy_score(y, predictions))"
   ]
  },
  {
   "cell_type": "code",
   "execution_count": 110,
   "metadata": {},
   "outputs": [
    {
     "data": {
      "text/html": [
       "<table border=\"1\" class=\"dataframe\">\n",
       "  <thead>\n",
       "    <tr style=\"text-align: right;\">\n",
       "      <th>text</th>\n",
       "      <th>target</th>\n",
       "      <th>prediction</th>\n",
       "    </tr>\n",
       "  </thead>\n",
       "  <tbody>\n",
       "    <tr>\n",
       "      <td>▁c ▁costa ▁xxup lio ▁aure ▁xxup ▁marco ▁xxup ; x - 53 28 ▁015 ▁xxup ▁- ; ▁enfermagem ▁xxup ▁de ▁xxup ▁auxiliar ▁xxup ▁- 02 - 10 80 ▁ &lt;unk&gt; ▁ ▁2019 ▁/ ▁01 ▁/ ▁12 ; ▁iv ▁xxup ▁segunda ▁xxup ; ▁iii ▁xxup ▁segunda ▁xxup ; ▁silva ▁xxup ▁da ▁xxup ▁cunha ▁xxup a ▁renat ▁xxup 9-7; 00 75 ▁01 ▁- ▁2019; ▁/ ▁01 ▁/ ▁12 ; ▁iv ▁xxup ▁segunda</td>\n",
       "      <td>SECRETARIA DE ESTADO DE SAÚDE</td>\n",
       "      <td>SECRETARIA DE ESTADO DE SAÚDE</td>\n",
       "    </tr>\n",
       "    <tr>\n",
       "      <td>er ▁ex ▁para 8, 085 74 ▁16 gdf ▁ ▁xxup ▁matrícula , do e ▁figuer ▁xxup ▁de ▁xxup no ja tra ▁ ▁xxup ▁joão ▁xxup ▁nomear ▁xxup . ▁federal ▁xxmaj ▁distrito ▁xxmaj ▁do ▁militar ▁xxmaj ▁casa ▁xxmaj ▁da , ▁serviços ▁xxmaj ▁de ▁gestão ▁xxmaj ▁de a fi e h c ▁sub ▁xxmaj ▁da , ▁buriti ▁xxmaj ▁do ácio ▁pal ▁xxmaj ▁do ▁manutenção ▁xxmaj ▁e imento r sup ▁ ▁xxmaj ▁de</td>\n",
       "      <td>PODER EXECUTIVO</td>\n",
       "      <td>PODER EXECUTIVO</td>\n",
       "    </tr>\n",
       "    <tr>\n",
       "      <td>í ▁matr , ▁moura ▁xxup ▁de ▁xxup ▁fernandes ▁xxup las ug ▁do ▁xxup ▁polícia ▁xxmaj ▁de legado ▁de ▁xxmaj ▁o ▁nomear ▁xxup . ▁federal ▁xxmaj ▁distrito ▁xxmaj ▁do ▁civil ▁xxmaj ▁polícia ▁xxmaj ▁da , cional cri ▁circuns ▁xxmaj ▁polícia ▁xxmaj ▁de ▁departamento ▁xxmaj ▁do , ▁polícia ▁xxmaj ▁de cia ▁delega ▁xxmaj a ▁4 ▁da ▁chefe ▁xxmaj legado ▁de ▁xxmaj ▁de 17, - ▁dfg ▁xxup ▁símbolo ▁xxmaj , ▁comissão ▁xxmaj ▁em</td>\n",
       "      <td>PODER EXECUTIVO</td>\n",
       "      <td>PODER EXECUTIVO</td>\n",
       "    </tr>\n",
       "    <tr>\n",
       "      <td>▁empregador ▁xxmaj ▁e r ▁trabalhado ▁xxmaj ▁ao ▁atendimento ▁xxmaj ▁de ▁subsecretaria ▁xxmaj ▁da , ▁empregador ▁xxmaj ▁o ▁e r ▁trabalhado ▁xxmaj ▁o ▁para ▁ações ▁xxmaj ▁de ▁coordenação ▁xxmaj ▁da , r ▁trabalhado ▁xxmaj ▁o ▁para ▁ações ▁xxmaj ▁de ▁diretoria ▁xxmaj ▁da , ▁maria ▁xxmaj ▁santa ▁xxmaj ▁de r ▁trabalhado ▁xxmaj ▁ao ▁atendimento ▁xxmaj ▁de ▁agência ▁xxmaj ▁da , ▁assessor ▁xxmaj ▁de -12, a ▁df ▁xxup ▁símbolo ▁xxmaj , ▁comissão ▁xxmaj</td>\n",
       "      <td>PODER EXECUTIVO</td>\n",
       "      <td>PODER EXECUTIVO</td>\n",
       "    </tr>\n",
       "    <tr>\n",
       "      <td>▁de -12, ▁dfg ▁xxup ▁símbolo ▁xxmaj , ▁comissão ▁xxmaj ▁em ▁cargo ▁xxmaj ▁o ▁exercer ▁para -0, .556 ▁175 ▁matrícula , gi bia ▁ ▁xxup ▁maciel ▁xxup ▁costa ▁xxup ▁regina ▁xxup a e h d y l ▁ ▁xxup ▁nomear ▁xxup . ▁federal ▁xxmaj ▁distrito ▁xxmaj ▁do l na go o ct ▁o ▁xxmaj ▁/ ▁sudoeste ▁xxmaj ▁do ▁regional ▁xxmaj ▁administração ▁xxmaj ▁da , ▁gabinete ▁xxmaj ▁do , ▁planejamento ▁xxmaj ▁de</td>\n",
       "      <td>PODER EXECUTIVO</td>\n",
       "      <td>PODER EXECUTIVO</td>\n",
       "    </tr>\n",
       "  </tbody>\n",
       "</table>"
      ],
      "text/plain": [
       "<IPython.core.display.HTML object>"
      ]
     },
     "metadata": {},
     "output_type": "display_data"
    }
   ],
   "source": [
    "learn_c.show_results()"
   ]
  },
  {
   "cell_type": "code",
   "execution_count": 111,
   "metadata": {},
   "outputs": [],
   "source": [
    "txt_ci = TextClassificationInterpretation.from_learner(learn_c)"
   ]
  },
  {
   "cell_type": "code",
   "execution_count": 112,
   "metadata": {},
   "outputs": [
    {
     "data": {
      "text/html": [
       "<table border=\"1\" class=\"dataframe\">\n",
       "  <thead>\n",
       "    <tr style=\"text-align: right;\">\n",
       "      <th>Text</th>\n",
       "      <th>Prediction</th>\n",
       "      <th>Actual</th>\n",
       "      <th>Loss</th>\n",
       "      <th>Probability</th>\n",
       "    </tr>\n",
       "  </thead>\n",
       "  <tbody>\n",
       "    <tr>\n",
       "      <td>▁xxbos ▁o ▁xxup ▁brb ▁- ▁xxup ▁banco ▁xxup ▁de ▁xxup ▁brasília ▁xxup ▁ s . a . ▁torna ▁público ▁que ▁a ▁xxmaj ▁comissão ▁xxmaj ▁administrativa ▁da ▁xxup ▁dipe s ▁ratifico u ▁o ▁ato ▁de ▁dispensa ▁de ▁licitação , ▁em ▁15.0 1. 19 , ▁nos ▁termos ▁do ▁artigo ▁6° ▁do ▁xxmaj ▁regulamento ▁de ▁xxmaj ▁licitações ▁e ▁xxmaj ▁contratos ▁xxup ▁( r lc - brb ), ▁para ▁a li enação ▁de ▁imóveis</td>\n",
       "      <td>SECRETARIA DE ESTADO DE SAÚDE</td>\n",
       "      <td>SECRETARIA DE ESTADO DE FAZENDA, PLANEJAMENTO, ORÇAMENTO E GESTÃO</td>\n",
       "      <td>7.93</td>\n",
       "      <td>0.01</td>\n",
       "    </tr>\n",
       "    <tr>\n",
       "      <td>▁xxbos ▁xxmaj ▁contratante : ▁xxup ▁brb ▁- ▁xxup ▁banco ▁xxup ▁de ▁xxup ▁brasília ▁xxup ▁ s . a . ▁xxmaj ▁contratada : ▁xxup ▁ lo rinald o ▁xxup ▁batista ▁xxup ▁de ▁xxup ▁carvalho . ▁xxmaj ▁contrato ▁xxup ▁brb ▁- ▁2018 ▁/ ▁ 262 . ▁xxmaj ▁modalidade : ▁xxmaj ▁credenciamento ▁xxup ▁brb ▁no ▁001 ▁/ ▁2018. ▁xxmaj ▁objeto : ▁xxmaj ▁prestação ▁de ▁serviços ▁de ▁intermediação ▁de ▁venda ▁de ▁imóveis ▁não ▁de</td>\n",
       "      <td>SECRETARIA DE ESTADO DE SAÚDE</td>\n",
       "      <td>SECRETARIA DE ESTADO DE FAZENDA, PLANEJAMENTO, ORÇAMENTO E GESTÃO</td>\n",
       "      <td>6.43</td>\n",
       "      <td>0.00</td>\n",
       "    </tr>\n",
       "    <tr>\n",
       "      <td>▁xxbos ▁o ▁xxup ▁subsecretário ▁xxup ▁de ▁xxup ▁administração ▁xxup ▁geral , ▁xxup ▁da ▁xxup ▁secretaria ▁xxup ▁de ▁xxup ▁estado ▁xxup ▁de ▁xxup ▁justiça ▁e ▁xxup ▁cidadania ▁xxup ▁do ▁xxup ▁distrito ▁xxup ▁federal , ▁no ▁uso ▁das ▁atribuições ▁da ▁delega ção ▁de ▁competência ▁que ▁trata ▁o ▁artigo ▁2 o , ▁inciso ▁xxup ▁i , ▁alínea ▁\" j \" ▁da ▁xxmaj ▁portaria ▁n ° ▁65, ▁de ▁13 ▁de ▁maio ▁de ▁2013, ▁publicada</td>\n",
       "      <td>PODER EXECUTIVO</td>\n",
       "      <td>SECRETARIA DE ESTADO DE JUSTIÇA E CIDADANIA</td>\n",
       "      <td>5.27</td>\n",
       "      <td>0.00</td>\n",
       "    </tr>\n",
       "    <tr>\n",
       "      <td>▁xxbos ▁o ▁xxup ▁diretor ▁xxup ▁do ▁xxup ▁departamento ▁xxup ▁de ▁xxup ▁gestão ▁xxup ▁de ▁xxup ▁pessoas , ▁xxup ▁da ▁xxup ▁polícia ▁xxup ▁civil ▁xxup ▁do ▁xxup ▁distrito ▁xxup ▁federal , ▁no ▁uso ▁de ▁suas ▁atribuições ▁legais ▁e ▁ tendo ▁em ▁vista ▁a ▁delega ção ▁de ▁competência ▁que ▁lhe ▁foi ▁conferida ▁pela ▁alínea ▁\" a \", ▁inciso ▁xxup ▁ii , ▁artigo ▁1 o , ▁da ▁xxmaj ▁portaria ▁no ▁25, ▁de ▁18</td>\n",
       "      <td>SECRETARIA DE ESTADO DE SEGURANÇA PÚBLICA</td>\n",
       "      <td>SECRETARIA DE ESTADO DE SEGURANÇA PÚBLICA</td>\n",
       "      <td>4.79</td>\n",
       "      <td>0.45</td>\n",
       "    </tr>\n",
       "    <tr>\n",
       "      <td>▁xxbos ▁xxup ▁processo ▁xxmaj ▁no ▁092.006 00 6 ▁/ ▁2018. ▁xxup ▁objeto : ▁xxmaj ▁aquisição ▁e ▁instalação ▁de ▁conjunto s ▁ moto r ▁bomba ▁para ▁a ▁eleva tória ▁de ▁água ▁ br u ta ▁do ▁sistema ▁xxmaj ▁santa ▁xxmaj ▁maria ▁/ ▁xxmaj ▁ to r to . ▁xxup ▁dotação ▁xxup ▁orçamentária : ▁xxup ▁uo : ▁22.202 ; ▁xxup ▁programa ▁xxup ▁de ▁xxup ▁trabalho : ▁17 . 51 2.6210. 70 06</td>\n",
       "      <td>SECRETARIA DE ESTADO DE TRANSPORTE E MOBILIDADE</td>\n",
       "      <td>SECRETARIA DE ESTADO DE OBRAS E INFRAESTRUTURA</td>\n",
       "      <td>4.59</td>\n",
       "      <td>0.03</td>\n",
       "    </tr>\n",
       "  </tbody>\n",
       "</table>"
      ],
      "text/plain": [
       "<IPython.core.display.HTML object>"
      ]
     },
     "metadata": {},
     "output_type": "display_data"
    }
   ],
   "source": [
    "txt_ci.show_top_losses(5)"
   ]
  },
  {
   "cell_type": "markdown",
   "metadata": {},
   "source": [
    "## Bwd + Fwd"
   ]
  },
  {
   "cell_type": "code",
   "execution_count": 225,
   "metadata": {},
   "outputs": [],
   "source": [
    "bs = 8"
   ]
  },
  {
   "cell_type": "code",
   "execution_count": 226,
   "metadata": {},
   "outputs": [],
   "source": [
    "config = awd_lstm_clas_config.copy()\n",
    "config['qrnn'] = True\n",
    "config['n_hid'] = 1550 #default 1152\n",
    "config['n_layers'] = 4 #default 3"
   ]
  },
  {
   "cell_type": "code",
   "execution_count": 227,
   "metadata": {},
   "outputs": [],
   "source": [
    "data_clas = load_data(path/\"data\", \"data_clas_export.pkl\", bs=bs, num_workers=1)\n",
    "learn_c = text_classifier_learner(data_clas, AWD_LSTM, config=config, drop_mult=0.5, metrics=[accuracy,f1])\n",
    "learn_c.path = path\n",
    "learn_c.load(\"clf_fwd\");"
   ]
  },
  {
   "cell_type": "code",
   "execution_count": 228,
   "metadata": {},
   "outputs": [],
   "source": [
    "data_test = load_data(path/\"data\", \"test_data.pkl\", bs=bs)"
   ]
  },
  {
   "cell_type": "code",
   "execution_count": 229,
   "metadata": {},
   "outputs": [],
   "source": [
    "learn_c.data.valid_dl = data_test.fix_dl"
   ]
  },
  {
   "cell_type": "code",
   "execution_count": 230,
   "metadata": {},
   "outputs": [
    {
     "data": {
      "text/plain": [
       "tensor(0.8776)"
      ]
     },
     "execution_count": 230,
     "metadata": {},
     "output_type": "execute_result"
    }
   ],
   "source": [
    "preds,targs = learn_c.get_preds(ordered=True)\n",
    "accuracy(preds,targs)"
   ]
  },
  {
   "cell_type": "code",
   "execution_count": 231,
   "metadata": {},
   "outputs": [],
   "source": [
    "data_clas_bwd = load_data(path/\"data\", \"data_clas_bwd.pkl\", bs=bs, num_workers=1, backwards=True)\n",
    "learn_c_bwd = text_classifier_learner(data_clas_bwd, AWD_LSTM, config=config, drop_mult=0.5, metrics=[accuracy,f1]).to_fp16()\n",
    "learn_c_bwd.path = path\n",
    "learn_c_bwd.load(\"clf_bwd\");"
   ]
  },
  {
   "cell_type": "code",
   "execution_count": 232,
   "metadata": {},
   "outputs": [],
   "source": [
    "data_test_bwd = load_data(path/\"data\", \"test_data_bwd.pkl\", bs=bs, backwards=True)"
   ]
  },
  {
   "cell_type": "code",
   "execution_count": 233,
   "metadata": {},
   "outputs": [],
   "source": [
    "learn_c_bwd.data.valid_dl = data_test_bwd.fix_dl"
   ]
  },
  {
   "cell_type": "code",
   "execution_count": 234,
   "metadata": {},
   "outputs": [
    {
     "data": {
      "text/plain": [
       "tensor(0.8903)"
      ]
     },
     "execution_count": 234,
     "metadata": {},
     "output_type": "execute_result"
    }
   ],
   "source": [
    "preds_bwd,targs_bwd = learn_c_bwd.get_preds(ordered=True)\n",
    "accuracy(preds_bwd,targs_bwd)"
   ]
  },
  {
   "cell_type": "code",
   "execution_count": 235,
   "metadata": {},
   "outputs": [
    {
     "data": {
      "text/plain": [
       "tensor(0.9030)"
      ]
     },
     "execution_count": 235,
     "metadata": {},
     "output_type": "execute_result"
    }
   ],
   "source": [
    "preds_avg = (preds+preds_bwd)/2\n",
    "accuracy(preds_avg, targs)"
   ]
  },
  {
   "cell_type": "code",
   "execution_count": 236,
   "metadata": {},
   "outputs": [],
   "source": [
    "predictions = np.argmax(preds_avg, axis = 1)"
   ]
  },
  {
   "cell_type": "code",
   "execution_count": 237,
   "metadata": {},
   "outputs": [
    {
     "name": "stdout",
     "output_type": "stream",
     "text": [
      "                                                                                   precision    recall  f1-score   support\n",
      "\n",
      "                                                                       CASA CIVIL     0.8824    0.8333    0.8571        18\n",
      "                                          CONTROLADORIA GERAL DO DISTRITO FEDERAL     1.0000    0.5000    0.6667         2\n",
      "                                           DEFENSORIA PÚBLICA DO DISTRITO FEDERAL     1.0000    1.0000    1.0000         8\n",
      "                                                                  PODER EXECUTIVO     0.7692    1.0000    0.8696        10\n",
      "                                                                PODER LEGISLATIVO     1.0000    1.0000    1.0000         1\n",
      "       SECRETARIA DE ESTADO DE AGRICULTURA, ABASTECIMENTO E DESENVOLVIMENTO RURAL     1.0000    0.7500    0.8571         4\n",
      "                                                  SECRETARIA DE ESTADO DE CULTURA     1.0000    0.8462    0.9167        13\n",
      "                                SECRETARIA DE ESTADO DE DESENVOLVIMENTO ECONÔMICO     0.5000    0.2500    0.3333         4\n",
      "                       SECRETARIA DE ESTADO DE DESENVOLVIMENTO URBANO E HABITAÇÃO     1.0000    0.7500    0.8571         4\n",
      "SECRETARIA DE ESTADO DE ECONOMIA, DESENVOLVIMENTO, INOVAÇÃO, CIÊNCIA E TECNOLOGIA     1.0000    1.0000    1.0000         1\n",
      "                                                 SECRETARIA DE ESTADO DE EDUCAÇÃO     0.8182    0.6923    0.7500        13\n",
      "                SECRETARIA DE ESTADO DE FAZENDA, PLANEJAMENTO, ORÇAMENTO E GESTÃO     0.9048    0.9048    0.9048        21\n",
      "                                      SECRETARIA DE ESTADO DE JUSTIÇA E CIDADANIA     0.7500    0.6000    0.6667         5\n",
      "                                   SECRETARIA DE ESTADO DE OBRAS E INFRAESTRUTURA     1.0000    0.8333    0.9091        18\n",
      "                                                    SECRETARIA DE ESTADO DE SAÚDE     0.8889    1.0000    0.9412        32\n",
      "                                        SECRETARIA DE ESTADO DE SEGURANÇA PÚBLICA     0.8929    1.0000    0.9434        50\n",
      "                                  SECRETARIA DE ESTADO DE TRANSPORTE E MOBILIDADE     0.9091    1.0000    0.9524        20\n",
      "                                            SECRETARIA DE ESTADO DO MEIO AMBIENTE     1.0000    0.5000    0.6667         2\n",
      "                                           TRIBUNAL DE CONTAS DO DISTRITO FEDERAL     1.0000    1.0000    1.0000        11\n",
      "\n",
      "                                                                        micro avg     0.9030    0.9030    0.9030       237\n",
      "                                                                        macro avg     0.9113    0.8137    0.8469       237\n",
      "                                                                     weighted avg     0.9039    0.9030    0.8974       237\n",
      "\n",
      "0.9029535864978903\n"
     ]
    }
   ],
   "source": [
    "print(classification_report(targs, predictions, target_names=learn_c.data.classes, digits=4))\n",
    "print(accuracy_score(targs, predictions))"
   ]
  },
  {
   "cell_type": "markdown",
   "metadata": {},
   "source": [
    "## Here we go again - with class weights"
   ]
  },
  {
   "cell_type": "code",
   "execution_count": 238,
   "metadata": {},
   "outputs": [],
   "source": [
    "bs = 8"
   ]
  },
  {
   "cell_type": "code",
   "execution_count": 239,
   "metadata": {},
   "outputs": [],
   "source": [
    "data_clas = load_data(path/\"data\", \"data_clas_export.pkl\", bs=bs)"
   ]
  },
  {
   "cell_type": "code",
   "execution_count": 240,
   "metadata": {},
   "outputs": [
    {
     "data": {
      "text/plain": [
       "384"
      ]
     },
     "execution_count": 240,
     "metadata": {},
     "output_type": "execute_result"
    }
   ],
   "source": [
    "n_samples = len(data_clas.train_ds.x); n_samples"
   ]
  },
  {
   "cell_type": "code",
   "execution_count": 241,
   "metadata": {},
   "outputs": [
    {
     "data": {
      "text/plain": [
       "19"
      ]
     },
     "execution_count": 241,
     "metadata": {},
     "output_type": "execute_result"
    }
   ],
   "source": [
    "n_classes = data_clas.c; n_classes"
   ]
  },
  {
   "cell_type": "code",
   "execution_count": 242,
   "metadata": {},
   "outputs": [
    {
     "data": {
      "text/plain": [
       "array([11, 15, 15, 15, ..., 15,  8, 15, 14])"
      ]
     },
     "execution_count": 242,
     "metadata": {},
     "output_type": "execute_result"
    }
   ],
   "source": [
    "y = data_clas.train_ds.y.items; y"
   ]
  },
  {
   "cell_type": "code",
   "execution_count": 243,
   "metadata": {},
   "outputs": [
    {
     "data": {
      "text/plain": [
       "array([ 0.673684,  6.736842,  1.684211,  1.188854, 10.105263,  3.368421,  0.91866 ,  3.368421,  3.368421, 10.105263,\n",
       "        0.91866 ,  0.594427,  2.887218,  0.673684,  0.388664,  0.24647 ,  0.631579, 10.105263,  1.188854])"
      ]
     },
     "execution_count": 243,
     "metadata": {},
     "output_type": "execute_result"
    }
   ],
   "source": [
    "class_weights = n_samples / (n_classes * np.bincount(y)); class_weights"
   ]
  },
  {
   "cell_type": "code",
   "execution_count": 244,
   "metadata": {},
   "outputs": [],
   "source": [
    "config = awd_lstm_clas_config.copy()\n",
    "config['qrnn'] = True\n",
    "config['n_hid'] = 1550 #default 1152\n",
    "config['n_layers'] = 4 #default 3"
   ]
  },
  {
   "cell_type": "code",
   "execution_count": 245,
   "metadata": {},
   "outputs": [],
   "source": [
    "learn_c = text_classifier_learner(data_clas, AWD_LSTM, config=config, pretrained=False, drop_mult=0.5, \n",
    "                                  metrics=[accuracy,f1])\n",
    "learn_c.path = path\n",
    "learn_c.load_encoder(\"fine_tune_enc\");"
   ]
  },
  {
   "cell_type": "code",
   "execution_count": 246,
   "metadata": {},
   "outputs": [
    {
     "data": {
      "text/plain": [
       "FlattenedLoss of CrossEntropyLoss()"
      ]
     },
     "execution_count": 246,
     "metadata": {},
     "output_type": "execute_result"
    }
   ],
   "source": [
    "learn_c.loss_func"
   ]
  },
  {
   "cell_type": "code",
   "execution_count": 247,
   "metadata": {},
   "outputs": [],
   "source": [
    "loss_weights = torch.FloatTensor(class_weights).cuda()\n",
    "learn_c.loss_func = FlattenedLoss(CrossEntropyFlat, weight=loss_weights)"
   ]
  },
  {
   "cell_type": "code",
   "execution_count": 248,
   "metadata": {
    "scrolled": true
   },
   "outputs": [
    {
     "data": {
      "text/html": [],
      "text/plain": [
       "<IPython.core.display.HTML object>"
      ]
     },
     "metadata": {},
     "output_type": "display_data"
    },
    {
     "name": "stdout",
     "output_type": "stream",
     "text": [
      "LR Finder is complete, type {learner_name}.recorder.plot() to see the graph.\n"
     ]
    }
   ],
   "source": [
    "learn_c.freeze()\n",
    "learn_c.lr_find()"
   ]
  },
  {
   "cell_type": "code",
   "execution_count": 249,
   "metadata": {
    "scrolled": true
   },
   "outputs": [
    {
     "data": {
      "image/png": "[encoded data removed]",
      "text/plain": [
       "<Figure size 432x288 with 1 Axes>"
      ]
     },
     "metadata": {
      "needs_background": "light"
     },
     "output_type": "display_data"
    }
   ],
   "source": [
    "learn_c.recorder.plot()"
   ]
  },
  {
   "cell_type": "code",
   "execution_count": 250,
   "metadata": {},
   "outputs": [],
   "source": [
    "lr=1e-2"
   ]
  },
  {
   "cell_type": "code",
   "execution_count": 251,
   "metadata": {},
   "outputs": [
    {
     "data": {
      "text/html": [
       "<table border=\"1\" class=\"dataframe\">\n",
       "  <thead>\n",
       "    <tr style=\"text-align: left;\">\n",
       "      <th>epoch</th>\n",
       "      <th>train_loss</th>\n",
       "      <th>valid_loss</th>\n",
       "      <th>accuracy</th>\n",
       "      <th>f_beta</th>\n",
       "      <th>time</th>\n",
       "    </tr>\n",
       "  </thead>\n",
       "  <tbody>\n",
       "    <tr>\n",
       "      <td>0</td>\n",
       "      <td>2.786529</td>\n",
       "      <td>2.533516</td>\n",
       "      <td>0.375000</td>\n",
       "      <td>0.379482</td>\n",
       "      <td>00:09</td>\n",
       "    </tr>\n",
       "    <tr>\n",
       "      <td>1</td>\n",
       "      <td>2.448650</td>\n",
       "      <td>1.840599</td>\n",
       "      <td>0.406250</td>\n",
       "      <td>0.372894</td>\n",
       "      <td>00:09</td>\n",
       "    </tr>\n",
       "    <tr>\n",
       "      <td>2</td>\n",
       "      <td>2.131545</td>\n",
       "      <td>1.669601</td>\n",
       "      <td>0.489583</td>\n",
       "      <td>0.487641</td>\n",
       "      <td>00:09</td>\n",
       "    </tr>\n",
       "    <tr>\n",
       "      <td>3</td>\n",
       "      <td>1.761095</td>\n",
       "      <td>1.639076</td>\n",
       "      <td>0.656250</td>\n",
       "      <td>0.647535</td>\n",
       "      <td>00:09</td>\n",
       "    </tr>\n",
       "    <tr>\n",
       "      <td>4</td>\n",
       "      <td>1.530320</td>\n",
       "      <td>1.477806</td>\n",
       "      <td>0.604167</td>\n",
       "      <td>0.608917</td>\n",
       "      <td>00:09</td>\n",
       "    </tr>\n",
       "    <tr>\n",
       "      <td>5</td>\n",
       "      <td>1.276570</td>\n",
       "      <td>1.361321</td>\n",
       "      <td>0.645833</td>\n",
       "      <td>0.645213</td>\n",
       "      <td>00:09</td>\n",
       "    </tr>\n",
       "    <tr>\n",
       "      <td>6</td>\n",
       "      <td>1.017992</td>\n",
       "      <td>1.297732</td>\n",
       "      <td>0.697917</td>\n",
       "      <td>0.691430</td>\n",
       "      <td>00:09</td>\n",
       "    </tr>\n",
       "    <tr>\n",
       "      <td>7</td>\n",
       "      <td>0.792612</td>\n",
       "      <td>1.216047</td>\n",
       "      <td>0.718750</td>\n",
       "      <td>0.720712</td>\n",
       "      <td>00:09</td>\n",
       "    </tr>\n",
       "    <tr>\n",
       "      <td>8</td>\n",
       "      <td>0.627999</td>\n",
       "      <td>1.186176</td>\n",
       "      <td>0.781250</td>\n",
       "      <td>0.783251</td>\n",
       "      <td>00:09</td>\n",
       "    </tr>\n",
       "    <tr>\n",
       "      <td>9</td>\n",
       "      <td>0.541261</td>\n",
       "      <td>1.162208</td>\n",
       "      <td>0.770833</td>\n",
       "      <td>0.779136</td>\n",
       "      <td>00:09</td>\n",
       "    </tr>\n",
       "  </tbody>\n",
       "</table>"
      ],
      "text/plain": [
       "<IPython.core.display.HTML object>"
      ]
     },
     "metadata": {},
     "output_type": "display_data"
    }
   ],
   "source": [
    "learn_c.fit_one_cycle(10, lr, wd=0.6, moms=(0.8,0.7))"
   ]
  },
  {
   "cell_type": "code",
   "execution_count": 252,
   "metadata": {},
   "outputs": [],
   "source": [
    "learn_c.save(\"clf_fwd_weighted\")"
   ]
  },
  {
   "cell_type": "code",
   "execution_count": 253,
   "metadata": {},
   "outputs": [
    {
     "data": {
      "text/html": [
       "<table border=\"1\" class=\"dataframe\">\n",
       "  <thead>\n",
       "    <tr style=\"text-align: left;\">\n",
       "      <th>epoch</th>\n",
       "      <th>train_loss</th>\n",
       "      <th>valid_loss</th>\n",
       "      <th>accuracy</th>\n",
       "      <th>f_beta</th>\n",
       "      <th>time</th>\n",
       "    </tr>\n",
       "  </thead>\n",
       "  <tbody>\n",
       "    <tr>\n",
       "      <td>0</td>\n",
       "      <td>0.492095</td>\n",
       "      <td>1.182139</td>\n",
       "      <td>0.750000</td>\n",
       "      <td>0.735420</td>\n",
       "      <td>00:09</td>\n",
       "    </tr>\n",
       "    <tr>\n",
       "      <td>1</td>\n",
       "      <td>0.629886</td>\n",
       "      <td>1.426527</td>\n",
       "      <td>0.604167</td>\n",
       "      <td>0.617702</td>\n",
       "      <td>00:09</td>\n",
       "    </tr>\n",
       "    <tr>\n",
       "      <td>2</td>\n",
       "      <td>0.994897</td>\n",
       "      <td>1.487370</td>\n",
       "      <td>0.552083</td>\n",
       "      <td>0.546312</td>\n",
       "      <td>00:09</td>\n",
       "    </tr>\n",
       "    <tr>\n",
       "      <td>3</td>\n",
       "      <td>1.033562</td>\n",
       "      <td>1.289290</td>\n",
       "      <td>0.656250</td>\n",
       "      <td>0.658487</td>\n",
       "      <td>00:09</td>\n",
       "    </tr>\n",
       "    <tr>\n",
       "      <td>4</td>\n",
       "      <td>0.809261</td>\n",
       "      <td>1.090584</td>\n",
       "      <td>0.812500</td>\n",
       "      <td>0.794468</td>\n",
       "      <td>00:09</td>\n",
       "    </tr>\n",
       "    <tr>\n",
       "      <td>5</td>\n",
       "      <td>0.595730</td>\n",
       "      <td>1.002973</td>\n",
       "      <td>0.760417</td>\n",
       "      <td>0.776765</td>\n",
       "      <td>00:09</td>\n",
       "    </tr>\n",
       "    <tr>\n",
       "      <td>6</td>\n",
       "      <td>0.425492</td>\n",
       "      <td>0.960718</td>\n",
       "      <td>0.812500</td>\n",
       "      <td>0.796933</td>\n",
       "      <td>00:09</td>\n",
       "    </tr>\n",
       "    <tr>\n",
       "      <td>7</td>\n",
       "      <td>0.306194</td>\n",
       "      <td>0.911303</td>\n",
       "      <td>0.822917</td>\n",
       "      <td>0.812481</td>\n",
       "      <td>00:09</td>\n",
       "    </tr>\n",
       "    <tr>\n",
       "      <td>8</td>\n",
       "      <td>0.241330</td>\n",
       "      <td>0.899413</td>\n",
       "      <td>0.822917</td>\n",
       "      <td>0.808292</td>\n",
       "      <td>00:09</td>\n",
       "    </tr>\n",
       "    <tr>\n",
       "      <td>9</td>\n",
       "      <td>0.195363</td>\n",
       "      <td>0.899693</td>\n",
       "      <td>0.843750</td>\n",
       "      <td>0.830456</td>\n",
       "      <td>00:09</td>\n",
       "    </tr>\n",
       "  </tbody>\n",
       "</table>"
      ],
      "text/plain": [
       "<IPython.core.display.HTML object>"
      ]
     },
     "metadata": {},
     "output_type": "display_data"
    }
   ],
   "source": [
    "learn_c.freeze_to(-2)\n",
    "learn_c.fit_one_cycle(10, slice(lr/(2.6**4),lr), wd=0.6, moms=(0.8,0.7))"
   ]
  },
  {
   "cell_type": "code",
   "execution_count": 254,
   "metadata": {},
   "outputs": [],
   "source": [
    "learn_c.save(\"clf_fwd_weighted\")"
   ]
  },
  {
   "cell_type": "code",
   "execution_count": 255,
   "metadata": {},
   "outputs": [
    {
     "data": {
      "text/html": [
       "<table border=\"1\" class=\"dataframe\">\n",
       "  <thead>\n",
       "    <tr style=\"text-align: left;\">\n",
       "      <th>epoch</th>\n",
       "      <th>train_loss</th>\n",
       "      <th>valid_loss</th>\n",
       "      <th>accuracy</th>\n",
       "      <th>f_beta</th>\n",
       "      <th>time</th>\n",
       "    </tr>\n",
       "  </thead>\n",
       "  <tbody>\n",
       "    <tr>\n",
       "      <td>0</td>\n",
       "      <td>0.161708</td>\n",
       "      <td>0.962478</td>\n",
       "      <td>0.833333</td>\n",
       "      <td>0.816509</td>\n",
       "      <td>00:11</td>\n",
       "    </tr>\n",
       "    <tr>\n",
       "      <td>1</td>\n",
       "      <td>0.148692</td>\n",
       "      <td>1.056089</td>\n",
       "      <td>0.791667</td>\n",
       "      <td>0.777630</td>\n",
       "      <td>00:11</td>\n",
       "    </tr>\n",
       "    <tr>\n",
       "      <td>2</td>\n",
       "      <td>0.309714</td>\n",
       "      <td>1.144891</td>\n",
       "      <td>0.760417</td>\n",
       "      <td>0.768050</td>\n",
       "      <td>00:11</td>\n",
       "    </tr>\n",
       "    <tr>\n",
       "      <td>3</td>\n",
       "      <td>0.389668</td>\n",
       "      <td>1.066230</td>\n",
       "      <td>0.843750</td>\n",
       "      <td>0.838234</td>\n",
       "      <td>00:11</td>\n",
       "    </tr>\n",
       "    <tr>\n",
       "      <td>4</td>\n",
       "      <td>0.267929</td>\n",
       "      <td>0.936353</td>\n",
       "      <td>0.854167</td>\n",
       "      <td>0.846056</td>\n",
       "      <td>00:11</td>\n",
       "    </tr>\n",
       "    <tr>\n",
       "      <td>5</td>\n",
       "      <td>0.197432</td>\n",
       "      <td>0.937581</td>\n",
       "      <td>0.875000</td>\n",
       "      <td>0.865587</td>\n",
       "      <td>00:11</td>\n",
       "    </tr>\n",
       "    <tr>\n",
       "      <td>6</td>\n",
       "      <td>0.157052</td>\n",
       "      <td>0.890013</td>\n",
       "      <td>0.843750</td>\n",
       "      <td>0.837161</td>\n",
       "      <td>00:11</td>\n",
       "    </tr>\n",
       "    <tr>\n",
       "      <td>7</td>\n",
       "      <td>0.122483</td>\n",
       "      <td>0.927165</td>\n",
       "      <td>0.854167</td>\n",
       "      <td>0.843820</td>\n",
       "      <td>00:11</td>\n",
       "    </tr>\n",
       "    <tr>\n",
       "      <td>8</td>\n",
       "      <td>0.104466</td>\n",
       "      <td>0.920536</td>\n",
       "      <td>0.854167</td>\n",
       "      <td>0.845308</td>\n",
       "      <td>00:11</td>\n",
       "    </tr>\n",
       "    <tr>\n",
       "      <td>9</td>\n",
       "      <td>0.089888</td>\n",
       "      <td>0.925110</td>\n",
       "      <td>0.854167</td>\n",
       "      <td>0.843820</td>\n",
       "      <td>00:11</td>\n",
       "    </tr>\n",
       "  </tbody>\n",
       "</table>"
      ],
      "text/plain": [
       "<IPython.core.display.HTML object>"
      ]
     },
     "metadata": {},
     "output_type": "display_data"
    }
   ],
   "source": [
    "learn_c.freeze_to(-3)\n",
    "learn_c.fit_one_cycle(10, slice(lr/2/(2.6**4),lr/2), wd=0.6, moms=(0.8,0.7))"
   ]
  },
  {
   "cell_type": "code",
   "execution_count": 256,
   "metadata": {},
   "outputs": [],
   "source": [
    "learn_c.save(\"clf_fwd_weighted\")"
   ]
  },
  {
   "cell_type": "code",
   "execution_count": 257,
   "metadata": {},
   "outputs": [
    {
     "data": {
      "text/html": [
       "<table border=\"1\" class=\"dataframe\">\n",
       "  <thead>\n",
       "    <tr style=\"text-align: left;\">\n",
       "      <th>epoch</th>\n",
       "      <th>train_loss</th>\n",
       "      <th>valid_loss</th>\n",
       "      <th>accuracy</th>\n",
       "      <th>f_beta</th>\n",
       "      <th>time</th>\n",
       "    </tr>\n",
       "  </thead>\n",
       "  <tbody>\n",
       "    <tr>\n",
       "      <td>0</td>\n",
       "      <td>0.084800</td>\n",
       "      <td>0.892606</td>\n",
       "      <td>0.864583</td>\n",
       "      <td>0.853170</td>\n",
       "      <td>00:16</td>\n",
       "    </tr>\n",
       "    <tr>\n",
       "      <td>1</td>\n",
       "      <td>0.086783</td>\n",
       "      <td>0.919732</td>\n",
       "      <td>0.854167</td>\n",
       "      <td>0.844878</td>\n",
       "      <td>00:16</td>\n",
       "    </tr>\n",
       "    <tr>\n",
       "      <td>2</td>\n",
       "      <td>0.074494</td>\n",
       "      <td>0.907556</td>\n",
       "      <td>0.864583</td>\n",
       "      <td>0.853616</td>\n",
       "      <td>00:16</td>\n",
       "    </tr>\n",
       "    <tr>\n",
       "      <td>3</td>\n",
       "      <td>0.068603</td>\n",
       "      <td>0.888845</td>\n",
       "      <td>0.864583</td>\n",
       "      <td>0.851619</td>\n",
       "      <td>00:16</td>\n",
       "    </tr>\n",
       "    <tr>\n",
       "      <td>4</td>\n",
       "      <td>0.062064</td>\n",
       "      <td>0.902903</td>\n",
       "      <td>0.854167</td>\n",
       "      <td>0.839490</td>\n",
       "      <td>00:16</td>\n",
       "    </tr>\n",
       "    <tr>\n",
       "      <td>5</td>\n",
       "      <td>0.057900</td>\n",
       "      <td>0.892659</td>\n",
       "      <td>0.854167</td>\n",
       "      <td>0.839460</td>\n",
       "      <td>00:16</td>\n",
       "    </tr>\n",
       "    <tr>\n",
       "      <td>6</td>\n",
       "      <td>0.050893</td>\n",
       "      <td>0.898400</td>\n",
       "      <td>0.875000</td>\n",
       "      <td>0.863574</td>\n",
       "      <td>00:16</td>\n",
       "    </tr>\n",
       "    <tr>\n",
       "      <td>7</td>\n",
       "      <td>0.049385</td>\n",
       "      <td>0.913192</td>\n",
       "      <td>0.875000</td>\n",
       "      <td>0.860749</td>\n",
       "      <td>00:16</td>\n",
       "    </tr>\n",
       "    <tr>\n",
       "      <td>8</td>\n",
       "      <td>0.045448</td>\n",
       "      <td>0.918065</td>\n",
       "      <td>0.864583</td>\n",
       "      <td>0.851128</td>\n",
       "      <td>00:16</td>\n",
       "    </tr>\n",
       "    <tr>\n",
       "      <td>9</td>\n",
       "      <td>0.045920</td>\n",
       "      <td>0.898793</td>\n",
       "      <td>0.875000</td>\n",
       "      <td>0.862468</td>\n",
       "      <td>00:16</td>\n",
       "    </tr>\n",
       "  </tbody>\n",
       "</table>"
      ],
      "text/plain": [
       "<IPython.core.display.HTML object>"
      ]
     },
     "metadata": {},
     "output_type": "display_data"
    }
   ],
   "source": [
    "learn_c.unfreeze()\n",
    "learn_c.fit_one_cycle(10, slice(lr/10/(2.6**4),lr/10), wd=0.6, moms=(0.8,0.7))"
   ]
  },
  {
   "cell_type": "code",
   "execution_count": 258,
   "metadata": {},
   "outputs": [],
   "source": [
    "learn_c.save(\"clf_fwd_weighted\")"
   ]
  },
  {
   "cell_type": "code",
   "execution_count": 213,
   "metadata": {},
   "outputs": [],
   "source": [
    "data_clas = load_data(path/\"data\", \"data_clas_export.pkl\")"
   ]
  },
  {
   "cell_type": "code",
   "execution_count": 263,
   "metadata": {},
   "outputs": [],
   "source": [
    "data_lm = load_data(path/\"data\", \"data_lm_export.pkl\")"
   ]
  },
  {
   "cell_type": "code",
   "execution_count": 264,
   "metadata": {},
   "outputs": [],
   "source": [
    "data_test = load_data(path/\"data\", \"test_data.pkl\")"
   ]
  },
  {
   "cell_type": "code",
   "execution_count": 266,
   "metadata": {},
   "outputs": [
    {
     "data": {
      "text/plain": [
       "(8552, 8552)"
      ]
     },
     "execution_count": 266,
     "metadata": {},
     "output_type": "execute_result"
    }
   ],
   "source": [
    "len(data_test.vocab.itos), len(data_clas.vocab.itos)"
   ]
  },
  {
   "cell_type": "code",
   "execution_count": 267,
   "metadata": {},
   "outputs": [],
   "source": [
    "learn_c.load(path/\"clf_fwd_weighted\");"
   ]
  },
  {
   "cell_type": "code",
   "execution_count": 268,
   "metadata": {},
   "outputs": [],
   "source": [
    "learn_c.data.valid_dl = data_test.fix_dl"
   ]
  },
  {
   "cell_type": "code",
   "execution_count": 270,
   "metadata": {},
   "outputs": [
    {
     "name": "stderr",
     "output_type": "stream",
     "text": [
      "/opt/anaconda3/lib/python3.7/site-packages/fastai/train.py:200: UserWarning: Tight layout not applied. The left and right margins cannot be made large enough to accommodate all axes decorations. \n",
      "  plt.tight_layout()\n"
     ]
    },
    {
     "data": {
      "image/png": "[encoded data removed]",
      "text/plain": [
       "<Figure size 432x288 with 1 Axes>"
      ]
     },
     "metadata": {
      "needs_background": "light"
     },
     "output_type": "display_data"
    }
   ],
   "source": [
    "learn_c.loss_func = FlattenedLoss(CrossEntropyFlat, weight=loss_weights.cpu())\n",
    "preds,y,losses = learn_c.get_preds(with_loss=True)\n",
    "predictions = np.argmax(preds, axis = 1)\n",
    "\n",
    "interp = ClassificationInterpretation(learn_c, preds, y, losses)\n",
    "interp.plot_confusion_matrix()"
   ]
  },
  {
   "cell_type": "code",
   "execution_count": 271,
   "metadata": {},
   "outputs": [
    {
     "data": {
      "text/plain": [
       "(tensor([15,  3, 15,  3,  3, 11, 13, 10, 10,  3, 15, 14, 10, 15, 15]),\n",
       " tensor([14,  3,  3,  3,  3, 10, 13, 10, 10,  3, 15, 14, 14, 15, 15]),\n",
       " torch.Size([237]),\n",
       " torch.Size([237]))"
      ]
     },
     "execution_count": 271,
     "metadata": {},
     "output_type": "execute_result"
    }
   ],
   "source": [
    "predictions[:15], y[:15], predictions.shape, y.shape"
   ]
  },
  {
   "cell_type": "code",
   "execution_count": 272,
   "metadata": {},
   "outputs": [
    {
     "name": "stdout",
     "output_type": "stream",
     "text": [
      "                                                                                   precision    recall  f1-score   support\n",
      "\n",
      "                                                                       CASA CIVIL     0.7778    0.7778    0.7778        18\n",
      "                                          CONTROLADORIA GERAL DO DISTRITO FEDERAL     0.5000    1.0000    0.6667         2\n",
      "                                           DEFENSORIA PÚBLICA DO DISTRITO FEDERAL     1.0000    1.0000    1.0000         8\n",
      "                                                                  PODER EXECUTIVO     0.5625    0.9000    0.6923        10\n",
      "                                                                PODER LEGISLATIVO     1.0000    1.0000    1.0000         1\n",
      "       SECRETARIA DE ESTADO DE AGRICULTURA, ABASTECIMENTO E DESENVOLVIMENTO RURAL     1.0000    0.5000    0.6667         4\n",
      "                                                  SECRETARIA DE ESTADO DE CULTURA     1.0000    0.8462    0.9167        13\n",
      "                                SECRETARIA DE ESTADO DE DESENVOLVIMENTO ECONÔMICO     1.0000    0.5000    0.6667         4\n",
      "                       SECRETARIA DE ESTADO DE DESENVOLVIMENTO URBANO E HABITAÇÃO     0.7500    0.7500    0.7500         4\n",
      "SECRETARIA DE ESTADO DE ECONOMIA, DESENVOLVIMENTO, INOVAÇÃO, CIÊNCIA E TECNOLOGIA     1.0000    1.0000    1.0000         1\n",
      "                                                 SECRETARIA DE ESTADO DE EDUCAÇÃO     0.8182    0.6923    0.7500        13\n",
      "                SECRETARIA DE ESTADO DE FAZENDA, PLANEJAMENTO, ORÇAMENTO E GESTÃO     0.9500    0.9048    0.9268        21\n",
      "                                      SECRETARIA DE ESTADO DE JUSTIÇA E CIDADANIA     0.6000    0.6000    0.6000         5\n",
      "                                   SECRETARIA DE ESTADO DE OBRAS E INFRAESTRUTURA     0.9333    0.7778    0.8485        18\n",
      "                                                    SECRETARIA DE ESTADO DE SAÚDE     0.9375    0.9375    0.9375        32\n",
      "                                        SECRETARIA DE ESTADO DE SEGURANÇA PÚBLICA     0.8596    0.9800    0.9159        50\n",
      "                                  SECRETARIA DE ESTADO DE TRANSPORTE E MOBILIDADE     0.9412    0.8000    0.8649        20\n",
      "                                            SECRETARIA DE ESTADO DO MEIO AMBIENTE     1.0000    0.5000    0.6667         2\n",
      "                                           TRIBUNAL DE CONTAS DO DISTRITO FEDERAL     0.9167    1.0000    0.9565        11\n",
      "\n",
      "                                                                        micro avg     0.8650    0.8650    0.8650       237\n",
      "                                                                        macro avg     0.8709    0.8140    0.8212       237\n",
      "                                                                     weighted avg     0.8814    0.8650    0.8647       237\n",
      "\n",
      "0.8649789029535865\n"
     ]
    }
   ],
   "source": [
    "print(classification_report(y, predictions, target_names=learn_c.data.classes, digits=4))\n",
    "print(accuracy_score(y, predictions))"
   ]
  },
  {
   "cell_type": "code",
   "execution_count": null,
   "metadata": {},
   "outputs": [],
   "source": []
  }
 ],
 "metadata": {
  "kernelspec": {
   "display_name": "Python 3",
   "language": "python",
   "name": "python3"
  },
  "language_info": {
   "codemirror_mode": {
    "name": "ipython",
    "version": 3
   },
   "file_extension": ".py",
   "mimetype": "text/x-python",
   "name": "python",
   "nbconvert_exporter": "python",
   "pygments_lexer": "ipython3",
   "version": "3.7.4"
  }
 },
 "nbformat": 4,
 "nbformat_minor": 2
}
