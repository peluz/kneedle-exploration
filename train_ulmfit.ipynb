{
 "cells": [
  {
   "cell_type": "code",
   "execution_count": 1,
   "metadata": {},
   "outputs": [],
   "source": [
    "%load_ext autoreload\n",
    "%autoreload 2\n",
    "%matplotlib inline"
   ]
  },
  {
   "cell_type": "code",
   "execution_count": 2,
   "metadata": {},
   "outputs": [],
   "source": [
    "import pandas as pd\n",
    "import pickle\n",
    "\n",
    "import matplotlib.cm as cm\n",
    "\n",
    "from fastai import *\n",
    "from fastai.text import *\n",
    "\n",
    "from pathlib import Path\n",
    "\n",
    "from sklearn.feature_extraction.text import CountVectorizer, TfidfVectorizer\n",
    "from sklearn.pipeline import Pipeline\n",
    "from sklearn.svm import LinearSVC\n",
    "from sklearn.naive_bayes import MultinomialNB\n",
    "from sklearn.model_selection import RandomizedSearchCV\n",
    "from sklearn.metrics import confusion_matrix, classification_report, hamming_loss, zero_one_loss, accuracy_score"
   ]
  },
  {
   "cell_type": "code",
   "execution_count": 3,
   "metadata": {},
   "outputs": [],
   "source": [
    "seed = 42\n",
    "\n",
    "# python RNG\n",
    "import random\n",
    "random.seed(seed)\n",
    "\n",
    "# pytorch RNGs\n",
    "import torch\n",
    "torch.manual_seed(seed)\n",
    "torch.backends.cudnn.deterministic = True\n",
    "if torch.cuda.is_available(): torch.cuda.manual_seed_all(seed)\n",
    "\n",
    "# numpy RNG\n",
    "import numpy as np\n",
    "np.random.seed(seed)"
   ]
  },
  {
   "cell_type": "code",
   "execution_count": 11,
   "metadata": {},
   "outputs": [
    {
     "name": "stdout",
     "output_type": "stream",
     "text": [
      "\r\n",
      "\r\n",
      "```text\r\n",
      "=== Software === \r\n",
      "python        : 3.7.4\r\n",
      "fastai        : 1.0.57\r\n",
      "fastprogress  : 0.1.21\r\n",
      "torch         : 1.0.1.post2\r\n",
      "nvidia driver : 410.72\r\n",
      "torch cuda    : 10.0.130 / is available\r\n",
      "torch cudnn   : 7402 / is enabled\r\n",
      "\r\n",
      "=== Hardware === \r\n",
      "nvidia gpus   : 1\r\n",
      "torch devices : 1\r\n",
      "  - gpu0      : 7611MB | Tesla P4\r\n",
      "\r\n",
      "=== Environment === \r\n",
      "platform      : Linux-4.9.0-8-amd64-x86_64-with-debian-9.8\r\n",
      "distro        : #1 SMP Debian 4.9.130-2 (2018-10-27)\r\n",
      "conda env     : base\r\n",
      "python        : /opt/anaconda3/bin/python\r\n",
      "sys.path      : /home/jupyter/kneedle-exploration\r\n",
      "/opt/anaconda3/lib/python37.zip\r\n",
      "/opt/anaconda3/lib/python3.7\r\n",
      "/opt/anaconda3/lib/python3.7/lib-dynload\r\n",
      "/opt/anaconda3/lib/python3.7/site-packages\r\n",
      "/opt/anaconda3/lib/python3.7/site-packages/IPython/extensions\r\n",
      "```\r\n",
      "\r\n",
      "Please make sure to include opening/closing ``` when you paste into forums/github to make the reports appear formatted as code sections.\r\n",
      "\r\n",
      "Optional package(s) to enhance the diagnostics can be installed with:\r\n",
      "pip install distro\r\n",
      "Once installed, re-run this utility to get the additional information\r\n"
     ]
    }
   ],
   "source": [
    "!python -m fastai.utils.show_install"
   ]
  },
  {
   "cell_type": "code",
   "execution_count": 13,
   "metadata": {},
   "outputs": [],
   "source": [
    "bs=32"
   ]
  },
  {
   "cell_type": "markdown",
   "metadata": {},
   "source": [
    "## Loading Data"
   ]
  },
  {
   "cell_type": "code",
   "execution_count": 4,
   "metadata": {},
   "outputs": [],
   "source": [
    "path = \"./data/clean/\""
   ]
  },
  {
   "cell_type": "code",
   "execution_count": 5,
   "metadata": {},
   "outputs": [],
   "source": [
    "df = pd.read_csv(f'{path}/train.csv')"
   ]
  },
  {
   "cell_type": "code",
   "execution_count": 6,
   "metadata": {
    "scrolled": true
   },
   "outputs": [
    {
     "data": {
      "text/html": [
       "<div>\n",
       "<style scoped>\n",
       "    .dataframe tbody tr th:only-of-type {\n",
       "        vertical-align: middle;\n",
       "    }\n",
       "\n",
       "    .dataframe tbody tr th {\n",
       "        vertical-align: top;\n",
       "    }\n",
       "\n",
       "    .dataframe thead th {\n",
       "        text-align: right;\n",
       "    }\n",
       "</style>\n",
       "<table border=\"1\" class=\"dataframe\">\n",
       "  <thead>\n",
       "    <tr style=\"text-align: right;\">\n",
       "      <th></th>\n",
       "      <th>label</th>\n",
       "      <th>text</th>\n",
       "      <th>is_valid</th>\n",
       "    </tr>\n",
       "  </thead>\n",
       "  <tbody>\n",
       "    <tr>\n",
       "      <td>0</td>\n",
       "      <td>SECRETARIA DE ESTADO DE SEGURANÇA PÚBLICA</td>\n",
       "      <td>O DIRETOR-GERAL DO DEPARTAMENTO DE TRÂNSITO DO...</td>\n",
       "      <td>False</td>\n",
       "    </tr>\n",
       "    <tr>\n",
       "      <td>1</td>\n",
       "      <td>SECRETARIA DE ESTADO DE CULTURA</td>\n",
       "      <td>PROCESSO: 00150-00010629/2018-72; NOTA DE EMPE...</td>\n",
       "      <td>False</td>\n",
       "    </tr>\n",
       "    <tr>\n",
       "      <td>2</td>\n",
       "      <td>SECRETARIA DE ESTADO DE SEGURANÇA PÚBLICA</td>\n",
       "      <td>O DIRETOR-GERAL DO DEPARTAMENTO DE TRÂNSITO DO...</td>\n",
       "      <td>False</td>\n",
       "    </tr>\n",
       "    <tr>\n",
       "      <td>3</td>\n",
       "      <td>SECRETARIA DE ESTADO DE FAZENDA, PLANEJAMENTO,...</td>\n",
       "      <td>A Comissão Permanente de Licitação do BRB - BA...</td>\n",
       "      <td>False</td>\n",
       "    </tr>\n",
       "    <tr>\n",
       "      <td>4</td>\n",
       "      <td>CASA CIVIL</td>\n",
       "      <td>A ADMINISTRADORA REGIONAL DE TAGUATINGA DO DIS...</td>\n",
       "      <td>False</td>\n",
       "    </tr>\n",
       "    <tr>\n",
       "      <td>...</td>\n",
       "      <td>...</td>\n",
       "      <td>...</td>\n",
       "      <td>...</td>\n",
       "    </tr>\n",
       "    <tr>\n",
       "      <td>712</td>\n",
       "      <td>SECRETARIA DE ESTADO DE OBRAS E INFRAESTRUTURA</td>\n",
       "      <td>O Pregoeiro da CAESB no uso de suas atribuiçõe...</td>\n",
       "      <td>True</td>\n",
       "    </tr>\n",
       "    <tr>\n",
       "      <td>713</td>\n",
       "      <td>SECRETARIA DE ESTADO DE DESENVOLVIMENTO ECONÔMICO</td>\n",
       "      <td>O SUBSECRETÁRIO DE ADMINISTRAÇÃO GERAL, DA SEC...</td>\n",
       "      <td>True</td>\n",
       "    </tr>\n",
       "    <tr>\n",
       "      <td>714</td>\n",
       "      <td>SECRETARIA DE ESTADO DE SEGURANÇA PÚBLICA</td>\n",
       "      <td>O DIRETOR DO DEPARTAMENTO DE GESTÃO DE PESSOAS...</td>\n",
       "      <td>True</td>\n",
       "    </tr>\n",
       "    <tr>\n",
       "      <td>715</td>\n",
       "      <td>SECRETARIA DE ESTADO DE SEGURANÇA PÚBLICA</td>\n",
       "      <td>PROCESSO: 00054-00027353/2018-03. PARTES: DF/P...</td>\n",
       "      <td>True</td>\n",
       "    </tr>\n",
       "    <tr>\n",
       "      <td>716</td>\n",
       "      <td>SECRETARIA DE ESTADO DE SAÚDE</td>\n",
       "      <td>Espécie: Primeiro Termo Aditivo à Ata de Regis...</td>\n",
       "      <td>True</td>\n",
       "    </tr>\n",
       "  </tbody>\n",
       "</table>\n",
       "<p>717 rows × 3 columns</p>\n",
       "</div>"
      ],
      "text/plain": [
       "                                                 label  \\\n",
       "0            SECRETARIA DE ESTADO DE SEGURANÇA PÚBLICA   \n",
       "1                      SECRETARIA DE ESTADO DE CULTURA   \n",
       "2            SECRETARIA DE ESTADO DE SEGURANÇA PÚBLICA   \n",
       "3    SECRETARIA DE ESTADO DE FAZENDA, PLANEJAMENTO,...   \n",
       "4                                           CASA CIVIL   \n",
       "..                                                 ...   \n",
       "712     SECRETARIA DE ESTADO DE OBRAS E INFRAESTRUTURA   \n",
       "713  SECRETARIA DE ESTADO DE DESENVOLVIMENTO ECONÔMICO   \n",
       "714          SECRETARIA DE ESTADO DE SEGURANÇA PÚBLICA   \n",
       "715          SECRETARIA DE ESTADO DE SEGURANÇA PÚBLICA   \n",
       "716                      SECRETARIA DE ESTADO DE SAÚDE   \n",
       "\n",
       "                                                  text  is_valid  \n",
       "0    O DIRETOR-GERAL DO DEPARTAMENTO DE TRÂNSITO DO...     False  \n",
       "1    PROCESSO: 00150-00010629/2018-72; NOTA DE EMPE...     False  \n",
       "2    O DIRETOR-GERAL DO DEPARTAMENTO DE TRÂNSITO DO...     False  \n",
       "3    A Comissão Permanente de Licitação do BRB - BA...     False  \n",
       "4    A ADMINISTRADORA REGIONAL DE TAGUATINGA DO DIS...     False  \n",
       "..                                                 ...       ...  \n",
       "712  O Pregoeiro da CAESB no uso de suas atribuiçõe...      True  \n",
       "713  O SUBSECRETÁRIO DE ADMINISTRAÇÃO GERAL, DA SEC...      True  \n",
       "714  O DIRETOR DO DEPARTAMENTO DE GESTÃO DE PESSOAS...      True  \n",
       "715  PROCESSO: 00054-00027353/2018-03. PARTES: DF/P...      True  \n",
       "716  Espécie: Primeiro Termo Aditivo à Ata de Regis...      True  \n",
       "\n",
       "[717 rows x 3 columns]"
      ]
     },
     "execution_count": 6,
     "metadata": {},
     "output_type": "execute_result"
    }
   ],
   "source": [
    "df"
   ]
  },
  {
   "cell_type": "code",
   "execution_count": 7,
   "metadata": {},
   "outputs": [
    {
     "data": {
      "text/html": [
       "<div>\n",
       "<style scoped>\n",
       "    .dataframe tbody tr th:only-of-type {\n",
       "        vertical-align: middle;\n",
       "    }\n",
       "\n",
       "    .dataframe tbody tr th {\n",
       "        vertical-align: top;\n",
       "    }\n",
       "\n",
       "    .dataframe thead th {\n",
       "        text-align: right;\n",
       "    }\n",
       "</style>\n",
       "<table border=\"1\" class=\"dataframe\">\n",
       "  <thead>\n",
       "    <tr style=\"text-align: right;\">\n",
       "      <th></th>\n",
       "      <th>label</th>\n",
       "      <th>text</th>\n",
       "      <th>is_valid</th>\n",
       "    </tr>\n",
       "  </thead>\n",
       "  <tbody>\n",
       "    <tr>\n",
       "      <td>0</td>\n",
       "      <td>SECRETARIA DE ESTADO DE SEGURANÇA PÚBLICA</td>\n",
       "      <td>O DIRETOR-GERAL DO DEPARTAMENTO DE TRÂNSITO DO...</td>\n",
       "      <td>False</td>\n",
       "    </tr>\n",
       "    <tr>\n",
       "      <td>1</td>\n",
       "      <td>SECRETARIA DE ESTADO DE CULTURA</td>\n",
       "      <td>PROCESSO: 00150-00010629/2018-72; NOTA DE EMPE...</td>\n",
       "      <td>False</td>\n",
       "    </tr>\n",
       "    <tr>\n",
       "      <td>2</td>\n",
       "      <td>SECRETARIA DE ESTADO DE SEGURANÇA PÚBLICA</td>\n",
       "      <td>O DIRETOR-GERAL DO DEPARTAMENTO DE TRÂNSITO DO...</td>\n",
       "      <td>False</td>\n",
       "    </tr>\n",
       "    <tr>\n",
       "      <td>3</td>\n",
       "      <td>SECRETARIA DE ESTADO DE FAZENDA, PLANEJAMENTO,...</td>\n",
       "      <td>A Comissão Permanente de Licitação do BRB - BA...</td>\n",
       "      <td>False</td>\n",
       "    </tr>\n",
       "    <tr>\n",
       "      <td>4</td>\n",
       "      <td>CASA CIVIL</td>\n",
       "      <td>A ADMINISTRADORA REGIONAL DE TAGUATINGA DO DIS...</td>\n",
       "      <td>False</td>\n",
       "    </tr>\n",
       "    <tr>\n",
       "      <td>...</td>\n",
       "      <td>...</td>\n",
       "      <td>...</td>\n",
       "      <td>...</td>\n",
       "    </tr>\n",
       "    <tr>\n",
       "      <td>475</td>\n",
       "      <td>SECRETARIA DE ESTADO DE FAZENDA, PLANEJAMENTO,...</td>\n",
       "      <td>A DIRETORA PRESIDENTE DO INSTITUTO DE PREVIDÊN...</td>\n",
       "      <td>False</td>\n",
       "    </tr>\n",
       "    <tr>\n",
       "      <td>476</td>\n",
       "      <td>SECRETARIA DE ESTADO DE SAÚDE</td>\n",
       "      <td>A DIRETORA DO HOSPITAL MATERNO INFANTIL DE BRA...</td>\n",
       "      <td>False</td>\n",
       "    </tr>\n",
       "    <tr>\n",
       "      <td>477</td>\n",
       "      <td>SECRETARIA DE ESTADO DE SEGURANÇA PÚBLICA</td>\n",
       "      <td>O DIRETOR-GERAL DO DEPARTAMENTO DE TRÂNSITO DO...</td>\n",
       "      <td>False</td>\n",
       "    </tr>\n",
       "    <tr>\n",
       "      <td>478</td>\n",
       "      <td>SECRETARIA DE ESTADO DE AGRICULTURA, ABASTECIM...</td>\n",
       "      <td>O SUBSECRETÁRIO DE ADMINISTRAÇÃO GERAL, DA SEC...</td>\n",
       "      <td>False</td>\n",
       "    </tr>\n",
       "    <tr>\n",
       "      <td>479</td>\n",
       "      <td>SECRETARIA DE ESTADO DE SEGURANÇA PÚBLICA</td>\n",
       "      <td>PROCESSO: 0052.001.240/2012 - PARTES: Distrito...</td>\n",
       "      <td>False</td>\n",
       "    </tr>\n",
       "  </tbody>\n",
       "</table>\n",
       "<p>480 rows × 3 columns</p>\n",
       "</div>"
      ],
      "text/plain": [
       "                                                 label  \\\n",
       "0            SECRETARIA DE ESTADO DE SEGURANÇA PÚBLICA   \n",
       "1                      SECRETARIA DE ESTADO DE CULTURA   \n",
       "2            SECRETARIA DE ESTADO DE SEGURANÇA PÚBLICA   \n",
       "3    SECRETARIA DE ESTADO DE FAZENDA, PLANEJAMENTO,...   \n",
       "4                                           CASA CIVIL   \n",
       "..                                                 ...   \n",
       "475  SECRETARIA DE ESTADO DE FAZENDA, PLANEJAMENTO,...   \n",
       "476                      SECRETARIA DE ESTADO DE SAÚDE   \n",
       "477          SECRETARIA DE ESTADO DE SEGURANÇA PÚBLICA   \n",
       "478  SECRETARIA DE ESTADO DE AGRICULTURA, ABASTECIM...   \n",
       "479          SECRETARIA DE ESTADO DE SEGURANÇA PÚBLICA   \n",
       "\n",
       "                                                  text  is_valid  \n",
       "0    O DIRETOR-GERAL DO DEPARTAMENTO DE TRÂNSITO DO...     False  \n",
       "1    PROCESSO: 00150-00010629/2018-72; NOTA DE EMPE...     False  \n",
       "2    O DIRETOR-GERAL DO DEPARTAMENTO DE TRÂNSITO DO...     False  \n",
       "3    A Comissão Permanente de Licitação do BRB - BA...     False  \n",
       "4    A ADMINISTRADORA REGIONAL DE TAGUATINGA DO DIS...     False  \n",
       "..                                                 ...       ...  \n",
       "475  A DIRETORA PRESIDENTE DO INSTITUTO DE PREVIDÊN...     False  \n",
       "476  A DIRETORA DO HOSPITAL MATERNO INFANTIL DE BRA...     False  \n",
       "477  O DIRETOR-GERAL DO DEPARTAMENTO DE TRÂNSITO DO...     False  \n",
       "478  O SUBSECRETÁRIO DE ADMINISTRAÇÃO GERAL, DA SEC...     False  \n",
       "479  PROCESSO: 0052.001.240/2012 - PARTES: Distrito...     False  \n",
       "\n",
       "[480 rows x 3 columns]"
      ]
     },
     "execution_count": 7,
     "metadata": {},
     "output_type": "execute_result"
    }
   ],
   "source": [
    "df_train = df[df[\"is_valid\"] == False]; df_train"
   ]
  },
  {
   "cell_type": "code",
   "execution_count": 8,
   "metadata": {},
   "outputs": [
    {
     "data": {
      "text/html": [
       "<div>\n",
       "<style scoped>\n",
       "    .dataframe tbody tr th:only-of-type {\n",
       "        vertical-align: middle;\n",
       "    }\n",
       "\n",
       "    .dataframe tbody tr th {\n",
       "        vertical-align: top;\n",
       "    }\n",
       "\n",
       "    .dataframe thead th {\n",
       "        text-align: right;\n",
       "    }\n",
       "</style>\n",
       "<table border=\"1\" class=\"dataframe\">\n",
       "  <thead>\n",
       "    <tr style=\"text-align: right;\">\n",
       "      <th></th>\n",
       "      <th>text</th>\n",
       "    </tr>\n",
       "  </thead>\n",
       "  <tbody>\n",
       "    <tr>\n",
       "      <td>0</td>\n",
       "      <td>O DIRETOR-GERAL DO DEPARTAMENTO DE TRÂNSITO DO...</td>\n",
       "    </tr>\n",
       "    <tr>\n",
       "      <td>1</td>\n",
       "      <td>A Comissão Permanente de Licitação da BRB ADMI...</td>\n",
       "    </tr>\n",
       "    <tr>\n",
       "      <td>2</td>\n",
       "      <td>PROCESSO Nº 00095-00002392/2018-12.\\nO DIRETOR...</td>\n",
       "    </tr>\n",
       "    <tr>\n",
       "      <td>3</td>\n",
       "      <td>Partes: DETRAN-DF e a empresa SINASC SINALIZAÇ...</td>\n",
       "    </tr>\n",
       "    <tr>\n",
       "      <td>4</td>\n",
       "      <td>Espécie: Contrato nº 647/2018-CEB DISTRIBUIÇÃO...</td>\n",
       "    </tr>\n",
       "    <tr>\n",
       "      <td>...</td>\n",
       "      <td>...</td>\n",
       "    </tr>\n",
       "    <tr>\n",
       "      <td>1921</td>\n",
       "      <td>O Secretário de Estado de Cultura do Distrito ...</td>\n",
       "    </tr>\n",
       "    <tr>\n",
       "      <td>1922</td>\n",
       "      <td>PROCESSO Nº 00150-00010640/2018-32\\nCLÁUSULA P...</td>\n",
       "    </tr>\n",
       "    <tr>\n",
       "      <td>1923</td>\n",
       "      <td>Processo: 00220-00005431/2018-32 - Das Partes:...</td>\n",
       "    </tr>\n",
       "    <tr>\n",
       "      <td>1924</td>\n",
       "      <td>Processo: PROCESSO 00220-00005706/2018-38. Par...</td>\n",
       "    </tr>\n",
       "    <tr>\n",
       "      <td>1925</td>\n",
       "      <td>Objeto: Contratação de empresa especializada p...</td>\n",
       "    </tr>\n",
       "  </tbody>\n",
       "</table>\n",
       "<p>1926 rows × 1 columns</p>\n",
       "</div>"
      ],
      "text/plain": [
       "                                                   text\n",
       "0     O DIRETOR-GERAL DO DEPARTAMENTO DE TRÂNSITO DO...\n",
       "1     A Comissão Permanente de Licitação da BRB ADMI...\n",
       "2     PROCESSO Nº 00095-00002392/2018-12.\\nO DIRETOR...\n",
       "3     Partes: DETRAN-DF e a empresa SINASC SINALIZAÇ...\n",
       "4     Espécie: Contrato nº 647/2018-CEB DISTRIBUIÇÃO...\n",
       "...                                                 ...\n",
       "1921  O Secretário de Estado de Cultura do Distrito ...\n",
       "1922  PROCESSO Nº 00150-00010640/2018-32\\nCLÁUSULA P...\n",
       "1923  Processo: 00220-00005431/2018-32 - Das Partes:...\n",
       "1924  Processo: PROCESSO 00220-00005706/2018-38. Par...\n",
       "1925  Objeto: Contratação de empresa especializada p...\n",
       "\n",
       "[1926 rows x 1 columns]"
      ]
     },
     "execution_count": 8,
     "metadata": {},
     "output_type": "execute_result"
    }
   ],
   "source": [
    "df_lm = pd.read_csv(f'{path}/unsup/unsup.csv'); df_lm"
   ]
  },
  {
   "cell_type": "code",
   "execution_count": 21,
   "metadata": {},
   "outputs": [],
   "source": [
    "data_lm = (TextList.from_df(df_lm,cols='text', processor=[OpenFileProcessor(), SPProcessor(max_vocab_sz=15000)])\n",
    "                           .split_by_rand_pct(0.2, seed=seed)\n",
    "                           .label_for_lm()\n",
    "                           .databunch(bs=bs))"
   ]
  },
  {
   "cell_type": "code",
   "execution_count": 22,
   "metadata": {},
   "outputs": [],
   "source": [
    "data_lm.save('data/data_lm_export.pkl')"
   ]
  },
  {
   "cell_type": "code",
   "execution_count": 23,
   "metadata": {},
   "outputs": [],
   "source": [
    "config = awd_lstm_lm_config.copy()\n",
    "config['qrnn'] = True\n",
    "config['n_hid'] = 1550 #default 1152\n",
    "config['n_layers'] = 4 #default 3"
   ]
  },
  {
   "cell_type": "code",
   "execution_count": 9,
   "metadata": {},
   "outputs": [],
   "source": [
    "perplexity = Perplexity()\n",
    "f1 = FBeta(beta=1, average=\"weighted\")"
   ]
  },
  {
   "cell_type": "code",
   "execution_count": 10,
   "metadata": {},
   "outputs": [],
   "source": [
    "lm_fns3 = ['pt_wt_sp15_multifit', 'pt_wt_vocab_sp15_multifit']\n",
    "lm_fns3_bwd = ['pt_wt_sp15_multifit_bwd', 'pt_wt_vocab_sp15_multifit_bwd']"
   ]
  },
  {
   "cell_type": "markdown",
   "metadata": {},
   "source": [
    "## Fine-tune forward LM"
   ]
  },
  {
   "cell_type": "code",
   "execution_count": 39,
   "metadata": {},
   "outputs": [],
   "source": [
    "learn_lm = language_model_learner(data_lm, AWD_LSTM, config=config, pretrained_fnames=lm_fns3, drop_mult=1., \n",
    "                                  metrics=[error_rate, accuracy, perplexity])"
   ]
  },
  {
   "cell_type": "code",
   "execution_count": 30,
   "metadata": {},
   "outputs": [
    {
     "data": {
      "text/plain": [
       "'O Governador ▁é ▁um ▁xxmaj ▁distrito ▁localizado ▁em ▁xxmaj ▁ca ja d ja ra , ▁no ▁estado'"
      ]
     },
     "execution_count": 30,
     "metadata": {},
     "output_type": "execute_result"
    }
   ],
   "source": [
    "learn_lm.predict(\"O Governador\", n_words=15)"
   ]
  },
  {
   "cell_type": "code",
   "execution_count": 32,
   "metadata": {},
   "outputs": [
    {
     "data": {
      "text/html": [],
      "text/plain": [
       "<IPython.core.display.HTML object>"
      ]
     },
     "metadata": {},
     "output_type": "display_data"
    },
    {
     "name": "stdout",
     "output_type": "stream",
     "text": [
      "LR Finder is complete, type {learner_name}.recorder.plot() to see the graph.\n"
     ]
    }
   ],
   "source": [
    "learn_lm.lr_find()"
   ]
  },
  {
   "cell_type": "code",
   "execution_count": 34,
   "metadata": {},
   "outputs": [
    {
     "data": {
      "image/png": "[encoded data removed]",
      "text/plain": [
       "<Figure size 432x288 with 1 Axes>"
      ]
     },
     "metadata": {
      "needs_background": "light"
     },
     "output_type": "display_data"
    }
   ],
   "source": [
    "learn_lm.recorder.plot()"
   ]
  },
  {
   "cell_type": "code",
   "execution_count": 35,
   "metadata": {},
   "outputs": [],
   "source": [
    "lr = 1e-1"
   ]
  },
  {
   "cell_type": "code",
   "execution_count": 40,
   "metadata": {
    "scrolled": true
   },
   "outputs": [
    {
     "data": {
      "text/html": [
       "<table border=\"1\" class=\"dataframe\">\n",
       "  <thead>\n",
       "    <tr style=\"text-align: left;\">\n",
       "      <th>epoch</th>\n",
       "      <th>train_loss</th>\n",
       "      <th>valid_loss</th>\n",
       "      <th>error_rate</th>\n",
       "      <th>accuracy</th>\n",
       "      <th>perplexity</th>\n",
       "      <th>time</th>\n",
       "    </tr>\n",
       "  </thead>\n",
       "  <tbody>\n",
       "    <tr>\n",
       "      <td>0</td>\n",
       "      <td>7.481511</td>\n",
       "      <td>5.373352</td>\n",
       "      <td>0.885714</td>\n",
       "      <td>0.114286</td>\n",
       "      <td>215.584198</td>\n",
       "      <td>00:31</td>\n",
       "    </tr>\n",
       "    <tr>\n",
       "      <td>1</td>\n",
       "      <td>5.048022</td>\n",
       "      <td>3.441658</td>\n",
       "      <td>0.628571</td>\n",
       "      <td>0.371429</td>\n",
       "      <td>31.238693</td>\n",
       "      <td>00:31</td>\n",
       "    </tr>\n",
       "  </tbody>\n",
       "</table>"
      ],
      "text/plain": [
       "<IPython.core.display.HTML object>"
      ]
     },
     "metadata": {},
     "output_type": "display_data"
    }
   ],
   "source": [
    "learn_lm.fit_one_cycle(2, lr, wd=0.1, moms=(0.8,0.7))"
   ]
  },
  {
   "cell_type": "code",
   "execution_count": 43,
   "metadata": {},
   "outputs": [],
   "source": [
    "learn_lm.save('fine_tune_lm')\n",
    "learn_lm.save_encoder('fine_tune_enc')"
   ]
  },
  {
   "cell_type": "code",
   "execution_count": 45,
   "metadata": {},
   "outputs": [
    {
     "data": {
      "text/html": [],
      "text/plain": [
       "<IPython.core.display.HTML object>"
      ]
     },
     "metadata": {},
     "output_type": "display_data"
    },
    {
     "name": "stdout",
     "output_type": "stream",
     "text": [
      "LR Finder is complete, type {learner_name}.recorder.plot() to see the graph.\n"
     ]
    }
   ],
   "source": [
    "learn_lm.unfreeze()\n",
    "learn_lm.lr_find()"
   ]
  },
  {
   "cell_type": "code",
   "execution_count": 47,
   "metadata": {},
   "outputs": [
    {
     "data": {
      "image/png": "[encoded data removed]",
      "text/plain": [
       "<Figure size 432x288 with 1 Axes>"
      ]
     },
     "metadata": {
      "needs_background": "light"
     },
     "output_type": "display_data"
    }
   ],
   "source": [
    "learn_lm.recorder.plot()"
   ]
  },
  {
   "cell_type": "code",
   "execution_count": 50,
   "metadata": {},
   "outputs": [],
   "source": [
    "lr = 1e-2"
   ]
  },
  {
   "cell_type": "code",
   "execution_count": 52,
   "metadata": {
    "scrolled": false
   },
   "outputs": [
    {
     "data": {
      "text/html": [
       "<table border=\"1\" class=\"dataframe\">\n",
       "  <thead>\n",
       "    <tr style=\"text-align: left;\">\n",
       "      <th>epoch</th>\n",
       "      <th>train_loss</th>\n",
       "      <th>valid_loss</th>\n",
       "      <th>error_rate</th>\n",
       "      <th>accuracy</th>\n",
       "      <th>perplexity</th>\n",
       "      <th>time</th>\n",
       "    </tr>\n",
       "  </thead>\n",
       "  <tbody>\n",
       "    <tr>\n",
       "      <td>0</td>\n",
       "      <td>3.856463</td>\n",
       "      <td>1.908529</td>\n",
       "      <td>0.428571</td>\n",
       "      <td>0.571429</td>\n",
       "      <td>6.743164</td>\n",
       "      <td>00:44</td>\n",
       "    </tr>\n",
       "    <tr>\n",
       "      <td>1</td>\n",
       "      <td>2.789543</td>\n",
       "      <td>0.886697</td>\n",
       "      <td>0.285714</td>\n",
       "      <td>0.714286</td>\n",
       "      <td>2.427099</td>\n",
       "      <td>00:45</td>\n",
       "    </tr>\n",
       "    <tr>\n",
       "      <td>2</td>\n",
       "      <td>2.446919</td>\n",
       "      <td>0.571255</td>\n",
       "      <td>0.185714</td>\n",
       "      <td>0.814286</td>\n",
       "      <td>1.770488</td>\n",
       "      <td>00:45</td>\n",
       "    </tr>\n",
       "    <tr>\n",
       "      <td>3</td>\n",
       "      <td>2.103412</td>\n",
       "      <td>0.380291</td>\n",
       "      <td>0.142857</td>\n",
       "      <td>0.857143</td>\n",
       "      <td>1.462710</td>\n",
       "      <td>00:45</td>\n",
       "    </tr>\n",
       "    <tr>\n",
       "      <td>4</td>\n",
       "      <td>2.071517</td>\n",
       "      <td>0.292240</td>\n",
       "      <td>0.100000</td>\n",
       "      <td>0.900000</td>\n",
       "      <td>1.339425</td>\n",
       "      <td>00:45</td>\n",
       "    </tr>\n",
       "    <tr>\n",
       "      <td>5</td>\n",
       "      <td>1.958919</td>\n",
       "      <td>0.221226</td>\n",
       "      <td>0.071429</td>\n",
       "      <td>0.928571</td>\n",
       "      <td>1.247605</td>\n",
       "      <td>00:45</td>\n",
       "    </tr>\n",
       "    <tr>\n",
       "      <td>6</td>\n",
       "      <td>1.790144</td>\n",
       "      <td>0.197682</td>\n",
       "      <td>0.057143</td>\n",
       "      <td>0.942857</td>\n",
       "      <td>1.218575</td>\n",
       "      <td>00:45</td>\n",
       "    </tr>\n",
       "    <tr>\n",
       "      <td>7</td>\n",
       "      <td>1.622401</td>\n",
       "      <td>0.141947</td>\n",
       "      <td>0.042857</td>\n",
       "      <td>0.957143</td>\n",
       "      <td>1.152516</td>\n",
       "      <td>00:45</td>\n",
       "    </tr>\n",
       "    <tr>\n",
       "      <td>8</td>\n",
       "      <td>1.474178</td>\n",
       "      <td>0.135097</td>\n",
       "      <td>0.028571</td>\n",
       "      <td>0.971429</td>\n",
       "      <td>1.144647</td>\n",
       "      <td>00:45</td>\n",
       "    </tr>\n",
       "    <tr>\n",
       "      <td>9</td>\n",
       "      <td>1.345698</td>\n",
       "      <td>0.137709</td>\n",
       "      <td>0.028571</td>\n",
       "      <td>0.971429</td>\n",
       "      <td>1.147642</td>\n",
       "      <td>00:45</td>\n",
       "    </tr>\n",
       "  </tbody>\n",
       "</table>"
      ],
      "text/plain": [
       "<IPython.core.display.HTML object>"
      ]
     },
     "metadata": {},
     "output_type": "display_data"
    },
    {
     "data": {
      "image/png": "[encoded data removed]",
      "text/plain": [
       "<Figure size 432x288 with 1 Axes>"
      ]
     },
     "metadata": {},
     "output_type": "display_data"
    }
   ],
   "source": [
    "learn_lm.fit_one_cycle(10, lr, wd=0.1, moms=(0.8,0.7), callbacks=[ShowGraph(learn_lm)])"
   ]
  },
  {
   "cell_type": "code",
   "execution_count": 53,
   "metadata": {},
   "outputs": [
    {
     "data": {
      "image/png": "[encoded data removed]",
      "text/plain": [
       "<Figure size 432x288 with 1 Axes>"
      ]
     },
     "metadata": {
      "needs_background": "light"
     },
     "output_type": "display_data"
    }
   ],
   "source": [
    "learn_lm.recorder.plot_lr()"
   ]
  },
  {
   "cell_type": "code",
   "execution_count": 57,
   "metadata": {},
   "outputs": [
    {
     "data": {
      "text/plain": [
       "'O Governador ▁68 ▁da ▁xxmaj ▁companhia ▁de ▁xxmaj ▁desenvolvimento ▁xxmaj ▁habitacional ▁do ▁xxmaj ▁distrito ▁xxmaj ▁federal , ▁2. ▁xxmaj bitschek ▁os ▁conhecimento s ▁de ▁valores ▁do ▁xxmaj ▁contrato ▁no . ▁002 ▁/'"
      ]
     },
     "execution_count": 57,
     "metadata": {},
     "output_type": "execute_result"
    }
   ],
   "source": [
    "learn_lm.predict(\"O Governador\", n_words=30)"
   ]
  },
  {
   "cell_type": "code",
   "execution_count": 54,
   "metadata": {},
   "outputs": [],
   "source": [
    "learn_lm.save('fine_tune_lm')\n",
    "learn_lm.save_encoder('fine_tune_enc')"
   ]
  },
  {
   "cell_type": "markdown",
   "metadata": {},
   "source": [
    "## Fine-tune backward LM"
   ]
  },
  {
   "cell_type": "code",
   "execution_count": 58,
   "metadata": {},
   "outputs": [],
   "source": [
    "data_lm = (TextList.from_df(df_lm,cols='text', processor=[OpenFileProcessor(), SPProcessor(max_vocab_sz=15000)])\n",
    "                           .split_by_rand_pct(0.2, seed=seed)\n",
    "                           .label_for_lm()\n",
    "                           .databunch(bs=bs, backwards=True))"
   ]
  },
  {
   "cell_type": "code",
   "execution_count": 59,
   "metadata": {},
   "outputs": [
    {
     "data": {
      "text/html": [
       "<table border=\"1\" class=\"dataframe\">\n",
       "  <thead>\n",
       "    <tr style=\"text-align: right;\">\n",
       "      <th>idx</th>\n",
       "      <th>text</th>\n",
       "    </tr>\n",
       "  </thead>\n",
       "  <tbody>\n",
       "    <tr>\n",
       "      <td>0</td>\n",
       "      <td>▁do ▁termos ▁nos , comprasnet ▁ ▁do ▁sítio ▁no ada ▁process ▁será ▁pública ▁xxmaj ▁sessão ▁xxmaj ▁a ). 3 ▁97400 : uasg ▁( ▁xxup br . gov . comprasnet . ww ▁w ▁e br . gov . df . tc . ww ▁w : ▁sítios ▁pelos ▁ou 742 ▁3314-2 61) ▁( ▁telefone , ▁tcdf ▁xxup ▁do ▁anexo ▁xxmaj . ▁ed ▁xxmaj ▁do ▁andar ▁xxmaj o ▁2 ▁no ▁localizado , ▁licitação</td>\n",
       "    </tr>\n",
       "    <tr>\n",
       "      <td>1</td>\n",
       "      <td>s ▁regra ▁as ▁e ▁pertinente ▁legislação ▁a ▁com sonância ▁con ▁em ▁mencionadas ▁acima ▁disposições ▁das ância ▁observ ▁fiel ▁da os ▁incumbid ▁servidores ▁mencionados ▁os ▁ficam ▁xxmaj o ▁2 . ▁art ▁xxmaj . financeira - ▁administrativo ▁atividades ▁xxmaj ▁das ▁coordenação ▁xxmaj ▁na ém b ▁tam á ▁atuar ▁fiscalização ▁na ▁atuar ▁de ém ▁al ▁lopes ▁xxmaj s ▁marti ▁xxmaj ▁rodrigues ▁xxmaj ▁paiva ▁xxmaj ▁de ▁thais ▁xxmaj ▁servidora ▁a ▁que ▁sendo , ▁83.359-2</td>\n",
       "    </tr>\n",
       "    <tr>\n",
       "      <td>2</td>\n",
       "      <td>, ▁03 - ▁cnp ▁xxup ▁símbolo ▁xxmaj , ▁política ▁xxmaj ▁natureza ▁xxmaj ▁de ▁cargo ▁xxmaj ▁do , ▁silva ▁xxup ▁da ▁xxup ▁martins ▁xxup ileu rg ▁a ▁xxup , ▁pedido ▁a , ▁exonerar ▁xxup . ▁federal ▁distrito ▁xxmaj ▁do ▁comunicação ▁xxmaj ▁de ▁estado ▁xxmaj ▁de ▁secretaria ▁xxmaj ▁da , ▁estado ▁xxmaj ▁de ▁secretário ▁xxmaj ▁de , -03 ▁cnp ▁xxup ▁símbolo ▁xxmaj , ▁política ▁xxmaj ▁natureza ▁xxmaj ▁de ▁cargo ▁xxmaj ▁do ,</td>\n",
       "    </tr>\n",
       "    <tr>\n",
       "      <td>3</td>\n",
       "      <td>i ▁fil ▁xxup 31, 71 ▁19713 ; ▁moura ▁xxup ▁moreira ▁xxup ▁borges ▁xxup pe i ▁fil ▁xxup 74, 74 ▁19712 ; la ndo ▁espi ▁xxup da e bi ▁ ▁xxup pe i ▁fil ▁xxup 75, 26 10 ▁197 ; cao ▁concei ▁xxup ▁da ▁xxup ▁barbosa ▁xxup pe i ▁fil ▁xxup 83, 11 ▁19712 ; ▁fernandes ▁xxup ▁alencar ▁xxup pe i ▁fil ▁xxup 104, 0 ▁19713 ; ▁cardoso ▁xxup ▁ribeiro ▁xxup</td>\n",
       "    </tr>\n",
       "    <tr>\n",
       "      <td>4</td>\n",
       "      <td>▁xxmaj ▁de ▁comissão ▁xxmaj stituírem ▁con , ▁primeiro ▁do ▁presidência ▁a ▁sob , ▁para -4; 45 ▁215.7 ▁no ▁matrícula , ▁ambiente ▁xxmaj ▁meio ▁xxmaj ▁do ▁atividades ▁xxmaj ▁de ▁analista ▁xxmaj , ▁mesquita ▁xxup ▁de ▁xxup ▁gonçalves ▁xxup o ▁fábi ▁xxup ▁luis ▁xxup ▁e ; x .259- 4 ▁26 ▁xxup ▁no ▁matrícula , ▁urbanas ▁xxmaj ▁atividades ▁xxmaj ▁de ▁fiscal ▁xxmaj ▁auditora ▁xxmaj , ▁mendes ▁xxup ▁moraes ▁xxup ▁de ▁xxup a ▁flávi</td>\n",
       "    </tr>\n",
       "  </tbody>\n",
       "</table>"
      ],
      "text/plain": [
       "<IPython.core.display.HTML object>"
      ]
     },
     "metadata": {},
     "output_type": "display_data"
    }
   ],
   "source": [
    "data_lm.show_batch()"
   ]
  },
  {
   "cell_type": "code",
   "execution_count": 61,
   "metadata": {},
   "outputs": [],
   "source": [
    "data_lm.save('./data/data_lm_back.pkl')"
   ]
  },
  {
   "cell_type": "code",
   "execution_count": 62,
   "metadata": {},
   "outputs": [],
   "source": [
    "learn_lm = language_model_learner(data_lm, AWD_LSTM, config=config, pretrained_fnames=lm_fns3_bwd, drop_mult=1., \n",
    "                                  metrics=[error_rate, accuracy, perplexity])"
   ]
  },
  {
   "cell_type": "code",
   "execution_count": 63,
   "metadata": {},
   "outputs": [
    {
     "data": {
      "text/html": [],
      "text/plain": [
       "<IPython.core.display.HTML object>"
      ]
     },
     "metadata": {},
     "output_type": "display_data"
    },
    {
     "name": "stdout",
     "output_type": "stream",
     "text": [
      "LR Finder is complete, type {learner_name}.recorder.plot() to see the graph.\n"
     ]
    }
   ],
   "source": [
    "learn_lm.lr_find()"
   ]
  },
  {
   "cell_type": "code",
   "execution_count": 64,
   "metadata": {},
   "outputs": [
    {
     "data": {
      "image/png": "[encoded data removed]",
      "text/plain": [
       "<Figure size 432x288 with 1 Axes>"
      ]
     },
     "metadata": {
      "needs_background": "light"
     },
     "output_type": "display_data"
    }
   ],
   "source": [
    "learn_lm.recorder.plot()"
   ]
  },
  {
   "cell_type": "code",
   "execution_count": 65,
   "metadata": {},
   "outputs": [],
   "source": [
    "lr=1e-1"
   ]
  },
  {
   "cell_type": "code",
   "execution_count": 66,
   "metadata": {},
   "outputs": [
    {
     "data": {
      "text/html": [
       "<table border=\"1\" class=\"dataframe\">\n",
       "  <thead>\n",
       "    <tr style=\"text-align: left;\">\n",
       "      <th>epoch</th>\n",
       "      <th>train_loss</th>\n",
       "      <th>valid_loss</th>\n",
       "      <th>error_rate</th>\n",
       "      <th>accuracy</th>\n",
       "      <th>perplexity</th>\n",
       "      <th>time</th>\n",
       "    </tr>\n",
       "  </thead>\n",
       "  <tbody>\n",
       "    <tr>\n",
       "      <td>0</td>\n",
       "      <td>10.990519</td>\n",
       "      <td>6.884626</td>\n",
       "      <td>0.884405</td>\n",
       "      <td>0.115595</td>\n",
       "      <td>977.134705</td>\n",
       "      <td>00:34</td>\n",
       "    </tr>\n",
       "    <tr>\n",
       "      <td>1</td>\n",
       "      <td>5.945786</td>\n",
       "      <td>5.742748</td>\n",
       "      <td>0.852411</td>\n",
       "      <td>0.147589</td>\n",
       "      <td>311.920319</td>\n",
       "      <td>00:34</td>\n",
       "    </tr>\n",
       "  </tbody>\n",
       "</table>"
      ],
      "text/plain": [
       "<IPython.core.display.HTML object>"
      ]
     },
     "metadata": {},
     "output_type": "display_data"
    }
   ],
   "source": [
    "learn_lm.fit_one_cycle(2, lr, wd=0.1, moms=(0.8,0.7))"
   ]
  },
  {
   "cell_type": "code",
   "execution_count": 67,
   "metadata": {},
   "outputs": [],
   "source": [
    "learn_lm.save('fine_tune_lm_bwd')\n",
    "learn_lm.save_encoder('fine_tune_enc_bwd')"
   ]
  },
  {
   "cell_type": "code",
   "execution_count": 68,
   "metadata": {},
   "outputs": [
    {
     "data": {
      "text/html": [],
      "text/plain": [
       "<IPython.core.display.HTML object>"
      ]
     },
     "metadata": {},
     "output_type": "display_data"
    },
    {
     "name": "stdout",
     "output_type": "stream",
     "text": [
      "LR Finder is complete, type {learner_name}.recorder.plot() to see the graph.\n"
     ]
    }
   ],
   "source": [
    "learn_lm.unfreeze()\n",
    "learn_lm.lr_find()"
   ]
  },
  {
   "cell_type": "code",
   "execution_count": 69,
   "metadata": {},
   "outputs": [
    {
     "data": {
      "image/png": "[encoded data removed]",
      "text/plain": [
       "<Figure size 432x288 with 1 Axes>"
      ]
     },
     "metadata": {
      "needs_background": "light"
     },
     "output_type": "display_data"
    }
   ],
   "source": [
    "learn_lm.recorder.plot()"
   ]
  },
  {
   "cell_type": "code",
   "execution_count": 71,
   "metadata": {},
   "outputs": [],
   "source": [
    "lr=1e-2"
   ]
  },
  {
   "cell_type": "code",
   "execution_count": 77,
   "metadata": {},
   "outputs": [
    {
     "data": {
      "text/html": [
       "<table border=\"1\" class=\"dataframe\">\n",
       "  <thead>\n",
       "    <tr style=\"text-align: left;\">\n",
       "      <th>epoch</th>\n",
       "      <th>train_loss</th>\n",
       "      <th>valid_loss</th>\n",
       "      <th>error_rate</th>\n",
       "      <th>accuracy</th>\n",
       "      <th>perplexity</th>\n",
       "      <th>time</th>\n",
       "    </tr>\n",
       "  </thead>\n",
       "  <tbody>\n",
       "    <tr>\n",
       "      <td>0</td>\n",
       "      <td>4.969108</td>\n",
       "      <td>5.090241</td>\n",
       "      <td>0.739782</td>\n",
       "      <td>0.260218</td>\n",
       "      <td>162.429001</td>\n",
       "      <td>00:46</td>\n",
       "    </tr>\n",
       "    <tr>\n",
       "      <td>1</td>\n",
       "      <td>3.325303</td>\n",
       "      <td>3.517292</td>\n",
       "      <td>0.559846</td>\n",
       "      <td>0.440154</td>\n",
       "      <td>33.693081</td>\n",
       "      <td>00:48</td>\n",
       "    </tr>\n",
       "    <tr>\n",
       "      <td>2</td>\n",
       "      <td>2.638740</td>\n",
       "      <td>2.938928</td>\n",
       "      <td>0.493934</td>\n",
       "      <td>0.506066</td>\n",
       "      <td>18.895563</td>\n",
       "      <td>00:49</td>\n",
       "    </tr>\n",
       "    <tr>\n",
       "      <td>3</td>\n",
       "      <td>2.240378</td>\n",
       "      <td>2.697034</td>\n",
       "      <td>0.463016</td>\n",
       "      <td>0.536984</td>\n",
       "      <td>14.835663</td>\n",
       "      <td>00:49</td>\n",
       "    </tr>\n",
       "    <tr>\n",
       "      <td>4</td>\n",
       "      <td>2.018229</td>\n",
       "      <td>2.563291</td>\n",
       "      <td>0.440516</td>\n",
       "      <td>0.559484</td>\n",
       "      <td>12.978454</td>\n",
       "      <td>00:49</td>\n",
       "    </tr>\n",
       "    <tr>\n",
       "      <td>5</td>\n",
       "      <td>1.991729</td>\n",
       "      <td>2.457468</td>\n",
       "      <td>0.422862</td>\n",
       "      <td>0.577138</td>\n",
       "      <td>11.675207</td>\n",
       "      <td>00:49</td>\n",
       "    </tr>\n",
       "    <tr>\n",
       "      <td>6</td>\n",
       "      <td>1.720751</td>\n",
       "      <td>2.354959</td>\n",
       "      <td>0.408532</td>\n",
       "      <td>0.591468</td>\n",
       "      <td>10.537695</td>\n",
       "      <td>00:49</td>\n",
       "    </tr>\n",
       "    <tr>\n",
       "      <td>7</td>\n",
       "      <td>1.680750</td>\n",
       "      <td>2.272086</td>\n",
       "      <td>0.393924</td>\n",
       "      <td>0.606076</td>\n",
       "      <td>9.699610</td>\n",
       "      <td>00:49</td>\n",
       "    </tr>\n",
       "    <tr>\n",
       "      <td>8</td>\n",
       "      <td>1.505812</td>\n",
       "      <td>2.230554</td>\n",
       "      <td>0.384866</td>\n",
       "      <td>0.615134</td>\n",
       "      <td>9.305024</td>\n",
       "      <td>00:49</td>\n",
       "    </tr>\n",
       "    <tr>\n",
       "      <td>9</td>\n",
       "      <td>1.318625</td>\n",
       "      <td>2.226812</td>\n",
       "      <td>0.383393</td>\n",
       "      <td>0.616607</td>\n",
       "      <td>9.270267</td>\n",
       "      <td>00:49</td>\n",
       "    </tr>\n",
       "  </tbody>\n",
       "</table>"
      ],
      "text/plain": [
       "<IPython.core.display.HTML object>"
      ]
     },
     "metadata": {},
     "output_type": "display_data"
    },
    {
     "data": {
      "image/png": "[encoded data removed]",
      "text/plain": [
       "<Figure size 432x288 with 1 Axes>"
      ]
     },
     "metadata": {},
     "output_type": "display_data"
    }
   ],
   "source": [
    "learn_lm.fit_one_cycle(10, lr, wd=0.1, moms=(0.8,0.7), callbacks=[ShowGraph(learn_lm)])"
   ]
  },
  {
   "cell_type": "code",
   "execution_count": 78,
   "metadata": {},
   "outputs": [],
   "source": [
    "learn_lm.save('fine_tune_lm_bwd')\n",
    "learn_lm.save_encoder('fine_tune_enc_bwd')"
   ]
  },
  {
   "cell_type": "markdown",
   "metadata": {},
   "source": [
    "## Train forward classifier"
   ]
  },
  {
   "cell_type": "code",
   "execution_count": 11,
   "metadata": {},
   "outputs": [],
   "source": [
    "bs=8"
   ]
  },
  {
   "cell_type": "code",
   "execution_count": 12,
   "metadata": {},
   "outputs": [],
   "source": [
    "data_lm = load_data(\"data/\", \"data_lm_export.pkl\", bs=bs)"
   ]
  },
  {
   "cell_type": "code",
   "execution_count": 13,
   "metadata": {},
   "outputs": [],
   "source": [
    "data_clas = (TextList.from_df(df_train, vocab=data_lm.vocab, cols='text',\n",
    "                              processor=[OpenFileProcessor(), SPProcessor(max_vocab_sz=15000)])\n",
    "                         .split_by_rand_pct(0.2, seed=seed)\n",
    "                         .label_from_df(cols=0)\n",
    "                         .databunch(bs=bs))"
   ]
  },
  {
   "cell_type": "code",
   "execution_count": 14,
   "metadata": {},
   "outputs": [],
   "source": [
    "data_clas.vocab = data_lm.vocab"
   ]
  },
  {
   "cell_type": "code",
   "execution_count": 15,
   "metadata": {},
   "outputs": [],
   "source": [
    "data_clas.save('data/data_clas_export.pkl')"
   ]
  },
  {
   "cell_type": "code",
   "execution_count": 16,
   "metadata": {},
   "outputs": [
    {
     "data": {
      "text/html": [
       "<table border=\"1\" class=\"dataframe\">\n",
       "  <thead>\n",
       "    <tr style=\"text-align: right;\">\n",
       "      <th>text</th>\n",
       "      <th>target</th>\n",
       "    </tr>\n",
       "  </thead>\n",
       "  <tbody>\n",
       "    <tr>\n",
       "      <td>▁xxbos ▁ o ▁xxup ▁subsecretário ▁xxup ▁de ▁xxup ▁administração ▁xxup ▁geral , ▁xxup ▁da ▁xxup ▁secretaria ▁xxup ▁de ▁xxup ▁estado ▁xxup ▁de ▁xxup ▁se g ura n ▁xxup ▁ ç a ▁xxup ▁pública ▁xxup ▁do ▁xxup ▁distrit o ▁xxup ▁federal , ▁no ▁uso ▁de ▁sua s ▁atribuições ▁prevista s ▁no ▁art . ▁30 ▁do ▁xxmaj ▁decreto ▁32.598 ▁/ ▁2010, ▁e ▁vis ando ▁a ▁instrução ▁dos ▁autos ▁do ▁xxmaj ▁processo ▁no</td>\n",
       "      <td>SECRETARIA DE ESTADO DE SEGURANÇA PÚBLICA</td>\n",
       "    </tr>\n",
       "    <tr>\n",
       "      <td>▁xxbos ▁ o ▁xxup ▁governador ▁xxup ▁do ▁xxup ▁distrit o ▁xxup ▁federal , ▁no ▁uso ▁de ▁sua s ▁atribuições ▁legais , ▁e s - ▁ pe cial mente ▁as ▁prevista s ▁no ▁art . ▁100, ▁incisos ▁xxup ▁xxvi ▁e ▁xxup ▁xxvii , ▁da ▁xxmaj ▁lei ▁xxmaj ▁orgânica ▁do ▁xxmaj ▁distrit o ▁xxmaj ▁federal , ▁xxup ▁resolve : ▁xxup ▁exonerar , ▁por ▁estar ▁sendo ▁nome ada ▁para ▁outro ▁cargo , ▁xxup</td>\n",
       "      <td>PODER EXECUTIVO</td>\n",
       "    </tr>\n",
       "    <tr>\n",
       "      <td>▁xxbos ▁ o ▁xxup ▁governador ▁xxup ▁do ▁xxup ▁distrit o ▁xxup ▁federal , ▁no ▁uso ▁das ▁atribuições ▁que ▁lhe ▁confere ▁ o ▁artigo ▁100, ▁incisos ▁xxup ▁iii , ▁xxup ▁xxvi ▁e ▁xxup ▁xxvii , ▁da ▁xxmaj ▁lei ▁xxmaj ▁orgânica ▁do ▁xxmaj ▁distrit o ▁xxmaj ▁federal , ▁resolve : ▁xxup ▁nomear ▁xxup ▁ s ever ino ▁xxup ▁de ▁xxup ▁sousa ▁xxup ▁oliveira ▁para ▁exercer ▁ o ▁xxmaj ▁cargo ▁de ▁xxmaj ▁natureza</td>\n",
       "      <td>PODER EXECUTIVO</td>\n",
       "    </tr>\n",
       "    <tr>\n",
       "      <td>▁xxbos ▁ o ▁xxup ▁governador ▁xxup ▁do ▁xxup ▁distrit o ▁xxup ▁federal , ▁no ▁uso ▁de ▁sua s ▁atribuições ▁legais , ▁especial mente ▁as ▁prevista s ▁no ▁art . ▁100, ▁incisos ▁xxup ▁xxvi ▁e ▁xxup ▁xxvii , ▁da ▁xxmaj ▁lei ▁xxmaj ▁orgânica ▁do ▁xxmaj ▁distrit o ▁xxmaj ▁federal , ▁resolve : ▁xxup ▁exonerar , ▁por ▁ter ▁sid o ▁nome ada ▁para ▁outro ▁cargo , ▁xxup ▁ iva ni se ▁xxup</td>\n",
       "      <td>PODER EXECUTIVO</td>\n",
       "    </tr>\n",
       "    <tr>\n",
       "      <td>▁xxbos ▁ o ▁xxup ▁governador ▁xxup ▁do ▁xxup ▁distrit o ▁xxup ▁federal , ▁no ▁uso ▁das ▁atribuições ▁que ▁lhe ▁confere ▁ o ▁artigo ▁100, ▁incisos ▁xxup ▁xxvi ▁e ▁xxup ▁xxvii , ▁da ▁xxmaj ▁lei ▁xxmaj ▁orgânica ▁do ▁xxmaj ▁distrit o ▁xxmaj ▁federal , ▁resolve : ▁xxup ▁nomear ▁xxup ▁cami la ▁xxup ▁be a t riz ▁xxup ▁da ▁xxup ▁silva ▁xxup ▁oliveira ▁para ▁exercer ▁ o ▁xxmaj ▁cargo ▁de ▁xxmaj ▁natureza</td>\n",
       "      <td>PODER EXECUTIVO</td>\n",
       "    </tr>\n",
       "  </tbody>\n",
       "</table>"
      ],
      "text/plain": [
       "<IPython.core.display.HTML object>"
      ]
     },
     "metadata": {},
     "output_type": "display_data"
    }
   ],
   "source": [
    "data_clas.show_batch()"
   ]
  },
  {
   "cell_type": "code",
   "execution_count": 17,
   "metadata": {},
   "outputs": [],
   "source": [
    "config = awd_lstm_clas_config.copy()\n",
    "config['qrnn'] = True\n",
    "config['n_hid'] = 1550 #default 1152\n",
    "config['n_layers'] = 4 #default 3"
   ]
  },
  {
   "cell_type": "code",
   "execution_count": 18,
   "metadata": {},
   "outputs": [
    {
     "data": {
      "text/plain": [
       "RNNLearner(data=TextClasDataBunch;\n",
       "\n",
       "Train: LabelList (384 items)\n",
       "x: TextList\n",
       "▁xxbos ▁xxup ▁processo : ▁00150-0001062 9 ▁/ ▁2018- 72 ; ▁xxup ▁nota ▁xxup ▁de ▁xxup ▁empenho ▁xxmaj ▁no ▁0110 0 ▁/ ▁2018; ▁xxup ▁das ▁xxup ▁partes : ▁xxup ▁df ▁/ ▁xxup ▁sec ▁/ ▁xxup ▁fac ▁x ▁xxup ▁santiago ▁xxup ▁machado ▁xxup ▁de lla pe . ▁xxmaj ▁na ▁qual idade ▁de ▁xxmaj ▁beneficiário ▁/ ▁a . ▁xxup ▁espécie : ▁xxmaj ▁termo ▁de ▁xxmaj ▁ajuste ▁xxmaj ▁no ▁7 06 ▁/ ▁2018; ▁xxup ▁modalidade : ▁xxmaj ▁seleção ▁xxmaj ▁pública ; ▁xxup ▁do ▁xxup ▁objeto : ▁ o ▁presente ▁xxmaj ▁termo ▁de ▁xxmaj ▁ajuste ▁tem ▁por ▁objeto ▁a ▁concessão ▁de ▁apoio ▁financeiro ▁pelo ▁xxup ▁fundo ▁xxup ▁de ▁xxup ▁apoio ▁à ▁xxup ▁cultura ▁ao ▁xxmaj ▁programa ▁xxmaj ▁conexão ▁xxmaj ▁cultural ▁xxup ▁df ▁ # ▁xxmaj ▁negócios ▁de ▁interesse ▁do ▁/ ▁a ▁xxmaj ▁beneficiário ▁/ ▁a ▁acima ▁especificado ▁/ ▁a ; ▁xxup ▁do ▁xxup ▁valor : ▁xxup ▁ r $ ▁15.000,00 ▁( quinze ▁mil ▁reais ) ▁que ▁ser á ▁liberado ▁em ▁parcela ▁única ▁e ▁transferido s ▁à ▁conta ▁do ▁/ ▁a ▁xxmaj ▁beneficiário ▁/ ▁a , ▁corre ndo ▁a ▁despesa ▁à ▁conta ▁de ▁dotação ▁orçamentária ▁própria ▁do ▁xxmaj ▁programa ▁de ▁xxmaj ▁trabalho ▁13.392.6219. 291 1.0001 ▁- ▁xxmaj ▁realiza ção ▁de ▁xxmaj ▁ações ▁xxmaj ▁culturais ▁- ▁xxmaj ▁conexão ▁xxup ▁fac ▁- ▁xxmaj ▁fonte ▁100 ▁- ▁xxmaj ▁natureza ▁da ▁despesa : ▁33.90.4 8; ▁xxup ▁da ▁xxup ▁vigência : ▁ o ▁presente ▁termo ▁de ▁ajuste ▁entra rá ▁em ▁vigência ▁a ▁parti r ▁da ▁data ▁de ▁assinatura ▁do ▁beneficiário , ▁com ▁dura ção ▁de ▁8 ▁( oito ) ▁meses , ▁permitid a ▁a ▁prorroga ção ▁na ▁forma ▁da ▁lei ▁vigente ; ▁xxup ▁data ▁xxup ▁da ▁xxup ▁assinatura : ▁20 ▁/ ▁12 ▁/ ▁2018; ▁xxup ▁legislação : ▁xxmaj ▁lei ▁no ▁ 934 ▁/ ▁2017, ▁xxmaj ▁portaria ▁no ▁158 , ▁de ▁20 ▁de ▁sete mbro ▁de ▁2016, ▁ alterada ▁pela ▁xxmaj ▁portaria ▁no ▁106 ▁/ ▁2018; ▁xxmaj ▁pelo ▁xxup ▁fac ▁/ ▁xxup ▁sec ▁/ ▁xxup ▁df : ▁xxmaj ▁luís ▁xxmaj ▁guilherm e ▁xxmaj ▁almeida ▁xxmaj ▁reis ; ▁xxup ▁beneficiário ▁/ ▁xxup ▁a : ▁xxup ▁santiago ▁xxup ▁machado ▁xxup ▁de lla pe .,▁xxbos ▁ o ▁xxup ▁diretor - geral ▁xxup ▁do ▁xxup ▁departamento ▁xxup ▁de ▁xxup ▁trânsito ▁xxup ▁do ▁xxup ▁distrit o ▁xxup ▁federal , ▁no ▁uso ▁da ▁a tribuição ▁prevista ▁no ▁art . ▁3 o , ▁do ▁xxmaj ▁decreto ▁no ▁39.002 , ▁de ▁24 ▁de ▁abr il ▁de ▁2018, ▁que ▁regulamenta ▁os ▁art s . ▁44 ▁e ▁45 ▁da ▁xxmaj ▁lei ▁xxmaj ▁complementar ▁no ▁840 , ▁de ▁23 ▁de ▁dezembro ▁de ▁2011, ▁e ▁conforme ▁xxmaj ▁processo ▁xxup ▁sei ▁no ▁00055-0016 74 90 ▁/ ▁2018- 43 , ▁resolve : ▁xxup ▁designar ▁xxup ▁ja k e line ▁xxup ▁lima ▁xxup ▁dos ▁xxup ▁santos , ▁xxmaj ▁assistente ▁de ▁xxmaj ▁trânsito , ▁matrícula ▁xxup ▁250.4 43 - x , ▁para ▁substituir ▁xxup ▁ana ▁xxup ▁claudi a ▁xxup ▁dantas ▁xxup ▁conceição ▁xxup ▁braga , ▁xxmaj ▁assistente ▁de ▁xxmaj ▁trânsito , ▁matrícula ▁xxup ▁1.1 24 - x , ▁chefe , ▁sím bol o ▁xxup ▁dfg -12 , ▁do ▁xxmaj ▁núcleo ▁de ▁xxmaj ▁registro ▁e ▁xxmaj ▁ex pe di ção ▁de ▁xxmaj ▁documentos ▁de ▁xxmaj ▁habilitação ▁- ▁xxup ▁nur e d , ▁da ▁xxmaj ▁gerência ▁de ▁xxmaj ▁habilitação ▁e ▁xxmaj ▁controle ▁de ▁xxmaj ▁condutor ▁- ▁xxmaj ▁ ger ha b , ▁da ▁xxmaj ▁diretoria ▁de ▁xxmaj ▁controle ▁de ▁xxmaj ▁veículos ▁e ▁xxmaj ▁condutor es ▁- ▁xxmaj ▁dir conv , ▁do ▁xxmaj ▁detran ▁/ ▁xxup ▁df , ▁no ▁período ▁de ▁07 ▁a ▁16 ▁/ ▁01 ▁/ ▁2019, ▁por ▁motivo ▁de ▁férias ▁do ▁titular . ▁xxup ▁fabr ício ▁xxup ▁lima ▁xxup ▁de ▁xxup ▁andrade ▁xxup ▁moura,▁xxbos ▁a ▁xxmaj ▁comissão ▁xxmaj ▁permanente ▁de ▁xxmaj ▁licitação ▁do ▁xxup ▁brb ▁- ▁xxup ▁banco ▁xxup ▁de ▁xxup ▁brasília ▁xxup ▁ s . a . ▁torna ▁público ▁ o ▁julgamento ▁da ▁xxmaj ▁concorrência ▁xxup ▁dipe s ▁/ ▁xxup ▁cplic ▁xxmaj ▁no ▁ 010 ▁/ ▁2018, ▁referente ▁à ▁aliena ção ▁de ▁ 72 ▁( setenta ▁e ▁dois ) ▁imóveis ▁residencia is , ▁comerciais ▁e ▁ r ura is , ▁pertencente s ▁ao ▁xxup ▁brb ▁- ▁xxmaj ▁banco ▁de ▁xxmaj ▁brasília ▁xxup ▁ s . a . , ▁situad os ▁no ▁xxmaj ▁distrit o ▁xxmaj ▁federal ▁e ▁nos ▁estado s ▁de ▁xxmaj ▁goiás , ▁xxmaj ▁minas ▁xxmaj ▁gerais , ▁xxmaj ▁p ia u í ▁e ▁xxmaj ▁são ▁xxmaj ▁paulo . ▁xxmaj ▁item ▁2 : ▁xxmaj ▁licitante ▁xxmaj ▁vencedora : ▁xxmaj ▁e ve line ▁xxmaj ▁martins ▁xxmaj ▁brito , ▁xxmaj ▁valor ▁xxmaj ▁ofer tado : ▁xxup ▁ r $ ▁ 490 . 01 0,00 ▁( quatro cento s ▁e ▁ noventa ▁mil ▁e ▁ dez ▁reais ); ▁xxmaj ▁item ▁3 : ▁xxmaj ▁licitante ▁xxmaj ▁vencedora : ▁xxmaj ▁ ne us a ▁xxmaj ▁a u g us ta ▁xxmaj ▁daniel ▁da ▁xxmaj ▁silva , ▁xxmaj ▁valor ▁xxmaj ▁ofer tado : ▁xxup ▁ r $ ▁3 61 .100,00 ▁( trez entos ▁e ▁ sessenta ▁e ▁um ▁mil ▁e ▁ cem ▁reais ); ▁xxmaj ▁item ▁5 : ▁xxmaj ▁licitante ▁xxmaj ▁vencedor : ▁xxmaj ▁jac k son ▁xxmaj ▁ra o ne ▁xxmaj ▁be ne vi des ▁da ▁xxmaj ▁silva ▁xxmaj ▁ ram a lho , ▁xxmaj ▁valor ▁xxmaj ▁ofer tado : ▁xxup ▁ r $ ▁ 311 . 615 , 50 ▁( trez entos ▁e ▁ o nze ▁mil , ▁seis cento s ▁e ▁ quinze ▁reais ▁e ▁cinquenta ▁centavos ); ▁xxmaj ▁item ▁17 : ▁xxmaj ▁licitante ▁xxmaj ▁vencedor : ▁xxmaj ▁bernard o ▁xxmaj ▁ b ressa n ▁dos ▁xxmaj ▁santos , ▁xxmaj ▁valor ▁xxmaj ▁ofer tado : ▁xxup ▁ r $ ▁18 8 .100,00 ▁( cento ▁e ▁oitenta ▁e ▁oito ▁mil ▁e ▁ cem ▁reais ); ▁xxmaj ▁item ▁23 : ▁xxmaj ▁licitante ▁xxmaj ▁vencedora : ▁xxmaj ▁a line ▁xxmaj ▁queiroz ▁da ▁xxmaj ▁silva ▁xxmaj ▁fernandes , ▁xxmaj ▁valor ▁xxmaj ▁ofer tado : ▁xxup ▁ r $ 22 1.000,00 ▁( duz entos ▁e ▁ vinte ▁e ▁um ▁mil ▁reais ). ▁xxmaj ▁não ▁fora m ▁apresenta das ▁proposta s ▁para ▁os ▁dema is ▁itens . ▁xxmaj ▁os ▁autos ▁do ▁processo ▁encontra m - se ▁com ▁vista ▁ fran que ada ▁no ▁horário ▁de ▁10 ▁às ▁16 ▁horas , ▁no ▁xxup ▁ sb s , ▁xxmaj ▁quadra ▁ 1, ▁xxmaj ▁ b l . ▁xxup ▁e , ▁xxmaj ▁ed . ▁xxmaj ▁brasília , ▁16 o ▁a ndar , ▁xxmaj ▁brasília ▁/ ▁xxup ▁df . ▁xxmaj ▁processo : ▁10 92 ▁/ ▁2018. ▁xxmaj ▁jean ▁xxmaj ▁felip pe ▁xxmaj ▁mazépas ▁- ▁xxmaj ▁presidente ▁da ▁xxup ▁cplic,▁xxbos ▁a ▁xxup ▁administrador a ▁xxup ▁regional ▁xxup ▁de ▁xxup ▁taguatinga ▁xxup ▁do ▁xxup ▁distrit o ▁xxup ▁federal , ▁no ▁uso ▁das ▁atribuições ▁legais ▁que ▁lhe ▁confere ▁ o ▁inciso ▁xxup ▁x xx viii , ▁do ▁artigo ▁42, ▁do ▁xxmaj ▁decreto ▁n ° ▁38.094 , ▁de ▁28 ▁de ▁março ▁de ▁2017, ▁que ▁aprova ▁ o ▁xxmaj ▁regimento ▁xxmaj ▁interno ▁das ▁xxmaj ▁administra ções ▁xxmaj ▁regionais ▁do ▁xxmaj ▁distrit o ▁xxmaj ▁federal ▁e ▁d á ▁outra s ▁providências , ▁resolve : ▁xxmaj ▁art . ▁1 o ▁xxmaj ▁por ▁força ▁da ▁xxmaj ▁ordem ▁de ▁xxmaj ▁serviço ▁no ▁ 211 ▁de ▁13 ▁/ ▁12 ▁/ ▁2018, ▁publicada ▁no ▁xxup ▁dodf ▁no ▁ 241 ▁de ▁20 ▁/ ▁12 ▁/ ▁2018, ▁que ▁nomeou ▁a ▁xxmaj ▁comissão ▁xxmaj ▁permanente ▁de ▁xxmaj ▁sindicância ▁desta ▁xxmaj ▁região ▁xxmaj ▁administrativa ▁/ ▁xxup ▁raii i , ▁determino : ▁xxmaj ▁art . ▁2° ▁xxmaj ▁substituir ▁ o ▁servidor ▁xxup ▁ad é ci o ▁xxup ▁henrique ▁xxup ▁alves , ▁xxmaj ▁analista ▁em ▁xxmaj ▁políticas ▁xxmaj ▁públicas ▁e ▁xxmaj ▁gestão ▁xxmaj ▁governamental , ▁matrícula ▁no ▁ 91 33 16 ▁pelo ▁servidor ▁xxup ▁thiago ▁xxup ▁alexandr e ▁xxup ▁valad ão ▁xxup ▁de ▁xxup ▁brito , ▁xxmaj ▁gestor ▁de ▁xxmaj ▁políticas ▁xxmaj ▁públicas ▁e ▁xxmaj ▁gestão ▁xxmaj ▁governamental , ▁matrícula ▁175.194-8 . ▁xxmaj ▁art . ▁3 o ▁xxmaj ▁substituir ▁a ▁servidora ▁xxup ▁lúcia ▁xxup ▁maria ▁xxup ▁gonçalves ▁xxup ▁carvalho , ▁xxmaj ▁analista ▁em ▁xxmaj ▁políticas ▁xxmaj ▁públicas ▁e ▁xxmaj ▁gestão ▁xxmaj ▁governamental , ▁xxmaj ▁matrícula ▁no ▁15 89 30 x ▁pela ▁servidora ▁xxup ▁ma gna ▁xxup ▁aparecida ▁xxup ▁da ▁xxup ▁mota , ▁xxmaj ▁técnica ▁em ▁xxmaj ▁políticas ▁xxmaj ▁públicas ▁e ▁xxmaj ▁gestão ▁xxmaj ▁governamental , ▁matrícula ▁30.659-2 . ▁xxmaj ▁art . 4 o ▁a ▁xxmaj ▁comissão ▁xxmaj ▁permanente ▁xxmaj ▁sindicância ▁fica ▁ assim ▁composta : ▁xxup ▁mart a ▁xxup ▁rocha ▁xxup ▁do ▁xxup ▁esp ir ito ▁xxup ▁santo , ▁xxmaj ▁gestor a ▁de ▁xxmaj ▁políticas ▁xxmaj ▁públicas ▁e ▁xxmaj ▁gestão ▁xxmaj ▁governamental , ▁matrícula ▁17 4.6 70- 7 ▁( presidente ), ▁xxup ▁thiago ▁xxup ▁alexandr e ▁xxup ▁valad ão ▁xxup ▁de ▁xxup ▁brito , ▁xxmaj ▁gestor ▁de ▁xxmaj ▁políticas ▁xxmaj ▁públicas ▁e ▁xxmaj ▁gestão ▁xxmaj ▁governamental , ▁matrícula ▁175.194-8 ▁( membro ); ▁xxup ▁gil son ▁xxup ▁josé ▁xxup ▁de ▁xxup ▁oliveira , ▁xxmaj ▁analista ▁em ▁xxmaj ▁políticas ▁xxmaj ▁públicas ▁e ▁xxmaj ▁gestão ▁xxmaj ▁governamental , ▁matrícula ▁30.4 64 - 6 ▁( ▁ membro ) ▁e ▁xxup ▁ma gna ▁xxup ▁aparecida ▁xxup ▁da ▁xxup ▁mota , ▁xxmaj ▁técnica ▁em ▁xxmaj ▁políticas ▁xxmaj ▁públicas ▁e ▁xxmaj ▁gestão ▁xxmaj ▁governamental , ▁matrícula ▁30.659-2 ▁( s u p le nte ), ▁para ▁atuar em ▁nos ▁xxmaj ▁processo s ▁de ▁xxmaj ▁sindicância ▁desta ▁xxmaj ▁administração ▁xxmaj ▁regional . ▁xxmaj ▁art . ▁5 o ▁xxmaj ▁esta ▁xxmaj ▁ordem ▁de ▁xxmaj ▁serviço ▁entra ▁em ▁vigor ▁na ▁data ▁de ▁sua ▁publicação . ▁xxmaj ▁art . ▁6 o ▁xxmaj ▁revoga m - se ▁as ▁disposições ▁em ▁cont rário . ▁xxup ▁karol y ne ▁xxup ▁guimarães ▁xxup ▁dos ▁xxup ▁santos ▁xxup ▁borges,▁xxbos ▁xxup ▁licitação ▁xxup ▁ fe cha da ▁xxup ▁ l f ▁no ▁001 ▁/ ▁2019- caesb , ▁xxup ▁processo ▁no ▁09 2. 00 43 19 ▁/ ▁2018, ▁xxup ▁objeto : ▁xxmaj ▁implantação ▁do ▁xxmaj ▁sistema ▁de ▁xxmaj ▁a bast ecimento ▁de ▁xxmaj ▁água ▁do ▁xxmaj ▁complexo ▁xxmaj ▁penitenciário ▁da ▁xxmaj ▁pa pu da ▁( p o ç os , ▁xxmaj ▁a dutora ▁de ▁xxmaj ▁água ▁xxmaj ▁ br ut a , ▁xxmaj ▁a dutora ▁de ▁xxmaj ▁água ▁xxmaj ▁trata da ▁e ▁xxmaj ▁unidade ▁de ▁xxmaj ▁tratamento ▁xxmaj ▁simplificad o ▁- ▁xxup ▁ ut s ), ▁xxmaj ▁são ▁xxmaj ▁sebastião ▁/ ▁xxup ▁df . ▁xxup ▁critério ▁xxup ▁de ▁xxup ▁julgamento : ▁xxmaj ▁menor ▁xxmaj ▁preço . ▁xxup ▁abertura ▁xxup ▁da ▁xxup ▁licitação : ▁05 ▁/ ▁02 ▁/ ▁2019 ▁às ▁09 ▁horas . ▁xxup ▁valor ▁xxup ▁estimado : ▁xxup ▁ r $ ▁4 . 262 . 83 6, 27 . ▁xxup ▁dotação ▁xxup ▁orçamentária : ▁xxup ▁uo : ▁2 2.2 02 ; ▁xxup ▁programa ▁xxup ▁de ▁xxup ▁trabalho : ▁xxmaj ▁projeto ▁/ ▁xxmaj ▁sub título ▁15 .512.6210. 18 27 ▁/ ▁0001 , ▁xxup ▁natureza ▁xxup ▁da ▁xxup ▁despesa : ▁44.90.5 1, ▁xxmaj ▁código ▁de ▁xxmaj ▁aplicação ▁22 . 20 2. 013 .041- 4 . ▁xxup ▁fonte ▁xxup ▁de ▁xxup ▁recurso : ▁xxup ▁sef ▁/ ▁xxup ▁ gdf ▁/ ▁xxup ▁caesb - c dp , ▁xxmaj ▁código ▁21 . 20 3. 4 00 - 010 - 0 . ▁xxup ▁prazo ▁xxup ▁de ▁xxup ▁execução : ▁21 0 ▁dias ▁consecutivos . ▁xxup ▁prazo ▁xxup ▁de ▁xxup ▁vigência : ▁3 15 ▁dias ▁consecutivos . ▁a ▁parti r ▁do ▁dia ▁11 ▁/ ▁01 ▁/ ▁2019, ▁ o ▁edital ▁e ▁seus ▁anexos ▁poder ão ▁ser ▁encontra dos ▁no ▁site ▁w ww . caesb . df . gov . br ▁- ▁menu ▁xxmaj ▁licitações , ▁em ▁atendimento ▁à ▁xxmaj ▁lei ▁xxmaj ▁distrital ▁no ▁ 5. 45 3 ▁/ ▁2015. ▁xxmaj ▁outra s ▁informações ▁poder ão ▁ser ▁obtida s ▁por ▁meio ▁do ▁telefone ▁(61) ▁3213-7122 ▁e ▁do ▁e - mail ▁ li ci ta cao @ caesb . df . gov . br . ▁xxup ▁maur icio ▁xxup ▁k en j i ▁xxup ▁su em o ri ▁xxmaj ▁presidente ▁da ▁xxmaj ▁comissão\n",
       "y: CategoryList\n",
       "SECRETARIA DE ESTADO DE CULTURA,SECRETARIA DE ESTADO DE SEGURANÇA PÚBLICA,SECRETARIA DE ESTADO DE FAZENDA, PLANEJAMENTO, ORÇAMENTO E GESTÃO,CASA CIVIL,SECRETARIA DE ESTADO DE OBRAS E INFRAESTRUTURA\n",
       "Path: .;\n",
       "\n",
       "Valid: LabelList (96 items)\n",
       "x: TextList\n",
       "▁xxbos ▁ o ▁xxup ▁diretor ▁xxup ▁do ▁xxup ▁hospital ▁xxup ▁ mater no ▁xxup ▁infantil ▁xxup ▁de ▁xxup ▁brasília , ▁xxup ▁da ▁xxup ▁secretaria ▁xxup ▁de ▁xxup ▁estado ▁xxup ▁de ▁xxup ▁saúde ▁xxup ▁do ▁xxup ▁distrit o ▁xxup ▁federal , ▁no ▁uso ▁das ▁atribuições ▁que ▁lhe ▁confere ▁ o ▁xxmaj ▁artigo ▁13 o ▁da ▁xxmaj ▁portaria ▁n ° ▁ 708, ▁de ▁03 ▁de ▁ju lho ▁de ▁2018, ▁publicada ▁no ▁xxup ▁dodf ▁n ° ▁125, ▁de ▁04 ▁de ▁ju lho ▁de ▁2018, ▁resolve : ▁xxup ▁ tornar ▁xxup ▁sem ▁xxup ▁efeito ▁a ▁xxup ▁averb ação ▁xxup ▁de ▁xxup ▁tempo ▁xxup ▁de ▁xxup ▁serviço ▁de ▁xxup ▁sandr a ▁xxup ▁hel en a ▁xxup ▁ramos ▁xxup ▁lopes , ▁17 2.5 20 -3, ▁xxup ▁enfermeir o , ▁xxup ▁ h m ib , ▁de ▁ 9. 32 6 ▁dias , ▁ou ▁seja , ▁25 ▁anos , ▁6 ▁meses ▁e ▁21 ▁dias , ▁conforme ▁certidão ▁expedida ▁pelo ▁xxup ▁inss , ▁nos ▁período s ▁de ▁1 o ▁de ▁sete mbro ▁de ▁1984 ▁a ▁1 o ▁de ▁fev ereir o ▁de ▁1985 , ▁08 ▁de ▁abr il ▁de ▁1985 ▁a ▁24 ▁de ▁maio ▁de ▁1985 , ▁03 ▁de ▁junho ▁de ▁1985 ▁a ▁1 o ▁de ▁novembro ▁de ▁1985 , ▁04 ▁de ▁novembro ▁de ▁1985 ▁a ▁25 ▁de ▁março ▁de ▁1986, ▁02 ▁de ▁abr il ▁de ▁1986 ▁a ▁20 ▁de ▁dezembro ▁de ▁1986, ▁13 ▁de ▁abr il ▁de ▁19 87 ▁a ▁26 ▁de ▁fev ereir o ▁de ▁1988 , ▁15 ▁de ▁março ▁de ▁1988 ▁a ▁13 ▁de ▁sete mbro ▁de ▁1988 , ▁17 ▁de ▁ag osto ▁de ▁1988 ▁a ▁02 ▁de ▁março ▁de ▁199 0, ▁15 ▁de ▁maio ▁de ▁1995 ▁a ▁10 ▁de ▁outubro ▁de ▁2002, ▁15 ▁de ▁junho ▁de ▁1998 ▁a ▁12 ▁de ▁novembro ▁de ▁2008 ▁e ▁02 ▁de ▁abr il ▁de ▁19 90 ▁a ▁18 ▁de ▁dezembro ▁de ▁ 1992 , ▁contados ▁ s o mente ▁para ▁fin s ▁de ▁aposentadoria , ▁conforme ▁processo ▁no ▁00060- 00 15 28 14 ▁/ ▁2017- 61, ▁constante ▁na ▁xxmaj ▁ordem ▁de ▁xxmaj ▁serviço ▁no ▁ 34, ▁de ▁24 ▁de ▁sete mbro ▁de ▁2018, ▁publicada ▁no ▁xxup ▁dodf ▁no ▁ 64 , ▁de ▁26 ▁/ ▁09 ▁/ ▁2018, ▁pág . ▁02 , ▁xxmaj ▁edição ▁xxmaj ▁extra . ▁xxup ▁retificar , ▁na ▁xxmaj ▁ordem ▁de ▁xxmaj ▁serviço ▁de ▁25 ▁de ▁ag osto ▁de ▁2017, ▁publicada ▁no ▁xxup ▁dodf ▁no ▁199 , ▁de ▁17 ▁/ ▁10 ▁/ ▁2017, ▁pág . ▁28 , ▁ o ▁ato ▁que ▁averb ou ▁ o ▁tempo ▁de ▁serviço ▁de ▁contribuição ▁de ▁xxup ▁ mar í lia ▁xxup ▁bonfim ▁e ▁xxup ▁silva ▁xxup ▁de ▁xxup ▁moraes , ▁matrícula ▁no ▁13 1. 7 95 -4, ▁xxmaj ▁médico , ▁para ▁ faz er ▁consta r , ▁xxup ▁onde ▁xxup ▁se ▁xxup ▁lê : ▁\"... 54 9 ▁dias , ▁ou ▁seja , ▁1 ▁ano , ▁6 ▁meses ▁e ▁4 ▁dias , ▁conforme ▁certidão ▁expedida ▁pelo ▁xxup ▁inss , ▁no ▁período ▁de ▁31 ▁de ▁janeiro ▁de ▁1986 ▁a ▁02 ▁de ▁ag osto ▁de ▁198 7, ▁contados ▁ s o mente ▁para ▁fin s ▁de ▁aposentadoria ...\", ▁xxup ▁leia - se : ▁\"... 54 9 ▁dias , ▁ou ▁seja , ▁1 ▁ano , ▁6 ▁meses ▁e ▁4 ▁dias , ▁conforme ▁certidão ▁expedida ▁pelo ▁xxmaj ▁govern o ▁do ▁xxmaj ▁estado ▁do ▁xxmaj ▁ mara n h ão , ▁no ▁período ▁de ▁31 ▁de ▁janeiro ▁de ▁1986 ▁a ▁02 ▁de ▁ag osto ▁de ▁198 7, ▁contados ▁ s o mente ▁para ▁fin s ▁de ▁aposentadoria ...\". ▁xxup ▁retificar , ▁na ▁xxmaj ▁ordem ▁de ▁xxmaj ▁serviço ▁de ▁22 ▁de ▁novembro ▁de ▁2002, ▁publicada ▁no ▁xxup ▁dodf ▁no ▁ 227 , ▁de ▁26 ▁/ ▁11 ▁/ ▁2002, ▁pág . ▁ 58 , ▁ o ▁ato ▁que ▁averb ou ▁ o ▁tempo ▁de ▁serviço ▁de ▁contribuição ▁de ▁xxup ▁i raci ▁xxup ▁ qui r ina ▁xxup ▁da ▁xxup ▁silva , ▁matrícula ▁no ▁14 2. 4 40 -8, ▁xxmaj ▁técnico ▁de ▁xxmaj ▁laboratório ▁- ▁xxmaj ▁hematologia ▁e ▁xxmaj ▁ h em o terapia , ▁para ▁ faz er ▁consta r , ▁xxup ▁onde ▁xxup ▁se ▁xxup ▁lê : ▁\"... a ver ba : ▁ 5. 7 05 ▁dias , ▁ou ▁seja , ▁15 ▁anos , ▁7 ▁meses ▁e ▁20 ▁dias , ▁conforme ▁xxmaj ▁certidão ▁expedida ▁pelo ▁xxup ▁inss , ▁nos ▁período s ▁de ▁21 - 3-8 3 ▁a ▁8 - 1- 96 , ▁ 1- 9 - 86 ▁a ▁27 - 10- 86 , ▁28 - 10- 86 ▁a ▁6 -12 - 86 , ▁ 10- 2 - 87 ▁a ▁ 1- 9 - 90 , ▁ 3-9 - ▁ 90 ▁a ▁5 - 9 - 94 , ▁ 6-9 - ▁ 94 ▁a ▁ 1- 7 - 95 , ▁2 6-9 - 95 ▁a ▁25 -12 - 95 , ▁12 - 6-9 9 ▁a ▁ 1- 7 - 99 , ▁ 1- 3 -200 0 ▁a ▁ 10- 10 -200 0 ▁e ▁26 - 2 - 96 ▁a ▁25 - 5 - 96 , ▁contados ▁ s o mente ▁para ▁fin s ▁de ▁aposentadoria ...\", ▁xxup ▁leia - se : ▁\"... a ver ba : ▁ 5. 7 05 ▁dias , ▁ou ▁seja , ▁15 ▁anos , ▁7 ▁meses ▁e ▁20 ▁dias , ▁conforme ▁xxmaj ▁certidão ▁expedida ▁pelo ▁xxup ▁inss , ▁nos ▁período s ▁de ▁21 ▁/ ▁03 ▁/ ▁ 83 ▁a ▁08 ▁/ ▁01 ▁/ ▁86 , ▁01 ▁/ ▁09 ▁/ ▁86 ▁a ▁27 ▁/ ▁10 ▁/ ▁86 , ▁28 ▁/ ▁10 ▁/ ▁86 ▁a ▁06 ▁/ ▁12 ▁/ ▁86 , ▁10 ▁/ ▁02 ▁/ ▁ 87 ▁a ▁01 ▁/ ▁09 ▁/ ▁90, ▁03 ▁/ ▁09 ▁/ ▁ 90 ▁a ▁05 ▁/ ▁09 ▁/ ▁ 94 , ▁06 ▁/ ▁09 ▁/ ▁ 94 ▁a ▁01 ▁/ ▁07 ▁/ ▁ 95 , ▁26 ▁/ ▁09 ▁/ ▁ 95 ▁a ▁25 ▁/ ▁12 ▁/ ▁ 95 , ▁26 ▁/ ▁02 ▁/ ▁ 96 ▁a ▁25 ▁/ ▁05 ▁/ ▁ 96 , ▁12 ▁/ ▁06 ▁/ ▁ 96 ▁a ▁01 ▁/ ▁07 ▁/ ▁ 99 ▁e ▁01 ▁/ ▁03 ▁/ ▁ 00 ▁a ▁10 ▁/ ▁10 ▁/ ▁ 00 , ▁contados ▁ s o mente ▁para ▁fin s ▁de ▁aposentadoria ...\" ▁xxup ▁retificar , ▁na ▁xxmaj ▁ordem ▁de ▁xxmaj ▁serviço ▁de ▁22 ▁de ▁sete mbro ▁de ▁2014, ▁publicada ▁no ▁xxup ▁dodf ▁no ▁20 7, ▁de ▁02 ▁/ ▁10 ▁/ ▁2014, ▁pág . ▁ 65, ▁ o ▁ato ▁que ▁averb ou ▁ o ▁tempo ▁de ▁serviço ▁de ▁contribuição ▁de ▁xxup ▁denis e ▁xxup ▁gomes ▁xxup ▁cidade , ▁matrícula ▁no ▁xxup ▁1 30 . 4 78 - x , ▁xxmaj ▁médica ▁- ▁xxmaj ▁gi ne cologi a ▁e ▁xxmaj ▁ o b s te t r í cia , ▁para ▁ faz er ▁consta r , ▁xxup ▁onde ▁xxup ▁se ▁xxup ▁lê : ▁\"... a ver ba : ▁1. 48 6 ▁dias , ▁ou ▁seja , ▁4 ▁anos ▁e ▁26 ▁dias , ▁conforme ▁certidão ▁expedida ▁pelo ▁xxup ▁inss , ▁nos ▁período s ▁de ▁13 ▁de ▁fev ereir o ▁de ▁1986 ▁a ▁31 ▁de ▁dezembro ▁de ▁1986, ▁1 o ▁de ▁janeiro ▁de ▁19 87 ▁a ▁07 ▁de ▁junho ▁de ▁1988 , ▁08 ▁de ▁junho ▁de ▁1988 ▁a ▁31 ▁de ▁dezembro ▁de ▁19 89 ▁e ▁1 o ▁de ▁janeiro ▁de ▁19 90 ▁a ▁09 ▁de ▁março ▁de ▁199 0, ▁contados ▁ s o mente ▁para ▁fin s ▁de ▁aposentadoria , ▁conforme ▁xxmaj ▁processo ▁27 2.000. 4 58 ▁/ ▁2014 ▁xxrep ▁4 ▁ . ▁ \", ▁xxup ▁leia - se : ▁\"... a ver ba ▁1.1 64 ▁dias , ▁ou ▁seja , ▁3 ▁anos , ▁02 ▁meses ▁e ▁09 ▁dias , ▁conforme ▁certidão ▁expedida ▁pelo ▁xxup ▁inss , ▁nos ▁período s ▁de ▁1 o ▁de ▁janeiro ▁de ▁19 87 ▁a ▁07 ▁de ▁junho ▁de ▁1988 , ▁08 ▁de ▁junho ▁de ▁1988 ▁a ▁31 ▁de ▁dezembro ▁de ▁19 89 ▁e ▁1 o ▁de ▁janeiro ▁de ▁19 90 ▁a ▁09 ▁de ▁março ▁de ▁199 0, ▁contados ▁ s o mente ▁para ▁fin s ▁de ▁aposentadoria , ▁conforme ▁xxmaj ▁processo ▁27 2.000. 4 58 ▁/ ▁2014 ...\" ▁xxup ▁retificar , ▁na ▁xxmaj ▁ordem ▁de ▁xxmaj ▁serviço ▁de ▁25 ▁de ▁ag osto ▁de ▁2017, ▁publicada ▁no ▁xxup ▁dodf ▁no ▁199 , ▁de ▁17 ▁/ ▁10 ▁/ ▁2017, ▁pág . ▁28 , ▁ o ▁ato ▁que ▁averb ou ▁ o ▁tempo ▁de ▁serviço ▁de ▁contribuição ▁de ▁xxup ▁di va ▁xxup ▁ter es inha ▁xxup ▁pres te s , ▁matrícula ▁no ▁17 2. 72 4 -9, ▁xxmaj ▁enfermeir o , ▁para ▁ faz er ▁consta r , ▁xxup ▁onde ▁xxup ▁se ▁xxup ▁lê : ▁\"... a ver ba : ▁5.2 11 ▁dias , ▁ou ▁seja , ▁14 ▁anos , ▁3 ▁meses ▁e ▁11 ▁dias , ▁conforme ▁certidão ▁expedida ▁pelo ▁xxup ▁inss , ▁nos ▁período s ▁de ▁04 ▁de ▁janeiro ▁de ▁198 2 ▁a ▁02 ▁de ▁abr il ▁de ▁1984 , ▁1 o ▁de ▁maio ▁de ▁1984 ▁a ▁10 ▁de ▁junho ▁de ▁1985 , ▁09 ▁de ▁ju lho ▁de ▁1985 ▁a ▁29 ▁de ▁janeiro ▁de ▁198 7, ▁13 ▁de ▁sete mbro ▁de ▁1998 ▁a ▁08 ▁de ▁dezembro ▁de ▁1998 , ▁09 ▁de ▁ju lho ▁de ▁1999 ▁a ▁07 ▁de ▁dezembro ▁de ▁20 01 , ▁04 ▁de ▁fev ereir o ▁de ▁2002 ▁a ▁19 ▁de ▁junho ▁de ▁ 2004, ▁20 ▁de ▁junho ▁de ▁2004 ▁a ▁1 o ▁de ▁junho ▁de ▁2005 ▁e ▁03 ▁de ▁outubro ▁de ▁2005 ▁a ▁14 ▁de ▁fev ereir o ▁de ▁2009, ▁contados ▁ s o mente ▁para ▁fin s ▁de ▁aposentadoria , ▁conforme ▁processo ▁no ▁27 2. 000 7 16 ▁/ ▁2012 ...\", ▁xxup ▁leia - se : ▁\"... a ver ba ▁ 5. 11 7 ▁dias , ▁ou ▁seja , ▁14 ▁anos , ▁3 ▁meses ▁e ▁11 ▁dias , ▁conforme ▁certidão ▁expedida ▁pelo ▁xxup ▁inss , ▁nos ▁período s ▁de ▁04 ▁de ▁janeiro ▁de ▁198 2 ▁a ▁02 ▁de ▁abr il ▁de ▁1984 , ▁1 o ▁de ▁maio ▁de ▁1984 ▁a ▁10 ▁de ▁junho ▁de ▁1985 , ▁09 ▁de ▁ju lho ▁de ▁1985 ▁a ▁29 ▁de ▁janeiro ▁de ▁198 7, ▁13 ▁de ▁sete mbro ▁de ▁1998 ▁a ▁08 ▁de ▁dezembro ▁de ▁1998 , ▁09 ▁de ▁ju lho ▁de ▁1999 ▁a ▁07 ▁de ▁dezembro ▁de ▁20 01 , ▁04 ▁de ▁fev ereir o ▁de ▁2002 ▁a ▁19 ▁de ▁junho ▁de ▁ 2004, ▁20 ▁de ▁junho ▁de ▁2004 ▁a ▁1 o ▁de ▁junho ▁de ▁2005 ▁e ▁03 ▁de ▁outubro ▁de ▁2005 ▁a ▁12 ▁de ▁novembro ▁de ▁2008, ▁contados ▁ s o mente ▁para ▁fin s ▁de ▁aposentadoria , ▁conforme ▁processo ▁no ▁27 2. 000 7 16 ▁/ ▁2012 ...\" ▁xxup ▁retificar , ▁na ▁xxmaj ▁ordem ▁de ▁xxmaj ▁serviço ▁de ▁11 ▁de ▁março ▁de ▁2016, ▁publicada ▁no ▁xxup ▁dodf ▁no ▁ 57, ▁de ▁24 ▁/ ▁03 ▁/ ▁2016, ▁pág . ▁ 54 ▁/ ▁ 55 , ▁ o ▁ato ▁que ▁averb ou ▁ o ▁tempo ▁de ▁serviço ▁de ▁contribuição ▁de ▁xxup ▁maria ▁xxup ▁da ▁xxup ▁ g ra ç a ▁xxup ▁ ca mar go ▁xxup ▁n eves , ▁matrícula ▁no ▁xxup ▁135 . 2 58 - x , ▁xxmaj ▁enfermeir o , ▁para ▁ faz er ▁consta r , ▁xxup ▁onde ▁xxup ▁se ▁xxup ▁lê : ▁\"... a ver ba : ▁1. 80 4 ▁dias , ▁ou ▁seja , ▁4 ▁anos , ▁11 ▁meses ▁e ▁14 ▁dias , ▁conforme ▁certidão ▁expedida ▁pelo ▁xxup ▁inss , ▁nos ▁período s ▁de ▁09 ▁de ▁fev ereir o ▁de ▁19 87 ▁a ▁1 o ▁de ▁ju lho ▁de ▁198 9, ▁09 ▁de ▁ag osto ▁de ▁19 90 ▁a ▁14 ▁de ▁fev ereir o ▁de ▁1991, ▁1 o ▁de ▁sete mbro ▁de ▁ 1992 ▁a ▁02 ▁de ▁novembro ▁de ▁ 1992 , ▁03 ▁de ▁novembro ▁de ▁ 1992 ▁a ▁10 ▁de ▁novembro ▁de ▁1993 , ▁06 ▁de ▁janeiro ▁de ▁1994 ▁a ▁15 ▁de ▁ju lho ▁de ▁1994 ▁e ▁1 o ▁de ▁sete mbro ▁de ▁1994 ▁a ▁22 ▁de ▁dezembro ▁de ▁1994 , ▁contados ▁ s o mente ▁para ▁fin s ▁de ▁aposentadoria , ▁conforme ▁processo ▁no ▁27 2.000. 0 67 ▁/ ▁2016 ...\", ▁xxup ▁leia - se : ▁\"... a ver ba ▁1 .658 ▁dias , ▁ou ▁seja , ▁4 ▁anos , ▁06 ▁meses ▁e ▁18 ▁dias , ▁conforme ▁certidão ▁expedida ▁pelo ▁xxup ▁inss , ▁nos ▁período s ▁de ▁09 ▁de ▁fev ereir o ▁de ▁19 87 ▁a ▁1 o ▁de ▁ju lho ▁de ▁198 9, ▁09 ▁de ▁ag osto ▁de ▁19 90 ▁a ▁10 ▁de ▁dezembro ▁de ▁199 0, ▁20 ▁de ▁novembro ▁de ▁ 1992 ▁a ▁10 ▁de ▁novembro ▁de ▁1993 , ▁06 ▁de ▁janeiro ▁de ▁1994 ▁a ▁15 ▁de ▁ju lho ▁de ▁1994 ▁e ▁1 o ▁de ▁sete mbro ▁de ▁1994 ▁a ▁22 ▁de ▁dezembro ▁de ▁1994 , ▁contados ▁ s o mente ▁para ▁fin s ▁de ▁aposentadoria , ▁conforme ▁processo ▁no ▁27 2.000. 0 67 ▁/ ▁2016 ...\" ▁xxup ▁retificar , ▁na ▁xxmaj ▁ordem ▁de ▁xxmaj ▁serviço ▁de ▁1 o ▁de ▁dezembro ▁de ▁2009, ▁publicada ▁no ▁xxup ▁dodf ▁no ▁23 4, ▁de ▁04 ▁/ ▁12 ▁/ ▁2009, ▁pág . ▁ 39, ▁ o ▁ato ▁que ▁averb ou ▁ o ▁tempo ▁de ▁serviço ▁de ▁contribuição ▁de ▁xxup ▁da vi na ▁xxup ▁bar ba lho , ▁matrícula ▁no ▁14 2. 86 1 -6, ▁xxmaj ▁auxiliar ▁de ▁xxmaj ▁enfermagem , ▁para ▁ faz er ▁consta r , ▁xxup ▁onde ▁xxup ▁se ▁xxup ▁lê : ▁\"... a ver ba : ▁4.1 64 ▁dias , ▁ou ▁seja , ▁11 ▁anos , ▁4 ▁meses ▁e ▁29 ▁dias , ▁conforme ▁certidão ▁expedida ▁pelo ▁xxup ▁inss , ▁nos ▁período s ▁de ▁15 ▁de ▁sete mbro ▁de ▁19 76 ▁a ▁15 ▁de ▁janeiro ▁de ▁19 77 , ▁1 o ▁de ▁junho ▁de ▁198 2 ▁a ▁31 ▁de ▁março ▁de ▁1984 , ▁1 o ▁de ▁março ▁de ▁1986 ▁a ▁1 o ▁de ▁abr il ▁de ▁1986, ▁02 ▁de ▁ag osto ▁de ▁1986 ▁a ▁30 ▁de ▁junho ▁de ▁1988 , ▁1 o ▁de ▁novembro ▁de ▁1997 ▁a ▁16 ▁de ▁março ▁de ▁1998 , ▁18 ▁de ▁março ▁de ▁1998 ▁a ▁19 ▁de ▁março ▁de ▁2002, ▁1 o ▁de ▁janeiro ▁de ▁19 96 ▁a ▁30 ▁de ▁sete mbro ▁de ▁1997 ▁e ▁1 o ▁de ▁fev ereir o ▁de ▁19 77 ▁a ▁09 ▁de ▁março ▁de ▁19 78, ▁conforme ▁processo ▁27 2.000. 9 25 ▁/ ▁2009 ...\", ▁xxup ▁leia - ▁xxup ▁se : ▁\"... a ver ba : ▁3.3 10 ▁dias , ▁ou ▁seja , ▁9 ▁anos ▁e ▁25 ▁dias , ▁conforme ▁certidão ▁expedida ▁pelo ▁xxup ▁inss , ▁nos ▁período s ▁de ▁15 ▁de ▁sete mbro ▁de ▁19 76 ▁a ▁15 ▁de ▁janeiro ▁de ▁19 77 , ▁1 o ▁de ▁junho ▁de ▁198 2 ▁a ▁31 ▁de ▁março ▁de ▁1984 , ▁1 o ▁de ▁março ▁de ▁1986 ▁a ▁1 o ▁de ▁abr il ▁de ▁1986, ▁02 ▁de ▁ag osto ▁de ▁1986 ▁a ▁30 ▁de ▁junho ▁de ▁1988 , ▁1 o ▁de ▁novembro ▁de ▁1997 ▁a ▁16 ▁de ▁março ▁de ▁1998 , ▁19 ▁de ▁ju lho ▁de ▁20 00 ▁a ▁19 ▁de ▁março ▁de ▁2002, ▁1 o ▁de ▁janeiro ▁de ▁19 96 ▁a ▁30 ▁de ▁sete mbro ▁de ▁1997 ▁e ▁1 o ▁de ▁fev ereir o ▁de ▁19 77 ▁a ▁09 ▁de ▁março ▁de ▁19 78, ▁contados ▁ s o mente ▁para ▁fin s ▁de ▁aposentadoria , ▁conforme ▁processo ▁27 2.000. 9 25 ▁/ ▁2009 ...\" ▁xxup ▁ averbar ▁ o ▁xxup ▁tempo ▁xxup ▁de ▁xxup ▁serviço ▁e ▁/ ▁xxup ▁ou ▁xxup ▁contribuição , ▁prestado ▁pelo ▁( a ) ▁servidor ▁( a ) ▁abaixo ▁indicado ▁( a ), ▁ao ▁órgão ▁e ▁entidade ▁a ▁seguir ▁mencionada ▁( no me , ▁matrícula , ▁cargo , ▁lotação ): ▁xxup ▁maria ▁xxup ▁de ▁xxup ▁ naz ar é ▁xxup ▁lima ▁xxup ▁mil h o m em , ▁14 3. 86 3-8 , ▁xxup ▁médico ▁xxup ▁ pe dia t ra , ▁lotad a ▁no ▁xxup ▁ h m ib ▁/ ▁xxup ▁ses , ▁1. 7 37 ▁dias , ▁ou ▁seja , ▁4 ▁anos , ▁9 ▁meses ▁e ▁7 ▁dias , ▁prestado s ▁à ▁xxmaj ▁secretaria ▁de ▁xxmaj ▁saúde ▁do ▁xxmaj ▁distrit o ▁xxmaj ▁federal , ▁no ▁período ▁de ▁14 ▁de ▁março ▁de ▁1997 ▁a ▁27 ▁de ▁dezembro ▁de ▁20 01 , ▁contados ▁para ▁fin s ▁de ▁adi cional ▁e ▁aposentadoria , ▁conforme ▁processo ▁no ▁27 2.000. 1 89 ▁/ ▁2017. ▁xxup ▁fabr í cia ▁xxup ▁silv ino ▁xxup ▁machado , ▁1.68 2. 65 2 -3, ▁xxup ▁enfermeir o , ▁lotad a ▁no ▁xxup ▁ h m ib ▁/ ▁xxup ▁ses , ▁ 5. 59 3 ▁dias , ▁ou ▁seja , ▁15 ▁anos , ▁3 ▁meses ▁e ▁28 ▁dias , ▁prestado s ▁à ▁xxmaj ▁secretaria ▁de ▁xxmaj ▁saúde ▁do ▁xxmaj ▁distrit o ▁xxmaj ▁federal , ▁no ▁período ▁de ▁10 ▁de ▁sete mbro ▁de ▁2002 ▁a ▁01 ▁de ▁janeiro ▁de ▁2018, ▁contados ▁para ▁fin s ▁de ▁adi cional ▁e ▁aposentadoria , ▁conforme ▁processo ▁no ▁00060- 00 19 91 61 ▁/ ▁2018- 65 . ▁xxup ▁geral do ▁xxup ▁de ▁xxup ▁oliveira ▁xxup ▁gomes , ▁12 3.62 8 -8, ▁xxup ▁aosd - enfermagem ▁xxup ▁( e x t int o ▁xxup ▁vaga r ), ▁lotado ▁no ▁xxup ▁ h m ib ▁/ ▁xxup ▁ses , ▁8 80 ▁dias , ▁ou ▁seja , ▁2 ▁anos , ▁5 ▁meses , ▁conforme ▁certidão ▁expedida ▁pelo ▁xxup ▁inss , ▁no ▁período ▁de ▁1 o ▁de ▁fev ereir o ▁de ▁19 81 ▁a ▁30 ▁de ▁junho ▁de ▁198 3, ▁contados ▁ s o mente ▁para ▁fin s ▁de ▁aposentadoria , ▁conforme ▁processo ▁no ▁00060- 000 90 262 ▁/ ▁2017- 91 . ▁xxup ▁da vi na ▁xxup ▁bar ba lho , ▁matrícula ▁no ▁14 2. 86 1 -6, ▁xxup ▁auxiliar ▁xxup ▁de ▁xxup ▁enfermagem , ▁lotad a ▁no ▁xxup ▁ h m ib ▁/ ▁xxup ▁ses , ▁8 54 ▁dias , ▁ou ▁seja , ▁2 ▁anos , ▁4 ▁meses ▁e ▁4 ▁dias , ▁conforme ▁certidão ▁expedida ▁pelo ▁xxup ▁inss , ▁prestado s ▁à ▁xxmaj ▁secretaria ▁de ▁xxmaj ▁saúde ▁do ▁xxmaj ▁distrit o ▁xxmaj ▁federal , ▁no ▁período ▁de ▁18 ▁de ▁março ▁de ▁1998 ▁a ▁18 ▁de ▁ju lho ▁de ▁20 00 , ▁contados ▁ s o mente ▁para ▁fin s ▁de ▁aposentadoria , ▁conforme ▁processo ▁no ▁27 2.000. 9 25 ▁/ ▁2009 . ▁xxup ▁ li u ▁xxup ▁camp el lo ▁xxup ▁por to , ▁01 31 48 58 , ▁xxup ▁medico ▁- ▁xxup ▁ ne on atologia , ▁lotado ▁no ▁xxup ▁ h m ib ▁/ ▁xxup ▁ses , ▁8 51 ▁dias , ▁ou ▁seja , ▁2 ▁anos , ▁4 ▁meses ▁e ▁um ▁dia , ▁conforme ▁certidão ▁expedida ▁pelo ▁xxup ▁inss , ▁no ▁período ▁de ▁1 o ▁de ▁fev ereir o ▁de ▁1988 ▁a ▁31 ▁de ▁maio ▁de ▁199 0, ▁contados ▁ s o mente ▁para ▁fin s ▁de ▁aposentadoria , ▁conforme ▁processo ▁no ▁00060-004 41 23 1 ▁/ ▁2018- 93 . ▁xxup ▁ter es a ▁xxup ▁paula ▁xxup ▁vieira ▁xxup ▁ ar du ini , ▁13 2. 00 9 -2, ▁xxup ▁ o do n t ó lo go , ▁lotad a ▁no ▁xxup ▁ h m ib ▁/ ▁xxup ▁ses , ▁1. 276 ▁dias , ▁ou ▁seja , ▁3 ▁anos , ▁6 ▁meses ▁e ▁1 ▁dia , ▁conforme ▁certidão ▁expedida ▁pelo ▁xxup ▁inss , ▁nos ▁período s ▁de ▁1 o ▁de ▁maio ▁de ▁1988 ▁a ▁11 ▁de ▁março ▁de ▁199 0, ▁12 ▁de ▁março ▁de ▁19 90 ▁a ▁30 ▁de ▁dezembro ▁de ▁19 90 ▁e ▁de ▁1 o ▁de ▁outubro ▁de ▁19 91 ▁a ▁28 ▁de ▁ju lho ▁de ▁ 1992 , ▁contados ▁ s o mente ▁para ▁fin s ▁de ▁aposentadoria , ▁conforme ▁processo ▁no ▁00060- 000 55 052 ▁/ ▁2017- ▁ 56 . ▁xxup ▁rod o l f o ▁xxup ▁alves ▁xxup ▁paulo ▁xxup ▁de ▁xxup ▁souza,▁xxbos ▁xxmaj ▁processo : ▁04 8-0 004 03 ▁/ ▁2011. ▁xxmaj ▁partes : ▁xxup ▁df ▁xxup ▁c gdf ▁x ▁xxmaj ▁união ▁xxup ▁ cg u . ▁xxmaj ▁objeto : ▁altera r ▁a ▁de no min ação ▁do ▁ par t í ci pe ▁que ▁representa ▁a ▁xxmaj ▁união ▁e ▁prorroga r ▁a ▁vigência ▁do ▁xxmaj ▁acordo ▁de ▁xxmaj ▁coopera ção ▁xxmaj ▁técnica ▁por ▁mai s ▁ 42 ▁( quar enta ▁e ▁dois ) ▁meses . ▁xxmaj ▁vigência : ▁ 42 ▁( quar enta ▁e ▁dois ) ▁meses , ▁de ▁01 .01.2019 ▁a ▁30 .06. 2 022. ▁xxmaj ▁assinatura : ▁28 .12.2018 . ▁xxmaj ▁signatários : ▁pela ▁xxup ▁c gdf , ▁xxmaj ▁ lia ne ▁xxmaj ▁vasconcelos ▁de ▁xxmaj ▁araújo ▁xxmaj ▁an go ti , ▁na ▁qual idade ▁de ▁controlador a - geral ▁xxmaj ▁ad j u n ta , ▁e ▁pela ▁xxmaj ▁união , ▁xxmaj ▁josé ▁xxmaj ▁marcel o ▁xxmaj ▁castro ▁de ▁xxmaj ▁carvalho , ▁na ▁qual idade ▁de ▁secretário - e x ec u tivo ▁do ▁xxmaj ▁minist ério ▁da ▁xxmaj ▁trans par ência , ▁xxmaj ▁fiscalização ▁e ▁ controladoria - geral ▁da ▁xxmaj ▁união .,▁xxbos ▁ o ▁xxup ▁superintendente ▁xxup ▁administrativo ▁e ▁xxup ▁financeiro , ▁xxup ▁do ▁xxup ▁departamento ▁xxup ▁de ▁xxup ▁estradas ▁xxup ▁de ▁xxup ▁rodagem ▁xxup ▁do ▁xxup ▁distrit o ▁xxup ▁federal , ▁no ▁uso ▁das ▁atribuições ▁que ▁lhe ▁confere ▁a ▁xxmaj ▁instrução ▁no ▁01, ▁de ▁16 ▁de ▁abr il ▁de ▁2018, ▁publicada ▁no ▁xxmaj ▁diário ▁xxmaj ▁oficial ▁no ▁ 74 ▁de ▁18 ▁de ▁abr il ▁de ▁2018 ▁e ▁em ▁conform idade ▁com ▁os ▁termos ▁dos ▁artigos ▁44 ▁e ▁45, ▁da ▁xxmaj ▁lei ▁xxmaj ▁complementar ▁n . o ▁840 , ▁de ▁23 ▁de ▁dezembro ▁de ▁2011 ▁e ▁do ▁xxmaj ▁decreto ▁no ▁39.002 , ▁de ▁24 ▁de ▁abr il ▁de ▁2018, ▁resolve : ▁xxup ▁designar ▁xxup ▁i lmo ▁xxup ▁monteiro ▁xxup ▁braga , ▁matrícula ▁no ▁93 55 4 -9, ▁para ▁substituir ▁a ▁servidora ▁xxup ▁silv ia ▁xxup ▁maria ▁xxup ▁vieira ▁xxup ▁pal a , ▁matrícula ▁no ▁22 1 471 -7, ▁no ▁cargo ▁de ▁xxmaj ▁chefe ▁do ▁xxmaj ▁núcleo ▁de ▁xxmaj ▁ almoxarifado ▁na ▁xxmaj ▁ superintendência s ▁xxmaj ▁administrativa ▁e ▁xxmaj ▁ financeira ▁do ▁xxmaj ▁departamento ▁de ▁xxmaj ▁estradas ▁de ▁xxmaj ▁rodagem ▁do ▁xxmaj ▁distrit o ▁xxmaj ▁federal , ▁xxmaj ▁sím bol o ▁xxup ▁dfg -12 , ▁no ▁período ▁de ▁14 ▁/ ▁01 ▁/ ▁2019 ▁a ▁25 ▁/ ▁01 ▁/ ▁2019, ▁por ▁motivo ▁de ▁férias ▁regulamenta res ▁da ▁titular ▁do ▁cargo . ▁xxup ▁carlos ▁xxup ▁geral do ▁xxup ▁caix eta ▁xxup ▁cruz,▁xxbos ▁ o ▁xxup ▁subsecretário ▁xxup ▁de ▁xxup ▁administração ▁xxup ▁geral , ▁xxup ▁da ▁xxup ▁secretaria ▁xxup ▁de ▁xxup ▁estado ▁xxup ▁de ▁xxup ▁ agri cultura , ▁xxup ▁a bast ecimento ▁e ▁xxup ▁desenvolvimento ▁xxup ▁rural ▁xxup ▁do ▁xxup ▁distrit o ▁xxup ▁federal , ▁no ▁uso ▁das ▁atribuições ▁que ▁lhe ▁confere ▁a ▁xxmaj ▁portaria ▁n ° ▁ 48, ▁de ▁16 ▁de ▁junho ▁de ▁2016, ▁resolve : ▁xxup ▁conceder ▁ abon o ▁de ▁perman ência ▁ao ▁servidor ▁xxup ▁de l fi no ▁xxup ▁bernard es ▁xxup ▁rabelo , ▁matrícula ▁100 65 2 - 5 ▁no ▁cargo ▁de ▁xxmaj ▁técnico ▁de ▁xxmaj ▁desenvolvimento ▁e ▁xxmaj ▁fiscalização ▁xxmaj ▁agropecuári a , ▁xxmaj ▁classe ▁xxmaj ▁especial , ▁xxmaj ▁padrão ▁xxup ▁v , ▁do ▁xxmaj ▁quadro ▁de ▁xxmaj ▁pessoal ▁do ▁xxmaj ▁distrit o ▁xxmaj ▁federal , ▁de ▁acordo ▁com ▁ o ▁xxmaj ▁art . ▁2° , ▁§ ▁5 o ▁da ▁xxup ▁e c ▁no ▁41 ▁/ ▁03, ▁com ▁ampar o ▁na ▁xxmaj ▁decisão ▁n ° ▁20 ▁/ ▁2012 ▁- ▁xxup ▁tcdf ▁combinado ▁com ▁ o ▁artigo ▁114 ▁da ▁xxmaj ▁lei ▁xxmaj ▁complementar ▁no ▁840 ▁/ ▁2011, ▁por ▁ter ▁com p le tado ▁os ▁requisit os ▁para ▁aposentadoria ▁volu ntária ▁e ▁ o p tado ▁por ▁permane cer ▁em ▁atividade , ▁a ▁contar ▁de ▁03 ▁/ ▁01 ▁/ ▁2019. ▁xxmaj ▁processo ▁xxup ▁sei ▁xxmaj ▁no ▁ 000 70- ▁xxrep ▁6 ▁0 ▁12 ▁/ ▁2019- 00 . ▁xxup ▁rossi ▁xxup ▁da ▁xxup ▁silva ▁xxup ▁araújo,▁xxbos ▁xxup ▁processo : ▁00150-0001061 8 ▁/ ▁2018- 92 ; ▁xxup ▁nota ▁xxup ▁de ▁xxup ▁empenho ▁xxmaj ▁no ▁0110 7 ▁/ ▁2018; ▁xxup ▁das ▁xxup ▁partes : ▁xxup ▁df ▁/ ▁xxup ▁sec ▁/ ▁xxup ▁fac ▁x ▁xxup ▁ ali ce ▁xxup ▁ lan a ri ▁xxup ▁santos ▁xxup ▁freire . ▁xxmaj ▁na ▁qual idade ▁de ▁xxmaj ▁beneficiário ▁/ ▁a . ▁xxup ▁espécie : ▁xxmaj ▁termo ▁de ▁xxmaj ▁ajuste ▁xxmaj ▁no ▁7 13 ▁/ ▁2018; ▁xxup ▁modalidade : ▁xxmaj ▁seleção ▁xxmaj ▁pública ; ▁xxup ▁do ▁xxup ▁objeto : ▁ o ▁presente ▁xxmaj ▁termo ▁de ▁xxmaj ▁ajuste ▁tem ▁por ▁objeto ▁a ▁concessão ▁de ▁apoio ▁financeiro ▁pelo ▁xxup ▁fundo ▁xxup ▁de ▁xxup ▁apoio ▁à ▁xxup ▁cultura ▁ao ▁xxmaj ▁programa ▁xxmaj ▁conexão ▁xxmaj ▁cultural ▁xxup ▁df ▁ # ▁xxmaj ▁negócios ▁de ▁interesse ▁do ▁/ ▁a ▁xxmaj ▁beneficiário ▁/ ▁a ▁acima ▁especificado ▁/ ▁a ; ▁xxup ▁do ▁xxup ▁valor : ▁xxup ▁ r $ ▁15.000,00 ▁( quinze ▁mil ▁reais ) ▁que ▁ser á ▁liberado ▁em ▁parcela ▁única ▁e ▁transferido s ▁à ▁conta ▁do ▁/ ▁a ▁xxmaj ▁beneficiário ▁/ ▁a , ▁corre ndo ▁a ▁despesa ▁à ▁conta ▁de ▁dotação ▁orçamentária ▁própria ▁do ▁xxmaj ▁programa ▁de ▁xxmaj ▁trabalho ▁13.392.6219. 291 1.0001 ▁- ▁xxmaj ▁realiza ção ▁de ▁xxmaj ▁ações ▁xxmaj ▁culturais ▁- ▁xxmaj ▁conexão ▁xxup ▁fac ▁- ▁xxmaj ▁fonte ▁100 ▁- ▁xxmaj ▁natureza ▁da ▁despesa : ▁33.90.4 8; ▁xxup ▁da ▁xxup ▁vigência : ▁ o ▁presente ▁termo ▁de ▁ajuste ▁entra rá ▁em ▁vigência ▁a ▁parti r ▁da ▁data ▁de ▁assinatura ▁do ▁beneficiário , ▁com ▁dura ção ▁de ▁8 ▁( oito ) ▁meses , ▁permitid a ▁a ▁prorroga ção ▁na ▁forma ▁da ▁lei ▁vigente ; ▁xxup ▁data ▁xxup ▁da ▁xxup ▁assinatura : ▁20 ▁/ ▁12 ▁/ ▁2018; ▁xxup ▁legislação : ▁xxmaj ▁lei ▁no ▁ 934 ▁/ ▁2017, ▁xxmaj ▁portaria ▁no ▁158 , ▁de ▁20 ▁de ▁sete mbro ▁de ▁2016, ▁ alterada ▁pela ▁xxmaj ▁portaria ▁no ▁106 ▁/ ▁2018; ▁xxmaj ▁pelo ▁xxup ▁fac ▁/ ▁xxup ▁sec ▁/ ▁xxup ▁df : ▁xxmaj ▁luís ▁xxmaj ▁guilherm e ▁xxmaj ▁almeida ▁xxmaj ▁reis ; ▁xxup ▁beneficiário ▁/ ▁xxup ▁a : ▁xxup ▁ ali ce ▁xxup ▁ lan a ri ▁xxup ▁santos ▁xxup ▁freire .\n",
       "y: CategoryList\n",
       "SECRETARIA DE ESTADO DE SAÚDE,CONTROLADORIA GERAL DO DISTRITO FEDERAL,SECRETARIA DE ESTADO DE TRANSPORTE E MOBILIDADE,SECRETARIA DE ESTADO DE AGRICULTURA, ABASTECIMENTO E DESENVOLVIMENTO RURAL,SECRETARIA DE ESTADO DE CULTURA\n",
       "Path: .;\n",
       "\n",
       "Test: None, model=SequentialRNN(\n",
       "  (0): MultiBatchEncoder(\n",
       "    (module): AWD_LSTM(\n",
       "      (encoder): Embedding(8552, 400, padding_idx=1)\n",
       "      (encoder_dp): EmbeddingDropout(\n",
       "        (emb): Embedding(8552, 400, padding_idx=1)\n",
       "      )\n",
       "      (rnns): ModuleList(\n",
       "        (0): QRNN(\n",
       "          (layers): ModuleList(\n",
       "            (0): QRNNLayer(\n",
       "              (linear): WeightDropout(\n",
       "                (module): Linear(in_features=800, out_features=4650, bias=True)\n",
       "              )\n",
       "            )\n",
       "          )\n",
       "        )\n",
       "        (1): QRNN(\n",
       "          (layers): ModuleList(\n",
       "            (0): QRNNLayer(\n",
       "              (linear): WeightDropout(\n",
       "                (module): Linear(in_features=1550, out_features=4650, bias=True)\n",
       "              )\n",
       "            )\n",
       "          )\n",
       "        )\n",
       "        (2): QRNN(\n",
       "          (layers): ModuleList(\n",
       "            (0): QRNNLayer(\n",
       "              (linear): WeightDropout(\n",
       "                (module): Linear(in_features=1550, out_features=4650, bias=True)\n",
       "              )\n",
       "            )\n",
       "          )\n",
       "        )\n",
       "        (3): QRNN(\n",
       "          (layers): ModuleList(\n",
       "            (0): QRNNLayer(\n",
       "              (linear): WeightDropout(\n",
       "                (module): Linear(in_features=1550, out_features=1200, bias=True)\n",
       "              )\n",
       "            )\n",
       "          )\n",
       "        )\n",
       "      )\n",
       "      (input_dp): RNNDropout()\n",
       "      (hidden_dps): ModuleList(\n",
       "        (0): RNNDropout()\n",
       "        (1): RNNDropout()\n",
       "        (2): RNNDropout()\n",
       "        (3): RNNDropout()\n",
       "      )\n",
       "    )\n",
       "  )\n",
       "  (1): PoolingLinearClassifier(\n",
       "    (layers): Sequential(\n",
       "      (0): BatchNorm1d(1200, eps=1e-05, momentum=0.1, affine=True, track_running_stats=True)\n",
       "      (1): Dropout(p=0.12)\n",
       "      (2): Linear(in_features=1200, out_features=50, bias=True)\n",
       "      (3): ReLU(inplace)\n",
       "      (4): BatchNorm1d(50, eps=1e-05, momentum=0.1, affine=True, track_running_stats=True)\n",
       "      (5): Dropout(p=0.1)\n",
       "      (6): Linear(in_features=50, out_features=19, bias=True)\n",
       "    )\n",
       "  )\n",
       "), opt_func=functools.partial(<class 'torch.optim.adam.Adam'>, betas=(0.9, 0.99)), loss_func=FlattenedLoss of CrossEntropyLoss(), metrics=[<function accuracy at 0x7f5f70e413b0>, FBeta(average='weighted', pos_label=1, eps=1e-09, beta=1)], true_wd=True, bn_wd=True, wd=0.01, train_bn=True, path=PosixPath('.'), model_dir='models', callback_fns=[functools.partial(<class 'fastai.basic_train.Recorder'>, add_time=True, silent=False)], callbacks=[RNNTrainer\n",
       "learn: ...\n",
       "alpha: 2.0\n",
       "beta: 1.0], layer_groups=[Sequential(\n",
       "  (0): Embedding(8552, 400, padding_idx=1)\n",
       "  (1): EmbeddingDropout(\n",
       "    (emb): Embedding(8552, 400, padding_idx=1)\n",
       "  )\n",
       "), Sequential(\n",
       "  (0): QRNN(\n",
       "    (layers): ModuleList(\n",
       "      (0): QRNNLayer(\n",
       "        (linear): WeightDropout(\n",
       "          (module): Linear(in_features=800, out_features=4650, bias=True)\n",
       "        )\n",
       "      )\n",
       "    )\n",
       "  )\n",
       "  (1): RNNDropout()\n",
       "), Sequential(\n",
       "  (0): QRNN(\n",
       "    (layers): ModuleList(\n",
       "      (0): QRNNLayer(\n",
       "        (linear): WeightDropout(\n",
       "          (module): Linear(in_features=1550, out_features=4650, bias=True)\n",
       "        )\n",
       "      )\n",
       "    )\n",
       "  )\n",
       "  (1): RNNDropout()\n",
       "), Sequential(\n",
       "  (0): QRNN(\n",
       "    (layers): ModuleList(\n",
       "      (0): QRNNLayer(\n",
       "        (linear): WeightDropout(\n",
       "          (module): Linear(in_features=1550, out_features=4650, bias=True)\n",
       "        )\n",
       "      )\n",
       "    )\n",
       "  )\n",
       "  (1): RNNDropout()\n",
       "), Sequential(\n",
       "  (0): QRNN(\n",
       "    (layers): ModuleList(\n",
       "      (0): QRNNLayer(\n",
       "        (linear): WeightDropout(\n",
       "          (module): Linear(in_features=1550, out_features=1200, bias=True)\n",
       "        )\n",
       "      )\n",
       "    )\n",
       "  )\n",
       "  (1): RNNDropout()\n",
       "), Sequential(\n",
       "  (0): PoolingLinearClassifier(\n",
       "    (layers): Sequential(\n",
       "      (0): BatchNorm1d(1200, eps=1e-05, momentum=0.1, affine=True, track_running_stats=True)\n",
       "      (1): Dropout(p=0.12)\n",
       "      (2): Linear(in_features=1200, out_features=50, bias=True)\n",
       "      (3): ReLU(inplace)\n",
       "      (4): BatchNorm1d(50, eps=1e-05, momentum=0.1, affine=True, track_running_stats=True)\n",
       "      (5): Dropout(p=0.1)\n",
       "      (6): Linear(in_features=50, out_features=19, bias=True)\n",
       "    )\n",
       "  )\n",
       ")], add_time=True, silent=False, cb_fns_registered=False)"
      ]
     },
     "execution_count": 18,
     "metadata": {},
     "output_type": "execute_result"
    }
   ],
   "source": [
    "learn_c = text_classifier_learner(data_clas, AWD_LSTM, config=config, pretrained=False, drop_mult=0.3, \n",
    "                                  metrics=[accuracy,f1])\n",
    "learn_c.load_encoder(\"fine_tune_enc\")"
   ]
  },
  {
   "cell_type": "code",
   "execution_count": 19,
   "metadata": {},
   "outputs": [
    {
     "data": {
      "text/html": [],
      "text/plain": [
       "<IPython.core.display.HTML object>"
      ]
     },
     "metadata": {},
     "output_type": "display_data"
    },
    {
     "name": "stdout",
     "output_type": "stream",
     "text": [
      "LR Finder is complete, type {learner_name}.recorder.plot() to see the graph.\n"
     ]
    }
   ],
   "source": [
    "learn_c.freeze()\n",
    "learn_c.lr_find()"
   ]
  },
  {
   "cell_type": "code",
   "execution_count": 20,
   "metadata": {
    "scrolled": true
   },
   "outputs": [
    {
     "data": {
      "image/png": "[encoded data removed]",
      "text/plain": [
       "<Figure size 432x288 with 1 Axes>"
      ]
     },
     "metadata": {
      "needs_background": "light"
     },
     "output_type": "display_data"
    }
   ],
   "source": [
    "learn_c.recorder.plot()"
   ]
  },
  {
   "cell_type": "code",
   "execution_count": 21,
   "metadata": {},
   "outputs": [],
   "source": [
    "lr=3e-2"
   ]
  },
  {
   "cell_type": "code",
   "execution_count": 22,
   "metadata": {},
   "outputs": [
    {
     "data": {
      "text/html": [
       "<table border=\"1\" class=\"dataframe\">\n",
       "  <thead>\n",
       "    <tr style=\"text-align: left;\">\n",
       "      <th>epoch</th>\n",
       "      <th>train_loss</th>\n",
       "      <th>valid_loss</th>\n",
       "      <th>accuracy</th>\n",
       "      <th>f_beta</th>\n",
       "      <th>time</th>\n",
       "    </tr>\n",
       "  </thead>\n",
       "  <tbody>\n",
       "    <tr>\n",
       "      <td>0</td>\n",
       "      <td>2.331916</td>\n",
       "      <td>2.107567</td>\n",
       "      <td>0.437500</td>\n",
       "      <td>0.410825</td>\n",
       "      <td>00:08</td>\n",
       "    </tr>\n",
       "    <tr>\n",
       "      <td>1</td>\n",
       "      <td>1.729283</td>\n",
       "      <td>1.561135</td>\n",
       "      <td>0.552083</td>\n",
       "      <td>0.478157</td>\n",
       "      <td>00:08</td>\n",
       "    </tr>\n",
       "    <tr>\n",
       "      <td>2</td>\n",
       "      <td>1.260132</td>\n",
       "      <td>1.433524</td>\n",
       "      <td>0.666667</td>\n",
       "      <td>0.657327</td>\n",
       "      <td>00:08</td>\n",
       "    </tr>\n",
       "    <tr>\n",
       "      <td>3</td>\n",
       "      <td>0.824202</td>\n",
       "      <td>1.256387</td>\n",
       "      <td>0.708333</td>\n",
       "      <td>0.694376</td>\n",
       "      <td>00:08</td>\n",
       "    </tr>\n",
       "  </tbody>\n",
       "</table>"
      ],
      "text/plain": [
       "<IPython.core.display.HTML object>"
      ]
     },
     "metadata": {},
     "output_type": "display_data"
    }
   ],
   "source": [
    "learn_c.fit_one_cycle(4, lr, wd=0.1, moms=(0.8,0.7))"
   ]
  },
  {
   "cell_type": "code",
   "execution_count": 23,
   "metadata": {},
   "outputs": [],
   "source": [
    "learn_c.save(\"clf_fwd\")"
   ]
  },
  {
   "cell_type": "code",
   "execution_count": 29,
   "metadata": {},
   "outputs": [
    {
     "data": {
      "text/html": [
       "<table border=\"1\" class=\"dataframe\">\n",
       "  <thead>\n",
       "    <tr style=\"text-align: left;\">\n",
       "      <th>epoch</th>\n",
       "      <th>train_loss</th>\n",
       "      <th>valid_loss</th>\n",
       "      <th>accuracy</th>\n",
       "      <th>f_beta</th>\n",
       "      <th>time</th>\n",
       "    </tr>\n",
       "  </thead>\n",
       "  <tbody>\n",
       "    <tr>\n",
       "      <td>0</td>\n",
       "      <td>1.274042</td>\n",
       "      <td>1.336352</td>\n",
       "      <td>0.625000</td>\n",
       "      <td>0.588598</td>\n",
       "      <td>00:09</td>\n",
       "    </tr>\n",
       "    <tr>\n",
       "      <td>1</td>\n",
       "      <td>0.922084</td>\n",
       "      <td>1.164855</td>\n",
       "      <td>0.677083</td>\n",
       "      <td>0.665012</td>\n",
       "      <td>00:09</td>\n",
       "    </tr>\n",
       "  </tbody>\n",
       "</table>"
      ],
      "text/plain": [
       "<IPython.core.display.HTML object>"
      ]
     },
     "metadata": {},
     "output_type": "display_data"
    }
   ],
   "source": [
    "learn_c.freeze_to(-2)\n",
    "learn_c.fit_one_cycle(2, slice(lr/(2.6**4),lr), wd=0.1, moms=(0.8,0.7))"
   ]
  },
  {
   "cell_type": "code",
   "execution_count": 30,
   "metadata": {},
   "outputs": [],
   "source": [
    "learn_c.save(\"clf_fwd\")"
   ]
  },
  {
   "cell_type": "code",
   "execution_count": 31,
   "metadata": {},
   "outputs": [
    {
     "data": {
      "text/html": [
       "<table border=\"1\" class=\"dataframe\">\n",
       "  <thead>\n",
       "    <tr style=\"text-align: left;\">\n",
       "      <th>epoch</th>\n",
       "      <th>train_loss</th>\n",
       "      <th>valid_loss</th>\n",
       "      <th>accuracy</th>\n",
       "      <th>f_beta</th>\n",
       "      <th>time</th>\n",
       "    </tr>\n",
       "  </thead>\n",
       "  <tbody>\n",
       "    <tr>\n",
       "      <td>0</td>\n",
       "      <td>0.484988</td>\n",
       "      <td>1.017535</td>\n",
       "      <td>0.750000</td>\n",
       "      <td>0.727987</td>\n",
       "      <td>00:11</td>\n",
       "    </tr>\n",
       "    <tr>\n",
       "      <td>1</td>\n",
       "      <td>0.503630</td>\n",
       "      <td>1.405647</td>\n",
       "      <td>0.687500</td>\n",
       "      <td>0.669772</td>\n",
       "      <td>00:11</td>\n",
       "    </tr>\n",
       "    <tr>\n",
       "      <td>2</td>\n",
       "      <td>0.362882</td>\n",
       "      <td>0.974657</td>\n",
       "      <td>0.812500</td>\n",
       "      <td>0.810085</td>\n",
       "      <td>00:11</td>\n",
       "    </tr>\n",
       "    <tr>\n",
       "      <td>3</td>\n",
       "      <td>0.188672</td>\n",
       "      <td>0.920892</td>\n",
       "      <td>0.802083</td>\n",
       "      <td>0.800939</td>\n",
       "      <td>00:11</td>\n",
       "    </tr>\n",
       "  </tbody>\n",
       "</table>"
      ],
      "text/plain": [
       "<IPython.core.display.HTML object>"
      ]
     },
     "metadata": {},
     "output_type": "display_data"
    }
   ],
   "source": [
    "learn_c.freeze_to(-3)\n",
    "learn_c.fit_one_cycle(4, slice(lr/2/(2.6**4),lr/2), wd=0.1, moms=(0.8,0.7))"
   ]
  },
  {
   "cell_type": "code",
   "execution_count": 32,
   "metadata": {},
   "outputs": [],
   "source": [
    "learn_c.save(\"clf_fwd\")"
   ]
  },
  {
   "cell_type": "code",
   "execution_count": 35,
   "metadata": {},
   "outputs": [
    {
     "data": {
      "text/html": [
       "<table border=\"1\" class=\"dataframe\">\n",
       "  <thead>\n",
       "    <tr style=\"text-align: left;\">\n",
       "      <th>epoch</th>\n",
       "      <th>train_loss</th>\n",
       "      <th>valid_loss</th>\n",
       "      <th>accuracy</th>\n",
       "      <th>f_beta</th>\n",
       "      <th>time</th>\n",
       "    </tr>\n",
       "  </thead>\n",
       "  <tbody>\n",
       "    <tr>\n",
       "      <td>0</td>\n",
       "      <td>0.077078</td>\n",
       "      <td>0.898982</td>\n",
       "      <td>0.791667</td>\n",
       "      <td>0.794413</td>\n",
       "      <td>00:15</td>\n",
       "    </tr>\n",
       "    <tr>\n",
       "      <td>1</td>\n",
       "      <td>0.056076</td>\n",
       "      <td>0.824895</td>\n",
       "      <td>0.843750</td>\n",
       "      <td>0.840283</td>\n",
       "      <td>00:15</td>\n",
       "    </tr>\n",
       "    <tr>\n",
       "      <td>2</td>\n",
       "      <td>0.043937</td>\n",
       "      <td>0.829387</td>\n",
       "      <td>0.843750</td>\n",
       "      <td>0.839421</td>\n",
       "      <td>00:15</td>\n",
       "    </tr>\n",
       "  </tbody>\n",
       "</table>"
      ],
      "text/plain": [
       "<IPython.core.display.HTML object>"
      ]
     },
     "metadata": {},
     "output_type": "display_data"
    }
   ],
   "source": [
    "learn_c.unfreeze()\n",
    "learn_c.fit_one_cycle(3, slice(lr/10/(2.6**4),lr/10), wd=0.1, moms=(0.8,0.7))"
   ]
  },
  {
   "cell_type": "code",
   "execution_count": 37,
   "metadata": {},
   "outputs": [],
   "source": [
    "learn_c.save(\"clf_fwd\")"
   ]
  },
  {
   "cell_type": "markdown",
   "metadata": {},
   "source": [
    "## Evaluate Forward CLF"
   ]
  },
  {
   "cell_type": "code",
   "execution_count": 38,
   "metadata": {},
   "outputs": [
    {
     "name": "stderr",
     "output_type": "stream",
     "text": [
      "/opt/anaconda3/lib/python3.7/site-packages/fastai/train.py:200: UserWarning: Tight layout not applied. The left and right margins cannot be made large enough to accommodate all axes decorations. \n",
      "  plt.tight_layout()\n"
     ]
    },
    {
     "data": {
      "image/png": "[encoded data removed]",
      "text/plain": [
       "<Figure size 432x288 with 1 Axes>"
      ]
     },
     "metadata": {
      "needs_background": "light"
     },
     "output_type": "display_data"
    }
   ],
   "source": []
  },
  {
   "cell_type": "code",
   "execution_count": null,
   "metadata": {},
   "outputs": [],
   "source": []
  }
 ],
 "metadata": {
  "kernelspec": {
   "display_name": "Python 3",
   "language": "python",
   "name": "python3"
  },
  "language_info": {
   "codemirror_mode": {
    "name": "ipython",
    "version": 3
   },
   "file_extension": ".py",
   "mimetype": "text/x-python",
   "name": "python",
   "nbconvert_exporter": "python",
   "pygments_lexer": "ipython3",
   "version": "3.7.4"
  }
 },
 "nbformat": 4,
 "nbformat_minor": 2
}
