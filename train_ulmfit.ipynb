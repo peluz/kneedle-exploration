{
 "cells": [
  {
   "cell_type": "code",
   "execution_count": 1,
   "metadata": {},
   "outputs": [],
   "source": [
    "%load_ext autoreload\n",
    "%autoreload 2\n",
    "%matplotlib inline"
   ]
  },
  {
   "cell_type": "code",
   "execution_count": 2,
   "metadata": {},
   "outputs": [],
   "source": [
    "import pandas as pd\n",
    "import pickle\n",
    "\n",
    "import matplotlib.cm as cm\n",
    "\n",
    "from fastai import *\n",
    "from fastai.text import *\n",
    "\n",
    "from pathlib import Path\n",
    "\n",
    "from sklearn.feature_extraction.text import CountVectorizer, TfidfVectorizer\n",
    "from sklearn.pipeline import Pipeline\n",
    "from sklearn.svm import LinearSVC\n",
    "from sklearn.naive_bayes import MultinomialNB\n",
    "from sklearn.model_selection import RandomizedSearchCV\n",
    "from sklearn.metrics import confusion_matrix, classification_report, hamming_loss, zero_one_loss, accuracy_score"
   ]
  },
  {
   "cell_type": "code",
   "execution_count": 3,
   "metadata": {},
   "outputs": [],
   "source": [
    "seed = 42\n",
    "\n",
    "# python RNG\n",
    "import random\n",
    "random.seed(seed)\n",
    "\n",
    "# pytorch RNGs\n",
    "import torch\n",
    "torch.manual_seed(seed)\n",
    "torch.backends.cudnn.deterministic = True\n",
    "if torch.cuda.is_available(): torch.cuda.manual_seed_all(seed)\n",
    "\n",
    "# numpy RNG\n",
    "import numpy as np\n",
    "np.random.seed(seed)"
   ]
  },
  {
   "cell_type": "code",
   "execution_count": 4,
   "metadata": {},
   "outputs": [
    {
     "name": "stdout",
     "output_type": "stream",
     "text": [
      "\r\n",
      "\r\n",
      "```text\r\n",
      "=== Software === \r\n",
      "python        : 3.7.4\r\n",
      "fastai        : 1.0.57\r\n",
      "fastprogress  : 0.1.21\r\n",
      "torch         : 1.0.1.post2\r\n",
      "nvidia driver : 410.72\r\n",
      "torch cuda    : 10.0.130 / is available\r\n",
      "torch cudnn   : 7402 / is enabled\r\n",
      "\r\n",
      "=== Hardware === \r\n",
      "nvidia gpus   : 1\r\n",
      "torch devices : 1\r\n",
      "  - gpu0      : 7611MB | Tesla P4\r\n",
      "\r\n",
      "=== Environment === \r\n",
      "platform      : Linux-4.9.0-8-amd64-x86_64-with-debian-9.8\r\n",
      "distro        : #1 SMP Debian 4.9.130-2 (2018-10-27)\r\n",
      "conda env     : base\r\n",
      "python        : /opt/anaconda3/bin/python\r\n",
      "sys.path      : /home/jupyter/kneedle-exploration\r\n",
      "/opt/anaconda3/lib/python37.zip\r\n",
      "/opt/anaconda3/lib/python3.7\r\n",
      "/opt/anaconda3/lib/python3.7/lib-dynload\r\n",
      "/opt/anaconda3/lib/python3.7/site-packages\r\n",
      "/opt/anaconda3/lib/python3.7/site-packages/IPython/extensions\r\n",
      "```\r\n",
      "\r\n",
      "Please make sure to include opening/closing ``` when you paste into forums/github to make the reports appear formatted as code sections.\r\n",
      "\r\n",
      "Optional package(s) to enhance the diagnostics can be installed with:\r\n",
      "pip install distro\r\n",
      "Once installed, re-run this utility to get the additional information\r\n"
     ]
    }
   ],
   "source": [
    "!python -m fastai.utils.show_install"
   ]
  },
  {
   "cell_type": "code",
   "execution_count": 4,
   "metadata": {},
   "outputs": [],
   "source": [
    "bs=32"
   ]
  },
  {
   "cell_type": "markdown",
   "metadata": {},
   "source": [
    "## Loading Data"
   ]
  },
  {
   "cell_type": "code",
   "execution_count": 5,
   "metadata": {},
   "outputs": [],
   "source": [
    "path = Path(\".\")"
   ]
  },
  {
   "cell_type": "code",
   "execution_count": 6,
   "metadata": {},
   "outputs": [],
   "source": [
    "df = pd.read_csv(path/\"data/clean/train.csv\")"
   ]
  },
  {
   "cell_type": "code",
   "execution_count": 7,
   "metadata": {
    "scrolled": true
   },
   "outputs": [
    {
     "data": {
      "text/html": [
       "<div>\n",
       "<style scoped>\n",
       "    .dataframe tbody tr th:only-of-type {\n",
       "        vertical-align: middle;\n",
       "    }\n",
       "\n",
       "    .dataframe tbody tr th {\n",
       "        vertical-align: top;\n",
       "    }\n",
       "\n",
       "    .dataframe thead th {\n",
       "        text-align: right;\n",
       "    }\n",
       "</style>\n",
       "<table border=\"1\" class=\"dataframe\">\n",
       "  <thead>\n",
       "    <tr style=\"text-align: right;\">\n",
       "      <th></th>\n",
       "      <th>label</th>\n",
       "      <th>text</th>\n",
       "      <th>is_valid</th>\n",
       "    </tr>\n",
       "  </thead>\n",
       "  <tbody>\n",
       "    <tr>\n",
       "      <td>0</td>\n",
       "      <td>SECRETARIA DE ESTADO DE SEGURANÇA PÚBLICA</td>\n",
       "      <td>O DIRETOR-GERAL DO DEPARTAMENTO DE TRÂNSITO DO...</td>\n",
       "      <td>False</td>\n",
       "    </tr>\n",
       "    <tr>\n",
       "      <td>1</td>\n",
       "      <td>SECRETARIA DE ESTADO DE CULTURA</td>\n",
       "      <td>PROCESSO: 00150-00010629/2018-72; NOTA DE EMPE...</td>\n",
       "      <td>False</td>\n",
       "    </tr>\n",
       "    <tr>\n",
       "      <td>2</td>\n",
       "      <td>SECRETARIA DE ESTADO DE SEGURANÇA PÚBLICA</td>\n",
       "      <td>O DIRETOR-GERAL DO DEPARTAMENTO DE TRÂNSITO DO...</td>\n",
       "      <td>False</td>\n",
       "    </tr>\n",
       "    <tr>\n",
       "      <td>3</td>\n",
       "      <td>SECRETARIA DE ESTADO DE FAZENDA, PLANEJAMENTO,...</td>\n",
       "      <td>A Comissão Permanente de Licitação do BRB - BA...</td>\n",
       "      <td>False</td>\n",
       "    </tr>\n",
       "    <tr>\n",
       "      <td>4</td>\n",
       "      <td>CASA CIVIL</td>\n",
       "      <td>A ADMINISTRADORA REGIONAL DE TAGUATINGA DO DIS...</td>\n",
       "      <td>False</td>\n",
       "    </tr>\n",
       "    <tr>\n",
       "      <td>...</td>\n",
       "      <td>...</td>\n",
       "      <td>...</td>\n",
       "      <td>...</td>\n",
       "    </tr>\n",
       "    <tr>\n",
       "      <td>712</td>\n",
       "      <td>SECRETARIA DE ESTADO DE OBRAS E INFRAESTRUTURA</td>\n",
       "      <td>O Pregoeiro da CAESB no uso de suas atribuiçõe...</td>\n",
       "      <td>True</td>\n",
       "    </tr>\n",
       "    <tr>\n",
       "      <td>713</td>\n",
       "      <td>SECRETARIA DE ESTADO DE DESENVOLVIMENTO ECONÔMICO</td>\n",
       "      <td>O SUBSECRETÁRIO DE ADMINISTRAÇÃO GERAL, DA SEC...</td>\n",
       "      <td>True</td>\n",
       "    </tr>\n",
       "    <tr>\n",
       "      <td>714</td>\n",
       "      <td>SECRETARIA DE ESTADO DE SEGURANÇA PÚBLICA</td>\n",
       "      <td>O DIRETOR DO DEPARTAMENTO DE GESTÃO DE PESSOAS...</td>\n",
       "      <td>True</td>\n",
       "    </tr>\n",
       "    <tr>\n",
       "      <td>715</td>\n",
       "      <td>SECRETARIA DE ESTADO DE SEGURANÇA PÚBLICA</td>\n",
       "      <td>PROCESSO: 00054-00027353/2018-03. PARTES: DF/P...</td>\n",
       "      <td>True</td>\n",
       "    </tr>\n",
       "    <tr>\n",
       "      <td>716</td>\n",
       "      <td>SECRETARIA DE ESTADO DE SAÚDE</td>\n",
       "      <td>Espécie: Primeiro Termo Aditivo à Ata de Regis...</td>\n",
       "      <td>True</td>\n",
       "    </tr>\n",
       "  </tbody>\n",
       "</table>\n",
       "<p>717 rows × 3 columns</p>\n",
       "</div>"
      ],
      "text/plain": [
       "                                                 label  \\\n",
       "0            SECRETARIA DE ESTADO DE SEGURANÇA PÚBLICA   \n",
       "1                      SECRETARIA DE ESTADO DE CULTURA   \n",
       "2            SECRETARIA DE ESTADO DE SEGURANÇA PÚBLICA   \n",
       "3    SECRETARIA DE ESTADO DE FAZENDA, PLANEJAMENTO,...   \n",
       "4                                           CASA CIVIL   \n",
       "..                                                 ...   \n",
       "712     SECRETARIA DE ESTADO DE OBRAS E INFRAESTRUTURA   \n",
       "713  SECRETARIA DE ESTADO DE DESENVOLVIMENTO ECONÔMICO   \n",
       "714          SECRETARIA DE ESTADO DE SEGURANÇA PÚBLICA   \n",
       "715          SECRETARIA DE ESTADO DE SEGURANÇA PÚBLICA   \n",
       "716                      SECRETARIA DE ESTADO DE SAÚDE   \n",
       "\n",
       "                                                  text  is_valid  \n",
       "0    O DIRETOR-GERAL DO DEPARTAMENTO DE TRÂNSITO DO...     False  \n",
       "1    PROCESSO: 00150-00010629/2018-72; NOTA DE EMPE...     False  \n",
       "2    O DIRETOR-GERAL DO DEPARTAMENTO DE TRÂNSITO DO...     False  \n",
       "3    A Comissão Permanente de Licitação do BRB - BA...     False  \n",
       "4    A ADMINISTRADORA REGIONAL DE TAGUATINGA DO DIS...     False  \n",
       "..                                                 ...       ...  \n",
       "712  O Pregoeiro da CAESB no uso de suas atribuiçõe...      True  \n",
       "713  O SUBSECRETÁRIO DE ADMINISTRAÇÃO GERAL, DA SEC...      True  \n",
       "714  O DIRETOR DO DEPARTAMENTO DE GESTÃO DE PESSOAS...      True  \n",
       "715  PROCESSO: 00054-00027353/2018-03. PARTES: DF/P...      True  \n",
       "716  Espécie: Primeiro Termo Aditivo à Ata de Regis...      True  \n",
       "\n",
       "[717 rows x 3 columns]"
      ]
     },
     "execution_count": 7,
     "metadata": {},
     "output_type": "execute_result"
    }
   ],
   "source": [
    "df"
   ]
  },
  {
   "cell_type": "code",
   "execution_count": 8,
   "metadata": {},
   "outputs": [
    {
     "data": {
      "text/html": [
       "<div>\n",
       "<style scoped>\n",
       "    .dataframe tbody tr th:only-of-type {\n",
       "        vertical-align: middle;\n",
       "    }\n",
       "\n",
       "    .dataframe tbody tr th {\n",
       "        vertical-align: top;\n",
       "    }\n",
       "\n",
       "    .dataframe thead th {\n",
       "        text-align: right;\n",
       "    }\n",
       "</style>\n",
       "<table border=\"1\" class=\"dataframe\">\n",
       "  <thead>\n",
       "    <tr style=\"text-align: right;\">\n",
       "      <th></th>\n",
       "      <th>label</th>\n",
       "      <th>text</th>\n",
       "      <th>is_valid</th>\n",
       "    </tr>\n",
       "  </thead>\n",
       "  <tbody>\n",
       "    <tr>\n",
       "      <td>0</td>\n",
       "      <td>SECRETARIA DE ESTADO DE SEGURANÇA PÚBLICA</td>\n",
       "      <td>O DIRETOR-GERAL DO DEPARTAMENTO DE TRÂNSITO DO...</td>\n",
       "      <td>False</td>\n",
       "    </tr>\n",
       "    <tr>\n",
       "      <td>1</td>\n",
       "      <td>SECRETARIA DE ESTADO DE CULTURA</td>\n",
       "      <td>PROCESSO: 00150-00010629/2018-72; NOTA DE EMPE...</td>\n",
       "      <td>False</td>\n",
       "    </tr>\n",
       "    <tr>\n",
       "      <td>2</td>\n",
       "      <td>SECRETARIA DE ESTADO DE SEGURANÇA PÚBLICA</td>\n",
       "      <td>O DIRETOR-GERAL DO DEPARTAMENTO DE TRÂNSITO DO...</td>\n",
       "      <td>False</td>\n",
       "    </tr>\n",
       "    <tr>\n",
       "      <td>3</td>\n",
       "      <td>SECRETARIA DE ESTADO DE FAZENDA, PLANEJAMENTO,...</td>\n",
       "      <td>A Comissão Permanente de Licitação do BRB - BA...</td>\n",
       "      <td>False</td>\n",
       "    </tr>\n",
       "    <tr>\n",
       "      <td>4</td>\n",
       "      <td>CASA CIVIL</td>\n",
       "      <td>A ADMINISTRADORA REGIONAL DE TAGUATINGA DO DIS...</td>\n",
       "      <td>False</td>\n",
       "    </tr>\n",
       "    <tr>\n",
       "      <td>...</td>\n",
       "      <td>...</td>\n",
       "      <td>...</td>\n",
       "      <td>...</td>\n",
       "    </tr>\n",
       "    <tr>\n",
       "      <td>475</td>\n",
       "      <td>SECRETARIA DE ESTADO DE FAZENDA, PLANEJAMENTO,...</td>\n",
       "      <td>A DIRETORA PRESIDENTE DO INSTITUTO DE PREVIDÊN...</td>\n",
       "      <td>False</td>\n",
       "    </tr>\n",
       "    <tr>\n",
       "      <td>476</td>\n",
       "      <td>SECRETARIA DE ESTADO DE SAÚDE</td>\n",
       "      <td>A DIRETORA DO HOSPITAL MATERNO INFANTIL DE BRA...</td>\n",
       "      <td>False</td>\n",
       "    </tr>\n",
       "    <tr>\n",
       "      <td>477</td>\n",
       "      <td>SECRETARIA DE ESTADO DE SEGURANÇA PÚBLICA</td>\n",
       "      <td>O DIRETOR-GERAL DO DEPARTAMENTO DE TRÂNSITO DO...</td>\n",
       "      <td>False</td>\n",
       "    </tr>\n",
       "    <tr>\n",
       "      <td>478</td>\n",
       "      <td>SECRETARIA DE ESTADO DE AGRICULTURA, ABASTECIM...</td>\n",
       "      <td>O SUBSECRETÁRIO DE ADMINISTRAÇÃO GERAL, DA SEC...</td>\n",
       "      <td>False</td>\n",
       "    </tr>\n",
       "    <tr>\n",
       "      <td>479</td>\n",
       "      <td>SECRETARIA DE ESTADO DE SEGURANÇA PÚBLICA</td>\n",
       "      <td>PROCESSO: 0052.001.240/2012 - PARTES: Distrito...</td>\n",
       "      <td>False</td>\n",
       "    </tr>\n",
       "  </tbody>\n",
       "</table>\n",
       "<p>480 rows × 3 columns</p>\n",
       "</div>"
      ],
      "text/plain": [
       "                                                 label  \\\n",
       "0            SECRETARIA DE ESTADO DE SEGURANÇA PÚBLICA   \n",
       "1                      SECRETARIA DE ESTADO DE CULTURA   \n",
       "2            SECRETARIA DE ESTADO DE SEGURANÇA PÚBLICA   \n",
       "3    SECRETARIA DE ESTADO DE FAZENDA, PLANEJAMENTO,...   \n",
       "4                                           CASA CIVIL   \n",
       "..                                                 ...   \n",
       "475  SECRETARIA DE ESTADO DE FAZENDA, PLANEJAMENTO,...   \n",
       "476                      SECRETARIA DE ESTADO DE SAÚDE   \n",
       "477          SECRETARIA DE ESTADO DE SEGURANÇA PÚBLICA   \n",
       "478  SECRETARIA DE ESTADO DE AGRICULTURA, ABASTECIM...   \n",
       "479          SECRETARIA DE ESTADO DE SEGURANÇA PÚBLICA   \n",
       "\n",
       "                                                  text  is_valid  \n",
       "0    O DIRETOR-GERAL DO DEPARTAMENTO DE TRÂNSITO DO...     False  \n",
       "1    PROCESSO: 00150-00010629/2018-72; NOTA DE EMPE...     False  \n",
       "2    O DIRETOR-GERAL DO DEPARTAMENTO DE TRÂNSITO DO...     False  \n",
       "3    A Comissão Permanente de Licitação do BRB - BA...     False  \n",
       "4    A ADMINISTRADORA REGIONAL DE TAGUATINGA DO DIS...     False  \n",
       "..                                                 ...       ...  \n",
       "475  A DIRETORA PRESIDENTE DO INSTITUTO DE PREVIDÊN...     False  \n",
       "476  A DIRETORA DO HOSPITAL MATERNO INFANTIL DE BRA...     False  \n",
       "477  O DIRETOR-GERAL DO DEPARTAMENTO DE TRÂNSITO DO...     False  \n",
       "478  O SUBSECRETÁRIO DE ADMINISTRAÇÃO GERAL, DA SEC...     False  \n",
       "479  PROCESSO: 0052.001.240/2012 - PARTES: Distrito...     False  \n",
       "\n",
       "[480 rows x 3 columns]"
      ]
     },
     "execution_count": 8,
     "metadata": {},
     "output_type": "execute_result"
    }
   ],
   "source": [
    "df_train = df[df[\"is_valid\"] == False]; df_train"
   ]
  },
  {
   "cell_type": "code",
   "execution_count": 9,
   "metadata": {},
   "outputs": [
    {
     "data": {
      "text/html": [
       "<div>\n",
       "<style scoped>\n",
       "    .dataframe tbody tr th:only-of-type {\n",
       "        vertical-align: middle;\n",
       "    }\n",
       "\n",
       "    .dataframe tbody tr th {\n",
       "        vertical-align: top;\n",
       "    }\n",
       "\n",
       "    .dataframe thead th {\n",
       "        text-align: right;\n",
       "    }\n",
       "</style>\n",
       "<table border=\"1\" class=\"dataframe\">\n",
       "  <thead>\n",
       "    <tr style=\"text-align: right;\">\n",
       "      <th></th>\n",
       "      <th>label</th>\n",
       "      <th>text</th>\n",
       "      <th>is_valid</th>\n",
       "    </tr>\n",
       "  </thead>\n",
       "  <tbody>\n",
       "    <tr>\n",
       "      <td>480</td>\n",
       "      <td>CASA CIVIL</td>\n",
       "      <td>A COORDENADORA DE ADMINISTRAÇÃO GERAL, DA ADMI...</td>\n",
       "      <td>True</td>\n",
       "    </tr>\n",
       "    <tr>\n",
       "      <td>481</td>\n",
       "      <td>SECRETARIA DE ESTADO DE SEGURANÇA PÚBLICA</td>\n",
       "      <td>O DIRETOR-GERAL DO DEPARTAMENTO DE TRÂNSITO DO...</td>\n",
       "      <td>True</td>\n",
       "    </tr>\n",
       "    <tr>\n",
       "      <td>482</td>\n",
       "      <td>SECRETARIA DE ESTADO DE TRANSPORTE E MOBILIDADE</td>\n",
       "      <td>O SUPERINTENDENTE DE OPERAÇÕES, DO DEPARTAMENT...</td>\n",
       "      <td>True</td>\n",
       "    </tr>\n",
       "    <tr>\n",
       "      <td>483</td>\n",
       "      <td>SECRETARIA DE ESTADO DE SAÚDE</td>\n",
       "      <td>O Subsecretário de Administração Geral, Substi...</td>\n",
       "      <td>True</td>\n",
       "    </tr>\n",
       "    <tr>\n",
       "      <td>484</td>\n",
       "      <td>SECRETARIA DE ESTADO DE SEGURANÇA PÚBLICA</td>\n",
       "      <td>O DIRETOR-GERAL DO DEPARTAMENTO DE TRÂNSITO DO...</td>\n",
       "      <td>True</td>\n",
       "    </tr>\n",
       "    <tr>\n",
       "      <td>...</td>\n",
       "      <td>...</td>\n",
       "      <td>...</td>\n",
       "      <td>...</td>\n",
       "    </tr>\n",
       "    <tr>\n",
       "      <td>712</td>\n",
       "      <td>SECRETARIA DE ESTADO DE OBRAS E INFRAESTRUTURA</td>\n",
       "      <td>O Pregoeiro da CAESB no uso de suas atribuiçõe...</td>\n",
       "      <td>True</td>\n",
       "    </tr>\n",
       "    <tr>\n",
       "      <td>713</td>\n",
       "      <td>SECRETARIA DE ESTADO DE DESENVOLVIMENTO ECONÔMICO</td>\n",
       "      <td>O SUBSECRETÁRIO DE ADMINISTRAÇÃO GERAL, DA SEC...</td>\n",
       "      <td>True</td>\n",
       "    </tr>\n",
       "    <tr>\n",
       "      <td>714</td>\n",
       "      <td>SECRETARIA DE ESTADO DE SEGURANÇA PÚBLICA</td>\n",
       "      <td>O DIRETOR DO DEPARTAMENTO DE GESTÃO DE PESSOAS...</td>\n",
       "      <td>True</td>\n",
       "    </tr>\n",
       "    <tr>\n",
       "      <td>715</td>\n",
       "      <td>SECRETARIA DE ESTADO DE SEGURANÇA PÚBLICA</td>\n",
       "      <td>PROCESSO: 00054-00027353/2018-03. PARTES: DF/P...</td>\n",
       "      <td>True</td>\n",
       "    </tr>\n",
       "    <tr>\n",
       "      <td>716</td>\n",
       "      <td>SECRETARIA DE ESTADO DE SAÚDE</td>\n",
       "      <td>Espécie: Primeiro Termo Aditivo à Ata de Regis...</td>\n",
       "      <td>True</td>\n",
       "    </tr>\n",
       "  </tbody>\n",
       "</table>\n",
       "<p>237 rows × 3 columns</p>\n",
       "</div>"
      ],
      "text/plain": [
       "                                                 label  \\\n",
       "480                                         CASA CIVIL   \n",
       "481          SECRETARIA DE ESTADO DE SEGURANÇA PÚBLICA   \n",
       "482    SECRETARIA DE ESTADO DE TRANSPORTE E MOBILIDADE   \n",
       "483                      SECRETARIA DE ESTADO DE SAÚDE   \n",
       "484          SECRETARIA DE ESTADO DE SEGURANÇA PÚBLICA   \n",
       "..                                                 ...   \n",
       "712     SECRETARIA DE ESTADO DE OBRAS E INFRAESTRUTURA   \n",
       "713  SECRETARIA DE ESTADO DE DESENVOLVIMENTO ECONÔMICO   \n",
       "714          SECRETARIA DE ESTADO DE SEGURANÇA PÚBLICA   \n",
       "715          SECRETARIA DE ESTADO DE SEGURANÇA PÚBLICA   \n",
       "716                      SECRETARIA DE ESTADO DE SAÚDE   \n",
       "\n",
       "                                                  text  is_valid  \n",
       "480  A COORDENADORA DE ADMINISTRAÇÃO GERAL, DA ADMI...      True  \n",
       "481  O DIRETOR-GERAL DO DEPARTAMENTO DE TRÂNSITO DO...      True  \n",
       "482  O SUPERINTENDENTE DE OPERAÇÕES, DO DEPARTAMENT...      True  \n",
       "483  O Subsecretário de Administração Geral, Substi...      True  \n",
       "484  O DIRETOR-GERAL DO DEPARTAMENTO DE TRÂNSITO DO...      True  \n",
       "..                                                 ...       ...  \n",
       "712  O Pregoeiro da CAESB no uso de suas atribuiçõe...      True  \n",
       "713  O SUBSECRETÁRIO DE ADMINISTRAÇÃO GERAL, DA SEC...      True  \n",
       "714  O DIRETOR DO DEPARTAMENTO DE GESTÃO DE PESSOAS...      True  \n",
       "715  PROCESSO: 00054-00027353/2018-03. PARTES: DF/P...      True  \n",
       "716  Espécie: Primeiro Termo Aditivo à Ata de Regis...      True  \n",
       "\n",
       "[237 rows x 3 columns]"
      ]
     },
     "execution_count": 9,
     "metadata": {},
     "output_type": "execute_result"
    }
   ],
   "source": [
    "df_test = df[df[\"is_valid\"] == True]; df_test"
   ]
  },
  {
   "cell_type": "code",
   "execution_count": 10,
   "metadata": {},
   "outputs": [
    {
     "data": {
      "text/html": [
       "<div>\n",
       "<style scoped>\n",
       "    .dataframe tbody tr th:only-of-type {\n",
       "        vertical-align: middle;\n",
       "    }\n",
       "\n",
       "    .dataframe tbody tr th {\n",
       "        vertical-align: top;\n",
       "    }\n",
       "\n",
       "    .dataframe thead th {\n",
       "        text-align: right;\n",
       "    }\n",
       "</style>\n",
       "<table border=\"1\" class=\"dataframe\">\n",
       "  <thead>\n",
       "    <tr style=\"text-align: right;\">\n",
       "      <th></th>\n",
       "      <th>text</th>\n",
       "    </tr>\n",
       "  </thead>\n",
       "  <tbody>\n",
       "    <tr>\n",
       "      <td>0</td>\n",
       "      <td>O DIRETOR-GERAL DO DEPARTAMENTO DE TRÂNSITO DO...</td>\n",
       "    </tr>\n",
       "    <tr>\n",
       "      <td>1</td>\n",
       "      <td>A Comissão Permanente de Licitação da BRB ADMI...</td>\n",
       "    </tr>\n",
       "    <tr>\n",
       "      <td>2</td>\n",
       "      <td>PROCESSO Nº 00095-00002392/2018-12.\\nO DIRETOR...</td>\n",
       "    </tr>\n",
       "    <tr>\n",
       "      <td>3</td>\n",
       "      <td>Partes: DETRAN-DF e a empresa SINASC SINALIZAÇ...</td>\n",
       "    </tr>\n",
       "    <tr>\n",
       "      <td>4</td>\n",
       "      <td>Espécie: Contrato nº 647/2018-CEB DISTRIBUIÇÃO...</td>\n",
       "    </tr>\n",
       "    <tr>\n",
       "      <td>...</td>\n",
       "      <td>...</td>\n",
       "    </tr>\n",
       "    <tr>\n",
       "      <td>1921</td>\n",
       "      <td>O Secretário de Estado de Cultura do Distrito ...</td>\n",
       "    </tr>\n",
       "    <tr>\n",
       "      <td>1922</td>\n",
       "      <td>PROCESSO Nº 00150-00010640/2018-32\\nCLÁUSULA P...</td>\n",
       "    </tr>\n",
       "    <tr>\n",
       "      <td>1923</td>\n",
       "      <td>Processo: 00220-00005431/2018-32 - Das Partes:...</td>\n",
       "    </tr>\n",
       "    <tr>\n",
       "      <td>1924</td>\n",
       "      <td>Processo: PROCESSO 00220-00005706/2018-38. Par...</td>\n",
       "    </tr>\n",
       "    <tr>\n",
       "      <td>1925</td>\n",
       "      <td>Objeto: Contratação de empresa especializada p...</td>\n",
       "    </tr>\n",
       "  </tbody>\n",
       "</table>\n",
       "<p>1926 rows × 1 columns</p>\n",
       "</div>"
      ],
      "text/plain": [
       "                                                   text\n",
       "0     O DIRETOR-GERAL DO DEPARTAMENTO DE TRÂNSITO DO...\n",
       "1     A Comissão Permanente de Licitação da BRB ADMI...\n",
       "2     PROCESSO Nº 00095-00002392/2018-12.\\nO DIRETOR...\n",
       "3     Partes: DETRAN-DF e a empresa SINASC SINALIZAÇ...\n",
       "4     Espécie: Contrato nº 647/2018-CEB DISTRIBUIÇÃO...\n",
       "...                                                 ...\n",
       "1921  O Secretário de Estado de Cultura do Distrito ...\n",
       "1922  PROCESSO Nº 00150-00010640/2018-32\\nCLÁUSULA P...\n",
       "1923  Processo: 00220-00005431/2018-32 - Das Partes:...\n",
       "1924  Processo: PROCESSO 00220-00005706/2018-38. Par...\n",
       "1925  Objeto: Contratação de empresa especializada p...\n",
       "\n",
       "[1926 rows x 1 columns]"
      ]
     },
     "execution_count": 10,
     "metadata": {},
     "output_type": "execute_result"
    }
   ],
   "source": [
    "df_lm = pd.read_csv(path/'data/clean/unsup/unsup.csv'); df_lm"
   ]
  },
  {
   "cell_type": "code",
   "execution_count": 12,
   "metadata": {},
   "outputs": [],
   "source": [
    "data_lm = (TextList.from_df(df_lm,cols='text', processor=SPProcessor(max_vocab_sz=15000))\n",
    "                           .split_by_rand_pct(0.2, seed=seed)\n",
    "                           .label_for_lm()\n",
    "                           .databunch(bs=bs))"
   ]
  },
  {
   "cell_type": "code",
   "execution_count": 13,
   "metadata": {},
   "outputs": [
    {
     "data": {
      "text/html": [
       "<table border=\"1\" class=\"dataframe\">\n",
       "  <thead>\n",
       "    <tr style=\"text-align: right;\">\n",
       "      <th>idx</th>\n",
       "      <th>text</th>\n",
       "    </tr>\n",
       "  </thead>\n",
       "  <tbody>\n",
       "    <tr>\n",
       "      <td>0</td>\n",
       "      <td>▁2011, ▁e ▁conforme ▁xxmaj ▁processo ▁xxup ▁sei ▁no ▁00055-001 65 43 7 ▁/ ▁2018-16 , ▁resolve : ▁xxup ▁designar ▁xxup ▁edson ▁xxup ▁de ▁xxup ▁campos ▁xxup ▁júnior , ▁xxmaj ▁assistente ▁de ▁xxmaj ▁trânsito , ▁matrícula ▁1.2 03 -3, ▁para ▁substituir ▁xxup ▁francisco ▁xxup ▁de r i ck ▁xxup ▁sousa ▁xxup ▁carvalho , ▁xxmaj ▁assistente ▁de ▁xxmaj ▁trânsito , ▁matrícula ▁250.44 1-3, ▁chefe , ▁símbolo ▁xxup ▁dfg -12, ▁do ▁xxmaj ▁núcleo</td>\n",
       "    </tr>\n",
       "    <tr>\n",
       "      <td>1</td>\n",
       "      <td>▁xxmaj ▁vida ▁xxmaj ▁pre gressa ▁e ▁xxmaj ▁investigação ▁xxmaj ▁social ▁e ▁xxmaj ▁funcional , ▁for ▁considerado ▁contraindicado . ▁ 3.11 ▁xxmaj ▁será ▁eliminado ▁do ▁xxmaj ▁concurso ▁o ▁candidato ▁que ▁deix ar ▁de ▁faze r ▁a ▁entrega ▁de ▁um ▁ou ▁mais ▁documentos ▁exigido s ▁no ▁presente ▁edital , ▁o mit ir ▁informação ▁solicitada ▁ou ▁prestar ▁informação ▁fal s a . ▁3.1 2 ▁xxmaj ▁a pós ▁a ▁sindicância ▁da ▁vida ▁pre gressa</td>\n",
       "    </tr>\n",
       "    <tr>\n",
       "      <td>2</td>\n",
       "      <td>▁xxup ▁silva ▁xxup ▁alexandre , ▁matr . ▁14 04 19 3; ▁xxup ▁jos é ▁xxup ▁carlo s ▁xxup ▁xavier ▁xxup ▁de ▁xxup ▁lima , ▁matr . ▁14 041 95 ; ▁xxup ▁wander ▁xxup ▁ribeiro ▁xxup ▁da ▁xxup ▁silva , ▁matr . ▁14 04 196 ; ▁xxup ▁jos é ▁xxup ▁ ni lson ▁xxup ▁rodrigues ▁xxup ▁da ▁xxup ▁silva , ▁matr . ▁14 041 99 ; ▁xxup ▁di lson ▁xxup ▁fernandes</td>\n",
       "    </tr>\n",
       "    <tr>\n",
       "      <td>3</td>\n",
       "      <td>▁no ▁xxup ▁dodf ▁n ° ▁117 ▁de ▁10 ▁de ▁junho ▁de ▁2013, ▁pág . ▁55, ▁o ▁ato ▁que ▁averb ou ▁o ▁tempo ▁de ▁serviço ▁do ▁servidor ▁xxup ▁an isio ▁xxup ▁sousa ▁xxup ▁neto , ▁matrícula ▁xxup ▁129 .010- x , ▁xxmaj ▁odontólog o , ▁xxmaj ▁secretaria ▁de ▁xxmaj ▁estado ▁de ▁xxmaj ▁saúde ▁do ▁xxup ▁df . ▁xxup ▁onde ▁xxup ▁se ▁xxup ▁lê : ▁\"...1.5 41 ▁dias , ▁ou ▁seja ,</td>\n",
       "    </tr>\n",
       "    <tr>\n",
       "      <td>4</td>\n",
       "      <td>▁19 ▁de ▁ju lho ▁de ▁2018, ▁publicada ▁no ▁xxup ▁dodf ▁no ▁ 137 , ▁de ▁20 ▁de ▁ju lho ▁de ▁2018. ▁xxmaj ▁art . ▁2 o ▁xxmaj ▁designar ▁xxup ▁fernand o ▁xxup ▁mendes ▁xxup ▁rodrigues ▁xxup ▁para gu assu , ▁matrícula ▁no ▁79. 25 3-5, ▁xxmaj ▁analista ▁em ▁xxmaj ▁políticas ▁xxmaj ▁públicas ▁e ▁xxmaj ▁gestão ▁xxmaj ▁governamental , ▁e ▁xxup ▁robert son ▁xxup ▁freitas ▁xxup ▁lima , ▁matrícula ▁no ▁267.73</td>\n",
       "    </tr>\n",
       "  </tbody>\n",
       "</table>"
      ],
      "text/plain": [
       "<IPython.core.display.HTML object>"
      ]
     },
     "metadata": {},
     "output_type": "display_data"
    }
   ],
   "source": [
    "data_lm.show_batch()"
   ]
  },
  {
   "cell_type": "code",
   "execution_count": 14,
   "metadata": {},
   "outputs": [],
   "source": [
    "data_lm.save('data/data_lm_export.pkl')"
   ]
  },
  {
   "cell_type": "code",
   "execution_count": 15,
   "metadata": {},
   "outputs": [],
   "source": [
    "config = awd_lstm_lm_config.copy()\n",
    "config['qrnn'] = True\n",
    "config['n_hid'] = 1550 #default 1152\n",
    "config['n_layers'] = 4 #default 3"
   ]
  },
  {
   "cell_type": "code",
   "execution_count": 11,
   "metadata": {},
   "outputs": [],
   "source": [
    "perplexity = Perplexity()\n",
    "f1 = FBeta(beta=1, average=\"weighted\")"
   ]
  },
  {
   "cell_type": "code",
   "execution_count": 17,
   "metadata": {},
   "outputs": [],
   "source": [
    "lm_fns3 = ['pt_wt_sp15_multifit', 'pt_wt_vocab_sp15_multifit']\n",
    "lm_fns3_bwd = ['pt_wt_sp15_multifit_bwd', 'pt_wt_vocab_sp15_multifit_bwd']"
   ]
  },
  {
   "cell_type": "markdown",
   "metadata": {},
   "source": [
    "## Fine-tune forward LM"
   ]
  },
  {
   "cell_type": "code",
   "execution_count": 18,
   "metadata": {},
   "outputs": [],
   "source": [
    "learn_lm = language_model_learner(data_lm, AWD_LSTM, config=config, pretrained_fnames=lm_fns3, drop_mult=1., \n",
    "                                  metrics=[error_rate, accuracy, perplexity])"
   ]
  },
  {
   "cell_type": "code",
   "execution_count": 20,
   "metadata": {},
   "outputs": [
    {
     "data": {
      "text/plain": [
       "'O Governo ▁xxmaj ▁federal ▁de ▁xxmaj ▁santa ▁xxmaj ▁catarina ▁ - ▁xxup ▁sp ▁é ▁um ▁órgão ▁que ▁foi ▁realizado ▁pela ▁xxmaj ▁união'"
      ]
     },
     "execution_count": 20,
     "metadata": {},
     "output_type": "execute_result"
    }
   ],
   "source": [
    "learn_lm.predict(\"O Governo\", n_words=20)"
   ]
  },
  {
   "cell_type": "code",
   "execution_count": 21,
   "metadata": {},
   "outputs": [
    {
     "data": {
      "text/html": [],
      "text/plain": [
       "<IPython.core.display.HTML object>"
      ]
     },
     "metadata": {},
     "output_type": "display_data"
    },
    {
     "name": "stdout",
     "output_type": "stream",
     "text": [
      "LR Finder is complete, type {learner_name}.recorder.plot() to see the graph.\n"
     ]
    }
   ],
   "source": [
    "learn_lm.lr_find()"
   ]
  },
  {
   "cell_type": "code",
   "execution_count": 22,
   "metadata": {},
   "outputs": [
    {
     "data": {
      "image/png": "[encoded data removed]",
      "text/plain": [
       "<Figure size 432x288 with 1 Axes>"
      ]
     },
     "metadata": {
      "needs_background": "light"
     },
     "output_type": "display_data"
    }
   ],
   "source": [
    "learn_lm.recorder.plot()"
   ]
  },
  {
   "cell_type": "code",
   "execution_count": 23,
   "metadata": {},
   "outputs": [],
   "source": [
    "lr = 1e-1"
   ]
  },
  {
   "cell_type": "code",
   "execution_count": 24,
   "metadata": {
    "scrolled": true
   },
   "outputs": [
    {
     "data": {
      "text/html": [
       "<table border=\"1\" class=\"dataframe\">\n",
       "  <thead>\n",
       "    <tr style=\"text-align: left;\">\n",
       "      <th>epoch</th>\n",
       "      <th>train_loss</th>\n",
       "      <th>valid_loss</th>\n",
       "      <th>error_rate</th>\n",
       "      <th>accuracy</th>\n",
       "      <th>perplexity</th>\n",
       "      <th>time</th>\n",
       "    </tr>\n",
       "  </thead>\n",
       "  <tbody>\n",
       "    <tr>\n",
       "      <td>0</td>\n",
       "      <td>8.167725</td>\n",
       "      <td>4.989687</td>\n",
       "      <td>0.871429</td>\n",
       "      <td>0.128571</td>\n",
       "      <td>146.890518</td>\n",
       "      <td>00:31</td>\n",
       "    </tr>\n",
       "    <tr>\n",
       "      <td>1</td>\n",
       "      <td>5.184942</td>\n",
       "      <td>3.518033</td>\n",
       "      <td>0.628571</td>\n",
       "      <td>0.371429</td>\n",
       "      <td>33.718025</td>\n",
       "      <td>00:32</td>\n",
       "    </tr>\n",
       "  </tbody>\n",
       "</table>"
      ],
      "text/plain": [
       "<IPython.core.display.HTML object>"
      ]
     },
     "metadata": {},
     "output_type": "display_data"
    }
   ],
   "source": [
    "learn_lm.fit_one_cycle(2, lr, wd=0.1, moms=(0.8,0.7))"
   ]
  },
  {
   "cell_type": "code",
   "execution_count": 25,
   "metadata": {},
   "outputs": [],
   "source": [
    "learn_lm.save('fine_tune_lm')\n",
    "learn_lm.save_encoder('fine_tune_enc')"
   ]
  },
  {
   "cell_type": "code",
   "execution_count": 26,
   "metadata": {},
   "outputs": [
    {
     "data": {
      "text/html": [],
      "text/plain": [
       "<IPython.core.display.HTML object>"
      ]
     },
     "metadata": {},
     "output_type": "display_data"
    },
    {
     "name": "stdout",
     "output_type": "stream",
     "text": [
      "LR Finder is complete, type {learner_name}.recorder.plot() to see the graph.\n"
     ]
    }
   ],
   "source": [
    "learn_lm.unfreeze()\n",
    "learn_lm.lr_find()"
   ]
  },
  {
   "cell_type": "code",
   "execution_count": 27,
   "metadata": {},
   "outputs": [
    {
     "data": {
      "image/png": "[encoded data removed]",
      "text/plain": [
       "<Figure size 432x288 with 1 Axes>"
      ]
     },
     "metadata": {
      "needs_background": "light"
     },
     "output_type": "display_data"
    }
   ],
   "source": [
    "learn_lm.recorder.plot()"
   ]
  },
  {
   "cell_type": "code",
   "execution_count": 28,
   "metadata": {},
   "outputs": [],
   "source": [
    "lr = 1e-2"
   ]
  },
  {
   "cell_type": "code",
   "execution_count": 29,
   "metadata": {
    "scrolled": false
   },
   "outputs": [
    {
     "data": {
      "text/html": [
       "<table border=\"1\" class=\"dataframe\">\n",
       "  <thead>\n",
       "    <tr style=\"text-align: left;\">\n",
       "      <th>epoch</th>\n",
       "      <th>train_loss</th>\n",
       "      <th>valid_loss</th>\n",
       "      <th>error_rate</th>\n",
       "      <th>accuracy</th>\n",
       "      <th>perplexity</th>\n",
       "      <th>time</th>\n",
       "    </tr>\n",
       "  </thead>\n",
       "  <tbody>\n",
       "    <tr>\n",
       "      <td>0</td>\n",
       "      <td>3.990016</td>\n",
       "      <td>1.942214</td>\n",
       "      <td>0.428571</td>\n",
       "      <td>0.571429</td>\n",
       "      <td>6.974174</td>\n",
       "      <td>00:47</td>\n",
       "    </tr>\n",
       "    <tr>\n",
       "      <td>1</td>\n",
       "      <td>2.871821</td>\n",
       "      <td>0.718581</td>\n",
       "      <td>0.185714</td>\n",
       "      <td>0.814286</td>\n",
       "      <td>2.051521</td>\n",
       "      <td>00:47</td>\n",
       "    </tr>\n",
       "    <tr>\n",
       "      <td>2</td>\n",
       "      <td>2.491171</td>\n",
       "      <td>0.470399</td>\n",
       "      <td>0.157143</td>\n",
       "      <td>0.842857</td>\n",
       "      <td>1.600633</td>\n",
       "      <td>00:47</td>\n",
       "    </tr>\n",
       "    <tr>\n",
       "      <td>3</td>\n",
       "      <td>2.102498</td>\n",
       "      <td>0.303143</td>\n",
       "      <td>0.085714</td>\n",
       "      <td>0.914286</td>\n",
       "      <td>1.354108</td>\n",
       "      <td>00:47</td>\n",
       "    </tr>\n",
       "    <tr>\n",
       "      <td>4</td>\n",
       "      <td>1.960301</td>\n",
       "      <td>0.253956</td>\n",
       "      <td>0.100000</td>\n",
       "      <td>0.900000</td>\n",
       "      <td>1.289115</td>\n",
       "      <td>00:47</td>\n",
       "    </tr>\n",
       "    <tr>\n",
       "      <td>5</td>\n",
       "      <td>1.909165</td>\n",
       "      <td>0.197701</td>\n",
       "      <td>0.071429</td>\n",
       "      <td>0.928571</td>\n",
       "      <td>1.218598</td>\n",
       "      <td>00:47</td>\n",
       "    </tr>\n",
       "    <tr>\n",
       "      <td>6</td>\n",
       "      <td>1.647301</td>\n",
       "      <td>0.164117</td>\n",
       "      <td>0.057143</td>\n",
       "      <td>0.942857</td>\n",
       "      <td>1.178352</td>\n",
       "      <td>00:47</td>\n",
       "    </tr>\n",
       "    <tr>\n",
       "      <td>7</td>\n",
       "      <td>1.592349</td>\n",
       "      <td>0.130880</td>\n",
       "      <td>0.042857</td>\n",
       "      <td>0.957143</td>\n",
       "      <td>1.139831</td>\n",
       "      <td>00:47</td>\n",
       "    </tr>\n",
       "    <tr>\n",
       "      <td>8</td>\n",
       "      <td>1.504651</td>\n",
       "      <td>0.140475</td>\n",
       "      <td>0.042857</td>\n",
       "      <td>0.957143</td>\n",
       "      <td>1.150821</td>\n",
       "      <td>00:47</td>\n",
       "    </tr>\n",
       "    <tr>\n",
       "      <td>9</td>\n",
       "      <td>1.426316</td>\n",
       "      <td>0.129106</td>\n",
       "      <td>0.028571</td>\n",
       "      <td>0.971429</td>\n",
       "      <td>1.137810</td>\n",
       "      <td>00:47</td>\n",
       "    </tr>\n",
       "  </tbody>\n",
       "</table>"
      ],
      "text/plain": [
       "<IPython.core.display.HTML object>"
      ]
     },
     "metadata": {},
     "output_type": "display_data"
    },
    {
     "data": {
      "image/png": "[encoded data removed]",
      "text/plain": [
       "<Figure size 432x288 with 1 Axes>"
      ]
     },
     "metadata": {},
     "output_type": "display_data"
    }
   ],
   "source": [
    "learn_lm.fit_one_cycle(10, lr, wd=0.1, moms=(0.8,0.7), callbacks=[ShowGraph(learn_lm)])"
   ]
  },
  {
   "cell_type": "code",
   "execution_count": 30,
   "metadata": {},
   "outputs": [
    {
     "data": {
      "image/png": "[encoded data removed]",
      "text/plain": [
       "<Figure size 432x288 with 1 Axes>"
      ]
     },
     "metadata": {
      "needs_background": "light"
     },
     "output_type": "display_data"
    }
   ],
   "source": [
    "learn_lm.recorder.plot_lr()"
   ]
  },
  {
   "cell_type": "code",
   "execution_count": 31,
   "metadata": {},
   "outputs": [
    {
     "data": {
      "text/plain": [
       "'O Governo ▁do ▁xxmaj ▁distrito ▁xxmaj ▁federal , ▁no ▁uso ▁das ▁atribuições ▁que ▁lhe ▁confere m ▁os ▁artigos ▁20, ▁incisos ▁xxup ▁ii , ▁xxup ▁iii , ▁xxup ▁iv , ▁i ▁e ▁xxup'"
      ]
     },
     "execution_count": 31,
     "metadata": {},
     "output_type": "execute_result"
    }
   ],
   "source": [
    "learn_lm.predict(\"O Governo\", n_words=30)"
   ]
  },
  {
   "cell_type": "code",
   "execution_count": 32,
   "metadata": {},
   "outputs": [],
   "source": [
    "learn_lm.save('fine_tune_lm')\n",
    "learn_lm.save_encoder('fine_tune_enc')"
   ]
  },
  {
   "cell_type": "markdown",
   "metadata": {},
   "source": [
    "## Fine-tune backward LM"
   ]
  },
  {
   "cell_type": "code",
   "execution_count": 33,
   "metadata": {},
   "outputs": [],
   "source": [
    "data_lm = (TextList.from_df(df_lm,cols='text', processor=SPProcessor.load(path))\n",
    "                           .split_by_rand_pct(0.2, seed=seed)\n",
    "                           .label_for_lm()\n",
    "                           .databunch(bs=bs, backwards=True))"
   ]
  },
  {
   "cell_type": "code",
   "execution_count": 34,
   "metadata": {},
   "outputs": [
    {
     "data": {
      "text/html": [
       "<table border=\"1\" class=\"dataframe\">\n",
       "  <thead>\n",
       "    <tr style=\"text-align: right;\">\n",
       "      <th>idx</th>\n",
       "      <th>text</th>\n",
       "    </tr>\n",
       "  </thead>\n",
       "  <tbody>\n",
       "    <tr>\n",
       "      <td>0</td>\n",
       "      <td>▁do ▁termos ▁nos , comprasnet ▁ ▁do ▁sítio ▁no ada ▁process ▁será ▁pública ▁xxmaj ▁sessão ▁xxmaj ▁a ). 3 ▁97400 : uasg ▁( ▁xxup br . gov . comprasnet . ww ▁w ▁e br . gov . df . tc . ww ▁w : ▁sítios ▁pelos ▁ou 742 ▁3314-2 61) ▁( ▁telefone , ▁tcdf ▁xxup ▁do ▁anexo ▁xxmaj . ▁ed ▁xxmaj ▁do ▁andar ▁xxmaj o ▁2 ▁no ▁localizado , ▁licitação</td>\n",
       "    </tr>\n",
       "    <tr>\n",
       "      <td>1</td>\n",
       "      <td>s ▁regra ▁as ▁e ▁pertinente ▁legislação ▁a ▁com sonância ▁con ▁em ▁mencionadas ▁acima ▁disposições ▁das ância ▁observ ▁fiel ▁da os ▁incumbid ▁servidores ▁mencionados ▁os ▁ficam ▁xxmaj o ▁2 . ▁art ▁xxmaj . financeira - ▁administrativo ▁atividades ▁xxmaj ▁das ▁coordenação ▁xxmaj ▁na ém b ▁tam á ▁atuar ▁fiscalização ▁na ▁atuar ▁de ém ▁al ▁lopes ▁xxmaj s ▁marti ▁xxmaj ▁rodrigues ▁xxmaj ▁paiva ▁xxmaj ▁de ▁thais ▁xxmaj ▁servidora ▁a ▁que ▁sendo , ▁83.359-2</td>\n",
       "    </tr>\n",
       "    <tr>\n",
       "      <td>2</td>\n",
       "      <td>, ▁03 - ▁cnp ▁xxup ▁símbolo ▁xxmaj , ▁política ▁xxmaj ▁natureza ▁xxmaj ▁de ▁cargo ▁xxmaj ▁do , ▁silva ▁xxup ▁da ▁xxup ▁martins ▁xxup ileu rg ▁a ▁xxup , ▁pedido ▁a , ▁exonerar ▁xxup . ▁federal ▁distrito ▁xxmaj ▁do ▁comunicação ▁xxmaj ▁de ▁estado ▁xxmaj ▁de ▁secretaria ▁xxmaj ▁da , ▁estado ▁xxmaj ▁de ▁secretário ▁xxmaj ▁de , -03 ▁cnp ▁xxup ▁símbolo ▁xxmaj , ▁política ▁xxmaj ▁natureza ▁xxmaj ▁de ▁cargo ▁xxmaj ▁do ,</td>\n",
       "    </tr>\n",
       "    <tr>\n",
       "      <td>3</td>\n",
       "      <td>i ▁fil ▁xxup 31, 71 ▁19713 ; ▁moura ▁xxup ▁moreira ▁xxup ▁borges ▁xxup pe i ▁fil ▁xxup 74, 74 ▁19712 ; la ndo ▁espi ▁xxup da e bi ▁ ▁xxup pe i ▁fil ▁xxup 75, 26 10 ▁197 ; cao ▁concei ▁xxup ▁da ▁xxup ▁barbosa ▁xxup pe i ▁fil ▁xxup 83, 11 ▁19712 ; ▁fernandes ▁xxup ▁alencar ▁xxup pe i ▁fil ▁xxup 104, 0 ▁19713 ; ▁cardoso ▁xxup ▁ribeiro ▁xxup</td>\n",
       "    </tr>\n",
       "    <tr>\n",
       "      <td>4</td>\n",
       "      <td>▁xxmaj ▁de ▁comissão ▁xxmaj stituírem ▁con , ▁primeiro ▁do ▁presidência ▁a ▁sob , ▁para -4; 45 ▁215.7 ▁no ▁matrícula , ▁ambiente ▁xxmaj ▁meio ▁xxmaj ▁do ▁atividades ▁xxmaj ▁de ▁analista ▁xxmaj , ▁mesquita ▁xxup ▁de ▁xxup ▁gonçalves ▁xxup o ▁fábi ▁xxup ▁luis ▁xxup ▁e ; x .259- 4 ▁26 ▁xxup ▁no ▁matrícula , ▁urbanas ▁xxmaj ▁atividades ▁xxmaj ▁de ▁fiscal ▁xxmaj ▁auditora ▁xxmaj , ▁mendes ▁xxup ▁moraes ▁xxup ▁de ▁xxup a ▁flávi</td>\n",
       "    </tr>\n",
       "  </tbody>\n",
       "</table>"
      ],
      "text/plain": [
       "<IPython.core.display.HTML object>"
      ]
     },
     "metadata": {},
     "output_type": "display_data"
    }
   ],
   "source": [
    "data_lm.show_batch()"
   ]
  },
  {
   "cell_type": "code",
   "execution_count": 35,
   "metadata": {},
   "outputs": [],
   "source": [
    "data_lm.save('./data/data_lm_back.pkl')"
   ]
  },
  {
   "cell_type": "code",
   "execution_count": 36,
   "metadata": {},
   "outputs": [],
   "source": [
    "learn_lm = language_model_learner(data_lm, AWD_LSTM, config=config, pretrained_fnames=lm_fns3_bwd, drop_mult=1., \n",
    "                                  metrics=[error_rate, accuracy, perplexity])"
   ]
  },
  {
   "cell_type": "code",
   "execution_count": 37,
   "metadata": {},
   "outputs": [
    {
     "data": {
      "text/html": [],
      "text/plain": [
       "<IPython.core.display.HTML object>"
      ]
     },
     "metadata": {},
     "output_type": "display_data"
    },
    {
     "name": "stdout",
     "output_type": "stream",
     "text": [
      "LR Finder is complete, type {learner_name}.recorder.plot() to see the graph.\n"
     ]
    }
   ],
   "source": [
    "learn_lm.lr_find()"
   ]
  },
  {
   "cell_type": "code",
   "execution_count": 38,
   "metadata": {},
   "outputs": [
    {
     "data": {
      "image/png": "[encoded data removed]",
      "text/plain": [
       "<Figure size 432x288 with 1 Axes>"
      ]
     },
     "metadata": {
      "needs_background": "light"
     },
     "output_type": "display_data"
    }
   ],
   "source": [
    "learn_lm.recorder.plot()"
   ]
  },
  {
   "cell_type": "code",
   "execution_count": 39,
   "metadata": {},
   "outputs": [],
   "source": [
    "lr=1e-1"
   ]
  },
  {
   "cell_type": "code",
   "execution_count": 40,
   "metadata": {},
   "outputs": [
    {
     "data": {
      "text/html": [
       "<table border=\"1\" class=\"dataframe\">\n",
       "  <thead>\n",
       "    <tr style=\"text-align: left;\">\n",
       "      <th>epoch</th>\n",
       "      <th>train_loss</th>\n",
       "      <th>valid_loss</th>\n",
       "      <th>error_rate</th>\n",
       "      <th>accuracy</th>\n",
       "      <th>perplexity</th>\n",
       "      <th>time</th>\n",
       "    </tr>\n",
       "  </thead>\n",
       "  <tbody>\n",
       "    <tr>\n",
       "      <td>0</td>\n",
       "      <td>10.990892</td>\n",
       "      <td>6.967726</td>\n",
       "      <td>0.893869</td>\n",
       "      <td>0.106131</td>\n",
       "      <td>1061.806641</td>\n",
       "      <td>00:37</td>\n",
       "    </tr>\n",
       "    <tr>\n",
       "      <td>1</td>\n",
       "      <td>6.019197</td>\n",
       "      <td>5.803520</td>\n",
       "      <td>0.876508</td>\n",
       "      <td>0.123492</td>\n",
       "      <td>331.464020</td>\n",
       "      <td>00:37</td>\n",
       "    </tr>\n",
       "  </tbody>\n",
       "</table>"
      ],
      "text/plain": [
       "<IPython.core.display.HTML object>"
      ]
     },
     "metadata": {},
     "output_type": "display_data"
    }
   ],
   "source": [
    "learn_lm.fit_one_cycle(2, lr, wd=0.1, moms=(0.8,0.7))"
   ]
  },
  {
   "cell_type": "code",
   "execution_count": 41,
   "metadata": {},
   "outputs": [],
   "source": [
    "learn_lm.save('fine_tune_lm_bwd')\n",
    "learn_lm.save_encoder('fine_tune_enc_bwd')"
   ]
  },
  {
   "cell_type": "code",
   "execution_count": 42,
   "metadata": {},
   "outputs": [
    {
     "data": {
      "text/html": [],
      "text/plain": [
       "<IPython.core.display.HTML object>"
      ]
     },
     "metadata": {},
     "output_type": "display_data"
    },
    {
     "name": "stdout",
     "output_type": "stream",
     "text": [
      "LR Finder is complete, type {learner_name}.recorder.plot() to see the graph.\n"
     ]
    }
   ],
   "source": [
    "learn_lm.unfreeze()\n",
    "learn_lm.lr_find()"
   ]
  },
  {
   "cell_type": "code",
   "execution_count": 43,
   "metadata": {},
   "outputs": [
    {
     "data": {
      "image/png": "[encoded data removed]",
      "text/plain": [
       "<Figure size 432x288 with 1 Axes>"
      ]
     },
     "metadata": {
      "needs_background": "light"
     },
     "output_type": "display_data"
    }
   ],
   "source": [
    "learn_lm.recorder.plot()"
   ]
  },
  {
   "cell_type": "code",
   "execution_count": 44,
   "metadata": {},
   "outputs": [],
   "source": [
    "lr=1e-2"
   ]
  },
  {
   "cell_type": "code",
   "execution_count": 45,
   "metadata": {},
   "outputs": [
    {
     "data": {
      "text/html": [
       "<table border=\"1\" class=\"dataframe\">\n",
       "  <thead>\n",
       "    <tr style=\"text-align: left;\">\n",
       "      <th>epoch</th>\n",
       "      <th>train_loss</th>\n",
       "      <th>valid_loss</th>\n",
       "      <th>error_rate</th>\n",
       "      <th>accuracy</th>\n",
       "      <th>perplexity</th>\n",
       "      <th>time</th>\n",
       "    </tr>\n",
       "  </thead>\n",
       "  <tbody>\n",
       "    <tr>\n",
       "      <td>0</td>\n",
       "      <td>5.191076</td>\n",
       "      <td>5.076291</td>\n",
       "      <td>0.757674</td>\n",
       "      <td>0.242326</td>\n",
       "      <td>160.178864</td>\n",
       "      <td>00:51</td>\n",
       "    </tr>\n",
       "    <tr>\n",
       "      <td>1</td>\n",
       "      <td>3.419759</td>\n",
       "      <td>3.568627</td>\n",
       "      <td>0.567158</td>\n",
       "      <td>0.432842</td>\n",
       "      <td>35.467808</td>\n",
       "      <td>00:51</td>\n",
       "    </tr>\n",
       "    <tr>\n",
       "      <td>2</td>\n",
       "      <td>2.583399</td>\n",
       "      <td>2.996648</td>\n",
       "      <td>0.499315</td>\n",
       "      <td>0.500685</td>\n",
       "      <td>20.018311</td>\n",
       "      <td>00:51</td>\n",
       "    </tr>\n",
       "    <tr>\n",
       "      <td>3</td>\n",
       "      <td>2.250463</td>\n",
       "      <td>2.721676</td>\n",
       "      <td>0.466091</td>\n",
       "      <td>0.533909</td>\n",
       "      <td>15.205795</td>\n",
       "      <td>00:51</td>\n",
       "    </tr>\n",
       "    <tr>\n",
       "      <td>4</td>\n",
       "      <td>2.143383</td>\n",
       "      <td>2.579690</td>\n",
       "      <td>0.446171</td>\n",
       "      <td>0.553829</td>\n",
       "      <td>13.193041</td>\n",
       "      <td>00:51</td>\n",
       "    </tr>\n",
       "    <tr>\n",
       "      <td>5</td>\n",
       "      <td>1.924962</td>\n",
       "      <td>2.459377</td>\n",
       "      <td>0.426850</td>\n",
       "      <td>0.573150</td>\n",
       "      <td>11.697512</td>\n",
       "      <td>00:51</td>\n",
       "    </tr>\n",
       "    <tr>\n",
       "      <td>6</td>\n",
       "      <td>1.729249</td>\n",
       "      <td>2.360579</td>\n",
       "      <td>0.409846</td>\n",
       "      <td>0.590154</td>\n",
       "      <td>10.597078</td>\n",
       "      <td>00:51</td>\n",
       "    </tr>\n",
       "    <tr>\n",
       "      <td>7</td>\n",
       "      <td>1.701375</td>\n",
       "      <td>2.285222</td>\n",
       "      <td>0.395030</td>\n",
       "      <td>0.604970</td>\n",
       "      <td>9.827866</td>\n",
       "      <td>00:51</td>\n",
       "    </tr>\n",
       "    <tr>\n",
       "      <td>8</td>\n",
       "      <td>1.479915</td>\n",
       "      <td>2.245331</td>\n",
       "      <td>0.389380</td>\n",
       "      <td>0.610620</td>\n",
       "      <td>9.443537</td>\n",
       "      <td>00:51</td>\n",
       "    </tr>\n",
       "    <tr>\n",
       "      <td>9</td>\n",
       "      <td>1.495988</td>\n",
       "      <td>2.241518</td>\n",
       "      <td>0.387480</td>\n",
       "      <td>0.612520</td>\n",
       "      <td>9.407595</td>\n",
       "      <td>00:51</td>\n",
       "    </tr>\n",
       "  </tbody>\n",
       "</table>"
      ],
      "text/plain": [
       "<IPython.core.display.HTML object>"
      ]
     },
     "metadata": {},
     "output_type": "display_data"
    },
    {
     "data": {
      "image/png": "[encoded data removed]",
      "text/plain": [
       "<Figure size 432x288 with 1 Axes>"
      ]
     },
     "metadata": {},
     "output_type": "display_data"
    }
   ],
   "source": [
    "learn_lm.fit_one_cycle(10, lr, wd=0.1, moms=(0.8,0.7), callbacks=[ShowGraph(learn_lm)])"
   ]
  },
  {
   "cell_type": "code",
   "execution_count": 46,
   "metadata": {},
   "outputs": [],
   "source": [
    "learn_lm.save('fine_tune_lm_bwd')\n",
    "learn_lm.save_encoder('fine_tune_enc_bwd')"
   ]
  },
  {
   "cell_type": "markdown",
   "metadata": {},
   "source": [
    "## Train forward classifier"
   ]
  },
  {
   "cell_type": "code",
   "execution_count": 47,
   "metadata": {},
   "outputs": [],
   "source": [
    "bs=8"
   ]
  },
  {
   "cell_type": "code",
   "execution_count": 48,
   "metadata": {},
   "outputs": [],
   "source": [
    "data_lm = load_data(\"data/\", \"data_lm_export.pkl\", bs=bs)"
   ]
  },
  {
   "cell_type": "code",
   "execution_count": 49,
   "metadata": {},
   "outputs": [],
   "source": [
    "data_clas = (TextList.from_df(df_train, path, cols='text',\n",
    "                              processor=SPProcessor.load(path))\n",
    "                         .split_by_rand_pct(0.2, seed=seed)\n",
    "                         .label_from_df(cols=0)\n",
    "                         .databunch(bs=bs))"
   ]
  },
  {
   "cell_type": "code",
   "execution_count": 50,
   "metadata": {},
   "outputs": [
    {
     "data": {
      "text/plain": [
       "(8552, 8552)"
      ]
     },
     "execution_count": 50,
     "metadata": {},
     "output_type": "execute_result"
    }
   ],
   "source": [
    "len(data_clas.vocab.itos), len(data_lm.vocab.itos)"
   ]
  },
  {
   "cell_type": "code",
   "execution_count": 51,
   "metadata": {},
   "outputs": [],
   "source": [
    "data_clas.save(path/'data/data_clas_export.pkl')"
   ]
  },
  {
   "cell_type": "code",
   "execution_count": 52,
   "metadata": {},
   "outputs": [
    {
     "data": {
      "text/html": [
       "<table border=\"1\" class=\"dataframe\">\n",
       "  <thead>\n",
       "    <tr style=\"text-align: right;\">\n",
       "      <th>text</th>\n",
       "      <th>target</th>\n",
       "    </tr>\n",
       "  </thead>\n",
       "  <tbody>\n",
       "    <tr>\n",
       "      <td>▁xxbos ▁o ▁xxup ▁subsecretário ▁xxup ▁de ▁xxup ▁administração ▁xxup ▁geral , ▁xxup ▁da ▁xxup ▁secretaria ▁xxup ▁de ▁xxup ▁estado ▁xxup ▁de ▁xxup ▁seg ura n ▁xxup ▁ ç a ▁xxup ▁pública ▁xxup ▁do ▁xxup ▁distrito ▁xxup ▁federal , ▁no ▁uso ▁de ▁suas ▁atribuições ▁previstas ▁no ▁art . ▁30 ▁do ▁xxmaj ▁decreto ▁32.598 ▁/ ▁2010, ▁e ▁visa ndo ▁a ▁instrução ▁dos ▁autos ▁do ▁xxmaj ▁processo ▁no ▁xxrep ▁4 ▁0 ▁ 9</td>\n",
       "      <td>SECRETARIA DE ESTADO DE SEGURANÇA PÚBLICA</td>\n",
       "    </tr>\n",
       "    <tr>\n",
       "      <td>▁xxbos ▁o ▁xxup ▁governador ▁xxup ▁do ▁xxup ▁distrito ▁xxup ▁federal , ▁no ▁uso ▁de ▁suas ▁atribuições ▁legais , ▁e s - ▁ pe cial mente ▁as ▁previstas ▁no ▁art . ▁100, ▁incisos ▁xxup ▁xxvi ▁e ▁xxup ▁xxvii , ▁da ▁xxmaj ▁lei ▁xxmaj ▁orgânica ▁do ▁xxmaj ▁distrito ▁xxmaj ▁federal , ▁xxup ▁resolve : ▁xxup ▁exonerar , ▁por ▁estar ▁sendo ▁nomead a ▁para ▁outro ▁cargo , ▁xxup ▁raphael a ▁xxup ▁santos ▁xxup</td>\n",
       "      <td>PODER EXECUTIVO</td>\n",
       "    </tr>\n",
       "    <tr>\n",
       "      <td>▁xxbos ▁o ▁xxup ▁governador ▁xxup ▁do ▁xxup ▁distrito ▁xxup ▁federal , ▁no ▁uso ▁das ▁atribuições ▁que ▁lhe ▁confere ▁o ▁artigo ▁100, ▁incisos ▁xxup ▁xxvi ▁e ▁xxup ▁xxvii , ▁da ▁xxmaj ▁lei ▁xxmaj ▁orgânica ▁do ▁xxmaj ▁distrito ▁xxmaj ▁federal , ▁resolve : ▁xxup ▁nomear ▁xxup ▁camil a ▁xxup ▁beatri z ▁xxup ▁da ▁xxup ▁silva ▁xxup ▁oliveira ▁para ▁exercer ▁o ▁xxmaj ▁cargo ▁de ▁xxmaj ▁natureza ▁xxmaj ▁especial , ▁xxmaj ▁símbolo ▁xxup ▁cne</td>\n",
       "      <td>PODER EXECUTIVO</td>\n",
       "    </tr>\n",
       "    <tr>\n",
       "      <td>▁xxbos ▁o ▁xxup ▁governador ▁xxup ▁do ▁xxup ▁distrito ▁xxup ▁federal , ▁no ▁uso ▁das ▁atribuições ▁que ▁lhe ▁confere ▁o ▁artigo ▁100, ▁incisos ▁xxup ▁iii , ▁xxup ▁xxvi ▁e ▁xxup ▁xxvii , ▁da ▁xxmaj ▁lei ▁xxmaj ▁orgânica ▁do ▁xxmaj ▁distrito ▁xxmaj ▁federal , ▁resolve : ▁xxup ▁nomear ▁xxup ▁ s ever ino ▁xxup ▁de ▁xxup ▁sousa ▁xxup ▁oliveira ▁para ▁exercer ▁o ▁xxmaj ▁cargo ▁de ▁xxmaj ▁natureza ▁xxmaj ▁política , ▁xxmaj ▁símbolo</td>\n",
       "      <td>PODER EXECUTIVO</td>\n",
       "    </tr>\n",
       "    <tr>\n",
       "      <td>▁xxbos ▁o ▁xxup ▁governador ▁xxup ▁do ▁xxup ▁distrito ▁xxup ▁federal , ▁no ▁uso ▁de ▁suas ▁atribuições ▁legais , ▁especial mente ▁as ▁previstas ▁no ▁art . ▁100, ▁incisos ▁xxup ▁xxvi ▁e ▁xxup ▁xxvii , ▁da ▁xxmaj ▁lei ▁xxmaj ▁orgânica ▁do ▁xxmaj ▁distrito ▁xxmaj ▁federal , ▁resolve : ▁xxup ▁exonerar , ▁por ▁ter ▁ sido ▁nomead a ▁para ▁outro ▁cargo , ▁xxup ▁ ivani se ▁xxup ▁machado ▁xxup ▁fil gu eiras ▁xxup</td>\n",
       "      <td>PODER EXECUTIVO</td>\n",
       "    </tr>\n",
       "  </tbody>\n",
       "</table>"
      ],
      "text/plain": [
       "<IPython.core.display.HTML object>"
      ]
     },
     "metadata": {},
     "output_type": "display_data"
    }
   ],
   "source": [
    "data_clas.show_batch()"
   ]
  },
  {
   "cell_type": "code",
   "execution_count": 53,
   "metadata": {},
   "outputs": [],
   "source": [
    "config = awd_lstm_clas_config.copy()\n",
    "config['qrnn'] = True\n",
    "config['n_hid'] = 1550 #default 1152\n",
    "config['n_layers'] = 4 #default 3"
   ]
  },
  {
   "cell_type": "code",
   "execution_count": 54,
   "metadata": {},
   "outputs": [
    {
     "data": {
      "text/plain": [
       "RNNLearner(data=TextClasDataBunch;\n",
       "\n",
       "Train: LabelList (384 items)\n",
       "x: TextList\n",
       "▁xxbos ▁xxup ▁processo : ▁00150-000106 29 ▁/ ▁2018-72 ; ▁xxup ▁nota ▁xxup ▁de ▁xxup ▁empenho ▁xxmaj ▁no ▁01 1 00 ▁/ ▁2018; ▁xxup ▁das ▁xxup ▁partes : ▁xxup ▁df ▁/ ▁xxup ▁sec ▁/ ▁xxup ▁fac ▁x ▁xxup ▁santiago ▁xxup ▁machado ▁xxup ▁de lla pe . ▁xxmaj ▁na ▁qualidade ▁de ▁xxmaj ▁beneficiário ▁/ ▁a . ▁xxup ▁espécie : ▁xxmaj ▁termo ▁de ▁xxmaj ▁ajuste ▁xxmaj ▁no ▁7 06 ▁/ ▁2018; ▁xxup ▁modalidade : ▁xxmaj ▁seleção ▁xxmaj ▁pública ; ▁xxup ▁do ▁xxup ▁objeto : ▁o ▁presente ▁xxmaj ▁termo ▁de ▁xxmaj ▁ajuste ▁tem ▁por ▁objeto ▁a ▁concessão ▁de ▁apoio ▁financeiro ▁pelo ▁xxup ▁fundo ▁xxup ▁de ▁xxup ▁apoio ▁à ▁xxup ▁cultura ▁ao ▁xxmaj ▁programa ▁xxmaj ▁conexão ▁xxmaj ▁cultural ▁xxup ▁df ▁ # ▁xxmaj ▁negócios ▁de ▁interesse ▁do ▁/ ▁a ▁xxmaj ▁beneficiário ▁/ ▁a ▁acima ▁especificado ▁/ ▁a ; ▁xxup ▁do ▁xxup ▁valor : ▁xxup ▁r $ ▁ 15.000,00 ▁( quinze ▁mil ▁reais ) ▁que ▁será ▁libera do ▁em ▁parcela ▁única ▁e ▁transferido s ▁à ▁conta ▁do ▁/ ▁a ▁xxmaj ▁beneficiário ▁/ ▁a , ▁corre ndo ▁a ▁despesa ▁à ▁conta ▁de ▁dotação ▁orçamentária ▁própria ▁do ▁xxmaj ▁programa ▁de ▁xxmaj ▁trabalho ▁13.392.6219.2 911. 0001 ▁- ▁xxmaj ▁realização ▁de ▁xxmaj ▁ações ▁xxmaj ▁culturais ▁- ▁xxmaj ▁conexão ▁xxup ▁fac ▁- ▁xxmaj ▁fonte ▁100 ▁- ▁xxmaj ▁natureza ▁da ▁despesa : ▁33.90. 48; ▁xxup ▁da ▁xxup ▁vigência : ▁o ▁presente ▁termo ▁de ▁ajuste ▁entra rá ▁em ▁vigência ▁a ▁partir ▁da ▁data ▁de ▁assinatura ▁do ▁beneficiário , ▁com ▁dura ção ▁de ▁ 8 ▁( oito ) ▁meses , ▁permitid a ▁a ▁prorrogação ▁na ▁forma ▁da ▁lei ▁vigente ; ▁xxup ▁data ▁xxup ▁da ▁xxup ▁assinatura : ▁20 ▁/ ▁12 ▁/ ▁2018; ▁xxup ▁legislação : ▁xxmaj ▁lei ▁no ▁934 ▁/ ▁2017, ▁xxmaj ▁portaria ▁no ▁158 , ▁de ▁20 ▁de ▁setembro ▁de ▁2016, ▁ alterada ▁pela ▁xxmaj ▁portaria ▁no ▁106 ▁/ ▁2018; ▁xxmaj ▁pelo ▁xxup ▁fac ▁/ ▁xxup ▁sec ▁/ ▁xxup ▁df : ▁xxmaj ▁luís ▁xxmaj ▁guil herme ▁xxmaj ▁almeida ▁xxmaj ▁reis ; ▁xxup ▁beneficiário ▁/ ▁xxup ▁a : ▁xxup ▁santiago ▁xxup ▁machado ▁xxup ▁de lla pe .,▁xxbos ▁o ▁xxup ▁diretor - geral ▁xxup ▁do ▁xxup ▁departamento ▁xxup ▁de ▁xxup ▁trânsito ▁xxup ▁do ▁xxup ▁distrito ▁xxup ▁federal , ▁no ▁uso ▁da ▁a tribuição ▁prevista ▁no ▁art . ▁3 o , ▁do ▁xxmaj ▁decreto ▁no ▁39.002 , ▁de ▁24 ▁de ▁abri l ▁de ▁2018, ▁que ▁regulamenta ▁os ▁arts . ▁44 ▁e ▁45 ▁da ▁xxmaj ▁lei ▁xxmaj ▁complementar ▁no ▁ 840, ▁de ▁23 ▁de ▁dezembro ▁de ▁2011, ▁e ▁conforme ▁xxmaj ▁processo ▁xxup ▁sei ▁no ▁00055-001 674 90 ▁/ ▁2018-43 , ▁resolve : ▁xxup ▁designar ▁xxup ▁ ja ke line ▁xxup ▁lima ▁xxup ▁dos ▁xxup ▁santos , ▁xxmaj ▁assistente ▁de ▁xxmaj ▁trânsito , ▁matrícula ▁xxup ▁250.44 3 - x , ▁para ▁substituir ▁xxup ▁ana ▁xxup ▁claudia ▁xxup ▁dantas ▁xxup ▁conceição ▁xxup ▁braga , ▁xxmaj ▁assistente ▁de ▁xxmaj ▁trânsito , ▁matrícula ▁xxup ▁1.1 24 - x , ▁chefe , ▁símbolo ▁xxup ▁dfg -12, ▁do ▁xxmaj ▁núcleo ▁de ▁xxmaj ▁registro ▁e ▁xxmaj ▁expedi ção ▁de ▁xxmaj ▁documentos ▁de ▁xxmaj ▁habilitação ▁- ▁xxup ▁nu re d , ▁da ▁xxmaj ▁gerência ▁de ▁xxmaj ▁habilitação ▁e ▁xxmaj ▁controle ▁de ▁xxmaj ▁condutor ▁- ▁xxmaj ▁ger hab , ▁da ▁xxmaj ▁diretoria ▁de ▁xxmaj ▁controle ▁de ▁xxmaj ▁veículos ▁e ▁xxmaj ▁condutores ▁- ▁xxmaj ▁dir conv , ▁do ▁xxmaj ▁detran ▁/ ▁xxup ▁df , ▁no ▁período ▁de ▁07 ▁a ▁16 ▁/ ▁01 ▁/ ▁2019, ▁por ▁motivo ▁de ▁férias ▁do ▁titular . ▁xxup ▁fabr ício ▁xxup ▁lima ▁xxup ▁de ▁xxup ▁andrade ▁xxup ▁moura,▁xxbos ▁a ▁xxmaj ▁comissão ▁xxmaj ▁permanente ▁de ▁xxmaj ▁licitação ▁do ▁xxup ▁brb ▁- ▁xxup ▁banco ▁xxup ▁de ▁xxup ▁brasília ▁xxup ▁ s . a . ▁torna ▁público ▁o ▁julgamento ▁da ▁xxmaj ▁concorrência ▁xxup ▁dipe s ▁/ ▁xxup ▁c plic ▁xxmaj ▁no ▁010 ▁/ ▁2018, ▁referente ▁à ▁a li enação ▁de ▁ 72 ▁( se tenta ▁e ▁dois ) ▁imóveis ▁residencia is , ▁comerciais ▁e ▁r ura is , ▁pertencente s ▁ao ▁xxup ▁brb ▁- ▁xxmaj ▁banco ▁de ▁xxmaj ▁brasília ▁xxup ▁ s . a . , ▁situado s ▁no ▁xxmaj ▁distrito ▁xxmaj ▁federal ▁e ▁nos ▁estado s ▁de ▁xxmaj ▁goiás , ▁xxmaj ▁ minas ▁xxmaj ▁gerais , ▁xxmaj ▁ pi a u í ▁e ▁xxmaj ▁são ▁xxmaj ▁paulo . ▁xxmaj ▁item ▁2 : ▁xxmaj ▁licitante ▁xxmaj ▁vencedora : ▁xxmaj ▁e ve line ▁xxmaj ▁martins ▁xxmaj ▁brito , ▁xxmaj ▁valor ▁xxmaj ▁o fer ta do : ▁xxup ▁r $ ▁4 90 . 01 0,00 ▁( quatro centos ▁e ▁noventa ▁mil ▁e ▁ dez ▁reais ); ▁xxmaj ▁item ▁3 : ▁xxmaj ▁licitante ▁xxmaj ▁vencedora : ▁xxmaj ▁ne usa ▁xxmaj ▁august a ▁xxmaj ▁daniel ▁da ▁xxmaj ▁silva , ▁xxmaj ▁valor ▁xxmaj ▁o fer ta do : ▁xxup ▁r $ ▁36 1. 10 0,00 ▁( trezentos ▁e ▁sessenta ▁e ▁um ▁mil ▁e ▁ cem ▁reais ); ▁xxmaj ▁item ▁5 : ▁xxmaj ▁licitante ▁xxmaj ▁vencedor : ▁xxmaj ▁jac k son ▁xxmaj ▁ra o ne ▁xxmaj ▁ bene vid es ▁da ▁xxmaj ▁silva ▁xxmaj ▁ramalho , ▁xxmaj ▁valor ▁xxmaj ▁o fer ta do : ▁xxup ▁r $ ▁31 1. 615 ,50 ▁( trezentos ▁e ▁o nze ▁mil , ▁seiscentos ▁e ▁ quinze ▁reais ▁e ▁cinquenta ▁centavos ); ▁xxmaj ▁item ▁17 : ▁xxmaj ▁licitante ▁xxmaj ▁vencedor : ▁xxmaj ▁ bernardo ▁xxmaj ▁ br essa n ▁dos ▁xxmaj ▁santos , ▁xxmaj ▁valor ▁xxmaj ▁o fer ta do : ▁xxup ▁r $ ▁18 8. 10 0,00 ▁( cento ▁e ▁oitenta ▁e ▁oito ▁mil ▁e ▁ cem ▁reais ); ▁xxmaj ▁item ▁23 : ▁xxmaj ▁licitante ▁xxmaj ▁vencedora : ▁xxmaj ▁a line ▁xxmaj ▁queiroz ▁da ▁xxmaj ▁silva ▁xxmaj ▁fernandes , ▁xxmaj ▁valor ▁xxmaj ▁o fer ta do : ▁xxup ▁r $ 22 1.000,00 ▁( duzent os ▁e ▁vinte ▁e ▁um ▁mil ▁reais ). ▁xxmaj ▁não ▁fora m ▁apresentada s ▁propostas ▁para ▁os ▁demais ▁itens . ▁xxmaj ▁os ▁autos ▁do ▁processo ▁encontram - se ▁com ▁vista ▁franqueada ▁no ▁horário ▁de ▁10 ▁às ▁16 ▁horas , ▁no ▁xxup ▁ s b s , ▁xxmaj ▁quadra ▁1 , ▁xxmaj ▁ b l . ▁xxup ▁e , ▁xxmaj ▁ed . ▁xxmaj ▁brasília , ▁16 o ▁andar , ▁xxmaj ▁brasília ▁/ ▁xxup ▁df . ▁xxmaj ▁processo : ▁10 92 ▁/ ▁2018. ▁xxmaj ▁jean ▁xxmaj ▁felip pe ▁xxmaj ▁ mazé pas ▁- ▁xxmaj ▁presidente ▁da ▁xxup ▁c plic,▁xxbos ▁a ▁xxup ▁administradora ▁xxup ▁regional ▁xxup ▁de ▁xxup ▁taguatinga ▁xxup ▁do ▁xxup ▁distrito ▁xxup ▁federal , ▁no ▁uso ▁das ▁atribuições ▁legais ▁que ▁lhe ▁confere ▁o ▁inciso ▁xxup ▁x xxviii , ▁do ▁artigo ▁42, ▁do ▁xxmaj ▁decreto ▁n ° ▁38.094 , ▁de ▁28 ▁de ▁març o ▁de ▁2017, ▁que ▁aprova ▁o ▁xxmaj ▁regimento ▁xxmaj ▁interno ▁das ▁xxmaj ▁administrações ▁xxmaj ▁regionais ▁do ▁xxmaj ▁distrito ▁xxmaj ▁federal ▁e ▁dá ▁outras ▁providências , ▁resolve : ▁xxmaj ▁art . ▁1 o ▁xxmaj ▁por ▁força ▁da ▁xxmaj ▁ordem ▁de ▁xxmaj ▁serviço ▁no ▁211 ▁de ▁13 ▁/ ▁12 ▁/ ▁2018, ▁publicada ▁no ▁xxup ▁dodf ▁no ▁241 ▁de ▁20 ▁/ ▁12 ▁/ ▁2018, ▁que ▁nomeou ▁a ▁xxmaj ▁comissão ▁xxmaj ▁permanente ▁de ▁xxmaj ▁sindicância ▁desta ▁xxmaj ▁região ▁xxmaj ▁administrativa ▁/ ▁xxup ▁ra iii , ▁determin o : ▁xxmaj ▁art . ▁2° ▁xxmaj ▁substituir ▁o ▁servidor ▁xxup ▁ad é cio ▁xxup ▁henrique ▁xxup ▁alves , ▁xxmaj ▁analista ▁em ▁xxmaj ▁políticas ▁xxmaj ▁públicas ▁e ▁xxmaj ▁gestão ▁xxmaj ▁governamental , ▁matrícula ▁no ▁913 316 ▁pelo ▁servidor ▁xxup ▁thiago ▁xxup ▁alexandre ▁xxup ▁ val adão ▁xxup ▁de ▁xxup ▁brito , ▁xxmaj ▁gestor ▁de ▁xxmaj ▁políticas ▁xxmaj ▁públicas ▁e ▁xxmaj ▁gestão ▁xxmaj ▁governamental , ▁matrícula ▁175 . 194 - 8. ▁xxmaj ▁art . ▁3 o ▁xxmaj ▁substituir ▁a ▁servidora ▁xxup ▁lúci a ▁xxup ▁maria ▁xxup ▁gonçalves ▁xxup ▁carvalho , ▁xxmaj ▁analista ▁em ▁xxmaj ▁políticas ▁xxmaj ▁públicas ▁e ▁xxmaj ▁gestão ▁xxmaj ▁governamental , ▁xxmaj ▁matrícula ▁no ▁15 89 30 x ▁pela ▁servidora ▁xxup ▁magn a ▁xxup ▁aparecid a ▁xxup ▁da ▁xxup ▁mota , ▁xxmaj ▁técnica ▁em ▁xxmaj ▁políticas ▁xxmaj ▁públicas ▁e ▁xxmaj ▁gestão ▁xxmaj ▁governamental , ▁matrícula ▁30 . 65 9 -2 . ▁xxmaj ▁art . 4 o ▁a ▁xxmaj ▁comissão ▁xxmaj ▁permanente ▁xxmaj ▁sindicância ▁fica ▁assim ▁composta : ▁xxup ▁mart a ▁xxup ▁rocha ▁xxup ▁do ▁xxup ▁espi rito ▁xxup ▁santo , ▁xxmaj ▁gestora ▁de ▁xxmaj ▁políticas ▁xxmaj ▁públicas ▁e ▁xxmaj ▁gestão ▁xxmaj ▁governamental , ▁matrícula ▁174.6 70 - 7 ▁( presidente ), ▁xxup ▁thiago ▁xxup ▁alexandre ▁xxup ▁ val adão ▁xxup ▁de ▁xxup ▁brito , ▁xxmaj ▁gestor ▁de ▁xxmaj ▁políticas ▁xxmaj ▁públicas ▁e ▁xxmaj ▁gestão ▁xxmaj ▁governamental , ▁matrícula ▁175 . 194 - 8 ▁( me mbro ); ▁xxup ▁gil son ▁xxup ▁jos é ▁xxup ▁de ▁xxup ▁oliveira , ▁xxmaj ▁analista ▁em ▁xxmaj ▁políticas ▁xxmaj ▁públicas ▁e ▁xxmaj ▁gestão ▁xxmaj ▁governamental , ▁matrícula ▁30 . 4 64- 6 ▁( ▁membro ) ▁e ▁xxup ▁magn a ▁xxup ▁aparecid a ▁xxup ▁da ▁xxup ▁mota , ▁xxmaj ▁técnica ▁em ▁xxmaj ▁políticas ▁xxmaj ▁públicas ▁e ▁xxmaj ▁gestão ▁xxmaj ▁governamental , ▁matrícula ▁30 . 65 9 -2 ▁( sup lente ), ▁para ▁atuarem ▁nos ▁xxmaj ▁processos ▁de ▁xxmaj ▁sindicância ▁desta ▁xxmaj ▁administração ▁xxmaj ▁regional . ▁xxmaj ▁art . ▁5 o ▁xxmaj ▁esta ▁xxmaj ▁ordem ▁de ▁xxmaj ▁serviço ▁entra ▁em ▁vigor ▁na ▁data ▁de ▁sua ▁publicação . ▁xxmaj ▁art . ▁6 o ▁xxmaj ▁revoga m - se ▁as ▁disposições ▁em ▁contrário . ▁xxup ▁karol y ne ▁xxup ▁guimarães ▁xxup ▁dos ▁xxup ▁santos ▁xxup ▁borges,▁xxbos ▁xxup ▁licitação ▁xxup ▁fechad a ▁xxup ▁ lf ▁no ▁001 ▁/ ▁2019- caesb , ▁xxup ▁processo ▁no ▁092.004 31 9 ▁/ ▁2018, ▁xxup ▁objeto : ▁xxmaj ▁implantação ▁do ▁xxmaj ▁sistema ▁de ▁xxmaj ▁abastecimento ▁de ▁xxmaj ▁água ▁do ▁xxmaj ▁complexo ▁xxmaj ▁penitenciário ▁da ▁xxmaj ▁pa p u da ▁( po ç os , ▁xxmaj ▁ad utora ▁de ▁xxmaj ▁água ▁xxmaj ▁ br u ta , ▁xxmaj ▁ad utora ▁de ▁xxmaj ▁água ▁xxmaj ▁trata da ▁e ▁xxmaj ▁unidade ▁de ▁xxmaj ▁tratamento ▁xxmaj ▁simplificado ▁- ▁xxup ▁ u t s ), ▁xxmaj ▁são ▁xxmaj ▁sebastião ▁/ ▁xxup ▁df . ▁xxup ▁critério ▁xxup ▁de ▁xxup ▁julgamento : ▁xxmaj ▁menor ▁xxmaj ▁preço . ▁xxup ▁abertura ▁xxup ▁da ▁xxup ▁licitação : ▁05 ▁/ ▁02 ▁/ ▁2019 ▁às ▁09 ▁horas . ▁xxup ▁valor ▁xxup ▁estimado : ▁xxup ▁r $ ▁4.2 62. 8 36, 27 . ▁xxup ▁dotação ▁xxup ▁orçamentária : ▁xxup ▁uo : ▁22.202 ; ▁xxup ▁programa ▁xxup ▁de ▁xxup ▁trabalho : ▁xxmaj ▁projeto ▁/ ▁xxmaj ▁subtítulo ▁15 . 51 2.6210. 18 27 ▁/ ▁ 0001 , ▁xxup ▁natureza ▁xxup ▁da ▁xxup ▁despesa : ▁44.90.51 , ▁xxmaj ▁código ▁de ▁xxmaj ▁aplicação ▁22.202 . 013 . 041 - 4. ▁xxup ▁fonte ▁xxup ▁de ▁xxup ▁recurso : ▁xxup ▁sef ▁/ ▁xxup ▁ gdf ▁/ ▁xxup ▁caesb - c d p , ▁xxmaj ▁código ▁21.20 3. 4 00 - 01 0 - 0. ▁xxup ▁prazo ▁xxup ▁de ▁xxup ▁execução : ▁210 ▁dias ▁consecutivos . ▁xxup ▁prazo ▁xxup ▁de ▁xxup ▁vigência : ▁ 315 ▁dias ▁consecutivos . ▁a ▁partir ▁do ▁dia ▁11 ▁/ ▁01 ▁/ ▁2019, ▁o ▁edital ▁e ▁seus ▁anexos ▁poder ão ▁ser ▁encontra dos ▁no ▁site ▁w ww . caesb . df . gov . br ▁- ▁menu ▁xxmaj ▁licitações , ▁em ▁atendimento ▁à ▁xxmaj ▁lei ▁xxmaj ▁distrital ▁no ▁ 5.453 ▁/ ▁2015. ▁xxmaj ▁outras ▁informações ▁poder ão ▁ser ▁obtida s ▁por ▁meio ▁do ▁telefone ▁( 61) ▁3213-7 12 2 ▁e ▁do ▁e - mail ▁licitac ao @ caesb . df . gov . br . ▁xxup ▁maur icio ▁xxup ▁ ken j i ▁xxup ▁su emori ▁xxmaj ▁presidente ▁da ▁xxmaj ▁comissão\n",
       "y: CategoryList\n",
       "SECRETARIA DE ESTADO DE CULTURA,SECRETARIA DE ESTADO DE SEGURANÇA PÚBLICA,SECRETARIA DE ESTADO DE FAZENDA, PLANEJAMENTO, ORÇAMENTO E GESTÃO,CASA CIVIL,SECRETARIA DE ESTADO DE OBRAS E INFRAESTRUTURA\n",
       "Path: .;\n",
       "\n",
       "Valid: LabelList (96 items)\n",
       "x: TextList\n",
       "▁xxbos ▁o ▁xxup ▁diretor ▁xxup ▁do ▁xxup ▁hospital ▁xxup ▁mat er no ▁xxup ▁infantil ▁xxup ▁de ▁xxup ▁brasília , ▁xxup ▁da ▁xxup ▁secretaria ▁xxup ▁de ▁xxup ▁estado ▁xxup ▁de ▁xxup ▁saúde ▁xxup ▁do ▁xxup ▁distrito ▁xxup ▁federal , ▁no ▁uso ▁das ▁atribuições ▁que ▁lhe ▁confere ▁o ▁xxmaj ▁artigo ▁13 o ▁da ▁xxmaj ▁portaria ▁n ° ▁708 , ▁de ▁03 ▁de ▁ju lho ▁de ▁2018, ▁publicada ▁no ▁xxup ▁dodf ▁n ° ▁125, ▁de ▁04 ▁de ▁ju lho ▁de ▁2018, ▁resolve : ▁xxup ▁tornar ▁xxup ▁sem ▁xxup ▁efeito ▁a ▁xxup ▁averbação ▁xxup ▁de ▁xxup ▁tempo ▁xxup ▁de ▁xxup ▁serviço ▁de ▁xxup ▁sandr a ▁xxup ▁helena ▁xxup ▁ramos ▁xxup ▁lopes , ▁ 172 .520 -3, ▁xxup ▁enfermeiro , ▁xxup ▁ h mi b , ▁de ▁ 9. 326 ▁dias , ▁ou ▁seja , ▁25 ▁anos , ▁6 ▁meses ▁e ▁21 ▁dias , ▁conforme ▁certidão ▁expedida ▁pelo ▁xxup ▁inss , ▁nos ▁períodos ▁de ▁1 o ▁de ▁setembro ▁de ▁1984 ▁a ▁1 o ▁de ▁f ever eiro ▁de ▁1985 , ▁08 ▁de ▁abri l ▁de ▁1985 ▁a ▁24 ▁de ▁maio ▁de ▁1985 , ▁03 ▁de ▁junho ▁de ▁1985 ▁a ▁1 o ▁de ▁novembro ▁de ▁1985 , ▁04 ▁de ▁novembro ▁de ▁1985 ▁a ▁25 ▁de ▁març o ▁de ▁1986 , ▁02 ▁de ▁abri l ▁de ▁1986 ▁a ▁20 ▁de ▁dezembro ▁de ▁1986 , ▁13 ▁de ▁abri l ▁de ▁1987 ▁a ▁26 ▁de ▁f ever eiro ▁de ▁1988, ▁15 ▁de ▁març o ▁de ▁1988 ▁a ▁13 ▁de ▁setembro ▁de ▁1988, ▁17 ▁de ▁agost o ▁de ▁1988 ▁a ▁02 ▁de ▁març o ▁de ▁1990 , ▁15 ▁de ▁maio ▁de ▁1995 ▁a ▁10 ▁de ▁outubro ▁de ▁2002, ▁15 ▁de ▁junho ▁de ▁1998 ▁a ▁12 ▁de ▁novembro ▁de ▁2008 ▁e ▁02 ▁de ▁abri l ▁de ▁1990 ▁a ▁18 ▁de ▁dezembro ▁de ▁1992, ▁contados ▁so mente ▁para ▁fins ▁de ▁aposentadoria , ▁conforme ▁processo ▁no ▁00060-001 52 814 ▁/ ▁2017- 61 , ▁constante ▁na ▁xxmaj ▁ordem ▁de ▁xxmaj ▁serviço ▁no ▁34, ▁de ▁24 ▁de ▁setembro ▁de ▁2018, ▁publicada ▁no ▁xxup ▁dodf ▁no ▁64, ▁de ▁26 ▁/ ▁09 ▁/ ▁2018, ▁pág . ▁02, ▁xxmaj ▁edição ▁xxmaj ▁extra . ▁xxup ▁retificar , ▁na ▁xxmaj ▁ordem ▁de ▁xxmaj ▁serviço ▁de ▁25 ▁de ▁agost o ▁de ▁2017, ▁publicada ▁no ▁xxup ▁dodf ▁no ▁1 99, ▁de ▁17 ▁/ ▁10 ▁/ ▁2017, ▁pág . ▁28 , ▁o ▁ato ▁que ▁averb ou ▁o ▁tempo ▁de ▁serviço ▁de ▁contribuição ▁de ▁xxup ▁ mar ília ▁xxup ▁bonfim ▁e ▁xxup ▁silva ▁xxup ▁de ▁xxup ▁moraes , ▁matrícula ▁no ▁131 . 79 5-4, ▁xxmaj ▁médico , ▁para ▁faze r ▁consta r , ▁xxup ▁onde ▁xxup ▁se ▁xxup ▁lê : ▁\"... 54 9 ▁dias , ▁ou ▁seja , ▁1 ▁ano , ▁6 ▁meses ▁e ▁4 ▁dias , ▁conforme ▁certidão ▁expedida ▁pelo ▁xxup ▁inss , ▁no ▁período ▁de ▁31 ▁de ▁janeiro ▁de ▁1986 ▁a ▁02 ▁de ▁agost o ▁de ▁1987 , ▁contados ▁so mente ▁para ▁fins ▁de ▁aposentadoria ...\", ▁xxup ▁ leia - se : ▁\"... 54 9 ▁dias , ▁ou ▁seja , ▁1 ▁ano , ▁6 ▁meses ▁e ▁4 ▁dias , ▁conforme ▁certidão ▁expedida ▁pelo ▁xxmaj ▁governo ▁do ▁xxmaj ▁estado ▁do ▁xxmaj ▁mara n h ão , ▁no ▁período ▁de ▁31 ▁de ▁janeiro ▁de ▁1986 ▁a ▁02 ▁de ▁agost o ▁de ▁1987 , ▁contados ▁so mente ▁para ▁fins ▁de ▁aposentadoria ...\". ▁xxup ▁retificar , ▁na ▁xxmaj ▁ordem ▁de ▁xxmaj ▁serviço ▁de ▁22 ▁de ▁novembro ▁de ▁2002, ▁publicada ▁no ▁xxup ▁dodf ▁no ▁ 227 , ▁de ▁26 ▁/ ▁11 ▁/ ▁2002, ▁pág . ▁58, ▁o ▁ato ▁que ▁averb ou ▁o ▁tempo ▁de ▁serviço ▁de ▁contribuição ▁de ▁xxup ▁i ra ci ▁xxup ▁ quiri na ▁xxup ▁da ▁xxup ▁silva , ▁matrícula ▁no ▁142 . 44 0-8, ▁xxmaj ▁técnico ▁de ▁xxmaj ▁laboratório ▁- ▁xxmaj ▁ hematologia ▁e ▁xxmaj ▁ h em o ter ap ia , ▁para ▁faze r ▁consta r , ▁xxup ▁onde ▁xxup ▁se ▁xxup ▁lê : ▁\"... averba : ▁5.7 05 ▁dias , ▁ou ▁seja , ▁15 ▁anos , ▁7 ▁meses ▁e ▁20 ▁dias , ▁conforme ▁xxmaj ▁certidão ▁expedida ▁pelo ▁xxup ▁inss , ▁nos ▁períodos ▁de ▁21 - 3-8 3 ▁a ▁ 8 - 1- 96, ▁ 1- 9 - 86 ▁a ▁27 - 10 - 86 , ▁28 - 10 - 86 ▁a ▁6 - 12 - 86 , ▁10 -2 - 87 ▁a ▁ 1- 9 - 90 , ▁3 - 9 - ▁ 90 ▁a ▁5- 9 - 94 , ▁6 - 9 - ▁ 94 ▁a ▁ 1- 7 - 95, ▁26 - 9 - 95 ▁a ▁25 - 12 - 95, ▁12 - 6 - 99 ▁a ▁ 1- 7 - 99, ▁ 1- 3-2 000 ▁a ▁10 - 10 -2 000 ▁e ▁26 -2 - 96 ▁a ▁25 - 5- 96, ▁contados ▁so mente ▁para ▁fins ▁de ▁aposentadoria ...\", ▁xxup ▁ leia - se : ▁\"... averba : ▁5.7 05 ▁dias , ▁ou ▁seja , ▁15 ▁anos , ▁7 ▁meses ▁e ▁20 ▁dias , ▁conforme ▁xxmaj ▁certidão ▁expedida ▁pelo ▁xxup ▁inss , ▁nos ▁períodos ▁de ▁21 ▁/ ▁03 ▁/ ▁ 83 ▁a ▁08 ▁/ ▁01 ▁/ ▁86, ▁01 ▁/ ▁09 ▁/ ▁ 86 ▁a ▁27 ▁/ ▁10 ▁/ ▁86, ▁28 ▁/ ▁10 ▁/ ▁ 86 ▁a ▁06 ▁/ ▁12 ▁/ ▁86, ▁10 ▁/ ▁02 ▁/ ▁ 87 ▁a ▁01 ▁/ ▁09 ▁/ ▁90, ▁03 ▁/ ▁09 ▁/ ▁ 90 ▁a ▁05 ▁/ ▁09 ▁/ ▁94, ▁06 ▁/ ▁09 ▁/ ▁ 94 ▁a ▁01 ▁/ ▁07 ▁/ ▁95, ▁26 ▁/ ▁09 ▁/ ▁ 95 ▁a ▁25 ▁/ ▁12 ▁/ ▁95, ▁26 ▁/ ▁02 ▁/ ▁ 96 ▁a ▁25 ▁/ ▁05 ▁/ ▁ 96, ▁12 ▁/ ▁06 ▁/ ▁ 96 ▁a ▁01 ▁/ ▁07 ▁/ ▁ 99 ▁e ▁01 ▁/ ▁03 ▁/ ▁00 ▁a ▁10 ▁/ ▁10 ▁/ ▁ 00, ▁contados ▁so mente ▁para ▁fins ▁de ▁aposentadoria ...\" ▁xxup ▁retificar , ▁na ▁xxmaj ▁ordem ▁de ▁xxmaj ▁serviço ▁de ▁22 ▁de ▁setembro ▁de ▁2014, ▁publicada ▁no ▁xxup ▁dodf ▁no ▁ 207 , ▁de ▁02 ▁/ ▁10 ▁/ ▁2014, ▁pág . ▁65, ▁o ▁ato ▁que ▁averb ou ▁o ▁tempo ▁de ▁serviço ▁de ▁contribuição ▁de ▁xxup ▁de nise ▁xxup ▁gomes ▁xxup ▁cidade , ▁matrícula ▁no ▁xxup ▁130 . 47 8 - x , ▁xxmaj ▁médica ▁- ▁xxmaj ▁ginecologia ▁e ▁xxmaj ▁o b ste trícia , ▁para ▁faze r ▁consta r , ▁xxup ▁onde ▁xxup ▁se ▁xxup ▁lê : ▁\"... averba : ▁ 1.4 86 ▁dias , ▁ou ▁seja , ▁4 ▁anos ▁e ▁26 ▁dias , ▁conforme ▁certidão ▁expedida ▁pelo ▁xxup ▁inss , ▁nos ▁períodos ▁de ▁13 ▁de ▁f ever eiro ▁de ▁1986 ▁a ▁31 ▁de ▁dezembro ▁de ▁1986 , ▁1 o ▁de ▁janeiro ▁de ▁1987 ▁a ▁07 ▁de ▁junho ▁de ▁1988, ▁08 ▁de ▁junho ▁de ▁1988 ▁a ▁31 ▁de ▁dezembro ▁de ▁1989 ▁e ▁1 o ▁de ▁janeiro ▁de ▁1990 ▁a ▁09 ▁de ▁març o ▁de ▁1990 , ▁contados ▁so mente ▁para ▁fins ▁de ▁aposentadoria , ▁conforme ▁xxmaj ▁processo ▁27 2.000 . 45 8 ▁/ ▁2014 ▁xxrep ▁4 ▁ . ▁ \", ▁xxup ▁ leia - se : ▁\"... averba ▁1 .164 ▁dias , ▁ou ▁seja , ▁3 ▁anos , ▁02 ▁meses ▁e ▁09 ▁dias , ▁conforme ▁certidão ▁expedida ▁pelo ▁xxup ▁inss , ▁nos ▁períodos ▁de ▁1 o ▁de ▁janeiro ▁de ▁1987 ▁a ▁07 ▁de ▁junho ▁de ▁1988, ▁08 ▁de ▁junho ▁de ▁1988 ▁a ▁31 ▁de ▁dezembro ▁de ▁1989 ▁e ▁1 o ▁de ▁janeiro ▁de ▁1990 ▁a ▁09 ▁de ▁març o ▁de ▁1990 , ▁contados ▁so mente ▁para ▁fins ▁de ▁aposentadoria , ▁conforme ▁xxmaj ▁processo ▁27 2.000 . 45 8 ▁/ ▁2014 ...\" ▁xxup ▁retificar , ▁na ▁xxmaj ▁ordem ▁de ▁xxmaj ▁serviço ▁de ▁25 ▁de ▁agost o ▁de ▁2017, ▁publicada ▁no ▁xxup ▁dodf ▁no ▁1 99, ▁de ▁17 ▁/ ▁10 ▁/ ▁2017, ▁pág . ▁28 , ▁o ▁ato ▁que ▁averb ou ▁o ▁tempo ▁de ▁serviço ▁de ▁contribuição ▁de ▁xxup ▁di va ▁xxup ▁teres inha ▁xxup ▁prestes , ▁matrícula ▁no ▁ 172 . 72 4-9, ▁xxmaj ▁enfermeiro , ▁para ▁faze r ▁consta r , ▁xxup ▁onde ▁xxup ▁se ▁xxup ▁lê : ▁\"... averba : ▁5.2 11 ▁dias , ▁ou ▁seja , ▁14 ▁anos , ▁3 ▁meses ▁e ▁11 ▁dias , ▁conforme ▁certidão ▁expedida ▁pelo ▁xxup ▁inss , ▁nos ▁períodos ▁de ▁04 ▁de ▁janeiro ▁de ▁ 1982 ▁a ▁02 ▁de ▁abri l ▁de ▁1984 , ▁1 o ▁de ▁maio ▁de ▁1984 ▁a ▁10 ▁de ▁junho ▁de ▁1985 , ▁09 ▁de ▁ju lho ▁de ▁1985 ▁a ▁29 ▁de ▁janeiro ▁de ▁1987 , ▁13 ▁de ▁setembro ▁de ▁1998 ▁a ▁08 ▁de ▁dezembro ▁de ▁1998 , ▁09 ▁de ▁ju lho ▁de ▁1999 ▁a ▁07 ▁de ▁dezembro ▁de ▁2001, ▁04 ▁de ▁f ever eiro ▁de ▁2002 ▁a ▁19 ▁de ▁junho ▁de ▁2004 , ▁20 ▁de ▁junho ▁de ▁2004 ▁a ▁1 o ▁de ▁junho ▁de ▁2005 ▁e ▁03 ▁de ▁outubro ▁de ▁2005 ▁a ▁14 ▁de ▁f ever eiro ▁de ▁2009 , ▁contados ▁so mente ▁para ▁fins ▁de ▁aposentadoria , ▁conforme ▁processo ▁no ▁27 2.000 7 16 ▁/ ▁2012...\" , ▁xxup ▁ leia - se : ▁\"... averba ▁5.1 17 ▁dias , ▁ou ▁seja , ▁14 ▁anos , ▁3 ▁meses ▁e ▁11 ▁dias , ▁conforme ▁certidão ▁expedida ▁pelo ▁xxup ▁inss , ▁nos ▁períodos ▁de ▁04 ▁de ▁janeiro ▁de ▁ 1982 ▁a ▁02 ▁de ▁abri l ▁de ▁1984 , ▁1 o ▁de ▁maio ▁de ▁1984 ▁a ▁10 ▁de ▁junho ▁de ▁1985 , ▁09 ▁de ▁ju lho ▁de ▁1985 ▁a ▁29 ▁de ▁janeiro ▁de ▁1987 , ▁13 ▁de ▁setembro ▁de ▁1998 ▁a ▁08 ▁de ▁dezembro ▁de ▁1998 , ▁09 ▁de ▁ju lho ▁de ▁1999 ▁a ▁07 ▁de ▁dezembro ▁de ▁2001, ▁04 ▁de ▁f ever eiro ▁de ▁2002 ▁a ▁19 ▁de ▁junho ▁de ▁2004 , ▁20 ▁de ▁junho ▁de ▁2004 ▁a ▁1 o ▁de ▁junho ▁de ▁2005 ▁e ▁03 ▁de ▁outubro ▁de ▁2005 ▁a ▁12 ▁de ▁novembro ▁de ▁2008, ▁contados ▁so mente ▁para ▁fins ▁de ▁aposentadoria , ▁conforme ▁processo ▁no ▁27 2.000 7 16 ▁/ ▁2012...\" ▁xxup ▁retificar , ▁na ▁xxmaj ▁ordem ▁de ▁xxmaj ▁serviço ▁de ▁11 ▁de ▁març o ▁de ▁2016, ▁publicada ▁no ▁xxup ▁dodf ▁no ▁57, ▁de ▁24 ▁/ ▁03 ▁/ ▁2016, ▁pág . ▁ 54 ▁/ ▁55, ▁o ▁ato ▁que ▁averb ou ▁o ▁tempo ▁de ▁serviço ▁de ▁contribuição ▁de ▁xxup ▁maria ▁xxup ▁da ▁xxup ▁gra ç a ▁xxup ▁camargo ▁xxup ▁neves , ▁matrícula ▁no ▁xxup ▁1 35. 25 8 - x , ▁xxmaj ▁enfermeiro , ▁para ▁faze r ▁consta r , ▁xxup ▁onde ▁xxup ▁se ▁xxup ▁lê : ▁\"... averba : ▁1 .804 ▁dias , ▁ou ▁seja , ▁4 ▁anos , ▁11 ▁meses ▁e ▁14 ▁dias , ▁conforme ▁certidão ▁expedida ▁pelo ▁xxup ▁inss , ▁nos ▁períodos ▁de ▁09 ▁de ▁f ever eiro ▁de ▁1987 ▁a ▁1 o ▁de ▁ju lho ▁de ▁1989 , ▁09 ▁de ▁agost o ▁de ▁1990 ▁a ▁14 ▁de ▁f ever eiro ▁de ▁1991 , ▁1 o ▁de ▁setembro ▁de ▁1992 ▁a ▁02 ▁de ▁novembro ▁de ▁1992, ▁03 ▁de ▁novembro ▁de ▁1992 ▁a ▁10 ▁de ▁novembro ▁de ▁1993, ▁06 ▁de ▁janeiro ▁de ▁1994 ▁a ▁15 ▁de ▁ju lho ▁de ▁1994 ▁e ▁1 o ▁de ▁setembro ▁de ▁1994 ▁a ▁22 ▁de ▁dezembro ▁de ▁1994 , ▁contados ▁so mente ▁para ▁fins ▁de ▁aposentadoria , ▁conforme ▁processo ▁no ▁27 2.000 . 06 7 ▁/ ▁2016 ...\", ▁xxup ▁ leia - se : ▁\"... averba ▁ 1.65 8 ▁dias , ▁ou ▁seja , ▁4 ▁anos , ▁06 ▁meses ▁e ▁18 ▁dias , ▁conforme ▁certidão ▁expedida ▁pelo ▁xxup ▁inss , ▁nos ▁períodos ▁de ▁09 ▁de ▁f ever eiro ▁de ▁1987 ▁a ▁1 o ▁de ▁ju lho ▁de ▁1989 , ▁09 ▁de ▁agost o ▁de ▁1990 ▁a ▁10 ▁de ▁dezembro ▁de ▁1990 , ▁20 ▁de ▁novembro ▁de ▁1992 ▁a ▁10 ▁de ▁novembro ▁de ▁1993, ▁06 ▁de ▁janeiro ▁de ▁1994 ▁a ▁15 ▁de ▁ju lho ▁de ▁1994 ▁e ▁1 o ▁de ▁setembro ▁de ▁1994 ▁a ▁22 ▁de ▁dezembro ▁de ▁1994 , ▁contados ▁so mente ▁para ▁fins ▁de ▁aposentadoria , ▁conforme ▁processo ▁no ▁27 2.000 . 06 7 ▁/ ▁2016 ...\" ▁xxup ▁retificar , ▁na ▁xxmaj ▁ordem ▁de ▁xxmaj ▁serviço ▁de ▁1 o ▁de ▁dezembro ▁de ▁2009 , ▁publicada ▁no ▁xxup ▁dodf ▁no ▁23 4, ▁de ▁04 ▁/ ▁12 ▁/ ▁2009 , ▁pág . ▁39, ▁o ▁ato ▁que ▁averb ou ▁o ▁tempo ▁de ▁serviço ▁de ▁contribuição ▁de ▁xxup ▁davi na ▁xxup ▁bar b a lho , ▁matrícula ▁no ▁142 . 86 1-6, ▁xxmaj ▁auxiliar ▁de ▁xxmaj ▁enfermagem , ▁para ▁faze r ▁consta r , ▁xxup ▁onde ▁xxup ▁se ▁xxup ▁lê : ▁\"... averba : ▁4 .164 ▁dias , ▁ou ▁seja , ▁11 ▁anos , ▁4 ▁meses ▁e ▁29 ▁dias , ▁conforme ▁certidão ▁expedida ▁pelo ▁xxup ▁inss , ▁nos ▁períodos ▁de ▁15 ▁de ▁setembro ▁de ▁1976 ▁a ▁15 ▁de ▁janeiro ▁de ▁1977 , ▁1 o ▁de ▁junho ▁de ▁ 1982 ▁a ▁31 ▁de ▁març o ▁de ▁1984 , ▁1 o ▁de ▁març o ▁de ▁1986 ▁a ▁1 o ▁de ▁abri l ▁de ▁1986 , ▁02 ▁de ▁agost o ▁de ▁1986 ▁a ▁30 ▁de ▁junho ▁de ▁1988, ▁1 o ▁de ▁novembro ▁de ▁1997 ▁a ▁16 ▁de ▁març o ▁de ▁1998 , ▁18 ▁de ▁març o ▁de ▁1998 ▁a ▁19 ▁de ▁març o ▁de ▁2002, ▁1 o ▁de ▁janeiro ▁de ▁1996 ▁a ▁30 ▁de ▁setembro ▁de ▁1997 ▁e ▁1 o ▁de ▁f ever eiro ▁de ▁1977 ▁a ▁09 ▁de ▁març o ▁de ▁1978 , ▁conforme ▁processo ▁27 2.000 . 925 ▁/ ▁2009 ...\", ▁xxup ▁ leia - ▁xxup ▁se : ▁\"... averba : ▁3 .3 10 ▁dias , ▁ou ▁seja , ▁ 9 ▁anos ▁e ▁25 ▁dias , ▁conforme ▁certidão ▁expedida ▁pelo ▁xxup ▁inss , ▁nos ▁períodos ▁de ▁15 ▁de ▁setembro ▁de ▁1976 ▁a ▁15 ▁de ▁janeiro ▁de ▁1977 , ▁1 o ▁de ▁junho ▁de ▁ 1982 ▁a ▁31 ▁de ▁març o ▁de ▁1984 , ▁1 o ▁de ▁març o ▁de ▁1986 ▁a ▁1 o ▁de ▁abri l ▁de ▁1986 , ▁02 ▁de ▁agost o ▁de ▁1986 ▁a ▁30 ▁de ▁junho ▁de ▁1988, ▁1 o ▁de ▁novembro ▁de ▁1997 ▁a ▁16 ▁de ▁març o ▁de ▁1998 , ▁19 ▁de ▁ju lho ▁de ▁2000 ▁a ▁19 ▁de ▁març o ▁de ▁2002, ▁1 o ▁de ▁janeiro ▁de ▁1996 ▁a ▁30 ▁de ▁setembro ▁de ▁1997 ▁e ▁1 o ▁de ▁f ever eiro ▁de ▁1977 ▁a ▁09 ▁de ▁març o ▁de ▁1978 , ▁contados ▁so mente ▁para ▁fins ▁de ▁aposentadoria , ▁conforme ▁processo ▁27 2.000 . 925 ▁/ ▁2009 ...\" ▁xxup ▁averbar ▁o ▁xxup ▁tempo ▁xxup ▁de ▁xxup ▁serviço ▁e ▁/ ▁xxup ▁ou ▁xxup ▁contribuição , ▁prestado ▁pelo ▁( a ) ▁servidor ▁( a ) ▁abaixo ▁indicado ▁( a ), ▁ao ▁órgão ▁e ▁entidade ▁a ▁seguir ▁mencionada ▁( nome , ▁matrícula , ▁cargo , ▁lotação ) : ▁xxup ▁maria ▁xxup ▁de ▁xxup ▁na zar é ▁xxup ▁lima ▁xxup ▁mil ho m em , ▁143 . 86 3-8 , ▁xxup ▁médico ▁xxup ▁ pediatr a , ▁lotada ▁no ▁xxup ▁ h mi b ▁/ ▁xxup ▁ses , ▁1. 7 37 ▁dias , ▁ou ▁seja , ▁4 ▁anos , ▁ 9 ▁meses ▁e ▁7 ▁dias , ▁prestados ▁à ▁xxmaj ▁secretaria ▁de ▁xxmaj ▁saúde ▁do ▁xxmaj ▁distrito ▁xxmaj ▁federal , ▁no ▁período ▁de ▁14 ▁de ▁març o ▁de ▁1997 ▁a ▁27 ▁de ▁dezembro ▁de ▁2001, ▁contados ▁para ▁fins ▁de ▁adicional ▁e ▁aposentadoria , ▁conforme ▁processo ▁no ▁27 2.000 . 189 ▁/ ▁2017. ▁xxup ▁fabr íci a ▁xxup ▁silvi no ▁xxup ▁machado , ▁1.68 2.6 52 -3, ▁xxup ▁enfermeiro , ▁lotada ▁no ▁xxup ▁ h mi b ▁/ ▁xxup ▁ses , ▁5.59 3 ▁dias , ▁ou ▁seja , ▁15 ▁anos , ▁3 ▁meses ▁e ▁28 ▁dias , ▁prestados ▁à ▁xxmaj ▁secretaria ▁de ▁xxmaj ▁saúde ▁do ▁xxmaj ▁distrito ▁xxmaj ▁federal , ▁no ▁período ▁de ▁10 ▁de ▁setembro ▁de ▁2002 ▁a ▁01 ▁de ▁janeiro ▁de ▁2018, ▁contados ▁para ▁fins ▁de ▁adicional ▁e ▁aposentadoria , ▁conforme ▁processo ▁no ▁00060-001 9 91 61 ▁/ ▁2018-65 . ▁xxup ▁geral do ▁xxup ▁de ▁xxup ▁oliveira ▁xxup ▁gomes , ▁12 3.6 2 8-8, ▁xxup ▁aosd - en fer m agem ▁xxup ▁( ex tinto ▁xxup ▁vaga r ), ▁lotado ▁no ▁xxup ▁ h mi b ▁/ ▁xxup ▁ses , ▁ 8 80 ▁dias , ▁ou ▁seja , ▁2 ▁anos , ▁5 ▁meses , ▁conforme ▁certidão ▁expedida ▁pelo ▁xxup ▁inss , ▁no ▁período ▁de ▁1 o ▁de ▁f ever eiro ▁de ▁19 81 ▁a ▁30 ▁de ▁junho ▁de ▁1983 , ▁contados ▁so mente ▁para ▁fins ▁de ▁aposentadoria , ▁conforme ▁processo ▁no ▁00060-000 90 262 ▁/ ▁2017- 91 . ▁xxup ▁davi na ▁xxup ▁bar b a lho , ▁matrícula ▁no ▁142 . 86 1-6, ▁xxup ▁auxiliar ▁xxup ▁de ▁xxup ▁enfermagem , ▁lotada ▁no ▁xxup ▁ h mi b ▁/ ▁xxup ▁ses , ▁ 8 54 ▁dias , ▁ou ▁seja , ▁2 ▁anos , ▁4 ▁meses ▁e ▁4 ▁dias , ▁conforme ▁certidão ▁expedida ▁pelo ▁xxup ▁inss , ▁prestados ▁à ▁xxmaj ▁secretaria ▁de ▁xxmaj ▁saúde ▁do ▁xxmaj ▁distrito ▁xxmaj ▁federal , ▁no ▁período ▁de ▁18 ▁de ▁març o ▁de ▁1998 ▁a ▁18 ▁de ▁ju lho ▁de ▁2000 , ▁contados ▁so mente ▁para ▁fins ▁de ▁aposentadoria , ▁conforme ▁processo ▁no ▁27 2.000 . 925 ▁/ ▁2009 . ▁xxup ▁ li u ▁xxup ▁camp el lo ▁xxup ▁porto , ▁01 31 485 8, ▁xxup ▁medico ▁- ▁xxup ▁neonatologia , ▁lotado ▁no ▁xxup ▁ h mi b ▁/ ▁xxup ▁ses , ▁ 851 ▁dias , ▁ou ▁seja , ▁2 ▁anos , ▁4 ▁meses ▁e ▁um ▁dia , ▁conforme ▁certidão ▁expedida ▁pelo ▁xxup ▁inss , ▁no ▁período ▁de ▁1 o ▁de ▁f ever eiro ▁de ▁1988 ▁a ▁31 ▁de ▁maio ▁de ▁1990 , ▁contados ▁so mente ▁para ▁fins ▁de ▁aposentadoria , ▁conforme ▁processo ▁no ▁00060-004 41 231 ▁/ ▁2018- 93 . ▁xxup ▁teres a ▁xxup ▁paula ▁xxup ▁vieira ▁xxup ▁a rd u ini , ▁132 . 00 9-2, ▁xxup ▁odontólog o , ▁lotada ▁no ▁xxup ▁ h mi b ▁/ ▁xxup ▁ses , ▁1 .276 ▁dias , ▁ou ▁seja , ▁3 ▁anos , ▁6 ▁meses ▁e ▁1 ▁dia , ▁conforme ▁certidão ▁expedida ▁pelo ▁xxup ▁inss , ▁nos ▁períodos ▁de ▁1 o ▁de ▁maio ▁de ▁1988 ▁a ▁11 ▁de ▁març o ▁de ▁1990 , ▁12 ▁de ▁març o ▁de ▁1990 ▁a ▁30 ▁de ▁dezembro ▁de ▁1990 ▁e ▁de ▁1 o ▁de ▁outubro ▁de ▁1991 ▁a ▁28 ▁de ▁ju lho ▁de ▁1992, ▁contados ▁so mente ▁para ▁fins ▁de ▁aposentadoria , ▁conforme ▁processo ▁no ▁00060-000 55 05 2 ▁/ ▁2017- ▁56. ▁xxup ▁rodolfo ▁xxup ▁alves ▁xxup ▁paulo ▁xxup ▁de ▁xxup ▁souza,▁xxbos ▁xxmaj ▁processo : ▁ 048 - 0004 03 ▁/ ▁2011. ▁xxmaj ▁partes : ▁xxup ▁df ▁xxup ▁cgdf ▁x ▁xxmaj ▁união ▁xxup ▁c gu . ▁xxmaj ▁objeto : ▁altera r ▁a ▁denominação ▁do ▁p art íci pe ▁que ▁re p resen ta ▁a ▁xxmaj ▁união ▁e ▁prorrogar ▁a ▁vigência ▁do ▁xxmaj ▁acordo ▁de ▁xxmaj ▁cooperação ▁xxmaj ▁técnica ▁por ▁mais ▁ 42 ▁( quarenta ▁e ▁dois ) ▁meses . ▁xxmaj ▁vigência : ▁ 42 ▁( quarenta ▁e ▁dois ) ▁meses , ▁de ▁01 .01.2019 ▁a ▁30 . 06. 20 22 . ▁xxmaj ▁assinatura : ▁28 .12.2018 . ▁xxmaj ▁signatários : ▁pela ▁xxup ▁cgdf , ▁xxmaj ▁ lia ne ▁xxmaj ▁vasconcelos ▁de ▁xxmaj ▁araújo ▁xxmaj ▁ ang o ti , ▁na ▁qualidade ▁de ▁controlador a - geral ▁xxmaj ▁adjunta , ▁e ▁pela ▁xxmaj ▁união , ▁xxmaj ▁jos é ▁xxmaj ▁marcel o ▁xxmaj ▁castro ▁de ▁xxmaj ▁carvalho , ▁na ▁qualidade ▁de ▁secretário - ex ec u tivo ▁do ▁xxmaj ▁ministério ▁da ▁xxmaj ▁transparência , ▁xxmaj ▁fiscalização ▁e ▁controladoria - geral ▁da ▁xxmaj ▁união .,▁xxbos ▁o ▁xxup ▁superintendente ▁xxup ▁administrativo ▁e ▁xxup ▁financeiro , ▁xxup ▁do ▁xxup ▁departamento ▁xxup ▁de ▁xxup ▁estradas ▁xxup ▁de ▁xxup ▁rodagem ▁xxup ▁do ▁xxup ▁distrito ▁xxup ▁federal , ▁no ▁uso ▁das ▁atribuições ▁que ▁lhe ▁confere ▁a ▁xxmaj ▁instrução ▁no ▁01 , ▁de ▁16 ▁de ▁abri l ▁de ▁2018, ▁publicada ▁no ▁xxmaj ▁diário ▁xxmaj ▁oficial ▁no ▁74 ▁de ▁18 ▁de ▁abri l ▁de ▁2018 ▁e ▁em ▁ conformidade ▁com ▁os ▁termos ▁dos ▁artigos ▁44 ▁e ▁45, ▁da ▁xxmaj ▁lei ▁xxmaj ▁complementar ▁n . o ▁ 840, ▁de ▁23 ▁de ▁dezembro ▁de ▁2011 ▁e ▁do ▁xxmaj ▁decreto ▁no ▁39.002 , ▁de ▁24 ▁de ▁abri l ▁de ▁2018, ▁resolve : ▁xxup ▁designar ▁xxup ▁ il m o ▁xxup ▁monteiro ▁xxup ▁braga , ▁matrícula ▁no ▁93 55 4-9, ▁para ▁substituir ▁a ▁servidora ▁xxup ▁silvi a ▁xxup ▁maria ▁xxup ▁vieira ▁xxup ▁pal a , ▁matrícula ▁no ▁22 14 71 -7, ▁no ▁cargo ▁de ▁xxmaj ▁chefe ▁do ▁xxmaj ▁núcleo ▁de ▁xxmaj ▁almoxarifado ▁na ▁xxmaj ▁ superintendência s ▁xxmaj ▁administrativa ▁e ▁xxmaj ▁financeira ▁do ▁xxmaj ▁departamento ▁de ▁xxmaj ▁estradas ▁de ▁xxmaj ▁rodagem ▁do ▁xxmaj ▁distrito ▁xxmaj ▁federal , ▁xxmaj ▁símbolo ▁xxup ▁dfg -12, ▁no ▁período ▁de ▁14 ▁/ ▁01 ▁/ ▁2019 ▁a ▁25 ▁/ ▁01 ▁/ ▁2019, ▁por ▁motivo ▁de ▁férias ▁regulamentares ▁da ▁titular ▁do ▁cargo . ▁xxup ▁carlo s ▁xxup ▁geral do ▁xxup ▁caix eta ▁xxup ▁cruz,▁xxbos ▁o ▁xxup ▁subsecretário ▁xxup ▁de ▁xxup ▁administração ▁xxup ▁geral , ▁xxup ▁da ▁xxup ▁secretaria ▁xxup ▁de ▁xxup ▁estado ▁xxup ▁de ▁xxup ▁ agri cultura , ▁xxup ▁abastecimento ▁e ▁xxup ▁desenvolvimento ▁xxup ▁rural ▁xxup ▁do ▁xxup ▁distrito ▁xxup ▁federal , ▁no ▁uso ▁das ▁atribuições ▁que ▁lhe ▁confere ▁a ▁xxmaj ▁portaria ▁n ° ▁48, ▁de ▁16 ▁de ▁junho ▁de ▁2016, ▁resolve : ▁xxup ▁conceder ▁abono ▁de ▁permanência ▁ao ▁servidor ▁xxup ▁de lf ino ▁xxup ▁bernardes ▁xxup ▁rabelo , ▁matrícula ▁10 06 52 - 5 ▁no ▁cargo ▁de ▁xxmaj ▁técnico ▁de ▁xxmaj ▁desenvolvimento ▁e ▁xxmaj ▁fiscalização ▁xxmaj ▁agropecuária , ▁xxmaj ▁classe ▁xxmaj ▁especial , ▁xxmaj ▁padrão ▁xxup ▁v , ▁do ▁xxmaj ▁quadro ▁de ▁xxmaj ▁pessoal ▁do ▁xxmaj ▁distrito ▁xxmaj ▁federal , ▁de ▁acordo ▁com ▁o ▁xxmaj ▁art . ▁2° , ▁§ ▁5 o ▁da ▁xxup ▁e c ▁no ▁41 ▁/ ▁03 , ▁com ▁amparo ▁na ▁xxmaj ▁decisão ▁n ° ▁20 ▁/ ▁2012 ▁- ▁xxup ▁tcdf ▁combinado ▁com ▁o ▁artigo ▁114 ▁da ▁xxmaj ▁lei ▁xxmaj ▁complementar ▁no ▁840 ▁/ ▁2011, ▁por ▁ter ▁completado ▁os ▁requisit os ▁para ▁aposentadoria ▁voluntária ▁e ▁o ptado ▁por ▁permanecer ▁em ▁atividade , ▁a ▁contar ▁de ▁03 ▁/ ▁01 ▁/ ▁2019. ▁xxmaj ▁processo ▁xxup ▁sei ▁xxmaj ▁no ▁00070- ▁xxrep ▁6 ▁0 ▁12 ▁/ ▁2019-00 . ▁xxup ▁rossi ▁xxup ▁da ▁xxup ▁silva ▁xxup ▁araújo,▁xxbos ▁xxup ▁processo : ▁00150-000106 18 ▁/ ▁2018-92 ; ▁xxup ▁nota ▁xxup ▁de ▁xxup ▁empenho ▁xxmaj ▁no ▁01 107 ▁/ ▁2018; ▁xxup ▁das ▁xxup ▁partes : ▁xxup ▁df ▁/ ▁xxup ▁sec ▁/ ▁xxup ▁fac ▁x ▁xxup ▁a lice ▁xxup ▁ lan ari ▁xxup ▁santos ▁xxup ▁freire . ▁xxmaj ▁na ▁qualidade ▁de ▁xxmaj ▁beneficiário ▁/ ▁a . ▁xxup ▁espécie : ▁xxmaj ▁termo ▁de ▁xxmaj ▁ajuste ▁xxmaj ▁no ▁713 ▁/ ▁2018; ▁xxup ▁modalidade : ▁xxmaj ▁seleção ▁xxmaj ▁pública ; ▁xxup ▁do ▁xxup ▁objeto : ▁o ▁presente ▁xxmaj ▁termo ▁de ▁xxmaj ▁ajuste ▁tem ▁por ▁objeto ▁a ▁concessão ▁de ▁apoio ▁financeiro ▁pelo ▁xxup ▁fundo ▁xxup ▁de ▁xxup ▁apoio ▁à ▁xxup ▁cultura ▁ao ▁xxmaj ▁programa ▁xxmaj ▁conexão ▁xxmaj ▁cultural ▁xxup ▁df ▁ # ▁xxmaj ▁negócios ▁de ▁interesse ▁do ▁/ ▁a ▁xxmaj ▁beneficiário ▁/ ▁a ▁acima ▁especificado ▁/ ▁a ; ▁xxup ▁do ▁xxup ▁valor : ▁xxup ▁r $ ▁ 15.000,00 ▁( quinze ▁mil ▁reais ) ▁que ▁será ▁libera do ▁em ▁parcela ▁única ▁e ▁transferido s ▁à ▁conta ▁do ▁/ ▁a ▁xxmaj ▁beneficiário ▁/ ▁a , ▁corre ndo ▁a ▁despesa ▁à ▁conta ▁de ▁dotação ▁orçamentária ▁própria ▁do ▁xxmaj ▁programa ▁de ▁xxmaj ▁trabalho ▁13.392.6219.2 911. 0001 ▁- ▁xxmaj ▁realização ▁de ▁xxmaj ▁ações ▁xxmaj ▁culturais ▁- ▁xxmaj ▁conexão ▁xxup ▁fac ▁- ▁xxmaj ▁fonte ▁100 ▁- ▁xxmaj ▁natureza ▁da ▁despesa : ▁33.90. 48; ▁xxup ▁da ▁xxup ▁vigência : ▁o ▁presente ▁termo ▁de ▁ajuste ▁entra rá ▁em ▁vigência ▁a ▁partir ▁da ▁data ▁de ▁assinatura ▁do ▁beneficiário , ▁com ▁dura ção ▁de ▁ 8 ▁( oito ) ▁meses , ▁permitid a ▁a ▁prorrogação ▁na ▁forma ▁da ▁lei ▁vigente ; ▁xxup ▁data ▁xxup ▁da ▁xxup ▁assinatura : ▁20 ▁/ ▁12 ▁/ ▁2018; ▁xxup ▁legislação : ▁xxmaj ▁lei ▁no ▁934 ▁/ ▁2017, ▁xxmaj ▁portaria ▁no ▁158 , ▁de ▁20 ▁de ▁setembro ▁de ▁2016, ▁ alterada ▁pela ▁xxmaj ▁portaria ▁no ▁106 ▁/ ▁2018; ▁xxmaj ▁pelo ▁xxup ▁fac ▁/ ▁xxup ▁sec ▁/ ▁xxup ▁df : ▁xxmaj ▁luís ▁xxmaj ▁guil herme ▁xxmaj ▁almeida ▁xxmaj ▁reis ; ▁xxup ▁beneficiário ▁/ ▁xxup ▁a : ▁xxup ▁a lice ▁xxup ▁ lan ari ▁xxup ▁santos ▁xxup ▁freire .\n",
       "y: CategoryList\n",
       "SECRETARIA DE ESTADO DE SAÚDE,CONTROLADORIA GERAL DO DISTRITO FEDERAL,SECRETARIA DE ESTADO DE TRANSPORTE E MOBILIDADE,SECRETARIA DE ESTADO DE AGRICULTURA, ABASTECIMENTO E DESENVOLVIMENTO RURAL,SECRETARIA DE ESTADO DE CULTURA\n",
       "Path: .;\n",
       "\n",
       "Test: None, model=SequentialRNN(\n",
       "  (0): MultiBatchEncoder(\n",
       "    (module): AWD_LSTM(\n",
       "      (encoder): Embedding(8552, 400, padding_idx=1)\n",
       "      (encoder_dp): EmbeddingDropout(\n",
       "        (emb): Embedding(8552, 400, padding_idx=1)\n",
       "      )\n",
       "      (rnns): ModuleList(\n",
       "        (0): QRNN(\n",
       "          (layers): ModuleList(\n",
       "            (0): QRNNLayer(\n",
       "              (linear): WeightDropout(\n",
       "                (module): Linear(in_features=800, out_features=4650, bias=True)\n",
       "              )\n",
       "            )\n",
       "          )\n",
       "        )\n",
       "        (1): QRNN(\n",
       "          (layers): ModuleList(\n",
       "            (0): QRNNLayer(\n",
       "              (linear): WeightDropout(\n",
       "                (module): Linear(in_features=1550, out_features=4650, bias=True)\n",
       "              )\n",
       "            )\n",
       "          )\n",
       "        )\n",
       "        (2): QRNN(\n",
       "          (layers): ModuleList(\n",
       "            (0): QRNNLayer(\n",
       "              (linear): WeightDropout(\n",
       "                (module): Linear(in_features=1550, out_features=4650, bias=True)\n",
       "              )\n",
       "            )\n",
       "          )\n",
       "        )\n",
       "        (3): QRNN(\n",
       "          (layers): ModuleList(\n",
       "            (0): QRNNLayer(\n",
       "              (linear): WeightDropout(\n",
       "                (module): Linear(in_features=1550, out_features=1200, bias=True)\n",
       "              )\n",
       "            )\n",
       "          )\n",
       "        )\n",
       "      )\n",
       "      (input_dp): RNNDropout()\n",
       "      (hidden_dps): ModuleList(\n",
       "        (0): RNNDropout()\n",
       "        (1): RNNDropout()\n",
       "        (2): RNNDropout()\n",
       "        (3): RNNDropout()\n",
       "      )\n",
       "    )\n",
       "  )\n",
       "  (1): PoolingLinearClassifier(\n",
       "    (layers): Sequential(\n",
       "      (0): BatchNorm1d(1200, eps=1e-05, momentum=0.1, affine=True, track_running_stats=True)\n",
       "      (1): Dropout(p=0.2)\n",
       "      (2): Linear(in_features=1200, out_features=50, bias=True)\n",
       "      (3): ReLU(inplace)\n",
       "      (4): BatchNorm1d(50, eps=1e-05, momentum=0.1, affine=True, track_running_stats=True)\n",
       "      (5): Dropout(p=0.1)\n",
       "      (6): Linear(in_features=50, out_features=19, bias=True)\n",
       "    )\n",
       "  )\n",
       "), opt_func=functools.partial(<class 'torch.optim.adam.Adam'>, betas=(0.9, 0.99)), loss_func=FlattenedLoss of CrossEntropyLoss(), metrics=[<function accuracy at 0x7fab734063b0>, FBeta(average='weighted', pos_label=1, eps=1e-09, beta=1)], true_wd=True, bn_wd=True, wd=0.01, train_bn=True, path=PosixPath('.'), model_dir='models', callback_fns=[functools.partial(<class 'fastai.basic_train.Recorder'>, add_time=True, silent=False)], callbacks=[RNNTrainer\n",
       "learn: ...\n",
       "alpha: 2.0\n",
       "beta: 1.0], layer_groups=[Sequential(\n",
       "  (0): Embedding(8552, 400, padding_idx=1)\n",
       "  (1): EmbeddingDropout(\n",
       "    (emb): Embedding(8552, 400, padding_idx=1)\n",
       "  )\n",
       "), Sequential(\n",
       "  (0): QRNN(\n",
       "    (layers): ModuleList(\n",
       "      (0): QRNNLayer(\n",
       "        (linear): WeightDropout(\n",
       "          (module): Linear(in_features=800, out_features=4650, bias=True)\n",
       "        )\n",
       "      )\n",
       "    )\n",
       "  )\n",
       "  (1): RNNDropout()\n",
       "), Sequential(\n",
       "  (0): QRNN(\n",
       "    (layers): ModuleList(\n",
       "      (0): QRNNLayer(\n",
       "        (linear): WeightDropout(\n",
       "          (module): Linear(in_features=1550, out_features=4650, bias=True)\n",
       "        )\n",
       "      )\n",
       "    )\n",
       "  )\n",
       "  (1): RNNDropout()\n",
       "), Sequential(\n",
       "  (0): QRNN(\n",
       "    (layers): ModuleList(\n",
       "      (0): QRNNLayer(\n",
       "        (linear): WeightDropout(\n",
       "          (module): Linear(in_features=1550, out_features=4650, bias=True)\n",
       "        )\n",
       "      )\n",
       "    )\n",
       "  )\n",
       "  (1): RNNDropout()\n",
       "), Sequential(\n",
       "  (0): QRNN(\n",
       "    (layers): ModuleList(\n",
       "      (0): QRNNLayer(\n",
       "        (linear): WeightDropout(\n",
       "          (module): Linear(in_features=1550, out_features=1200, bias=True)\n",
       "        )\n",
       "      )\n",
       "    )\n",
       "  )\n",
       "  (1): RNNDropout()\n",
       "), Sequential(\n",
       "  (0): PoolingLinearClassifier(\n",
       "    (layers): Sequential(\n",
       "      (0): BatchNorm1d(1200, eps=1e-05, momentum=0.1, affine=True, track_running_stats=True)\n",
       "      (1): Dropout(p=0.2)\n",
       "      (2): Linear(in_features=1200, out_features=50, bias=True)\n",
       "      (3): ReLU(inplace)\n",
       "      (4): BatchNorm1d(50, eps=1e-05, momentum=0.1, affine=True, track_running_stats=True)\n",
       "      (5): Dropout(p=0.1)\n",
       "      (6): Linear(in_features=50, out_features=19, bias=True)\n",
       "    )\n",
       "  )\n",
       ")], add_time=True, silent=False, cb_fns_registered=False)"
      ]
     },
     "execution_count": 54,
     "metadata": {},
     "output_type": "execute_result"
    }
   ],
   "source": [
    "learn_c = text_classifier_learner(data_clas, AWD_LSTM, config=config, pretrained=False, drop_mult=0.5, \n",
    "                                  metrics=[accuracy,f1])\n",
    "learn_c.load_encoder(\"fine_tune_enc\");"
   ]
  },
  {
   "cell_type": "code",
   "execution_count": 55,
   "metadata": {},
   "outputs": [
    {
     "data": {
      "text/html": [],
      "text/plain": [
       "<IPython.core.display.HTML object>"
      ]
     },
     "metadata": {},
     "output_type": "display_data"
    },
    {
     "name": "stdout",
     "output_type": "stream",
     "text": [
      "LR Finder is complete, type {learner_name}.recorder.plot() to see the graph.\n"
     ]
    }
   ],
   "source": [
    "learn_c.freeze()\n",
    "learn_c.lr_find()"
   ]
  },
  {
   "cell_type": "code",
   "execution_count": 56,
   "metadata": {
    "scrolled": true
   },
   "outputs": [
    {
     "data": {
      "image/png": "[encoded data removed]",
      "text/plain": [
       "<Figure size 432x288 with 1 Axes>"
      ]
     },
     "metadata": {
      "needs_background": "light"
     },
     "output_type": "display_data"
    }
   ],
   "source": [
    "learn_c.recorder.plot()"
   ]
  },
  {
   "cell_type": "code",
   "execution_count": 57,
   "metadata": {},
   "outputs": [],
   "source": [
    "lr=3e-2"
   ]
  },
  {
   "cell_type": "code",
   "execution_count": 58,
   "metadata": {},
   "outputs": [
    {
     "data": {
      "text/html": [
       "<table border=\"1\" class=\"dataframe\">\n",
       "  <thead>\n",
       "    <tr style=\"text-align: left;\">\n",
       "      <th>epoch</th>\n",
       "      <th>train_loss</th>\n",
       "      <th>valid_loss</th>\n",
       "      <th>accuracy</th>\n",
       "      <th>f_beta</th>\n",
       "      <th>time</th>\n",
       "    </tr>\n",
       "  </thead>\n",
       "  <tbody>\n",
       "    <tr>\n",
       "      <td>0</td>\n",
       "      <td>2.420215</td>\n",
       "      <td>1.940725</td>\n",
       "      <td>0.385417</td>\n",
       "      <td>0.358126</td>\n",
       "      <td>00:09</td>\n",
       "    </tr>\n",
       "    <tr>\n",
       "      <td>1</td>\n",
       "      <td>1.964753</td>\n",
       "      <td>1.508430</td>\n",
       "      <td>0.531250</td>\n",
       "      <td>0.490067</td>\n",
       "      <td>00:09</td>\n",
       "    </tr>\n",
       "    <tr>\n",
       "      <td>2</td>\n",
       "      <td>1.628235</td>\n",
       "      <td>1.395996</td>\n",
       "      <td>0.625000</td>\n",
       "      <td>0.594375</td>\n",
       "      <td>00:09</td>\n",
       "    </tr>\n",
       "    <tr>\n",
       "      <td>3</td>\n",
       "      <td>1.287825</td>\n",
       "      <td>1.174695</td>\n",
       "      <td>0.687500</td>\n",
       "      <td>0.694541</td>\n",
       "      <td>00:09</td>\n",
       "    </tr>\n",
       "    <tr>\n",
       "      <td>4</td>\n",
       "      <td>0.982696</td>\n",
       "      <td>1.026604</td>\n",
       "      <td>0.729167</td>\n",
       "      <td>0.708237</td>\n",
       "      <td>00:09</td>\n",
       "    </tr>\n",
       "  </tbody>\n",
       "</table>"
      ],
      "text/plain": [
       "<IPython.core.display.HTML object>"
      ]
     },
     "metadata": {},
     "output_type": "display_data"
    }
   ],
   "source": [
    "learn_c.fit_one_cycle(5, lr, wd=0.3, moms=(0.8,0.7))"
   ]
  },
  {
   "cell_type": "code",
   "execution_count": 59,
   "metadata": {},
   "outputs": [],
   "source": [
    "learn_c.save(\"clf_fwd\")"
   ]
  },
  {
   "cell_type": "code",
   "execution_count": 60,
   "metadata": {},
   "outputs": [
    {
     "data": {
      "text/html": [
       "<table border=\"1\" class=\"dataframe\">\n",
       "  <thead>\n",
       "    <tr style=\"text-align: left;\">\n",
       "      <th>epoch</th>\n",
       "      <th>train_loss</th>\n",
       "      <th>valid_loss</th>\n",
       "      <th>accuracy</th>\n",
       "      <th>f_beta</th>\n",
       "      <th>time</th>\n",
       "    </tr>\n",
       "  </thead>\n",
       "  <tbody>\n",
       "    <tr>\n",
       "      <td>0</td>\n",
       "      <td>0.940696</td>\n",
       "      <td>1.688801</td>\n",
       "      <td>0.552083</td>\n",
       "      <td>0.526978</td>\n",
       "      <td>00:09</td>\n",
       "    </tr>\n",
       "    <tr>\n",
       "      <td>1</td>\n",
       "      <td>1.361181</td>\n",
       "      <td>1.163793</td>\n",
       "      <td>0.635417</td>\n",
       "      <td>0.584898</td>\n",
       "      <td>00:09</td>\n",
       "    </tr>\n",
       "    <tr>\n",
       "      <td>2</td>\n",
       "      <td>1.150416</td>\n",
       "      <td>0.833198</td>\n",
       "      <td>0.770833</td>\n",
       "      <td>0.730091</td>\n",
       "      <td>00:09</td>\n",
       "    </tr>\n",
       "    <tr>\n",
       "      <td>3</td>\n",
       "      <td>0.776416</td>\n",
       "      <td>0.765295</td>\n",
       "      <td>0.822917</td>\n",
       "      <td>0.796637</td>\n",
       "      <td>00:09</td>\n",
       "    </tr>\n",
       "    <tr>\n",
       "      <td>4</td>\n",
       "      <td>0.471823</td>\n",
       "      <td>0.685559</td>\n",
       "      <td>0.812500</td>\n",
       "      <td>0.799475</td>\n",
       "      <td>00:09</td>\n",
       "    </tr>\n",
       "  </tbody>\n",
       "</table>"
      ],
      "text/plain": [
       "<IPython.core.display.HTML object>"
      ]
     },
     "metadata": {},
     "output_type": "display_data"
    }
   ],
   "source": [
    "learn_c.freeze_to(-2)\n",
    "learn_c.fit_one_cycle(5, slice(lr/(2.6**4),lr), wd=0.3, moms=(0.8,0.7))"
   ]
  },
  {
   "cell_type": "code",
   "execution_count": 61,
   "metadata": {},
   "outputs": [],
   "source": [
    "learn_c.save(\"clf_fwd\")"
   ]
  },
  {
   "cell_type": "code",
   "execution_count": 62,
   "metadata": {},
   "outputs": [
    {
     "data": {
      "text/html": [
       "<table border=\"1\" class=\"dataframe\">\n",
       "  <thead>\n",
       "    <tr style=\"text-align: left;\">\n",
       "      <th>epoch</th>\n",
       "      <th>train_loss</th>\n",
       "      <th>valid_loss</th>\n",
       "      <th>accuracy</th>\n",
       "      <th>f_beta</th>\n",
       "      <th>time</th>\n",
       "    </tr>\n",
       "  </thead>\n",
       "  <tbody>\n",
       "    <tr>\n",
       "      <td>0</td>\n",
       "      <td>0.334820</td>\n",
       "      <td>1.015468</td>\n",
       "      <td>0.729167</td>\n",
       "      <td>0.734804</td>\n",
       "      <td>00:11</td>\n",
       "    </tr>\n",
       "    <tr>\n",
       "      <td>1</td>\n",
       "      <td>0.550087</td>\n",
       "      <td>0.711908</td>\n",
       "      <td>0.812500</td>\n",
       "      <td>0.801706</td>\n",
       "      <td>00:11</td>\n",
       "    </tr>\n",
       "    <tr>\n",
       "      <td>2</td>\n",
       "      <td>0.372841</td>\n",
       "      <td>0.678348</td>\n",
       "      <td>0.791667</td>\n",
       "      <td>0.787935</td>\n",
       "      <td>00:11</td>\n",
       "    </tr>\n",
       "  </tbody>\n",
       "</table>"
      ],
      "text/plain": [
       "<IPython.core.display.HTML object>"
      ]
     },
     "metadata": {},
     "output_type": "display_data"
    }
   ],
   "source": [
    "learn_c.freeze_to(-3)\n",
    "learn_c.fit_one_cycle(3, slice(lr/2/(2.6**4),lr/2), wd=0.3, moms=(0.8,0.7))"
   ]
  },
  {
   "cell_type": "code",
   "execution_count": 63,
   "metadata": {},
   "outputs": [],
   "source": [
    "learn_c.save(\"clf_fwd\")"
   ]
  },
  {
   "cell_type": "code",
   "execution_count": 64,
   "metadata": {},
   "outputs": [
    {
     "data": {
      "text/html": [
       "<table border=\"1\" class=\"dataframe\">\n",
       "  <thead>\n",
       "    <tr style=\"text-align: left;\">\n",
       "      <th>epoch</th>\n",
       "      <th>train_loss</th>\n",
       "      <th>valid_loss</th>\n",
       "      <th>accuracy</th>\n",
       "      <th>f_beta</th>\n",
       "      <th>time</th>\n",
       "    </tr>\n",
       "  </thead>\n",
       "  <tbody>\n",
       "    <tr>\n",
       "      <td>0</td>\n",
       "      <td>0.184910</td>\n",
       "      <td>0.644883</td>\n",
       "      <td>0.822917</td>\n",
       "      <td>0.806035</td>\n",
       "      <td>00:15</td>\n",
       "    </tr>\n",
       "    <tr>\n",
       "      <td>1</td>\n",
       "      <td>0.174362</td>\n",
       "      <td>0.595416</td>\n",
       "      <td>0.843750</td>\n",
       "      <td>0.845935</td>\n",
       "      <td>00:15</td>\n",
       "    </tr>\n",
       "    <tr>\n",
       "      <td>2</td>\n",
       "      <td>0.148650</td>\n",
       "      <td>0.529046</td>\n",
       "      <td>0.854167</td>\n",
       "      <td>0.849243</td>\n",
       "      <td>00:15</td>\n",
       "    </tr>\n",
       "    <tr>\n",
       "      <td>3</td>\n",
       "      <td>0.106355</td>\n",
       "      <td>0.514202</td>\n",
       "      <td>0.843750</td>\n",
       "      <td>0.842646</td>\n",
       "      <td>00:15</td>\n",
       "    </tr>\n",
       "    <tr>\n",
       "      <td>4</td>\n",
       "      <td>0.091754</td>\n",
       "      <td>0.529347</td>\n",
       "      <td>0.875000</td>\n",
       "      <td>0.872804</td>\n",
       "      <td>00:15</td>\n",
       "    </tr>\n",
       "  </tbody>\n",
       "</table>"
      ],
      "text/plain": [
       "<IPython.core.display.HTML object>"
      ]
     },
     "metadata": {},
     "output_type": "display_data"
    }
   ],
   "source": [
    "learn_c.unfreeze()\n",
    "learn_c.fit_one_cycle(5, slice(lr/10/(2.6**4),lr/10), wd=0.3, moms=(0.8,0.7))"
   ]
  },
  {
   "cell_type": "code",
   "execution_count": 65,
   "metadata": {},
   "outputs": [],
   "source": [
    "learn_c.save(\"clf_fwd\")"
   ]
  },
  {
   "cell_type": "markdown",
   "metadata": {},
   "source": [
    "## Evaluate Forward CLF"
   ]
  },
  {
   "cell_type": "code",
   "execution_count": 134,
   "metadata": {},
   "outputs": [],
   "source": [
    "data_clas = load_data(path/\"data\", \"data_clas_export.pkl\")"
   ]
  },
  {
   "cell_type": "code",
   "execution_count": 17,
   "metadata": {},
   "outputs": [],
   "source": [
    "data_lm = load_data(path/\"data\", \"data_lm_export.pkl\")"
   ]
  },
  {
   "cell_type": "code",
   "execution_count": 18,
   "metadata": {},
   "outputs": [],
   "source": [
    "data_test = (TextList.from_df(df_test, path, cols='text',\n",
    "                              processor=SPProcessor.load(path))\n",
    "                         .split_none()\n",
    "                         .label_from_df(cols=0)\n",
    "                         .databunch(bs=bs))"
   ]
  },
  {
   "cell_type": "code",
   "execution_count": 19,
   "metadata": {},
   "outputs": [
    {
     "data": {
      "text/html": [
       "<table border=\"1\" class=\"dataframe\">\n",
       "  <thead>\n",
       "    <tr style=\"text-align: right;\">\n",
       "      <th>text</th>\n",
       "      <th>target</th>\n",
       "    </tr>\n",
       "  </thead>\n",
       "  <tbody>\n",
       "    <tr>\n",
       "      <td>▁xxbos ▁o ▁xxup ▁coordenador ▁xxup ▁de ▁xxup ▁inovação ▁e ▁xxup ▁gestão ▁xxup ▁do ▁xxup ▁conhecimento , ▁xxup ▁da ▁xxup ▁subsecretaria ▁xxup ▁de ▁xxup ▁gestão ▁xxup ▁de ▁xxup ▁pessoas ▁xxup ▁da ▁xxup ▁secretaria ▁xxup ▁de ▁xxup ▁estado ▁xxup ▁de ▁xxup ▁saúde ▁xxup ▁do ▁xxup ▁distrito ▁xxup ▁federal , ▁xxmaj ▁substituto , ▁no ▁uso ▁de ▁suas ▁atribuições ▁regimentais ▁e ▁considerando ▁o ▁disposto ▁no ▁xxmaj ▁art . ▁3° ▁do ▁xxmaj ▁decreto ▁no ▁39.61</td>\n",
       "      <td>SECRETARIA DE ESTADO DE SAÚDE</td>\n",
       "    </tr>\n",
       "    <tr>\n",
       "      <td>▁xxbos ▁o ▁xxup ▁governador ▁xxup ▁do ▁xxup ▁distrito ▁xxup ▁federal , ▁no ▁uso ▁das ▁atribuições ▁que ▁lhe ▁confere m ▁os ▁incisos ▁xxup ▁xxvi ▁e ▁xxup ▁xxvii , ▁do ▁artigo ▁100, ▁da ▁xxmaj ▁lei ▁xxmaj ▁orgânica ▁do ▁xxmaj ▁distrito ▁xxmaj ▁federal , ▁resolve : ▁xxup ▁nomear ▁o ▁xxup ▁ma j ▁xxup ▁qopm ▁xxup ▁peter c ley ▁xxup ▁franco ▁xxup ▁alves , ▁matrícula ▁ 50. 64 1 -9, ▁para ▁exercer ▁o ▁xxmaj</td>\n",
       "      <td>PODER EXECUTIVO</td>\n",
       "    </tr>\n",
       "    <tr>\n",
       "      <td>▁xxbos ▁o ▁xxup ▁governador ▁xxup ▁do ▁xxup ▁distrito ▁xxup ▁federal , ▁no ▁uso ▁das ▁atribuições ▁que ▁lhe ▁confere ▁o ▁artigo ▁100, ▁incisos ▁xxup ▁xxvi ▁e ▁xxup ▁xxvii , ▁da ▁xxmaj ▁lei ▁xxmaj ▁orgânica ▁do ▁xxmaj ▁distrito ▁xxmaj ▁federal , ▁resolve : ▁xxup ▁nomear ▁xxup ▁jos é ▁xxup ▁pereira ▁xxup ▁oliveira ▁para ▁exercer ▁o ▁xxmaj ▁cargo ▁em ▁xxmaj ▁comissão , ▁xxmaj ▁símbolo ▁xxup ▁df a - ▁10 , ▁de ▁xxmaj ▁assessor</td>\n",
       "      <td>PODER EXECUTIVO</td>\n",
       "    </tr>\n",
       "    <tr>\n",
       "      <td>▁xxbos ▁o ▁xxup ▁governador ▁xxup ▁do ▁xxup ▁distrito ▁xxup ▁federal , ▁no ▁uso ▁das ▁atribuições ▁que ▁lhe ▁confere ▁o ▁artigo ▁100, ▁incisos ▁xxup ▁xxvi ▁e ▁xxup ▁xxvii , ▁da ▁xxmaj ▁lei ▁xxmaj ▁orgânica ▁do ▁xxmaj ▁distrito ▁xxmaj ▁federal , ▁resolve : ▁xxup ▁tornar ▁xxup ▁sem ▁xxup ▁efeito ▁no ▁xxmaj ▁decreto ▁de ▁08 ▁de ▁janeiro ▁de ▁2019, ▁publicado ▁no ▁xxup ▁dodf ▁no ▁06 , ▁de ▁09 ▁de ▁janeiro ▁de ▁2019, ▁página</td>\n",
       "      <td>PODER EXECUTIVO</td>\n",
       "    </tr>\n",
       "    <tr>\n",
       "      <td>▁xxbos ▁o ▁xxup ▁governador ▁xxup ▁do ▁xxup ▁distrito ▁xxup ▁federal , ▁no ▁uso ▁das ▁atribuições ▁que ▁lhe ▁confere ▁o ▁artigo ▁100, ▁incisos ▁xxup ▁xxvi ▁e ▁xxup ▁xxvii , ▁da ▁xxmaj ▁lei ▁xxmaj ▁orgânica ▁do ▁xxmaj ▁distrito ▁xxmaj ▁federal , ▁resolve : ▁xxup ▁nomear ▁xxup ▁da vid ▁xxup ▁donizett i ▁xxup ▁da ▁xxup ▁silva , ▁para ▁exercer ▁o ▁xxmaj ▁cargo ▁em ▁xxmaj ▁comissão , ▁xxmaj ▁símbolo ▁xxup ▁dfg -12, ▁de ▁xxmaj</td>\n",
       "      <td>PODER EXECUTIVO</td>\n",
       "    </tr>\n",
       "  </tbody>\n",
       "</table>"
      ],
      "text/plain": [
       "<IPython.core.display.HTML object>"
      ]
     },
     "metadata": {},
     "output_type": "display_data"
    }
   ],
   "source": [
    "data_test.show_batch()"
   ]
  },
  {
   "cell_type": "code",
   "execution_count": 20,
   "metadata": {},
   "outputs": [
    {
     "data": {
      "text/plain": [
       "(19, 19)"
      ]
     },
     "execution_count": 20,
     "metadata": {},
     "output_type": "execute_result"
    }
   ],
   "source": [
    "data_test.c, data_clas.c"
   ]
  },
  {
   "cell_type": "code",
   "execution_count": 21,
   "metadata": {},
   "outputs": [
    {
     "data": {
      "text/plain": [
       "(8552, 8552)"
      ]
     },
     "execution_count": 21,
     "metadata": {},
     "output_type": "execute_result"
    }
   ],
   "source": [
    "len(data_test.vocab.itos), len(data_clas.vocab.itos)"
   ]
  },
  {
   "cell_type": "code",
   "execution_count": 22,
   "metadata": {},
   "outputs": [],
   "source": [
    "data_test.save(path/\"data/test_data.pkl\")"
   ]
  },
  {
   "cell_type": "code",
   "execution_count": 140,
   "metadata": {},
   "outputs": [],
   "source": [
    "learn_c.load(path/\"clf_fwd\");"
   ]
  },
  {
   "cell_type": "code",
   "execution_count": 141,
   "metadata": {},
   "outputs": [],
   "source": [
    "learn_c.data.valid_dl = data_test.fix_dl"
   ]
  },
  {
   "cell_type": "code",
   "execution_count": 142,
   "metadata": {},
   "outputs": [
    {
     "name": "stderr",
     "output_type": "stream",
     "text": [
      "/opt/anaconda3/lib/python3.7/site-packages/fastai/train.py:200: UserWarning: Tight layout not applied. The left and right margins cannot be made large enough to accommodate all axes decorations. \n",
      "  plt.tight_layout()\n"
     ]
    },
    {
     "data": {
      "image/png": "[encoded data removed]",
      "text/plain": [
       "<Figure size 432x288 with 1 Axes>"
      ]
     },
     "metadata": {
      "needs_background": "light"
     },
     "output_type": "display_data"
    }
   ],
   "source": [
    "preds,y,losses = learn_c.get_preds(with_loss=True)\n",
    "predictions = np.argmax(preds, axis = 1)\n",
    "\n",
    "interp = ClassificationInterpretation(learn_c, preds, y, losses)\n",
    "interp.plot_confusion_matrix()"
   ]
  },
  {
   "cell_type": "code",
   "execution_count": 143,
   "metadata": {},
   "outputs": [
    {
     "data": {
      "text/plain": [
       "(tensor([15,  3, 15,  3,  3, 15, 10, 15, 10,  3, 15, 14, 10, 15, 15]),\n",
       " tensor([14,  3,  3,  3,  3, 10, 13, 10, 10,  3, 15, 14, 14, 15, 15]),\n",
       " torch.Size([237]),\n",
       " torch.Size([237]))"
      ]
     },
     "execution_count": 143,
     "metadata": {},
     "output_type": "execute_result"
    }
   ],
   "source": [
    "predictions[:15], y[:15], predictions.shape, y.shape"
   ]
  },
  {
   "cell_type": "code",
   "execution_count": 144,
   "metadata": {},
   "outputs": [
    {
     "name": "stdout",
     "output_type": "stream",
     "text": [
      "                                                                                   precision    recall  f1-score   support\n",
      "\n",
      "                                                                       CASA CIVIL     0.8667    0.7222    0.7879        18\n",
      "                                          CONTROLADORIA GERAL DO DISTRITO FEDERAL     0.5000    1.0000    0.6667         2\n",
      "                                           DEFENSORIA PÚBLICA DO DISTRITO FEDERAL     1.0000    1.0000    1.0000         8\n",
      "                                                                  PODER EXECUTIVO     0.7500    0.9000    0.8182        10\n",
      "                                                                PODER LEGISLATIVO     0.5000    1.0000    0.6667         1\n",
      "       SECRETARIA DE ESTADO DE AGRICULTURA, ABASTECIMENTO E DESENVOLVIMENTO RURAL     0.5000    0.2500    0.3333         4\n",
      "                                                  SECRETARIA DE ESTADO DE CULTURA     1.0000    0.8462    0.9167        13\n",
      "                                SECRETARIA DE ESTADO DE DESENVOLVIMENTO ECONÔMICO     1.0000    0.2500    0.4000         4\n",
      "                       SECRETARIA DE ESTADO DE DESENVOLVIMENTO URBANO E HABITAÇÃO     0.7500    0.7500    0.7500         4\n",
      "SECRETARIA DE ESTADO DE ECONOMIA, DESENVOLVIMENTO, INOVAÇÃO, CIÊNCIA E TECNOLOGIA     1.0000    1.0000    1.0000         1\n",
      "                                                 SECRETARIA DE ESTADO DE EDUCAÇÃO     0.8000    0.6154    0.6957        13\n",
      "                SECRETARIA DE ESTADO DE FAZENDA, PLANEJAMENTO, ORÇAMENTO E GESTÃO     0.8947    0.8095    0.8500        21\n",
      "                                      SECRETARIA DE ESTADO DE JUSTIÇA E CIDADANIA     0.3750    0.6000    0.4615         5\n",
      "                                   SECRETARIA DE ESTADO DE OBRAS E INFRAESTRUTURA     1.0000    0.7222    0.8387        18\n",
      "                                                    SECRETARIA DE ESTADO DE SAÚDE     0.9677    0.9375    0.9524        32\n",
      "                                        SECRETARIA DE ESTADO DE SEGURANÇA PÚBLICA     0.8448    0.9800    0.9074        50\n",
      "                                  SECRETARIA DE ESTADO DE TRANSPORTE E MOBILIDADE     0.7727    0.8500    0.8095        20\n",
      "                                            SECRETARIA DE ESTADO DO MEIO AMBIENTE     1.0000    0.5000    0.6667         2\n",
      "                                           TRIBUNAL DE CONTAS DO DISTRITO FEDERAL     0.7333    1.0000    0.8462        11\n",
      "\n",
      "                                                                        micro avg     0.8397    0.8397    0.8397       237\n",
      "                                                                        macro avg     0.8029    0.7754    0.7562       237\n",
      "                                                                     weighted avg     0.8582    0.8397    0.8362       237\n",
      "\n",
      "0.8396624472573839\n"
     ]
    }
   ],
   "source": [
    "print(classification_report(y, predictions, target_names=learn_c.data.classes, digits=4))\n",
    "print(accuracy_score(y, predictions))"
   ]
  },
  {
   "cell_type": "code",
   "execution_count": 145,
   "metadata": {},
   "outputs": [
    {
     "data": {
      "text/html": [
       "<table border=\"1\" class=\"dataframe\">\n",
       "  <thead>\n",
       "    <tr style=\"text-align: right;\">\n",
       "      <th>text</th>\n",
       "      <th>target</th>\n",
       "      <th>prediction</th>\n",
       "    </tr>\n",
       "  </thead>\n",
       "  <tbody>\n",
       "    <tr>\n",
       "      <td>▁xxbos ▁o ▁xxup ▁coordenador ▁xxup ▁de ▁xxup ▁inovação ▁e ▁xxup ▁gestão ▁xxup ▁do ▁xxup ▁conhecimento , ▁xxup ▁da ▁xxup ▁subsecretaria ▁xxup ▁de ▁xxup ▁gestão ▁xxup ▁de ▁xxup ▁pessoas ▁xxup ▁da ▁xxup ▁secretaria ▁xxup ▁de ▁xxup ▁estado ▁xxup ▁de ▁xxup ▁saúde ▁xxup ▁do ▁xxup ▁distrito ▁xxup ▁federal , ▁xxmaj ▁substituto , ▁no ▁uso ▁de ▁suas ▁atribuições ▁regimentais ▁e ▁considerando ▁o ▁disposto ▁no ▁xxmaj ▁art . ▁3° ▁do ▁xxmaj ▁decreto ▁no ▁39.61</td>\n",
       "      <td>SECRETARIA DE ESTADO DE SAÚDE</td>\n",
       "      <td>SECRETARIA DE ESTADO DE SEGURANÇA PÚBLICA</td>\n",
       "    </tr>\n",
       "    <tr>\n",
       "      <td>▁xxbos ▁o ▁xxup ▁governador ▁xxup ▁do ▁xxup ▁distrito ▁xxup ▁federal , ▁no ▁uso ▁das ▁atribuições ▁que ▁lhe ▁confere m ▁os ▁incisos ▁xxup ▁xxvi ▁e ▁xxup ▁xxvii , ▁do ▁artigo ▁100, ▁da ▁xxmaj ▁lei ▁xxmaj ▁orgânica ▁do ▁xxmaj ▁distrito ▁xxmaj ▁federal , ▁resolve : ▁xxup ▁nomear ▁o ▁xxup ▁ma j ▁xxup ▁qopm ▁xxup ▁peter c ley ▁xxup ▁franco ▁xxup ▁alves , ▁matrícula ▁ 50. 64 1 -9, ▁para ▁exercer ▁o ▁xxmaj</td>\n",
       "      <td>PODER EXECUTIVO</td>\n",
       "      <td>PODER EXECUTIVO</td>\n",
       "    </tr>\n",
       "    <tr>\n",
       "      <td>▁xxbos ▁o ▁xxup ▁governador ▁xxup ▁do ▁xxup ▁distrito ▁xxup ▁federal , ▁no ▁uso ▁das ▁atribuições ▁que ▁lhe ▁confere ▁o ▁artigo ▁100, ▁incisos ▁xxup ▁xxvi ▁e ▁xxup ▁xxvii , ▁da ▁xxmaj ▁lei ▁xxmaj ▁orgânica ▁do ▁xxmaj ▁distrito ▁xxmaj ▁federal , ▁resolve : ▁xxup ▁nomear ▁xxup ▁jos é ▁xxup ▁pereira ▁xxup ▁oliveira ▁para ▁exercer ▁o ▁xxmaj ▁cargo ▁em ▁xxmaj ▁comissão , ▁xxmaj ▁símbolo ▁xxup ▁df a - ▁10 , ▁de ▁xxmaj ▁assessor</td>\n",
       "      <td>PODER EXECUTIVO</td>\n",
       "      <td>SECRETARIA DE ESTADO DE SEGURANÇA PÚBLICA</td>\n",
       "    </tr>\n",
       "    <tr>\n",
       "      <td>▁xxbos ▁o ▁xxup ▁governador ▁xxup ▁do ▁xxup ▁distrito ▁xxup ▁federal , ▁no ▁uso ▁das ▁atribuições ▁que ▁lhe ▁confere ▁o ▁artigo ▁100, ▁incisos ▁xxup ▁xxvi ▁e ▁xxup ▁xxvii , ▁da ▁xxmaj ▁lei ▁xxmaj ▁orgânica ▁do ▁xxmaj ▁distrito ▁xxmaj ▁federal , ▁resolve : ▁xxup ▁tornar ▁xxup ▁sem ▁xxup ▁efeito ▁no ▁xxmaj ▁decreto ▁de ▁08 ▁de ▁janeiro ▁de ▁2019, ▁publicado ▁no ▁xxup ▁dodf ▁no ▁06 , ▁de ▁09 ▁de ▁janeiro ▁de ▁2019, ▁página</td>\n",
       "      <td>PODER EXECUTIVO</td>\n",
       "      <td>PODER EXECUTIVO</td>\n",
       "    </tr>\n",
       "    <tr>\n",
       "      <td>▁xxbos ▁o ▁xxup ▁governador ▁xxup ▁do ▁xxup ▁distrito ▁xxup ▁federal , ▁no ▁uso ▁das ▁atribuições ▁que ▁lhe ▁confere ▁o ▁artigo ▁100, ▁incisos ▁xxup ▁xxvi ▁e ▁xxup ▁xxvii , ▁da ▁xxmaj ▁lei ▁xxmaj ▁orgânica ▁do ▁xxmaj ▁distrito ▁xxmaj ▁federal , ▁resolve : ▁xxup ▁nomear ▁xxup ▁da vid ▁xxup ▁donizett i ▁xxup ▁da ▁xxup ▁silva , ▁para ▁exercer ▁o ▁xxmaj ▁cargo ▁em ▁xxmaj ▁comissão , ▁xxmaj ▁símbolo ▁xxup ▁dfg -12, ▁de ▁xxmaj</td>\n",
       "      <td>PODER EXECUTIVO</td>\n",
       "      <td>PODER EXECUTIVO</td>\n",
       "    </tr>\n",
       "  </tbody>\n",
       "</table>"
      ],
      "text/plain": [
       "<IPython.core.display.HTML object>"
      ]
     },
     "metadata": {},
     "output_type": "display_data"
    }
   ],
   "source": [
    "learn_c.show_results()"
   ]
  },
  {
   "cell_type": "code",
   "execution_count": 78,
   "metadata": {},
   "outputs": [],
   "source": [
    "txt_ci = TextClassificationInterpretation.from_learner(learn_c)"
   ]
  },
  {
   "cell_type": "code",
   "execution_count": 79,
   "metadata": {},
   "outputs": [
    {
     "data": {
      "text/html": [
       "<table border=\"1\" class=\"dataframe\">\n",
       "  <thead>\n",
       "    <tr style=\"text-align: right;\">\n",
       "      <th>Text</th>\n",
       "      <th>Prediction</th>\n",
       "      <th>Actual</th>\n",
       "      <th>Loss</th>\n",
       "      <th>Probability</th>\n",
       "    </tr>\n",
       "  </thead>\n",
       "  <tbody>\n",
       "    <tr>\n",
       "      <td>▁xxbos ▁o ▁xxup ▁brb ▁- ▁xxup ▁banco ▁xxup ▁de ▁xxup ▁brasília ▁xxup ▁ s . a . ▁torna ▁público ▁que ▁a ▁xxmaj ▁comissão ▁xxmaj ▁administrativa ▁da ▁xxup ▁dipe s ▁ratifico u ▁o ▁ato ▁de ▁dispensa ▁de ▁licitação , ▁em ▁15.0 1. 19 , ▁nos ▁termos ▁do ▁artigo ▁6° ▁do ▁xxmaj ▁regulamento ▁de ▁xxmaj ▁licitações ▁e ▁xxmaj ▁contratos ▁xxup ▁( r lc - brb ), ▁para ▁a li enação ▁de ▁imóveis</td>\n",
       "      <td>SECRETARIA DE ESTADO DE SAÚDE</td>\n",
       "      <td>SECRETARIA DE ESTADO DE FAZENDA, PLANEJAMENTO, ORÇAMENTO E GESTÃO</td>\n",
       "      <td>8.21</td>\n",
       "      <td>0.02</td>\n",
       "    </tr>\n",
       "    <tr>\n",
       "      <td>▁xxbos ▁o ▁xxup ▁subsecretário ▁xxup ▁de ▁xxup ▁administração ▁xxup ▁geral , ▁xxup ▁da ▁xxup ▁secretaria ▁xxup ▁de ▁xxup ▁estado ▁xxup ▁de ▁xxup ▁justiça ▁e ▁xxup ▁cidadania ▁xxup ▁do ▁xxup ▁distrito ▁xxup ▁federal , ▁no ▁uso ▁das ▁atribuições ▁da ▁delega ção ▁de ▁competência ▁que ▁trata ▁o ▁artigo ▁2 o , ▁inciso ▁xxup ▁i , ▁alínea ▁\" j \" ▁da ▁xxmaj ▁portaria ▁n ° ▁65, ▁de ▁13 ▁de ▁maio ▁de ▁2013, ▁publicada</td>\n",
       "      <td>PODER EXECUTIVO</td>\n",
       "      <td>SECRETARIA DE ESTADO DE JUSTIÇA E CIDADANIA</td>\n",
       "      <td>6.74</td>\n",
       "      <td>0.00</td>\n",
       "    </tr>\n",
       "    <tr>\n",
       "      <td>▁xxbos ▁a ▁xxup ▁subsecretária ▁xxup ▁de ▁xxup ▁gestão ▁xxup ▁de ▁xxup ▁pessoas , ▁xxup ▁da ▁xxup ▁secretaria ▁xxup ▁de ▁xxup ▁estado ▁xxup ▁de ▁xxup ▁educação ▁xxup ▁do ▁xxup ▁distrito ▁xxup ▁federal , ▁no ▁uso ▁das ▁atribuições ▁que ▁lhe ▁são ▁conferida s ▁pelo ▁artigo ▁4 o , ▁inciso ▁xxup ▁iii , ▁da ▁xxmaj ▁portaria ▁no ▁376 , ▁de ▁13 .11.2018 , ▁resolve : ▁xxup ▁homologar ▁o ▁resultado ▁da ▁avaliação ▁final ▁do</td>\n",
       "      <td>PODER EXECUTIVO</td>\n",
       "      <td>SECRETARIA DE ESTADO DE EDUCAÇÃO</td>\n",
       "      <td>6.70</td>\n",
       "      <td>0.01</td>\n",
       "    </tr>\n",
       "    <tr>\n",
       "      <td>▁xxbos ▁o ▁xxup ▁secretário ▁xxup ▁de ▁xxup ▁estado ▁xxup ▁de ▁xxup ▁educação ▁xxup ▁do ▁xxup ▁distrito ▁xxup ▁federal , ▁no ▁uso ▁das ▁atribuições ▁regimentais ▁que ▁lhe ▁são ▁conferida s ▁pelo ▁xxmaj ▁decreto ▁no ▁38.6 31, ▁de ▁20 ▁de ▁novembro ▁de ▁2017 ▁e ▁pelo ▁xxmaj ▁decreto ▁no ▁39.002 , ▁de ▁24 ▁de ▁abri l ▁de ▁2018, ▁e ▁considerando ▁o ▁disposto ▁no ▁art . ▁44, ▁da ▁xxmaj ▁lei ▁xxmaj ▁complementar ▁no ▁</td>\n",
       "      <td>SECRETARIA DE ESTADO DE TRANSPORTE E MOBILIDADE</td>\n",
       "      <td>SECRETARIA DE ESTADO DE EDUCAÇÃO</td>\n",
       "      <td>6.51</td>\n",
       "      <td>0.01</td>\n",
       "    </tr>\n",
       "    <tr>\n",
       "      <td>▁xxbos ▁xxmaj ▁contratante : ▁xxup ▁brb ▁- ▁xxup ▁banco ▁xxup ▁de ▁xxup ▁brasília ▁xxup ▁ s . a . ▁xxmaj ▁contratada : ▁xxup ▁ lo rinald o ▁xxup ▁batista ▁xxup ▁de ▁xxup ▁carvalho . ▁xxmaj ▁contrato ▁xxup ▁brb ▁- ▁2018 ▁/ ▁ 262 . ▁xxmaj ▁modalidade : ▁xxmaj ▁credenciamento ▁xxup ▁brb ▁no ▁001 ▁/ ▁2018. ▁xxmaj ▁objeto : ▁xxmaj ▁prestação ▁de ▁serviços ▁de ▁intermediação ▁de ▁venda ▁de ▁imóveis ▁não ▁de</td>\n",
       "      <td>TRIBUNAL DE CONTAS DO DISTRITO FEDERAL</td>\n",
       "      <td>SECRETARIA DE ESTADO DE FAZENDA, PLANEJAMENTO, ORÇAMENTO E GESTÃO</td>\n",
       "      <td>5.83</td>\n",
       "      <td>0.02</td>\n",
       "    </tr>\n",
       "  </tbody>\n",
       "</table>"
      ],
      "text/plain": [
       "<IPython.core.display.HTML object>"
      ]
     },
     "metadata": {},
     "output_type": "display_data"
    }
   ],
   "source": [
    "txt_ci.show_top_losses(5)"
   ]
  },
  {
   "cell_type": "markdown",
   "metadata": {},
   "source": [
    "## Train backwards classifier"
   ]
  },
  {
   "cell_type": "code",
   "execution_count": 80,
   "metadata": {},
   "outputs": [],
   "source": [
    "bs=8"
   ]
  },
  {
   "cell_type": "code",
   "execution_count": 81,
   "metadata": {},
   "outputs": [],
   "source": [
    "data_lm = load_data(\"data/\", \"data_lm_back.pkl\", bs=bs, backwards=True)"
   ]
  },
  {
   "cell_type": "code",
   "execution_count": 82,
   "metadata": {},
   "outputs": [
    {
     "data": {
      "text/html": [
       "<table border=\"1\" class=\"dataframe\">\n",
       "  <thead>\n",
       "    <tr style=\"text-align: right;\">\n",
       "      <th>idx</th>\n",
       "      <th>text</th>\n",
       "    </tr>\n",
       "  </thead>\n",
       "  <tbody>\n",
       "    <tr>\n",
       "      <td>0</td>\n",
       "      <td>▁do ▁termos ▁nos , comprasnet ▁ ▁do ▁sítio ▁no ada ▁process ▁será ▁pública ▁xxmaj ▁sessão ▁xxmaj ▁a ). 3 ▁97400 : uasg ▁( ▁xxup br . gov . comprasnet . ww ▁w ▁e br . gov . df . tc . ww ▁w : ▁sítios ▁pelos ▁ou 742 ▁3314-2 61) ▁( ▁telefone , ▁tcdf ▁xxup ▁do ▁anexo ▁xxmaj . ▁ed ▁xxmaj ▁do ▁andar ▁xxmaj o ▁2 ▁no ▁localizado , ▁licitação</td>\n",
       "    </tr>\n",
       "    <tr>\n",
       "      <td>1</td>\n",
       "      <td>▁xxmaj ▁de ▁comissão ▁xxmaj stituírem ▁con , ▁primeiro ▁do ▁presidência ▁a ▁sob , ▁para -4; 45 ▁215.7 ▁no ▁matrícula , ▁ambiente ▁xxmaj ▁meio ▁xxmaj ▁do ▁atividades ▁xxmaj ▁de ▁analista ▁xxmaj , ▁mesquita ▁xxup ▁de ▁xxup ▁gonçalves ▁xxup o ▁fábi ▁xxup ▁luis ▁xxup ▁e ; x .259- 4 ▁26 ▁xxup ▁no ▁matrícula , ▁urbanas ▁xxmaj ▁atividades ▁xxmaj ▁de ▁fiscal ▁xxmaj ▁auditora ▁xxmaj , ▁mendes ▁xxup ▁moraes ▁xxup ▁de ▁xxup a ▁flávi</td>\n",
       "    </tr>\n",
       "    <tr>\n",
       "      <td>2</td>\n",
       "      <td>▁especial ▁xxmaj ▁natureza ▁xxmaj ▁de ▁cargo ▁xxmaj ▁o ▁exercer ▁para 88-2, 4 ▁39. ▁no ▁matrícula , ▁professor ▁xxmaj , ▁aguiar ▁xxup ▁de ▁xxup ▁domingues ▁xxup line ke ▁jac ▁xxup ▁nomear ▁xxup . ▁federal ▁xxmaj ▁distrito ▁xxmaj ▁do ▁educação ▁xxmaj ▁de ▁estado ▁xxmaj ▁de ▁secretaria ▁xxmaj ▁da , ▁básica ▁xxmaj ▁educação ▁xxmaj ▁de ▁subsecretaria ▁xxmaj ▁da , is versa ▁trans ▁xxmaj is ▁educaciona ▁xxmaj ▁políticas ▁xxmaj ▁de ▁coordenação ▁xxmaj ▁da ,</td>\n",
       "    </tr>\n",
       "    <tr>\n",
       "      <td>3</td>\n",
       "      <td>▁ ▁matricula ▁araujo ▁xxup ▁de ▁xxup ▁rodolfo ▁xxup ▁a ▁aposentadoria ▁concedeu ▁que ▁ato ▁o ▁2018, ▁de ▁dezembro ▁de ▁27 ▁de , ▁federal ▁xxmaj ▁distrito ▁xxmaj ▁do ▁oficial ▁xxmaj ▁diário ▁xxmaj ▁no ▁publicada ▁2018, ▁de ▁dezembro ▁de ▁26 ▁de , ▁serviço ▁xxmaj ▁de ▁ordem ▁xxmaj ▁na ▁retificar ▁xxup . ▁2018-00 ▁/ 28 ▁61 ▁0 ▁4 ▁xxrep ▁00410- ▁processo ▁xxmaj ▁2018. ▁de lho ▁ju ▁de ▁04 ▁de ▁contar ▁a ▁efeitos ▁seus ▁com</td>\n",
       "    </tr>\n",
       "    <tr>\n",
       "      <td>4</td>\n",
       "      <td>▁xxmaj , ▁próprios ▁xxup ▁recursos ▁xxup : ▁recursos ▁xxup ▁de ▁xxup ▁fonte ▁xxup ; 33.90.30 . ▁6977 ▁/ 17.122.6001.8517 ▁ : ▁despesa ▁xxup ▁de ▁xxup ▁natureza ▁xxup ▁/ ▁trabalho ▁xxup ▁de ▁xxup ▁programa ▁xxup . ▁22.202 : ▁uo ▁xxup : ▁orçamentária ▁xxup ▁dotação ▁xxup . o ug tar ▁ ▁e \" u ▁\" ▁xxup ▁em il perf ▁ , o ç ▁a ▁em on ▁metal , to cha ▁ ▁ferro</td>\n",
       "    </tr>\n",
       "  </tbody>\n",
       "</table>"
      ],
      "text/plain": [
       "<IPython.core.display.HTML object>"
      ]
     },
     "metadata": {},
     "output_type": "display_data"
    }
   ],
   "source": [
    "data_lm.show_batch()"
   ]
  },
  {
   "cell_type": "code",
   "execution_count": 83,
   "metadata": {},
   "outputs": [],
   "source": [
    "data_clas = (TextList.from_df(df_train, path, cols='text',\n",
    "                              processor=SPProcessor.load(path))\n",
    "                         .split_by_rand_pct(0.2, seed=seed)\n",
    "                         .label_from_df(cols=0)\n",
    "                         .databunch(bs=bs, backwards=True))"
   ]
  },
  {
   "cell_type": "code",
   "execution_count": 84,
   "metadata": {},
   "outputs": [
    {
     "data": {
      "text/plain": [
       "(8552, 8552)"
      ]
     },
     "execution_count": 84,
     "metadata": {},
     "output_type": "execute_result"
    }
   ],
   "source": [
    "len(data_clas.vocab.itos), len(data_lm.vocab.itos)"
   ]
  },
  {
   "cell_type": "code",
   "execution_count": 85,
   "metadata": {},
   "outputs": [],
   "source": [
    "data_clas.save(path/'data/data_clas_bwd.pkl')"
   ]
  },
  {
   "cell_type": "code",
   "execution_count": 86,
   "metadata": {},
   "outputs": [
    {
     "data": {
      "text/html": [
       "<table border=\"1\" class=\"dataframe\">\n",
       "  <thead>\n",
       "    <tr style=\"text-align: right;\">\n",
       "      <th>text</th>\n",
       "      <th>target</th>\n",
       "    </tr>\n",
       "  </thead>\n",
       "  <tbody>\n",
       "    <tr>\n",
       "      <td>, no ▁maria ▁xxup ▁silva ▁xxup ▁da ▁xxup ▁rodrigo ▁xxup 5; 11 941 02 730 ▁ , ▁gomes ▁xxup ▁silva ▁xxup ▁da ▁xxup ▁rodrigo ▁xxup 3; 316 21 094 ▁04 , ▁azevedo ▁xxup ▁barros ▁xxup ▁silva ▁xxup ▁da ▁xxup ▁rodrigo ▁xxup ; 172 51 73 46 71 ▁ , ▁silva ▁xxup ▁da ▁xxup to ara chi ▁ ▁xxup ▁rodrigo ▁xxup ; 00 61 553 82 ▁68 , ▁paiva ▁xxup ▁de</td>\n",
       "      <td>SECRETARIA DE ESTADO DE SEGURANÇA PÚBLICA</td>\n",
       "    </tr>\n",
       "    <tr>\n",
       "      <td>▁a ▁da , ▁assessor ▁xxmaj ▁de -12, a ▁df ▁xxup ▁símbolo ▁xxmaj , ▁comissão ▁xxmaj ▁em ▁cargo ▁xxmaj ▁no ▁pereira ▁xxup ▁oliveira ▁xxup ▁de ▁xxup e ▁dayan ▁xxup ▁nomear ▁xxup . ▁df ▁xxup ▁/ slu - ▁federal ▁distrito ▁xxmaj ▁do ▁urbana ▁xxmaj ▁limpeza ▁xxmaj ▁de ▁serviço ▁xxmaj ▁do , ▁mobilização ▁xxmaj ▁e ▁comunicação ▁xxmaj ▁de ▁assessoria ▁xxmaj ▁da , ▁especial ▁xxmaj ▁assessor ▁xxmaj ▁de , -06 ▁cne ▁xxup ▁símbolo ▁xxmaj</td>\n",
       "      <td>PODER EXECUTIVO</td>\n",
       "    </tr>\n",
       "    <tr>\n",
       "      <td>no ▁bren ▁xxup ▁nomear ▁xxup . ▁federal ▁xxmaj ▁distrito ▁xxmaj ▁do ▁educação ▁xxmaj ▁de ▁estado ▁xxmaj ▁de ▁secretaria ▁xxmaj ▁da , ▁tecnologia ▁xxmaj ▁e ▁modernização ▁xxmaj ▁de ▁subsecretaria ▁xxmaj ▁da , ▁informática ▁xxmaj ▁de ▁coordenação ▁xxmaj ▁da , ▁sistemas ▁xxmaj ▁de ▁desenvolvimento ▁xxmaj ▁de ▁diretoria ▁xxmaj ▁da , ▁diretor ▁xxmaj ▁de -07, ▁cne ▁xxup ▁símbolo ▁xxmaj , ▁especial ▁xxmaj ▁natureza ▁xxmaj ▁de ▁cargo ▁xxmaj ▁o ▁exercer ▁para ▁mello ▁xxup ▁silveira</td>\n",
       "      <td>PODER EXECUTIVO</td>\n",
       "    </tr>\n",
       "    <tr>\n",
       "      <td>▁ger ▁xxmaj ▁da , ▁gerente ▁xxmaj ▁de -14, ▁dfg ▁xxup ▁símbolo ▁xxmaj , ▁comissão ▁xxmaj ▁em ▁cargo ▁xxmaj ▁o ▁exercer ▁para ▁araujo ▁xxup ▁de ▁xxup ▁conceição ▁xxup ▁da ▁xxup mar ▁ed ▁xxup ▁nomear ▁xxup . ▁federal ▁xxmaj ▁distrito ▁xxmaj ▁do ▁abastecimento ▁xxmaj ▁e ▁indústria ▁xxmaj ▁de ▁complementar ▁xxmaj ▁setor ▁xxmaj ▁do ▁regional ▁xxmaj ▁administração ▁xxmaj ▁da , ▁manutenção ▁xxmaj ▁e ▁obras ▁xxmaj , ▁licenciamento ▁xxmaj ▁de ▁coordenação ▁xxmaj ▁da ,</td>\n",
       "      <td>PODER EXECUTIVO</td>\n",
       "    </tr>\n",
       "    <tr>\n",
       "      <td>▁de ▁xxmaj ▁no ▁efeito ▁xxup ▁sem ▁xxup ▁tornar ▁xxup . ▁federal ▁xxmaj ▁distrito ▁xxmaj ▁do ▁lazer ▁xxmaj ▁e ▁esporte ▁xxmaj ▁de ▁estado ▁xxmaj ▁de ▁secretaria ▁xxmaj ▁da , ▁geral ▁xxmaj ▁administração ▁xxmaj ▁de ▁subsecretaria ▁xxmaj ▁da , ▁pessoas ▁xxmaj ▁de ▁gestão ▁xxmaj ▁de ▁diretoria ▁xxmaj ▁da , ▁diretor ▁xxmaj ▁de -07, ▁cne ▁xxup ▁símbolo ▁xxmaj , ▁especial ▁xxmaj ▁natureza ▁xxmaj ▁de ▁cargo ▁xxmaj ▁pelo , is ▁norma ▁atribuições ▁suas ▁de</td>\n",
       "      <td>PODER EXECUTIVO</td>\n",
       "    </tr>\n",
       "  </tbody>\n",
       "</table>"
      ],
      "text/plain": [
       "<IPython.core.display.HTML object>"
      ]
     },
     "metadata": {},
     "output_type": "display_data"
    }
   ],
   "source": [
    "data_clas.show_batch()"
   ]
  },
  {
   "cell_type": "code",
   "execution_count": 87,
   "metadata": {},
   "outputs": [],
   "source": [
    "config = awd_lstm_clas_config.copy()\n",
    "config['qrnn'] = True\n",
    "config['n_hid'] = 1550 #default 1152\n",
    "config['n_layers'] = 4 #default 3"
   ]
  },
  {
   "cell_type": "code",
   "execution_count": 88,
   "metadata": {},
   "outputs": [],
   "source": [
    "learn_c = text_classifier_learner(data_clas, AWD_LSTM, config=config, pretrained=False, drop_mult=0.5, \n",
    "                                  metrics=[accuracy,f1])\n",
    "learn_c.load_encoder(\"fine_tune_enc_bwd\");"
   ]
  },
  {
   "cell_type": "code",
   "execution_count": 89,
   "metadata": {},
   "outputs": [
    {
     "data": {
      "text/html": [],
      "text/plain": [
       "<IPython.core.display.HTML object>"
      ]
     },
     "metadata": {},
     "output_type": "display_data"
    },
    {
     "name": "stdout",
     "output_type": "stream",
     "text": [
      "LR Finder is complete, type {learner_name}.recorder.plot() to see the graph.\n"
     ]
    }
   ],
   "source": [
    "learn_c.freeze()\n",
    "learn_c.lr_find()"
   ]
  },
  {
   "cell_type": "code",
   "execution_count": 90,
   "metadata": {
    "scrolled": true
   },
   "outputs": [
    {
     "data": {
      "image/png": "[encoded data removed]",
      "text/plain": [
       "<Figure size 432x288 with 1 Axes>"
      ]
     },
     "metadata": {
      "needs_background": "light"
     },
     "output_type": "display_data"
    }
   ],
   "source": [
    "learn_c.recorder.plot()"
   ]
  },
  {
   "cell_type": "code",
   "execution_count": 91,
   "metadata": {},
   "outputs": [],
   "source": [
    "lr=3e-2"
   ]
  },
  {
   "cell_type": "code",
   "execution_count": 92,
   "metadata": {},
   "outputs": [
    {
     "data": {
      "text/html": [
       "<table border=\"1\" class=\"dataframe\">\n",
       "  <thead>\n",
       "    <tr style=\"text-align: left;\">\n",
       "      <th>epoch</th>\n",
       "      <th>train_loss</th>\n",
       "      <th>valid_loss</th>\n",
       "      <th>accuracy</th>\n",
       "      <th>f_beta</th>\n",
       "      <th>time</th>\n",
       "    </tr>\n",
       "  </thead>\n",
       "  <tbody>\n",
       "    <tr>\n",
       "      <td>0</td>\n",
       "      <td>2.539612</td>\n",
       "      <td>2.015352</td>\n",
       "      <td>0.447917</td>\n",
       "      <td>0.410614</td>\n",
       "      <td>00:09</td>\n",
       "    </tr>\n",
       "    <tr>\n",
       "      <td>1</td>\n",
       "      <td>2.050961</td>\n",
       "      <td>1.528385</td>\n",
       "      <td>0.572917</td>\n",
       "      <td>0.541348</td>\n",
       "      <td>00:09</td>\n",
       "    </tr>\n",
       "    <tr>\n",
       "      <td>2</td>\n",
       "      <td>1.773224</td>\n",
       "      <td>1.509777</td>\n",
       "      <td>0.572917</td>\n",
       "      <td>0.519346</td>\n",
       "      <td>00:09</td>\n",
       "    </tr>\n",
       "    <tr>\n",
       "      <td>3</td>\n",
       "      <td>1.515306</td>\n",
       "      <td>1.315756</td>\n",
       "      <td>0.625000</td>\n",
       "      <td>0.603956</td>\n",
       "      <td>00:09</td>\n",
       "    </tr>\n",
       "    <tr>\n",
       "      <td>4</td>\n",
       "      <td>1.169530</td>\n",
       "      <td>1.206786</td>\n",
       "      <td>0.677083</td>\n",
       "      <td>0.661065</td>\n",
       "      <td>00:09</td>\n",
       "    </tr>\n",
       "  </tbody>\n",
       "</table>"
      ],
      "text/plain": [
       "<IPython.core.display.HTML object>"
      ]
     },
     "metadata": {},
     "output_type": "display_data"
    }
   ],
   "source": [
    "learn_c.fit_one_cycle(5, lr, wd=0.3, moms=(0.8,0.7))"
   ]
  },
  {
   "cell_type": "code",
   "execution_count": 93,
   "metadata": {},
   "outputs": [],
   "source": [
    "learn_c.save(\"clf_bwd\")"
   ]
  },
  {
   "cell_type": "code",
   "execution_count": 94,
   "metadata": {},
   "outputs": [
    {
     "data": {
      "text/html": [
       "<table border=\"1\" class=\"dataframe\">\n",
       "  <thead>\n",
       "    <tr style=\"text-align: left;\">\n",
       "      <th>epoch</th>\n",
       "      <th>train_loss</th>\n",
       "      <th>valid_loss</th>\n",
       "      <th>accuracy</th>\n",
       "      <th>f_beta</th>\n",
       "      <th>time</th>\n",
       "    </tr>\n",
       "  </thead>\n",
       "  <tbody>\n",
       "    <tr>\n",
       "      <td>0</td>\n",
       "      <td>1.095853</td>\n",
       "      <td>1.289530</td>\n",
       "      <td>0.656250</td>\n",
       "      <td>0.598341</td>\n",
       "      <td>00:09</td>\n",
       "    </tr>\n",
       "    <tr>\n",
       "      <td>1</td>\n",
       "      <td>1.514207</td>\n",
       "      <td>1.476104</td>\n",
       "      <td>0.562500</td>\n",
       "      <td>0.501294</td>\n",
       "      <td>00:09</td>\n",
       "    </tr>\n",
       "    <tr>\n",
       "      <td>2</td>\n",
       "      <td>1.294139</td>\n",
       "      <td>1.009767</td>\n",
       "      <td>0.729167</td>\n",
       "      <td>0.718091</td>\n",
       "      <td>00:09</td>\n",
       "    </tr>\n",
       "    <tr>\n",
       "      <td>3</td>\n",
       "      <td>0.955501</td>\n",
       "      <td>0.697498</td>\n",
       "      <td>0.822917</td>\n",
       "      <td>0.782417</td>\n",
       "      <td>00:09</td>\n",
       "    </tr>\n",
       "    <tr>\n",
       "      <td>4</td>\n",
       "      <td>0.598271</td>\n",
       "      <td>0.608211</td>\n",
       "      <td>0.822917</td>\n",
       "      <td>0.788696</td>\n",
       "      <td>00:09</td>\n",
       "    </tr>\n",
       "  </tbody>\n",
       "</table>"
      ],
      "text/plain": [
       "<IPython.core.display.HTML object>"
      ]
     },
     "metadata": {},
     "output_type": "display_data"
    }
   ],
   "source": [
    "learn_c.freeze_to(-2)\n",
    "learn_c.fit_one_cycle(5, slice(lr/(2.6**4),lr), wd=0.3, moms=(0.8,0.7))"
   ]
  },
  {
   "cell_type": "code",
   "execution_count": 95,
   "metadata": {},
   "outputs": [],
   "source": [
    "learn_c.save(\"clf_bwd\")"
   ]
  },
  {
   "cell_type": "code",
   "execution_count": 96,
   "metadata": {},
   "outputs": [
    {
     "data": {
      "text/html": [
       "<table border=\"1\" class=\"dataframe\">\n",
       "  <thead>\n",
       "    <tr style=\"text-align: left;\">\n",
       "      <th>epoch</th>\n",
       "      <th>train_loss</th>\n",
       "      <th>valid_loss</th>\n",
       "      <th>accuracy</th>\n",
       "      <th>f_beta</th>\n",
       "      <th>time</th>\n",
       "    </tr>\n",
       "  </thead>\n",
       "  <tbody>\n",
       "    <tr>\n",
       "      <td>0</td>\n",
       "      <td>0.376501</td>\n",
       "      <td>0.783587</td>\n",
       "      <td>0.770833</td>\n",
       "      <td>0.759974</td>\n",
       "      <td>00:11</td>\n",
       "    </tr>\n",
       "    <tr>\n",
       "      <td>1</td>\n",
       "      <td>0.596748</td>\n",
       "      <td>0.644821</td>\n",
       "      <td>0.843750</td>\n",
       "      <td>0.832202</td>\n",
       "      <td>00:11</td>\n",
       "    </tr>\n",
       "    <tr>\n",
       "      <td>2</td>\n",
       "      <td>0.429919</td>\n",
       "      <td>0.539610</td>\n",
       "      <td>0.854167</td>\n",
       "      <td>0.848557</td>\n",
       "      <td>00:11</td>\n",
       "    </tr>\n",
       "  </tbody>\n",
       "</table>"
      ],
      "text/plain": [
       "<IPython.core.display.HTML object>"
      ]
     },
     "metadata": {},
     "output_type": "display_data"
    }
   ],
   "source": [
    "learn_c.freeze_to(-3)\n",
    "learn_c.fit_one_cycle(3, slice(lr/2/(2.6**4),lr/2), wd=0.3, moms=(0.8,0.7))"
   ]
  },
  {
   "cell_type": "code",
   "execution_count": 97,
   "metadata": {},
   "outputs": [],
   "source": [
    "learn_c.save(\"clf_bwd\")"
   ]
  },
  {
   "cell_type": "code",
   "execution_count": 98,
   "metadata": {},
   "outputs": [
    {
     "data": {
      "text/html": [
       "<table border=\"1\" class=\"dataframe\">\n",
       "  <thead>\n",
       "    <tr style=\"text-align: left;\">\n",
       "      <th>epoch</th>\n",
       "      <th>train_loss</th>\n",
       "      <th>valid_loss</th>\n",
       "      <th>accuracy</th>\n",
       "      <th>f_beta</th>\n",
       "      <th>time</th>\n",
       "    </tr>\n",
       "  </thead>\n",
       "  <tbody>\n",
       "    <tr>\n",
       "      <td>0</td>\n",
       "      <td>0.256314</td>\n",
       "      <td>0.504834</td>\n",
       "      <td>0.885417</td>\n",
       "      <td>0.881042</td>\n",
       "      <td>00:15</td>\n",
       "    </tr>\n",
       "    <tr>\n",
       "      <td>1</td>\n",
       "      <td>0.232434</td>\n",
       "      <td>0.504226</td>\n",
       "      <td>0.875000</td>\n",
       "      <td>0.868255</td>\n",
       "      <td>00:15</td>\n",
       "    </tr>\n",
       "    <tr>\n",
       "      <td>2</td>\n",
       "      <td>0.180628</td>\n",
       "      <td>0.452917</td>\n",
       "      <td>0.885417</td>\n",
       "      <td>0.885621</td>\n",
       "      <td>00:15</td>\n",
       "    </tr>\n",
       "    <tr>\n",
       "      <td>3</td>\n",
       "      <td>0.135171</td>\n",
       "      <td>0.433663</td>\n",
       "      <td>0.906250</td>\n",
       "      <td>0.907018</td>\n",
       "      <td>00:15</td>\n",
       "    </tr>\n",
       "    <tr>\n",
       "      <td>4</td>\n",
       "      <td>0.117223</td>\n",
       "      <td>0.446915</td>\n",
       "      <td>0.906250</td>\n",
       "      <td>0.906264</td>\n",
       "      <td>00:15</td>\n",
       "    </tr>\n",
       "  </tbody>\n",
       "</table>"
      ],
      "text/plain": [
       "<IPython.core.display.HTML object>"
      ]
     },
     "metadata": {},
     "output_type": "display_data"
    }
   ],
   "source": [
    "learn_c.unfreeze()\n",
    "learn_c.fit_one_cycle(5, slice(lr/10/(2.6**4),lr/10), wd=0.3, moms=(0.8,0.7))"
   ]
  },
  {
   "cell_type": "code",
   "execution_count": 99,
   "metadata": {},
   "outputs": [],
   "source": [
    "learn_c.save(\"clf_bwd\")"
   ]
  },
  {
   "cell_type": "markdown",
   "metadata": {},
   "source": [
    "## Evaluate bwd clf"
   ]
  },
  {
   "cell_type": "code",
   "execution_count": 12,
   "metadata": {},
   "outputs": [],
   "source": [
    "data_clas = load_data(path/\"data\", \"data_clas_bwd.pkl\", backwards=True)"
   ]
  },
  {
   "cell_type": "code",
   "execution_count": 13,
   "metadata": {},
   "outputs": [],
   "source": [
    "data_test = (TextList.from_df(df_test, path, cols='text',\n",
    "                              processor=SPProcessor.load(path))\n",
    "                         .split_none()\n",
    "                         .label_from_df(cols=0)\n",
    "                         .databunch(bs=bs, backwards=True))"
   ]
  },
  {
   "cell_type": "code",
   "execution_count": 14,
   "metadata": {},
   "outputs": [
    {
     "data": {
      "text/html": [
       "<table border=\"1\" class=\"dataframe\">\n",
       "  <thead>\n",
       "    <tr style=\"text-align: right;\">\n",
       "      <th>text</th>\n",
       "      <th>target</th>\n",
       "    </tr>\n",
       "  </thead>\n",
       "  <tbody>\n",
       "    <tr>\n",
       "      <td>▁c ▁costa ▁xxup lio ▁aure ▁xxup ▁marco ▁xxup ; x - 53 28 ▁015 ▁xxup ▁- ; ▁enfermagem ▁xxup ▁de ▁xxup ▁auxiliar ▁xxup ▁- 02 - 10 80 ▁ &lt;unk&gt; ▁ ▁2019 ▁/ ▁01 ▁/ ▁12 ; ▁iv ▁xxup ▁segunda ▁xxup ; ▁iii ▁xxup ▁segunda ▁xxup ; ▁silva ▁xxup ▁da ▁xxup ▁cunha ▁xxup a ▁renat ▁xxup 9-7; 00 75 ▁01 ▁- ▁2019; ▁/ ▁01 ▁/ ▁12 ; ▁iv ▁xxup ▁segunda</td>\n",
       "      <td>SECRETARIA DE ESTADO DE SAÚDE</td>\n",
       "    </tr>\n",
       "    <tr>\n",
       "      <td>er ▁ex ▁para 8, 085 74 ▁16 gdf ▁ ▁xxup ▁matrícula , do e ▁figuer ▁xxup ▁de ▁xxup no ja tra ▁ ▁xxup ▁joão ▁xxup ▁nomear ▁xxup . ▁federal ▁xxmaj ▁distrito ▁xxmaj ▁do ▁militar ▁xxmaj ▁casa ▁xxmaj ▁da , ▁serviços ▁xxmaj ▁de ▁gestão ▁xxmaj ▁de a fi e h c ▁sub ▁xxmaj ▁da , ▁buriti ▁xxmaj ▁do ácio ▁pal ▁xxmaj ▁do ▁manutenção ▁xxmaj ▁e imento r sup ▁ ▁xxmaj ▁de</td>\n",
       "      <td>PODER EXECUTIVO</td>\n",
       "    </tr>\n",
       "    <tr>\n",
       "      <td>í ▁matr , ▁moura ▁xxup ▁de ▁xxup ▁fernandes ▁xxup las ug ▁do ▁xxup ▁polícia ▁xxmaj ▁de legado ▁de ▁xxmaj ▁o ▁nomear ▁xxup . ▁federal ▁xxmaj ▁distrito ▁xxmaj ▁do ▁civil ▁xxmaj ▁polícia ▁xxmaj ▁da , cional cri ▁circuns ▁xxmaj ▁polícia ▁xxmaj ▁de ▁departamento ▁xxmaj ▁do , ▁polícia ▁xxmaj ▁de cia ▁delega ▁xxmaj a ▁4 ▁da ▁chefe ▁xxmaj legado ▁de ▁xxmaj ▁de 17, - ▁dfg ▁xxup ▁símbolo ▁xxmaj , ▁comissão ▁xxmaj ▁em</td>\n",
       "      <td>PODER EXECUTIVO</td>\n",
       "    </tr>\n",
       "    <tr>\n",
       "      <td>▁empregador ▁xxmaj ▁e r ▁trabalhado ▁xxmaj ▁ao ▁atendimento ▁xxmaj ▁de ▁subsecretaria ▁xxmaj ▁da , ▁empregador ▁xxmaj ▁o ▁e r ▁trabalhado ▁xxmaj ▁o ▁para ▁ações ▁xxmaj ▁de ▁coordenação ▁xxmaj ▁da , r ▁trabalhado ▁xxmaj ▁o ▁para ▁ações ▁xxmaj ▁de ▁diretoria ▁xxmaj ▁da , ▁maria ▁xxmaj ▁santa ▁xxmaj ▁de r ▁trabalhado ▁xxmaj ▁ao ▁atendimento ▁xxmaj ▁de ▁agência ▁xxmaj ▁da , ▁assessor ▁xxmaj ▁de -12, a ▁df ▁xxup ▁símbolo ▁xxmaj , ▁comissão ▁xxmaj</td>\n",
       "      <td>PODER EXECUTIVO</td>\n",
       "    </tr>\n",
       "    <tr>\n",
       "      <td>▁de -12, ▁dfg ▁xxup ▁símbolo ▁xxmaj , ▁comissão ▁xxmaj ▁em ▁cargo ▁xxmaj ▁o ▁exercer ▁para -0, .556 ▁175 ▁matrícula , gi bia ▁ ▁xxup ▁maciel ▁xxup ▁costa ▁xxup ▁regina ▁xxup a e h d y l ▁ ▁xxup ▁nomear ▁xxup . ▁federal ▁xxmaj ▁distrito ▁xxmaj ▁do l na go o ct ▁o ▁xxmaj ▁/ ▁sudoeste ▁xxmaj ▁do ▁regional ▁xxmaj ▁administração ▁xxmaj ▁da , ▁gabinete ▁xxmaj ▁do , ▁planejamento ▁xxmaj ▁de</td>\n",
       "      <td>PODER EXECUTIVO</td>\n",
       "    </tr>\n",
       "  </tbody>\n",
       "</table>"
      ],
      "text/plain": [
       "<IPython.core.display.HTML object>"
      ]
     },
     "metadata": {},
     "output_type": "display_data"
    }
   ],
   "source": [
    "data_test.show_batch()"
   ]
  },
  {
   "cell_type": "code",
   "execution_count": 15,
   "metadata": {},
   "outputs": [
    {
     "data": {
      "text/plain": [
       "(19, 19)"
      ]
     },
     "execution_count": 15,
     "metadata": {},
     "output_type": "execute_result"
    }
   ],
   "source": [
    "data_test.c, data_clas.c"
   ]
  },
  {
   "cell_type": "code",
   "execution_count": 16,
   "metadata": {},
   "outputs": [
    {
     "data": {
      "text/plain": [
       "(8552, 8552)"
      ]
     },
     "execution_count": 16,
     "metadata": {},
     "output_type": "execute_result"
    }
   ],
   "source": [
    "len(data_test.vocab.itos), len(data_clas.vocab.itos)"
   ]
  },
  {
   "cell_type": "code",
   "execution_count": 17,
   "metadata": {},
   "outputs": [],
   "source": [
    "data_test.save(path/\"data/test_data_bwd.pkl\")"
   ]
  },
  {
   "cell_type": "code",
   "execution_count": 120,
   "metadata": {},
   "outputs": [],
   "source": [
    "learn_c.load(path/\"clf_bwd\");"
   ]
  },
  {
   "cell_type": "code",
   "execution_count": 130,
   "metadata": {},
   "outputs": [],
   "source": [
    "learn_c.data.valid_dl = data_test.fix_dl"
   ]
  },
  {
   "cell_type": "code",
   "execution_count": 131,
   "metadata": {},
   "outputs": [
    {
     "name": "stderr",
     "output_type": "stream",
     "text": [
      "/opt/anaconda3/lib/python3.7/site-packages/fastai/train.py:200: UserWarning: Tight layout not applied. The left and right margins cannot be made large enough to accommodate all axes decorations. \n",
      "  plt.tight_layout()\n"
     ]
    },
    {
     "data": {
      "image/png": "[encoded data removed]",
      "text/plain": [
       "<Figure size 432x288 with 1 Axes>"
      ]
     },
     "metadata": {
      "needs_background": "light"
     },
     "output_type": "display_data"
    }
   ],
   "source": [
    "preds,y,losses = learn_c.get_preds(with_loss=True)\n",
    "predictions = np.argmax(preds, axis = 1)\n",
    "\n",
    "interp = ClassificationInterpretation(learn_c, preds, y, losses)\n",
    "interp.plot_confusion_matrix()"
   ]
  },
  {
   "cell_type": "code",
   "execution_count": 132,
   "metadata": {},
   "outputs": [
    {
     "data": {
      "text/plain": [
       "(tensor([14,  3,  3,  3,  3, 10, 14, 10, 10,  3, 15, 14, 10, 15, 15]),\n",
       " tensor([14,  3,  3,  3,  3, 10, 13, 10, 10,  3, 15, 14, 14, 15, 15]),\n",
       " torch.Size([237]),\n",
       " torch.Size([237]))"
      ]
     },
     "execution_count": 132,
     "metadata": {},
     "output_type": "execute_result"
    }
   ],
   "source": [
    "predictions[:15], y[:15], predictions.shape, y.shape"
   ]
  },
  {
   "cell_type": "code",
   "execution_count": 133,
   "metadata": {},
   "outputs": [
    {
     "name": "stdout",
     "output_type": "stream",
     "text": [
      "                                                                                   precision    recall  f1-score   support\n",
      "\n",
      "                                                                       CASA CIVIL     0.7647    0.7222    0.7429        18\n",
      "                                          CONTROLADORIA GERAL DO DISTRITO FEDERAL     1.0000    1.0000    1.0000         2\n",
      "                                           DEFENSORIA PÚBLICA DO DISTRITO FEDERAL     1.0000    1.0000    1.0000         8\n",
      "                                                                  PODER EXECUTIVO     0.7692    1.0000    0.8696        10\n",
      "                                                                PODER LEGISLATIVO     1.0000    1.0000    1.0000         1\n",
      "       SECRETARIA DE ESTADO DE AGRICULTURA, ABASTECIMENTO E DESENVOLVIMENTO RURAL     0.5000    0.2500    0.3333         4\n",
      "                                                  SECRETARIA DE ESTADO DE CULTURA     1.0000    0.8462    0.9167        13\n",
      "                                SECRETARIA DE ESTADO DE DESENVOLVIMENTO ECONÔMICO     1.0000    0.2500    0.4000         4\n",
      "                       SECRETARIA DE ESTADO DE DESENVOLVIMENTO URBANO E HABITAÇÃO     1.0000    0.7500    0.8571         4\n",
      "SECRETARIA DE ESTADO DE ECONOMIA, DESENVOLVIMENTO, INOVAÇÃO, CIÊNCIA E TECNOLOGIA     1.0000    1.0000    1.0000         1\n",
      "                                                 SECRETARIA DE ESTADO DE EDUCAÇÃO     0.6923    0.6923    0.6923        13\n",
      "                SECRETARIA DE ESTADO DE FAZENDA, PLANEJAMENTO, ORÇAMENTO E GESTÃO     0.9000    0.8571    0.8780        21\n",
      "                                      SECRETARIA DE ESTADO DE JUSTIÇA E CIDADANIA     0.3750    0.6000    0.4615         5\n",
      "                                   SECRETARIA DE ESTADO DE OBRAS E INFRAESTRUTURA     1.0000    0.7222    0.8387        18\n",
      "                                                    SECRETARIA DE ESTADO DE SAÚDE     0.8611    0.9688    0.9118        32\n",
      "                                        SECRETARIA DE ESTADO DE SEGURANÇA PÚBLICA     0.9259    1.0000    0.9615        50\n",
      "                                  SECRETARIA DE ESTADO DE TRANSPORTE E MOBILIDADE     0.8636    0.9500    0.9048        20\n",
      "                                            SECRETARIA DE ESTADO DO MEIO AMBIENTE     0.0000    0.0000    0.0000         2\n",
      "                                           TRIBUNAL DE CONTAS DO DISTRITO FEDERAL     0.8333    0.9091    0.8696        11\n",
      "\n",
      "                                                                        micro avg     0.8608    0.8608    0.8608       237\n",
      "                                                                        macro avg     0.8150    0.7641    0.7704       237\n",
      "                                                                     weighted avg     0.8630    0.8608    0.8528       237\n",
      "\n",
      "0.8607594936708861\n"
     ]
    },
    {
     "name": "stderr",
     "output_type": "stream",
     "text": [
      "/opt/anaconda3/lib/python3.7/site-packages/sklearn/metrics/classification.py:1143: UndefinedMetricWarning: Precision and F-score are ill-defined and being set to 0.0 in labels with no predicted samples.\n",
      "  'precision', 'predicted', average, warn_for)\n"
     ]
    }
   ],
   "source": [
    "print(classification_report(y, predictions, target_names=learn_c.data.classes, digits=4))\n",
    "print(accuracy_score(y, predictions))"
   ]
  },
  {
   "cell_type": "code",
   "execution_count": 110,
   "metadata": {},
   "outputs": [
    {
     "data": {
      "text/html": [
       "<table border=\"1\" class=\"dataframe\">\n",
       "  <thead>\n",
       "    <tr style=\"text-align: right;\">\n",
       "      <th>text</th>\n",
       "      <th>target</th>\n",
       "      <th>prediction</th>\n",
       "    </tr>\n",
       "  </thead>\n",
       "  <tbody>\n",
       "    <tr>\n",
       "      <td>▁c ▁costa ▁xxup lio ▁aure ▁xxup ▁marco ▁xxup ; x - 53 28 ▁015 ▁xxup ▁- ; ▁enfermagem ▁xxup ▁de ▁xxup ▁auxiliar ▁xxup ▁- 02 - 10 80 ▁ &lt;unk&gt; ▁ ▁2019 ▁/ ▁01 ▁/ ▁12 ; ▁iv ▁xxup ▁segunda ▁xxup ; ▁iii ▁xxup ▁segunda ▁xxup ; ▁silva ▁xxup ▁da ▁xxup ▁cunha ▁xxup a ▁renat ▁xxup 9-7; 00 75 ▁01 ▁- ▁2019; ▁/ ▁01 ▁/ ▁12 ; ▁iv ▁xxup ▁segunda</td>\n",
       "      <td>SECRETARIA DE ESTADO DE SAÚDE</td>\n",
       "      <td>SECRETARIA DE ESTADO DE SAÚDE</td>\n",
       "    </tr>\n",
       "    <tr>\n",
       "      <td>er ▁ex ▁para 8, 085 74 ▁16 gdf ▁ ▁xxup ▁matrícula , do e ▁figuer ▁xxup ▁de ▁xxup no ja tra ▁ ▁xxup ▁joão ▁xxup ▁nomear ▁xxup . ▁federal ▁xxmaj ▁distrito ▁xxmaj ▁do ▁militar ▁xxmaj ▁casa ▁xxmaj ▁da , ▁serviços ▁xxmaj ▁de ▁gestão ▁xxmaj ▁de a fi e h c ▁sub ▁xxmaj ▁da , ▁buriti ▁xxmaj ▁do ácio ▁pal ▁xxmaj ▁do ▁manutenção ▁xxmaj ▁e imento r sup ▁ ▁xxmaj ▁de</td>\n",
       "      <td>PODER EXECUTIVO</td>\n",
       "      <td>PODER EXECUTIVO</td>\n",
       "    </tr>\n",
       "    <tr>\n",
       "      <td>í ▁matr , ▁moura ▁xxup ▁de ▁xxup ▁fernandes ▁xxup las ug ▁do ▁xxup ▁polícia ▁xxmaj ▁de legado ▁de ▁xxmaj ▁o ▁nomear ▁xxup . ▁federal ▁xxmaj ▁distrito ▁xxmaj ▁do ▁civil ▁xxmaj ▁polícia ▁xxmaj ▁da , cional cri ▁circuns ▁xxmaj ▁polícia ▁xxmaj ▁de ▁departamento ▁xxmaj ▁do , ▁polícia ▁xxmaj ▁de cia ▁delega ▁xxmaj a ▁4 ▁da ▁chefe ▁xxmaj legado ▁de ▁xxmaj ▁de 17, - ▁dfg ▁xxup ▁símbolo ▁xxmaj , ▁comissão ▁xxmaj ▁em</td>\n",
       "      <td>PODER EXECUTIVO</td>\n",
       "      <td>PODER EXECUTIVO</td>\n",
       "    </tr>\n",
       "    <tr>\n",
       "      <td>▁empregador ▁xxmaj ▁e r ▁trabalhado ▁xxmaj ▁ao ▁atendimento ▁xxmaj ▁de ▁subsecretaria ▁xxmaj ▁da , ▁empregador ▁xxmaj ▁o ▁e r ▁trabalhado ▁xxmaj ▁o ▁para ▁ações ▁xxmaj ▁de ▁coordenação ▁xxmaj ▁da , r ▁trabalhado ▁xxmaj ▁o ▁para ▁ações ▁xxmaj ▁de ▁diretoria ▁xxmaj ▁da , ▁maria ▁xxmaj ▁santa ▁xxmaj ▁de r ▁trabalhado ▁xxmaj ▁ao ▁atendimento ▁xxmaj ▁de ▁agência ▁xxmaj ▁da , ▁assessor ▁xxmaj ▁de -12, a ▁df ▁xxup ▁símbolo ▁xxmaj , ▁comissão ▁xxmaj</td>\n",
       "      <td>PODER EXECUTIVO</td>\n",
       "      <td>PODER EXECUTIVO</td>\n",
       "    </tr>\n",
       "    <tr>\n",
       "      <td>▁de -12, ▁dfg ▁xxup ▁símbolo ▁xxmaj , ▁comissão ▁xxmaj ▁em ▁cargo ▁xxmaj ▁o ▁exercer ▁para -0, .556 ▁175 ▁matrícula , gi bia ▁ ▁xxup ▁maciel ▁xxup ▁costa ▁xxup ▁regina ▁xxup a e h d y l ▁ ▁xxup ▁nomear ▁xxup . ▁federal ▁xxmaj ▁distrito ▁xxmaj ▁do l na go o ct ▁o ▁xxmaj ▁/ ▁sudoeste ▁xxmaj ▁do ▁regional ▁xxmaj ▁administração ▁xxmaj ▁da , ▁gabinete ▁xxmaj ▁do , ▁planejamento ▁xxmaj ▁de</td>\n",
       "      <td>PODER EXECUTIVO</td>\n",
       "      <td>PODER EXECUTIVO</td>\n",
       "    </tr>\n",
       "  </tbody>\n",
       "</table>"
      ],
      "text/plain": [
       "<IPython.core.display.HTML object>"
      ]
     },
     "metadata": {},
     "output_type": "display_data"
    }
   ],
   "source": [
    "learn_c.show_results()"
   ]
  },
  {
   "cell_type": "code",
   "execution_count": 111,
   "metadata": {},
   "outputs": [],
   "source": [
    "txt_ci = TextClassificationInterpretation.from_learner(learn_c)"
   ]
  },
  {
   "cell_type": "code",
   "execution_count": 112,
   "metadata": {},
   "outputs": [
    {
     "data": {
      "text/html": [
       "<table border=\"1\" class=\"dataframe\">\n",
       "  <thead>\n",
       "    <tr style=\"text-align: right;\">\n",
       "      <th>Text</th>\n",
       "      <th>Prediction</th>\n",
       "      <th>Actual</th>\n",
       "      <th>Loss</th>\n",
       "      <th>Probability</th>\n",
       "    </tr>\n",
       "  </thead>\n",
       "  <tbody>\n",
       "    <tr>\n",
       "      <td>▁xxbos ▁o ▁xxup ▁brb ▁- ▁xxup ▁banco ▁xxup ▁de ▁xxup ▁brasília ▁xxup ▁ s . a . ▁torna ▁público ▁que ▁a ▁xxmaj ▁comissão ▁xxmaj ▁administrativa ▁da ▁xxup ▁dipe s ▁ratifico u ▁o ▁ato ▁de ▁dispensa ▁de ▁licitação , ▁em ▁15.0 1. 19 , ▁nos ▁termos ▁do ▁artigo ▁6° ▁do ▁xxmaj ▁regulamento ▁de ▁xxmaj ▁licitações ▁e ▁xxmaj ▁contratos ▁xxup ▁( r lc - brb ), ▁para ▁a li enação ▁de ▁imóveis</td>\n",
       "      <td>SECRETARIA DE ESTADO DE SAÚDE</td>\n",
       "      <td>SECRETARIA DE ESTADO DE FAZENDA, PLANEJAMENTO, ORÇAMENTO E GESTÃO</td>\n",
       "      <td>7.93</td>\n",
       "      <td>0.01</td>\n",
       "    </tr>\n",
       "    <tr>\n",
       "      <td>▁xxbos ▁xxmaj ▁contratante : ▁xxup ▁brb ▁- ▁xxup ▁banco ▁xxup ▁de ▁xxup ▁brasília ▁xxup ▁ s . a . ▁xxmaj ▁contratada : ▁xxup ▁ lo rinald o ▁xxup ▁batista ▁xxup ▁de ▁xxup ▁carvalho . ▁xxmaj ▁contrato ▁xxup ▁brb ▁- ▁2018 ▁/ ▁ 262 . ▁xxmaj ▁modalidade : ▁xxmaj ▁credenciamento ▁xxup ▁brb ▁no ▁001 ▁/ ▁2018. ▁xxmaj ▁objeto : ▁xxmaj ▁prestação ▁de ▁serviços ▁de ▁intermediação ▁de ▁venda ▁de ▁imóveis ▁não ▁de</td>\n",
       "      <td>SECRETARIA DE ESTADO DE SAÚDE</td>\n",
       "      <td>SECRETARIA DE ESTADO DE FAZENDA, PLANEJAMENTO, ORÇAMENTO E GESTÃO</td>\n",
       "      <td>6.43</td>\n",
       "      <td>0.00</td>\n",
       "    </tr>\n",
       "    <tr>\n",
       "      <td>▁xxbos ▁o ▁xxup ▁subsecretário ▁xxup ▁de ▁xxup ▁administração ▁xxup ▁geral , ▁xxup ▁da ▁xxup ▁secretaria ▁xxup ▁de ▁xxup ▁estado ▁xxup ▁de ▁xxup ▁justiça ▁e ▁xxup ▁cidadania ▁xxup ▁do ▁xxup ▁distrito ▁xxup ▁federal , ▁no ▁uso ▁das ▁atribuições ▁da ▁delega ção ▁de ▁competência ▁que ▁trata ▁o ▁artigo ▁2 o , ▁inciso ▁xxup ▁i , ▁alínea ▁\" j \" ▁da ▁xxmaj ▁portaria ▁n ° ▁65, ▁de ▁13 ▁de ▁maio ▁de ▁2013, ▁publicada</td>\n",
       "      <td>PODER EXECUTIVO</td>\n",
       "      <td>SECRETARIA DE ESTADO DE JUSTIÇA E CIDADANIA</td>\n",
       "      <td>5.27</td>\n",
       "      <td>0.00</td>\n",
       "    </tr>\n",
       "    <tr>\n",
       "      <td>▁xxbos ▁o ▁xxup ▁diretor ▁xxup ▁do ▁xxup ▁departamento ▁xxup ▁de ▁xxup ▁gestão ▁xxup ▁de ▁xxup ▁pessoas , ▁xxup ▁da ▁xxup ▁polícia ▁xxup ▁civil ▁xxup ▁do ▁xxup ▁distrito ▁xxup ▁federal , ▁no ▁uso ▁de ▁suas ▁atribuições ▁legais ▁e ▁ tendo ▁em ▁vista ▁a ▁delega ção ▁de ▁competência ▁que ▁lhe ▁foi ▁conferida ▁pela ▁alínea ▁\" a \", ▁inciso ▁xxup ▁ii , ▁artigo ▁1 o , ▁da ▁xxmaj ▁portaria ▁no ▁25, ▁de ▁18</td>\n",
       "      <td>SECRETARIA DE ESTADO DE SEGURANÇA PÚBLICA</td>\n",
       "      <td>SECRETARIA DE ESTADO DE SEGURANÇA PÚBLICA</td>\n",
       "      <td>4.79</td>\n",
       "      <td>0.45</td>\n",
       "    </tr>\n",
       "    <tr>\n",
       "      <td>▁xxbos ▁xxup ▁processo ▁xxmaj ▁no ▁092.006 00 6 ▁/ ▁2018. ▁xxup ▁objeto : ▁xxmaj ▁aquisição ▁e ▁instalação ▁de ▁conjunto s ▁ moto r ▁bomba ▁para ▁a ▁eleva tória ▁de ▁água ▁ br u ta ▁do ▁sistema ▁xxmaj ▁santa ▁xxmaj ▁maria ▁/ ▁xxmaj ▁ to r to . ▁xxup ▁dotação ▁xxup ▁orçamentária : ▁xxup ▁uo : ▁22.202 ; ▁xxup ▁programa ▁xxup ▁de ▁xxup ▁trabalho : ▁17 . 51 2.6210. 70 06</td>\n",
       "      <td>SECRETARIA DE ESTADO DE TRANSPORTE E MOBILIDADE</td>\n",
       "      <td>SECRETARIA DE ESTADO DE OBRAS E INFRAESTRUTURA</td>\n",
       "      <td>4.59</td>\n",
       "      <td>0.03</td>\n",
       "    </tr>\n",
       "  </tbody>\n",
       "</table>"
      ],
      "text/plain": [
       "<IPython.core.display.HTML object>"
      ]
     },
     "metadata": {},
     "output_type": "display_data"
    }
   ],
   "source": [
    "txt_ci.show_top_losses(5)"
   ]
  },
  {
   "cell_type": "markdown",
   "metadata": {},
   "source": [
    "## Bwd + Fwd"
   ]
  },
  {
   "cell_type": "code",
   "execution_count": 18,
   "metadata": {},
   "outputs": [],
   "source": [
    "bs = 8"
   ]
  },
  {
   "cell_type": "code",
   "execution_count": 19,
   "metadata": {},
   "outputs": [],
   "source": [
    "config = awd_lstm_clas_config.copy()\n",
    "config['qrnn'] = True\n",
    "config['n_hid'] = 1550 #default 1152\n",
    "config['n_layers'] = 4 #default 3"
   ]
  },
  {
   "cell_type": "code",
   "execution_count": 20,
   "metadata": {},
   "outputs": [],
   "source": [
    "data_clas = load_data(path/\"data\", \"data_clas_export.pkl\", bs=bs, num_workers=1)\n",
    "learn_c = text_classifier_learner(data_clas, AWD_LSTM, config=config, drop_mult=0.5, metrics=[accuracy,f1])\n",
    "learn_c.path = path\n",
    "learn_c.load(\"clf_fwd\");"
   ]
  },
  {
   "cell_type": "code",
   "execution_count": 21,
   "metadata": {},
   "outputs": [],
   "source": [
    "data_test = load_data(path/\"data\", \"test_data.pkl\", bs=bs)"
   ]
  },
  {
   "cell_type": "code",
   "execution_count": 22,
   "metadata": {},
   "outputs": [],
   "source": [
    "learn_c.data.valid_dl = data_test.fix_dl"
   ]
  },
  {
   "cell_type": "code",
   "execution_count": 23,
   "metadata": {},
   "outputs": [
    {
     "data": {
      "text/plain": [
       "tensor(0.8397)"
      ]
     },
     "execution_count": 23,
     "metadata": {},
     "output_type": "execute_result"
    }
   ],
   "source": [
    "preds,targs = learn_c.get_preds(ordered=True)\n",
    "accuracy(preds,targs)"
   ]
  },
  {
   "cell_type": "code",
   "execution_count": 24,
   "metadata": {},
   "outputs": [],
   "source": [
    "data_clas_bwd = load_data(path/\"data\", \"data_clas_bwd.pkl\", bs=bs, num_workers=1, backwards=True)\n",
    "learn_c_bwd = text_classifier_learner(data_clas_bwd, AWD_LSTM, config=config, drop_mult=0.5, metrics=[accuracy,f1]).to_fp16()\n",
    "learn_c_bwd.path = path\n",
    "learn_c_bwd.load(\"clf_bwd\");"
   ]
  },
  {
   "cell_type": "code",
   "execution_count": 26,
   "metadata": {},
   "outputs": [],
   "source": [
    "data_test_bwd = load_data(path/\"data\", \"test_data_bwd.pkl\", bs=bs, backwards=True)"
   ]
  },
  {
   "cell_type": "code",
   "execution_count": 27,
   "metadata": {},
   "outputs": [],
   "source": [
    "learn_c_bwd.data.valid_dl = data_test_bwd.fix_dl"
   ]
  },
  {
   "cell_type": "code",
   "execution_count": 29,
   "metadata": {},
   "outputs": [
    {
     "data": {
      "text/plain": [
       "tensor(0.8608)"
      ]
     },
     "execution_count": 29,
     "metadata": {},
     "output_type": "execute_result"
    }
   ],
   "source": [
    "preds_bwd,targs_bwd = learn_c_bwd.get_preds(ordered=True)\n",
    "accuracy(preds_bwd,targs_bwd)"
   ]
  },
  {
   "cell_type": "code",
   "execution_count": 32,
   "metadata": {},
   "outputs": [
    {
     "data": {
      "text/plain": [
       "tensor(0.8692)"
      ]
     },
     "execution_count": 32,
     "metadata": {},
     "output_type": "execute_result"
    }
   ],
   "source": [
    "preds_avg = (preds+preds_bwd)/2\n",
    "accuracy(preds_avg, targs)"
   ]
  },
  {
   "cell_type": "code",
   "execution_count": 33,
   "metadata": {},
   "outputs": [],
   "source": [
    "predictions = np.argmax(preds_avg, axis = 1)"
   ]
  },
  {
   "cell_type": "code",
   "execution_count": 35,
   "metadata": {},
   "outputs": [
    {
     "name": "stdout",
     "output_type": "stream",
     "text": [
      "                                                                                   precision    recall  f1-score   support\n",
      "\n",
      "                                                                       CASA CIVIL     0.8235    0.7778    0.8000        18\n",
      "                                          CONTROLADORIA GERAL DO DISTRITO FEDERAL     1.0000    1.0000    1.0000         2\n",
      "                                           DEFENSORIA PÚBLICA DO DISTRITO FEDERAL     1.0000    1.0000    1.0000         8\n",
      "                                                                  PODER EXECUTIVO     0.7692    1.0000    0.8696        10\n",
      "                                                                PODER LEGISLATIVO     0.5000    1.0000    0.6667         1\n",
      "       SECRETARIA DE ESTADO DE AGRICULTURA, ABASTECIMENTO E DESENVOLVIMENTO RURAL     1.0000    0.2500    0.4000         4\n",
      "                                                  SECRETARIA DE ESTADO DE CULTURA     1.0000    0.8462    0.9167        13\n",
      "                                SECRETARIA DE ESTADO DE DESENVOLVIMENTO ECONÔMICO     1.0000    0.2500    0.4000         4\n",
      "                       SECRETARIA DE ESTADO DE DESENVOLVIMENTO URBANO E HABITAÇÃO     0.7500    0.7500    0.7500         4\n",
      "SECRETARIA DE ESTADO DE ECONOMIA, DESENVOLVIMENTO, INOVAÇÃO, CIÊNCIA E TECNOLOGIA     1.0000    1.0000    1.0000         1\n",
      "                                                 SECRETARIA DE ESTADO DE EDUCAÇÃO     0.8182    0.6923    0.7500        13\n",
      "                SECRETARIA DE ESTADO DE FAZENDA, PLANEJAMENTO, ORÇAMENTO E GESTÃO     0.9048    0.9048    0.9048        21\n",
      "                                      SECRETARIA DE ESTADO DE JUSTIÇA E CIDADANIA     0.4286    0.6000    0.5000         5\n",
      "                                   SECRETARIA DE ESTADO DE OBRAS E INFRAESTRUTURA     1.0000    0.7222    0.8387        18\n",
      "                                                    SECRETARIA DE ESTADO DE SAÚDE     0.8824    0.9375    0.9091        32\n",
      "                                        SECRETARIA DE ESTADO DE SEGURANÇA PÚBLICA     0.8929    1.0000    0.9434        50\n",
      "                                  SECRETARIA DE ESTADO DE TRANSPORTE E MOBILIDADE     0.8182    0.9000    0.8571        20\n",
      "                                            SECRETARIA DE ESTADO DO MEIO AMBIENTE     1.0000    0.5000    0.6667         2\n",
      "                                           TRIBUNAL DE CONTAS DO DISTRITO FEDERAL     0.9167    1.0000    0.9565        11\n",
      "\n",
      "                                                                        micro avg     0.8692    0.8692    0.8692       237\n",
      "                                                                        macro avg     0.8686    0.7964    0.7963       237\n",
      "                                                                     weighted avg     0.8824    0.8692    0.8628       237\n",
      "\n",
      "0.869198312236287\n"
     ]
    }
   ],
   "source": [
    "print(classification_report(targs, predictions, target_names=learn_c.data.classes, digits=4))\n",
    "print(accuracy_score(targs, predictions))"
   ]
  },
  {
   "cell_type": "code",
   "execution_count": null,
   "metadata": {},
   "outputs": [],
   "source": []
  }
 ],
 "metadata": {
  "kernelspec": {
   "display_name": "Python 3",
   "language": "python",
   "name": "python3"
  },
  "language_info": {
   "codemirror_mode": {
    "name": "ipython",
    "version": 3
   },
   "file_extension": ".py",
   "mimetype": "text/x-python",
   "name": "python",
   "nbconvert_exporter": "python",
   "pygments_lexer": "ipython3",
   "version": "3.7.4"
  }
 },
 "nbformat": 4,
 "nbformat_minor": 2
}
