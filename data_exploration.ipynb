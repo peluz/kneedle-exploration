{
 "cells": [
  {
   "cell_type": "code",
   "execution_count": 1,
   "metadata": {},
   "outputs": [],
   "source": [
    "%load_ext autoreload\n",
    "%autoreload 2"
   ]
  },
  {
   "cell_type": "code",
   "execution_count": 2,
   "metadata": {},
   "outputs": [],
   "source": [
    "import pandas as pd"
   ]
  },
  {
   "cell_type": "code",
   "execution_count": 12,
   "metadata": {},
   "outputs": [],
   "source": [
    "data = pd.read_excel(\"./data/OCR_verified.xlsx\")"
   ]
  },
  {
   "cell_type": "code",
   "execution_count": 13,
   "metadata": {},
   "outputs": [
    {
     "data": {
      "text/html": [
       "<div>\n",
       "<style scoped>\n",
       "    .dataframe tbody tr th:only-of-type {\n",
       "        vertical-align: middle;\n",
       "    }\n",
       "\n",
       "    .dataframe tbody tr th {\n",
       "        vertical-align: top;\n",
       "    }\n",
       "\n",
       "    .dataframe thead th {\n",
       "        text-align: right;\n",
       "    }\n",
       "</style>\n",
       "<table border=\"1\" class=\"dataframe\">\n",
       "  <thead>\n",
       "    <tr style=\"text-align: right;\">\n",
       "      <th></th>\n",
       "      <th>Erro</th>\n",
       "      <th>Nº DODF</th>\n",
       "      <th>DATA DODOF</th>\n",
       "      <th>COMPLEMENTO</th>\n",
       "      <th>Nº BLOCO</th>\n",
       "      <th>SEÇÃO</th>\n",
       "      <th>SEC</th>\n",
       "      <th>SUB_SEC1</th>\n",
       "      <th>SUB_SEC2</th>\n",
       "      <th>SUB_SEC3</th>\n",
       "      <th>...</th>\n",
       "      <th>Nº LINHAS</th>\n",
       "      <th>Nº LINHAS SECAO</th>\n",
       "      <th>Nº LINHAS SEC</th>\n",
       "      <th>Nº LINHAS  SUB_SEC1</th>\n",
       "      <th>Nº LINHAS SUB_SEC2</th>\n",
       "      <th>Nº LINHAS SUB_SEC3</th>\n",
       "      <th>Nº LINHAS TIT BLOCO</th>\n",
       "      <th>Nº LINHAS SUBT BLOCO</th>\n",
       "      <th>Nº LINHAS DEMAIS SUBT BLOCO</th>\n",
       "      <th>Nº LINHAS TOTAIS</th>\n",
       "    </tr>\n",
       "  </thead>\n",
       "  <tbody>\n",
       "    <tr>\n",
       "      <td>0</td>\n",
       "      <td>1.0</td>\n",
       "      <td>1.0</td>\n",
       "      <td>01-01-2019</td>\n",
       "      <td>EDICAO ESPECIAL</td>\n",
       "      <td>1.0</td>\n",
       "      <td>SEÇÃO II</td>\n",
       "      <td>PODER EXECUTIVO</td>\n",
       "      <td>NaN</td>\n",
       "      <td>NaN</td>\n",
       "      <td>NaN</td>\n",
       "      <td>...</td>\n",
       "      <td>88.0</td>\n",
       "      <td>1.0</td>\n",
       "      <td>1.0</td>\n",
       "      <td>0.0</td>\n",
       "      <td>0.0</td>\n",
       "      <td>0.0</td>\n",
       "      <td>1.0</td>\n",
       "      <td>0.0</td>\n",
       "      <td>0.0</td>\n",
       "      <td>91.0</td>\n",
       "    </tr>\n",
       "    <tr>\n",
       "      <td>1</td>\n",
       "      <td>1.0</td>\n",
       "      <td>1.0</td>\n",
       "      <td>02-01-2019</td>\n",
       "      <td>INTEGRA</td>\n",
       "      <td>1.0</td>\n",
       "      <td>SEÇÃO II</td>\n",
       "      <td>PODER EXECUTIVO</td>\n",
       "      <td>NaN</td>\n",
       "      <td>NaN</td>\n",
       "      <td>NaN</td>\n",
       "      <td>...</td>\n",
       "      <td>16.0</td>\n",
       "      <td>1.0</td>\n",
       "      <td>1.0</td>\n",
       "      <td>0.0</td>\n",
       "      <td>0.0</td>\n",
       "      <td>0.0</td>\n",
       "      <td>1.0</td>\n",
       "      <td>0.0</td>\n",
       "      <td>0.0</td>\n",
       "      <td>19.0</td>\n",
       "    </tr>\n",
       "    <tr>\n",
       "      <td>2</td>\n",
       "      <td>1.0</td>\n",
       "      <td>1.0</td>\n",
       "      <td>02-01-2019</td>\n",
       "      <td>INTEGRA</td>\n",
       "      <td>2.0</td>\n",
       "      <td>SEÇÃO III</td>\n",
       "      <td>SECRETARIA DE ESTADO DE ECONOMIA, DESENVOLVIME...</td>\n",
       "      <td>COMPANHIA IMOBILIÁRIA DE BRASÍLIA</td>\n",
       "      <td>AGÊNCIA DE DESENVOLVIMENTO DO DISTRITO FEDERAL</td>\n",
       "      <td>COMISSÃO DE VENDA DIRETA</td>\n",
       "      <td>...</td>\n",
       "      <td>16.0</td>\n",
       "      <td>1.0</td>\n",
       "      <td>3.0</td>\n",
       "      <td>1.0</td>\n",
       "      <td>1.0</td>\n",
       "      <td>1.0</td>\n",
       "      <td>1.0</td>\n",
       "      <td>1.0</td>\n",
       "      <td>0.0</td>\n",
       "      <td>25.0</td>\n",
       "    </tr>\n",
       "    <tr>\n",
       "      <td>3</td>\n",
       "      <td>1.0</td>\n",
       "      <td>1.0</td>\n",
       "      <td>02-01-2019</td>\n",
       "      <td>INTEGRA</td>\n",
       "      <td>3.0</td>\n",
       "      <td>SEÇÃO III</td>\n",
       "      <td>SECRETARIA DE ESTADO DE ECONOMIA, DESENVOLVIME...</td>\n",
       "      <td>COMPANHIA IMOBILIÁRIA DE BRASÍLIA</td>\n",
       "      <td>AGÊNCIA DE DESENVOLVIMENTO DO DISTRITO FEDERAL</td>\n",
       "      <td>COMISSÃO DE VENDA DIRETA</td>\n",
       "      <td>...</td>\n",
       "      <td>28.0</td>\n",
       "      <td>0.0</td>\n",
       "      <td>0.0</td>\n",
       "      <td>0.0</td>\n",
       "      <td>0.0</td>\n",
       "      <td>0.0</td>\n",
       "      <td>1.0</td>\n",
       "      <td>1.0</td>\n",
       "      <td>0.0</td>\n",
       "      <td>30.0</td>\n",
       "    </tr>\n",
       "    <tr>\n",
       "      <td>4</td>\n",
       "      <td>1.0</td>\n",
       "      <td>1.0</td>\n",
       "      <td>02-01-2019</td>\n",
       "      <td>INTEGRA</td>\n",
       "      <td>4.0</td>\n",
       "      <td>SEÇÃO III</td>\n",
       "      <td>SECRETARIA DE ESTADO DE ECONOMIA, DESENVOLVIME...</td>\n",
       "      <td>COMPANHIA IMOBILIÁRIA DE BRASÍLIA</td>\n",
       "      <td>AGÊNCIA DE DESENVOLVIMENTO DO DISTRITO FEDERAL</td>\n",
       "      <td>COMISSÃO DE VENDA DIRETA</td>\n",
       "      <td>...</td>\n",
       "      <td>52.0</td>\n",
       "      <td>0.0</td>\n",
       "      <td>0.0</td>\n",
       "      <td>0.0</td>\n",
       "      <td>0.0</td>\n",
       "      <td>0.0</td>\n",
       "      <td>1.0</td>\n",
       "      <td>1.0</td>\n",
       "      <td>0.0</td>\n",
       "      <td>54.0</td>\n",
       "    </tr>\n",
       "  </tbody>\n",
       "</table>\n",
       "<p>5 rows × 30 columns</p>\n",
       "</div>"
      ],
      "text/plain": [
       "   Erro  Nº DODF  DATA DODOF      COMPLEMENTO  Nº BLOCO      SEÇÃO  \\\n",
       "0   1.0      1.0  01-01-2019  EDICAO ESPECIAL       1.0   SEÇÃO II   \n",
       "1   1.0      1.0  02-01-2019          INTEGRA       1.0   SEÇÃO II   \n",
       "2   1.0      1.0  02-01-2019          INTEGRA       2.0  SEÇÃO III   \n",
       "3   1.0      1.0  02-01-2019          INTEGRA       3.0  SEÇÃO III   \n",
       "4   1.0      1.0  02-01-2019          INTEGRA       4.0  SEÇÃO III   \n",
       "\n",
       "                                                 SEC  \\\n",
       "0                                    PODER EXECUTIVO   \n",
       "1                                    PODER EXECUTIVO   \n",
       "2  SECRETARIA DE ESTADO DE ECONOMIA, DESENVOLVIME...   \n",
       "3  SECRETARIA DE ESTADO DE ECONOMIA, DESENVOLVIME...   \n",
       "4  SECRETARIA DE ESTADO DE ECONOMIA, DESENVOLVIME...   \n",
       "\n",
       "                            SUB_SEC1  \\\n",
       "0                                NaN   \n",
       "1                                NaN   \n",
       "2  COMPANHIA IMOBILIÁRIA DE BRASÍLIA   \n",
       "3  COMPANHIA IMOBILIÁRIA DE BRASÍLIA   \n",
       "4  COMPANHIA IMOBILIÁRIA DE BRASÍLIA   \n",
       "\n",
       "                                         SUB_SEC2                  SUB_SEC3  \\\n",
       "0                                             NaN                       NaN   \n",
       "1                                             NaN                       NaN   \n",
       "2  AGÊNCIA DE DESENVOLVIMENTO DO DISTRITO FEDERAL  COMISSÃO DE VENDA DIRETA   \n",
       "3  AGÊNCIA DE DESENVOLVIMENTO DO DISTRITO FEDERAL  COMISSÃO DE VENDA DIRETA   \n",
       "4  AGÊNCIA DE DESENVOLVIMENTO DO DISTRITO FEDERAL  COMISSÃO DE VENDA DIRETA   \n",
       "\n",
       "   ... Nº LINHAS Nº LINHAS SECAO Nº LINHAS SEC Nº LINHAS  SUB_SEC1  \\\n",
       "0  ...      88.0             1.0           1.0                 0.0   \n",
       "1  ...      16.0             1.0           1.0                 0.0   \n",
       "2  ...      16.0             1.0           3.0                 1.0   \n",
       "3  ...      28.0             0.0           0.0                 0.0   \n",
       "4  ...      52.0             0.0           0.0                 0.0   \n",
       "\n",
       "  Nº LINHAS SUB_SEC2 Nº LINHAS SUB_SEC3  Nº LINHAS TIT BLOCO  \\\n",
       "0                0.0                0.0                  1.0   \n",
       "1                0.0                0.0                  1.0   \n",
       "2                1.0                1.0                  1.0   \n",
       "3                0.0                0.0                  1.0   \n",
       "4                0.0                0.0                  1.0   \n",
       "\n",
       "   Nº LINHAS SUBT BLOCO  Nº LINHAS DEMAIS SUBT BLOCO  Nº LINHAS TOTAIS  \n",
       "0                   0.0                          0.0              91.0  \n",
       "1                   0.0                          0.0              19.0  \n",
       "2                   1.0                          0.0              25.0  \n",
       "3                   1.0                          0.0              30.0  \n",
       "4                   1.0                          0.0              54.0  \n",
       "\n",
       "[5 rows x 30 columns]"
      ]
     },
     "execution_count": 13,
     "metadata": {},
     "output_type": "execute_result"
    }
   ],
   "source": [
    "data.head()"
   ]
  },
  {
   "cell_type": "code",
   "execution_count": 9,
   "metadata": {},
   "outputs": [
    {
     "data": {
      "text/plain": [
       "Index(['Erro', 'Nº DODF', 'DATA DODOF', 'COMPLEMENTO', 'Nº BLOCO', 'SEÇÃO',\n",
       "       'SEC', 'SUB_SEC1', 'SUB_SEC2', 'SUB_SEC3', 'TIT BLOCO', 'SUBT BLOCO',\n",
       "       'DEMAIS SUBT BLOCO', 'TEXTO BLOCO', 'INICIO BLOCO', 'FIM BLOCO',\n",
       "       'PAG INICIO BLOCO', 'LINHA INICIO BLOCO', 'PAG FIM BLOCO',\n",
       "       'LINHA FIM BLOCO', 'Nº LINHAS', 'Nº LINHAS SECAO', 'Nº LINHAS SEC',\n",
       "       'Nº LINHAS  SUB_SEC1', 'Nº LINHAS SUB_SEC2', 'Nº LINHAS SUB_SEC3',\n",
       "       'Nº LINHAS TIT BLOCO', 'Nº LINHAS SUBT BLOCO',\n",
       "       'Nº LINHAS DEMAIS SUBT BLOCO', 'Nº LINHAS TOTAIS'],\n",
       "      dtype='object')"
      ]
     },
     "execution_count": 9,
     "metadata": {},
     "output_type": "execute_result"
    }
   ],
   "source": [
    "data.columns"
   ]
  },
  {
   "cell_type": "code",
   "execution_count": 15,
   "metadata": {},
   "outputs": [
    {
     "data": {
      "text/html": [
       "<div>\n",
       "<style scoped>\n",
       "    .dataframe tbody tr th:only-of-type {\n",
       "        vertical-align: middle;\n",
       "    }\n",
       "\n",
       "    .dataframe tbody tr th {\n",
       "        vertical-align: top;\n",
       "    }\n",
       "\n",
       "    .dataframe thead th {\n",
       "        text-align: right;\n",
       "    }\n",
       "</style>\n",
       "<table border=\"1\" class=\"dataframe\">\n",
       "  <thead>\n",
       "    <tr style=\"text-align: right;\">\n",
       "      <th></th>\n",
       "      <th>Erro</th>\n",
       "      <th>SEC</th>\n",
       "      <th>TEXTO BLOCO</th>\n",
       "      <th>Nº LINHAS TOTAIS</th>\n",
       "    </tr>\n",
       "  </thead>\n",
       "  <tbody>\n",
       "    <tr>\n",
       "      <td>0</td>\n",
       "      <td>1.0</td>\n",
       "      <td>PODER EXECUTIVO</td>\n",
       "      <td>O GOVERNADOR DO DISTRITO FEDERAL, NO USO DE SU...</td>\n",
       "      <td>91.0</td>\n",
       "    </tr>\n",
       "    <tr>\n",
       "      <td>1</td>\n",
       "      <td>1.0</td>\n",
       "      <td>PODER EXECUTIVO</td>\n",
       "      <td>O GOVERNADOR DO DISTRITO FEDERAL, no uso das a...</td>\n",
       "      <td>19.0</td>\n",
       "    </tr>\n",
       "    <tr>\n",
       "      <td>2</td>\n",
       "      <td>1.0</td>\n",
       "      <td>SECRETARIA DE ESTADO DE ECONOMIA, DESENVOLVIME...</td>\n",
       "      <td>O Presidente da COVED, acolhendo os pareceres ...</td>\n",
       "      <td>25.0</td>\n",
       "    </tr>\n",
       "    <tr>\n",
       "      <td>3</td>\n",
       "      <td>1.0</td>\n",
       "      <td>SECRETARIA DE ESTADO DE ECONOMIA, DESENVOLVIME...</td>\n",
       "      <td>O Presidente da COVED, acolhendo o parecer ins...</td>\n",
       "      <td>30.0</td>\n",
       "    </tr>\n",
       "    <tr>\n",
       "      <td>4</td>\n",
       "      <td>1.0</td>\n",
       "      <td>SECRETARIA DE ESTADO DE ECONOMIA, DESENVOLVIME...</td>\n",
       "      <td>O Presidente da COVED, acolhendo os pareceres ...</td>\n",
       "      <td>54.0</td>\n",
       "    </tr>\n",
       "  </tbody>\n",
       "</table>\n",
       "</div>"
      ],
      "text/plain": [
       "   Erro                                                SEC  \\\n",
       "0   1.0                                    PODER EXECUTIVO   \n",
       "1   1.0                                    PODER EXECUTIVO   \n",
       "2   1.0  SECRETARIA DE ESTADO DE ECONOMIA, DESENVOLVIME...   \n",
       "3   1.0  SECRETARIA DE ESTADO DE ECONOMIA, DESENVOLVIME...   \n",
       "4   1.0  SECRETARIA DE ESTADO DE ECONOMIA, DESENVOLVIME...   \n",
       "\n",
       "                                         TEXTO BLOCO  Nº LINHAS TOTAIS  \n",
       "0  O GOVERNADOR DO DISTRITO FEDERAL, NO USO DE SU...              91.0  \n",
       "1  O GOVERNADOR DO DISTRITO FEDERAL, no uso das a...              19.0  \n",
       "2  O Presidente da COVED, acolhendo os pareceres ...              25.0  \n",
       "3  O Presidente da COVED, acolhendo o parecer ins...              30.0  \n",
       "4  O Presidente da COVED, acolhendo os pareceres ...              54.0  "
      ]
     },
     "execution_count": 15,
     "metadata": {},
     "output_type": "execute_result"
    }
   ],
   "source": [
    "data_clean = data[[\"Erro\", \"SEC\", \"TEXTO BLOCO\", \"Nº LINHAS TOTAIS\"]]; data_clean.head()"
   ]
  },
  {
   "cell_type": "code",
   "execution_count": 25,
   "metadata": {},
   "outputs": [
    {
     "data": {
      "text/plain": [
       "0.9084065244667503"
      ]
     },
     "execution_count": 25,
     "metadata": {},
     "output_type": "execute_result"
    }
   ],
   "source": [
    "len(data[data[\"Erro\"] == 1]) / len(data[data[\"Erro\"] >= 1])"
   ]
  },
  {
   "cell_type": "code",
   "execution_count": 26,
   "metadata": {},
   "outputs": [
    {
     "data": {
      "text/plain": [
       "1.0    724\n",
       "2.0     64\n",
       "3.0      9\n",
       "Name: Erro, dtype: int64"
      ]
     },
     "execution_count": 26,
     "metadata": {},
     "output_type": "execute_result"
    }
   ],
   "source": [
    "data[\"Erro\"].value_counts()"
   ]
  },
  {
   "cell_type": "code",
   "execution_count": 33,
   "metadata": {},
   "outputs": [
    {
     "data": {
      "text/plain": [
       "10.0      331\n",
       "9.0       278\n",
       "11.0      249\n",
       "12.0      177\n",
       "13.0      153\n",
       "         ... \n",
       "528.0       1\n",
       "236.0       1\n",
       "244.0       1\n",
       "98.0        1\n",
       "2280.0      1\n",
       "Name: Nº LINHAS TOTAIS, Length: 182, dtype: int64"
      ]
     },
     "execution_count": 33,
     "metadata": {},
     "output_type": "execute_result"
    }
   ],
   "source": [
    "data[\"Nº LINHAS TOTAIS\"].value_counts()"
   ]
  },
  {
   "cell_type": "code",
   "execution_count": 36,
   "metadata": {},
   "outputs": [
    {
     "data": {
      "text/plain": [
       "count    2650.000000\n",
       "mean       36.953585\n",
       "std       154.633489\n",
       "min         4.000000\n",
       "25%        10.000000\n",
       "50%        14.000000\n",
       "75%        21.000000\n",
       "max      3450.000000\n",
       "Name: Nº LINHAS TOTAIS, dtype: float64"
      ]
     },
     "execution_count": 36,
     "metadata": {},
     "output_type": "execute_result"
    }
   ],
   "source": [
    "data[\"Nº LINHAS TOTAIS\"].describe()"
   ]
  },
  {
   "cell_type": "code",
   "execution_count": 35,
   "metadata": {},
   "outputs": [
    {
     "data": {
      "image/png": "[encoded data removed]",
      "text/plain": [
       "<Figure size 432x288 with 1 Axes>"
      ]
     },
     "metadata": {
      "needs_background": "light"
     },
     "output_type": "display_data"
    }
   ],
   "source": [
    "hist = data[\"Nº LINHAS TOTAIS\"].hist(bins=182)"
   ]
  },
  {
   "cell_type": "code",
   "execution_count": 39,
   "metadata": {},
   "outputs": [
    {
     "data": {
      "text/plain": [
       "40"
      ]
     },
     "execution_count": 39,
     "metadata": {},
     "output_type": "execute_result"
    }
   ],
   "source": [
    "len(data[\"SEC\"].unique())"
   ]
  },
  {
   "cell_type": "code",
   "execution_count": 40,
   "metadata": {},
   "outputs": [
    {
     "data": {
      "text/plain": [
       "array(['PODER EXECUTIVO',\n",
       "       'SECRETARIA DE ESTADO DE ECONOMIA, DESENVOLVIMENTO, INOVAÇÃO, CIÊNCIA E TECNOLOGIA',\n",
       "       'SECRETARIA DE ESTADO DA CASA CIVIL, RELAÇÕES INSTITUCIONAIS E SOCIAIS',\n",
       "       'SECRETARIA DE ESTADO DE EDUCAÇÃO',\n",
       "       'SECRETARIA DE ESTADO DA SEGURANÇA PÚBLICA', 'PODER LEGISLATIVO',\n",
       "       'SECRETARIA DE ESTADO DA CASA CIVIL',\n",
       "       'SECRETARIA DE ESTADO DE SAÚDE',\n",
       "       'SECRETARIA DE ESTADO DE TRANSPORTE E MOBILIDADE',\n",
       "       'SECRETARIA DE ESTADO DE JUSTIÇA E CIDADANIA',\n",
       "       'SECRETARIA DE ESTADO DE OBRAS E INFRAESTRUTURA',\n",
       "       'SECRETARIA DE ESTADO DE TURISMO',\n",
       "       'SECRETARIA DE ESTADO DE SEGURANÇA PÚBLICA',\n",
       "       'DEFENSORIA PÚBLICA DO DISTRITO FEDERAL',\n",
       "       'TRIBUNAL DE CONTAS DO DISTRITO FEDERAL',\n",
       "       'SECRETARIA DE ESTADO DE FAZENDA, PLANEJAMENTO, ORÇAMENTO E GESTÃO',\n",
       "       'SECRETARIA DE ESTADO DE AGRICULTURA, ABASTECIMENTO E DESENVOLVIMENTO RURAL',\n",
       "       'SECRETARIA DE ESTADO DE DESENVOLVIMENTO URBANO E HABITAÇÃO',\n",
       "       'CASA CIVIL', 'SECRETARIA DE ESTADO DE DESENVOLVIMENTO ECONÔMICO',\n",
       "       'SECRETARIA DE ESTADO DE COMUNICAÇÃO',\n",
       "       'SECRETARIA DE ESTADO DE CULTURA',\n",
       "       'SECRETARIA DE ESTADO DO MEIO AMBIENTE',\n",
       "       'CONTROLADORIA GERAL DO DISTRITO FEDERAL', nan,\n",
       "       'SECRETARIA DE ESTADO DO ESPORTE E LAZER',\n",
       "       'SECRETARIA DE ESTADO DE ESPORTE E LAZER',\n",
       "       'PROCURADORIA GERAL DO DISTRITO FEDERAL',\n",
       "       'SECRETARIA DE ESTADO DE DESENVOLVIMENTO SOCIAL',\n",
       "       'SECRETARIA DE ESTADO DE CIÊNCIA, TECNOLOGIA E INOVAÇÃO',\n",
       "       'SECRETARIA DE ESTADO DE ESPORTE, E LAZER', 'GOVERNADORIA',\n",
       "       'SECRETARIA DE ESTADO DE PLANEJAMENTO, ORÇAMENTO E GESTÃO',\n",
       "       'SECRETARIA DE ESTADO DE FAZENDA',\n",
       "       'SECRETARIA DE ESTADO DO TRABALHO, DESENVOLVIMENTO SOCIAL, MULHERES, IGUALDADE RACIAL E DIREITOS HUMANOS',\n",
       "       'SECRETARIA DE ESTADO DA SEGURANÇA PÚBLICA E DA PAZ SOCIAL',\n",
       "       'SECRETARIA DE ESTADO DE INFRAESTRUTURA E SERVIÇOS PÚBLICOS',\n",
       "       'SECRETARIA DE ESTADO DAS CIDADES',\n",
       "       'SECRETARIA DE ESTADO DE POLÍTICAS PARA CRIANÇAS, ADOLESCENTES E JUVENTUDE',\n",
       "       'SECRETARIA DE ESTADO DE ESPORTE, TURISMO E LAZER'], dtype=object)"
      ]
     },
     "execution_count": 40,
     "metadata": {},
     "output_type": "execute_result"
    }
   ],
   "source": [
    "data[\"SEC\"].unique()"
   ]
  },
  {
   "cell_type": "code",
   "execution_count": 41,
   "metadata": {},
   "outputs": [
    {
     "data": {
      "text/plain": [
       "SECRETARIA DE ESTADO DE SAÚDE                                                                              568\n",
       "SECRETARIA DE ESTADO DE SEGURANÇA PÚBLICA                                                                  437\n",
       "SECRETARIA DE ESTADO DE OBRAS E INFRAESTRUTURA                                                             236\n",
       "SECRETARIA DE ESTADO DE FAZENDA, PLANEJAMENTO, ORÇAMENTO E GESTÃO                                          186\n",
       "CASA CIVIL                                                                                                 164\n",
       "SECRETARIA DE ESTADO DE CULTURA                                                                            157\n",
       "SECRETARIA DE ESTADO DE TRANSPORTE E MOBILIDADE                                                            147\n",
       "SECRETARIA DE ESTADO DE EDUCAÇÃO                                                                           124\n",
       "TRIBUNAL DE CONTAS DO DISTRITO FEDERAL                                                                      74\n",
       "PODER EXECUTIVO                                                                                             59\n",
       "SECRETARIA DE ESTADO DE JUSTIÇA E CIDADANIA                                                                 55\n",
       "DEFENSORIA PÚBLICA DO DISTRITO FEDERAL                                                                      54\n",
       "SECRETARIA DE ESTADO DO MEIO AMBIENTE                                                                       53\n",
       "SECRETARIA DE ESTADO DE DESENVOLVIMENTO ECONÔMICO                                                           53\n",
       "CONTROLADORIA GERAL DO DISTRITO FEDERAL                                                                     49\n",
       "SECRETARIA DE ESTADO DE AGRICULTURA, ABASTECIMENTO E DESENVOLVIMENTO RURAL                                  46\n",
       "SECRETARIA DE ESTADO DE DESENVOLVIMENTO URBANO E HABITAÇÃO                                                  44\n",
       "SECRETARIA DE ESTADO DE ESPORTE E LAZER                                                                     28\n",
       "PODER LEGISLATIVO                                                                                           16\n",
       "SECRETARIA DE ESTADO DAS CIDADES                                                                            15\n",
       "PROCURADORIA GERAL DO DISTRITO FEDERAL                                                                      13\n",
       "SECRETARIA DE ESTADO DE DESENVOLVIMENTO SOCIAL                                                              12\n",
       "SECRETARIA DE ESTADO DA SEGURANÇA PÚBLICA E DA PAZ SOCIAL                                                    9\n",
       "SECRETARIA DE ESTADO DE ESPORTE, TURISMO E LAZER                                                             8\n",
       "SECRETARIA DE ESTADO DE INFRAESTRUTURA E SERVIÇOS PÚBLICOS                                                   7\n",
       "SECRETARIA DE ESTADO DE POLÍTICAS PARA CRIANÇAS, ADOLESCENTES E JUVENTUDE                                    6\n",
       "SECRETARIA DE ESTADO DO ESPORTE E LAZER                                                                      5\n",
       "SECRETARIA DE ESTADO DE ECONOMIA, DESENVOLVIMENTO, INOVAÇÃO, CIÊNCIA E TECNOLOGIA                            4\n",
       "SECRETARIA DE ESTADO DO TRABALHO, DESENVOLVIMENTO SOCIAL, MULHERES, IGUALDADE RACIAL E DIREITOS HUMANOS      4\n",
       "SECRETARIA DE ESTADO DE PLANEJAMENTO, ORÇAMENTO E GESTÃO                                                     4\n",
       "SECRETARIA DE ESTADO DA SEGURANÇA PÚBLICA                                                                    2\n",
       "SECRETARIA DE ESTADO DE ESPORTE, E LAZER                                                                     2\n",
       "SECRETARIA DE ESTADO DE TURISMO                                                                              2\n",
       "SECRETARIA DE ESTADO DE COMUNICAÇÃO                                                                          2\n",
       "SECRETARIA DE ESTADO DA CASA CIVIL                                                                           1\n",
       "GOVERNADORIA                                                                                                 1\n",
       "SECRETARIA DE ESTADO DA CASA CIVIL, RELAÇÕES INSTITUCIONAIS E SOCIAIS                                        1\n",
       "SECRETARIA DE ESTADO DE CIÊNCIA, TECNOLOGIA E INOVAÇÃO                                                       1\n",
       "SECRETARIA DE ESTADO DE FAZENDA                                                                              1\n",
       "Name: SEC, dtype: int64"
      ]
     },
     "execution_count": 41,
     "metadata": {},
     "output_type": "execute_result"
    }
   ],
   "source": [
    "data[\"SEC\"].value_counts()"
   ]
  },
  {
   "cell_type": "code",
   "execution_count": null,
   "metadata": {},
   "outputs": [],
   "source": []
  }
 ],
 "metadata": {
  "kernelspec": {
   "display_name": "Python 3",
   "language": "python",
   "name": "python3"
  },
  "language_info": {
   "codemirror_mode": {
    "name": "ipython",
    "version": 3
   },
   "file_extension": ".py",
   "mimetype": "text/x-python",
   "name": "python",
   "nbconvert_exporter": "python",
   "pygments_lexer": "ipython3",
   "version": "3.7.4"
  }
 },
 "nbformat": 4,
 "nbformat_minor": 2
}
