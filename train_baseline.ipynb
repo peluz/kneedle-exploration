{
 "cells": [
  {
   "cell_type": "code",
   "execution_count": 3,
   "metadata": {},
   "outputs": [
    {
     "name": "stdout",
     "output_type": "stream",
     "text": [
      "The autoreload extension is already loaded. To reload it, use:\n",
      "  %reload_ext autoreload\n"
     ]
    }
   ],
   "source": [
    "%load_ext autoreload\n",
    "%autoreload 2\n",
    "%matplotlib inline"
   ]
  },
  {
   "cell_type": "code",
   "execution_count": null,
   "metadata": {},
   "outputs": [],
   "source": [
    "import pandas as pd\n",
    "import pickle\n",
    "\n",
    "from fastai import *\n",
    "from fastai.text import *\n",
    "\n",
    "from pathlib import Path\n",
    "\n",
    "from sklearn.feature_extraction.text import CountVectorizer, TfidfVectorizer\n",
    "from sklearn.pipeline import Pipeline\n",
    "from sklearn.svm import LinearSVC\n",
    "from sklearn.naive_bayes import MultinomialNB\n",
    "from sklearn.model_selection import RandomizedSearchCV"
   ]
  },
  {
   "cell_type": "code",
   "execution_count": 29,
   "metadata": {},
   "outputs": [],
   "source": [
    "path = \"./data/clean/\""
   ]
  },
  {
   "cell_type": "code",
   "execution_count": 52,
   "metadata": {},
   "outputs": [],
   "source": [
    "docs = TextClasDataBunch.from_csv(Path(path), \"train/train.csv\", valid_pct=0.2,\n",
    "                                  test=\"test/test.csv\")"
   ]
  },
  {
   "cell_type": "code",
   "execution_count": 53,
   "metadata": {},
   "outputs": [
    {
     "data": {
      "text/plain": [
       "TextClasDataBunch;\n",
       "\n",
       "Train: LabelList (383 items)\n",
       "x: TextList\n",
       "xxbos xxup processo : 00060 - xxunk / 2018 - 11 . xxmaj partes : xxup distrito xxup federal , por intermédio de sua \n",
       "  xxup secretaria xxup de xxup estado xxup de xxup saúde xxup do xxup distrito xxup federal e a empresa xxup produtos \n",
       "  xxup roche xxup xxunk e xxup xxunk s xxup a. xxup cnpj xxmaj nº xxunk / 0002 - 04 . xxup objeto : \n",
       "  xxup aquisição xxup de xxup xxunk xxup xxunk xxup xxunk , conforme xxmaj ata de xxmaj registro de xxmaj preço nº \n",
       "  228 / xxup 2018-b xxup ses / xxup df e xxmaj pedido de xxmaj aquisição de xxmaj material nº 5 - 18 / xxup xxunk e xxmaj autorização de \n",
       "  xxmaj fornecimento de xxmaj material nº 5 - 18 / xxup xxunk . xxup valor : xxup r$ xxunk ( cento e trinta e sete mil \n",
       "  cinquenta e dois reais ) , xxup prazo xxup de xxup entrega : 100 % xxup em 10 xxup dias , xxup após o xxup recebimento xxup da \n",
       "  xxup ne xxup pelo xxup fornecedor . xxup os xxup dias xxup são xxup contados xxup corridos . xxmaj data do xxmaj empenho : 31 / 12 / 2018 . \n",
       "  xxmaj pela xxup ses / xxup df : xxup joão xxup carlos xxup de xxup aguiar xxup nascimento .,xxbos a xxmaj pregoeira responsável pelo certame , xxup processo xxmaj nº xxunk / 2018 - 31 , xxup objeto : xxmaj aquisição de \n",
       "  xxunk diversos para xxup xxunk e xxup xxunk da xxup pcdf , conforme especificações e condições estabelecidas no \n",
       "  termo de referência constante do xxmaj anexo i do xxmaj edital , comunica a suspensão \" sine die \" da licitação , para \n",
       "  revisão do termo de referência - xxmaj anexo i do ato convocatório . xxmaj maiores informações na xxup cpl / xxup pcdf fones : \n",
       "  3207 - 4071 / 4046 . \n",
       "  xxmaj brasília / xxup df , 09 de janeiro de 2019 . \n",
       "  xxup xxunk xxup de xxup a. xxup p. xxup santos xxup faustino \n",
       "  xxmaj pregoeira xxmaj substituta,xxbos xxup processo : 00150 - 00010624 / 2018 - 40 . xxmaj das xxmaj partes : xxup fundo xxup de xxup apoio a xxup cultura - xxup sec , xxup cnpj nº \n",
       "  03.658.028 / 0001 - 09 e o / a beneficiário / a xxup cleber xxup lopes xxup pereira - xxup cpf n ° xxunk - 20 . xxmaj do \n",
       "  xxmaj objeto : xxmaj concessão de xxmaj apoio xxmaj financeiro para \" xxmaj participação em xxmaj evento \" , conforme xxmaj edital xxmaj nº 05 / 2018 \n",
       "  - xxup programa xxup conexão xxup cultural xxup df # xxup negócios - xxmaj conexão xxup fac , e xxmaj portaria nº 106 / 2018 . \n",
       "  xxmaj do xxmaj valor : xxup r$ 14.100,00 ( quatorze mil e cem reais ) . xxmaj da xxmaj classificação xxmaj orçamentária : 16903 ; xxmaj gestão : \n",
       "  23903 . xxmaj programa de xxmaj trabalho nº 13.392.6219.2911.0001 - xxmaj realização de xxmaj ações xxmaj culturais - xxmaj conexão \n",
       "  xxup fac ; xxmaj fonte 100 ; xxmaj natureza de xxmaj despesa 30.90.48 ; xxmaj modalidade xxmaj ordinário . xxmaj data da xxmaj emissão da xxmaj nota de \n",
       "  xxmaj empenho : 20 / 12 / 2018 ; xxmaj ordenador xxmaj responsável : xxup thiago xxup rocha xxup leandro,xxbos o xxup superintendente xxup administrativo e xxup financeiro , xxup do xxup departamento xxup de xxup estradas \n",
       "  xxup de xxup rodagem xxup do xxup distrito xxup federal , no uso das atribuições que lhe confere a xxmaj instrução nº 01 , de \n",
       "  16 de abril de 2018 , publicada no xxmaj diário xxmaj oficial nº 74 de 18 de abril de 2018 e em conformidade com os \n",
       "  termos dos artigos 44 e 45 , da xxmaj lei xxmaj complementar n.º 840 , de 23 de dezembro de 2011 e do xxmaj decreto nº \n",
       "  39.002 , de 24 de abril de 2018 , resolve : xxup designar xxup rogério xxup pereira xxup de xxup abreu , matrícula nº \n",
       "  xxunk - 7 , para substituir o servidor xxup francisco xxup xxunk xxup de xxup oliveira , matrícula xxup xxunk , \n",
       "  no cargo de xxmaj chefe do xxmaj núcleo de xxmaj patrimônio do xxmaj departamento de xxmaj estradas de xxmaj rodagem do xxmaj distrito xxmaj federal , \n",
       "  xxmaj símbolo xxup dfg-12 , no período de 02 / 01 / 2019 a 11 / 01 / 2019 , por motivo de férias regulamentares do titular \n",
       "  do cargo . \n",
       "  xxup carlos xxup geraldo xxup caixeta xxup cruz,xxbos xxup processo : 00150 - xxunk / 2018 - 07 ; xxup nota xxup de xxup empenho xxmaj nº xxunk / 2018 ; xxup das xxup partes : \n",
       "  xxup df / xxup sec / xxup fac x xxup dora xxup pinheiro xxup sales na qualidade de xxmaj beneficiário / a. xxup espécie : xxmaj termo de \n",
       "  xxmaj ajuste xxmaj nº xxunk / 2018 ; xxup modalidade : xxmaj seleção xxmaj pública ; xxup do xxup objeto : o presente termo de ajuste tem \n",
       "  por objeto a concessão de apoio financeiro para curso de \" xxup xxunk e xxup xxunk \" de \n",
       "  natureza artísticos e culturais , de interesse do / a xxmaj beneficiário / a acima especificado / a ; xxup do xxup valor : xxup r$ \n",
       "  12.000,00 ( doze mil reais ) a título de despesas com inscrição e / ou xxunk e / ou instalação a ser \n",
       "  pago e xxunk à conta do / a xxmaj beneficiário / a especialmente aberta no xxmaj banco de xxmaj brasília - xxup brb , \n",
       "  correndo a despesa à conta de dotação orçamentária própria do xxmaj programa de xxmaj trabalho \n",
       "  13.392.6219.2911.0001 - xxmaj realização de xxmaj ações xxmaj culturais - xxmaj conexão xxup fac - xxmaj fonte 100 - xxmaj natureza da \n",
       "  despesa : 33.90.48 ; xxup da xxup vigência : o presente termo de ajuste entrará em vigência a partir da data \n",
       "  de assinatura do beneficiário , com duração de xxunk ) ano , permitida a prorrogação na forma da lei \n",
       "  vigente : xxup data xxup da xxup assinatura : 28 / 12 / 2018 ; xxup legislação : xxmaj lei nº 934 / 2017 , xxmaj portaria nº 158 , \n",
       "  de 20 de setembro de 2016 , alterada pela xxmaj portaria nº 106 / 2018 ; xxup do xxup executor : xxmaj comissão \n",
       "  xxmaj permanente de xxmaj execução dos xxmaj projetos do xxup fac ; xxmaj pelo xxup fac / xxup sec / xxup df : xxmaj luis xxmaj guilherme xxmaj almeida xxmaj reis ; \n",
       "  xxup beneficiário / a : xxup dora xxup pinheiro xxup sales .\n",
       "y: CategoryList\n",
       "SECRETARIA DE ESTADO DE SAÚDE,SECRETARIA DE ESTADO DE SEGURANÇA PÚBLICA,SECRETARIA DE ESTADO DE CULTURA,SECRETARIA DE ESTADO DE TRANSPORTE E MOBILIDADE,SECRETARIA DE ESTADO DE CULTURA\n",
       "Path: data/clean;\n",
       "\n",
       "Valid: LabelList (97 items)\n",
       "x: TextList\n",
       "xxbos xxup processo : 052 - xxunk / 2017 - xxup partes : xxmaj distrito xxmaj federal / xxmaj polícia xxmaj civil x xxup xxunk xxmaj xxunk xxmaj center xxmaj mecânica \n",
       "  em xxmaj geral xxmaj ltda - xxup me . xxup objeto : xxmaj alteração contratual com vistas ao acréscimo no percentual de 25 % \n",
       "  sobre o valor inicial do contrato , xxunk a xxup r$ xxunk ( nove mil , novecentos e seis reais e \n",
       "  vinte e um centavos ) , passando o contrato a ter o valor total de xxup r$ xxunk ( quarenta e nove mil , \n",
       "  quinhentos e trinta e um reais e cinco centavos ) ; nos termos do xxmaj art . 65 , § 1 ° da xxmaj lei nº 8.666 / 93 . xxup da \n",
       "  xxup vigência : o presente xxmaj termo xxmaj aditivo entra em vigência a contar da data de sua assinatura . xxup da \n",
       "  xxup ratificação : xxmaj permanecem inalteradas as demais cláusulas do xxmaj contrato a que se refere o presente \n",
       "  xxmaj termo xxmaj aditivo . xxup data xxup de xxup assinatura : 12 / 12 / 2018 . xxup signatários : xxmaj pelo xxmaj distrito xxmaj federal : xxmaj cícero \n",
       "  xxmaj jairo de xxmaj vasconcelos xxmaj monteiro , na qualidade de xxmaj diretor xxmaj geral . xxmaj pela xxmaj contratada : xxmaj maria do xxmaj socorro \n",
       "  xxmaj mesquita xxmaj carvalho , na qualidade de xxmaj representante xxmaj legal,xxbos a xxup diretora xxup de xxup gestão xxup de xxup pessoas , xxup da xxup subsecretaria xxup de xxup administração xxup geral , \n",
       "  xxup da xxup secretaria xxup de xxup estado xxup de xxup desenvolvimento xxup econômico xxup do xxup distrito xxup federal , \n",
       "  no uso das atribuições que lhe são conferidas pela xxmaj portaria nº 86 , de 08 de maio de 2014 , resolve : \n",
       "  xxup conceder xxmaj gratificação por xxmaj habilitação em xxmaj políticas xxmaj públicas - xxup ghpp , nos termos do artigo art . 22 , da \n",
       "  xxmaj lei nº 5.190 , de 25 de setembro de 2013 , regulamentada pela xxmaj portaria nº 86 , de 08 de maio de 2014 , à \n",
       "  servidora abaixo xxunk . xxmaj os efeitos financeiros xxunk a contar no mês subsequente à solicitação da \n",
       "  servidora . xxmaj relação por nome de servidor , cargo , matrícula , título , percentual , nº do processo e data de \n",
       "  requerimento : xxup maria xxup valéria xxup lemos xxup vasconcelos , xxmaj gestor em xxmaj políticas xxmaj públicas e xxmaj gestão \n",
       "  xxmaj governamental , matrícula : xxunk - 4 , xxmaj pós - xxmaj graduação , 20 % , xxmaj processo : xxunk xxrep 6 0 35 / 2019 , 08 / 01 / 2019 . \n",
       "  xxup xxunk xxup ferreira xxup da xxup fonseca,xxbos o xxup secretário xxup de xxup estado xxup de xxup educação xxup do xxup distrito xxup federal , no uso das atribuições que \n",
       "  lhe confere o xxmaj decreto nº 39.133 , de 15 de junho de 2018 e o xxmaj decreto nº 39.002 , de 24 de abril de 2018 , \n",
       "  e tendo em vista o disposto no art . 54 , da xxmaj lei xxmaj complementar nº 840 / 11 , e considerando o que consta nos \n",
       "  autos do xxmaj processo xxmaj administrativo xxup sei 00080 - xxunk / 2018 - 12 , resolve : declarar xxup vacância do cargo \n",
       "  de xxmaj analista de xxmaj gestão xxmaj educacional , ocupado por xxup xxunk xxup xxunk xxup matos xxup souza , matrícula xxunk \n",
       "  4 , padrão xxup xxunk , do xxmaj quadro de xxmaj pessoal da xxmaj secretaria de xxmaj estado de xxmaj educação do xxmaj distrito xxmaj federal , a \n",
       "  contar de 12 / 11 / 2018 , em virtude de posse xxunk em outro cargo . \n",
       "  xxup rafael xxup de xxup carvalho xxup pullen xxup parente,xxbos a xxmaj caesb torna público que a xxmaj licitação xxmaj pública xxmaj nacional xxup xxunk xxunk / 2018 , xxmaj processo nº xxunk / 2018 , \n",
       "  xxmaj objeto : xxmaj execução das xxmaj obras de xxmaj implantação do xxmaj xxunk xxmaj gama - xxmaj xxunk nas xxmaj xxunk dos \n",
       "  xxmaj xxunk xxmaj xxunk 1 e 2 , xxmaj xxunk xxunk , xxmaj xxunk de xxmaj xxunk 2 e 3 e xxmaj xxunk , do xxmaj distrito xxmaj federal e \n",
       "  xxmaj xxunk e xxmaj xxunk dos xxmaj xxunk xxup xxunk xxmaj brasília ( xxup xxunk ) , xxup xxunk xxmaj brazlândia \n",
       "  ( xxup xxunk ) , xxup xxunk xxmaj gama 01 ( xxup xxunk ) , xxup xxunk xxmaj santa xxmaj maria ( xxup xxunk ) e xxup xxunk xxmaj gama \n",
       "  ( xxup xxunk ) , marcada anteriormente para 08 / 01 / 2019 , às 15 horas , na xxmaj sala de xxmaj licitações , no \n",
       "  xxmaj centro de xxmaj gestão xxmaj águas xxmaj xxunk , localizado na xxmaj avenida xxmaj xxunk , xxmaj lotes 13 , 15 , 17 , 19 e 21 , \n",
       "  xxmaj bloco \" b \" - xxmaj xxunk , térreo , xxmaj águas xxmaj claras , xxmaj distrito xxmaj federal , foi prorrogada para o dia 23 / 01 / 2019 , \n",
       "  às 15 horas , no mesmo local , por razões administrativas . 2 . xxmaj maiores informações podem ser obtidas \n",
       "  no site xxunk e telefone ( 61 ) xxunk - xxunk . \n",
       "  xxup xxunk xxup reis xxup xxunk \n",
       "  xxmaj presidente da xxmaj comissão xxmaj substituta,xxbos o xxup administrador xxup regional xxup do xxup lago xxup sul xxup do xxup distrito xxup federal , no uso de suas \n",
       "  atribuições regimentais previstas no xxmaj artigo 42 , do xxmaj regimento xxmaj interno desta xxmaj administração xxmaj regional , \n",
       "  aprovado pelo xxmaj decreto nº 38.094 , de 28 de março de 2017 , resolve : \n",
       "  xxmaj art . 1º xxmaj designar xxup xxunk xxup xxunk xxup junior , xxmaj matrícula nº xxunk - 2 , xxmaj gerente , da xxmaj gerência de \n",
       "  xxmaj manutenção e xxmaj conservação , da xxmaj diretoria de xxmaj obras , da xxmaj coordenação de xxmaj licenciamento , xxmaj obras e \n",
       "  xxmaj manutenção , xxmaj executor xxmaj titular e xxup xxunk xxup nobre xxup de xxup queiroz , xxmaj matrícula xxunk - 1 , xxmaj gerente , da \n",
       "  xxmaj gerência de xxmaj execução de xxmaj obras , da xxmaj diretoria de xxmaj obras , da xxmaj coordenação de xxmaj licenciamento , xxmaj obras e \n",
       "  xxmaj manutenção , xxmaj executor xxmaj suplente dos serviços xxunk através do xxmaj contrato 01 / 2018 , celebrado entre \n",
       "  a xxup administração xxup do xxup lago xxup sul e a xxup fundação xxup de xxup amparo xxup ao xxup xxunk \n",
       "  xxup xxunk - xxup xxunk / xxup df , objeto do xxmaj processo xxunk xxrep 4 0 xxunk / 2018 - 53 . \n",
       "  xxmaj art . 2º xxmaj xxunk ao executor as seguintes atribuições : a ) acompanhar a execução do contrato em todas \n",
       "  as fases , conforme art . 67 , § § 1º e 2º da xxmaj lei nº 8.666 / 1993 , combinado com o artigo 41 , do xxmaj decreto \n",
       "  nº 32.598 / 2010 e alterações posteriores e da xxmaj portaria nº 29 , de 26 de fevereiro de 2014 ; b ) atestar \n",
       "  as notas fiscais / xxunk referentes à prestação de serviços ; c ) exercer o controle e a observância do \n",
       "  prazo para execução do serviço ; d ) apresentar relatório ao término dos serviços ou xxunk que \n",
       "  solicitado . xxmaj art . 3º a xxmaj coordenação de xxmaj administração xxmaj geral deverá xxunk aos servidores cópia \n",
       "  do respectivo contrato , bem como , de xxunk legislação xxunk que se xxunk xxunk ao desempenho \n",
       "  das funções como executor e suplente . \n",
       "  xxmaj art . 4º xxmaj esta xxmaj ordem de xxmaj serviço entra em vigor na data de sua publicação . \n",
       "  xxup rubens xxup santoro xxup neto\n",
       "y: CategoryList\n",
       "SECRETARIA DE ESTADO DE SEGURANÇA PÚBLICA,SECRETARIA DE ESTADO DE DESENVOLVIMENTO ECONÔMICO,SECRETARIA DE ESTADO DE EDUCAÇÃO,SECRETARIA DE ESTADO DE OBRAS E INFRAESTRUTURA,CASA CIVIL\n",
       "Path: data/clean;\n",
       "\n",
       "Test: LabelList (237 items)\n",
       "x: TextList\n",
       "xxbos a xxup coordenadora xxup de xxup administração xxup geral , xxup da xxup administração xxup regional xxup da \n",
       "  xxup fercal xxup do xxup distrito xxup federal , no uso das atribuições que lhe são conferidas pelo xxmaj decreto nº \n",
       "  39.611 , de 1 ° de janeiro de 2019 , resolve : \n",
       "  xxmaj art . 1º xxmaj designar xxup jefferson xxup de xxup oliveira xxup sousa , matricula : xxup xxunk , em substituição de \n",
       "  xxup xxunk xxup monteiro , matrícula xxunk - 5 para atuar como executora , respectivamente , para \n",
       "  fiscalizar , supervisionar e acompanhar os serviços da contratação de empresa para a execução de xxmaj obra \n",
       "  da xxmaj xxunk do xxmaj xxunk da xxmaj feira da xxmaj fercal , conforme xxmaj nota de xxmaj empenho xxup xxunk , a favor da \n",
       "  xxup xxunk xxup xxunk xxup construções e xxup xxunk xxup ltda , a contar do dia 16 de fevereiro 2018 , \n",
       "  xxmaj processo : xxunk xxrep 4 0 xxunk / 2018 - 26 . \n",
       "  xxmaj art . 2º xxmaj esta xxmaj ordem de xxmaj serviço entra em vigor na data de sua publicação . \n",
       "  xxup xxunk xxup torres xxup mota,xxbos o xxup diretor - xxup geral xxup do xxup departamento xxup de xxup trânsito xxup do xxup distrito xxup federal , no uso da \n",
       "  atribuição prevista no art . 3º , do xxmaj decreto nº 39.002 , de 24 de abril de 2018 , que regulamenta os arts . \n",
       "  44 e 45 da xxmaj lei xxmaj complementar nº 840 , de 23 de dezembro de 2011 , e conforme xxmaj processo xxup sei nº \n",
       "  00055- xxrep 5 0 xxunk / 2019 - 93 , resolve : xxup designar xxup xxunk xxup de xxup jesus xxup alves xxup pinheiro , xxmaj técnico \n",
       "  de xxmaj trânsito , matrícula xxunk - 9 , para substituir xxup xxunk xxup machado xxup ramos , xxmaj assistente de \n",
       "  xxmaj trânsito , matrícula xxunk - 7 , chefe , símbolo xxup dfg-12 , do xxmaj núcleo xxmaj regional de xxmaj trânsito do xxmaj recanto das \n",
       "  xxmaj emas - xxmaj xxunk xxup iv , da xxmaj coordenação xxmaj geral de xxmaj atendimento ao xxmaj usuário - xxup cgate , da xxmaj diretoria de \n",
       "  xxmaj controle de xxmaj veículos e xxmaj condutores - xxmaj dirconv , do xxmaj detran / xxup df , no período de 14 a 23 / 01 / 2019 , por \n",
       "  motivo de férias da titular . \n",
       "  xxup fabrício xxup lima xxup de xxup andrade xxup moura,xxbos o xxup superintendente xxup de xxup operações , xxup do xxup departamento xxup de xxup estradas xxup de xxup rodagem xxup do \n",
       "  xxup distrito xxup federal , usando das atribuições que lhe confere o xxmaj regimento xxmaj interno aprovado pelo xxmaj decreto nº \n",
       "  37.949 , artigo 78 , de 12 / 01 / 2017 , combinado com a xxmaj instrução nº 228 de 08 / 11 / 2016 , resolve : \n",
       "  xxmaj art . 1º xxmaj designar xxup marcos xxup leite xxup xxunk , matrícula nº xxunk - 3 como executor e a servidora xxup xxunk \n",
       "  xxup mary xxup nery xxup marques xxup siqueira , matrícula xxunk - 4 como suplente , do xxmaj contrato nº xxunk / 2016 , objeto \n",
       "  do processo xxunk / 2015 , celebrado com a empresa xxup santa xxup xxunk xxup xxunk e xxup xxunk \n",
       "  xxup ltda . \n",
       "  xxmaj art . 2º xxmaj esta xxmaj ordem de xxmaj serviço entra em vigor na data de sua publicação . \n",
       "  xxup murilo xxup de xxup melo xxup santos,xxbos o xxmaj subsecretário de xxmaj administração xxmaj geral , xxmaj substituto - xxup suag / xxup ses comunica a suspensão dos seguintes \n",
       "  xxunk : xxup pe por xxup srp n ° xxunk / 2018 e xxup pe por xxup srp n ° xxunk / 2018 , sem nova data prevista para abertura , \n",
       "  considerando a publicação do xxmaj decreto nº 39.611 , de 1 ° de janeiro de 2019 . xxmaj informações pelos xxmaj telefones \n",
       "  ( 61 ) xxunk - xxunk e ( 61 ) 2017 - xxunk . \n",
       "  xxup iohan xxup andrade xxup struck \n",
       "  xxmaj subsecretário , xxmaj substituto \n",
       "  xxup xxunk xxup dispensa xxup de xxup licitação xxmaj nº xxunk / 2017 \n",
       "  a xxmaj subsecretaria de xxmaj administração xxmaj geral / xxup ses - xxup df , considerando as informações constantes dos autos , xxunk \n",
       "  através deste , tornar público a xxup xxunk xxup da xxup dispensa xxup de xxup licitação xxmaj nº xxunk / 2017 , referente \n",
       "  à aquisição de medicamento xxup xxunk ( xxup xxunk ) xxup xxunk xxup para xxup solução xxup xxunk xxup xxunk \n",
       "  xxup xxunk xxup xxunk - xxmaj xxunk . xxup ses xxunk , nos termos da xxmaj lei nº 8.666 / 93 , processo nº xxunk \n",
       "  xxunk / 2017 . \n",
       "  xxup iohan xxup andrade xxup struck \n",
       "  xxmaj subsecretário , xxmaj substituto,xxbos o xxup diretor - xxup geral xxup do xxup departamento xxup de xxup trânsito xxup do xxup distrito xxup federal , no uso da \n",
       "  atribuição prevista no art . 3º , do xxmaj decreto nº 39.002 , de 24 de abril de 2018 , que regulamenta os arts . \n",
       "  44 e 45 da xxmaj lei xxmaj complementar nº 840 , de 23 de dezembro de 2011 , e conforme xxmaj processo xxup sei nº \n",
       "  00055- xxrep 5 0 xxunk / 2019 - 46 , resolve : xxup designar xxup flavio xxup alves xxup rosa , xxmaj assistente de xxmaj trânsito , \n",
       "  matrícula xxunk - 8 , para substituir xxup marcelo xxup vilela xxup morais , xxmaj assistente de xxmaj trânsito , matrícula \n",
       "  xxunk - 7 , gerente , símbolo xxup dfg-14 , da xxmaj gerência de xxmaj fiscalização xxmaj administrativa de xxmaj veículo e \n",
       "  xxmaj habilitação - xxmaj xxunk , da xxmaj diretoria de xxmaj controle de xxmaj veículos e xxmaj condutores - xxmaj dirconv , do xxmaj detran / xxup df , no \n",
       "  período de 07 a 16 / 01 / 2019 , por motivo de férias do titular . \n",
       "  xxup fabrício xxup lima xxup de xxup andrade xxup moura\n",
       "y: EmptyLabelList\n",
       ",,,,\n",
       "Path: data/clean"
      ]
     },
     "execution_count": 53,
     "metadata": {},
     "output_type": "execute_result"
    }
   ],
   "source": [
    "docs"
   ]
  },
  {
   "cell_type": "code",
   "execution_count": 65,
   "metadata": {
    "scrolled": true
   },
   "outputs": [
    {
     "data": {
      "text/plain": [
       "14"
      ]
     },
     "execution_count": 65,
     "metadata": {},
     "output_type": "execute_result"
    }
   ],
   "source": [
    "docs.train_ds[0][1].data"
   ]
  },
  {
   "cell_type": "code",
   "execution_count": 73,
   "metadata": {},
   "outputs": [],
   "source": [
    "X_train = [[docs.vocab.itos[o] for o in doc.data] for doc in docs.train_ds.x]"
   ]
  },
  {
   "cell_type": "code",
   "execution_count": 78,
   "metadata": {},
   "outputs": [
    {
     "data": {
      "text/plain": [
       "383"
      ]
     },
     "execution_count": 78,
     "metadata": {},
     "output_type": "execute_result"
    }
   ],
   "source": [
    "len(X_train)"
   ]
  },
  {
   "cell_type": "code",
   "execution_count": 79,
   "metadata": {},
   "outputs": [],
   "source": [
    "X_valid = [[docs.vocab.itos[o] for o in doc.data] for doc in docs.valid_ds.x]"
   ]
  },
  {
   "cell_type": "code",
   "execution_count": 82,
   "metadata": {},
   "outputs": [],
   "source": [
    "X_train = X_train + X_valid"
   ]
  },
  {
   "cell_type": "code",
   "execution_count": 83,
   "metadata": {},
   "outputs": [],
   "source": [
    "X_test = [[docs.vocab.itos[o] for o in doc.data] for doc in docs.test_ds.x]"
   ]
  },
  {
   "cell_type": "code",
   "execution_count": 91,
   "metadata": {},
   "outputs": [
    {
     "data": {
      "text/plain": [
       "array([14, 15,  6, 16, ...,  5, 15, 15, 15])"
      ]
     },
     "execution_count": 91,
     "metadata": {},
     "output_type": "execute_result"
    }
   ],
   "source": [
    "y_train = docs.train_ds.y.items; y_train"
   ]
  },
  {
   "cell_type": "code",
   "execution_count": 92,
   "metadata": {},
   "outputs": [
    {
     "data": {
      "text/plain": [
       "383"
      ]
     },
     "execution_count": 92,
     "metadata": {},
     "output_type": "execute_result"
    }
   ],
   "source": [
    "len(y_train)"
   ]
  },
  {
   "cell_type": "code",
   "execution_count": 100,
   "metadata": {},
   "outputs": [],
   "source": [
    "y_valid = docs.valid_ds.y.items\n",
    "y_train = np.concatenate([y_train, y_valid])"
   ]
  },
  {
   "cell_type": "code",
   "execution_count": 102,
   "metadata": {},
   "outputs": [],
   "source": [
    "y_test = docs.test_ds.y.items"
   ]
  },
  {
   "cell_type": "code",
   "execution_count": 103,
   "metadata": {},
   "outputs": [
    {
     "data": {
      "text/plain": [
       "(480, (480,), 237, (237,))"
      ]
     },
     "execution_count": 103,
     "metadata": {},
     "output_type": "execute_result"
    }
   ],
   "source": [
    "len(X_train), y_train.shape, len(X_test), y_test.shape"
   ]
  },
  {
   "cell_type": "code",
   "execution_count": 113,
   "metadata": {},
   "outputs": [],
   "source": [
    "pipe_nb_count = Pipeline((\n",
    "    (\"vectorizer\", CountVectorizer(ngram_range=(1,3), preprocessor=noop, tokenizer=noop)),\n",
    "    (\"clf\", MultinomialNB(alpha=0.001, fit_prior=True))\n",
    "))\n",
    "\n",
    "pipe_nb_tfidf = Pipeline((\n",
    "    (\"vectorizer\", TfidfVectorizer(ngram_range=(1,3), preprocessor=noop, tokenizer=noop)),\n",
    "    (\"clf\", MultinomialNB(alpha=0.001, fit_prior=True))\n",
    "))\n",
    "\n",
    "pipe_svc_count = Pipeline((\n",
    "    (\"vectorizer\", CountVectorizer(ngram_range=(1,3), preprocessor=noop, tokenizer=noop)),\n",
    "    (\"clf\", LinearSVC(verbose=2, class_weight=\"balanced\"))\n",
    "))\n",
    "    \n",
    "pipe_svc_tfidf = Pipeline((\n",
    "    (\"vectorizer\", TfidfVectorizer(ngram_range=(1,3), preprocessor=noop, tokenizer=noop)),\n",
    "    (\"clf\", LinearSVC(verbose=2, class_weight=\"balanced\"))\n",
    "))"
   ]
  },
  {
   "cell_type": "code",
   "execution_count": 120,
   "metadata": {},
   "outputs": [],
   "source": [
    "veczr_params = {\n",
    "    \"vectorizer__ngram_range\": [(1, 1), (1, 2), (1, 3)],\n",
    "    \"vectorizer__max_df\": [0.5, 0.8, 1.],\n",
    "    \"vectorizer__min_df\": [1, 2, 3],\n",
    "    \"vectorizer__max_features\": [800000],    \n",
    "}\n",
    "\n",
    "nb_params = {\n",
    "    \"clf__alpha\": [0.0001, 0.0003, 0.001, 0.003, 0.01, 0.03, 0.1, 0.3, 1],\n",
    "    \"clf__fit_prior\": [True, False]\n",
    "}\n",
    "\n",
    "nb_params.update(veczr_params)\n",
    "\n",
    "svc_params = {\n",
    "    \"clf__penalty\": [\"l2\"],\n",
    "    \"clf__C\": [0.001, 0.003, 0.01, 0.03, 0.1, 0.3, 1, 3, 10],\n",
    "    \"clf__class_weight\": [\"balanced\", None]\n",
    "}\n",
    "\n",
    "svc_params.update(veczr_params)"
   ]
  },
  {
   "cell_type": "code",
   "execution_count": 125,
   "metadata": {},
   "outputs": [],
   "source": [
    "svc_count_search = RandomizedSearchCV(pipe_svc_count, param_distributions=svc_params, scoring=\"f1_weighted\",\n",
    "                                      n_iter=100, n_jobs=-2, iid=False, refit=False,\n",
    "                                      verbose=2, random_state=42)\n",
    "\n",
    "svc_tfidf_search = RandomizedSearchCV(pipe_svc_tfidf, param_distributions=svc_params, scoring=\"f1_weighted\",\n",
    "                                      n_iter=100, n_jobs=-2, iid=False, refit=False,\n",
    "                                      verbose=2, random_state=42)\n",
    "\n",
    "\n",
    "nb_count_search  = RandomizedSearchCV(pipe_nb_count, param_distributions=nb_params, scoring=\"f1_weighted\",\n",
    "                                      n_iter=100, n_jobs=-2, iid=False, refit=False,\n",
    "                                      verbose=2, random_state=42)\n",
    "\n",
    "nb_tfidf_search  = RandomizedSearchCV(pipe_nb_tfidf, param_distributions=nb_params, scoring=\"f1_weighted\",\n",
    "                                      n_iter=100, n_jobs=-2, iid=False, refit=False,\n",
    "                                      verbose=2, random_state=42)"
   ]
  },
  {
   "cell_type": "code",
   "execution_count": null,
   "metadata": {},
   "outputs": [
    {
     "name": "stdout",
     "output_type": "stream",
     "text": [
      "Fitting 3 folds for each of 100 candidates, totalling 300 fits\n"
     ]
    },
    {
     "name": "stderr",
     "output_type": "stream",
     "text": [
      "/home/pedro/anaconda2/envs/fastai/lib/python3.7/site-packages/sklearn/model_selection/_split.py:1978: FutureWarning: The default value of cv will change from 3 to 5 in version 0.22. Specify it explicitly to silence this warning.\n",
      "  warnings.warn(CV_WARNING, FutureWarning)\n",
      "[Parallel(n_jobs=-2)]: Using backend LokyBackend with 7 concurrent workers.\n",
      "[Parallel(n_jobs=-2)]: Done  27 tasks      | elapsed:   16.5s\n",
      "[Parallel(n_jobs=-2)]: Done 148 tasks      | elapsed:  1.4min\n",
      "[Parallel(n_jobs=-2)]: Done 300 out of 300 | elapsed:  2.7min finished\n",
      "/home/pedro/anaconda2/envs/fastai/lib/python3.7/site-packages/sklearn/model_selection/_split.py:1978: FutureWarning: The default value of cv will change from 3 to 5 in version 0.22. Specify it explicitly to silence this warning.\n",
      "  warnings.warn(CV_WARNING, FutureWarning)\n",
      "[Parallel(n_jobs=-2)]: Using backend LokyBackend with 7 concurrent workers.\n"
     ]
    },
    {
     "name": "stdout",
     "output_type": "stream",
     "text": [
      "Fitting 3 folds for each of 100 candidates, totalling 300 fits\n"
     ]
    },
    {
     "name": "stderr",
     "output_type": "stream",
     "text": [
      "[Parallel(n_jobs=-2)]: Done  27 tasks      | elapsed:   14.8s\n"
     ]
    }
   ],
   "source": [
    "%%timeit\n",
    "\n",
    "svc_count_search.fit(X_train, y_train)"
   ]
  },
  {
   "cell_type": "code",
   "execution_count": null,
   "metadata": {},
   "outputs": [],
   "source": [
    "%%timeit\n",
    "\n",
    "svc_tfidf_search.fit(X_train, y_train)"
   ]
  },
  {
   "cell_type": "code",
   "execution_count": null,
   "metadata": {},
   "outputs": [],
   "source": [
    "%%timeit\n",
    "\n",
    "nb_count_search.fit(X_train, y_train)"
   ]
  },
  {
   "cell_type": "code",
   "execution_count": null,
   "metadata": {},
   "outputs": [],
   "source": [
    "%%timeit\n",
    "\n",
    "nb_tfidf_search.fit(X_train, y_train)"
   ]
  },
  {
   "cell_type": "code",
   "execution_count": null,
   "metadata": {},
   "outputs": [],
   "source": [
    "def save_model(model, name):\n",
    "    pickle.dump(model, open(f'./models/{name}.pkl', \"wb\"))"
   ]
  },
  {
   "cell_type": "code",
   "execution_count": null,
   "metadata": {},
   "outputs": [],
   "source": []
  }
 ],
 "metadata": {
  "kernelspec": {
   "display_name": "Python 3",
   "language": "python",
   "name": "python3"
  },
  "language_info": {
   "codemirror_mode": {
    "name": "ipython",
    "version": 3
   },
   "file_extension": ".py",
   "mimetype": "text/x-python",
   "name": "python",
   "nbconvert_exporter": "python",
   "pygments_lexer": "ipython3",
   "version": "3.7.4"
  }
 },
 "nbformat": 4,
 "nbformat_minor": 2
}
