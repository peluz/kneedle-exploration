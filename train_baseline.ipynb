{
 "cells": [
  {
   "cell_type": "code",
   "execution_count": 3,
   "metadata": {},
   "outputs": [
    {
     "name": "stdout",
     "output_type": "stream",
     "text": [
      "The autoreload extension is already loaded. To reload it, use:\n",
      "  %reload_ext autoreload\n"
     ]
    }
   ],
   "source": [
    "%load_ext autoreload\n",
    "%autoreload 2\n",
    "%matplotlib inline"
   ]
  },
  {
   "cell_type": "code",
   "execution_count": 172,
   "metadata": {},
   "outputs": [],
   "source": [
    "import pandas as pd\n",
    "import pickle\n",
    "\n",
    "from fastai import *\n",
    "from fastai.text import *\n",
    "\n",
    "from pathlib import Path\n",
    "\n",
    "from sklearn.feature_extraction.text import CountVectorizer, TfidfVectorizer\n",
    "from sklearn.pipeline import Pipeline\n",
    "from sklearn.svm import LinearSVC\n",
    "from sklearn.naive_bayes import MultinomialNB\n",
    "from sklearn.model_selection import RandomizedSearchCV\n",
    "from sklearn.metrics import confusion_matrix, classification_report, hamming_loss, zero_one_loss, accuracy_score"
   ]
  },
  {
   "cell_type": "code",
   "execution_count": 164,
   "metadata": {},
   "outputs": [],
   "source": [
    "path = \"./data/clean/\""
   ]
  },
  {
   "cell_type": "code",
   "execution_count": 186,
   "metadata": {},
   "outputs": [],
   "source": [
    "docs = (TextList.from_csv(Path(path), 'train.csv', cols='text')\n",
    "                         .split_from_df(col=2)\n",
    "                         .label_from_df(cols=0))"
   ]
  },
  {
   "cell_type": "code",
   "execution_count": 187,
   "metadata": {},
   "outputs": [
    {
     "data": {
      "text/plain": [
       "LabelLists;\n",
       "\n",
       "Train: LabelList (480 items)\n",
       "x: TextList\n",
       "xxbos o xxup diretor - xxup geral xxup do xxup departamento xxup de xxup trânsito xxup do xxup distrito xxup federal , no uso da \n",
       "  atribuição prevista no art . 3º , do xxmaj decreto nº 39.002 , de 24 de abril de 2018 , que regulamenta os arts . 44 \n",
       "  e 45 da xxmaj lei xxmaj complementar nº 840 , de 23 de dezembro de 2011 , e conforme xxmaj processo xxup sei nº 00055- \n",
       "  xxunk / 2018 - 94 , resolve : xxup designar xxup juliana xxup maria xxup xxunk , xxmaj agente de xxmaj trânsito , matrícula \n",
       "  xxunk - 8 , para substituir xxup xxunk xxup douglas xxup correa , xxmaj agente de xxmaj trânsito , matrícula xxunk - 4 , xxunk , \n",
       "  símbolo xxup cne-06 , da xxmaj corregedoria , do xxmaj detran / xxup df , nos períodos de 07 a 26 / 01 / 2019 e 01 a 10 / 07 / 2019 , por \n",
       "  motivo de férias do titular . \n",
       "  xxup fabrício xxup lima xxup de xxup andrade xxup moura,xxbos xxup processo : 00150 - xxunk / 2018 - 72 ; xxup nota xxup de xxup empenho xxmaj nº xxunk / 2018 ; xxup das xxup partes : \n",
       "  xxup df / xxup sec / xxup fac x xxup santiago xxup machado xxup xxunk . xxmaj na qualidade de xxmaj beneficiário / a. xxup espécie : \n",
       "  xxmaj termo de xxmaj ajuste xxmaj nº xxunk / 2018 ; xxup modalidade : xxmaj seleção xxmaj pública ; xxup do xxup objeto : o presente xxmaj termo de \n",
       "  xxmaj ajuste tem por objeto a concessão de apoio financeiro pelo xxup fundo xxup de xxup apoio à xxup cultura ao \n",
       "  xxmaj programa xxmaj conexão xxmaj cultural xxup df # xxmaj negócios de interesse do / a xxmaj beneficiário / a acima especificado / a ; xxup do \n",
       "  xxup valor : xxup r$ 15.000,00 ( quinze mil reais ) que será liberado em parcela única e transferidos à conta \n",
       "  do / a xxmaj beneficiário / a , correndo a despesa à conta de dotação orçamentária própria do xxmaj programa de \n",
       "  xxmaj trabalho 13.392.6219.2911.0001 - xxmaj realização de xxmaj ações xxmaj culturais - xxmaj conexão xxup fac - xxmaj fonte 100 - \n",
       "  xxmaj natureza da despesa : 33.90.48 ; xxup da xxup vigência : o presente termo de ajuste entrará em vigência a \n",
       "  partir da data de assinatura do beneficiário , com duração de 8 ( oito ) meses , permitida a prorrogação \n",
       "  na forma da lei vigente ; xxup data xxup da xxup assinatura : 20 / 12 / 2018 ; xxup legislação : xxmaj lei nº 934 / 2017 , \n",
       "  xxmaj portaria nº 158 , de 20 de setembro de 2016 , alterada pela xxmaj portaria nº 106 / 2018 ; xxmaj pelo xxup fac / xxup sec / xxup df : \n",
       "  xxmaj luís xxmaj guilherme xxmaj almeida xxmaj reis ; xxup beneficiário / a : xxup santiago xxup machado xxup xxunk .,xxbos o xxup diretor - xxup geral xxup do xxup departamento xxup de xxup trânsito xxup do xxup distrito xxup federal , no uso da \n",
       "  atribuição prevista no art . 3º , do xxmaj decreto nº 39.002 , de 24 de abril de 2018 , que regulamenta os arts . \n",
       "  44 e 45 da xxmaj lei xxmaj complementar nº 840 , de 23 de dezembro de 2011 , e conforme xxmaj processo xxup sei nº \n",
       "  00055 - xxunk / 2018 - 43 , resolve : xxup designar xxup xxunk xxup lima xxup dos xxup santos , xxmaj assistente de \n",
       "  xxmaj trânsito , matrícula xxup xxunk , para substituir xxup ana xxup claudia xxup dantas xxup conceição xxup braga , \n",
       "  xxmaj assistente de xxmaj trânsito , matrícula xxup xxunk , chefe , símbolo xxup dfg-12 , do xxmaj núcleo de xxmaj registro e xxmaj xxunk \n",
       "  de xxmaj documentos de xxmaj habilitação - xxup xxunk , da xxmaj gerência de xxmaj habilitação e xxmaj controle de xxmaj condutor - \n",
       "  xxmaj xxunk , da xxmaj diretoria de xxmaj controle de xxmaj veículos e xxmaj condutores - xxmaj dirconv , do xxmaj detran / xxup df , no período de \n",
       "  07 a 16 / 01 / 2019 , por motivo de férias do titular . \n",
       "  xxup fabrício xxup lima xxup de xxup andrade xxup moura,xxbos a xxmaj comissão xxmaj permanente de xxmaj licitação do xxup brb - xxup banco xxup de xxup brasília xxup s.a. torna público o \n",
       "  julgamento da xxmaj concorrência xxup dipes / xxup cplic xxmaj nº xxunk / 2018 , referente à alienação de 72 ( setenta e dois ) \n",
       "  imóveis xxunk , comerciais e xxunk , pertencentes ao xxup brb - xxmaj banco de xxmaj brasília xxup s.a. , xxunk no \n",
       "  xxmaj distrito xxmaj federal e nos estados de xxmaj goiás , xxmaj minas xxmaj gerais , xxmaj xxunk e xxmaj são xxmaj paulo . xxmaj item 2 : xxmaj licitante xxmaj vencedora : \n",
       "  xxmaj xxunk xxmaj martins xxmaj brito , xxmaj valor xxmaj ofertado : xxup r$ xxunk ( quatrocentos e noventa mil e dez reais ) ; xxmaj item 3 : \n",
       "  xxmaj licitante xxmaj vencedora : xxmaj xxunk xxmaj xxunk xxmaj daniel da xxmaj silva , xxmaj valor xxmaj ofertado : xxup r$ xxunk ( trezentos e sessenta \n",
       "  e um mil e cem reais ) ; xxmaj item 5 : xxmaj licitante xxmaj vencedor : xxmaj xxunk xxmaj xxunk xxmaj xxunk da xxmaj silva xxmaj ramalho , xxmaj valor \n",
       "  xxmaj ofertado : xxup r$ xxunk ( trezentos e onze mil , seiscentos e quinze reais e cinquenta centavos ) ; xxmaj item 17 : \n",
       "  xxmaj licitante xxmaj vencedor : xxmaj bernardo xxmaj xxunk dos xxmaj santos , xxmaj valor xxmaj ofertado : xxup r$ xxunk ( cento e oitenta e oito \n",
       "  mil e cem reais ) ; xxmaj item 23 : xxmaj licitante xxmaj vencedora : xxmaj aline xxmaj queiroz da xxmaj silva xxmaj fernandes , xxmaj valor xxmaj ofertado : \n",
       "  xxup xxunk ( duzentos e vinte e um mil reais ) . xxmaj não foram xxunk propostas para os demais itens . \n",
       "  xxmaj os autos do processo encontram - se com vista franqueada no horário de 10 às 16 horas , no xxup sbs , xxmaj quadra \n",
       "  1 , xxmaj xxunk . e , xxmaj ed . xxmaj brasília , 16º andar , xxmaj brasília / xxup df . xxmaj processo : xxunk / 2018 . xxmaj jean xxmaj felippe xxmaj mazépas - xxmaj presidente da \n",
       "  xxup cplic,xxbos a xxup administradora xxup regional xxup de xxup taguatinga xxup do xxup distrito xxup federal , no uso das atribuições \n",
       "  legais que lhe confere o inciso xxup xxunk , do artigo 42 , do xxmaj decreto n ° 38.094 , de 28 de março de 2017 , que \n",
       "  xxunk o xxmaj regimento xxmaj interno das xxmaj administrações xxmaj regionais do xxmaj distrito xxmaj federal e xxunk outras xxunk , \n",
       "  resolve : \n",
       "  xxmaj art . 1º xxmaj por força da xxmaj ordem de xxmaj serviço nº 211 de 13 / 12 / 2018 , publicada no xxup dodf nº 241 de 20 / 12 / 2018 , que \n",
       "  nomeou a xxmaj comissão xxmaj permanente de xxmaj sindicância desta xxmaj região xxmaj administrativa / xxup xxunk , determino : \n",
       "  xxmaj art . 2 ° xxmaj substituir o servidor xxup xxunk xxup henrique xxup alves , xxmaj analista em xxmaj políticas xxmaj públicas e xxmaj gestão \n",
       "  xxmaj governamental , matrícula nº xxunk pelo servidor xxup thiago xxup alexandre xxup xxunk xxup de xxup brito , xxmaj gestor \n",
       "  de xxmaj políticas xxmaj públicas e xxmaj gestão xxmaj governamental , matrícula xxunk - 8 . \n",
       "  xxmaj art . 3º xxmaj substituir a servidora xxup lúcia xxup maria xxup gonçalves xxup carvalho , xxmaj analista em xxmaj políticas xxmaj públicas e \n",
       "  xxmaj gestão xxmaj governamental , xxmaj matrícula nº xxunk pela servidora xxup magna xxup aparecida xxup da xxup mota , xxmaj técnica em \n",
       "  xxmaj políticas xxmaj públicas e xxmaj gestão xxmaj governamental , matrícula xxunk - 2 . \n",
       "  xxmaj xxunk a xxmaj comissão xxmaj permanente xxmaj sindicância fica assim composta : xxup marta xxup rocha xxup do xxup xxunk xxup santo , \n",
       "  xxmaj gestora de xxmaj políticas xxmaj públicas e xxmaj gestão xxmaj governamental , matrícula xxunk - 7 ( presidente ) , xxup thiago \n",
       "  xxup alexandre xxup xxunk xxup de xxup brito , xxmaj gestor de xxmaj políticas xxmaj públicas e xxmaj gestão xxmaj governamental , matrícula \n",
       "  xxunk - 8 ( membro ) ; xxup gilson xxup josé xxup de xxup oliveira , xxmaj analista em xxmaj políticas xxmaj públicas e xxmaj gestão xxmaj governamental , \n",
       "  matrícula xxunk - 6 ( membro ) e xxup magna xxup aparecida xxup da xxup mota , xxmaj técnica em xxmaj políticas xxmaj públicas e xxmaj gestão \n",
       "  xxmaj governamental , matrícula xxunk - 2 ( suplente ) , para atuarem nos xxmaj processos de xxmaj sindicância desta xxmaj administração \n",
       "  xxmaj regional . \n",
       "  xxmaj art . 5º xxmaj esta xxmaj ordem de xxmaj serviço entra em vigor na data de sua publicação . \n",
       "  xxmaj art . 6º xxmaj revogam - se as disposições em contrário . \n",
       "  xxup karolyne xxup guimarães xxup dos xxup santos xxup borges\n",
       "y: CategoryList\n",
       "SECRETARIA DE ESTADO DE SEGURANÇA PÚBLICA,SECRETARIA DE ESTADO DE CULTURA,SECRETARIA DE ESTADO DE SEGURANÇA PÚBLICA,SECRETARIA DE ESTADO DE FAZENDA, PLANEJAMENTO, ORÇAMENTO E GESTÃO,CASA CIVIL\n",
       "Path: data/clean;\n",
       "\n",
       "Valid: LabelList (237 items)\n",
       "x: TextList\n",
       "xxbos a xxup coordenadora xxup de xxup administração xxup geral , xxup da xxup administração xxup regional xxup da \n",
       "  xxup fercal xxup do xxup distrito xxup federal , no uso das atribuições que lhe são conferidas pelo xxmaj decreto nº \n",
       "  39.611 , de 1 ° de janeiro de 2019 , resolve : \n",
       "  xxmaj art . 1º xxmaj designar xxup jefferson xxup de xxup oliveira xxup sousa , matricula : xxup xxunk , em substituição de \n",
       "  xxup clarice xxup monteiro , matrícula xxunk - 5 para atuar como executora , respectivamente , para \n",
       "  fiscalizar , supervisionar e acompanhar os serviços da contratação de empresa para a execução de xxmaj obra \n",
       "  da xxmaj reforma do xxmaj xxunk da xxmaj feira da xxmaj fercal , conforme xxmaj nota de xxmaj empenho xxup xxunk , a favor da \n",
       "  xxup xxunk xxup xxunk xxup construções e xxup xxunk xxup ltda , a contar do dia 16 de fevereiro 2018 , \n",
       "  xxmaj processo : xxunk xxrep 4 0 xxunk / 2018 - 26 . \n",
       "  xxmaj art . 2º xxmaj esta xxmaj ordem de xxmaj serviço entra em vigor na data de sua publicação . \n",
       "  xxup xxunk xxup torres xxup mota,xxbos o xxup diretor - xxup geral xxup do xxup departamento xxup de xxup trânsito xxup do xxup distrito xxup federal , no uso da \n",
       "  atribuição prevista no art . 3º , do xxmaj decreto nº 39.002 , de 24 de abril de 2018 , que regulamenta os arts . \n",
       "  44 e 45 da xxmaj lei xxmaj complementar nº 840 , de 23 de dezembro de 2011 , e conforme xxmaj processo xxup sei nº \n",
       "  00055- xxrep 5 0 xxunk / 2019 - 93 , resolve : xxup designar xxup xxunk xxup de xxup jesus xxup alves xxup pinheiro , xxmaj técnico \n",
       "  de xxmaj trânsito , matrícula xxunk - 9 , para substituir xxup xxunk xxup machado xxup ramos , xxmaj assistente de \n",
       "  xxmaj trânsito , matrícula xxunk - 7 , chefe , símbolo xxup dfg-12 , do xxmaj núcleo xxmaj regional de xxmaj trânsito do xxmaj xxunk das \n",
       "  xxmaj emas - xxmaj xxunk xxup iv , da xxmaj coordenação xxmaj geral de xxmaj atendimento ao xxmaj usuário - xxup cgate , da xxmaj diretoria de \n",
       "  xxmaj controle de xxmaj veículos e xxmaj condutores - xxmaj dirconv , do xxmaj detran / xxup df , no período de 14 a 23 / 01 / 2019 , por \n",
       "  motivo de férias da titular . \n",
       "  xxup fabrício xxup lima xxup de xxup andrade xxup moura,xxbos o xxup superintendente xxup de xxup operações , xxup do xxup departamento xxup de xxup estradas xxup de xxup rodagem xxup do \n",
       "  xxup distrito xxup federal , usando das atribuições que lhe confere o xxmaj regimento xxmaj interno aprovado pelo xxmaj decreto nº \n",
       "  37.949 , artigo 78 , de 12 / 01 / 2017 , combinado com a xxmaj instrução nº 228 de 08 / 11 / 2016 , resolve : \n",
       "  xxmaj art . 1º xxmaj designar xxup marcos xxup leite xxup xxunk , matrícula nº xxunk - 3 como executor e a servidora xxup xxunk \n",
       "  xxup xxunk xxup nery xxup marques xxup siqueira , matrícula xxunk - 4 como suplente , do xxmaj contrato nº xxunk / 2016 , objeto \n",
       "  do processo xxunk / 2015 , celebrado com a empresa xxup santa xxup xxunk xxup xxunk e xxup xxunk \n",
       "  xxup ltda . \n",
       "  xxmaj art . 2º xxmaj esta xxmaj ordem de xxmaj serviço entra em vigor na data de sua publicação . \n",
       "  xxup murilo xxup de xxup melo xxup santos,xxbos o xxmaj subsecretário de xxmaj administração xxmaj geral , xxmaj substituto - xxup suag / xxup ses comunica a suspensão dos seguintes \n",
       "  xxunk : xxup pe por xxup srp n ° xxunk / 2018 e xxup pe por xxup srp n ° xxunk / 2018 , sem nova data prevista para abertura , \n",
       "  considerando a publicação do xxmaj decreto nº 39.611 , de 1 ° de janeiro de 2019 . xxmaj informações pelos xxmaj telefones \n",
       "  ( 61 ) xxunk - xxunk e ( 61 ) 2017 - xxunk . \n",
       "  xxup iohan xxup andrade xxup struck \n",
       "  xxmaj subsecretário , xxmaj substituto \n",
       "  xxup xxunk xxup dispensa xxup de xxup licitação xxmaj nº xxunk / 2017 \n",
       "  a xxmaj subsecretaria de xxmaj administração xxmaj geral / xxup ses - xxup df , considerando as informações constantes dos autos , xxunk \n",
       "  através deste , tornar público a xxup xxunk xxup da xxup dispensa xxup de xxup licitação xxmaj nº xxunk / 2017 , referente \n",
       "  à aquisição de medicamento xxup xxunk ( xxup xxunk ) xxup xxunk xxup para xxup solução xxup xxunk xxup xxunk \n",
       "  xxup xxunk xxup xxunk - xxmaj xxunk . xxup ses xxunk , nos termos da xxmaj lei nº 8.666 / 93 , processo nº xxunk \n",
       "  xxunk / 2017 . \n",
       "  xxup iohan xxup andrade xxup struck \n",
       "  xxmaj subsecretário , xxmaj substituto,xxbos o xxup diretor - xxup geral xxup do xxup departamento xxup de xxup trânsito xxup do xxup distrito xxup federal , no uso da \n",
       "  atribuição prevista no art . 3º , do xxmaj decreto nº 39.002 , de 24 de abril de 2018 , que regulamenta os arts . \n",
       "  44 e 45 da xxmaj lei xxmaj complementar nº 840 , de 23 de dezembro de 2011 , e conforme xxmaj processo xxup sei nº \n",
       "  00055- xxrep 5 0 xxunk / 2019 - 46 , resolve : xxup designar xxup flavio xxup alves xxup rosa , xxmaj assistente de xxmaj trânsito , \n",
       "  matrícula xxunk - 8 , para substituir xxup marcelo xxup vilela xxup morais , xxmaj assistente de xxmaj trânsito , matrícula \n",
       "  xxunk - 7 , gerente , símbolo xxup dfg-14 , da xxmaj gerência de xxmaj fiscalização xxmaj administrativa de xxmaj veículo e \n",
       "  xxmaj habilitação - xxmaj xxunk , da xxmaj diretoria de xxmaj controle de xxmaj veículos e xxmaj condutores - xxmaj dirconv , do xxmaj detran / xxup df , no \n",
       "  período de 07 a 16 / 01 / 2019 , por motivo de férias do titular . \n",
       "  xxup fabrício xxup lima xxup de xxup andrade xxup moura\n",
       "y: CategoryList\n",
       "CASA CIVIL,SECRETARIA DE ESTADO DE SEGURANÇA PÚBLICA,SECRETARIA DE ESTADO DE TRANSPORTE E MOBILIDADE,SECRETARIA DE ESTADO DE SAÚDE,SECRETARIA DE ESTADO DE SEGURANÇA PÚBLICA\n",
       "Path: data/clean;\n",
       "\n",
       "Test: None"
      ]
     },
     "execution_count": 187,
     "metadata": {},
     "output_type": "execute_result"
    }
   ],
   "source": [
    "docs"
   ]
  },
  {
   "cell_type": "code",
   "execution_count": 190,
   "metadata": {
    "scrolled": true
   },
   "outputs": [
    {
     "data": {
      "text/plain": [
       "Category CASA CIVIL"
      ]
     },
     "execution_count": 190,
     "metadata": {},
     "output_type": "execute_result"
    }
   ],
   "source": [
    "docs.valid[0][1]"
   ]
  },
  {
   "cell_type": "code",
   "execution_count": 192,
   "metadata": {},
   "outputs": [],
   "source": [
    "X_train = [[docs.vocab.itos[o] for o in doc.data] for doc in docs.train.x]"
   ]
  },
  {
   "cell_type": "code",
   "execution_count": 193,
   "metadata": {},
   "outputs": [
    {
     "data": {
      "text/plain": [
       "480"
      ]
     },
     "execution_count": 193,
     "metadata": {},
     "output_type": "execute_result"
    }
   ],
   "source": [
    "len(X_train)"
   ]
  },
  {
   "cell_type": "code",
   "execution_count": 194,
   "metadata": {},
   "outputs": [],
   "source": [
    "X_test = [[docs.vocab.itos[o] for o in doc.data] for doc in docs.valid.x]"
   ]
  },
  {
   "cell_type": "code",
   "execution_count": 195,
   "metadata": {},
   "outputs": [
    {
     "data": {
      "text/plain": [
       "array([15,  6, 15, 11, ..., 14, 15,  5, 15])"
      ]
     },
     "execution_count": 195,
     "metadata": {},
     "output_type": "execute_result"
    }
   ],
   "source": [
    "y_train = docs.train.y.items; y_train"
   ]
  },
  {
   "cell_type": "code",
   "execution_count": 196,
   "metadata": {},
   "outputs": [
    {
     "data": {
      "text/plain": [
       "480"
      ]
     },
     "execution_count": 196,
     "metadata": {},
     "output_type": "execute_result"
    }
   ],
   "source": [
    "len(y_train)"
   ]
  },
  {
   "cell_type": "code",
   "execution_count": 197,
   "metadata": {},
   "outputs": [],
   "source": [
    "y_test = docs.valid.y.items"
   ]
  },
  {
   "cell_type": "code",
   "execution_count": 198,
   "metadata": {},
   "outputs": [
    {
     "data": {
      "text/plain": [
       "(480, (480,), 237, (237,))"
      ]
     },
     "execution_count": 198,
     "metadata": {},
     "output_type": "execute_result"
    }
   ],
   "source": [
    "len(X_train), y_train.shape, len(X_test), y_test.shape"
   ]
  },
  {
   "cell_type": "code",
   "execution_count": 199,
   "metadata": {},
   "outputs": [],
   "source": [
    "pipe_nb_count = Pipeline((\n",
    "    (\"vectorizer\", CountVectorizer(ngram_range=(1,3), preprocessor=noop, tokenizer=noop)),\n",
    "    (\"clf\", MultinomialNB(alpha=0.001, fit_prior=True))\n",
    "))\n",
    "\n",
    "pipe_nb_tfidf = Pipeline((\n",
    "    (\"vectorizer\", TfidfVectorizer(ngram_range=(1,3), preprocessor=noop, tokenizer=noop)),\n",
    "    (\"clf\", MultinomialNB(alpha=0.001, fit_prior=True))\n",
    "))\n",
    "\n",
    "pipe_svc_count = Pipeline((\n",
    "    (\"vectorizer\", CountVectorizer(ngram_range=(1,3), preprocessor=noop, tokenizer=noop)),\n",
    "    (\"clf\", LinearSVC(verbose=2, class_weight=\"balanced\"))\n",
    "))\n",
    "    \n",
    "pipe_svc_tfidf = Pipeline((\n",
    "    (\"vectorizer\", TfidfVectorizer(ngram_range=(1,3), preprocessor=noop, tokenizer=noop)),\n",
    "    (\"clf\", LinearSVC(verbose=2, class_weight=\"balanced\"))\n",
    "))"
   ]
  },
  {
   "cell_type": "code",
   "execution_count": 200,
   "metadata": {},
   "outputs": [],
   "source": [
    "veczr_params = {\n",
    "    \"vectorizer__ngram_range\": [(1, 1), (1, 2), (1, 3)],\n",
    "    \"vectorizer__max_df\": [0.5, 0.8, 1.],\n",
    "    \"vectorizer__min_df\": [1, 2, 3],\n",
    "    \"vectorizer__max_features\": [800000],    \n",
    "}\n",
    "\n",
    "nb_params = {\n",
    "    \"clf__alpha\": [0.0001, 0.0003, 0.001, 0.003, 0.01, 0.03, 0.1, 0.3, 1],\n",
    "    \"clf__fit_prior\": [True, False]\n",
    "}\n",
    "\n",
    "nb_params.update(veczr_params)\n",
    "\n",
    "svc_params = {\n",
    "    \"clf__penalty\": [\"l2\"],\n",
    "    \"clf__C\": [0.001, 0.003, 0.01, 0.03, 0.1, 0.3, 1, 3, 10],\n",
    "    \"clf__class_weight\": [\"balanced\", None]\n",
    "}\n",
    "\n",
    "svc_params.update(veczr_params)"
   ]
  },
  {
   "cell_type": "code",
   "execution_count": 201,
   "metadata": {},
   "outputs": [],
   "source": [
    "svc_count_search = RandomizedSearchCV(pipe_svc_count, param_distributions=svc_params, scoring=\"f1_weighted\",\n",
    "                                      n_iter=100, n_jobs=-2, iid=False, refit=True,\n",
    "                                      verbose=2, random_state=42)\n",
    "\n",
    "svc_tfidf_search = RandomizedSearchCV(pipe_svc_tfidf, param_distributions=svc_params, scoring=\"f1_weighted\",\n",
    "                                      n_iter=100, n_jobs=-2, iid=False, refit=True,\n",
    "                                      verbose=2, random_state=42)\n",
    "\n",
    "\n",
    "nb_count_search  = RandomizedSearchCV(pipe_nb_count, param_distributions=nb_params, scoring=\"f1_weighted\",\n",
    "                                      n_iter=100, n_jobs=-2, iid=False, refit=True,\n",
    "                                      verbose=2, random_state=42)\n",
    "\n",
    "nb_tfidf_search  = RandomizedSearchCV(pipe_nb_tfidf, param_distributions=nb_params, scoring=\"f1_weighted\",\n",
    "                                      n_iter=100, n_jobs=-2, iid=False, refit=True,\n",
    "                                      verbose=2, random_state=42)"
   ]
  },
  {
   "cell_type": "code",
   "execution_count": 202,
   "metadata": {},
   "outputs": [
    {
     "name": "stdout",
     "output_type": "stream",
     "text": [
      "Fitting 3 folds for each of 100 candidates, totalling 300 fits\n"
     ]
    },
    {
     "name": "stderr",
     "output_type": "stream",
     "text": [
      "/home/pedro/anaconda2/envs/fastai/lib/python3.7/site-packages/sklearn/model_selection/_split.py:1978: FutureWarning: The default value of cv will change from 3 to 5 in version 0.22. Specify it explicitly to silence this warning.\n",
      "  warnings.warn(CV_WARNING, FutureWarning)\n",
      "[Parallel(n_jobs=-2)]: Using backend LokyBackend with 7 concurrent workers.\n",
      "[Parallel(n_jobs=-2)]: Done  27 tasks      | elapsed:   16.4s\n",
      "[Parallel(n_jobs=-2)]: Done 148 tasks      | elapsed:  1.4min\n",
      "[Parallel(n_jobs=-2)]: Done 300 out of 300 | elapsed:  2.8min finished\n"
     ]
    },
    {
     "name": "stdout",
     "output_type": "stream",
     "text": [
      "[LibLinear]"
     ]
    },
    {
     "data": {
      "text/plain": [
       "RandomizedSearchCV(cv='warn', error_score='raise-deprecating',\n",
       "                   estimator=Pipeline(memory=None,\n",
       "                                      steps=(('vectorizer',\n",
       "                                              CountVectorizer(analyzer='word',\n",
       "                                                              binary=False,\n",
       "                                                              decode_error='strict',\n",
       "                                                              dtype=<class 'numpy.int64'>,\n",
       "                                                              encoding='utf-8',\n",
       "                                                              input='content',\n",
       "                                                              lowercase=True,\n",
       "                                                              max_df=1.0,\n",
       "                                                              max_features=None,\n",
       "                                                              min_df=1,\n",
       "                                                              ngram_range=(1,\n",
       "                                                                           3),\n",
       "                                                              preprocessor=<function noop at 0x7fc7fe097...\n",
       "                   param_distributions={'clf__C': [0.001, 0.003, 0.01, 0.03,\n",
       "                                                   0.1, 0.3, 1, 3, 10],\n",
       "                                        'clf__class_weight': ['balanced', None],\n",
       "                                        'clf__penalty': ['l2'],\n",
       "                                        'vectorizer__max_df': [0.5, 0.8, 1.0],\n",
       "                                        'vectorizer__max_features': [800000],\n",
       "                                        'vectorizer__min_df': [1, 2, 3],\n",
       "                                        'vectorizer__ngram_range': [(1, 1),\n",
       "                                                                    (1, 2),\n",
       "                                                                    (1, 3)]},\n",
       "                   pre_dispatch='2*n_jobs', random_state=42, refit=True,\n",
       "                   return_train_score=False, scoring='f1_weighted', verbose=2)"
      ]
     },
     "execution_count": 202,
     "metadata": {},
     "output_type": "execute_result"
    }
   ],
   "source": [
    "svc_count_search.fit(X_train, y_train)"
   ]
  },
  {
   "cell_type": "code",
   "execution_count": 203,
   "metadata": {},
   "outputs": [
    {
     "name": "stderr",
     "output_type": "stream",
     "text": [
      "/home/pedro/anaconda2/envs/fastai/lib/python3.7/site-packages/sklearn/model_selection/_split.py:1978: FutureWarning: The default value of cv will change from 3 to 5 in version 0.22. Specify it explicitly to silence this warning.\n",
      "  warnings.warn(CV_WARNING, FutureWarning)\n",
      "[Parallel(n_jobs=-2)]: Using backend LokyBackend with 7 concurrent workers.\n"
     ]
    },
    {
     "name": "stdout",
     "output_type": "stream",
     "text": [
      "Fitting 3 folds for each of 100 candidates, totalling 300 fits\n"
     ]
    },
    {
     "name": "stderr",
     "output_type": "stream",
     "text": [
      "[Parallel(n_jobs=-2)]: Done  27 tasks      | elapsed:   15.9s\n",
      "[Parallel(n_jobs=-2)]: Done 148 tasks      | elapsed:  1.4min\n"
     ]
    },
    {
     "name": "stdout",
     "output_type": "stream",
     "text": [
      "[LibLinear]"
     ]
    },
    {
     "name": "stderr",
     "output_type": "stream",
     "text": [
      "[Parallel(n_jobs=-2)]: Done 300 out of 300 | elapsed:  2.8min finished\n"
     ]
    },
    {
     "data": {
      "text/plain": [
       "RandomizedSearchCV(cv='warn', error_score='raise-deprecating',\n",
       "                   estimator=Pipeline(memory=None,\n",
       "                                      steps=(('vectorizer',\n",
       "                                              TfidfVectorizer(analyzer='word',\n",
       "                                                              binary=False,\n",
       "                                                              decode_error='strict',\n",
       "                                                              dtype=<class 'numpy.float64'>,\n",
       "                                                              encoding='utf-8',\n",
       "                                                              input='content',\n",
       "                                                              lowercase=True,\n",
       "                                                              max_df=1.0,\n",
       "                                                              max_features=None,\n",
       "                                                              min_df=1,\n",
       "                                                              ngram_range=(1,\n",
       "                                                                           3),\n",
       "                                                              norm='l2',\n",
       "                                                              preprocessor=<function noop a...\n",
       "                   param_distributions={'clf__C': [0.001, 0.003, 0.01, 0.03,\n",
       "                                                   0.1, 0.3, 1, 3, 10],\n",
       "                                        'clf__class_weight': ['balanced', None],\n",
       "                                        'clf__penalty': ['l2'],\n",
       "                                        'vectorizer__max_df': [0.5, 0.8, 1.0],\n",
       "                                        'vectorizer__max_features': [800000],\n",
       "                                        'vectorizer__min_df': [1, 2, 3],\n",
       "                                        'vectorizer__ngram_range': [(1, 1),\n",
       "                                                                    (1, 2),\n",
       "                                                                    (1, 3)]},\n",
       "                   pre_dispatch='2*n_jobs', random_state=42, refit=True,\n",
       "                   return_train_score=False, scoring='f1_weighted', verbose=2)"
      ]
     },
     "execution_count": 203,
     "metadata": {},
     "output_type": "execute_result"
    }
   ],
   "source": [
    "svc_tfidf_search.fit(X_train, y_train)"
   ]
  },
  {
   "cell_type": "code",
   "execution_count": 204,
   "metadata": {},
   "outputs": [
    {
     "name": "stderr",
     "output_type": "stream",
     "text": [
      "/home/pedro/anaconda2/envs/fastai/lib/python3.7/site-packages/sklearn/model_selection/_split.py:1978: FutureWarning: The default value of cv will change from 3 to 5 in version 0.22. Specify it explicitly to silence this warning.\n",
      "  warnings.warn(CV_WARNING, FutureWarning)\n",
      "[Parallel(n_jobs=-2)]: Using backend LokyBackend with 7 concurrent workers.\n"
     ]
    },
    {
     "name": "stdout",
     "output_type": "stream",
     "text": [
      "Fitting 3 folds for each of 100 candidates, totalling 300 fits\n"
     ]
    },
    {
     "name": "stderr",
     "output_type": "stream",
     "text": [
      "[Parallel(n_jobs=-2)]: Done  27 tasks      | elapsed:   15.4s\n",
      "[Parallel(n_jobs=-2)]: Done 148 tasks      | elapsed:  1.4min\n",
      "[Parallel(n_jobs=-2)]: Done 300 out of 300 | elapsed:  2.7min finished\n"
     ]
    },
    {
     "data": {
      "text/plain": [
       "RandomizedSearchCV(cv='warn', error_score='raise-deprecating',\n",
       "                   estimator=Pipeline(memory=None,\n",
       "                                      steps=(('vectorizer',\n",
       "                                              CountVectorizer(analyzer='word',\n",
       "                                                              binary=False,\n",
       "                                                              decode_error='strict',\n",
       "                                                              dtype=<class 'numpy.int64'>,\n",
       "                                                              encoding='utf-8',\n",
       "                                                              input='content',\n",
       "                                                              lowercase=True,\n",
       "                                                              max_df=1.0,\n",
       "                                                              max_features=None,\n",
       "                                                              min_df=1,\n",
       "                                                              ngram_range=(1,\n",
       "                                                                           3),\n",
       "                                                              preprocessor=<function noop at 0x7fc7fe097...\n",
       "                   param_distributions={'clf__alpha': [0.0001, 0.0003, 0.001,\n",
       "                                                       0.003, 0.01, 0.03, 0.1,\n",
       "                                                       0.3, 1],\n",
       "                                        'clf__fit_prior': [True, False],\n",
       "                                        'vectorizer__max_df': [0.5, 0.8, 1.0],\n",
       "                                        'vectorizer__max_features': [800000],\n",
       "                                        'vectorizer__min_df': [1, 2, 3],\n",
       "                                        'vectorizer__ngram_range': [(1, 1),\n",
       "                                                                    (1, 2),\n",
       "                                                                    (1, 3)]},\n",
       "                   pre_dispatch='2*n_jobs', random_state=42, refit=True,\n",
       "                   return_train_score=False, scoring='f1_weighted', verbose=2)"
      ]
     },
     "execution_count": 204,
     "metadata": {},
     "output_type": "execute_result"
    }
   ],
   "source": [
    "nb_count_search.fit(X_train, y_train)"
   ]
  },
  {
   "cell_type": "code",
   "execution_count": 205,
   "metadata": {},
   "outputs": [
    {
     "name": "stderr",
     "output_type": "stream",
     "text": [
      "/home/pedro/anaconda2/envs/fastai/lib/python3.7/site-packages/sklearn/model_selection/_split.py:1978: FutureWarning: The default value of cv will change from 3 to 5 in version 0.22. Specify it explicitly to silence this warning.\n",
      "  warnings.warn(CV_WARNING, FutureWarning)\n",
      "[Parallel(n_jobs=-2)]: Using backend LokyBackend with 7 concurrent workers.\n"
     ]
    },
    {
     "name": "stdout",
     "output_type": "stream",
     "text": [
      "Fitting 3 folds for each of 100 candidates, totalling 300 fits\n"
     ]
    },
    {
     "name": "stderr",
     "output_type": "stream",
     "text": [
      "[Parallel(n_jobs=-2)]: Done  27 tasks      | elapsed:   14.7s\n",
      "[Parallel(n_jobs=-2)]: Done 148 tasks      | elapsed:  1.3min\n",
      "[Parallel(n_jobs=-2)]: Done 300 out of 300 | elapsed:  2.6min finished\n"
     ]
    },
    {
     "data": {
      "text/plain": [
       "RandomizedSearchCV(cv='warn', error_score='raise-deprecating',\n",
       "                   estimator=Pipeline(memory=None,\n",
       "                                      steps=(('vectorizer',\n",
       "                                              TfidfVectorizer(analyzer='word',\n",
       "                                                              binary=False,\n",
       "                                                              decode_error='strict',\n",
       "                                                              dtype=<class 'numpy.float64'>,\n",
       "                                                              encoding='utf-8',\n",
       "                                                              input='content',\n",
       "                                                              lowercase=True,\n",
       "                                                              max_df=1.0,\n",
       "                                                              max_features=None,\n",
       "                                                              min_df=1,\n",
       "                                                              ngram_range=(1,\n",
       "                                                                           3),\n",
       "                                                              norm='l2',\n",
       "                                                              preprocessor=<function noop a...\n",
       "                   param_distributions={'clf__alpha': [0.0001, 0.0003, 0.001,\n",
       "                                                       0.003, 0.01, 0.03, 0.1,\n",
       "                                                       0.3, 1],\n",
       "                                        'clf__fit_prior': [True, False],\n",
       "                                        'vectorizer__max_df': [0.5, 0.8, 1.0],\n",
       "                                        'vectorizer__max_features': [800000],\n",
       "                                        'vectorizer__min_df': [1, 2, 3],\n",
       "                                        'vectorizer__ngram_range': [(1, 1),\n",
       "                                                                    (1, 2),\n",
       "                                                                    (1, 3)]},\n",
       "                   pre_dispatch='2*n_jobs', random_state=42, refit=True,\n",
       "                   return_train_score=False, scoring='f1_weighted', verbose=2)"
      ]
     },
     "execution_count": 205,
     "metadata": {},
     "output_type": "execute_result"
    }
   ],
   "source": [
    "nb_tfidf_search.fit(X_train, y_train)"
   ]
  },
  {
   "cell_type": "code",
   "execution_count": 206,
   "metadata": {},
   "outputs": [],
   "source": [
    "def save_model(model, name):\n",
    "    pickle.dump(model, open(f'./models/{name}.pkl', \"wb\"))"
   ]
  },
  {
   "cell_type": "code",
   "execution_count": 207,
   "metadata": {},
   "outputs": [
    {
     "data": {
      "text/plain": [
       "(0.843743490584035, 0.8766380503214294, 0.8468940686257834, 0.8725278725434356)"
      ]
     },
     "execution_count": 207,
     "metadata": {},
     "output_type": "execute_result"
    }
   ],
   "source": [
    "svc_count_search.best_score_, svc_tfidf_search.best_score_, nb_count_search.best_score_, nb_tfidf_search.best_score_"
   ]
  },
  {
   "cell_type": "code",
   "execution_count": 208,
   "metadata": {},
   "outputs": [
    {
     "data": {
      "text/plain": [
       "(None, None)"
      ]
     },
     "execution_count": 208,
     "metadata": {},
     "output_type": "execute_result"
    }
   ],
   "source": [
    "save_model(svc_tfidf_search.best_estimator_, \"svc\"), save_model(nb_tfidf_search.best_estimator_, \"nb\")"
   ]
  },
  {
   "cell_type": "code",
   "execution_count": 209,
   "metadata": {},
   "outputs": [
    {
     "data": {
      "text/plain": [
       "({'vectorizer__ngram_range': (1, 1),\n",
       "  'vectorizer__min_df': 1,\n",
       "  'vectorizer__max_features': 800000,\n",
       "  'vectorizer__max_df': 0.5,\n",
       "  'clf__penalty': 'l2',\n",
       "  'clf__class_weight': 'balanced',\n",
       "  'clf__C': 1},\n",
       " {'vectorizer__ngram_range': (1, 3),\n",
       "  'vectorizer__min_df': 1,\n",
       "  'vectorizer__max_features': 800000,\n",
       "  'vectorizer__max_df': 0.5,\n",
       "  'clf__fit_prior': False,\n",
       "  'clf__alpha': 0.001})"
      ]
     },
     "execution_count": 209,
     "metadata": {},
     "output_type": "execute_result"
    }
   ],
   "source": [
    "svc_tfidf_search.best_params_, nb_tfidf_search.best_params_"
   ]
  },
  {
   "cell_type": "code",
   "execution_count": 211,
   "metadata": {},
   "outputs": [],
   "source": [
    "target_names= docs.train.y.classes"
   ]
  },
  {
   "cell_type": "code",
   "execution_count": 213,
   "metadata": {},
   "outputs": [
    {
     "name": "stdout",
     "output_type": "stream",
     "text": [
      "                                                                                   precision    recall  f1-score   support\n",
      "\n",
      "                                                                       CASA CIVIL     0.8125    0.7222    0.7647        18\n",
      "                                          CONTROLADORIA GERAL DO DISTRITO FEDERAL     0.5000    1.0000    0.6667         2\n",
      "                                           DEFENSORIA PÚBLICA DO DISTRITO FEDERAL     1.0000    1.0000    1.0000         8\n",
      "                                                                  PODER EXECUTIVO     0.6429    0.9000    0.7500        10\n",
      "                                                                PODER LEGISLATIVO     1.0000    1.0000    1.0000         1\n",
      "       SECRETARIA DE ESTADO DE AGRICULTURA, ABASTECIMENTO E DESENVOLVIMENTO RURAL     1.0000    0.7500    0.8571         4\n",
      "                                                  SECRETARIA DE ESTADO DE CULTURA     1.0000    0.8462    0.9167        13\n",
      "                                SECRETARIA DE ESTADO DE DESENVOLVIMENTO ECONÔMICO     1.0000    0.5000    0.6667         4\n",
      "                       SECRETARIA DE ESTADO DE DESENVOLVIMENTO URBANO E HABITAÇÃO     0.7500    0.7500    0.7500         4\n",
      "SECRETARIA DE ESTADO DE ECONOMIA, DESENVOLVIMENTO, INOVAÇÃO, CIÊNCIA E TECNOLOGIA     1.0000    1.0000    1.0000         1\n",
      "                                                 SECRETARIA DE ESTADO DE EDUCAÇÃO     1.0000    0.6923    0.8182        13\n",
      "                SECRETARIA DE ESTADO DE FAZENDA, PLANEJAMENTO, ORÇAMENTO E GESTÃO     0.8000    0.9524    0.8696        21\n",
      "                                      SECRETARIA DE ESTADO DE JUSTIÇA E CIDADANIA     0.8000    0.8000    0.8000         5\n",
      "                                   SECRETARIA DE ESTADO DE OBRAS E INFRAESTRUTURA     1.0000    0.8889    0.9412        18\n",
      "                                                    SECRETARIA DE ESTADO DE SAÚDE     0.9375    0.9375    0.9375        32\n",
      "                                        SECRETARIA DE ESTADO DE SEGURANÇA PÚBLICA     0.9091    1.0000    0.9524        50\n",
      "                                  SECRETARIA DE ESTADO DE TRANSPORTE E MOBILIDADE     1.0000    0.9500    0.9744        20\n",
      "                                            SECRETARIA DE ESTADO DO MEIO AMBIENTE     1.0000    0.5000    0.6667         2\n",
      "                                           TRIBUNAL DE CONTAS DO DISTRITO FEDERAL     1.0000    1.0000    1.0000        11\n",
      "\n",
      "                                                                         accuracy                         0.8987       237\n",
      "                                                                        macro avg     0.9027    0.8521    0.8596       237\n",
      "                                                                     weighted avg     0.9127    0.8987    0.8983       237\n",
      "\n",
      "0.8987341772151899\n"
     ]
    }
   ],
   "source": [
    "preds = svc_tfidf_search.predict(X_test)\n",
    "print(classification_report(y_test, preds, target_names=target_names, digits=4))\n",
    "print(accuracy_score(y_test, preds))"
   ]
  },
  {
   "cell_type": "code",
   "execution_count": 214,
   "metadata": {},
   "outputs": [
    {
     "name": "stdout",
     "output_type": "stream",
     "text": [
      "                                                                                   precision    recall  f1-score   support\n",
      "\n",
      "                                                                       CASA CIVIL     0.7222    0.7222    0.7222        18\n",
      "                                          CONTROLADORIA GERAL DO DISTRITO FEDERAL     0.5000    1.0000    0.6667         2\n",
      "                                           DEFENSORIA PÚBLICA DO DISTRITO FEDERAL     1.0000    1.0000    1.0000         8\n",
      "                                                                  PODER EXECUTIVO     0.6667    1.0000    0.8000        10\n",
      "                                                                PODER LEGISLATIVO     1.0000    1.0000    1.0000         1\n",
      "       SECRETARIA DE ESTADO DE AGRICULTURA, ABASTECIMENTO E DESENVOLVIMENTO RURAL     0.4000    0.5000    0.4444         4\n",
      "                                                  SECRETARIA DE ESTADO DE CULTURA     1.0000    0.8462    0.9167        13\n",
      "                                SECRETARIA DE ESTADO DE DESENVOLVIMENTO ECONÔMICO     0.6667    0.5000    0.5714         4\n",
      "                       SECRETARIA DE ESTADO DE DESENVOLVIMENTO URBANO E HABITAÇÃO     0.7500    0.7500    0.7500         4\n",
      "SECRETARIA DE ESTADO DE ECONOMIA, DESENVOLVIMENTO, INOVAÇÃO, CIÊNCIA E TECNOLOGIA     0.5000    1.0000    0.6667         1\n",
      "                                                 SECRETARIA DE ESTADO DE EDUCAÇÃO     1.0000    0.6154    0.7619        13\n",
      "                SECRETARIA DE ESTADO DE FAZENDA, PLANEJAMENTO, ORÇAMENTO E GESTÃO     0.9000    0.8571    0.8780        21\n",
      "                                      SECRETARIA DE ESTADO DE JUSTIÇA E CIDADANIA     0.8333    1.0000    0.9091         5\n",
      "                                   SECRETARIA DE ESTADO DE OBRAS E INFRAESTRUTURA     1.0000    0.7778    0.8750        18\n",
      "                                                    SECRETARIA DE ESTADO DE SAÚDE     0.8649    1.0000    0.9275        32\n",
      "                                        SECRETARIA DE ESTADO DE SEGURANÇA PÚBLICA     0.9800    0.9800    0.9800        50\n",
      "                                  SECRETARIA DE ESTADO DE TRANSPORTE E MOBILIDADE     1.0000    0.8500    0.9189        20\n",
      "                                            SECRETARIA DE ESTADO DO MEIO AMBIENTE     0.6667    1.0000    0.8000         2\n",
      "                                           TRIBUNAL DE CONTAS DO DISTRITO FEDERAL     1.0000    1.0000    1.0000        11\n",
      "\n",
      "                                                                         accuracy                         0.8819       237\n",
      "                                                                        macro avg     0.8132    0.8631    0.8205       237\n",
      "                                                                     weighted avg     0.9009    0.8819    0.8830       237\n",
      "\n",
      "0.8818565400843882\n"
     ]
    }
   ],
   "source": [
    "preds = nb_tfidf_search.predict(X_test)\n",
    "print(classification_report(y_test, preds, target_names=target_names, digits=4))\n",
    "print(accuracy_score(y_test, preds))"
   ]
  },
  {
   "cell_type": "code",
   "execution_count": null,
   "metadata": {},
   "outputs": [],
   "source": []
  }
 ],
 "metadata": {
  "kernelspec": {
   "display_name": "Python 3",
   "language": "python",
   "name": "python3"
  },
  "language_info": {
   "codemirror_mode": {
    "name": "ipython",
    "version": 3
   },
   "file_extension": ".py",
   "mimetype": "text/x-python",
   "name": "python",
   "nbconvert_exporter": "python",
   "pygments_lexer": "ipython3",
   "version": "3.7.4"
  }
 },
 "nbformat": 4,
 "nbformat_minor": 2
}
