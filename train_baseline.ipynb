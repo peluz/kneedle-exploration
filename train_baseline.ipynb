{
 "cells": [
  {
   "cell_type": "code",
   "execution_count": 1,
   "metadata": {},
   "outputs": [],
   "source": [
    "%load_ext autoreload\n",
    "%autoreload 2\n",
    "%matplotlib inline"
   ]
  },
  {
   "cell_type": "code",
   "execution_count": 52,
   "metadata": {},
   "outputs": [],
   "source": [
    "import pandas as pd\n",
    "import pickle\n",
    "\n",
    "from fastai import *\n",
    "from fastai.text import *\n",
    "\n",
    "from pathlib import Path\n",
    "\n",
    "from sklearn.feature_extraction.text import CountVectorizer, TfidfVectorizer\n",
    "from sklearn.pipeline import Pipeline\n",
    "from sklearn.svm import LinearSVC\n",
    "from sklearn.naive_bayes import MultinomialNB\n",
    "from sklearn.model_selection import RandomizedSearchCV, PredefinedSplit\n",
    "from sklearn.metrics import confusion_matrix, classification_report, hamming_loss, zero_one_loss, accuracy_score"
   ]
  },
  {
   "cell_type": "code",
   "execution_count": 10,
   "metadata": {},
   "outputs": [],
   "source": [
    "path = Path(\".\")"
   ]
  },
  {
   "cell_type": "code",
   "execution_count": 12,
   "metadata": {},
   "outputs": [],
   "source": [
    "docs = load_data(path/\"data\", \"data_clas_export.pkl\")"
   ]
  },
  {
   "cell_type": "code",
   "execution_count": 13,
   "metadata": {},
   "outputs": [
    {
     "data": {
      "text/plain": [
       "TextClasDataBunch;\n",
       "\n",
       "Train: LabelList (384 items)\n",
       "x: TextList\n",
       "▁xxbos ▁xxmaj ▁contratante : ▁xxup ▁banco ▁xxup ▁de ▁xxup ▁brasília ▁xxup ▁ s . a . ▁- ▁xxup ▁brb ▁- ▁xxmaj ▁pro mit ente ▁xxmaj ▁contratada : ▁xxup ▁di gi sec ▁xxup ▁certifica ção ▁xxup ▁digital ▁xxup ▁eireli - me . ▁xxmaj ▁objeto : ▁xxmaj ▁aquisição ▁de ▁chaves ▁cr ip to gráfica s ▁e ▁ certificados ▁digitais ▁para ▁pessoa ▁f is ica ▁e ▁jurídica ▁e ▁para ▁servidor ▁de ▁rede ▁na ▁hi er ar qui a ▁da ▁i cp - brasil ▁com ▁garantia , ▁conforme ▁especificações ▁técnicas ▁mínimas ▁do ▁edital ▁e ▁seus ▁anexos , ▁bem ▁como ▁da ▁proposta ▁da ▁contratada . ▁xxmaj ▁modalidade ▁da ▁contratação : ▁pregão ▁eletrônico ▁xxup ▁brb ▁no ▁2018 ▁/ ▁007 . ▁xxmaj ▁vigência : ▁de ▁02 ▁/ ▁04 ▁/ ▁2018 ▁à ▁02 ▁/ ▁04 ▁/ ▁2019. ▁xxmaj ▁itens ▁registrado s : ▁1 , 2, 3, 4 ▁e ▁ 7. ▁xxmaj ▁valor ▁xxup ▁r $ ▁37.0 22, 06. ▁xxmaj ▁signatários : ▁pelo ▁xxup ▁brb , ▁xxmaj ▁ k á ti a ▁do ▁xxmaj ▁carmo ▁xxmaj ▁peixoto ▁de ▁xxmaj ▁queiroz ▁e ▁pela ▁contratada , ▁xxmaj ▁eduard o ▁xxmaj ▁pereira ▁dos ▁xxmaj ▁santos . ▁xxmaj ▁executor : ▁xxmaj ▁kle ber ▁xxmaj ▁p on ce ▁xxmaj ▁leon es . ▁xxmaj ▁processo ▁no : ▁6 40 ▁/ ▁2017. ▁xxmaj ▁jean ▁xxmaj ▁felip pe ▁xxmaj ▁ mazé pas ▁- ▁xxmaj ▁gerente ▁de ▁xxmaj ▁área,▁xxbos ▁xxmaj ▁na ▁xxmaj ▁portaria ▁no ▁ 174 , ▁de ▁13 ▁de ▁setembro ▁de ▁2018, ▁publicada ▁no ▁xxup ▁dodf ▁no ▁181 , ▁de ▁21 ▁de ▁setembro ▁de ▁2018, ▁na ▁página ▁ 36, ▁no ▁ato ▁que ▁de cl ar ou ▁ va c ância ▁do ▁cargo ▁efetivo ▁de ▁xxmaj ▁agente ▁de ▁xxmaj ▁atividades ▁xxmaj ▁complementares ▁de ▁xxmaj ▁segurança ▁xxmaj ▁pública , ▁ocupa do ▁por ▁xxup ▁le ane ▁xxup ▁da ▁xxup ▁costa ▁xxup ▁cruz , ▁xxup ▁onde ▁xxup ▁se ▁xxup ▁lê : ▁\"... a ▁contar ▁de ▁24 ▁de ▁ju lho ▁de ▁2018...\" ▁xxup ▁ leia - se : ▁\"... ▁contar ▁de ▁30 ▁de ▁ju lho ▁de ▁2018...\" ▁xxmaj ▁na ▁xxmaj ▁portaria ▁no ▁ 204 , ▁de ▁19 ▁de ▁outubro ▁de ▁2018, ▁publicada ▁no ▁xxup ▁dodf ▁no ▁203 , ▁de ▁24 ▁de ▁outubro ▁de ▁2018, ▁na ▁página ▁30 , ▁no ▁ato ▁que ▁exonerou ▁a ▁pedido ▁xxup ▁marina ▁xxup ▁da ▁xxup ▁cunha ▁xxup ▁santos , ▁xxup ▁onde ▁xxup ▁se ▁xxup ▁lê : ▁\"... agente ▁de ▁xxmaj ▁atividades ▁xxmaj ▁complementares ▁de ▁xxmaj ▁segurança ▁xxmaj ▁pública ▁- ▁xxmaj ▁área ▁xxmaj ▁laboratório ...\" ▁xxup ▁ leia - se : ▁\" ▁xxrep ▁6 ▁ . ▁xxmaj ▁agente ▁de ▁xxmaj ▁atividades ▁xxmaj ▁complementares ▁de ▁xxmaj ▁segurança ▁xxmaj ▁pública ▁- ▁xxmaj ▁área ▁xxmaj ▁anatomia ...\",▁xxbos ▁xxup ▁processo : ▁052 . 002 . 326 ▁/ ▁2016. ▁xxup ▁objeto : ▁xxmaj ▁contratação , ▁por ▁meio ▁de ▁execução ▁indireta , ▁de ▁pessoa ▁jurídica ▁especializada ▁para ▁prestação ▁de ▁xxup ▁serviço ▁xxup ▁de ▁xxup ▁suporte ▁xxup ▁administrativo ▁e ▁xxup ▁operacional , ▁para ▁atendimento ▁às ▁diversas ▁unidades ▁da ▁xxmaj ▁polícia ▁xxmaj ▁civil ▁do ▁xxmaj ▁distrito ▁xxmaj ▁federal ▁- ▁xxup ▁pcdf ▁no ▁xxmaj ▁distrito ▁xxmaj ▁federal , ▁conforme ▁especificações ▁e ▁condições ▁estabelecida s ▁no ▁termo ▁de ▁referência ▁constante ▁do ▁xxmaj ▁anexo ▁i ▁do ▁xxmaj ▁edital . ▁xxup ▁tipo : ▁xxmaj ▁menor ▁xxmaj ▁preço . ▁a ▁xxup ▁pregoeira ▁da ▁xxmaj ▁polícia ▁xxmaj ▁civil ▁do ▁xxmaj ▁distrito ▁xxmaj ▁federal ▁comunica ▁que ▁no ▁xxmaj ▁pregão ▁xxmaj ▁eletrônico ▁no ▁ 64 ▁/ ▁2018 ▁sagraram - se ▁vencedora s ▁do ▁certame ▁as ▁empresas ▁xxup ▁ rd j ▁xxup ▁assessoria ▁e ▁xxup ▁ gest ao ▁xxup ▁empresarial ▁xxup ▁eireli , ▁xxup ▁cnpj : ▁06 . 35 0.0 74 ▁/ ▁0001-34 , ▁para ▁os ▁itens ▁4 , ▁5 , ▁no ▁valor ▁de ▁xxup ▁r $ ▁ 9. 9 20 .1 31, 10 ▁( nove ▁milhões , ▁nove centos ▁e ▁vinte ▁mil , ▁cento ▁e ▁trinta ▁e ▁um ▁reais ▁e ▁ dez ▁centavos ), ▁e ▁xxup ▁ estre la ▁xxup ▁servicos ▁xxup ▁terceiriz ados ▁xxup ▁eireli , ▁xxup ▁cnpj : ▁08 .146 .561 ▁/ ▁ 0001 -05, ▁para ▁o ▁item ▁ 6, ▁no ▁valor ▁de ▁xxup ▁r $ ▁3 . 334 . 76 0, 64 ▁( três ▁milhões , ▁trezentos ▁e ▁trinta ▁e ▁quatro ▁mil , ▁setecentos ▁e ▁sessenta ▁reais ▁e ▁sessenta ▁e ▁quatro ▁centavos ). ▁xxmaj ▁os ▁demais ▁itens ▁encontram - se ▁em ▁fase ▁rec ur s al . ▁a ▁ata ▁do ▁pregão ▁e ▁o ▁termo ▁de ▁adjudicação ▁ pode m ▁ser ▁visual izado s ▁no ▁w ww . compras governamentais . gov . br . ▁xxmaj ▁maio res ▁informações ▁na ▁xxup ▁cpl ▁/ ▁xxup ▁pcdf ▁fone s : ▁3 207 - 40 71 ▁/ ▁4 046 . ▁xxmaj ▁brasília ▁/ ▁xxup ▁df , ▁03 ▁de ▁janeiro ▁de ▁2019. ▁xxup ▁kell y ▁xxup ▁cristin a ▁xxup ▁cordeiro ▁xxup ▁guedes ▁xxmaj ▁pregoeira,▁xxbos ▁o ▁xxup ▁presidente ▁xxup ▁da ▁xxup ▁comissão ▁xxup ▁permanente ▁xxup ▁de ▁xxup ▁concurso s , ▁xxup ▁do ▁xxup ▁corpo ▁xxup ▁de ▁xxup ▁bombeiros ▁xxup ▁militar ▁xxup ▁do ▁xxup ▁distrito ▁xxup ▁federal , ▁no ▁uso ▁de ▁suas ▁atribuições ▁legais ▁e ▁em ▁cumprimento ▁à ▁decisão ▁trans ita da ▁em ▁julgado ▁contida ▁no ▁processo ▁judicial ▁no ▁07 0 91 70 - 36 .2017.8.07.001 8, ▁torna ▁pública ▁a ▁convocação ▁para ▁realização ▁de ▁xxmaj ▁avaliação ▁xxmaj ▁psicológic a , ▁para ▁candidata ▁do ▁xxmaj ▁concurso ▁xxmaj ▁público ▁para ▁matrícula ▁no ▁xxmaj ▁curso ▁de ▁xxmaj ▁formação ▁de ▁xxmaj ▁oficiais ▁xxmaj ▁bombeiros ▁xxmaj ▁militares ▁xxup ▁( c f o bm ) ▁do ▁xxmaj ▁quadro ▁de ▁xxmaj ▁oficiais ▁xxmaj ▁bombeiros ▁xxmaj ▁militares ▁xxmaj ▁combatente s ▁do ▁xxmaj ▁corpo ▁de ▁xxmaj ▁bombeiros ▁xxmaj ▁militar ▁do ▁xxmaj ▁distrito ▁xxmaj ▁federal . ▁1. ▁xxup ▁dos ▁xxup ▁candidatos ▁xxup ▁convocados ▁1.1 ▁xxmaj ▁fica ▁convoca da ▁para ▁a ▁xxmaj ▁avaliação ▁xxmaj ▁psicológic a ▁a ▁candidata ▁relacionada ▁no ▁xxup ▁anexo ▁i ▁deste ▁xxmaj ▁edital . ▁2. ▁xxup ▁do ▁xxup ▁local , ▁xxup ▁da ▁xxup ▁data ▁e ▁xxup ▁dos ▁xxup ▁horário s ▁2.1 ▁a ▁xxmaj ▁avaliação ▁xxmaj ▁psicológic a ▁será ▁realizada ▁no ▁dia ▁15 ▁de ▁janeiro ▁de ▁2019, ▁no ▁seguinte ▁local : ▁xxup ▁local : ▁xxup ▁smart ▁xxup ▁endereço : ▁xxup ▁sc r s ▁5 02 ▁xxmaj ▁bloco ▁f ▁xxmaj ▁lj ▁37 ▁- ▁xxmaj ▁asa ▁xxmaj ▁sul ▁- ▁xxmaj ▁brasília ▁/ ▁xxup ▁df ▁xxup ▁horário : ▁14 h 00 ▁2.1. 2 ▁xxmaj ▁em ▁hipótese ▁algum a ▁será ▁realizada ▁qual quer ▁etapa ▁fora ▁dos ▁locais , ▁horário s ▁e ▁data s ▁determinado s ▁neste ▁xxmaj ▁edital , ▁sendo ▁xxup ▁eliminado ▁o ▁candidato ▁a us ente ▁ou ▁re tar da t ário , ▁seja ▁qual ▁for ▁o ▁motivo ▁a legado . ▁ 2.2 ▁a ▁candidata ▁convoca da ▁para ▁esta ▁etapa ▁deverá ▁comparecer ▁ao ▁local ▁indicado ▁para ▁realização ▁da ▁avaliação ▁com ▁60 ▁( sessenta ) ▁minutos ▁de ▁anteced ência ▁do ▁horário ▁fixado ▁para ▁seu ▁início , ▁ mu ni da ▁de ▁documento ▁de ▁identidade ▁original ▁e ▁can eta ▁e s fer o gráfica ▁de ▁corpo ▁trans par ente ▁com ▁tinta ▁azul . ▁2.3 ▁a ▁presente ▁convocação ▁abrange ▁candidata ▁que ▁está ▁ pen de nte ▁de ▁etapas ▁posteriores ▁ou ▁anteriores ▁à ▁etapa ▁em ▁tela . ▁xxmaj ▁caso ▁o ( a ) ▁candidato ( a ) ▁seja ▁eliminado ( a ) ▁em ▁qual quer ▁ou tra ▁etapa ▁( se ja ▁anterior ▁ou ▁posterior ) ▁será ▁automaticamente ▁eliminado ( a ) ▁do ▁certame . ▁3 . ▁xxup ▁da ▁xxup ▁avaliação ▁xxup ▁psicológic a ▁3.1 ▁a ▁xxmaj ▁avaliação ▁xxmaj ▁psicológic a ▁será ▁realizada ▁por ▁psicólogo s ▁regular mente ▁inscrit os ▁em ▁xxmaj ▁conselho ▁xxmaj ▁regional ▁de ▁xxmaj ▁psicologia ▁e ▁con sisti rá ▁na ▁aplicação ▁de ▁entre vistas ▁e ▁/ ▁ou ▁ba teria s ▁de ▁testes ▁psicológic os , ▁de ▁aptidão , ▁san idade ▁mental , ▁de ▁p erson alidade , ▁por ▁meio ▁de ▁ instrument al ▁competente , ▁emba s ado ▁em ▁norma s ▁e ▁procedimento s ▁reconheci dos ▁pela ▁comunidade ▁científica , ▁ val ida dos ▁em ▁nível ▁nacional ▁e ▁em ▁ conformidade ▁com ▁as ▁norma s ▁do ▁xxmaj ▁conselho ▁xxmaj ▁federal ▁de ▁xxmaj ▁psicologia . ▁3.2 ▁xxmaj ▁os ▁requisit os ▁psicológic os ▁para ▁o ▁desempenh o ▁do ▁cargo ▁fora m ▁ estabelecidos ▁previamente , ▁por ▁meio ▁de ▁estudo ▁ ci ent í fi co ▁de ▁suas ▁atribuições ▁e ▁ responsabilidade s , ▁de s crição ▁detalha da ▁das ▁atividades ▁e ▁ tare fas , ▁identificação ▁dos ▁conhecimento s , ▁ha bilidade s ▁e ▁características ▁pessoa is ▁necessários ▁para ▁sua ▁execução ▁e ▁identificação ▁de ▁características ▁ res tri tivas ▁ou ▁impe di tivas ▁para ▁o ▁cargo . ▁3 .3 ▁a ▁xxmaj ▁avaliação ▁xxmaj ▁psicológic a ▁compreende rá ▁na ▁aplicação ▁de ▁instrumentos ▁cap a z es ▁de ▁a ferir , ▁de form a ▁objetiva ▁e ▁pad r on iza da , ▁os ▁requisit os ▁psicológic os ▁do ▁candidato ▁para ▁o ▁desempenh o ▁das ▁atribuições ▁in erente s ▁ao ▁cargo ▁pretendido . ▁3 .3 .1 ▁xxmaj ▁os ▁critérios ▁objetivos , ▁as ▁características ▁e ▁elemento s ▁a ▁serem ▁observado s ▁na ▁xxmaj ▁avaliação ▁consta m ▁especificado s ▁no ▁xxup ▁anexo ▁xxup ▁ii ▁deste ▁xxmaj ▁edital . ▁3.4 ▁o ▁resultado ▁na ▁xxmaj ▁avaliação ▁xxmaj ▁psicológic a ▁será ▁obtido ▁por ▁meio ▁da ▁análise ▁de ▁todo s ▁os ▁instrumentos ▁psicológic os ▁utilizado s , ▁considerando ▁os ▁critérios ▁ estabelecidos , ▁a ▁partir ▁do ▁estudo ▁ ci ent í fi co ▁do ▁cargo ▁pretendido , ▁os ▁quais ▁deverão ▁ser ▁relacionados ▁aos ▁requisit os ▁psicológic os ▁do ▁candidato ▁para ▁o ▁desempenh o ▁das ▁atribuições ▁in erente s ▁ao ▁cargo ▁pretendido , ▁result ando ▁nos ▁conceito s ▁para ▁os ▁candidatos ▁de ▁\" ap to \" ▁ou ▁\" ina p to \", ▁cujo ▁ s ig n ificado ▁de ▁cada ▁conceito ▁é : ▁a ) ▁xxup ▁apto : ▁ s ig ni f ica ▁que ▁o ▁candidato ▁apresentou , ▁na ▁época ▁da ▁aplicação ▁dos ▁ m é to dos ▁e ▁técnicas ▁da ▁avaliação ▁psicológic a , ▁o ▁xxmaj ▁ perf il ▁xxmaj ▁psicológic o ▁compatível ▁com ▁a ▁de s crição ▁das ▁atribuições ▁do ▁cargo . ▁ b ) ▁xxup ▁inapt o : ▁ s ig ni f ica ▁que ▁o ▁candidato ▁não ▁apresentou , ▁na ▁época ▁da ▁aplicação ▁dos ▁ m é to dos ▁e ▁técnicas ▁da ▁avaliação ▁psicológic a , ▁o ▁xxmaj ▁ perf il ▁xxmaj ▁psicológic o ▁compatível ▁com ▁a ▁de s crição ▁das ▁atribuições ▁do ▁cargo . ▁3 .5 ▁a ▁classificação ▁\" ina p to \" ▁na ▁xxmaj ▁avaliação ▁xxmaj ▁psicológic a ▁não ▁ s ig ni f ica rá , ▁ne cessar ia mente , ▁inc a pac idade ▁int el ec tua l ▁e ( ou ) ▁ex istência ▁de ▁trans torno s ▁de ▁p erson alidade ; ▁indica rá ▁apena s ▁que ▁o ▁candidato ▁não ▁atende u ▁aos ▁requisit os ▁para ▁o ▁desempenh o ▁das ▁atribuições ▁in erente s ▁ao ▁cargo ▁pretendido . ▁3.5. 1 ▁xxmaj ▁será ▁assegurado ▁ao ▁candidato ▁considerado ▁\" ina p to \" ▁na ▁xxmaj ▁avaliação ▁xxmaj ▁psicológic a ▁con h e cer ▁as ▁raz ões ▁que ▁determina ram ▁a ▁sua ▁\" ina p tidão \", ▁bem ▁como ▁a ▁po ssibilidade ▁de ▁interpo r ▁recurso . ▁3.5. 2 ▁xxmaj ▁não ▁ser ão ▁considerado s ▁exames ▁realizados ▁em ▁concurso s ▁anteriores ▁ou ▁em ▁outras ▁ instituições ▁para ▁fins ▁de ▁recurso ▁contra ▁a ▁decisão ▁de ▁\" ina p tidão \" ▁nesta ▁fase . ▁3.5. 3 ▁xxmaj ▁nenhum ▁candidato ▁\" ina p to \" ▁será ▁sub met ido ▁à ▁nova ▁avaliação ▁psicológic a ▁de ntro ▁do ▁presente ▁xxmaj ▁concurso ▁xxmaj ▁público . ▁4 . ▁xxup ▁dos ▁xxup ▁recursos ▁xxup ▁contra ▁o ▁xxup ▁resultado ▁xxup ▁provisóri o ▁xxup ▁na ▁xxup ▁avaliação ▁xxup ▁psicológic a ▁4 .1 ▁o ▁resultado ▁provisóri o ▁na ▁avaliação ▁psicológic a ▁será ▁publicado ▁em ▁04 ▁/ ▁02 ▁/ ▁19 . ▁o ▁candidato ▁considerado ▁xxup ▁inapt o ▁poder á ▁ter ▁conhecimento ▁das ▁raz ões ▁de ▁sua ▁\" ina p tidão \", ▁a trav és ▁do ▁procedimento ▁denominado ▁entre v ista ▁de vo l u ti va . ▁a ▁entre v ista ▁de vo l u ti va ▁será ▁exclusivamente ▁de ▁caráter ▁informativo ▁para ▁esclarecimento ▁do ▁motivo ▁da ▁\" ina p tidão \" ▁do ▁candidato ▁ao ▁pro pós ito ▁do ▁xxmaj ▁concurso ▁xxmaj ▁público , ▁não ▁sendo , ▁em ▁hipótese ▁algum a , ▁considerada ▁como ▁recurso ▁ou ▁nova ▁oportunidade ▁de ▁realização ▁do ▁teste , ▁tamp ou co ▁altera ▁o ▁ sta tu s ▁do ▁resultado ▁da ▁avaliação ▁psicológic a . ▁4.2 ▁o ▁candidato ▁interessado ▁em ▁realizar ▁a ▁entre v ista ▁de vo l u ti va , ▁deverá ▁sol ic it á - la ▁a trav és ▁de ▁link ▁próprio ▁disponíve l ▁no ▁site ▁w ww . ide can . org . br , ▁no ▁dia ▁04 ▁/ ▁02 ▁/ ▁19 . ▁xxmaj ▁no ▁período ▁determinado ▁para ▁a ▁solicitação ▁da ▁entre v ista ▁de vo l u ti va ▁da ▁xxmaj ▁avaliação ▁xxmaj ▁psicológic a , ▁de ▁caráter ▁me ra mente ▁informativo , ▁o ▁candidato ▁deverá ▁manifesta r ▁tam b ém ▁o ▁interesse ▁de ▁ser ▁assessora do ▁por ▁um ▁ profissional ▁psicólogo . ▁4 .3 ▁a ▁entre v ista ▁de vo l u ti va ▁será ▁realizada ▁no ▁dia ▁11 ▁/ ▁02 ▁/ ▁19 ▁em ▁local ▁e ▁endereço ▁a ▁ser ▁indicado ▁no ▁dia ▁08 ▁/ ▁02 ▁/ ▁19 ▁aos ▁candidatos ▁que ▁solicitar em ▁ tal ▁procedimento . ▁xxmaj ▁atende ndo ▁aos ▁di ta me s ▁previsto s ▁no ▁xxmaj ▁código ▁de ▁xxmaj ▁ ética ▁xxmaj ▁ profissional ▁do ▁xxmaj ▁psicólogo ▁e ▁nas ▁re soluções ▁do ▁xxmaj ▁conselho ▁xxmaj ▁federal ▁de ▁xxmaj ▁psicologia , ▁esse ▁procedimento ▁so mente ▁será ▁divulgad o ▁ao ▁candidato , ▁ uma ▁única ▁v ez , ▁de ▁forma ▁pessoal ▁e ▁individual , ▁pelo ▁ profissional ▁psicólogo ▁designado , ▁em ▁local ▁e ▁hora ▁predeterminado s ▁no ▁xxmaj ▁edital ▁de ▁xxmaj ▁convocação . ▁4 . 4 ▁xxmaj ▁no ▁momento ▁da ▁realização ▁do ▁procedimento ▁da ▁entre v ista ▁de vo l u ti va , ▁o ▁candidato ▁poder á ▁comparecer ▁acompanhado ▁de ▁um ▁ profissional ▁psicólogo , ▁ne cessar ia mente ▁inscrit o ▁no ▁xxmaj ▁conselho ▁xxmaj ▁regional ▁de ▁xxmaj ▁psicologia . ▁4 .5 ▁xxmaj ▁não ▁será ▁permitid o ▁ao ▁candidato , ▁ne m ▁ao ▁psicólogo ▁assistente , ▁gra va r ▁a ▁entre v ista ▁de vo l u ti va ▁e ▁ne m ▁re ti ra r , ▁foto g ra f ar ▁ou ▁re pro d u zi r ▁os ▁manuais ▁técnicos , ▁os ▁testes ▁psicológic os ▁e ▁as ▁folha s ▁de ▁ res postas ▁do ▁candidato . ▁4 . 6 ▁xxmaj ▁em ▁caso ▁de ▁nome ação ▁de ▁psicólogo , ▁a ▁presença ▁do ▁candidato ▁no ▁atendimento ▁será ▁fac ul t ativa , ▁de s de ▁que ▁ aquel e ▁ profissional ▁apresente ▁procura ção ▁do ▁candidato ▁registrad a ▁em ▁cartório ▁conf eri ndo - lhe ▁o ▁poder ▁de ▁re p res ent á - lo . ▁4 . 7 ▁o ▁trabalho ▁realizado ▁pelo ▁psicólogo ▁nomead o , ▁incluindo ▁o ▁ si gi lo ▁sobre ▁os ▁resultados ▁obtido s ▁na ▁xxmaj ▁avaliação ▁xxmaj ▁psicológic a , ▁deverá ▁ser ▁pauta do ▁pela ▁legislação ▁que ▁reg ula ▁o ▁exercício ▁da ▁ profissão . ▁4 . 8 ▁xxmaj ▁será ▁e s cl are cido ▁ao ▁psicólogo ▁nomead o ▁quais ▁fora m ▁os ▁instrumentos ▁e ▁técnicas ▁utilizado s ▁na ▁xxmaj ▁avaliação ▁xxmaj ▁psicológic a ▁e ▁raz ões ▁da ▁\" ina p tidão \". ▁4 . 9 ▁xxmaj ▁para ▁efeito ▁de ▁assessor amento ▁do ▁candidato ▁na ▁interposição ▁de ▁recurso , ▁o ▁psicólogo ▁nomead o ▁deverá ▁se ▁a ter ▁à ▁análise ▁do ▁material ▁psicológic o ▁p roduzid o ▁pelo ▁candidato . ▁o ▁psicólogo ▁nomead o ▁terá ▁acesso ▁ao ▁exame ▁so mente ▁na ▁data ▁a ge nd ada ▁e ▁local ▁previsto ▁para ▁abertura ▁de ▁vista . ▁4 . 10 ▁xxmaj ▁para ▁interposição ▁de ▁recurso ▁não ▁será ▁admitid a ▁a ▁nome ação , ▁pelo ▁candidato , ▁de ▁psicólogo ▁pertencente ▁aos ▁quadro s ▁( e fe tivo s ▁ou ▁não ) ▁do ▁xxmaj ▁distrito ▁xxmaj ▁federal ▁ou ▁que ▁tenha m ▁ví ncul o ▁com ▁o ▁xxup ▁ ide can . ▁4 . 11 ▁o ▁psicólogo ▁nomead o ▁deverá ▁apresentar ▁nas ▁raz ões ▁disposta s ▁seu ▁nome ▁completo , ▁número ▁de ▁registro ▁no ▁xxup ▁cr p , ▁endereço , ▁telefone ▁comercial , ▁al ém ▁de ▁prestar ▁declaração ▁por ▁ escrito ▁de ▁que ▁possui ▁do mínio ▁das ▁técnicas ▁e ▁instrumentos ▁utilizado s . ▁4 . 12 ▁xxmaj ▁caso ▁ op te ▁por ▁não ▁ser ▁assessora do ▁por ▁um ▁psicólogo , ▁o ▁candidato ▁poder á ▁ser ▁a te ndi do ▁em ▁sessão ▁individual , ▁a ge nd ada ▁pelo ▁xxup ▁ ide can , ▁na ▁qual ▁ to mar á ▁conhecimento ▁das ▁raz ões ▁de ▁sua ▁\" ina p tidão \". ▁4 . 13 ▁o ▁candidato ▁que ▁de se jar ▁interpo r ▁recursos ▁contra ▁o ▁resultado ▁provisóri o ▁na ▁xxmaj ▁avaliação ▁xxmaj ▁psicológic a ▁disp o rá ▁de ▁10 ▁( dez ) ▁dias ▁úteis ▁para ▁faz ê - lo ▁- ▁12 ▁/ ▁02 ▁/ ▁19 ▁a ▁25 ▁/ ▁02 ▁/ ▁19 . ▁4 . 14 ▁o ▁resultado ▁definitivo ▁da ▁avaliação ▁psicológic a ▁será ▁publicado ▁em ▁28 ▁/ ▁02 ▁/ ▁19 . ▁xxmaj ▁brasília ▁/ ▁xxup ▁df , ▁07 ▁de ▁janeiro ▁de ▁2019. ▁xxup ▁regina ldo ▁xxup ▁ferreira ▁xxup ▁de ▁xxup ▁lima ▁xxup ▁anexo ▁i ▁- ▁xxup ▁candidatos ▁xxup ▁convocados ▁ . ▁xxup ▁inscrição ▁xxup ▁nome ▁xxup ▁cargo ▁ . ▁ 72 8 0040 00 ▁xxmaj ▁gabriel a ▁xxmaj ▁maia ▁da ▁xxmaj ▁silva ▁xxup ▁oficial ▁xxup ▁bombeiro ▁xxup ▁militar ▁xxup ▁combatente ▁xxup ▁anexo ▁xxup ▁ii ▁- ▁xxup ▁ perf il ▁xxup ▁psicológic o ▁xxmaj ▁as ▁dimens ões ▁class i f ica m - se ▁em ▁\" e le va do \" ▁( mu ito ▁acima ▁dos ▁n íveis ▁ med iano s ), ▁\" a de qu ado \" ▁( de ntro ▁dos ▁n íveis ▁ med iano s ), ▁\" b a ixo \" ▁( a b a ixo ▁dos ▁n íveis ▁ med iano s ) ▁e ▁\" a us ente \" ▁( não ▁apresenta ▁a ▁ car ac ter ís tica ). ▁1. ▁xxup ▁controle ▁xxup ▁em o cional ▁xxup ▁( a u to co ntro le ) : ▁xxmaj ▁de s crição : ▁xxmaj ▁ha bilidade ▁de ▁reconhece r ▁as ▁própria s ▁em o ções ▁diante ▁de ▁um ▁est í mu lo , ▁co ntro la ndo - as ▁de ▁forma ▁que ▁não ▁inter fi ram ▁em ▁seu ▁com port amento ; ▁xxmaj ▁dimens ão : ▁xxmaj ▁eleva do . ▁2. ▁xxup ▁an si e dade : ▁xxmaj ▁de s crição : ▁xxmaj ▁a cel er ação ▁das ▁funções ▁orgânica s , ▁causa ndo ▁a gi tação ▁em o cional ▁que ▁ pode ▁a fet ar ▁a ▁capacidade ▁co g ni ti va ▁do ▁candidato ; ▁devido ▁à ▁ ante ci pa ção ▁de ▁consequência s ▁fut uras , ▁a ▁pre o c up ação ▁ ante ci pa da ▁leva ▁a ▁um ▁estado ▁de ▁pre para ção ▁física ▁e ▁psicológic a ▁para ▁de fe nde r ▁a ▁ inco l um idade ▁pessoal ▁contra ▁ uma ▁possível ▁ad ver s idade , ▁o ▁que ▁deix a ▁o ▁ind iv í d u o ▁em ▁constante ▁estado ▁de ▁a ler ta ▁( fas e ▁1 ▁do ▁ciclo ▁de ▁ estre s se ); ▁xxmaj ▁dimens ão : ▁xxmaj ▁ba ixo . ▁3 . ▁xxup ▁imp ul s iv idade : ▁xxmaj ▁de s crição : ▁xxmaj ▁inc a pac idade ▁de ▁controlar ▁as ▁em o ções ▁e ▁ten d ência ▁a ▁ rea gi r ▁de ▁forma ▁ br us ca ▁e ▁int en s a , ▁diante ▁de ▁um ▁est í mu lo ▁interno ▁ou ▁ externo ; ▁xxmaj ▁dimens ão : ▁xxmaj ▁ba ixo . ▁4 . ▁xxup ▁auto con f iança : ▁xxmaj ▁de s crição : ▁xxmaj ▁a ti tu de ▁de ▁auto do mínio ▁do ▁candidato , ▁presença ▁de ▁ esp í rito ▁e ▁conf iança ▁nos ▁próprios ▁recursos , ▁estabelece ndo ▁contato s ▁de ▁forma ▁ res o l u ta ▁e ▁de ci di da . ▁xxmaj ▁capacidade ▁de ▁reconhece r ▁suas ▁características ▁pessoa is ▁do min antes ▁e ▁a cre di tar ▁em ▁ si ▁mesmo ; ▁xxmaj ▁dimens ão : ▁xxmaj ▁adequad o . ▁5 . ▁xxup ▁ res istência ▁à ▁xxup ▁fr us tra ção : ▁xxmaj ▁de s crição : ▁xxmaj ▁capacidade ▁de ▁a b s o r ver ▁e ▁ li da r ▁objetiva ▁e ▁e f ica z mente ▁com ▁situa ções ▁fr ust r antes ; ▁xxmaj ▁dimens ão : ▁xxmaj ▁adequad o . ▁ 6. ▁xxup ▁ag res s iv idade : ▁xxmaj ▁de s crição : ▁xxmaj ▁manifesta ção ▁de ▁ten d ência ▁ao ▁ata que ▁em ▁o posição ▁à ▁f ug a ▁de ▁ peri go s ▁ou ▁ enf r ent amento ▁de ▁di fi cul dade s ; ▁xxmaj ▁dimens ão : ▁xxmaj ▁ba ixo . ▁ 7. ▁xxup ▁po te n cial ▁xxup ▁de ▁xxup ▁desenvolvimento ▁xxup ▁co g ni tivo : ▁xxmaj ▁de s crição : ▁xxmaj ▁grau ▁de ▁inteligência ▁geral ▁( f ato r ▁xxup ▁g ), ▁de ntro ▁de ▁faixa ▁me dia na ▁pad r on iza da ▁para ▁a ▁análise , ▁a lia do ▁à ▁recep ti v idade ▁para ▁incorpora r ▁novos ▁conhecimento s ▁e ▁re estrutura r ▁conceito s ▁já ▁ estabelecidos , ▁a ▁fim ▁de ▁dir ig ir ▁adequa damente ▁seu ▁com port amento ; ▁xxmaj ▁dimens ão : ▁xxmaj ▁eleva do . ▁ 8. ▁xxup ▁disposição ▁xxup ▁para ▁o ▁xxup ▁trabalho : ▁xxmaj ▁de s crição : ▁xxmaj ▁capacidade ▁para ▁ li da r , ▁de ▁ man eira ▁prod u ti va , ▁com ▁ tare fas ▁sob ▁sua ▁ responsabilidade , ▁particip ando ▁de las ▁de ▁ man eira ▁const r u ti va ; ▁xxmaj ▁dimens ão : ▁xxmaj ▁eleva do . ▁ 9. ▁xxup ▁iniciativa : ▁xxmaj ▁de s crição : ▁xxmaj ▁capacidade ▁de ▁a gi r ▁adequa damente ▁sem ▁depend er ▁de ▁ordem ▁ou ▁decisão ▁superior ▁em ▁situa ções ▁específica s ; ▁xxmaj ▁dimens ão : ▁xxmaj ▁eleva do . ▁10 . ▁xxup ▁po te n cial ▁xxup ▁de ▁xxup ▁ li der a nça : ▁xxmaj ▁de s crição : ▁xxmaj ▁ha bilidade ▁para ▁agrega r ▁as ▁força s ▁ l at entes ▁existente s ▁em ▁um ▁grupo , ▁can al izando - as ▁no ▁senti do ▁de ▁ tra b a lha rem ▁de ▁mo do ▁ha r m ô ni co ▁e ▁co es o ▁na ▁solução ▁de ▁pro b l ema s ▁com u ns ▁visa ndo ▁atingi r ▁objetivos ▁pré - de fi ni dos . ▁xxmaj ▁fac il idade ▁para ▁condu zi r , ▁coordena r ▁e ▁dir ig ir ▁as ▁ações ▁das ▁pessoas , ▁para ▁que ▁a tu em ▁com ▁exce l ência ▁e ▁mo ti va ção , ▁esta ndo ▁o ▁fut ur o ▁ l í der ▁disponíve l ▁para ▁ser ▁treina do ▁em ▁sua ▁po te n cial idade ; ▁xxmaj ▁dimens ão : ▁xxmaj ▁eleva do . ▁11 . ▁xxup ▁so cia bilidade ▁xxup ▁( r ela cio na mento ▁xxup ▁inter pe sso al ) : ▁xxmaj ▁de s crição : ▁xxmaj ▁capacidade ▁de ▁per ceb er ▁e ▁ rea gi r ▁adequa damente ▁às ▁necessidades , ▁senti mento s ▁e ▁com port amento s ▁dos ▁outros ; ▁xxmaj ▁dimens ão : ▁xxmaj ▁eleva do . ▁12 . ▁xxup ▁flex i bilidade ▁xxup ▁de ▁xxup ▁condut a ▁xxup ▁( adapta bilidade ) : ▁xxmaj ▁de s crição : ▁xxmaj ▁capacidade ▁de ▁di ver si fi car ▁seu ▁com port amento , ▁de ▁mo do ▁ adapta tivo , ▁a tua ndo ▁adequa damente , ▁de ▁acordo ▁com ▁as ▁exigências ▁de ▁cada ▁situação ▁em ▁que ▁esti ver ▁inserido ; ▁xxmaj ▁dimens ão : ▁xxmaj ▁eleva do . ▁13 . ▁xxup ▁ cri at iv idade : ▁xxmaj ▁de s crição : ▁xxmaj ▁ha bilidade ▁do ▁candidato ▁para ▁ ti ra r ▁conclus ões ▁e ▁re vita l izar ▁ soluções ▁ antig as ▁a ▁que ▁ch eg ou ▁pela ▁própria ▁ex peri ência ▁anterior ▁e ▁vi v ência ▁interna , ▁apresenta ndo ▁então ▁nova s ▁ soluções ▁para ▁os ▁pro b l ema s ▁existente s , ▁procura ndo ▁assim ▁busca r ▁forma s ▁cada ▁v ez ▁mais ▁e f ica z es ▁de ▁realizar ▁ações ▁e ▁atingi r ▁objetivos , ▁vale ndo - se ▁dos ▁meio s ▁disponíve is ▁no ▁momento ; ▁xxmaj ▁dimens ão : ▁xxmaj ▁eleva do . ▁14 . ▁xxup ▁ responsabilidade : ▁xxmaj ▁de s crição : ▁xxmaj ▁capacidade ▁do ▁ind iv í d u o ▁em ▁ to mar ▁decisões , ▁ assu min do ▁suas ▁consequência s ; ▁xxmaj ▁dimens ão : ▁xxmaj ▁eleva do . ▁15 . ▁xxup ▁as se rt iv idade : ▁xxmaj ▁de s crição : ▁xxmaj ▁capacidade ▁de ▁expressa r - se ▁corre ta mente , ▁deix ando ▁clara ▁a ▁sua ▁v on ta de , ▁a gi ndo ▁ ativa mente ▁para ▁sua ▁aquisição ; ▁xxmaj ▁dimens ão : ▁xxmaj ▁eleva do . ▁16 . ▁xxup ▁disciplina : ▁xxmaj ▁de s crição : ▁xxmaj ▁capacidade ▁de ▁a ter - se ▁a ▁um ▁ m é to do , ▁ uma ▁ordem , ▁ uma ▁ man eira ▁de ▁ser ▁e ▁de ▁a gi r ; ▁xxmaj ▁dimens ão : ▁xxmaj ▁eleva do . ▁xxup ▁17 . org a nização : ▁xxmaj ▁de s crição : ▁xxmaj ▁capacidade ▁de ▁desenvolve r ▁atividades , ▁sistema t izando ▁as ▁ tare fas ; ▁xxmaj ▁dimens ão : ▁xxmaj ▁eleva do . ▁18 . ▁xxup ▁per s ever a nça : ▁xxmaj ▁de s crição : ▁xxmaj ▁capacidade ▁para ▁executa r ▁ uma ▁ tare f a , ▁vencendo ▁as ▁di fi cul dade s ▁encontra das ▁até ▁con cl u í - ▁ la ; ▁xxmaj ▁dimens ão : ▁xxmaj ▁eleva do . ▁19 . ▁xxup ▁atenção ▁xxup ▁con c ent rad a : ▁xxmaj ▁de s crição : ▁xxmaj ▁capacidade ▁de ▁ dis cri min ar ▁e ▁local izar , ▁ rap ida mente , ▁partes ▁de ▁um ▁todo : ▁per ceb er ▁e ▁ dis t ing ui r ▁sem e lha nça s ▁e ▁di fer e nça s ▁ pe que na s , ▁em ▁dois ▁objeto s ▁a par ente mente ▁igua is ▁ou ▁di fer entes ; ▁xxmaj ▁dimens ão : ▁xxmaj ▁adequad o . ▁20 . ▁xxup ▁me ti culos idade : ▁xxmaj ▁de s crição : ▁xxmaj ▁capacidade ▁de ▁a gi r ▁a tendo - se ▁a ▁de ta lhe s ; ▁xxmaj ▁dimens ão : ▁xxmaj ▁adequad o . ▁21 . ▁xxup ▁o b je ti v idade : ▁xxmaj ▁de s crição : ▁xxmaj ▁capacidade ▁de ▁seleciona r , ▁de ntre ▁v árias ▁po ssibilidade s , ▁o ▁e ssen cial ▁e ▁necessário ▁para ▁atingi r ▁ uma ▁determina da ▁meta ; ▁xxmaj ▁dimens ão : ▁xxmaj ▁eleva do . ▁22 . ▁xxup ▁se ns o ▁xxup ▁cr í tico : ▁xxmaj ▁de s crição : ▁xxmaj ▁capacidade ▁de ▁analisa r ▁imp ar cial mente ▁um ▁f ato , ▁um ▁evento , ▁ uma ▁ op ini ão , ▁sub me tendo - os ▁a ▁ uma ▁aprecia ção ▁científica ; ▁xxmaj ▁dimens ão : ▁xxmaj ▁adequad o . ▁23 . ▁xxup ▁capacidade ▁xxup ▁de ▁xxup ▁ra cio c í ni o ▁xxup ▁a b s trato : ▁xxmaj ▁de s crição : ▁xxmaj ▁capacidade ▁de ▁estabelece r ▁rela ções ▁a b s trata s ▁e ▁em ▁situa ções ▁nova s ▁para ▁as ▁quais ▁se ▁po s sua ▁p ou co ▁conhecimento ▁previamente ▁ ap re ndi do ; ▁xxmaj ▁dimens ão : ▁xxmaj ▁eleva do . ▁24 . ▁xxup ▁capacidade ▁xxup ▁de ▁xxup ▁ra cio c í ni o ▁xxup ▁num érico : ▁xxmaj ▁de s crição : ▁xxmaj ▁capacidade ▁de ▁compreende r ▁e ▁manej ar ▁sistemas ▁num érico s , ▁real izando ▁operações ▁mat e mática s ▁com ▁ex a tidão ; ▁capacidade ▁de ▁inter p re tar ▁dados ▁quantitativo s ; ▁xxmaj ▁dimens ão : ▁xxmaj ▁eleva do . ▁25 . ▁xxup ▁me m ó ria ▁xxup ▁visual : ▁xxmaj ▁de s crição : ▁xxmaj ▁capacidade ▁re cord ar ▁informações , ▁dados , ▁fatos , ▁conhecimento s ▁per ceb idos ▁e ▁f isio no m ia ▁de ▁pessoas , ▁mantendo ▁a ▁ l em br a nça ▁de ▁qual quer ▁co is a ▁ou ▁de ▁al gu ém ; ▁xxmaj ▁dimens ão : ▁xxmaj ▁eleva do . ▁26 . ▁xxup ▁atenção ▁xxup ▁di f usa : ▁xxmaj ▁de s crição : ▁xxmaj ▁mante r ▁a ▁con c ent r ação ▁em ▁ uma ▁da da ▁ tare f a ▁ao ▁mesmo ▁tempo ▁em ▁que ▁está ▁ at ent o ▁ao ▁que ▁está ▁a con tec e ndo ▁a ▁sua ▁ vo l ta ; ▁xxmaj ▁dimens ão : ▁xxmaj ▁eleva do . ▁27 . ▁xxup ▁ra cio c í ni o ▁xxup ▁ l ó gi co : ▁xxmaj ▁de s crição : ▁xxmaj ▁saber ▁resolve r ▁pro b l ema s ▁com ▁o b je ti v idade , ▁co er ência ▁e ▁ra pi dez ; ▁xxmaj ▁dimens ão : ▁xxmaj ▁eleva do . ▁28 . ▁xxup ▁d estre za : ▁xxmaj ▁de s crição : ▁xxmaj ▁capacidade ▁e ▁ car ac ter ís tica ▁que ▁qual i f ica ▁ uma ▁pessoa ▁hábil , ▁que ▁con se gu e ▁realizar ▁funções ▁com ▁perícia , ▁aptidão , ▁ag il idade ▁e ▁ra pi dez . ▁xxmaj ▁dimens ão : ▁xxmaj ▁eleva do .,▁xxbos ▁o ▁xxup ▁diretor - geral ▁xxup ▁do ▁xxup ▁departamento ▁xxup ▁de ▁xxup ▁trânsito ▁xxup ▁do ▁xxup ▁distrito ▁xxup ▁federal , ▁no ▁uso ▁da ▁a tribuição ▁prevista ▁no ▁art . ▁3 o , ▁do ▁xxmaj ▁decreto ▁no ▁39.002 , ▁de ▁24 ▁de ▁abri l ▁de ▁2018, ▁que ▁regulamenta ▁os ▁arts . ▁44 ▁e ▁45 ▁da ▁xxmaj ▁lei ▁xxmaj ▁complementar ▁no ▁ 840, ▁de ▁23 ▁de ▁dezembro ▁de ▁2011, ▁e ▁conforme ▁xxmaj ▁processo ▁xxup ▁sei ▁no ▁00055-001 65 4 25 ▁/ ▁2018-83 , ▁resolve : ▁xxup ▁designar ▁xxup ▁marco s ▁xxup ▁antônio ▁xxup ▁chaves ▁xxup ▁dos ▁xxup ▁santos , ▁xxmaj ▁assistente ▁de ▁xxmaj ▁trânsito , ▁matrícula ▁ 1.0 92-8, ▁para ▁substituir ▁xxup ▁francisco ▁xxup ▁de r i ck ▁xxup ▁sousa ▁xxup ▁carvalho , ▁xxmaj ▁assistente ▁de ▁xxmaj ▁trânsito , ▁matrícula ▁250.44 1-3, ▁chefe , ▁símbolo ▁xxup ▁dfg -12, ▁do ▁xxmaj ▁núcleo ▁de ▁xxmaj ▁arquivo ▁- ▁xxmaj ▁nu arq , ▁da ▁xxmaj ▁gerência ▁de ▁xxmaj ▁documentação ▁- ▁xxmaj ▁ger doc , ▁da ▁xxmaj ▁diretoria ▁de ▁xxmaj ▁administração ▁xxmaj ▁geral ▁- ▁xxmaj ▁dir a g , ▁do ▁xxmaj ▁detran ▁/ ▁xxup ▁df , ▁no ▁período ▁de ▁07 ▁a ▁25 ▁/ ▁01 ▁/ ▁2019, ▁por ▁motivo ▁de ▁férias ▁do ▁titular . ▁xxup ▁fabr ício ▁xxup ▁lima ▁xxup ▁de ▁xxup ▁andrade ▁xxup ▁moura\n",
       "y: CategoryList\n",
       "SECRETARIA DE ESTADO DE FAZENDA, PLANEJAMENTO, ORÇAMENTO E GESTÃO,SECRETARIA DE ESTADO DE SEGURANÇA PÚBLICA,SECRETARIA DE ESTADO DE SEGURANÇA PÚBLICA,SECRETARIA DE ESTADO DE SEGURANÇA PÚBLICA,SECRETARIA DE ESTADO DE SEGURANÇA PÚBLICA\n",
       "Path: .;\n",
       "\n",
       "Valid: LabelList (96 items)\n",
       "x: TextList\n",
       "▁xxbos ▁xxmaj ▁processo : ▁00080-0020 43 12 ▁/ ▁2018-30 : ▁xxmaj ▁reconhecimento ▁de ▁dívida . ▁à ▁vista ▁da ▁instrução ▁dos ▁presente s ▁autos ▁e ▁conforme ▁disp ô s ▁na ▁xxmaj ▁lei ▁de ▁xxmaj ▁diretrizes ▁xxmaj ▁orçamentárias , ▁combinado ▁com ▁a ▁xxmaj ▁lei ▁xxmaj ▁orçamentária ▁anual , ▁com ▁base ▁nos ▁xxmaj ▁art . ▁58, ▁ 59 ▁e ▁61 ▁da ▁xxmaj ▁lei ▁4.320, ▁de ▁17 ▁de ▁març o ▁de ▁1964 , ▁incisos ▁xxup ▁ii , ▁xxup ▁iv ▁e ▁v ▁xxmaj ▁art . ▁30 ▁e ▁xxmaj ▁art . ▁ 86 ▁do ▁xxmaj ▁decreto ▁32.598 , ▁de ▁15 ▁de ▁dezembro ▁de ▁2010, ▁bem ▁como , ▁o ▁xxmaj ▁decreto ▁no ▁37 .5 94 ▁/ ▁2016, ▁c ▁/ ▁c ▁xxmaj ▁decreto ▁no ▁37.6 60 , ▁de ▁28 ▁de ▁setembro ▁de ▁2016, ▁que ▁dispõe ▁sobre ▁o ▁reconhecimento ▁de ▁despesas ▁de ▁exercício s ▁anteriores . ▁xxmaj ▁reconheço ▁a ▁dívida , ▁determin o ▁a ▁emissão ▁de ▁xxmaj ▁nota ▁de ▁xxmaj ▁empenho , ▁xxmaj ▁liquid ação ▁e ▁xxmaj ▁pagamento , ▁no ▁valor ▁total ▁de ▁xxup ▁r $ 38 6. 86 0, 49 ▁( trezentos ▁e ▁oitenta ▁e ▁seis ▁mil ▁oitocentos ▁e ▁sessenta ▁reais ▁e ▁quarenta ▁e ▁nove ▁centavos ), ▁referente ▁à ▁xxmaj ▁folha ▁de ▁xxmaj ▁pagamento ▁do ▁mês ▁12 ▁/ ▁2018, ▁xxmaj ▁vers ão ▁10 , ▁xxmaj ▁grupo s ▁ 34 ▁- ▁xxmaj ▁a certo ▁de ▁aposentad os ▁e ▁pensionistas , ▁relativo ▁ao ▁mês ▁de ▁dezembro ▁de ▁2018, ▁da ▁empresa ▁ 65 2, ▁à ▁conta ▁do ▁elemento ▁de ▁despesa ▁3 1.90 . 92. ▁xxmaj ▁francisco ▁das ▁xxmaj ▁chagas ▁xxmaj ▁paiva ▁da ▁xxmaj ▁silva ▁- ▁xxmaj ▁subsecretário ▁de ▁xxmaj ▁administração ▁xxmaj ▁geral .,▁xxbos ▁a ▁xxup ▁secretaria ▁xxup ▁de ▁xxup ▁estado ▁xxup ▁de ▁xxup ▁saúde ▁xxup ▁do ▁xxup ▁distrito ▁xxup ▁federal , ▁no ▁uso ▁de ▁suas ▁atribuições ▁que ▁lhe ▁confere ▁o ▁xxmaj ▁inciso ▁xxup ▁x , ▁do ▁xxmaj ▁artigo ▁2 o , ▁da ▁xxmaj ▁portaria ▁no . ▁116, ▁de ▁01 ▁de ▁setembro ▁de ▁2005, ▁publicada ▁no ▁xxup ▁dodf ▁no . ▁169 , ▁de ▁05 ▁de ▁setembro ▁de ▁2005, ▁xxup ▁convoca ▁as ▁empresas ▁abaixo ▁relacionadas , ▁sob ▁pena ▁de ▁aplicação ▁das ▁penalidades ▁previstas ▁no ▁artigo ▁81 ▁da ▁xxmaj ▁lei ▁no ▁8.666 ▁/ ▁93 ▁e ▁no ▁xxmaj ▁decreto ▁no ▁26.851 ▁/ ▁2006, ▁para ▁assinatura ▁da ▁xxmaj ▁ata ▁de ▁xxmaj ▁registro ▁de ▁xxmaj ▁preços ▁no ▁4 94 ▁/ ▁2018, ▁4 92 ▁/ ▁2018 ▁no ▁prazo ▁de ▁03 ▁( três ) ▁dias ▁a ▁contar ▁desta ▁publicação , ▁comparece ndo ▁no ▁xxup ▁sain ▁- ▁xxmaj ▁setor ▁de ▁xxmaj ▁áreas ▁xxmaj ▁isolad as ▁xxmaj ▁norte ▁- ▁xxmaj ▁parque ▁xxmaj ▁rural ▁ s ▁/ ▁no ▁- ▁xxmaj ▁prédio ▁da ▁xxmaj ▁emater ▁- ▁xxmaj ▁asa ▁xxmaj ▁norte ▁- ▁xxmaj ▁bloco ▁xxup ▁\" a \", ▁xxup ▁suag , ▁xxup ▁cep ▁70. 770-200 ▁xxup ▁ata ▁no ▁4 92 ▁/ ▁2018- ▁xxup ▁processo ▁xxup ▁sei ▁00060-0011 75 34 ▁/ ▁2017- 15 ▁- ▁xxup ▁can on ▁xxup ▁medica l ▁xxup ▁ system s ▁xxup ▁do ▁xxup ▁brasil ▁xxup ▁ltda . ▁xxup ▁ata ▁no ▁4 94 ▁/ ▁2018 ▁- ▁xxup ▁processo ▁xxup ▁sei ▁00060-0036 82 83 ▁/ ▁2018-16 ▁- ▁xxup ▁san o fi - av ent is ▁xxup ▁farmaceutic a ▁xxup ▁ltda . ▁xxup ▁leon ardo ▁xxup ▁rosário ▁xxup ▁de ▁xxup ▁alcântara ▁xxmaj ▁subsecretário,▁xxbos ▁o ▁xxup ▁governador ▁xxup ▁do ▁xxup ▁distrito ▁xxup ▁federal , ▁no ▁uso ▁das ▁atribuições ▁que ▁lhe ▁confere ▁o ▁artigo ▁100, ▁incisos ▁xxup ▁xxvi ▁e ▁xxup ▁xxvii , ▁da ▁xxmaj ▁lei ▁xxmaj ▁orgânica ▁do ▁xxmaj ▁distrito ▁xxmaj ▁federal , ▁resolve : ▁xxup ▁nomear ▁xxup ▁raphael a ▁xxup ▁santos ▁xxup ▁vieira ▁para ▁exercer ▁o ▁xxmaj ▁cargo ▁de ▁xxmaj ▁natureza ▁xxmaj ▁especial , ▁xxmaj ▁símbolo ▁xxup ▁cne - ▁01 , ▁de ▁xxmaj ▁chefe ▁de ▁xxmaj ▁gabinete ▁xxmaj ▁adjunto , ▁da ▁xxmaj ▁governadoria ▁do ▁xxmaj ▁distrito ▁xxmaj ▁federal . ▁xxup ▁nomear ▁xxup ▁marcel o ▁xxup ▁martins ▁xxup ▁da ▁xxup ▁cunha ▁para ▁exercer ▁o ▁xxmaj ▁cargo ▁de ▁xxmaj ▁natureza ▁xxmaj ▁especial , ▁xxmaj ▁símbolo ▁xxup ▁cne -01, ▁de ▁xxmaj ▁secretário ▁xxmaj ▁adjunto , ▁da ▁xxmaj ▁secretaria ▁de ▁xxmaj ▁estado ▁da ▁xxmaj ▁casa ▁xxmaj ▁civil ▁do ▁xxmaj ▁distrito ▁xxmaj ▁federal . ▁xxup ▁nomear ▁xxup ▁a line ▁xxup ▁de ▁xxup ▁pieri ▁para ▁exercer ▁o ▁xxmaj ▁cargo ▁de ▁xxmaj ▁natureza ▁xxmaj ▁especial , ▁xxmaj ▁símbolo ▁xxup ▁cne -01, ▁de ▁xxmaj ▁diretor ▁xxmaj ▁executivo , ▁da ▁xxmaj ▁diretoria ▁xxmaj ▁executiva , ▁do ▁xxmaj ▁jardim ▁xxmaj ▁botânico ▁de ▁xxmaj ▁brasília . ▁xxup ▁nomear ▁xxup ▁marcel o ▁xxup ▁de ▁xxup ▁souza ▁xxup ▁do ▁xxup ▁nascimento ▁para ▁exercer ▁o ▁xxmaj ▁cargo ▁de ▁xxmaj ▁natureza ▁xxmaj ▁especial , ▁xxmaj ▁símbolo ▁xxup ▁cne -01, ▁de ▁xxmaj ▁diretor ▁xxmaj ▁geral , ▁do ▁xxmaj ▁instituto ▁de ▁xxmaj ▁defesa ▁do ▁xxmaj ▁consumidor ▁do ▁xxmaj ▁distrito ▁xxmaj ▁federal ▁- ▁xxup ▁proc on ▁/ ▁xxup ▁df ▁xxup ▁nomear ▁xxup ▁ricardo ▁xxup ▁alexandre ▁xxup ▁rodrigues ▁xxup ▁peres ▁para ▁exercer ▁o ▁xxmaj ▁cargo ▁de ▁xxmaj ▁natureza ▁xxmaj ▁especial , ▁xxmaj ▁símbolo ▁xxup ▁cne -02, ▁de ▁xxmaj ▁presidente , ▁xxmaj ▁instituto ▁de ▁xxmaj ▁assistência ▁à ▁xxmaj ▁saúde ▁dos ▁xxmaj ▁servidores ▁do ▁xxmaj ▁distrito ▁xxmaj ▁federal ▁- ▁xxup ▁ ina s ▁/ ▁xxup ▁df ▁xxup ▁nomear ▁xxup ▁ele uteri a ▁xxup ▁guerra ▁xxup ▁pacheco ▁xxup ▁mendes ▁para ▁exercer ▁o ▁xxmaj ▁cargo ▁de ▁xxmaj ▁natureza ▁xxmaj ▁especial , ▁xxmaj ▁símbolo ▁xxup ▁cne -01, ▁de ▁xxmaj ▁diretor ▁xxmaj ▁presidente , ▁da ▁xxmaj ▁fundação ▁xxmaj ▁jardim ▁xxmaj ▁zoológico ▁de ▁xxmaj ▁brasília . ▁xxup ▁nomear ▁xxup ▁carlo s ▁xxup ▁emi lson ▁xxup ▁ferreira ▁xxup ▁dos ▁xxup ▁santos ▁para ▁exercer ▁o ▁xxmaj ▁cargo ▁de ▁xxmaj ▁natureza ▁xxmaj ▁política , ▁xxmaj ▁símbolo ▁xxup ▁cnp -03 , ▁de ▁xxmaj ▁comandante ▁xxmaj ▁geral , ▁do ▁xxmaj ▁corpo ▁de ▁xxmaj ▁bombeiros ▁xxmaj ▁militar ▁do ▁xxmaj ▁distrito ▁xxmaj ▁federal . ▁xxup ▁nomear ▁xxup ▁f auzi ▁xxup ▁na c fur ▁para ▁exercer ▁o ▁xxmaj ▁cargo ▁de ▁xxmaj ▁natureza ▁xxmaj ▁especial , ▁xxmaj ▁símbolo ▁xxup ▁cne -01, ▁de ▁xxmaj ▁diretor , ▁da ▁xxmaj ▁diretoria ▁xxmaj ▁geral , ▁do ▁xxmaj ▁departamento ▁de ▁xxmaj ▁e str ada ▁e ▁xxmaj ▁rodagem ▁do ▁xxmaj ▁distrito ▁xxmaj ▁federal . ▁xxup ▁nomear ▁xxup ▁fabr ício ▁xxup ▁moura ▁para ▁exercer ▁o ▁xxmaj ▁cargo ▁de ▁xxmaj ▁natureza ▁xxmaj ▁política , ▁xxmaj ▁símbolo ▁xxup ▁cnp -03 , ▁de ▁xxmaj ▁diretor ▁xxmaj ▁geral , ▁do ▁xxmaj ▁departamento ▁de ▁xxmaj ▁trânsito ▁do ▁xxmaj ▁distrito ▁xxmaj ▁federal . ▁xxup ▁nomear ▁xxup ▁edson ▁xxup ▁duarte ▁para ▁exercer ▁o ▁xxmaj ▁cargo ▁de ▁xxmaj ▁natureza ▁xxmaj ▁especial , ▁xxmaj ▁símbolo ▁xxup ▁cne -01, ▁de ▁xxmaj ▁presidente , ▁do ▁xxmaj ▁instituto ▁do ▁xxmaj ▁meio ▁xxmaj ▁ambiente ▁e ▁dos ▁xxmaj ▁recursos ▁xxmaj ▁hídricos ▁do ▁xxmaj ▁distrito ▁xxmaj ▁federal ▁- ▁xxmaj ▁brasília ▁xxmaj ▁ambiental . ▁xxup ▁nomear ▁xxup ▁rob son ▁xxup ▁cândid o ▁para ▁exercer ▁o ▁xxmaj ▁cargo ▁de ▁xxmaj ▁natureza ▁xxmaj ▁política , ▁xxmaj ▁símbolo ▁xxup ▁cnp -03 , ▁de ▁xxmaj ▁diretor ▁xxmaj ▁geral , ▁da ▁xxmaj ▁polícia ▁xxmaj ▁civil ▁do ▁xxmaj ▁distrito ▁xxmaj ▁federal . ▁xxup ▁nomear ▁xxup ▁she yla ▁xxup ▁soares ▁xxup ▁sampaio ▁para ▁exercer ▁o ▁xxmaj ▁cargo ▁de ▁xxmaj ▁natureza ▁xxmaj ▁política , ▁xxmaj ▁símbolo ▁xxup ▁cnp - ▁03 , ▁de ▁xxmaj ▁comandante ▁xxmaj ▁geral , ▁da ▁xxmaj ▁polícia ▁xxmaj ▁militar ▁do ▁xxmaj ▁distrito ▁xxmaj ▁federal , ▁xxup ▁nomear ▁xxup ▁felix ▁xxup ▁palazzo ▁para ▁exercer ▁o ▁xxmaj ▁cargo ▁de ▁xxmaj ▁natureza ▁xxmaj ▁política , ▁xxmaj ▁símbolo ▁xxup ▁cnp -03 , ▁de ▁xxmaj ▁diretor ▁xxmaj ▁presidente , ▁do ▁xxmaj ▁serviço ▁de ▁xxmaj ▁limpeza ▁xxmaj ▁urbana ▁do ▁xxmaj ▁distrito ▁xxmaj ▁federal . ▁xxup ▁nomear ▁xxup ▁josia s ▁xxup ▁do ▁xxup ▁nascimento ▁xxup ▁seabra ▁para ▁exercer ▁o ▁xxmaj ▁cargo ▁de ▁xxmaj ▁natureza ▁xxmaj ▁especial , ▁xxmaj ▁símbolo ▁xxup ▁cne -01, ▁de ▁xxmaj ▁diretor ▁xxmaj ▁geral , ▁da ▁xxmaj ▁transporte ▁xxmaj ▁urbano ▁do ▁xxmaj ▁distrito ▁xxmaj ▁federal ▁- ▁xxup ▁dftrans . ▁xxup ▁nomear ▁xxup ▁cel ▁xxup ▁qo pp m c ▁xxup ▁júli o ▁xxup ▁césar ▁xxup ▁lima ▁xxup ▁de ▁xxup ▁oliveira ▁para ▁exercer ▁o ▁xxmaj ▁cargo ▁de ▁xxmaj ▁natureza ▁xxmaj ▁política , ▁xxmaj ▁símbolo ▁xxup ▁cnp -03 , ▁de ▁xxmaj ▁chefe , ▁da ▁xxmaj ▁casa ▁xxmaj ▁militar , ▁da ▁xxmaj ▁secretaria ▁de ▁xxmaj ▁estado ▁de ▁xxmaj ▁segurança ▁xxmaj ▁pública ▁do ▁xxmaj ▁distrito ▁xxmaj ▁federal . ▁xxup ▁nomear ▁xxup ▁george a no ▁xxup ▁tri gu eiro ▁para ▁exercer ▁o ▁xxmaj ▁cargo ▁de ▁xxmaj ▁natureza ▁xxmaj ▁política , ▁xxmaj ▁símbolo ▁xxup ▁cnp -03 , ▁de ▁xxmaj ▁diretor ▁xxmaj ▁presidente , ▁da ▁xxmaj ▁agência ▁de ▁xxmaj ▁fiscalização ▁do ▁xxmaj ▁distrito ▁xxmaj ▁federal ▁- ▁xxup ▁agefis ▁xxup ▁i b ane is ▁xxup ▁rocha,▁xxbos ▁o ▁xxup ▁diretor ▁xxup ▁de ▁xxup ▁inativos , ▁xxup ▁pensionistas ▁e ▁xxup ▁civis , ▁xxup ▁da ▁xxup ▁polícia ▁xxup ▁militar ▁xxup ▁do ▁xxup ▁distrito ▁xxup ▁federal , ▁no ▁uso ▁de ▁suas ▁atribuições ▁legais ▁e ▁ tendo ▁em ▁vista ▁a ▁competência ▁prevista ▁no ▁artigo ▁23 ▁do ▁xxmaj ▁decreto ▁no ▁7.165 , ▁de ▁29 ▁de ▁abri l ▁de ▁2010 ▁e ▁considerando ▁o ▁contido ▁no ▁processo ▁no ▁05 4. 00 3.25 1 ▁/ ▁2017. ▁resolve : ▁xxup ▁conceder , ▁na ▁forma ▁do ▁artigo ▁42, ▁§ ▁2 o , ▁da ▁xxmaj ▁constituição ▁xxmaj ▁federal ▁( redação ▁da da ▁pela ▁xxmaj ▁emenda ▁xxmaj ▁co nstitucional ▁no ▁41 ▁/ ▁2003) , ▁c ▁/ ▁c ▁o ▁artigo ▁37, ▁inciso ▁xxup ▁i ; ▁artigo ▁39, ▁§ ▁1 o ▁e ▁artigo ▁53, ▁da ▁xxmaj ▁lei ▁no ▁10.486 ▁/ ▁2002, ▁o ▁benefício ▁da ▁xxmaj ▁pensão ▁xxmaj ▁militar ▁ legado ▁pelo ▁3 o ▁xxmaj ▁sargento ▁xxup ▁pm ▁xxup ▁a de mar ▁xxup ▁farias ▁xxup ▁torres , ▁matrícula ▁n ° ▁12 .71 7 ▁/ ▁5 , ▁reforma do ▁com ▁proventos ▁integrais , ▁falecid o ▁em ▁30 ▁de ▁novembro ▁de ▁2018, ▁integral mente ▁para ▁xxup ▁mart a ▁xxup ▁sab ina ▁xxup ▁de ▁xxup ▁carvalho ▁xxup ▁torres , ▁vi úv a ▁do ▁instituidor , ▁a ▁contar ▁da ▁data ▁do ▁óbito . ▁xxup ▁eduard o ▁xxup ▁jos é ▁xxup ▁da ▁xxup ▁silva,▁xxbos ▁o ▁xxup ▁superintendente ▁xxup ▁de ▁xxup ▁operações , ▁xxup ▁do ▁xxup ▁departamento ▁xxup ▁de ▁xxup ▁estradas ▁xxup ▁de ▁xxup ▁rodagem ▁xxup ▁do ▁xxup ▁distrito ▁xxup ▁federal , ▁ usa ndo ▁das ▁atribuições ▁que ▁lhe ▁confere ▁o ▁xxmaj ▁regimento ▁xxmaj ▁interno ▁aprovado ▁pelo ▁xxmaj ▁decreto ▁no ▁37.949 , ▁artigo ▁78, ▁de ▁12 ▁/ ▁01 ▁/ ▁2017, ▁combinado ▁com ▁a ▁xxmaj ▁instrução ▁no ▁22 8 ▁de ▁08 ▁/ ▁11 ▁/ ▁2016, ▁resolve : ▁xxmaj ▁art . ▁1 o ▁xxmaj ▁designar ▁xxup ▁mo zer ▁xxup ▁teixeira ▁xxup ▁de ▁xxup ▁castro , ▁matrícula ▁no ▁183 . 7 36 -2 ▁como ▁executor ▁e ▁o ▁servidor ▁xxup ▁márci o ▁xxup ▁correa ▁xxup ▁soares , ▁matrícula ▁224 . 278 -2 ▁como ▁suplente , ▁do ▁xxmaj ▁contrato ▁no ▁05 9 ▁/ ▁2018, ▁objeto ▁do ▁processo ▁01 13 02 08 67 ▁/ ▁2017, ▁celebrado ▁com ▁a ▁empresa ▁xxup ▁ma q cente r ▁xxup ▁máquina s ▁xxup ▁para ▁xxup ▁construções ▁xxup ▁ltda . ▁xxmaj ▁art . ▁2 o ▁xxmaj ▁esta ▁xxmaj ▁ordem ▁de ▁xxmaj ▁serviço ▁entra ▁em ▁vigor ▁na ▁data ▁de ▁sua ▁publicação . ▁xxup ▁muril o ▁xxup ▁de ▁xxup ▁melo ▁xxup ▁santos\n",
       "y: CategoryList\n",
       "SECRETARIA DE ESTADO DE EDUCAÇÃO,SECRETARIA DE ESTADO DE SAÚDE,PODER EXECUTIVO,SECRETARIA DE ESTADO DE SEGURANÇA PÚBLICA,SECRETARIA DE ESTADO DE TRANSPORTE E MOBILIDADE\n",
       "Path: .;\n",
       "\n",
       "Test: None"
      ]
     },
     "execution_count": 13,
     "metadata": {},
     "output_type": "execute_result"
    }
   ],
   "source": [
    "docs"
   ]
  },
  {
   "cell_type": "code",
   "execution_count": 15,
   "metadata": {},
   "outputs": [],
   "source": [
    "X_train = [[docs.vocab.itos[o] for o in doc.data] for doc in docs.train_ds.x]"
   ]
  },
  {
   "cell_type": "code",
   "execution_count": 16,
   "metadata": {},
   "outputs": [
    {
     "data": {
      "text/plain": [
       "384"
      ]
     },
     "execution_count": 16,
     "metadata": {},
     "output_type": "execute_result"
    }
   ],
   "source": [
    "len(X_train)"
   ]
  },
  {
   "cell_type": "code",
   "execution_count": 17,
   "metadata": {},
   "outputs": [],
   "source": [
    "X_valid = [[docs.vocab.itos[o] for o in doc.data] for doc in docs.valid_ds.x]"
   ]
  },
  {
   "cell_type": "code",
   "execution_count": 19,
   "metadata": {},
   "outputs": [
    {
     "data": {
      "text/plain": [
       "array([11, 15, 15, 15, ..., 15,  8, 15, 14])"
      ]
     },
     "execution_count": 19,
     "metadata": {},
     "output_type": "execute_result"
    }
   ],
   "source": [
    "y_train = docs.train_ds.y.items; y_train"
   ]
  },
  {
   "cell_type": "code",
   "execution_count": 20,
   "metadata": {},
   "outputs": [
    {
     "data": {
      "text/plain": [
       "384"
      ]
     },
     "execution_count": 20,
     "metadata": {},
     "output_type": "execute_result"
    }
   ],
   "source": [
    "len(y_train)"
   ]
  },
  {
   "cell_type": "code",
   "execution_count": 22,
   "metadata": {},
   "outputs": [],
   "source": [
    "y_valid = docs.valid_ds.y.items"
   ]
  },
  {
   "cell_type": "code",
   "execution_count": 23,
   "metadata": {
    "scrolled": true
   },
   "outputs": [
    {
     "data": {
      "text/plain": [
       "(384, (384,), 96, (96,))"
      ]
     },
     "execution_count": 23,
     "metadata": {},
     "output_type": "execute_result"
    }
   ],
   "source": [
    "len(X_train), y_train.shape, len(X_valid), y_valid.shape"
   ]
  },
  {
   "cell_type": "code",
   "execution_count": 24,
   "metadata": {},
   "outputs": [
    {
     "data": {
      "text/plain": [
       "(480,)"
      ]
     },
     "execution_count": 24,
     "metadata": {},
     "output_type": "execute_result"
    }
   ],
   "source": [
    "X_train_val = np.concatenate([X_train, X_valid]); X_train_val.shape"
   ]
  },
  {
   "cell_type": "code",
   "execution_count": 26,
   "metadata": {},
   "outputs": [
    {
     "data": {
      "text/plain": [
       "(480,)"
      ]
     },
     "execution_count": 26,
     "metadata": {},
     "output_type": "execute_result"
    }
   ],
   "source": [
    "y_train_val = np.concatenate([y_train, y_valid]); y_train_val.shape"
   ]
  },
  {
   "cell_type": "code",
   "execution_count": 31,
   "metadata": {},
   "outputs": [
    {
     "data": {
      "text/plain": [
       "(480,)"
      ]
     },
     "execution_count": 31,
     "metadata": {},
     "output_type": "execute_result"
    }
   ],
   "source": [
    "valid_fold = np.array([-1]*len(X_train) + [0]*len(X_valid));  valid_fold.shape"
   ]
  },
  {
   "cell_type": "code",
   "execution_count": 53,
   "metadata": {},
   "outputs": [],
   "source": [
    "ps = PredefinedSplit(valid_fold)"
   ]
  },
  {
   "cell_type": "code",
   "execution_count": 32,
   "metadata": {},
   "outputs": [],
   "source": [
    "docs_test = load_data(path/\"data\", \"test_data.pkl\")"
   ]
  },
  {
   "cell_type": "code",
   "execution_count": 38,
   "metadata": {},
   "outputs": [],
   "source": [
    "X_test = [[docs_test.vocab.itos[o] for o in doc.data] for doc in docs_test.train_ds.x]"
   ]
  },
  {
   "cell_type": "code",
   "execution_count": 39,
   "metadata": {},
   "outputs": [
    {
     "data": {
      "text/plain": [
       "237"
      ]
     },
     "execution_count": 39,
     "metadata": {},
     "output_type": "execute_result"
    }
   ],
   "source": [
    "len(X_test)"
   ]
  },
  {
   "cell_type": "code",
   "execution_count": 40,
   "metadata": {},
   "outputs": [
    {
     "data": {
      "text/plain": [
       "array([ 0, 15, 16, 14, ...,  7, 15, 15, 14])"
      ]
     },
     "execution_count": 40,
     "metadata": {},
     "output_type": "execute_result"
    }
   ],
   "source": [
    "y_test = docs_test.train_ds.y.items; y_test"
   ]
  },
  {
   "cell_type": "code",
   "execution_count": 41,
   "metadata": {},
   "outputs": [
    {
     "data": {
      "text/plain": [
       "(237, (237,))"
      ]
     },
     "execution_count": 41,
     "metadata": {},
     "output_type": "execute_result"
    }
   ],
   "source": [
    "len(X_test), y_test.shape"
   ]
  },
  {
   "cell_type": "code",
   "execution_count": 42,
   "metadata": {},
   "outputs": [],
   "source": [
    "pipe_nb_count = Pipeline((\n",
    "    (\"vectorizer\", CountVectorizer(ngram_range=(1,3), preprocessor=noop, tokenizer=noop)),\n",
    "    (\"clf\", MultinomialNB(alpha=0.001, fit_prior=True))\n",
    "))\n",
    "\n",
    "pipe_nb_tfidf = Pipeline((\n",
    "    (\"vectorizer\", TfidfVectorizer(ngram_range=(1,3), preprocessor=noop, tokenizer=noop)),\n",
    "    (\"clf\", MultinomialNB(alpha=0.001, fit_prior=True))\n",
    "))\n",
    "\n",
    "pipe_svc_count = Pipeline((\n",
    "    (\"vectorizer\", CountVectorizer(ngram_range=(1,3), preprocessor=noop, tokenizer=noop)),\n",
    "    (\"clf\", LinearSVC(verbose=2, class_weight=\"balanced\"))\n",
    "))\n",
    "    \n",
    "pipe_svc_tfidf = Pipeline((\n",
    "    (\"vectorizer\", TfidfVectorizer(ngram_range=(1,3), preprocessor=noop, tokenizer=noop)),\n",
    "    (\"clf\", LinearSVC(verbose=2, class_weight=\"balanced\"))\n",
    "))"
   ]
  },
  {
   "cell_type": "code",
   "execution_count": 43,
   "metadata": {},
   "outputs": [],
   "source": [
    "veczr_params = {\n",
    "    \"vectorizer__ngram_range\": [(1, 1), (1, 2), (1, 3)],\n",
    "    \"vectorizer__max_df\": [0.5, 0.8, 1.],\n",
    "    \"vectorizer__min_df\": [1, 2, 3],\n",
    "    \"vectorizer__max_features\": [800000],    \n",
    "}\n",
    "\n",
    "nb_params = {\n",
    "    \"clf__alpha\": [0.0001, 0.0003, 0.001, 0.003, 0.01, 0.03, 0.1, 0.3, 1],\n",
    "    \"clf__fit_prior\": [True, False]\n",
    "}\n",
    "\n",
    "nb_params.update(veczr_params)\n",
    "\n",
    "svc_params = {\n",
    "    \"clf__penalty\": [\"l2\"],\n",
    "    \"clf__C\": [0.001, 0.003, 0.01, 0.03, 0.1, 0.3, 1, 3, 10],\n",
    "    \"clf__class_weight\": [\"balanced\", None]\n",
    "}\n",
    "\n",
    "svc_params.update(veczr_params)"
   ]
  },
  {
   "cell_type": "code",
   "execution_count": 54,
   "metadata": {},
   "outputs": [],
   "source": [
    "svc_count_search = RandomizedSearchCV(pipe_svc_count, param_distributions=svc_params, scoring=\"f1_weighted\",\n",
    "                                      n_iter=100, n_jobs=-2, iid=False, refit=True,\n",
    "                                      verbose=2, random_state=42, cv=ps)\n",
    "\n",
    "svc_tfidf_search = RandomizedSearchCV(pipe_svc_tfidf, param_distributions=svc_params, scoring=\"f1_weighted\",\n",
    "                                      n_iter=100, n_jobs=-2, iid=False, refit=True,\n",
    "                                      verbose=2, random_state=42, cv=ps)\n",
    "\n",
    "\n",
    "nb_count_search  = RandomizedSearchCV(pipe_nb_count, param_distributions=nb_params, scoring=\"f1_weighted\",\n",
    "                                      n_iter=100, n_jobs=-2, iid=False, refit=True,\n",
    "                                      verbose=2, random_state=42, cv=ps)\n",
    "\n",
    "nb_tfidf_search  = RandomizedSearchCV(pipe_nb_tfidf, param_distributions=nb_params, scoring=\"f1_weighted\",\n",
    "                                      n_iter=100, n_jobs=-2, iid=False, refit=True,\n",
    "                                      verbose=2, random_state=42, cv=ps)"
   ]
  },
  {
   "cell_type": "code",
   "execution_count": 55,
   "metadata": {},
   "outputs": [
    {
     "name": "stdout",
     "output_type": "stream",
     "text": [
      "Fitting 1 folds for each of 100 candidates, totalling 100 fits\n"
     ]
    },
    {
     "name": "stderr",
     "output_type": "stream",
     "text": [
      "[Parallel(n_jobs=-2)]: Using backend LokyBackend with 7 concurrent workers.\n",
      "[Parallel(n_jobs=-2)]: Done  27 tasks      | elapsed:    6.5s\n",
      "[Parallel(n_jobs=-2)]: Done 100 out of 100 | elapsed:   29.9s finished\n"
     ]
    },
    {
     "name": "stdout",
     "output_type": "stream",
     "text": [
      "[LibLinear]"
     ]
    },
    {
     "data": {
      "text/plain": [
       "RandomizedSearchCV(cv=PredefinedSplit(test_fold=array([-1, -1, ...,  0,  0])),\n",
       "          error_score='raise-deprecating',\n",
       "          estimator=Pipeline(memory=None,\n",
       "     steps=(('vectorizer', CountVectorizer(analyzer='word', binary=False, decode_error='strict',\n",
       "        dtype=<class 'numpy.int64'>, encoding='utf-8', input='content',\n",
       "        lowercase=True, max_df=1.0, max_features=None, min_df=1,\n",
       "        ngram_range=(1, 3), preprocessor=<function noop at 0x7f88e556da...ax_iter=1000,\n",
       "     multi_class='ovr', penalty='l2', random_state=None, tol=0.0001,\n",
       "     verbose=2)))),\n",
       "          fit_params=None, iid=False, n_iter=100, n_jobs=-2,\n",
       "          param_distributions={'clf__penalty': ['l2'], 'clf__C': [0.001, 0.003, 0.01, 0.03, 0.1, 0.3, 1, 3, 10], 'clf__class_weight': ['balanced', None], 'vectorizer__ngram_range': [(1, 1), (1, 2), (1, 3)], 'vectorizer__max_df': [0.5, 0.8, 1.0], 'vectorizer__min_df': [1, 2, 3], 'vectorizer__max_features': [800000]},\n",
       "          pre_dispatch='2*n_jobs', random_state=42, refit=True,\n",
       "          return_train_score='warn', scoring='f1_weighted', verbose=2)"
      ]
     },
     "execution_count": 55,
     "metadata": {},
     "output_type": "execute_result"
    }
   ],
   "source": [
    "svc_count_search.fit(X_train_val, y_train_val)"
   ]
  },
  {
   "cell_type": "code",
   "execution_count": 56,
   "metadata": {},
   "outputs": [
    {
     "name": "stdout",
     "output_type": "stream",
     "text": [
      "Fitting 1 folds for each of 100 candidates, totalling 100 fits\n"
     ]
    },
    {
     "name": "stderr",
     "output_type": "stream",
     "text": [
      "[Parallel(n_jobs=-2)]: Using backend LokyBackend with 7 concurrent workers.\n",
      "[Parallel(n_jobs=-2)]: Done  27 tasks      | elapsed:    6.5s\n"
     ]
    },
    {
     "name": "stdout",
     "output_type": "stream",
     "text": [
      "[LibLinear]"
     ]
    },
    {
     "name": "stderr",
     "output_type": "stream",
     "text": [
      "[Parallel(n_jobs=-2)]: Done 100 out of 100 | elapsed:   29.5s finished\n"
     ]
    },
    {
     "data": {
      "text/plain": [
       "RandomizedSearchCV(cv=PredefinedSplit(test_fold=array([-1, -1, ...,  0,  0])),\n",
       "          error_score='raise-deprecating',\n",
       "          estimator=Pipeline(memory=None,\n",
       "     steps=(('vectorizer', TfidfVectorizer(analyzer='word', binary=False, decode_error='strict',\n",
       "        dtype=<class 'numpy.float64'>, encoding='utf-8', input='content',\n",
       "        lowercase=True, max_df=1.0, max_features=None, min_df=1,\n",
       "        ngram_range=(1, 3), norm='l2',\n",
       "        preprocessor=<function...ax_iter=1000,\n",
       "     multi_class='ovr', penalty='l2', random_state=None, tol=0.0001,\n",
       "     verbose=2)))),\n",
       "          fit_params=None, iid=False, n_iter=100, n_jobs=-2,\n",
       "          param_distributions={'clf__penalty': ['l2'], 'clf__C': [0.001, 0.003, 0.01, 0.03, 0.1, 0.3, 1, 3, 10], 'clf__class_weight': ['balanced', None], 'vectorizer__ngram_range': [(1, 1), (1, 2), (1, 3)], 'vectorizer__max_df': [0.5, 0.8, 1.0], 'vectorizer__min_df': [1, 2, 3], 'vectorizer__max_features': [800000]},\n",
       "          pre_dispatch='2*n_jobs', random_state=42, refit=True,\n",
       "          return_train_score='warn', scoring='f1_weighted', verbose=2)"
      ]
     },
     "execution_count": 56,
     "metadata": {},
     "output_type": "execute_result"
    }
   ],
   "source": [
    "svc_tfidf_search.fit(X_train_val, y_train_val)"
   ]
  },
  {
   "cell_type": "code",
   "execution_count": 57,
   "metadata": {},
   "outputs": [
    {
     "name": "stdout",
     "output_type": "stream",
     "text": [
      "Fitting 1 folds for each of 100 candidates, totalling 100 fits\n"
     ]
    },
    {
     "name": "stderr",
     "output_type": "stream",
     "text": [
      "[Parallel(n_jobs=-2)]: Using backend LokyBackend with 7 concurrent workers.\n",
      "[Parallel(n_jobs=-2)]: Done  27 tasks      | elapsed:    5.5s\n",
      "[Parallel(n_jobs=-2)]: Done 100 out of 100 | elapsed:   24.0s finished\n"
     ]
    },
    {
     "data": {
      "text/plain": [
       "RandomizedSearchCV(cv=PredefinedSplit(test_fold=array([-1, -1, ...,  0,  0])),\n",
       "          error_score='raise-deprecating',\n",
       "          estimator=Pipeline(memory=None,\n",
       "     steps=(('vectorizer', CountVectorizer(analyzer='word', binary=False, decode_error='strict',\n",
       "        dtype=<class 'numpy.int64'>, encoding='utf-8', input='content',\n",
       "        lowercase=True, max_df=1.0, max_features=None, min_df=1,\n",
       "        ngram_range=(1, 3), preprocessor=<function noop at 0x7f88e556da...e556da70>, vocabulary=None)), ('clf', MultinomialNB(alpha=0.001, class_prior=None, fit_prior=True)))),\n",
       "          fit_params=None, iid=False, n_iter=100, n_jobs=-2,\n",
       "          param_distributions={'clf__alpha': [0.0001, 0.0003, 0.001, 0.003, 0.01, 0.03, 0.1, 0.3, 1], 'clf__fit_prior': [True, False], 'vectorizer__ngram_range': [(1, 1), (1, 2), (1, 3)], 'vectorizer__max_df': [0.5, 0.8, 1.0], 'vectorizer__min_df': [1, 2, 3], 'vectorizer__max_features': [800000]},\n",
       "          pre_dispatch='2*n_jobs', random_state=42, refit=True,\n",
       "          return_train_score='warn', scoring='f1_weighted', verbose=2)"
      ]
     },
     "execution_count": 57,
     "metadata": {},
     "output_type": "execute_result"
    }
   ],
   "source": [
    "nb_count_search.fit(X_train_val, y_train_val)"
   ]
  },
  {
   "cell_type": "code",
   "execution_count": 58,
   "metadata": {},
   "outputs": [
    {
     "name": "stdout",
     "output_type": "stream",
     "text": [
      "Fitting 1 folds for each of 100 candidates, totalling 100 fits\n"
     ]
    },
    {
     "name": "stderr",
     "output_type": "stream",
     "text": [
      "[Parallel(n_jobs=-2)]: Using backend LokyBackend with 7 concurrent workers.\n",
      "[Parallel(n_jobs=-2)]: Done  27 tasks      | elapsed:    5.6s\n",
      "[Parallel(n_jobs=-2)]: Done 100 out of 100 | elapsed:   24.4s finished\n"
     ]
    },
    {
     "data": {
      "text/plain": [
       "RandomizedSearchCV(cv=PredefinedSplit(test_fold=array([-1, -1, ...,  0,  0])),\n",
       "          error_score='raise-deprecating',\n",
       "          estimator=Pipeline(memory=None,\n",
       "     steps=(('vectorizer', TfidfVectorizer(analyzer='word', binary=False, decode_error='strict',\n",
       "        dtype=<class 'numpy.float64'>, encoding='utf-8', input='content',\n",
       "        lowercase=True, max_df=1.0, max_features=None, min_df=1,\n",
       "        ngram_range=(1, 3), norm='l2',\n",
       "        preprocessor=<function...e,\n",
       "        vocabulary=None)), ('clf', MultinomialNB(alpha=0.001, class_prior=None, fit_prior=True)))),\n",
       "          fit_params=None, iid=False, n_iter=100, n_jobs=-2,\n",
       "          param_distributions={'clf__alpha': [0.0001, 0.0003, 0.001, 0.003, 0.01, 0.03, 0.1, 0.3, 1], 'clf__fit_prior': [True, False], 'vectorizer__ngram_range': [(1, 1), (1, 2), (1, 3)], 'vectorizer__max_df': [0.5, 0.8, 1.0], 'vectorizer__min_df': [1, 2, 3], 'vectorizer__max_features': [800000]},\n",
       "          pre_dispatch='2*n_jobs', random_state=42, refit=True,\n",
       "          return_train_score='warn', scoring='f1_weighted', verbose=2)"
      ]
     },
     "execution_count": 58,
     "metadata": {},
     "output_type": "execute_result"
    }
   ],
   "source": [
    "nb_tfidf_search.fit(X_train_val, y_train_val)"
   ]
  },
  {
   "cell_type": "code",
   "execution_count": 59,
   "metadata": {},
   "outputs": [],
   "source": [
    "def save_model(model, name):\n",
    "    pickle.dump(model, open(f'./models/{name}.pkl', \"wb\"))"
   ]
  },
  {
   "cell_type": "code",
   "execution_count": 60,
   "metadata": {},
   "outputs": [
    {
     "data": {
      "text/plain": [
       "(0.9066622062261599,\n",
       " 0.9164970527506396,\n",
       " 0.8871132157316369,\n",
       " 0.8962854818424743)"
      ]
     },
     "execution_count": 60,
     "metadata": {},
     "output_type": "execute_result"
    }
   ],
   "source": [
    "svc_count_search.best_score_, svc_tfidf_search.best_score_, nb_count_search.best_score_, nb_tfidf_search.best_score_"
   ]
  },
  {
   "cell_type": "code",
   "execution_count": 61,
   "metadata": {},
   "outputs": [
    {
     "data": {
      "text/plain": [
       "(None, None)"
      ]
     },
     "execution_count": 61,
     "metadata": {},
     "output_type": "execute_result"
    }
   ],
   "source": [
    "save_model(svc_tfidf_search.best_estimator_, \"svc\"), save_model(nb_tfidf_search.best_estimator_, \"nb\")"
   ]
  },
  {
   "cell_type": "code",
   "execution_count": 62,
   "metadata": {},
   "outputs": [
    {
     "data": {
      "text/plain": [
       "({'vectorizer__ngram_range': (1, 1),\n",
       "  'vectorizer__min_df': 1,\n",
       "  'vectorizer__max_features': 800000,\n",
       "  'vectorizer__max_df': 0.8,\n",
       "  'clf__penalty': 'l2',\n",
       "  'clf__class_weight': 'balanced',\n",
       "  'clf__C': 1},\n",
       " {'vectorizer__ngram_range': (1, 3),\n",
       "  'vectorizer__min_df': 1,\n",
       "  'vectorizer__max_features': 800000,\n",
       "  'vectorizer__max_df': 1.0,\n",
       "  'clf__fit_prior': False,\n",
       "  'clf__alpha': 0.0003})"
      ]
     },
     "execution_count": 62,
     "metadata": {},
     "output_type": "execute_result"
    }
   ],
   "source": [
    "svc_tfidf_search.best_params_, nb_tfidf_search.best_params_"
   ]
  },
  {
   "cell_type": "code",
   "execution_count": 64,
   "metadata": {},
   "outputs": [],
   "source": [
    "target_names= docs.train_ds.y.classes"
   ]
  },
  {
   "cell_type": "code",
   "execution_count": 65,
   "metadata": {},
   "outputs": [
    {
     "name": "stdout",
     "output_type": "stream",
     "text": [
      "                                                                                   precision    recall  f1-score   support\n",
      "\n",
      "                                                                       CASA CIVIL     0.7647    0.7222    0.7429        18\n",
      "                                          CONTROLADORIA GERAL DO DISTRITO FEDERAL     0.6667    1.0000    0.8000         2\n",
      "                                           DEFENSORIA PÚBLICA DO DISTRITO FEDERAL     1.0000    1.0000    1.0000         8\n",
      "                                                                  PODER EXECUTIVO     0.7500    0.9000    0.8182        10\n",
      "                                                                PODER LEGISLATIVO     1.0000    1.0000    1.0000         1\n",
      "       SECRETARIA DE ESTADO DE AGRICULTURA, ABASTECIMENTO E DESENVOLVIMENTO RURAL     0.7500    0.7500    0.7500         4\n",
      "                                                  SECRETARIA DE ESTADO DE CULTURA     1.0000    0.8462    0.9167        13\n",
      "                                SECRETARIA DE ESTADO DE DESENVOLVIMENTO ECONÔMICO     1.0000    0.5000    0.6667         4\n",
      "                       SECRETARIA DE ESTADO DE DESENVOLVIMENTO URBANO E HABITAÇÃO     1.0000    0.7500    0.8571         4\n",
      "SECRETARIA DE ESTADO DE ECONOMIA, DESENVOLVIMENTO, INOVAÇÃO, CIÊNCIA E TECNOLOGIA     1.0000    1.0000    1.0000         1\n",
      "                                                 SECRETARIA DE ESTADO DE EDUCAÇÃO     0.8182    0.6923    0.7500        13\n",
      "                SECRETARIA DE ESTADO DE FAZENDA, PLANEJAMENTO, ORÇAMENTO E GESTÃO     0.8636    0.9048    0.8837        21\n",
      "                                      SECRETARIA DE ESTADO DE JUSTIÇA E CIDADANIA     1.0000    0.6000    0.7500         5\n",
      "                                   SECRETARIA DE ESTADO DE OBRAS E INFRAESTRUTURA     0.8824    0.8333    0.8571        18\n",
      "                                                    SECRETARIA DE ESTADO DE SAÚDE     0.9118    0.9688    0.9394        32\n",
      "                                        SECRETARIA DE ESTADO DE SEGURANÇA PÚBLICA     0.9091    1.0000    0.9524        50\n",
      "                                  SECRETARIA DE ESTADO DE TRANSPORTE E MOBILIDADE     0.9500    0.9500    0.9500        20\n",
      "                                            SECRETARIA DE ESTADO DO MEIO AMBIENTE     1.0000    1.0000    1.0000         2\n",
      "                                           TRIBUNAL DE CONTAS DO DISTRITO FEDERAL     1.0000    1.0000    1.0000        11\n",
      "\n",
      "                                                                        micro avg     0.8945    0.8945    0.8945       237\n",
      "                                                                        macro avg     0.9088    0.8641    0.8755       237\n",
      "                                                                     weighted avg     0.8982    0.8945    0.8917       237\n",
      "\n",
      "0.8945147679324894\n"
     ]
    }
   ],
   "source": [
    "preds = svc_tfidf_search.predict(X_test)\n",
    "print(classification_report(y_test, preds, target_names=target_names, digits=4))\n",
    "print(accuracy_score(y_test, preds))"
   ]
  },
  {
   "cell_type": "code",
   "execution_count": 66,
   "metadata": {},
   "outputs": [
    {
     "name": "stdout",
     "output_type": "stream",
     "text": [
      "                                                                                   precision    recall  f1-score   support\n",
      "\n",
      "                                                                       CASA CIVIL     0.7222    0.7222    0.7222        18\n",
      "                                          CONTROLADORIA GERAL DO DISTRITO FEDERAL     0.6667    1.0000    0.8000         2\n",
      "                                           DEFENSORIA PÚBLICA DO DISTRITO FEDERAL     1.0000    1.0000    1.0000         8\n",
      "                                                                  PODER EXECUTIVO     0.6667    1.0000    0.8000        10\n",
      "                                                                PODER LEGISLATIVO     0.2500    1.0000    0.4000         1\n",
      "       SECRETARIA DE ESTADO DE AGRICULTURA, ABASTECIMENTO E DESENVOLVIMENTO RURAL     0.3333    0.2500    0.2857         4\n",
      "                                                  SECRETARIA DE ESTADO DE CULTURA     1.0000    0.8462    0.9167        13\n",
      "                                SECRETARIA DE ESTADO DE DESENVOLVIMENTO ECONÔMICO     1.0000    0.5000    0.6667         4\n",
      "                       SECRETARIA DE ESTADO DE DESENVOLVIMENTO URBANO E HABITAÇÃO     0.7500    0.7500    0.7500         4\n",
      "SECRETARIA DE ESTADO DE ECONOMIA, DESENVOLVIMENTO, INOVAÇÃO, CIÊNCIA E TECNOLOGIA     1.0000    1.0000    1.0000         1\n",
      "                                                 SECRETARIA DE ESTADO DE EDUCAÇÃO     1.0000    0.5385    0.7000        13\n",
      "                SECRETARIA DE ESTADO DE FAZENDA, PLANEJAMENTO, ORÇAMENTO E GESTÃO     0.8571    0.8571    0.8571        21\n",
      "                                      SECRETARIA DE ESTADO DE JUSTIÇA E CIDADANIA     0.8000    0.8000    0.8000         5\n",
      "                                   SECRETARIA DE ESTADO DE OBRAS E INFRAESTRUTURA     0.9333    0.7778    0.8485        18\n",
      "                                                    SECRETARIA DE ESTADO DE SAÚDE     0.8421    1.0000    0.9143        32\n",
      "                                        SECRETARIA DE ESTADO DE SEGURANÇA PÚBLICA     0.9608    0.9800    0.9703        50\n",
      "                                  SECRETARIA DE ESTADO DE TRANSPORTE E MOBILIDADE     1.0000    0.8500    0.9189        20\n",
      "                                            SECRETARIA DE ESTADO DO MEIO AMBIENTE     0.6667    1.0000    0.8000         2\n",
      "                                           TRIBUNAL DE CONTAS DO DISTRITO FEDERAL     1.0000    1.0000    1.0000        11\n",
      "\n",
      "                                                                        micro avg     0.8692    0.8692    0.8692       237\n",
      "                                                                        macro avg     0.8131    0.8354    0.7974       237\n",
      "                                                                     weighted avg     0.8890    0.8692    0.8686       237\n",
      "\n",
      "0.869198312236287\n"
     ]
    }
   ],
   "source": [
    "preds = nb_tfidf_search.predict(X_test)\n",
    "print(classification_report(y_test, preds, target_names=target_names, digits=4))\n",
    "print(accuracy_score(y_test, preds))"
   ]
  },
  {
   "cell_type": "code",
   "execution_count": null,
   "metadata": {},
   "outputs": [],
   "source": []
  }
 ],
 "metadata": {
  "kernelspec": {
   "display_name": "Python 3",
   "language": "python",
   "name": "python3"
  },
  "language_info": {
   "codemirror_mode": {
    "name": "ipython",
    "version": 3
   },
   "file_extension": ".py",
   "mimetype": "text/x-python",
   "name": "python",
   "nbconvert_exporter": "python",
   "pygments_lexer": "ipython3",
   "version": "3.7.4"
  }
 },
 "nbformat": 4,
 "nbformat_minor": 2
}
